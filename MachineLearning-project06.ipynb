{
 "cells": [
  {
   "cell_type": "markdown",
   "metadata": {},
   "source": [
    "# Predicting Optimal Mobile Plan for Subscribers using Behavior Data"
   ]
  },
  {
   "cell_type": "markdown",
   "metadata": {},
   "source": [
    "<b>Introduction:</b>\n",
    "    \n",
    "In this project, we aim to build a predictive model that recommends an optimal mobile plan (either \"Smart\" or \"Ultra\") for Megaline's subscribers based on their monthly behavior data. The dataset provided includes information on calls, text messages, internet traffic, and the current plan for each user. The goal is to develop a model that can accurately predict whether a subscriber should switch to the \"Ultra\" plan or remain on the \"Smart\" plan, with a threshold accuracy of 0.75."
   ]
  },
  {
   "cell_type": "code",
   "execution_count": 1,
   "metadata": {},
   "outputs": [],
   "source": [
    "import pandas as pd\n",
    "from sklearn.model_selection import train_test_split\n",
    "from sklearn.ensemble import RandomForestClassifier\n",
    "from sklearn.metrics import accuracy_score\n",
    "from sklearn.model_selection import GridSearchCV\n",
    "\n"
   ]
  },
  {
   "cell_type": "markdown",
   "metadata": {},
   "source": [
    "# Data Exploration"
   ]
  },
  {
   "cell_type": "code",
   "execution_count": 2,
   "metadata": {},
   "outputs": [
    {
     "name": "stdout",
     "output_type": "stream",
     "text": [
      "   calls  minutes  messages   mb_used  is_ultra\n",
      "0   40.0   311.90      83.0  19915.42         0\n",
      "1   85.0   516.75      56.0  22696.96         0\n",
      "2   77.0   467.66      86.0  21060.45         0\n",
      "3  106.0   745.53      81.0   8437.39         1\n",
      "4   66.0   418.74       1.0  14502.75         0\n",
      "<class 'pandas.core.frame.DataFrame'>\n",
      "RangeIndex: 3214 entries, 0 to 3213\n",
      "Data columns (total 5 columns):\n",
      " #   Column    Non-Null Count  Dtype  \n",
      "---  ------    --------------  -----  \n",
      " 0   calls     3214 non-null   float64\n",
      " 1   minutes   3214 non-null   float64\n",
      " 2   messages  3214 non-null   float64\n",
      " 3   mb_used   3214 non-null   float64\n",
      " 4   is_ultra  3214 non-null   int64  \n",
      "dtypes: float64(4), int64(1)\n",
      "memory usage: 125.7 KB\n",
      "None\n",
      "             calls      minutes     messages       mb_used     is_ultra\n",
      "count  3214.000000  3214.000000  3214.000000   3214.000000  3214.000000\n",
      "mean     63.038892   438.208787    38.281269  17207.673836     0.306472\n",
      "std      33.236368   234.569872    36.148326   7570.968246     0.461100\n",
      "min       0.000000     0.000000     0.000000      0.000000     0.000000\n",
      "25%      40.000000   274.575000     9.000000  12491.902500     0.000000\n",
      "50%      62.000000   430.600000    30.000000  16943.235000     0.000000\n",
      "75%      82.000000   571.927500    57.000000  21424.700000     1.000000\n",
      "max     244.000000  1632.060000   224.000000  49745.730000     1.000000\n"
     ]
    }
   ],
   "source": [
    "\n",
    "# Load the dataset\n",
    "data = pd.read_csv(\"/datasets/users_behavior.csv\")\n",
    "\n",
    "# Display the first few rows of the dataset\n",
    "print(data.head())\n",
    "\n",
    "# Check the data types and missing values\n",
    "print(data.info())\n",
    "\n",
    "# Statistical summary of the dataset\n",
    "print(data.describe())\n",
    "\n"
   ]
  },
  {
   "cell_type": "markdown",
   "metadata": {},
   "source": [
    "Intermediate Conclusion:\n",
    "\n",
    "Examine the dataset to confirm the presence of columns: calls, minutes, messages, mb_used, and is_ultra. Check for any missing or anomalous values and understand the distribution of features and target variable."
   ]
  },
  {
   "cell_type": "markdown",
   "metadata": {},
   "source": [
    "# Data Splitting"
   ]
  },
  {
   "cell_type": "code",
   "execution_count": 3,
   "metadata": {},
   "outputs": [],
   "source": [
    "\n",
    "# Split the data into features and target\n",
    "X = data.drop('is_ultra', axis=1)\n",
    "y = data['is_ultra']\n",
    "\n",
    "# Split into training + validation and test sets\n",
    "X_train_valid, X_test, y_train_valid, y_test = train_test_split(X, y, test_size=0.2, random_state=42)\n",
    "\n",
    "# Further split the training + validation set into training and validation sets\n",
    "X_train, X_valid, y_train, y_valid = train_test_split(X_train_valid, y_train_valid, test_size=0.25, random_state=42)\n"
   ]
  },
  {
   "cell_type": "markdown",
   "metadata": {},
   "source": [
    "# Model Training and Hyperparameter Tuning"
   ]
  },
  {
   "cell_type": "code",
   "execution_count": 4,
   "metadata": {},
   "outputs": [
    {
     "name": "stdout",
     "output_type": "stream",
     "text": [
      "Validation Accuracy: 0.8087091757387247\n"
     ]
    }
   ],
   "source": [
    "\n",
    "# Define the model\n",
    "rf = RandomForestClassifier(random_state=42)\n",
    "\n",
    "# Define the hyperparameters to tune\n",
    "param_grid = {\n",
    "    'n_estimators': [50, 100, 200],\n",
    "    'max_depth': [None, 10, 20, 30],\n",
    "    'min_samples_split': [2, 5, 10]\n",
    "}\n",
    "\n",
    "# Perform Grid Search\n",
    "grid_search = GridSearchCV(estimator=rf, param_grid=param_grid, cv=3, scoring='accuracy')\n",
    "grid_search.fit(X_train, y_train)\n",
    "\n",
    "# Get the best model\n",
    "best_rf = grid_search.best_estimator_\n",
    "\n",
    "# Evaluate on the validation set\n",
    "y_pred_valid = best_rf.predict(X_valid)\n",
    "print(f'Validation Accuracy: {accuracy_score(y_valid, y_pred_valid)}')\n"
   ]
  },
  {
   "cell_type": "markdown",
   "metadata": {},
   "source": [
    "Intermediate Conclusion:\n",
    "\n",
    "The Random Forest model with tuned hyperparameters performed well on the validation set, achieving an accuracy of 80.87%. This exceeds the project’s accuracy threshold of 75%, indicating that the model is capable of making reliable predictions."
   ]
  },
  {
   "cell_type": "markdown",
   "metadata": {},
   "source": [
    "# Model Evaluation on Test Set"
   ]
  },
  {
   "cell_type": "code",
   "execution_count": 5,
   "metadata": {},
   "outputs": [
    {
     "name": "stdout",
     "output_type": "stream",
     "text": [
      "Test Accuracy: 0.8118195956454122\n"
     ]
    }
   ],
   "source": [
    "# Evaluate on the test set\n",
    "y_pred_test = best_rf.predict(X_test)\n",
    "test_accuracy = accuracy_score(y_test, y_pred_test)\n",
    "print(f'Test Accuracy: {test_accuracy}')\n"
   ]
  },
  {
   "cell_type": "markdown",
   "metadata": {},
   "source": [
    "Results:\n",
    "\n",
    "Test Accuracy: The model achieved an accuracy of approximately 81.18% on the test set.\n",
    "\n",
    "Intermediate Conclusion:\n",
    "\n",
    "Performance Consistency: The test accuracy is close to the validation accuracy, indicating that the model generalizes well to new, unseen data. This suggests that the model is robust and not overfitting to the training or validation data.\n",
    "\n",
    "Threshold Achievement: The test accuracy comfortably exceeds the project's accuracy threshold of 75%, validating the effectiveness of our model in predicting the optimal mobile plan for subscribers."
   ]
  },
  {
   "cell_type": "markdown",
   "metadata": {},
   "source": [
    "# Sanity Check and Final Assessment"
   ]
  },
  {
   "cell_type": "code",
   "execution_count": 6,
   "metadata": {},
   "outputs": [
    {
     "name": "stdout",
     "output_type": "stream",
     "text": [
      "mb_used     0.322994\n",
      "calls       0.242669\n",
      "minutes     0.240264\n",
      "messages    0.194073\n",
      "dtype: float64\n"
     ]
    }
   ],
   "source": [
    "# Feature importance for Random Forest\n",
    "importances = best_rf.feature_importances_\n",
    "feature_names = X.columns\n",
    "feature_importance = pd.Series(importances, index=feature_names).sort_values(ascending=False)\n",
    "print(feature_importance)\n"
   ]
  },
  {
   "cell_type": "markdown",
   "metadata": {},
   "source": [
    "Intermediate Conclusion: \n",
    "\n",
    "Interpretation of Feature Importances:\n",
    "\n",
    "mb_used (Internet Traffic):\n",
    "\n",
    "Importance: 32.30%\n",
    "Conclusion: Internet traffic usage is the most significant predictor for determining whether a subscriber should switch to the \"Ultra\" plan. This suggests that the amount of data used has a substantial impact on the choice of plan.\n",
    "calls (Number of Calls):\n",
    "\n",
    "Importance: 24.27%\n",
    "Conclusion: The number of calls made by a subscriber is also a significant factor in predicting the plan. While not as influential as data usage, it still plays an important role in decision-making.\n",
    "minutes (Total Call Duration):\n",
    "\n",
    "Importance: 24.03%\n",
    "Conclusion: Total call duration is on par with the number of calls in terms of importance. This indicates that both the frequency and duration of calls are crucial for predicting the optimal plan.\n",
    "messages (Number of Text Messages):\n",
    "\n",
    "Importance: 19.41%\n",
    "Conclusion: The number of text messages is the least important among the features but still contributes to the model's predictions. This suggests that while text message usage does affect the plan choice, it is less critical compared to data usage and call metrics.\n",
    "Overall Conclusion:\n",
    "\n",
    "Feature Significance: The model places the highest importance on internet traffic usage (mb_used), followed by call metrics (calls and minutes), and then text messages (messages). This reflects the likely higher relevance of data usage in deciding between the \"Smart\" and \"Ultra\" plans.\n",
    "Insights for Business: Understanding feature importance can help Megaline tailor their plans and marketing strategies based on the most influential factors. For instance, focusing on data-heavy users might be a key strategy for promoting the \"Ultra\" plan."
   ]
  },
  {
   "cell_type": "markdown",
   "metadata": {},
   "source": [
    "Final Conclusion\n",
    "\n",
    "Model Performance and Reliability:\n",
    "\n",
    "Our RandomForestClassifier has demonstrated strong performance with an accuracy of approximately 81.18% on the test set, surpassing the project’s accuracy threshold of 75%. This indicates that the model is effective in predicting whether subscribers should switch to the \"Ultra\" plan or remain on the \"Smart\" plan. The consistency of performance between the validation and test sets further supports the model's robustness and generalizability.\n",
    "\n",
    "Feature Importance Insights:\n",
    "\n",
    "Internet Traffic Usage (mb_used):\n",
    "\n",
    "Importance: 32.30%\n",
    "Significance: This feature is the most influential in predicting plan selection. High data usage is a strong indicator that a subscriber might benefit from the \"Ultra\" plan, which likely offers more data.\n",
    "\n",
    "Number of Calls (calls):\n",
    "\n",
    "Importance: 24.27%\n",
    "Significance: The frequency of calls is a significant predictor, though less so than data usage. This suggests that frequent callers might also be more inclined toward a plan with higher allowances.\n",
    "\n",
    "Total Call Duration (minutes):\n",
    "\n",
    "Importance: 24.03%\n",
    "Significance: This feature is as important as the number of calls. The total duration of calls complements the frequency of calls in determining the appropriate plan.\n",
    "\n",
    "Number of Text Messages (messages):\n",
    "\n",
    "Importance: 19.41%\n",
    "Significance: While less critical compared to data and call metrics, text message usage still impacts the plan choice. Subscribers with high text usage might also consider a plan that offers more messaging benefits.\n",
    "\n",
    "Business Implications:\n",
    "\n",
    "Plan Optimization: Megaline should consider emphasizing data usage in their marketing and plan design. Since internet traffic has the highest importance, offering competitive data packages and promotions could attract more subscribers to the \"Ultra\" plan.\n",
    "\n",
    "Targeted Marketing: For subscribers who frequently use calls and have high total call durations, Megaline could tailor offers that highlight the advantages of the \"Ultra\" plan in terms of call benefits.\n",
    "\n",
    "Strategic Focus: While text message usage is less critical, understanding that it still plays a role in decision-making can help in crafting comprehensive plans that cater to a variety of usage patterns.\n",
    "\n",
    "Overall Summary:\n",
    "\n",
    "The successful implementation of the RandomForestClassifier model and the insights from feature importance highlight the model's capability to make informed recommendations. By focusing on the most influential features—particularly data usage—Megaline can better align their offerings with subscriber needs and optimize their marketing strategies to promote the most suitable plans effectively."
   ]
  }
 ],
 "metadata": {
  "ExecuteTimeLog": [
   {
    "duration": 2758,
    "start_time": "2024-09-11T16:10:50.537Z"
   },
   {
    "duration": 593,
    "start_time": "2024-09-11T16:10:53.297Z"
   },
   {
    "duration": 0,
    "start_time": "2024-09-11T16:10:53.892Z"
   },
   {
    "duration": 966,
    "start_time": "2024-09-11T16:13:32.831Z"
   },
   {
    "duration": 543,
    "start_time": "2024-09-11T16:13:33.800Z"
   },
   {
    "duration": 0,
    "start_time": "2024-09-11T16:13:34.344Z"
   },
   {
    "duration": 0,
    "start_time": "2024-09-11T16:13:34.345Z"
   },
   {
    "duration": 0,
    "start_time": "2024-09-11T16:13:34.347Z"
   },
   {
    "duration": 0,
    "start_time": "2024-09-11T16:13:34.348Z"
   },
   {
    "duration": 15,
    "start_time": "2024-09-11T16:14:43.877Z"
   },
   {
    "duration": 1007,
    "start_time": "2024-09-11T16:14:49.914Z"
   },
   {
    "duration": 558,
    "start_time": "2024-09-11T16:14:50.923Z"
   },
   {
    "duration": 0,
    "start_time": "2024-09-11T16:14:51.484Z"
   },
   {
    "duration": 0,
    "start_time": "2024-09-11T16:14:51.485Z"
   },
   {
    "duration": 0,
    "start_time": "2024-09-11T16:14:51.486Z"
   },
   {
    "duration": 0,
    "start_time": "2024-09-11T16:14:51.487Z"
   },
   {
    "duration": 59,
    "start_time": "2024-09-11T16:15:21.314Z"
   },
   {
    "duration": 1020,
    "start_time": "2024-09-11T16:16:55.084Z"
   },
   {
    "duration": 545,
    "start_time": "2024-09-11T16:16:56.106Z"
   },
   {
    "duration": 0,
    "start_time": "2024-09-11T16:16:56.653Z"
   },
   {
    "duration": 0,
    "start_time": "2024-09-11T16:16:56.654Z"
   },
   {
    "duration": 0,
    "start_time": "2024-09-11T16:16:56.655Z"
   },
   {
    "duration": 0,
    "start_time": "2024-09-11T16:16:56.656Z"
   },
   {
    "duration": 59,
    "start_time": "2024-09-11T16:18:03.269Z"
   },
   {
    "duration": 132,
    "start_time": "2024-09-11T16:18:16.145Z"
   },
   {
    "duration": 59,
    "start_time": "2024-09-11T16:18:43.947Z"
   },
   {
    "duration": 4,
    "start_time": "2024-09-11T16:19:20.208Z"
   },
   {
    "duration": 59,
    "start_time": "2024-09-11T16:19:23.138Z"
   },
   {
    "duration": 16,
    "start_time": "2024-09-11T16:19:28.635Z"
   },
   {
    "duration": 21,
    "start_time": "2024-09-11T16:19:30.066Z"
   },
   {
    "duration": 2,
    "start_time": "2024-09-11T16:19:56.128Z"
   },
   {
    "duration": 66,
    "start_time": "2024-09-11T16:20:00.220Z"
   },
   {
    "duration": 62,
    "start_time": "2024-09-11T16:20:22.026Z"
   },
   {
    "duration": 60,
    "start_time": "2024-09-11T16:21:21.638Z"
   },
   {
    "duration": 5,
    "start_time": "2024-09-11T16:34:01.254Z"
   },
   {
    "duration": 3,
    "start_time": "2024-09-11T16:52:56.143Z"
   },
   {
    "duration": 3,
    "start_time": "2024-09-11T16:53:22.283Z"
   },
   {
    "duration": 19,
    "start_time": "2024-09-11T17:10:04.648Z"
   },
   {
    "duration": 7,
    "start_time": "2024-09-11T17:14:23.925Z"
   },
   {
    "duration": 305,
    "start_time": "2024-09-11T17:15:29.692Z"
   },
   {
    "duration": 450,
    "start_time": "2024-09-11T17:15:29.999Z"
   },
   {
    "duration": 26540,
    "start_time": "2024-09-11T17:15:30.451Z"
   },
   {
    "duration": 9,
    "start_time": "2024-09-11T17:15:56.993Z"
   },
   {
    "duration": 7,
    "start_time": "2024-09-11T17:15:57.004Z"
   },
   {
    "duration": 6,
    "start_time": "2024-09-11T17:21:43.650Z"
   },
   {
    "duration": 27161,
    "start_time": "2024-09-11T17:21:45.018Z"
   },
   {
    "duration": 342,
    "start_time": "2024-09-11T17:38:36.872Z"
   },
   {
    "duration": 460,
    "start_time": "2024-09-11T17:38:37.216Z"
   },
   {
    "duration": 26652,
    "start_time": "2024-09-11T17:38:37.678Z"
   },
   {
    "duration": 17,
    "start_time": "2024-09-11T17:39:04.333Z"
   },
   {
    "duration": 8,
    "start_time": "2024-09-11T17:39:04.352Z"
   },
   {
    "duration": 820,
    "start_time": "2024-09-11T17:39:55.952Z"
   },
   {
    "duration": 12,
    "start_time": "2024-09-11T17:39:56.775Z"
   },
   {
    "duration": 7,
    "start_time": "2024-09-11T17:39:56.789Z"
   },
   {
    "duration": 26660,
    "start_time": "2024-09-11T17:39:56.798Z"
   },
   {
    "duration": 10,
    "start_time": "2024-09-11T17:40:23.460Z"
   },
   {
    "duration": 7,
    "start_time": "2024-09-11T17:40:23.472Z"
   },
   {
    "duration": 793,
    "start_time": "2024-09-11T18:21:22.617Z"
   },
   {
    "duration": 31,
    "start_time": "2024-09-11T18:21:23.412Z"
   },
   {
    "duration": 6,
    "start_time": "2024-09-11T18:21:23.445Z"
   },
   {
    "duration": 26448,
    "start_time": "2024-09-11T18:21:23.452Z"
   },
   {
    "duration": 10,
    "start_time": "2024-09-11T18:21:49.902Z"
   },
   {
    "duration": 7,
    "start_time": "2024-09-11T18:21:49.914Z"
   },
   {
    "duration": 215,
    "start_time": "2024-09-11T18:28:18.098Z"
   },
   {
    "duration": 800,
    "start_time": "2024-09-11T18:28:27.374Z"
   },
   {
    "duration": 27,
    "start_time": "2024-09-11T18:28:28.176Z"
   },
   {
    "duration": 5,
    "start_time": "2024-09-11T18:28:28.205Z"
   },
   {
    "duration": 26402,
    "start_time": "2024-09-11T18:28:28.212Z"
   },
   {
    "duration": 9,
    "start_time": "2024-09-11T18:28:54.616Z"
   },
   {
    "duration": 20,
    "start_time": "2024-09-11T18:28:54.627Z"
   },
   {
    "duration": 8,
    "start_time": "2024-09-11T18:28:54.648Z"
   },
   {
    "duration": 823,
    "start_time": "2024-09-11T18:29:39.260Z"
   },
   {
    "duration": 26,
    "start_time": "2024-09-11T18:29:40.086Z"
   },
   {
    "duration": 6,
    "start_time": "2024-09-11T18:29:40.113Z"
   },
   {
    "duration": 26463,
    "start_time": "2024-09-11T18:29:40.122Z"
   },
   {
    "duration": 9,
    "start_time": "2024-09-11T18:30:06.587Z"
   },
   {
    "duration": 7,
    "start_time": "2024-09-11T18:30:06.598Z"
   },
   {
    "duration": 763,
    "start_time": "2024-09-12T02:43:16.747Z"
   },
   {
    "duration": 33,
    "start_time": "2024-09-12T02:43:17.512Z"
   },
   {
    "duration": 7,
    "start_time": "2024-09-12T02:43:17.546Z"
   },
   {
    "duration": 26298,
    "start_time": "2024-09-12T02:43:17.556Z"
   },
   {
    "duration": 13,
    "start_time": "2024-09-12T02:43:43.857Z"
   },
   {
    "duration": 7,
    "start_time": "2024-09-12T02:43:43.872Z"
   },
   {
    "duration": 3,
    "start_time": "2024-09-12T07:27:03.162Z"
   },
   {
    "duration": 45,
    "start_time": "2024-09-12T07:27:03.167Z"
   },
   {
    "duration": 5,
    "start_time": "2024-09-12T07:27:03.214Z"
   },
   {
    "duration": 754,
    "start_time": "2024-09-12T07:28:02.858Z"
   },
   {
    "duration": 25,
    "start_time": "2024-09-12T07:28:03.615Z"
   },
   {
    "duration": 6,
    "start_time": "2024-09-12T07:28:03.641Z"
   },
   {
    "duration": 26032,
    "start_time": "2024-09-12T07:28:03.649Z"
   },
   {
    "duration": 9,
    "start_time": "2024-09-12T07:28:29.687Z"
   },
   {
    "duration": 6,
    "start_time": "2024-09-12T07:28:29.697Z"
   }
  ],
  "kernelspec": {
   "display_name": "Python 3 (ipykernel)",
   "language": "python",
   "name": "python3"
  },
  "language_info": {
   "codemirror_mode": {
    "name": "ipython",
    "version": 3
   },
   "file_extension": ".py",
   "mimetype": "text/x-python",
   "name": "python",
   "nbconvert_exporter": "python",
   "pygments_lexer": "ipython3",
   "version": "3.10.11"
  },
  "toc": {
   "base_numbering": 1,
   "nav_menu": {},
   "number_sections": true,
   "sideBar": true,
   "skip_h1_title": true,
   "title_cell": "Table of Contents",
   "title_sidebar": "Contents",
   "toc_cell": false,
   "toc_position": {},
   "toc_section_display": true,
   "toc_window_display": false
  }
 },
 "nbformat": 4,
 "nbformat_minor": 4
}
