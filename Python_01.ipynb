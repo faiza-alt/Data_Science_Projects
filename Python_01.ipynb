{
 "cells": [
  {
   "cell_type": "markdown",
   "id": "f85a80d2",
   "metadata": {},
   "source": [
    "## Basic Python - Project <a id='intro'></a>"
   ]
  },
  {
   "cell_type": "markdown",
   "id": "a1262df4",
   "metadata": {},
   "source": [
    "## Introduction <a id='intro'></a>\n",
    "In this project, you will work with data from the entertainment industry. You will study a dataset with records on movies and shows. The research will focus on the \"Golden Age\" of television, which began in 1999 with the release of *The Sopranos* and is still ongoing.\n",
    "\n",
    "The aim of this project is to investigate how the number of votes a title receives impacts its ratings. The assumption is that highly-rated shows (we will focus on TV shows, ignoring movies) released during the \"Golden Age\" of television also have the most votes.\n",
    "\n",
    "### Stages \n",
    "Data on movies and shows is stored in the `/datasets/movies_and_shows.csv` file. There is no information about the quality of the data, so you will need to explore it before doing the analysis.\n",
    "\n",
    "First, you'll evaluate the quality of the data and see whether its issues are significant. Then, during data preprocessing, you will try to account for the most critical problems.\n",
    " \n",
    "Your project will consist of three stages:\n",
    " 1. Data overview\n",
    " 2. Data preprocessing\n",
    " 3. Data analysis"
   ]
  },
  {
   "cell_type": "markdown",
   "id": "ac0593ac",
   "metadata": {},
   "source": [
    "## Stage 1. Data overview <a id='data_review'></a>\n",
    "\n",
    "Open and explore the data."
   ]
  },
  {
   "cell_type": "markdown",
   "id": "e86ed00e",
   "metadata": {},
   "source": [
    "You'll need `pandas`, so import it."
   ]
  },
  {
   "cell_type": "code",
   "execution_count": 1,
   "id": "1727d3f8",
   "metadata": {},
   "outputs": [],
   "source": [
    "# importing pandas\n",
    "import pandas as pd\n"
   ]
  },
  {
   "cell_type": "markdown",
   "id": "9821beeb",
   "metadata": {},
   "source": [
    "Read the `movies_and_shows.csv` file from the `datasets` folder and save it in the `df` variable:"
   ]
  },
  {
   "cell_type": "code",
   "execution_count": 2,
   "id": "fc5a1402",
   "metadata": {},
   "outputs": [],
   "source": [
    "# reading the files and storing them to df\n",
    "try:\n",
    "    df = pd.read_csv(\"movies_and_shows.csv\")\n",
    "except:\n",
    "    df = pd.read_csv(\"/datasets/movies_and_shows.csv\")"
   ]
  },
  {
   "cell_type": "markdown",
   "id": "1cd0a96d",
   "metadata": {},
   "source": [
    "Print the first 10 table rows:"
   ]
  },
  {
   "cell_type": "code",
   "execution_count": 3,
   "id": "acd92001",
   "metadata": {},
   "outputs": [
    {
     "data": {
      "text/html": [
       "<div>\n",
       "<style scoped>\n",
       "    .dataframe tbody tr th:only-of-type {\n",
       "        vertical-align: middle;\n",
       "    }\n",
       "\n",
       "    .dataframe tbody tr th {\n",
       "        vertical-align: top;\n",
       "    }\n",
       "\n",
       "    .dataframe thead th {\n",
       "        text-align: right;\n",
       "    }\n",
       "</style>\n",
       "<table border=\"1\" class=\"dataframe\">\n",
       "  <thead>\n",
       "    <tr style=\"text-align: right;\">\n",
       "      <th></th>\n",
       "      <th>name</th>\n",
       "      <th>Character</th>\n",
       "      <th>r0le</th>\n",
       "      <th>TITLE</th>\n",
       "      <th>Type</th>\n",
       "      <th>release Year</th>\n",
       "      <th>genres</th>\n",
       "      <th>imdb sc0re</th>\n",
       "      <th>imdb v0tes</th>\n",
       "    </tr>\n",
       "  </thead>\n",
       "  <tbody>\n",
       "    <tr>\n",
       "      <th>0</th>\n",
       "      <td>Robert De Niro</td>\n",
       "      <td>Travis Bickle</td>\n",
       "      <td>ACTOR</td>\n",
       "      <td>Taxi Driver</td>\n",
       "      <td>MOVIE</td>\n",
       "      <td>1976</td>\n",
       "      <td>['drama', 'crime']</td>\n",
       "      <td>8.2</td>\n",
       "      <td>808582.0</td>\n",
       "    </tr>\n",
       "    <tr>\n",
       "      <th>1</th>\n",
       "      <td>Jodie Foster</td>\n",
       "      <td>Iris Steensma</td>\n",
       "      <td>ACTOR</td>\n",
       "      <td>Taxi Driver</td>\n",
       "      <td>MOVIE</td>\n",
       "      <td>1976</td>\n",
       "      <td>['drama', 'crime']</td>\n",
       "      <td>8.2</td>\n",
       "      <td>808582.0</td>\n",
       "    </tr>\n",
       "    <tr>\n",
       "      <th>2</th>\n",
       "      <td>Albert Brooks</td>\n",
       "      <td>Tom</td>\n",
       "      <td>ACTOR</td>\n",
       "      <td>Taxi Driver</td>\n",
       "      <td>MOVIE</td>\n",
       "      <td>1976</td>\n",
       "      <td>['drama', 'crime']</td>\n",
       "      <td>8.2</td>\n",
       "      <td>808582.0</td>\n",
       "    </tr>\n",
       "    <tr>\n",
       "      <th>3</th>\n",
       "      <td>Harvey Keitel</td>\n",
       "      <td>Matthew 'Sport' Higgins</td>\n",
       "      <td>ACTOR</td>\n",
       "      <td>Taxi Driver</td>\n",
       "      <td>MOVIE</td>\n",
       "      <td>1976</td>\n",
       "      <td>['drama', 'crime']</td>\n",
       "      <td>8.2</td>\n",
       "      <td>808582.0</td>\n",
       "    </tr>\n",
       "    <tr>\n",
       "      <th>4</th>\n",
       "      <td>Cybill Shepherd</td>\n",
       "      <td>Betsy</td>\n",
       "      <td>ACTOR</td>\n",
       "      <td>Taxi Driver</td>\n",
       "      <td>MOVIE</td>\n",
       "      <td>1976</td>\n",
       "      <td>['drama', 'crime']</td>\n",
       "      <td>8.2</td>\n",
       "      <td>808582.0</td>\n",
       "    </tr>\n",
       "    <tr>\n",
       "      <th>5</th>\n",
       "      <td>Peter Boyle</td>\n",
       "      <td>Wizard</td>\n",
       "      <td>ACTOR</td>\n",
       "      <td>Taxi Driver</td>\n",
       "      <td>MOVIE</td>\n",
       "      <td>1976</td>\n",
       "      <td>['drama', 'crime']</td>\n",
       "      <td>8.2</td>\n",
       "      <td>808582.0</td>\n",
       "    </tr>\n",
       "    <tr>\n",
       "      <th>6</th>\n",
       "      <td>Leonard Harris</td>\n",
       "      <td>Senator Charles Palantine</td>\n",
       "      <td>ACTOR</td>\n",
       "      <td>Taxi Driver</td>\n",
       "      <td>MOVIE</td>\n",
       "      <td>1976</td>\n",
       "      <td>['drama', 'crime']</td>\n",
       "      <td>8.2</td>\n",
       "      <td>808582.0</td>\n",
       "    </tr>\n",
       "    <tr>\n",
       "      <th>7</th>\n",
       "      <td>Diahnne Abbott</td>\n",
       "      <td>Concession Girl</td>\n",
       "      <td>ACTOR</td>\n",
       "      <td>Taxi Driver</td>\n",
       "      <td>MOVIE</td>\n",
       "      <td>1976</td>\n",
       "      <td>['drama', 'crime']</td>\n",
       "      <td>8.2</td>\n",
       "      <td>808582.0</td>\n",
       "    </tr>\n",
       "    <tr>\n",
       "      <th>8</th>\n",
       "      <td>Gino Ardito</td>\n",
       "      <td>Policeman at Rally</td>\n",
       "      <td>ACTOR</td>\n",
       "      <td>Taxi Driver</td>\n",
       "      <td>MOVIE</td>\n",
       "      <td>1976</td>\n",
       "      <td>['drama', 'crime']</td>\n",
       "      <td>8.2</td>\n",
       "      <td>808582.0</td>\n",
       "    </tr>\n",
       "    <tr>\n",
       "      <th>9</th>\n",
       "      <td>Martin Scorsese</td>\n",
       "      <td>Passenger Watching Silhouette</td>\n",
       "      <td>ACTOR</td>\n",
       "      <td>Taxi Driver</td>\n",
       "      <td>MOVIE</td>\n",
       "      <td>1976</td>\n",
       "      <td>['drama', 'crime']</td>\n",
       "      <td>8.2</td>\n",
       "      <td>808582.0</td>\n",
       "    </tr>\n",
       "  </tbody>\n",
       "</table>\n",
       "</div>"
      ],
      "text/plain": [
       "              name                      Character   r0le        TITLE   Type  \\\n",
       "0   Robert De Niro                  Travis Bickle  ACTOR  Taxi Driver  MOVIE   \n",
       "1     Jodie Foster                  Iris Steensma  ACTOR  Taxi Driver  MOVIE   \n",
       "2    Albert Brooks                            Tom  ACTOR  Taxi Driver  MOVIE   \n",
       "3    Harvey Keitel        Matthew 'Sport' Higgins  ACTOR  Taxi Driver  MOVIE   \n",
       "4  Cybill Shepherd                          Betsy  ACTOR  Taxi Driver  MOVIE   \n",
       "5      Peter Boyle                         Wizard  ACTOR  Taxi Driver  MOVIE   \n",
       "6   Leonard Harris      Senator Charles Palantine  ACTOR  Taxi Driver  MOVIE   \n",
       "7   Diahnne Abbott                Concession Girl  ACTOR  Taxi Driver  MOVIE   \n",
       "8      Gino Ardito             Policeman at Rally  ACTOR  Taxi Driver  MOVIE   \n",
       "9  Martin Scorsese  Passenger Watching Silhouette  ACTOR  Taxi Driver  MOVIE   \n",
       "\n",
       "   release Year              genres  imdb sc0re  imdb v0tes  \n",
       "0          1976  ['drama', 'crime']         8.2    808582.0  \n",
       "1          1976  ['drama', 'crime']         8.2    808582.0  \n",
       "2          1976  ['drama', 'crime']         8.2    808582.0  \n",
       "3          1976  ['drama', 'crime']         8.2    808582.0  \n",
       "4          1976  ['drama', 'crime']         8.2    808582.0  \n",
       "5          1976  ['drama', 'crime']         8.2    808582.0  \n",
       "6          1976  ['drama', 'crime']         8.2    808582.0  \n",
       "7          1976  ['drama', 'crime']         8.2    808582.0  \n",
       "8          1976  ['drama', 'crime']         8.2    808582.0  \n",
       "9          1976  ['drama', 'crime']         8.2    808582.0  "
      ]
     },
     "execution_count": 3,
     "metadata": {},
     "output_type": "execute_result"
    }
   ],
   "source": [
    "# obtaining the first 10 rows from the df table\n",
    "# hint: you can use head() and tail() in Jupyter Notebook without wrapping them into print()\n",
    "first_10_rows = df.head(10)\n",
    "first_10_rows"
   ]
  },
  {
   "cell_type": "markdown",
   "id": "e579aa91",
   "metadata": {},
   "source": [
    "Obtain the general information about the table with one command:"
   ]
  },
  {
   "cell_type": "code",
   "execution_count": 4,
   "id": "7bf66d2a",
   "metadata": {},
   "outputs": [
    {
     "name": "stdout",
     "output_type": "stream",
     "text": [
      "<class 'pandas.core.frame.DataFrame'>\n",
      "RangeIndex: 85579 entries, 0 to 85578\n",
      "Data columns (total 9 columns):\n",
      " #   Column        Non-Null Count  Dtype  \n",
      "---  ------        --------------  -----  \n",
      " 0      name       85579 non-null  object \n",
      " 1   Character     85579 non-null  object \n",
      " 2   r0le          85579 non-null  object \n",
      " 3   TITLE         85578 non-null  object \n",
      " 4     Type        85579 non-null  object \n",
      " 5   release Year  85579 non-null  int64  \n",
      " 6   genres        85579 non-null  object \n",
      " 7   imdb sc0re    80970 non-null  float64\n",
      " 8   imdb v0tes    80853 non-null  float64\n",
      "dtypes: float64(2), int64(1), object(6)\n",
      "memory usage: 5.9+ MB\n"
     ]
    }
   ],
   "source": [
    "# obtaining general information about the data in df\n",
    "df.info()\n",
    "\n"
   ]
  },
  {
   "cell_type": "markdown",
   "id": "e91f62a7",
   "metadata": {},
   "source": [
    "The table contains nine columns. The majority store the same data type: object. The only exceptions are `'release Year'` (int64 type), `'imdb sc0re'` (float64 type) and `'imdb v0tes'` (float64 type). Scores and votes will be used in our analysis, so it's important to verify that they are present in the dataframe in the appropriate numeric format. Three columns (`'TITLE'`, `'imdb sc0re'` and `'imdb v0tes'`) have missing values.\n",
    "\n",
    "According to the documentation:\n",
    "- `'name'` — actor/director's name and last name\n",
    "- `'Character'` — character played (for actors)\n",
    "- `'r0le '` — the person's contribution to the title (it can be in the capacity of either actor or director)\n",
    "- `'TITLE '` — title of the movie (show)\n",
    "- `'  Type'` — show or movie\n",
    "- `'release Year'` — year when movie (show) was released\n",
    "- `'genres'` — list of genres under which the movie (show) falls\n",
    "- `'imdb sc0re'` — score on IMDb\n",
    "- `'imdb v0tes'` — votes on IMDb\n",
    "\n",
    "We can see three issues with the column names:\n",
    "1. Some names are uppercase, while others are lowercase.\n",
    "2. There are names containing whitespace.\n",
    "3. A few column names have digit '0' instead of letter 'o'. \n"
   ]
  },
  {
   "cell_type": "markdown",
   "id": "4355de7b",
   "metadata": {},
   "source": [
    "### Conclusions <a id='data_review_conclusions'></a> \n",
    "\n",
    "Each row in the table stores data about a movie or show. The columns can be divided into two categories: the first is about the roles held by different people who worked on the movie or show (role, name of the actor or director, and character if the row is about an actor); the second category is information about the movie or show itself (title, release year, genre, imdb figures).\n",
    "\n",
    "It's clear that there is sufficient data to do the analysis and evaluate our assumption. However, to move forward, we need to preprocess the data."
   ]
  },
  {
   "cell_type": "markdown",
   "id": "c5dc9111",
   "metadata": {},
   "source": [
    "## Stage 2. Data preprocessing <a id='data_preprocessing'></a>\n",
    "Correct the formatting in the column headers and deal with the missing values. Then, check whether there are duplicates in the data."
   ]
  },
  {
   "cell_type": "code",
   "execution_count": 5,
   "id": "9c850d13",
   "metadata": {},
   "outputs": [],
   "source": [
    "# the list of column names in the df table\n",
    "\n",
    "columns = df.columns.tolist()\n",
    "\n",
    "\n"
   ]
  },
  {
   "cell_type": "markdown",
   "id": "5f966df9",
   "metadata": {},
   "source": [
    "Change the column names according to the rules of good style:\n",
    "* If the name has several words, use snake_case\n",
    "* All characters must be lowercase\n",
    "* Remove whitespace\n",
    "* Replace zero with letter 'o'"
   ]
  },
  {
   "cell_type": "code",
   "execution_count": 6,
   "id": "23a1dc11",
   "metadata": {},
   "outputs": [],
   "source": [
    "# renaming columns\n",
    "\n",
    "# Convert column names to lowercase\n",
    "df.columns = df.columns.str.lower()\n",
    "\n",
    "# Remove teh spaces \n",
    "df.columns = df.columns.str.strip()\n",
    "\n",
    "# Replace '0' with 'o'\n",
    "df.columns = df.columns.str.replace('0', 'o')\n",
    "\n",
    "# Replace spaces with underscores (snake_case)\n",
    "df.columns = df.columns.str.replace(' ', '_')\n",
    "\n",
    "\n",
    "\n"
   ]
  },
  {
   "cell_type": "markdown",
   "id": "464fbd04",
   "metadata": {},
   "source": [
    "Check the result. Print the names of the columns once more:"
   ]
  },
  {
   "cell_type": "code",
   "execution_count": 7,
   "id": "0eb6527f",
   "metadata": {},
   "outputs": [
    {
     "name": "stdout",
     "output_type": "stream",
     "text": [
      "['name', 'character', 'role', 'title', 'type', 'release_year', 'genres', 'imdb_score', 'imdb_votes']\n"
     ]
    }
   ],
   "source": [
    "# checking result: the list of column names\n",
    "\n",
    "# Print the modified column names\n",
    "print(df.columns.tolist())"
   ]
  },
  {
   "cell_type": "markdown",
   "id": "14d9c319",
   "metadata": {},
   "source": [
    "### Missing values <a id='missing_values'></a>\n",
    "First, find the number of missing values in the table. To do so, combine two `pandas` methods:"
   ]
  },
  {
   "cell_type": "code",
   "execution_count": 8,
   "id": "21c427f2",
   "metadata": {},
   "outputs": [
    {
     "name": "stdout",
     "output_type": "stream",
     "text": [
      "name               0\n",
      "character          0\n",
      "role               0\n",
      "title              1\n",
      "type               0\n",
      "release_year       0\n",
      "genres             0\n",
      "imdb_score      4609\n",
      "imdb_votes      4726\n",
      "dtype: int64\n"
     ]
    }
   ],
   "source": [
    "# calculating missing values\n",
    "\n",
    "# Count the number of missing values in each column\n",
    "missing_values_count = df.isnull().sum()\n",
    "\n",
    "# Print the result\n",
    "print(missing_values_count)"
   ]
  },
  {
   "cell_type": "markdown",
   "id": "c8272df3",
   "metadata": {},
   "source": [
    "Not all missing values affect the research: the single missing value in `'title'` is not critical. The missing values in columns `'imdb_score'` and `'imdb_votes'` represent around 6% of all records (4,609 and 4,726, respectively, of the total 85,579). This could potentially affect our research. To avoid this issue, we will drop rows with missing values in the `'imdb_score'` and `'imdb_votes'` columns."
   ]
  },
  {
   "cell_type": "code",
   "execution_count": 9,
   "id": "599d5550",
   "metadata": {},
   "outputs": [
    {
     "name": "stdout",
     "output_type": "stream",
     "text": [
      "Number of rows after dropping missing values: 80853\n"
     ]
    }
   ],
   "source": [
    "# dropping rows where columns with title, scores and votes have missing values\n",
    "\n",
    "# Dropping rows with missing values in 'title', 'imdb_score', and 'imdb_votes' columns\n",
    "df.dropna(subset=['title', 'imdb_score', 'imdb_votes'], how='any', inplace=True)\n",
    "\n",
    "# Confirming the removal of rows\n",
    "print(\"Number of rows after dropping missing values:\", len(df))"
   ]
  },
  {
   "cell_type": "markdown",
   "id": "2156887f",
   "metadata": {},
   "source": [
    "Make sure the table doesn't contain any more missing values. Count the missing values again."
   ]
  },
  {
   "cell_type": "code",
   "execution_count": 10,
   "id": "55c0b0ce",
   "metadata": {},
   "outputs": [
    {
     "name": "stdout",
     "output_type": "stream",
     "text": [
      "name            0\n",
      "character       0\n",
      "role            0\n",
      "title           0\n",
      "type            0\n",
      "release_year    0\n",
      "genres          0\n",
      "imdb_score      0\n",
      "imdb_votes      0\n",
      "dtype: int64\n"
     ]
    }
   ],
   "source": [
    "# counting missing values\n",
    "\n",
    "# Count the number of missing values in each column\n",
    "missing_values_count = df.isnull().sum()\n",
    "\n",
    "# Print the result\n",
    "print(missing_values_count)"
   ]
  },
  {
   "cell_type": "markdown",
   "id": "a7dc7aa0",
   "metadata": {},
   "source": [
    "### Duplicates <a id='duplicates'></a>\n",
    "Find the number of duplicate rows in the table using one command:"
   ]
  },
  {
   "cell_type": "code",
   "execution_count": 11,
   "id": "9227df01",
   "metadata": {},
   "outputs": [
    {
     "name": "stdout",
     "output_type": "stream",
     "text": [
      "Number of duplicate rows: 6994\n"
     ]
    }
   ],
   "source": [
    "# counting duplicate rows\n",
    "\n",
    "# Count the number of duplicate rows\n",
    "duplicate_rows_count = df.duplicated().sum()\n",
    "\n",
    "# Print the result\n",
    "print(\"Number of duplicate rows:\", duplicate_rows_count)\n"
   ]
  },
  {
   "cell_type": "markdown",
   "id": "5f6eb0fc",
   "metadata": {},
   "source": [
    "Review the duplicate rows to determine if removing them would distort our dataset."
   ]
  },
  {
   "cell_type": "code",
   "execution_count": 12,
   "id": "bcf32fcb",
   "metadata": {},
   "outputs": [
    {
     "name": "stdout",
     "output_type": "stream",
     "text": [
      "                     name         character   role  \\\n",
      "80688        Daniel Sauli   Officer Quinlan  ACTOR   \n",
      "78981      Olga Bo?Ž?d§              Gabi  ACTOR   \n",
      "84539     Angelica Giusto          Cristina  ACTOR   \n",
      "84085      Serta?? G?¬der           unknown  ACTOR   \n",
      "78141          John Mayer              Self  ACTOR   \n",
      "84986       Vincent Leong   Old Chinese Man  ACTOR   \n",
      "81925          Fa Zhiyuan            Yu She  ACTOR   \n",
      "77813       Laura Stracko          Ensemble  ACTOR   \n",
      "79951  Gianluca De Marchi  Domenico Moretti  ACTOR   \n",
      "82630      Mustapha Aarab         John John  ACTOR   \n",
      "\n",
      "                                    title   type  release_year  \\\n",
      "80688                   This Is the Night  MOVIE          2021   \n",
      "78981                    The Getaway King  MOVIE          2021   \n",
      "84539              Still Out of My League  MOVIE          2021   \n",
      "84085                       In Good Hands  MOVIE          2022   \n",
      "78141  Dirty Daddy: The Bob Saget Tribute  MOVIE          2022   \n",
      "84986              Ali & Ratu Ratu Queens  MOVIE          2021   \n",
      "81925                    Dynasty Warriors  MOVIE          2021   \n",
      "77813                  Diana: The Musical  MOVIE          2021   \n",
      "79951                The Invisible Thread  MOVIE          2022   \n",
      "82630                                JJ+E  MOVIE          2021   \n",
      "\n",
      "                                         genres  imdb_score  imdb_votes  \n",
      "80688                       ['drama', 'comedy']         5.4       626.0  \n",
      "78981    ['drama', 'action', 'comedy', 'crime']         6.5      1812.0  \n",
      "84539            ['romance', 'comedy', 'drama']         5.5       810.0  \n",
      "84085  ['drama', 'comedy', 'romance', 'family']         5.6      2618.0  \n",
      "78141                                ['comedy']         6.6       422.0  \n",
      "84986                       ['drama', 'comedy']         7.0      1233.0  \n",
      "81925                     ['action', 'fantasy']         4.7      2146.0  \n",
      "77813  ['history', 'music', 'romance', 'drama']         4.2      1266.0  \n",
      "79951             ['drama', 'family', 'comedy']         6.7      1704.0  \n",
      "82630                      ['drama', 'romance']         5.3      1724.0  \n"
     ]
    }
   ],
   "source": [
    "# Produce table with duplicates (with original rows included) and review last 5 rows\n",
    "\n",
    "# Select duplicate rows\n",
    "duplicate_rows = df[df.duplicated()]\n",
    "\n",
    "# Review the last 5 rows of the duplicate rows DataFrame\n",
    "print(duplicate_rows.sample(10))\n"
   ]
  },
  {
   "cell_type": "markdown",
   "id": "a1ed6640",
   "metadata": {},
   "source": [
    "There are two clear duplicates in the printed rows. We can safely remove them.\n",
    "Call the `pandas` method for getting rid of duplicate rows:"
   ]
  },
  {
   "cell_type": "code",
   "execution_count": 13,
   "id": "724d5bc8",
   "metadata": {},
   "outputs": [],
   "source": [
    "# removing duplicate rows\n",
    "\n",
    "# Remove duplicate rows from the DataFrame\n",
    "df.drop_duplicates(inplace=True)\n"
   ]
  },
  {
   "cell_type": "markdown",
   "id": "fc8c77ba",
   "metadata": {},
   "source": [
    "Check for duplicate rows once more to make sure you have removed all of them:"
   ]
  },
  {
   "cell_type": "code",
   "execution_count": 14,
   "id": "8091a9bc",
   "metadata": {},
   "outputs": [
    {
     "name": "stdout",
     "output_type": "stream",
     "text": [
      "Number of duplicate rows after removal: 0\n"
     ]
    }
   ],
   "source": [
    "# checking for duplicates\n",
    "\n",
    "# Count the number of duplicate rows\n",
    "duplicate_rows_count_after_removal = df.duplicated().sum()\n",
    "\n",
    "# Print the result\n",
    "print(\"Number of duplicate rows after removal:\", duplicate_rows_count_after_removal)"
   ]
  },
  {
   "cell_type": "markdown",
   "id": "1d802b07",
   "metadata": {},
   "source": [
    "Now get rid of implicit duplicates in the `'type'` column. For example, the string `'SHOW'` can be written in different ways. These kinds of errors will also affect the result."
   ]
  },
  {
   "cell_type": "markdown",
   "id": "d5f987ed",
   "metadata": {},
   "source": [
    "Print a list of unique `'type'` names, sorted in alphabetical order. To do so:\n",
    "* Retrieve the intended dataframe column \n",
    "* Apply a sorting method to it\n",
    "* For the sorted column, call the method that will return all unique column values"
   ]
  },
  {
   "cell_type": "code",
   "execution_count": 15,
   "id": "3d7b0ac5",
   "metadata": {},
   "outputs": [
    {
     "name": "stdout",
     "output_type": "stream",
     "text": [
      "Unique 'type' names:\n",
      "MOVIE\n",
      "SHOW\n",
      "movies\n",
      "shows\n",
      "the movie\n",
      "tv\n",
      "tv series\n",
      "tv show\n",
      "tv shows\n"
     ]
    }
   ],
   "source": [
    "# viewing unique type names\n",
    "\n",
    "# Retrieve the 'type' column and remove leading/trailing whitespaces\n",
    "\n",
    "df['type'] = df['type'].str.strip()\n",
    "\n",
    "# Sort the 'type' column alphabetically\n",
    "sorted_types = df['type'].sort_values()\n",
    "\n",
    "# Get unique type names\n",
    "unique_types = sorted_types.unique()\n",
    "\n",
    "# Print the list of unique type names\n",
    "print(\"Unique 'type' names:\")\n",
    "for type_name in unique_types:\n",
    "    print(type_name)\n"
   ]
  },
  {
   "cell_type": "markdown",
   "id": "ac6e8b18",
   "metadata": {},
   "source": [
    "Look through the list to find implicit duplicates of `'show'` (`'movie'` duplicates will be ignored since the assumption is about shows). These could be names written incorrectly or alternative names of the same genre.\n",
    "\n",
    "You will see the following implicit duplicates:\n",
    "* `'shows'`\n",
    "* `'SHOW'`\n",
    "* `'tv show'`\n",
    "* `'tv shows'`\n",
    "* `'tv series'`\n",
    "* `'tv'`\n",
    "\n",
    "To get rid of them, declare the function `replace_wrong_show()` with two parameters: \n",
    "* `wrong_shows_list=` — the list of duplicates\n",
    "* `correct_show=` — the string with the correct value\n",
    "\n",
    "The function should correct the names in the `'type'` column from the `df` table (i.e., replace each value from the `wrong_shows_list` list with the value in `correct_show`)."
   ]
  },
  {
   "cell_type": "code",
   "execution_count": 16,
   "id": "bff944f9",
   "metadata": {},
   "outputs": [],
   "source": [
    "# function for replacing implicit duplicates\n",
    "\n",
    "def replace_wrong_show(df, wrong_shows_list, correct_show):\n",
    "    for wrong_show in wrong_shows_list:\n",
    "        df['type'] = df['type'].replace(wrong_show, correct_show)\n",
    "\n",
    "# Example usage:\n",
    "wrong_shows_list = ['shows', 'SHOW', 'tv show', 'tv shows', 'tv series', 'tv']\n",
    "correct_show = 'TV Show'\n",
    "replace_wrong_show(df, wrong_shows_list, correct_show)\n"
   ]
  },
  {
   "cell_type": "markdown",
   "id": "d02d13a6",
   "metadata": {},
   "source": [
    "Call `replace_wrong_show()` and pass it arguments so that it clears implicit duplicates and replaces them with `SHOW`:"
   ]
  },
  {
   "cell_type": "code",
   "execution_count": 17,
   "id": "a2217e53",
   "metadata": {},
   "outputs": [],
   "source": [
    "# removing implicit duplicates\n",
    "\n",
    "# def replace_wrong_show(df, wrong_shows_list, correct_show):\n",
    "#     for wrong_show in wrong_shows_list:\n",
    "#         df['type'] = df['type'].replace(wrong_show, correct_show)\n",
    "\n",
    "# # Define the list of wrong show names and the correct show name\n",
    "# wrong_shows_list = ['shows', 'SHOW', 'tv show', 'tv shows', 'tv series', 'tv']\n",
    "# correct_show = 'SHOW'\n",
    "\n",
    "# # Call the function to replace implicit duplicates\n",
    "# replace_wrong_show(df, wrong_shows_list, correct_show)\n"
   ]
  },
  {
   "cell_type": "markdown",
   "id": "318b09f7",
   "metadata": {},
   "source": [
    "Make sure the duplicate names are removed. Print the list of unique values from the `'type'` column:"
   ]
  },
  {
   "cell_type": "code",
   "execution_count": 18,
   "id": "25d49d73",
   "metadata": {},
   "outputs": [
    {
     "name": "stdout",
     "output_type": "stream",
     "text": [
      "Unique 'type' names after correction:\n",
      "MOVIE\n",
      "the movie\n",
      "TV Show\n",
      "movies\n"
     ]
    }
   ],
   "source": [
    "# viewing unique genre names\n",
    "\n",
    "\n",
    "# Get unique values from the 'type' column\n",
    "unique_types_after_correction = df['type'].unique()\n",
    "\n",
    "# Print the list of unique values\n",
    "print(\"Unique 'type' names after correction:\")\n",
    "for type_name in unique_types_after_correction:\n",
    "    print(type_name)\n"
   ]
  },
  {
   "cell_type": "markdown",
   "id": "18b2049e",
   "metadata": {},
   "source": [
    "### Conclusions <a id='data_preprocessing_conclusions'></a>\n",
    "We detected three issues with the data:\n",
    "\n",
    "- Incorrect header styles\n",
    "- Missing values\n",
    "- Duplicate rows and implicit duplicates\n",
    "\n",
    "The headers have been cleaned up to make processing the table simpler.\n",
    "\n",
    "All rows with missing values have been removed. \n",
    "\n",
    "The absence of duplicates will make the results more precise and easier to understand.\n",
    "\n",
    "Now we can move on to our analysis of the prepared data."
   ]
  },
  {
   "cell_type": "markdown",
   "id": "1aa0f1b1",
   "metadata": {},
   "source": [
    "## Stage 3. Data analysis <a id='hypotheses'></a>"
   ]
  },
  {
   "cell_type": "markdown",
   "id": "f8fb6a0e",
   "metadata": {},
   "source": [
    "Based on the previous project stages, you can now define how the assumption will be checked. Calculate the average amount of votes for each score (this data is available in the `imdb_score` and `imdb_votes` columns), and then check how these averages relate to each other. If the averages for shows with the highest scores are bigger than those for shows with lower scores, the assumption appears to be true.\n",
    "\n",
    "Based on this, complete the following steps:\n",
    "\n",
    "- Filter the dataframe to only include shows released in 1999 or later.\n",
    "- Group scores into buckets by rounding the values of the appropriate column (a set of 1-10 integers will help us make the outcome of our calculations more evident without damaging the quality of our research).\n",
    "- Identify outliers among scores based on their number of votes, and exclude scores with few votes.\n",
    "- Calculate the average votes for each score and check whether the assumption matches the results."
   ]
  },
  {
   "cell_type": "markdown",
   "id": "0ea2cb51",
   "metadata": {},
   "source": [
    "To filter the dataframe and only include shows released in 1999 or later, you will take two steps. First, keep only titles published in 1999 or later in our dataframe. Then, filter the table to only contain shows (movies will be removed)."
   ]
  },
  {
   "cell_type": "code",
   "execution_count": 19,
   "id": "6a704aa1",
   "metadata": {},
   "outputs": [],
   "source": [
    "# using conditional indexing modify df so it has only titles released after 1999 (with 1999 included)\n",
    "\n",
    "df_after_1999 = df[df['release_year'] >= 1999]\n",
    "\n",
    "# give the slice of dataframe new name\n",
    "\n",
    "df_after_1999_name = df_after_1999.copy() \n"
   ]
  },
  {
   "cell_type": "code",
   "execution_count": 20,
   "id": "128dc6a9",
   "metadata": {
    "scrolled": true
   },
   "outputs": [],
   "source": [
    "# repeat conditional indexing so df has only shows (movies are removed as result)\n",
    "\n",
    "df_shows_only = df_after_1999[df_after_1999['type'] == 'TV Show']\n",
    "\n",
    "# Rename the sliced DataFrame for clarity\n",
    "df_shows_only_name = df_shows_only.copy()\n"
   ]
  },
  {
   "cell_type": "markdown",
   "id": "9648040c",
   "metadata": {},
   "source": [
    "The scores that are to be grouped should be rounded. For instance, titles with scores like 7.8, 8.1, and 8.3 will all be placed in the same bucket with a score of 8."
   ]
  },
  {
   "cell_type": "code",
   "execution_count": 21,
   "id": "54bbd5c0",
   "metadata": {},
   "outputs": [
    {
     "name": "stdout",
     "output_type": "stream",
     "text": [
      "                      name character      role      title     type  \\\n",
      "85433     Maneerat Kam-Uan        Ae     ACTOR  Let's Eat  TV Show   \n",
      "85434    Rudklao Amratisha   unknown     ACTOR  Let's Eat  TV Show   \n",
      "85435      Jaturong Mokjok   unknown     ACTOR  Let's Eat  TV Show   \n",
      "85436     Pisamai Wilaisak   unknown     ACTOR  Let's Eat  TV Show   \n",
      "85437  Sarawut Wichiensarn   unknown  DIRECTOR  Let's Eat  TV Show   \n",
      "\n",
      "       release_year               genres  imdb_score  imdb_votes  \\\n",
      "85433          2021  ['drama', 'comedy']         8.2         5.0   \n",
      "85434          2021  ['drama', 'comedy']         8.2         5.0   \n",
      "85435          2021  ['drama', 'comedy']         8.2         5.0   \n",
      "85436          2021  ['drama', 'comedy']         8.2         5.0   \n",
      "85437          2021  ['drama', 'comedy']         8.2         5.0   \n",
      "\n",
      "       rounded_score  \n",
      "85433              8  \n",
      "85434              8  \n",
      "85435              8  \n",
      "85436              8  \n",
      "85437              8  \n"
     ]
    },
    {
     "name": "stderr",
     "output_type": "stream",
     "text": [
      "/tmp/ipykernel_50/2903679242.py:4: SettingWithCopyWarning: \n",
      "A value is trying to be set on a copy of a slice from a DataFrame.\n",
      "Try using .loc[row_indexer,col_indexer] = value instead\n",
      "\n",
      "See the caveats in the documentation: https://pandas.pydata.org/pandas-docs/stable/user_guide/indexing.html#returning-a-view-versus-a-copy\n",
      "  df_shows_only['rounded_score'] = df_shows_only['imdb_score'].round().astype(int)\n"
     ]
    }
   ],
   "source": [
    "# rounding column with scores\n",
    "\n",
    "# Round the 'imdb_score' column to the nearest integer\n",
    "df_shows_only['rounded_score'] = df_shows_only['imdb_score'].round().astype(int)\n",
    "\n",
    "#checking the outcome with tail()\n",
    "\n",
    "print(df_shows_only.tail())\n"
   ]
  },
  {
   "cell_type": "markdown",
   "id": "36dbd00a",
   "metadata": {},
   "source": [
    "It is now time to identify outliers based on the number of votes."
   ]
  },
  {
   "cell_type": "code",
   "execution_count": 23,
   "id": "b8b55e95",
   "metadata": {},
   "outputs": [
    {
     "name": "stdout",
     "output_type": "stream",
     "text": [
      "rounded_score\n",
      "2       5\n",
      "3       4\n",
      "4      30\n",
      "5      94\n",
      "6     347\n",
      "7     593\n",
      "8     539\n",
      "9      65\n",
      "10      1\n",
      "Name: title, dtype: int64\n"
     ]
    }
   ],
   "source": [
    "# Use groupby() for scores and count all unique values in each group, print the result\n",
    "\n",
    "score_counts = df_shows_only.groupby(\"rounded_score\")['title'].nunique()\n",
    "\n",
    "# Print the result\n",
    "print(score_counts)\n"
   ]
  },
  {
   "cell_type": "markdown",
   "id": "1ba6daae",
   "metadata": {},
   "source": [
    "Based on the aggregation performed, it is evident that scores 2 (24 voted shows), 3 (27 voted shows), and 10 (only 8 voted shows) are outliers. There isn't enough data for these scores for the average number of votes to be meaningful."
   ]
  },
  {
   "cell_type": "markdown",
   "id": "bd468c46",
   "metadata": {},
   "source": [
    "To obtain the mean numbers of votes for the selected scores (we identified a range of 4-9 as acceptable), use conditional filtering and grouping."
   ]
  },
  {
   "cell_type": "code",
   "execution_count": 24,
   "id": "d1867e0e",
   "metadata": {},
   "outputs": [
    {
     "name": "stdout",
     "output_type": "stream",
     "text": [
      "   rounded_score     imdb_votes\n",
      "0              4    5277.583333\n",
      "1              5    3143.942568\n",
      "2              6    3481.717322\n",
      "3              7    8727.068211\n",
      "4              8   30299.460967\n",
      "5              9  126904.109515\n"
     ]
    }
   ],
   "source": [
    "# filter dataframe using two conditions (scores to be in the range 4-9)\n",
    "\n",
    "# group scores and corresponding average number of votes, reset index and print the result\n",
    "\n",
    "\n",
    "# Filter the DataFrame to include scores in the range 4-9\n",
    "filtered_df = df_shows_only[df_shows_only['rounded_score'].between(4, 9)]\n",
    "\n",
    "# Group scores and calculate the mean number of votes\n",
    "mean_votes_per_score = filtered_df.groupby('rounded_score')['imdb_votes'].mean().reset_index()\n",
    "\n",
    "# Print the result\n",
    "print(mean_votes_per_score)\n"
   ]
  },
  {
   "cell_type": "markdown",
   "id": "96a66d14",
   "metadata": {},
   "source": [
    "Now for the final step! Round the column with the averages, rename both columns, and print the dataframe in descending order."
   ]
  },
  {
   "cell_type": "code",
   "execution_count": 25,
   "id": "5999051b",
   "metadata": {
    "scrolled": true
   },
   "outputs": [
    {
     "name": "stdout",
     "output_type": "stream",
     "text": [
      "   Rounded Score  Mean Votes\n",
      "5              9      126904\n",
      "4              8       30299\n",
      "3              7        8727\n",
      "0              4        5278\n",
      "2              6        3482\n",
      "1              5        3144\n"
     ]
    }
   ],
   "source": [
    "# round column with averages\n",
    "\n",
    "# rename columns\n",
    "\n",
    "# print dataframe in descending order\n",
    "\n",
    "\n",
    "# Round the 'imdb_votes' column in the DataFrame mean_votes_per_score\n",
    "mean_votes_per_score['mean_votes'] = mean_votes_per_score['imdb_votes'].round().astype(int)\n",
    "\n",
    "# Drop the original 'imdb_votes' column\n",
    "mean_votes_per_score.drop(columns=['imdb_votes'], inplace=True)\n",
    "\n",
    "# Rename the columns\n",
    "mean_votes_per_score.rename(columns={'rounded_score': 'Rounded Score', 'mean_votes': 'Mean Votes'}, inplace=True)\n",
    "\n",
    "# Print the DataFrame in descending order\n",
    "print(mean_votes_per_score.sort_values(by='Mean Votes', ascending=False))"
   ]
  },
  {
   "cell_type": "markdown",
   "id": "af07386d",
   "metadata": {},
   "source": [
    "The assumption macthes the analysis: the shows with the top 3 scores have the most amounts of votes."
   ]
  },
  {
   "cell_type": "markdown",
   "id": "84e29a37",
   "metadata": {},
   "source": [
    "## Conclusion <a id='hypotheses'></a>"
   ]
  },
  {
   "cell_type": "markdown",
   "id": "984766a3",
   "metadata": {},
   "source": [
    "The research done confirms that highly-rated shows released during the \"Golden Age\" of television also have the most votes. While shows with score 4 have more votes than ones with scores 5 and 6, the top three (scores 7-9) have the largest number. The data studied represents around 94% of the original set, so we can be confident in our findings."
   ]
  }
 ],
 "metadata": {
  "ExecuteTimeLog": [
   {
    "duration": 488,
    "start_time": "2024-06-25T16:54:07.924Z"
   },
   {
    "duration": 1071,
    "start_time": "2024-06-25T16:54:08.415Z"
   },
   {
    "duration": 0,
    "start_time": "2024-06-25T16:54:09.491Z"
   },
   {
    "duration": 0,
    "start_time": "2024-06-25T16:54:09.493Z"
   },
   {
    "duration": 0,
    "start_time": "2024-06-25T16:54:09.494Z"
   },
   {
    "duration": 0,
    "start_time": "2024-06-25T16:54:09.495Z"
   },
   {
    "duration": 0,
    "start_time": "2024-06-25T16:54:09.500Z"
   },
   {
    "duration": 0,
    "start_time": "2024-06-25T16:54:09.502Z"
   },
   {
    "duration": 0,
    "start_time": "2024-06-25T16:54:09.533Z"
   },
   {
    "duration": 0,
    "start_time": "2024-06-25T16:54:09.534Z"
   },
   {
    "duration": 0,
    "start_time": "2024-06-25T16:54:09.536Z"
   },
   {
    "duration": 0,
    "start_time": "2024-06-25T16:54:09.538Z"
   },
   {
    "duration": 0,
    "start_time": "2024-06-25T16:54:09.540Z"
   },
   {
    "duration": 0,
    "start_time": "2024-06-25T16:54:09.542Z"
   },
   {
    "duration": 0,
    "start_time": "2024-06-25T16:54:09.545Z"
   },
   {
    "duration": 0,
    "start_time": "2024-06-25T16:54:09.546Z"
   },
   {
    "duration": 0,
    "start_time": "2024-06-25T16:54:09.549Z"
   },
   {
    "duration": 0,
    "start_time": "2024-06-25T16:54:09.550Z"
   },
   {
    "duration": 0,
    "start_time": "2024-06-25T16:54:09.553Z"
   },
   {
    "duration": 1,
    "start_time": "2024-06-25T16:54:09.555Z"
   },
   {
    "duration": 0,
    "start_time": "2024-06-25T16:54:09.558Z"
   },
   {
    "duration": 0,
    "start_time": "2024-06-25T16:54:09.560Z"
   },
   {
    "duration": 0,
    "start_time": "2024-06-25T16:54:09.563Z"
   },
   {
    "duration": 0,
    "start_time": "2024-06-25T16:54:09.565Z"
   },
   {
    "duration": 275,
    "start_time": "2024-06-25T16:57:15.340Z"
   },
   {
    "duration": 422,
    "start_time": "2024-06-25T16:57:25.795Z"
   },
   {
    "duration": 200,
    "start_time": "2024-06-25T16:57:26.221Z"
   },
   {
    "duration": 11,
    "start_time": "2024-06-25T16:57:26.423Z"
   },
   {
    "duration": 36,
    "start_time": "2024-06-25T16:57:26.439Z"
   },
   {
    "duration": 4,
    "start_time": "2024-06-25T16:57:26.478Z"
   },
   {
    "duration": 6,
    "start_time": "2024-06-25T16:57:26.485Z"
   },
   {
    "duration": 42,
    "start_time": "2024-06-25T16:57:26.494Z"
   },
   {
    "duration": 30,
    "start_time": "2024-06-25T16:57:26.539Z"
   },
   {
    "duration": 23,
    "start_time": "2024-06-25T16:57:26.572Z"
   },
   {
    "duration": 27,
    "start_time": "2024-06-25T16:57:26.636Z"
   },
   {
    "duration": 94,
    "start_time": "2024-06-25T16:57:26.665Z"
   },
   {
    "duration": 91,
    "start_time": "2024-06-25T16:57:26.762Z"
   },
   {
    "duration": 93,
    "start_time": "2024-06-25T16:57:26.856Z"
   },
   {
    "duration": 67,
    "start_time": "2024-06-25T16:57:26.951Z"
   },
   {
    "duration": 1143,
    "start_time": "2024-06-25T16:57:27.033Z"
   },
   {
    "duration": 0,
    "start_time": "2024-06-25T16:57:28.179Z"
   },
   {
    "duration": 0,
    "start_time": "2024-06-25T16:57:28.180Z"
   },
   {
    "duration": 0,
    "start_time": "2024-06-25T16:57:28.183Z"
   },
   {
    "duration": 0,
    "start_time": "2024-06-25T16:57:28.184Z"
   },
   {
    "duration": 0,
    "start_time": "2024-06-25T16:57:28.187Z"
   },
   {
    "duration": 0,
    "start_time": "2024-06-25T16:57:28.189Z"
   },
   {
    "duration": 0,
    "start_time": "2024-06-25T16:57:28.193Z"
   },
   {
    "duration": 0,
    "start_time": "2024-06-25T16:57:28.195Z"
   },
   {
    "duration": 0,
    "start_time": "2024-06-25T16:57:28.197Z"
   },
   {
    "duration": 197,
    "start_time": "2024-06-25T16:59:35.420Z"
   },
   {
    "duration": 10,
    "start_time": "2024-06-25T16:59:45.754Z"
   },
   {
    "duration": 313,
    "start_time": "2024-06-26T00:27:17.709Z"
   },
   {
    "duration": 27,
    "start_time": "2024-06-26T00:27:18.961Z"
   },
   {
    "duration": 32,
    "start_time": "2024-06-26T00:27:19.690Z"
   },
   {
    "duration": 35,
    "start_time": "2024-06-26T00:27:20.642Z"
   },
   {
    "duration": 28,
    "start_time": "2024-06-26T00:27:21.566Z"
   },
   {
    "duration": 314,
    "start_time": "2024-06-27T00:58:47.718Z"
   },
   {
    "duration": 32,
    "start_time": "2024-06-27T01:03:16.994Z"
   },
   {
    "duration": 24,
    "start_time": "2024-06-27T01:03:20.377Z"
   },
   {
    "duration": 30,
    "start_time": "2024-06-27T01:03:23.437Z"
   },
   {
    "duration": 458,
    "start_time": "2024-06-27T04:58:06.965Z"
   },
   {
    "duration": 237,
    "start_time": "2024-06-27T04:58:07.427Z"
   },
   {
    "duration": 4,
    "start_time": "2024-06-27T04:58:07.666Z"
   },
   {
    "duration": 43,
    "start_time": "2024-06-27T04:58:07.676Z"
   },
   {
    "duration": 4,
    "start_time": "2024-06-27T04:58:07.722Z"
   },
   {
    "duration": 5,
    "start_time": "2024-06-27T04:58:07.729Z"
   },
   {
    "duration": 5,
    "start_time": "2024-06-27T04:58:07.737Z"
   },
   {
    "duration": 71,
    "start_time": "2024-06-27T04:58:07.745Z"
   },
   {
    "duration": 747,
    "start_time": "2024-06-27T04:58:07.821Z"
   },
   {
    "duration": 0,
    "start_time": "2024-06-27T04:58:08.572Z"
   },
   {
    "duration": 0,
    "start_time": "2024-06-27T04:58:08.575Z"
   },
   {
    "duration": 0,
    "start_time": "2024-06-27T04:58:08.577Z"
   },
   {
    "duration": 0,
    "start_time": "2024-06-27T04:58:08.592Z"
   },
   {
    "duration": 0,
    "start_time": "2024-06-27T04:58:08.594Z"
   },
   {
    "duration": 0,
    "start_time": "2024-06-27T04:58:08.597Z"
   },
   {
    "duration": 0,
    "start_time": "2024-06-27T04:58:08.599Z"
   },
   {
    "duration": 0,
    "start_time": "2024-06-27T04:58:08.600Z"
   },
   {
    "duration": 0,
    "start_time": "2024-06-27T04:58:08.602Z"
   },
   {
    "duration": 0,
    "start_time": "2024-06-27T04:58:08.604Z"
   },
   {
    "duration": 0,
    "start_time": "2024-06-27T04:58:08.605Z"
   },
   {
    "duration": 0,
    "start_time": "2024-06-27T04:58:08.607Z"
   },
   {
    "duration": 0,
    "start_time": "2024-06-27T04:58:08.609Z"
   },
   {
    "duration": 0,
    "start_time": "2024-06-27T04:58:08.611Z"
   },
   {
    "duration": 0,
    "start_time": "2024-06-27T04:58:08.613Z"
   },
   {
    "duration": 418,
    "start_time": "2024-06-27T05:00:05.049Z"
   },
   {
    "duration": 207,
    "start_time": "2024-06-27T05:00:05.470Z"
   },
   {
    "duration": 13,
    "start_time": "2024-06-27T05:00:05.679Z"
   },
   {
    "duration": 39,
    "start_time": "2024-06-27T05:00:05.697Z"
   },
   {
    "duration": 4,
    "start_time": "2024-06-27T05:00:05.741Z"
   },
   {
    "duration": 41,
    "start_time": "2024-06-27T05:00:05.749Z"
   },
   {
    "duration": 5,
    "start_time": "2024-06-27T05:00:05.793Z"
   },
   {
    "duration": 30,
    "start_time": "2024-06-27T05:00:05.801Z"
   },
   {
    "duration": 764,
    "start_time": "2024-06-27T05:00:05.834Z"
   },
   {
    "duration": 0,
    "start_time": "2024-06-27T05:00:06.602Z"
   },
   {
    "duration": 0,
    "start_time": "2024-06-27T05:00:06.604Z"
   },
   {
    "duration": 0,
    "start_time": "2024-06-27T05:00:06.607Z"
   },
   {
    "duration": 0,
    "start_time": "2024-06-27T05:00:06.610Z"
   },
   {
    "duration": 0,
    "start_time": "2024-06-27T05:00:06.612Z"
   },
   {
    "duration": 0,
    "start_time": "2024-06-27T05:00:06.614Z"
   },
   {
    "duration": 0,
    "start_time": "2024-06-27T05:00:06.617Z"
   },
   {
    "duration": 0,
    "start_time": "2024-06-27T05:00:06.620Z"
   },
   {
    "duration": 0,
    "start_time": "2024-06-27T05:00:06.622Z"
   },
   {
    "duration": 0,
    "start_time": "2024-06-27T05:00:06.624Z"
   },
   {
    "duration": 0,
    "start_time": "2024-06-27T05:00:06.626Z"
   },
   {
    "duration": 0,
    "start_time": "2024-06-27T05:00:06.628Z"
   },
   {
    "duration": 0,
    "start_time": "2024-06-27T05:00:06.630Z"
   },
   {
    "duration": 0,
    "start_time": "2024-06-27T05:00:06.631Z"
   },
   {
    "duration": 0,
    "start_time": "2024-06-27T05:00:06.633Z"
   },
   {
    "duration": 466,
    "start_time": "2024-06-27T05:00:28.670Z"
   },
   {
    "duration": 202,
    "start_time": "2024-06-27T05:00:29.139Z"
   },
   {
    "duration": 5,
    "start_time": "2024-06-27T05:00:29.344Z"
   },
   {
    "duration": 56,
    "start_time": "2024-06-27T05:00:29.354Z"
   },
   {
    "duration": 4,
    "start_time": "2024-06-27T05:00:29.413Z"
   },
   {
    "duration": 10,
    "start_time": "2024-06-27T05:00:29.420Z"
   },
   {
    "duration": 7,
    "start_time": "2024-06-27T05:00:29.433Z"
   },
   {
    "duration": 64,
    "start_time": "2024-06-27T05:00:29.444Z"
   },
   {
    "duration": 26,
    "start_time": "2024-06-27T05:00:29.511Z"
   },
   {
    "duration": 53,
    "start_time": "2024-06-27T05:00:29.543Z"
   },
   {
    "duration": 74,
    "start_time": "2024-06-27T05:00:29.598Z"
   },
   {
    "duration": 82,
    "start_time": "2024-06-27T05:00:29.691Z"
   },
   {
    "duration": 79,
    "start_time": "2024-06-27T05:00:29.792Z"
   },
   {
    "duration": 80,
    "start_time": "2024-06-27T05:00:29.874Z"
   },
   {
    "duration": 96,
    "start_time": "2024-06-27T05:00:29.957Z"
   },
   {
    "duration": 44,
    "start_time": "2024-06-27T05:00:30.056Z"
   },
   {
    "duration": 23,
    "start_time": "2024-06-27T05:00:30.103Z"
   },
   {
    "duration": 10,
    "start_time": "2024-06-27T05:00:30.129Z"
   },
   {
    "duration": 52,
    "start_time": "2024-06-27T05:00:30.142Z"
   },
   {
    "duration": 11,
    "start_time": "2024-06-27T05:00:30.197Z"
   },
   {
    "duration": 8,
    "start_time": "2024-06-27T05:00:30.210Z"
   },
   {
    "duration": 7,
    "start_time": "2024-06-27T05:00:30.221Z"
   },
   {
    "duration": 12,
    "start_time": "2024-06-27T05:00:30.231Z"
   },
   {
    "duration": 51,
    "start_time": "2024-06-27T05:00:30.245Z"
   },
   {
    "duration": 11,
    "start_time": "2024-06-27T05:03:36.277Z"
   },
   {
    "duration": 27,
    "start_time": "2024-06-27T05:03:40.320Z"
   },
   {
    "duration": 11,
    "start_time": "2024-06-27T05:05:01.420Z"
   },
   {
    "duration": 23,
    "start_time": "2024-06-27T05:05:03.276Z"
   },
   {
    "duration": 9,
    "start_time": "2024-06-27T05:05:18.131Z"
   },
   {
    "duration": 19,
    "start_time": "2024-06-27T05:05:25.006Z"
   },
   {
    "duration": 10,
    "start_time": "2024-06-27T05:05:26.332Z"
   },
   {
    "duration": 9,
    "start_time": "2024-06-27T05:05:27.731Z"
   },
   {
    "duration": 14,
    "start_time": "2024-06-27T05:05:37.342Z"
   },
   {
    "duration": 24,
    "start_time": "2024-06-27T05:05:38.411Z"
   },
   {
    "duration": 12,
    "start_time": "2024-06-27T05:05:44.244Z"
   },
   {
    "duration": 9,
    "start_time": "2024-06-27T05:05:47.810Z"
   },
   {
    "duration": 14,
    "start_time": "2024-06-27T05:05:50.378Z"
   },
   {
    "duration": 12,
    "start_time": "2024-06-27T05:05:52.835Z"
   },
   {
    "duration": 454,
    "start_time": "2024-06-27T05:07:04.265Z"
   },
   {
    "duration": 220,
    "start_time": "2024-06-27T05:07:04.723Z"
   },
   {
    "duration": 4,
    "start_time": "2024-06-27T05:07:04.946Z"
   },
   {
    "duration": 49,
    "start_time": "2024-06-27T05:07:04.954Z"
   },
   {
    "duration": 4,
    "start_time": "2024-06-27T05:07:05.007Z"
   },
   {
    "duration": 8,
    "start_time": "2024-06-27T05:07:05.014Z"
   },
   {
    "duration": 5,
    "start_time": "2024-06-27T05:07:05.026Z"
   },
   {
    "duration": 68,
    "start_time": "2024-06-27T05:07:05.034Z"
   },
   {
    "duration": 24,
    "start_time": "2024-06-27T05:07:05.104Z"
   },
   {
    "duration": 58,
    "start_time": "2024-06-27T05:07:05.133Z"
   },
   {
    "duration": 80,
    "start_time": "2024-06-27T05:07:05.194Z"
   },
   {
    "duration": 96,
    "start_time": "2024-06-27T05:07:05.277Z"
   },
   {
    "duration": 85,
    "start_time": "2024-06-27T05:07:05.391Z"
   },
   {
    "duration": 68,
    "start_time": "2024-06-27T05:07:05.490Z"
   },
   {
    "duration": 90,
    "start_time": "2024-06-27T05:07:05.561Z"
   },
   {
    "duration": 45,
    "start_time": "2024-06-27T05:07:05.654Z"
   },
   {
    "duration": 23,
    "start_time": "2024-06-27T05:07:05.702Z"
   },
   {
    "duration": 9,
    "start_time": "2024-06-27T05:07:05.728Z"
   },
   {
    "duration": 16,
    "start_time": "2024-06-27T05:07:05.741Z"
   },
   {
    "duration": 44,
    "start_time": "2024-06-27T05:07:05.759Z"
   },
   {
    "duration": 16,
    "start_time": "2024-06-27T05:07:05.805Z"
   },
   {
    "duration": 10,
    "start_time": "2024-06-27T05:07:05.824Z"
   },
   {
    "duration": 54,
    "start_time": "2024-06-27T05:07:05.837Z"
   },
   {
    "duration": 12,
    "start_time": "2024-06-27T05:07:05.894Z"
   },
   {
    "duration": 451,
    "start_time": "2024-06-27T05:07:22.819Z"
   },
   {
    "duration": 212,
    "start_time": "2024-06-27T05:07:23.274Z"
   },
   {
    "duration": 5,
    "start_time": "2024-06-27T05:07:23.489Z"
   },
   {
    "duration": 41,
    "start_time": "2024-06-27T05:07:23.503Z"
   },
   {
    "duration": 3,
    "start_time": "2024-06-27T05:07:23.548Z"
   },
   {
    "duration": 8,
    "start_time": "2024-06-27T05:07:23.555Z"
   },
   {
    "duration": 5,
    "start_time": "2024-06-27T05:07:23.591Z"
   },
   {
    "duration": 31,
    "start_time": "2024-06-27T05:07:23.599Z"
   },
   {
    "duration": 58,
    "start_time": "2024-06-27T05:07:23.633Z"
   },
   {
    "duration": 27,
    "start_time": "2024-06-27T05:07:23.696Z"
   },
   {
    "duration": 96,
    "start_time": "2024-06-27T05:07:23.726Z"
   },
   {
    "duration": 90,
    "start_time": "2024-06-27T05:07:23.825Z"
   },
   {
    "duration": 103,
    "start_time": "2024-06-27T05:07:23.919Z"
   },
   {
    "duration": 79,
    "start_time": "2024-06-27T05:07:24.025Z"
   },
   {
    "duration": 98,
    "start_time": "2024-06-27T05:07:24.107Z"
   },
   {
    "duration": 26,
    "start_time": "2024-06-27T05:07:24.208Z"
   },
   {
    "duration": 25,
    "start_time": "2024-06-27T05:07:24.237Z"
   },
   {
    "duration": 30,
    "start_time": "2024-06-27T05:07:24.264Z"
   },
   {
    "duration": 16,
    "start_time": "2024-06-27T05:07:24.298Z"
   },
   {
    "duration": 10,
    "start_time": "2024-06-27T05:07:24.317Z"
   },
   {
    "duration": 9,
    "start_time": "2024-06-27T05:07:24.330Z"
   },
   {
    "duration": 52,
    "start_time": "2024-06-27T05:07:24.343Z"
   },
   {
    "duration": 11,
    "start_time": "2024-06-27T05:07:24.399Z"
   },
   {
    "duration": 12,
    "start_time": "2024-06-27T05:07:24.412Z"
   },
   {
    "duration": 479,
    "start_time": "2024-06-27T18:35:57.285Z"
   },
   {
    "duration": 258,
    "start_time": "2024-06-27T18:35:57.768Z"
   },
   {
    "duration": 4,
    "start_time": "2024-06-27T18:35:58.029Z"
   },
   {
    "duration": 53,
    "start_time": "2024-06-27T18:35:58.039Z"
   },
   {
    "duration": 3,
    "start_time": "2024-06-27T18:35:58.096Z"
   },
   {
    "duration": 9,
    "start_time": "2024-06-27T18:35:58.103Z"
   },
   {
    "duration": 5,
    "start_time": "2024-06-27T18:35:58.115Z"
   },
   {
    "duration": 67,
    "start_time": "2024-06-27T18:35:58.124Z"
   },
   {
    "duration": 24,
    "start_time": "2024-06-27T18:35:58.194Z"
   },
   {
    "duration": 26,
    "start_time": "2024-06-27T18:35:58.224Z"
   },
   {
    "duration": 102,
    "start_time": "2024-06-27T18:35:58.254Z"
   },
   {
    "duration": 100,
    "start_time": "2024-06-27T18:35:58.359Z"
   },
   {
    "duration": 96,
    "start_time": "2024-06-27T18:35:58.463Z"
   },
   {
    "duration": 90,
    "start_time": "2024-06-27T18:35:58.562Z"
   },
   {
    "duration": 88,
    "start_time": "2024-06-27T18:35:58.655Z"
   },
   {
    "duration": 46,
    "start_time": "2024-06-27T18:35:58.746Z"
   },
   {
    "duration": 25,
    "start_time": "2024-06-27T18:35:58.795Z"
   },
   {
    "duration": 10,
    "start_time": "2024-06-27T18:35:58.824Z"
   },
   {
    "duration": 17,
    "start_time": "2024-06-27T18:35:58.837Z"
   },
   {
    "duration": 16,
    "start_time": "2024-06-27T18:35:58.889Z"
   },
   {
    "duration": 13,
    "start_time": "2024-06-27T18:35:58.908Z"
   },
   {
    "duration": 12,
    "start_time": "2024-06-27T18:35:58.925Z"
   },
   {
    "duration": 59,
    "start_time": "2024-06-27T18:35:58.943Z"
   },
   {
    "duration": 14,
    "start_time": "2024-06-27T18:35:59.007Z"
   },
   {
    "duration": 166,
    "start_time": "2024-11-16T23:45:28.466Z"
   },
   {
    "duration": 300,
    "start_time": "2024-11-16T23:46:15.892Z"
   },
   {
    "duration": 150,
    "start_time": "2024-11-16T23:46:16.194Z"
   },
   {
    "duration": 2,
    "start_time": "2024-11-16T23:46:16.346Z"
   },
   {
    "duration": 24,
    "start_time": "2024-11-16T23:46:16.349Z"
   },
   {
    "duration": 2,
    "start_time": "2024-11-16T23:46:16.376Z"
   },
   {
    "duration": 5,
    "start_time": "2024-11-16T23:46:16.380Z"
   },
   {
    "duration": 20,
    "start_time": "2024-11-16T23:46:16.388Z"
   },
   {
    "duration": 19,
    "start_time": "2024-11-16T23:46:16.411Z"
   },
   {
    "duration": 14,
    "start_time": "2024-11-16T23:46:16.432Z"
   },
   {
    "duration": 16,
    "start_time": "2024-11-16T23:46:16.448Z"
   },
   {
    "duration": 71,
    "start_time": "2024-11-16T23:46:16.466Z"
   },
   {
    "duration": 43,
    "start_time": "2024-11-16T23:46:16.539Z"
   },
   {
    "duration": 61,
    "start_time": "2024-11-16T23:46:16.584Z"
   },
   {
    "duration": 39,
    "start_time": "2024-11-16T23:46:16.649Z"
   },
   {
    "duration": 61,
    "start_time": "2024-11-16T23:46:16.690Z"
   },
   {
    "duration": 16,
    "start_time": "2024-11-16T23:46:16.753Z"
   },
   {
    "duration": 12,
    "start_time": "2024-11-16T23:46:16.772Z"
   },
   {
    "duration": 5,
    "start_time": "2024-11-16T23:46:16.786Z"
   },
   {
    "duration": 10,
    "start_time": "2024-11-16T23:46:16.810Z"
   },
   {
    "duration": 8,
    "start_time": "2024-11-16T23:46:16.822Z"
   },
   {
    "duration": 8,
    "start_time": "2024-11-16T23:46:16.832Z"
   },
   {
    "duration": 4,
    "start_time": "2024-11-16T23:46:16.843Z"
   },
   {
    "duration": 8,
    "start_time": "2024-11-16T23:46:16.849Z"
   },
   {
    "duration": 6,
    "start_time": "2024-11-16T23:46:16.858Z"
   },
   {
    "duration": 288,
    "start_time": "2024-12-10T21:04:17.636Z"
   },
   {
    "duration": 140,
    "start_time": "2024-12-10T21:04:17.926Z"
   },
   {
    "duration": 3,
    "start_time": "2024-12-10T21:04:18.068Z"
   },
   {
    "duration": 23,
    "start_time": "2024-12-10T21:04:18.074Z"
   },
   {
    "duration": 2,
    "start_time": "2024-12-10T21:04:18.099Z"
   },
   {
    "duration": 5,
    "start_time": "2024-12-10T21:04:18.102Z"
   },
   {
    "duration": 3,
    "start_time": "2024-12-10T21:04:18.109Z"
   },
   {
    "duration": 18,
    "start_time": "2024-12-10T21:04:18.142Z"
   },
   {
    "duration": 18,
    "start_time": "2024-12-10T21:04:18.162Z"
   },
   {
    "duration": 20,
    "start_time": "2024-12-10T21:04:18.184Z"
   },
   {
    "duration": 63,
    "start_time": "2024-12-10T21:04:18.205Z"
   },
   {
    "duration": 43,
    "start_time": "2024-12-10T21:04:18.270Z"
   },
   {
    "duration": 65,
    "start_time": "2024-12-10T21:04:18.316Z"
   },
   {
    "duration": 35,
    "start_time": "2024-12-10T21:04:18.383Z"
   },
   {
    "duration": 52,
    "start_time": "2024-12-10T21:04:18.420Z"
   },
   {
    "duration": 15,
    "start_time": "2024-12-10T21:04:18.474Z"
   },
   {
    "duration": 13,
    "start_time": "2024-12-10T21:04:18.491Z"
   },
   {
    "duration": 5,
    "start_time": "2024-12-10T21:04:18.506Z"
   },
   {
    "duration": 36,
    "start_time": "2024-12-10T21:04:18.512Z"
   },
   {
    "duration": 8,
    "start_time": "2024-12-10T21:04:18.550Z"
   },
   {
    "duration": 7,
    "start_time": "2024-12-10T21:04:18.560Z"
   },
   {
    "duration": 7,
    "start_time": "2024-12-10T21:04:18.568Z"
   },
   {
    "duration": 8,
    "start_time": "2024-12-10T21:04:18.576Z"
   },
   {
    "duration": 6,
    "start_time": "2024-12-10T21:04:18.586Z"
   },
   {
    "duration": 3,
    "start_time": "2024-12-10T21:05:22.292Z"
   },
   {
    "duration": 123,
    "start_time": "2024-12-10T21:05:23.246Z"
   },
   {
    "duration": 4,
    "start_time": "2024-12-10T21:05:25.900Z"
   },
   {
    "duration": 23,
    "start_time": "2024-12-10T21:05:41.316Z"
   },
   {
    "duration": 10,
    "start_time": "2024-12-10T21:05:54.861Z"
   },
   {
    "duration": 2,
    "start_time": "2024-12-10T21:10:20.487Z"
   },
   {
    "duration": 3,
    "start_time": "2024-12-10T21:10:31.858Z"
   },
   {
    "duration": 3,
    "start_time": "2024-12-10T21:10:47.299Z"
   },
   {
    "duration": 277,
    "start_time": "2024-12-10T21:11:35.312Z"
   },
   {
    "duration": 121,
    "start_time": "2024-12-10T21:11:35.592Z"
   },
   {
    "duration": 19,
    "start_time": "2024-12-10T21:11:35.714Z"
   },
   {
    "duration": 30,
    "start_time": "2024-12-10T21:11:35.743Z"
   },
   {
    "duration": 3,
    "start_time": "2024-12-10T21:11:35.776Z"
   },
   {
    "duration": 4,
    "start_time": "2024-12-10T21:11:35.782Z"
   },
   {
    "duration": 3,
    "start_time": "2024-12-10T21:11:35.788Z"
   },
   {
    "duration": 51,
    "start_time": "2024-12-10T21:11:35.793Z"
   },
   {
    "duration": 19,
    "start_time": "2024-12-10T21:11:35.846Z"
   },
   {
    "duration": 21,
    "start_time": "2024-12-10T21:11:35.867Z"
   },
   {
    "duration": 65,
    "start_time": "2024-12-10T21:11:35.890Z"
   },
   {
    "duration": 43,
    "start_time": "2024-12-10T21:11:35.957Z"
   },
   {
    "duration": 62,
    "start_time": "2024-12-10T21:11:36.002Z"
   },
   {
    "duration": 37,
    "start_time": "2024-12-10T21:11:36.066Z"
   },
   {
    "duration": 57,
    "start_time": "2024-12-10T21:11:36.105Z"
   },
   {
    "duration": 14,
    "start_time": "2024-12-10T21:11:36.164Z"
   },
   {
    "duration": 13,
    "start_time": "2024-12-10T21:11:36.180Z"
   },
   {
    "duration": 5,
    "start_time": "2024-12-10T21:11:36.195Z"
   },
   {
    "duration": 9,
    "start_time": "2024-12-10T21:11:36.202Z"
   },
   {
    "duration": 33,
    "start_time": "2024-12-10T21:11:36.213Z"
   },
   {
    "duration": 8,
    "start_time": "2024-12-10T21:11:36.247Z"
   },
   {
    "duration": 6,
    "start_time": "2024-12-10T21:11:36.257Z"
   },
   {
    "duration": 8,
    "start_time": "2024-12-10T21:11:36.265Z"
   },
   {
    "duration": 6,
    "start_time": "2024-12-10T21:11:36.276Z"
   },
   {
    "duration": 3,
    "start_time": "2024-12-10T21:11:47.118Z"
   },
   {
    "duration": 4,
    "start_time": "2024-12-10T21:11:50.170Z"
   },
   {
    "duration": 2,
    "start_time": "2024-12-10T21:11:55.414Z"
   },
   {
    "duration": 3,
    "start_time": "2024-12-10T21:12:11.181Z"
   },
   {
    "duration": 192,
    "start_time": "2024-12-10T21:12:42.552Z"
   },
   {
    "duration": 14,
    "start_time": "2024-12-10T21:12:57.404Z"
   },
   {
    "duration": 4,
    "start_time": "2024-12-10T21:13:09.439Z"
   },
   {
    "duration": 5,
    "start_time": "2024-12-10T21:13:25.029Z"
   },
   {
    "duration": 4,
    "start_time": "2024-12-10T21:13:38.158Z"
   },
   {
    "duration": 6,
    "start_time": "2024-12-10T21:16:22.442Z"
   },
   {
    "duration": 3,
    "start_time": "2024-12-10T21:16:35.694Z"
   },
   {
    "duration": 6,
    "start_time": "2024-12-10T21:16:51.176Z"
   },
   {
    "duration": 65,
    "start_time": "2024-12-10T21:31:21.422Z"
   },
   {
    "duration": 41,
    "start_time": "2024-12-10T21:31:42.329Z"
   },
   {
    "duration": 42,
    "start_time": "2024-12-10T21:32:07.384Z"
   },
   {
    "duration": 14,
    "start_time": "2024-12-10T21:35:10.501Z"
   },
   {
    "duration": 14,
    "start_time": "2024-12-10T21:35:14.020Z"
   },
   {
    "duration": 5,
    "start_time": "2024-12-10T21:35:23.514Z"
   },
   {
    "duration": 15,
    "start_time": "2024-12-10T21:36:52.567Z"
   },
   {
    "duration": 2,
    "start_time": "2024-12-10T21:36:53.630Z"
   },
   {
    "duration": 8,
    "start_time": "2024-12-10T21:36:55.178Z"
   },
   {
    "duration": 9,
    "start_time": "2024-12-10T21:43:17.782Z"
   },
   {
    "duration": 78,
    "start_time": "2024-12-10T21:43:33.616Z"
   },
   {
    "duration": 404,
    "start_time": "2024-12-10T21:44:08.115Z"
   },
   {
    "duration": 37,
    "start_time": "2024-12-10T21:44:58.741Z"
   },
   {
    "duration": 326,
    "start_time": "2024-12-10T21:45:03.762Z"
   },
   {
    "duration": 119,
    "start_time": "2024-12-10T21:45:04.090Z"
   },
   {
    "duration": 13,
    "start_time": "2024-12-10T21:45:04.211Z"
   },
   {
    "duration": 31,
    "start_time": "2024-12-10T21:45:04.226Z"
   },
   {
    "duration": 3,
    "start_time": "2024-12-10T21:45:04.260Z"
   },
   {
    "duration": 6,
    "start_time": "2024-12-10T21:45:04.265Z"
   },
   {
    "duration": 3,
    "start_time": "2024-12-10T21:45:04.272Z"
   },
   {
    "duration": 19,
    "start_time": "2024-12-10T21:45:04.277Z"
   },
   {
    "duration": 417,
    "start_time": "2024-12-10T21:45:04.298Z"
   },
   {
    "duration": 0,
    "start_time": "2024-12-10T21:45:04.717Z"
   },
   {
    "duration": 0,
    "start_time": "2024-12-10T21:45:04.718Z"
   },
   {
    "duration": 0,
    "start_time": "2024-12-10T21:45:04.720Z"
   },
   {
    "duration": 0,
    "start_time": "2024-12-10T21:45:04.721Z"
   },
   {
    "duration": 0,
    "start_time": "2024-12-10T21:45:04.723Z"
   },
   {
    "duration": 0,
    "start_time": "2024-12-10T21:45:04.724Z"
   },
   {
    "duration": 0,
    "start_time": "2024-12-10T21:45:04.743Z"
   },
   {
    "duration": 0,
    "start_time": "2024-12-10T21:45:04.744Z"
   },
   {
    "duration": 0,
    "start_time": "2024-12-10T21:45:04.745Z"
   },
   {
    "duration": 0,
    "start_time": "2024-12-10T21:45:04.747Z"
   },
   {
    "duration": 0,
    "start_time": "2024-12-10T21:45:04.748Z"
   },
   {
    "duration": 0,
    "start_time": "2024-12-10T21:45:04.750Z"
   },
   {
    "duration": 0,
    "start_time": "2024-12-10T21:45:04.751Z"
   },
   {
    "duration": 0,
    "start_time": "2024-12-10T21:45:04.753Z"
   },
   {
    "duration": 0,
    "start_time": "2024-12-10T21:45:04.754Z"
   },
   {
    "duration": 312,
    "start_time": "2024-12-10T21:49:15.751Z"
   },
   {
    "duration": 120,
    "start_time": "2024-12-10T21:49:16.066Z"
   },
   {
    "duration": 14,
    "start_time": "2024-12-10T21:49:16.188Z"
   },
   {
    "duration": 38,
    "start_time": "2024-12-10T21:49:16.205Z"
   },
   {
    "duration": 3,
    "start_time": "2024-12-10T21:49:16.245Z"
   },
   {
    "duration": 4,
    "start_time": "2024-12-10T21:49:16.250Z"
   },
   {
    "duration": 4,
    "start_time": "2024-12-10T21:49:16.256Z"
   },
   {
    "duration": 19,
    "start_time": "2024-12-10T21:49:16.262Z"
   },
   {
    "duration": 429,
    "start_time": "2024-12-10T21:49:16.283Z"
   },
   {
    "duration": 0,
    "start_time": "2024-12-10T21:49:16.715Z"
   },
   {
    "duration": 0,
    "start_time": "2024-12-10T21:49:16.716Z"
   },
   {
    "duration": 0,
    "start_time": "2024-12-10T21:49:16.718Z"
   },
   {
    "duration": 0,
    "start_time": "2024-12-10T21:49:16.719Z"
   },
   {
    "duration": 0,
    "start_time": "2024-12-10T21:49:16.720Z"
   },
   {
    "duration": 0,
    "start_time": "2024-12-10T21:49:16.721Z"
   },
   {
    "duration": 0,
    "start_time": "2024-12-10T21:49:16.722Z"
   },
   {
    "duration": 0,
    "start_time": "2024-12-10T21:49:16.723Z"
   },
   {
    "duration": 0,
    "start_time": "2024-12-10T21:49:16.724Z"
   },
   {
    "duration": 0,
    "start_time": "2024-12-10T21:49:16.725Z"
   },
   {
    "duration": 0,
    "start_time": "2024-12-10T21:49:16.726Z"
   },
   {
    "duration": 0,
    "start_time": "2024-12-10T21:49:16.742Z"
   },
   {
    "duration": 0,
    "start_time": "2024-12-10T21:49:16.744Z"
   },
   {
    "duration": 0,
    "start_time": "2024-12-10T21:49:16.745Z"
   },
   {
    "duration": 0,
    "start_time": "2024-12-10T21:49:16.746Z"
   },
   {
    "duration": 4,
    "start_time": "2024-12-10T21:51:18.334Z"
   },
   {
    "duration": 3,
    "start_time": "2024-12-10T21:51:37.987Z"
   },
   {
    "duration": 18,
    "start_time": "2024-12-10T21:51:49.397Z"
   },
   {
    "duration": 19,
    "start_time": "2024-12-10T21:51:50.625Z"
   },
   {
    "duration": 5,
    "start_time": "2024-12-10T21:52:21.854Z"
   },
   {
    "duration": 3,
    "start_time": "2024-12-10T21:52:40.105Z"
   },
   {
    "duration": 4,
    "start_time": "2024-12-10T21:52:41.474Z"
   },
   {
    "duration": 13,
    "start_time": "2024-12-10T22:01:17.030Z"
   },
   {
    "duration": 6,
    "start_time": "2024-12-10T22:01:26.670Z"
   },
   {
    "duration": 8,
    "start_time": "2024-12-10T22:02:04.914Z"
   },
   {
    "duration": 4,
    "start_time": "2024-12-10T22:02:23.956Z"
   },
   {
    "duration": 5,
    "start_time": "2024-12-10T22:02:28.127Z"
   },
   {
    "duration": 6,
    "start_time": "2024-12-10T22:02:37.186Z"
   },
   {
    "duration": 3,
    "start_time": "2024-12-10T22:02:54.379Z"
   },
   {
    "duration": 10,
    "start_time": "2024-12-10T22:02:59.344Z"
   },
   {
    "duration": 4,
    "start_time": "2024-12-10T22:03:16.415Z"
   },
   {
    "duration": 4,
    "start_time": "2024-12-10T22:03:35.392Z"
   },
   {
    "duration": 3,
    "start_time": "2024-12-10T22:04:00.768Z"
   },
   {
    "duration": 4,
    "start_time": "2024-12-10T22:04:02.100Z"
   },
   {
    "duration": 5,
    "start_time": "2024-12-10T22:04:06.538Z"
   },
   {
    "duration": 294,
    "start_time": "2024-12-10T22:04:18.642Z"
   },
   {
    "duration": 121,
    "start_time": "2024-12-10T22:04:18.942Z"
   },
   {
    "duration": 15,
    "start_time": "2024-12-10T22:04:19.065Z"
   },
   {
    "duration": 27,
    "start_time": "2024-12-10T22:04:19.082Z"
   },
   {
    "duration": 2,
    "start_time": "2024-12-10T22:04:19.113Z"
   },
   {
    "duration": 26,
    "start_time": "2024-12-10T22:04:19.117Z"
   },
   {
    "duration": 3,
    "start_time": "2024-12-10T22:04:19.145Z"
   },
   {
    "duration": 21,
    "start_time": "2024-12-10T22:04:19.150Z"
   },
   {
    "duration": 378,
    "start_time": "2024-12-10T22:04:19.172Z"
   },
   {
    "duration": 0,
    "start_time": "2024-12-10T22:04:19.552Z"
   },
   {
    "duration": 0,
    "start_time": "2024-12-10T22:04:19.553Z"
   },
   {
    "duration": 0,
    "start_time": "2024-12-10T22:04:19.555Z"
   },
   {
    "duration": 0,
    "start_time": "2024-12-10T22:04:19.556Z"
   },
   {
    "duration": 0,
    "start_time": "2024-12-10T22:04:19.558Z"
   },
   {
    "duration": 0,
    "start_time": "2024-12-10T22:04:19.559Z"
   },
   {
    "duration": 0,
    "start_time": "2024-12-10T22:04:19.560Z"
   },
   {
    "duration": 0,
    "start_time": "2024-12-10T22:04:19.562Z"
   },
   {
    "duration": 0,
    "start_time": "2024-12-10T22:04:19.563Z"
   },
   {
    "duration": 0,
    "start_time": "2024-12-10T22:04:19.564Z"
   },
   {
    "duration": 0,
    "start_time": "2024-12-10T22:04:19.566Z"
   },
   {
    "duration": 0,
    "start_time": "2024-12-10T22:04:19.567Z"
   },
   {
    "duration": 0,
    "start_time": "2024-12-10T22:04:19.568Z"
   },
   {
    "duration": 0,
    "start_time": "2024-12-10T22:04:19.570Z"
   },
   {
    "duration": 0,
    "start_time": "2024-12-10T22:04:19.570Z"
   },
   {
    "duration": 4,
    "start_time": "2024-12-10T22:05:03.063Z"
   },
   {
    "duration": 273,
    "start_time": "2024-12-10T22:05:08.928Z"
   },
   {
    "duration": 121,
    "start_time": "2024-12-10T22:05:09.203Z"
   },
   {
    "duration": 19,
    "start_time": "2024-12-10T22:05:09.326Z"
   },
   {
    "duration": 23,
    "start_time": "2024-12-10T22:05:09.346Z"
   },
   {
    "duration": 3,
    "start_time": "2024-12-10T22:05:09.371Z"
   },
   {
    "duration": 198,
    "start_time": "2024-12-10T22:05:09.376Z"
   },
   {
    "duration": 0,
    "start_time": "2024-12-10T22:05:09.576Z"
   },
   {
    "duration": 0,
    "start_time": "2024-12-10T22:05:09.577Z"
   },
   {
    "duration": 0,
    "start_time": "2024-12-10T22:05:09.578Z"
   },
   {
    "duration": 0,
    "start_time": "2024-12-10T22:05:09.579Z"
   },
   {
    "duration": 0,
    "start_time": "2024-12-10T22:05:09.580Z"
   },
   {
    "duration": 0,
    "start_time": "2024-12-10T22:05:09.580Z"
   },
   {
    "duration": 0,
    "start_time": "2024-12-10T22:05:09.581Z"
   },
   {
    "duration": 0,
    "start_time": "2024-12-10T22:05:09.582Z"
   },
   {
    "duration": 0,
    "start_time": "2024-12-10T22:05:09.583Z"
   },
   {
    "duration": 0,
    "start_time": "2024-12-10T22:05:09.584Z"
   },
   {
    "duration": 0,
    "start_time": "2024-12-10T22:05:09.586Z"
   },
   {
    "duration": 0,
    "start_time": "2024-12-10T22:05:09.586Z"
   },
   {
    "duration": 0,
    "start_time": "2024-12-10T22:05:09.587Z"
   },
   {
    "duration": 0,
    "start_time": "2024-12-10T22:05:09.588Z"
   },
   {
    "duration": 0,
    "start_time": "2024-12-10T22:05:09.589Z"
   },
   {
    "duration": 0,
    "start_time": "2024-12-10T22:05:09.590Z"
   },
   {
    "duration": 0,
    "start_time": "2024-12-10T22:05:09.592Z"
   },
   {
    "duration": 0,
    "start_time": "2024-12-10T22:05:09.593Z"
   },
   {
    "duration": 4,
    "start_time": "2024-12-10T22:05:35.949Z"
   },
   {
    "duration": 3,
    "start_time": "2024-12-10T22:05:37.206Z"
   },
   {
    "duration": 19,
    "start_time": "2024-12-10T22:05:40.142Z"
   },
   {
    "duration": 15,
    "start_time": "2024-12-10T22:05:41.422Z"
   },
   {
    "duration": 281,
    "start_time": "2024-12-10T22:05:46.904Z"
   },
   {
    "duration": 122,
    "start_time": "2024-12-10T22:05:47.187Z"
   },
   {
    "duration": 14,
    "start_time": "2024-12-10T22:05:47.312Z"
   },
   {
    "duration": 32,
    "start_time": "2024-12-10T22:05:47.330Z"
   },
   {
    "duration": 2,
    "start_time": "2024-12-10T22:05:47.364Z"
   },
   {
    "duration": 5,
    "start_time": "2024-12-10T22:05:47.367Z"
   },
   {
    "duration": 4,
    "start_time": "2024-12-10T22:05:47.373Z"
   },
   {
    "duration": 18,
    "start_time": "2024-12-10T22:05:47.378Z"
   },
   {
    "duration": 14,
    "start_time": "2024-12-10T22:05:47.398Z"
   },
   {
    "duration": 46,
    "start_time": "2024-12-10T22:05:47.413Z"
   },
   {
    "duration": 40,
    "start_time": "2024-12-10T22:05:47.461Z"
   },
   {
    "duration": 61,
    "start_time": "2024-12-10T22:05:47.503Z"
   },
   {
    "duration": 47,
    "start_time": "2024-12-10T22:05:47.568Z"
   },
   {
    "duration": 49,
    "start_time": "2024-12-10T22:05:47.617Z"
   },
   {
    "duration": 44,
    "start_time": "2024-12-10T22:05:47.668Z"
   },
   {
    "duration": 31,
    "start_time": "2024-12-10T22:05:47.714Z"
   },
   {
    "duration": 4,
    "start_time": "2024-12-10T22:05:47.746Z"
   },
   {
    "duration": 5,
    "start_time": "2024-12-10T22:05:47.751Z"
   },
   {
    "duration": 10,
    "start_time": "2024-12-10T22:05:47.758Z"
   },
   {
    "duration": 8,
    "start_time": "2024-12-10T22:05:47.770Z"
   },
   {
    "duration": 7,
    "start_time": "2024-12-10T22:05:47.779Z"
   },
   {
    "duration": 574,
    "start_time": "2024-12-10T22:05:47.788Z"
   },
   {
    "duration": 0,
    "start_time": "2024-12-10T22:05:48.364Z"
   },
   {
    "duration": 0,
    "start_time": "2024-12-10T22:05:48.365Z"
   },
   {
    "duration": 18,
    "start_time": "2024-12-10T22:06:33.439Z"
   },
   {
    "duration": 5,
    "start_time": "2024-12-10T22:07:17.351Z"
   },
   {
    "duration": 3,
    "start_time": "2024-12-10T22:07:37.987Z"
   },
   {
    "duration": 8,
    "start_time": "2024-12-10T22:07:52.696Z"
   },
   {
    "duration": 4,
    "start_time": "2024-12-10T22:08:25.828Z"
   },
   {
    "duration": 5,
    "start_time": "2024-12-10T22:08:37.210Z"
   },
   {
    "duration": 8,
    "start_time": "2024-12-10T22:09:32.228Z"
   },
   {
    "duration": 6,
    "start_time": "2024-12-10T22:11:38.735Z"
   },
   {
    "duration": 5,
    "start_time": "2024-12-10T22:12:11.882Z"
   },
   {
    "duration": 8,
    "start_time": "2024-12-10T22:13:58.387Z"
   },
   {
    "duration": 161,
    "start_time": "2024-12-10T22:40:28.808Z"
   },
   {
    "duration": 295,
    "start_time": "2024-12-10T22:40:34.467Z"
   },
   {
    "duration": 135,
    "start_time": "2024-12-10T22:40:34.764Z"
   },
   {
    "duration": 14,
    "start_time": "2024-12-10T22:40:34.901Z"
   },
   {
    "duration": 23,
    "start_time": "2024-12-10T22:40:34.916Z"
   },
   {
    "duration": 2,
    "start_time": "2024-12-10T22:40:34.943Z"
   },
   {
    "duration": 5,
    "start_time": "2024-12-10T22:40:34.946Z"
   },
   {
    "duration": 19,
    "start_time": "2024-12-10T22:40:34.952Z"
   },
   {
    "duration": 18,
    "start_time": "2024-12-10T22:40:34.973Z"
   },
   {
    "duration": 15,
    "start_time": "2024-12-10T22:40:34.992Z"
   },
   {
    "duration": 17,
    "start_time": "2024-12-10T22:40:35.009Z"
   },
   {
    "duration": 71,
    "start_time": "2024-12-10T22:40:35.028Z"
   },
   {
    "duration": 44,
    "start_time": "2024-12-10T22:40:35.100Z"
   },
   {
    "duration": 56,
    "start_time": "2024-12-10T22:40:35.146Z"
   },
   {
    "duration": 38,
    "start_time": "2024-12-10T22:40:35.206Z"
   },
   {
    "duration": 56,
    "start_time": "2024-12-10T22:40:35.246Z"
   },
   {
    "duration": 13,
    "start_time": "2024-12-10T22:40:35.304Z"
   },
   {
    "duration": 3,
    "start_time": "2024-12-10T22:40:35.319Z"
   },
   {
    "duration": 6,
    "start_time": "2024-12-10T22:40:35.324Z"
   },
   {
    "duration": 10,
    "start_time": "2024-12-10T22:40:35.331Z"
   },
   {
    "duration": 32,
    "start_time": "2024-12-10T22:40:35.343Z"
   },
   {
    "duration": 7,
    "start_time": "2024-12-10T22:40:35.376Z"
   },
   {
    "duration": 320,
    "start_time": "2024-12-10T22:40:35.385Z"
   },
   {
    "duration": 0,
    "start_time": "2024-12-10T22:40:35.706Z"
   },
   {
    "duration": 0,
    "start_time": "2024-12-10T22:40:35.708Z"
   },
   {
    "duration": 6,
    "start_time": "2024-12-10T22:40:57.683Z"
   },
   {
    "duration": 8,
    "start_time": "2024-12-10T22:41:19.904Z"
   },
   {
    "duration": 7,
    "start_time": "2024-12-10T22:41:21.439Z"
   }
  ],
  "kernelspec": {
   "display_name": "Python 3 (ipykernel)",
   "language": "python",
   "name": "python3"
  },
  "language_info": {
   "codemirror_mode": {
    "name": "ipython",
    "version": 3
   },
   "file_extension": ".py",
   "mimetype": "text/x-python",
   "name": "python",
   "nbconvert_exporter": "python",
   "pygments_lexer": "ipython3",
   "version": "3.10.11"
  },
  "toc": {
   "base_numbering": 1,
   "nav_menu": {},
   "number_sections": true,
   "sideBar": true,
   "skip_h1_title": true,
   "title_cell": "Table of Contents",
   "title_sidebar": "Contents",
   "toc_cell": false,
   "toc_position": {},
   "toc_section_display": true,
   "toc_window_display": false
  }
 },
 "nbformat": 4,
 "nbformat_minor": 5
}
