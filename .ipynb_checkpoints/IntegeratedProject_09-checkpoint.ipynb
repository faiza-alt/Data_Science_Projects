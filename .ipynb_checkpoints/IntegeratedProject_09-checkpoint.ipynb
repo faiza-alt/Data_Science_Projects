{
 "cells": [
  {
   "cell_type": "markdown",
   "metadata": {},
   "source": [
    "# Gold Recovery Data Analysis and Model Development"
   ]
  },
  {
   "cell_type": "markdown",
   "metadata": {},
   "source": [
    "<b>Introduction:</b>\n",
    "\n",
    "\n",
    "In this project, the goal is to build a model that accurately predicts the recovery of gold in different stages of the extraction process from mined ore. The dataset contains information about various parameters collected during the technological stages of gold processing:flotation and purification. The focus is to analyze the data, verify the calculations, handle missing values, and develop a model that can predict gold recovery efficiently. The evaluation metric used is sMAPE (symmetric Mean Absolute Percentage Error), designed to account for both absolute and relative differences between predicted and actual values."
   ]
  },
  {
   "cell_type": "markdown",
   "metadata": {},
   "source": [
    "# Step 1: Data Preparation"
   ]
  },
  {
   "cell_type": "code",
   "execution_count": 1,
   "metadata": {},
   "outputs": [
    {
     "name": "stdout",
     "output_type": "stream",
     "text": [
      "                  date  final.output.concentrate_ag  \\\n",
      "0  2016-01-15 00:00:00                     6.055403   \n",
      "1  2016-01-15 01:00:00                     6.029369   \n",
      "2  2016-01-15 02:00:00                     6.055926   \n",
      "3  2016-01-15 03:00:00                     6.047977   \n",
      "4  2016-01-15 04:00:00                     6.148599   \n",
      "\n",
      "   final.output.concentrate_pb  final.output.concentrate_sol  \\\n",
      "0                     9.889648                      5.507324   \n",
      "1                     9.968944                      5.257781   \n",
      "2                    10.213995                      5.383759   \n",
      "3                     9.977019                      4.858634   \n",
      "4                    10.142511                      4.939416   \n",
      "\n",
      "   final.output.concentrate_au  final.output.recovery  final.output.tail_ag  \\\n",
      "0                    42.192020              70.541216             10.411962   \n",
      "1                    42.701629              69.266198             10.462676   \n",
      "2                    42.657501              68.116445             10.507046   \n",
      "3                    42.689819              68.347543             10.422762   \n",
      "4                    42.774141              66.927016             10.360302   \n",
      "\n",
      "   final.output.tail_pb  final.output.tail_sol  final.output.tail_au  ...  \\\n",
      "0              0.895447              16.904297              2.143149  ...   \n",
      "1              0.927452              16.634514              2.224930  ...   \n",
      "2              0.953716              16.208849              2.257889  ...   \n",
      "3              0.883763              16.532835              2.146849  ...   \n",
      "4              0.792826              16.525686              2.055292  ...   \n",
      "\n",
      "   secondary_cleaner.state.floatbank4_a_air  \\\n",
      "0                                 14.016835   \n",
      "1                                 13.992281   \n",
      "2                                 14.015015   \n",
      "3                                 14.036510   \n",
      "4                                 14.027298   \n",
      "\n",
      "   secondary_cleaner.state.floatbank4_a_level  \\\n",
      "0                                 -502.488007   \n",
      "1                                 -505.503262   \n",
      "2                                 -502.520901   \n",
      "3                                 -500.857308   \n",
      "4                                 -499.838632   \n",
      "\n",
      "   secondary_cleaner.state.floatbank4_b_air  \\\n",
      "0                                 12.099931   \n",
      "1                                 11.950531   \n",
      "2                                 11.912783   \n",
      "3                                 11.999550   \n",
      "4                                 11.953070   \n",
      "\n",
      "   secondary_cleaner.state.floatbank4_b_level  \\\n",
      "0                                 -504.715942   \n",
      "1                                 -501.331529   \n",
      "2                                 -501.133383   \n",
      "3                                 -501.193686   \n",
      "4                                 -501.053894   \n",
      "\n",
      "   secondary_cleaner.state.floatbank5_a_air  \\\n",
      "0                                  9.925633   \n",
      "1                                 10.039245   \n",
      "2                                 10.070913   \n",
      "3                                  9.970366   \n",
      "4                                  9.925709   \n",
      "\n",
      "   secondary_cleaner.state.floatbank5_a_level  \\\n",
      "0                                 -498.310211   \n",
      "1                                 -500.169983   \n",
      "2                                 -500.129135   \n",
      "3                                 -499.201640   \n",
      "4                                 -501.686727   \n",
      "\n",
      "   secondary_cleaner.state.floatbank5_b_air  \\\n",
      "0                                  8.079666   \n",
      "1                                  7.984757   \n",
      "2                                  8.013877   \n",
      "3                                  7.977324   \n",
      "4                                  7.894242   \n",
      "\n",
      "   secondary_cleaner.state.floatbank5_b_level  \\\n",
      "0                                 -500.470978   \n",
      "1                                 -500.582168   \n",
      "2                                 -500.517572   \n",
      "3                                 -500.255908   \n",
      "4                                 -500.356035   \n",
      "\n",
      "   secondary_cleaner.state.floatbank6_a_air  \\\n",
      "0                                 14.151341   \n",
      "1                                 13.998353   \n",
      "2                                 14.028663   \n",
      "3                                 14.005551   \n",
      "4                                 13.996647   \n",
      "\n",
      "   secondary_cleaner.state.floatbank6_a_level  \n",
      "0                                 -605.841980  \n",
      "1                                 -599.787184  \n",
      "2                                 -601.427363  \n",
      "3                                 -599.996129  \n",
      "4                                 -601.496691  \n",
      "\n",
      "[5 rows x 87 columns]\n",
      "                  date  primary_cleaner.input.sulfate  \\\n",
      "0  2016-09-01 00:59:59                     210.800909   \n",
      "1  2016-09-01 01:59:59                     215.392455   \n",
      "2  2016-09-01 02:59:59                     215.259946   \n",
      "3  2016-09-01 03:59:59                     215.336236   \n",
      "4  2016-09-01 04:59:59                     199.099327   \n",
      "\n",
      "   primary_cleaner.input.depressant  primary_cleaner.input.feed_size  \\\n",
      "0                         14.993118                         8.080000   \n",
      "1                         14.987471                         8.080000   \n",
      "2                         12.884934                         7.786667   \n",
      "3                         12.006805                         7.640000   \n",
      "4                         10.682530                         7.530000   \n",
      "\n",
      "   primary_cleaner.input.xanthate  primary_cleaner.state.floatbank8_a_air  \\\n",
      "0                        1.005021                             1398.981301   \n",
      "1                        0.990469                             1398.777912   \n",
      "2                        0.996043                             1398.493666   \n",
      "3                        0.863514                             1399.618111   \n",
      "4                        0.805575                             1401.268123   \n",
      "\n",
      "   primary_cleaner.state.floatbank8_a_level  \\\n",
      "0                               -500.225577   \n",
      "1                               -500.057435   \n",
      "2                               -500.868360   \n",
      "3                               -498.863574   \n",
      "4                               -500.808305   \n",
      "\n",
      "   primary_cleaner.state.floatbank8_b_air  \\\n",
      "0                             1399.144926   \n",
      "1                             1398.055362   \n",
      "2                             1398.860436   \n",
      "3                             1397.440120   \n",
      "4                             1398.128818   \n",
      "\n",
      "   primary_cleaner.state.floatbank8_b_level  \\\n",
      "0                               -499.919735   \n",
      "1                               -499.778182   \n",
      "2                               -499.764529   \n",
      "3                               -499.211024   \n",
      "4                               -499.504543   \n",
      "\n",
      "   primary_cleaner.state.floatbank8_c_air  ...  \\\n",
      "0                             1400.102998  ...   \n",
      "1                             1396.151033  ...   \n",
      "2                             1398.075709  ...   \n",
      "3                             1400.129303  ...   \n",
      "4                             1402.172226  ...   \n",
      "\n",
      "   secondary_cleaner.state.floatbank4_a_air  \\\n",
      "0                                 12.023554   \n",
      "1                                 12.058140   \n",
      "2                                 11.962366   \n",
      "3                                 12.033091   \n",
      "4                                 12.025367   \n",
      "\n",
      "   secondary_cleaner.state.floatbank4_a_level  \\\n",
      "0                                 -497.795834   \n",
      "1                                 -498.695773   \n",
      "2                                 -498.767484   \n",
      "3                                 -498.350935   \n",
      "4                                 -500.786497   \n",
      "\n",
      "   secondary_cleaner.state.floatbank4_b_air  \\\n",
      "0                                  8.016656   \n",
      "1                                  8.130979   \n",
      "2                                  8.096893   \n",
      "3                                  8.074946   \n",
      "4                                  8.054678   \n",
      "\n",
      "   secondary_cleaner.state.floatbank4_b_level  \\\n",
      "0                                 -501.289139   \n",
      "1                                 -499.634209   \n",
      "2                                 -500.827423   \n",
      "3                                 -499.474407   \n",
      "4                                 -500.397500   \n",
      "\n",
      "   secondary_cleaner.state.floatbank5_a_air  \\\n",
      "0                                  7.946562   \n",
      "1                                  7.958270   \n",
      "2                                  8.071056   \n",
      "3                                  7.897085   \n",
      "4                                  8.107890   \n",
      "\n",
      "   secondary_cleaner.state.floatbank5_a_level  \\\n",
      "0                                 -432.317850   \n",
      "1                                 -525.839648   \n",
      "2                                 -500.801673   \n",
      "3                                 -500.868509   \n",
      "4                                 -509.526725   \n",
      "\n",
      "   secondary_cleaner.state.floatbank5_b_air  \\\n",
      "0                                  4.872511   \n",
      "1                                  4.878850   \n",
      "2                                  4.905125   \n",
      "3                                  4.931400   \n",
      "4                                  4.957674   \n",
      "\n",
      "   secondary_cleaner.state.floatbank5_b_level  \\\n",
      "0                                 -500.037437   \n",
      "1                                 -500.162375   \n",
      "2                                 -499.828510   \n",
      "3                                 -499.963623   \n",
      "4                                 -500.360026   \n",
      "\n",
      "   secondary_cleaner.state.floatbank6_a_air  \\\n",
      "0                                 26.705889   \n",
      "1                                 25.019940   \n",
      "2                                 24.994862   \n",
      "3                                 24.948919   \n",
      "4                                 25.003331   \n",
      "\n",
      "   secondary_cleaner.state.floatbank6_a_level  \n",
      "0                                 -499.709414  \n",
      "1                                 -499.819438  \n",
      "2                                 -500.622559  \n",
      "3                                 -498.709987  \n",
      "4                                 -500.856333  \n",
      "\n",
      "[5 rows x 53 columns]\n",
      "                  date  final.output.concentrate_ag  \\\n",
      "0  2016-01-15 00:00:00                     6.055403   \n",
      "1  2016-01-15 01:00:00                     6.029369   \n",
      "2  2016-01-15 02:00:00                     6.055926   \n",
      "3  2016-01-15 03:00:00                     6.047977   \n",
      "4  2016-01-15 04:00:00                     6.148599   \n",
      "\n",
      "   final.output.concentrate_pb  final.output.concentrate_sol  \\\n",
      "0                     9.889648                      5.507324   \n",
      "1                     9.968944                      5.257781   \n",
      "2                    10.213995                      5.383759   \n",
      "3                     9.977019                      4.858634   \n",
      "4                    10.142511                      4.939416   \n",
      "\n",
      "   final.output.concentrate_au  final.output.recovery  final.output.tail_ag  \\\n",
      "0                    42.192020              70.541216             10.411962   \n",
      "1                    42.701629              69.266198             10.462676   \n",
      "2                    42.657501              68.116445             10.507046   \n",
      "3                    42.689819              68.347543             10.422762   \n",
      "4                    42.774141              66.927016             10.360302   \n",
      "\n",
      "   final.output.tail_pb  final.output.tail_sol  final.output.tail_au  ...  \\\n",
      "0              0.895447              16.904297              2.143149  ...   \n",
      "1              0.927452              16.634514              2.224930  ...   \n",
      "2              0.953716              16.208849              2.257889  ...   \n",
      "3              0.883763              16.532835              2.146849  ...   \n",
      "4              0.792826              16.525686              2.055292  ...   \n",
      "\n",
      "   secondary_cleaner.state.floatbank4_a_air  \\\n",
      "0                                 14.016835   \n",
      "1                                 13.992281   \n",
      "2                                 14.015015   \n",
      "3                                 14.036510   \n",
      "4                                 14.027298   \n",
      "\n",
      "   secondary_cleaner.state.floatbank4_a_level  \\\n",
      "0                                 -502.488007   \n",
      "1                                 -505.503262   \n",
      "2                                 -502.520901   \n",
      "3                                 -500.857308   \n",
      "4                                 -499.838632   \n",
      "\n",
      "   secondary_cleaner.state.floatbank4_b_air  \\\n",
      "0                                 12.099931   \n",
      "1                                 11.950531   \n",
      "2                                 11.912783   \n",
      "3                                 11.999550   \n",
      "4                                 11.953070   \n",
      "\n",
      "   secondary_cleaner.state.floatbank4_b_level  \\\n",
      "0                                 -504.715942   \n",
      "1                                 -501.331529   \n",
      "2                                 -501.133383   \n",
      "3                                 -501.193686   \n",
      "4                                 -501.053894   \n",
      "\n",
      "   secondary_cleaner.state.floatbank5_a_air  \\\n",
      "0                                  9.925633   \n",
      "1                                 10.039245   \n",
      "2                                 10.070913   \n",
      "3                                  9.970366   \n",
      "4                                  9.925709   \n",
      "\n",
      "   secondary_cleaner.state.floatbank5_a_level  \\\n",
      "0                                 -498.310211   \n",
      "1                                 -500.169983   \n",
      "2                                 -500.129135   \n",
      "3                                 -499.201640   \n",
      "4                                 -501.686727   \n",
      "\n",
      "   secondary_cleaner.state.floatbank5_b_air  \\\n",
      "0                                  8.079666   \n",
      "1                                  7.984757   \n",
      "2                                  8.013877   \n",
      "3                                  7.977324   \n",
      "4                                  7.894242   \n",
      "\n",
      "   secondary_cleaner.state.floatbank5_b_level  \\\n",
      "0                                 -500.470978   \n",
      "1                                 -500.582168   \n",
      "2                                 -500.517572   \n",
      "3                                 -500.255908   \n",
      "4                                 -500.356035   \n",
      "\n",
      "   secondary_cleaner.state.floatbank6_a_air  \\\n",
      "0                                 14.151341   \n",
      "1                                 13.998353   \n",
      "2                                 14.028663   \n",
      "3                                 14.005551   \n",
      "4                                 13.996647   \n",
      "\n",
      "   secondary_cleaner.state.floatbank6_a_level  \n",
      "0                                 -605.841980  \n",
      "1                                 -599.787184  \n",
      "2                                 -601.427363  \n",
      "3                                 -599.996129  \n",
      "4                                 -601.496691  \n",
      "\n",
      "[5 rows x 87 columns]\n",
      "<class 'pandas.core.frame.DataFrame'>\n",
      "RangeIndex: 16860 entries, 0 to 16859\n",
      "Data columns (total 87 columns):\n",
      " #   Column                                              Non-Null Count  Dtype  \n",
      "---  ------                                              --------------  -----  \n",
      " 0   date                                                16860 non-null  object \n",
      " 1   final.output.concentrate_ag                         16788 non-null  float64\n",
      " 2   final.output.concentrate_pb                         16788 non-null  float64\n",
      " 3   final.output.concentrate_sol                        16490 non-null  float64\n",
      " 4   final.output.concentrate_au                         16789 non-null  float64\n",
      " 5   final.output.recovery                               15339 non-null  float64\n",
      " 6   final.output.tail_ag                                16794 non-null  float64\n",
      " 7   final.output.tail_pb                                16677 non-null  float64\n",
      " 8   final.output.tail_sol                               16715 non-null  float64\n",
      " 9   final.output.tail_au                                16794 non-null  float64\n",
      " 10  primary_cleaner.input.sulfate                       15553 non-null  float64\n",
      " 11  primary_cleaner.input.depressant                    15598 non-null  float64\n",
      " 12  primary_cleaner.input.feed_size                     16860 non-null  float64\n",
      " 13  primary_cleaner.input.xanthate                      15875 non-null  float64\n",
      " 14  primary_cleaner.output.concentrate_ag               16778 non-null  float64\n",
      " 15  primary_cleaner.output.concentrate_pb               16502 non-null  float64\n",
      " 16  primary_cleaner.output.concentrate_sol              16224 non-null  float64\n",
      " 17  primary_cleaner.output.concentrate_au               16778 non-null  float64\n",
      " 18  primary_cleaner.output.tail_ag                      16777 non-null  float64\n",
      " 19  primary_cleaner.output.tail_pb                      16761 non-null  float64\n",
      " 20  primary_cleaner.output.tail_sol                     16579 non-null  float64\n",
      " 21  primary_cleaner.output.tail_au                      16777 non-null  float64\n",
      " 22  primary_cleaner.state.floatbank8_a_air              16820 non-null  float64\n",
      " 23  primary_cleaner.state.floatbank8_a_level            16827 non-null  float64\n",
      " 24  primary_cleaner.state.floatbank8_b_air              16820 non-null  float64\n",
      " 25  primary_cleaner.state.floatbank8_b_level            16833 non-null  float64\n",
      " 26  primary_cleaner.state.floatbank8_c_air              16822 non-null  float64\n",
      " 27  primary_cleaner.state.floatbank8_c_level            16833 non-null  float64\n",
      " 28  primary_cleaner.state.floatbank8_d_air              16821 non-null  float64\n",
      " 29  primary_cleaner.state.floatbank8_d_level            16833 non-null  float64\n",
      " 30  rougher.calculation.sulfate_to_au_concentrate       16833 non-null  float64\n",
      " 31  rougher.calculation.floatbank10_sulfate_to_au_feed  16833 non-null  float64\n",
      " 32  rougher.calculation.floatbank11_sulfate_to_au_feed  16833 non-null  float64\n",
      " 33  rougher.calculation.au_pb_ratio                     15618 non-null  float64\n",
      " 34  rougher.input.feed_ag                               16778 non-null  float64\n",
      " 35  rougher.input.feed_pb                               16632 non-null  float64\n",
      " 36  rougher.input.feed_rate                             16347 non-null  float64\n",
      " 37  rougher.input.feed_size                             16443 non-null  float64\n",
      " 38  rougher.input.feed_sol                              16568 non-null  float64\n",
      " 39  rougher.input.feed_au                               16777 non-null  float64\n",
      " 40  rougher.input.floatbank10_sulfate                   15816 non-null  float64\n",
      " 41  rougher.input.floatbank10_xanthate                  16514 non-null  float64\n",
      " 42  rougher.input.floatbank11_sulfate                   16237 non-null  float64\n",
      " 43  rougher.input.floatbank11_xanthate                  14956 non-null  float64\n",
      " 44  rougher.output.concentrate_ag                       16778 non-null  float64\n",
      " 45  rougher.output.concentrate_pb                       16778 non-null  float64\n",
      " 46  rougher.output.concentrate_sol                      16698 non-null  float64\n",
      " 47  rougher.output.concentrate_au                       16778 non-null  float64\n",
      " 48  rougher.output.recovery                             14287 non-null  float64\n",
      " 49  rougher.output.tail_ag                              14610 non-null  float64\n",
      " 50  rougher.output.tail_pb                              16778 non-null  float64\n",
      " 51  rougher.output.tail_sol                             14611 non-null  float64\n",
      " 52  rougher.output.tail_au                              14611 non-null  float64\n",
      " 53  rougher.state.floatbank10_a_air                     16807 non-null  float64\n",
      " 54  rougher.state.floatbank10_a_level                   16807 non-null  float64\n",
      " 55  rougher.state.floatbank10_b_air                     16807 non-null  float64\n",
      " 56  rougher.state.floatbank10_b_level                   16807 non-null  float64\n",
      " 57  rougher.state.floatbank10_c_air                     16807 non-null  float64\n",
      " 58  rougher.state.floatbank10_c_level                   16814 non-null  float64\n",
      " 59  rougher.state.floatbank10_d_air                     16802 non-null  float64\n",
      " 60  rougher.state.floatbank10_d_level                   16809 non-null  float64\n",
      " 61  rougher.state.floatbank10_e_air                     16257 non-null  float64\n",
      " 62  rougher.state.floatbank10_e_level                   16809 non-null  float64\n",
      " 63  rougher.state.floatbank10_f_air                     16802 non-null  float64\n",
      " 64  rougher.state.floatbank10_f_level                   16802 non-null  float64\n",
      " 65  secondary_cleaner.output.tail_ag                    16776 non-null  float64\n",
      " 66  secondary_cleaner.output.tail_pb                    16764 non-null  float64\n",
      " 67  secondary_cleaner.output.tail_sol                   14874 non-null  float64\n",
      " 68  secondary_cleaner.output.tail_au                    16778 non-null  float64\n",
      " 69  secondary_cleaner.state.floatbank2_a_air            16497 non-null  float64\n",
      " 70  secondary_cleaner.state.floatbank2_a_level          16751 non-null  float64\n",
      " 71  secondary_cleaner.state.floatbank2_b_air            16705 non-null  float64\n",
      " 72  secondary_cleaner.state.floatbank2_b_level          16748 non-null  float64\n",
      " 73  secondary_cleaner.state.floatbank3_a_air            16763 non-null  float64\n",
      " 74  secondary_cleaner.state.floatbank3_a_level          16747 non-null  float64\n",
      " 75  secondary_cleaner.state.floatbank3_b_air            16752 non-null  float64\n",
      " 76  secondary_cleaner.state.floatbank3_b_level          16750 non-null  float64\n",
      " 77  secondary_cleaner.state.floatbank4_a_air            16731 non-null  float64\n",
      " 78  secondary_cleaner.state.floatbank4_a_level          16747 non-null  float64\n",
      " 79  secondary_cleaner.state.floatbank4_b_air            16768 non-null  float64\n",
      " 80  secondary_cleaner.state.floatbank4_b_level          16767 non-null  float64\n",
      " 81  secondary_cleaner.state.floatbank5_a_air            16775 non-null  float64\n",
      " 82  secondary_cleaner.state.floatbank5_a_level          16775 non-null  float64\n",
      " 83  secondary_cleaner.state.floatbank5_b_air            16775 non-null  float64\n",
      " 84  secondary_cleaner.state.floatbank5_b_level          16776 non-null  float64\n",
      " 85  secondary_cleaner.state.floatbank6_a_air            16757 non-null  float64\n",
      " 86  secondary_cleaner.state.floatbank6_a_level          16775 non-null  float64\n",
      "dtypes: float64(86), object(1)\n",
      "memory usage: 11.2+ MB\n",
      "None\n",
      "<class 'pandas.core.frame.DataFrame'>\n",
      "RangeIndex: 5856 entries, 0 to 5855\n",
      "Data columns (total 53 columns):\n",
      " #   Column                                      Non-Null Count  Dtype  \n",
      "---  ------                                      --------------  -----  \n",
      " 0   date                                        5856 non-null   object \n",
      " 1   primary_cleaner.input.sulfate               5554 non-null   float64\n",
      " 2   primary_cleaner.input.depressant            5572 non-null   float64\n",
      " 3   primary_cleaner.input.feed_size             5856 non-null   float64\n",
      " 4   primary_cleaner.input.xanthate              5690 non-null   float64\n",
      " 5   primary_cleaner.state.floatbank8_a_air      5840 non-null   float64\n",
      " 6   primary_cleaner.state.floatbank8_a_level    5840 non-null   float64\n",
      " 7   primary_cleaner.state.floatbank8_b_air      5840 non-null   float64\n",
      " 8   primary_cleaner.state.floatbank8_b_level    5840 non-null   float64\n",
      " 9   primary_cleaner.state.floatbank8_c_air      5840 non-null   float64\n",
      " 10  primary_cleaner.state.floatbank8_c_level    5840 non-null   float64\n",
      " 11  primary_cleaner.state.floatbank8_d_air      5840 non-null   float64\n",
      " 12  primary_cleaner.state.floatbank8_d_level    5840 non-null   float64\n",
      " 13  rougher.input.feed_ag                       5840 non-null   float64\n",
      " 14  rougher.input.feed_pb                       5840 non-null   float64\n",
      " 15  rougher.input.feed_rate                     5816 non-null   float64\n",
      " 16  rougher.input.feed_size                     5834 non-null   float64\n",
      " 17  rougher.input.feed_sol                      5789 non-null   float64\n",
      " 18  rougher.input.feed_au                       5840 non-null   float64\n",
      " 19  rougher.input.floatbank10_sulfate           5599 non-null   float64\n",
      " 20  rougher.input.floatbank10_xanthate          5733 non-null   float64\n",
      " 21  rougher.input.floatbank11_sulfate           5801 non-null   float64\n",
      " 22  rougher.input.floatbank11_xanthate          5503 non-null   float64\n",
      " 23  rougher.state.floatbank10_a_air             5839 non-null   float64\n",
      " 24  rougher.state.floatbank10_a_level           5840 non-null   float64\n",
      " 25  rougher.state.floatbank10_b_air             5839 non-null   float64\n",
      " 26  rougher.state.floatbank10_b_level           5840 non-null   float64\n",
      " 27  rougher.state.floatbank10_c_air             5839 non-null   float64\n",
      " 28  rougher.state.floatbank10_c_level           5840 non-null   float64\n",
      " 29  rougher.state.floatbank10_d_air             5839 non-null   float64\n",
      " 30  rougher.state.floatbank10_d_level           5840 non-null   float64\n",
      " 31  rougher.state.floatbank10_e_air             5839 non-null   float64\n",
      " 32  rougher.state.floatbank10_e_level           5840 non-null   float64\n",
      " 33  rougher.state.floatbank10_f_air             5839 non-null   float64\n",
      " 34  rougher.state.floatbank10_f_level           5840 non-null   float64\n",
      " 35  secondary_cleaner.state.floatbank2_a_air    5836 non-null   float64\n",
      " 36  secondary_cleaner.state.floatbank2_a_level  5840 non-null   float64\n",
      " 37  secondary_cleaner.state.floatbank2_b_air    5833 non-null   float64\n",
      " 38  secondary_cleaner.state.floatbank2_b_level  5840 non-null   float64\n",
      " 39  secondary_cleaner.state.floatbank3_a_air    5822 non-null   float64\n",
      " 40  secondary_cleaner.state.floatbank3_a_level  5840 non-null   float64\n",
      " 41  secondary_cleaner.state.floatbank3_b_air    5840 non-null   float64\n",
      " 42  secondary_cleaner.state.floatbank3_b_level  5840 non-null   float64\n",
      " 43  secondary_cleaner.state.floatbank4_a_air    5840 non-null   float64\n",
      " 44  secondary_cleaner.state.floatbank4_a_level  5840 non-null   float64\n",
      " 45  secondary_cleaner.state.floatbank4_b_air    5840 non-null   float64\n",
      " 46  secondary_cleaner.state.floatbank4_b_level  5840 non-null   float64\n",
      " 47  secondary_cleaner.state.floatbank5_a_air    5840 non-null   float64\n",
      " 48  secondary_cleaner.state.floatbank5_a_level  5840 non-null   float64\n",
      " 49  secondary_cleaner.state.floatbank5_b_air    5840 non-null   float64\n",
      " 50  secondary_cleaner.state.floatbank5_b_level  5840 non-null   float64\n",
      " 51  secondary_cleaner.state.floatbank6_a_air    5840 non-null   float64\n",
      " 52  secondary_cleaner.state.floatbank6_a_level  5840 non-null   float64\n",
      "dtypes: float64(52), object(1)\n",
      "memory usage: 2.4+ MB\n",
      "None\n",
      "<class 'pandas.core.frame.DataFrame'>\n",
      "RangeIndex: 22716 entries, 0 to 22715\n",
      "Data columns (total 87 columns):\n",
      " #   Column                                              Non-Null Count  Dtype  \n",
      "---  ------                                              --------------  -----  \n",
      " 0   date                                                22716 non-null  object \n",
      " 1   final.output.concentrate_ag                         22627 non-null  float64\n",
      " 2   final.output.concentrate_pb                         22629 non-null  float64\n",
      " 3   final.output.concentrate_sol                        22331 non-null  float64\n",
      " 4   final.output.concentrate_au                         22630 non-null  float64\n",
      " 5   final.output.recovery                               20753 non-null  float64\n",
      " 6   final.output.tail_ag                                22633 non-null  float64\n",
      " 7   final.output.tail_pb                                22516 non-null  float64\n",
      " 8   final.output.tail_sol                               22445 non-null  float64\n",
      " 9   final.output.tail_au                                22635 non-null  float64\n",
      " 10  primary_cleaner.input.sulfate                       21107 non-null  float64\n",
      " 11  primary_cleaner.input.depressant                    21170 non-null  float64\n",
      " 12  primary_cleaner.input.feed_size                     22716 non-null  float64\n",
      " 13  primary_cleaner.input.xanthate                      21565 non-null  float64\n",
      " 14  primary_cleaner.output.concentrate_ag               22618 non-null  float64\n",
      " 15  primary_cleaner.output.concentrate_pb               22268 non-null  float64\n",
      " 16  primary_cleaner.output.concentrate_sol              21918 non-null  float64\n",
      " 17  primary_cleaner.output.concentrate_au               22618 non-null  float64\n",
      " 18  primary_cleaner.output.tail_ag                      22614 non-null  float64\n",
      " 19  primary_cleaner.output.tail_pb                      22594 non-null  float64\n",
      " 20  primary_cleaner.output.tail_sol                     22365 non-null  float64\n",
      " 21  primary_cleaner.output.tail_au                      22617 non-null  float64\n",
      " 22  primary_cleaner.state.floatbank8_a_air              22660 non-null  float64\n",
      " 23  primary_cleaner.state.floatbank8_a_level            22667 non-null  float64\n",
      " 24  primary_cleaner.state.floatbank8_b_air              22660 non-null  float64\n",
      " 25  primary_cleaner.state.floatbank8_b_level            22673 non-null  float64\n",
      " 26  primary_cleaner.state.floatbank8_c_air              22662 non-null  float64\n",
      " 27  primary_cleaner.state.floatbank8_c_level            22673 non-null  float64\n",
      " 28  primary_cleaner.state.floatbank8_d_air              22661 non-null  float64\n",
      " 29  primary_cleaner.state.floatbank8_d_level            22673 non-null  float64\n",
      " 30  rougher.calculation.sulfate_to_au_concentrate       22672 non-null  float64\n",
      " 31  rougher.calculation.floatbank10_sulfate_to_au_feed  22672 non-null  float64\n",
      " 32  rougher.calculation.floatbank11_sulfate_to_au_feed  22672 non-null  float64\n",
      " 33  rougher.calculation.au_pb_ratio                     21089 non-null  float64\n",
      " 34  rougher.input.feed_ag                               22618 non-null  float64\n",
      " 35  rougher.input.feed_pb                               22472 non-null  float64\n",
      " 36  rougher.input.feed_rate                             22163 non-null  float64\n",
      " 37  rougher.input.feed_size                             22277 non-null  float64\n",
      " 38  rougher.input.feed_sol                              22357 non-null  float64\n",
      " 39  rougher.input.feed_au                               22617 non-null  float64\n",
      " 40  rougher.input.floatbank10_sulfate                   21415 non-null  float64\n",
      " 41  rougher.input.floatbank10_xanthate                  22247 non-null  float64\n",
      " 42  rougher.input.floatbank11_sulfate                   22038 non-null  float64\n",
      " 43  rougher.input.floatbank11_xanthate                  20459 non-null  float64\n",
      " 44  rougher.output.concentrate_ag                       22618 non-null  float64\n",
      " 45  rougher.output.concentrate_pb                       22618 non-null  float64\n",
      " 46  rougher.output.concentrate_sol                      22526 non-null  float64\n",
      " 47  rougher.output.concentrate_au                       22618 non-null  float64\n",
      " 48  rougher.output.recovery                             19597 non-null  float64\n",
      " 49  rougher.output.tail_ag                              19979 non-null  float64\n",
      " 50  rougher.output.tail_pb                              22618 non-null  float64\n",
      " 51  rougher.output.tail_sol                             19980 non-null  float64\n",
      " 52  rougher.output.tail_au                              19980 non-null  float64\n",
      " 53  rougher.state.floatbank10_a_air                     22646 non-null  float64\n",
      " 54  rougher.state.floatbank10_a_level                   22647 non-null  float64\n",
      " 55  rougher.state.floatbank10_b_air                     22646 non-null  float64\n",
      " 56  rougher.state.floatbank10_b_level                   22647 non-null  float64\n",
      " 57  rougher.state.floatbank10_c_air                     22646 non-null  float64\n",
      " 58  rougher.state.floatbank10_c_level                   22654 non-null  float64\n",
      " 59  rougher.state.floatbank10_d_air                     22641 non-null  float64\n",
      " 60  rougher.state.floatbank10_d_level                   22649 non-null  float64\n",
      " 61  rougher.state.floatbank10_e_air                     22096 non-null  float64\n",
      " 62  rougher.state.floatbank10_e_level                   22649 non-null  float64\n",
      " 63  rougher.state.floatbank10_f_air                     22641 non-null  float64\n",
      " 64  rougher.state.floatbank10_f_level                   22642 non-null  float64\n",
      " 65  secondary_cleaner.output.tail_ag                    22616 non-null  float64\n",
      " 66  secondary_cleaner.output.tail_pb                    22600 non-null  float64\n",
      " 67  secondary_cleaner.output.tail_sol                   20501 non-null  float64\n",
      " 68  secondary_cleaner.output.tail_au                    22618 non-null  float64\n",
      " 69  secondary_cleaner.state.floatbank2_a_air            22333 non-null  float64\n",
      " 70  secondary_cleaner.state.floatbank2_a_level          22591 non-null  float64\n",
      " 71  secondary_cleaner.state.floatbank2_b_air            22538 non-null  float64\n",
      " 72  secondary_cleaner.state.floatbank2_b_level          22588 non-null  float64\n",
      " 73  secondary_cleaner.state.floatbank3_a_air            22585 non-null  float64\n",
      " 74  secondary_cleaner.state.floatbank3_a_level          22587 non-null  float64\n",
      " 75  secondary_cleaner.state.floatbank3_b_air            22592 non-null  float64\n",
      " 76  secondary_cleaner.state.floatbank3_b_level          22590 non-null  float64\n",
      " 77  secondary_cleaner.state.floatbank4_a_air            22571 non-null  float64\n",
      " 78  secondary_cleaner.state.floatbank4_a_level          22587 non-null  float64\n",
      " 79  secondary_cleaner.state.floatbank4_b_air            22608 non-null  float64\n",
      " 80  secondary_cleaner.state.floatbank4_b_level          22607 non-null  float64\n",
      " 81  secondary_cleaner.state.floatbank5_a_air            22615 non-null  float64\n",
      " 82  secondary_cleaner.state.floatbank5_a_level          22615 non-null  float64\n",
      " 83  secondary_cleaner.state.floatbank5_b_air            22615 non-null  float64\n",
      " 84  secondary_cleaner.state.floatbank5_b_level          22616 non-null  float64\n",
      " 85  secondary_cleaner.state.floatbank6_a_air            22597 non-null  float64\n",
      " 86  secondary_cleaner.state.floatbank6_a_level          22615 non-null  float64\n",
      "dtypes: float64(86), object(1)\n",
      "memory usage: 15.1+ MB\n",
      "None\n"
     ]
    }
   ],
   "source": [
    "# Importing necessary libraries\n",
    "import pandas as pd\n",
    "import numpy as np\n",
    "from sklearn.metrics import mean_absolute_error\n",
    "import matplotlib.pyplot as plt\n",
    "from sklearn.metrics import make_scorer\n",
    "from sklearn.ensemble import RandomForestRegressor\n",
    "from sklearn.model_selection import GridSearchCV, train_test_split, cross_val_score\n",
    "from sklearn.ensemble import GradientBoostingRegressor\n",
    "\n",
    "\n",
    "# File paths\n",
    "train_file = '/datasets/gold_recovery_train.csv'\n",
    "test_file = '/datasets/gold_recovery_test.csv'\n",
    "full_file = '/datasets/gold_recovery_full.csv'\n",
    "\n",
    "# Loading data\n",
    "train_data = pd.read_csv(train_file)\n",
    "test_data = pd.read_csv(test_file)\n",
    "full_data = pd.read_csv(full_file)\n",
    "\n",
    "# Viewing the first few rows of each dataset\n",
    "print(train_data.head())\n",
    "print(test_data.head())\n",
    "print(full_data.head())\n",
    "\n",
    "# Viewing information about the datasets\n",
    "print(train_data.info())\n",
    "print(test_data.info())\n",
    "print(full_data.info())\n"
   ]
  },
  {
   "cell_type": "markdown",
   "metadata": {},
   "source": [
    "<b>Observation:</b>\n",
    "\n",
    "The datasets (train_data, test_data, and full_data) contain numerous columns (features) representing different parameters collected at various stages of the gold extraction process.\n",
    "The training dataset (train_data) has both input features and target values (rougher.output.recovery and final.output.recovery), while the test dataset (test_data) lacks the target values, as it is meant for model evaluation.\n",
    "The full dataset (full_data) combines information from both training and test datasets, providing a comprehensive view of all available features."
   ]
  },
  {
   "cell_type": "markdown",
   "metadata": {},
   "source": [
    "# Validate the rougher recovery calculation"
   ]
  },
  {
   "cell_type": "markdown",
   "metadata": {},
   "source": [
    "The formula for recovery is:\n",
    "\n",
    "recovery=C×(F−T)/F×(C−T) ×100\n",
    "\n",
    "Where:\n",
    "\n",
    "C = Concentration of gold in the rougher output (concentrate)\n",
    "\n",
    "F = Concentration of gold in the input (feed)\n",
    "\n",
    "T = Concentration of gold in the rougher tails"
   ]
  },
  {
   "cell_type": "code",
   "execution_count": 2,
   "metadata": {
    "scrolled": true
   },
   "outputs": [
    {
     "name": "stdout",
     "output_type": "stream",
     "text": [
      "NaNs in rougher.output.recovery: 2573\n",
      "NaNs in calculated_recovery: 2283\n",
      "Infinities in rougher.output.recovery: 0\n",
      "Infinities in calculated_recovery: 30\n",
      "Mean Absolute Error (MAE): 0.00\n"
     ]
    }
   ],
   "source": [
    "def calculate_recovery(C, F, T):\n",
    "    return (C * (F - T)) / (F * (C - T)) * 100\n",
    "\n",
    "# Applying the formula to the training set\n",
    "train_data['calculated_recovery'] = calculate_recovery(\n",
    "    train_data['rougher.output.concentrate_au'],\n",
    "    train_data['rougher.input.feed_au'],\n",
    "    train_data['rougher.output.tail_au']\n",
    ")\n",
    "\n",
    "# Calculating the MAE between the calculated recovery and the dataset values\n",
    "\n",
    "# Checking for NaNs or infinities in 'rougher.output.recovery' and 'calculated_recovery'\n",
    "print(f\"NaNs in rougher.output.recovery: {train_data['rougher.output.recovery'].isna().sum()}\")\n",
    "print(f\"NaNs in calculated_recovery: {train_data['calculated_recovery'].isna().sum()}\")\n",
    "print(f\"Infinities in rougher.output.recovery: {np.isinf(train_data['rougher.output.recovery']).sum()}\")\n",
    "print(f\"Infinities in calculated_recovery: {np.isinf(train_data['calculated_recovery']).sum()}\")\n",
    "\n",
    "# Filtering out rows with NaN or infinite values\n",
    "train_data_filtered = train_data.dropna(subset=['rougher.output.recovery', 'calculated_recovery'])\n",
    "train_data_filtered = train_data_filtered[np.isfinite(train_data_filtered['rougher.output.recovery']) & \n",
    "                                          np.isfinite(train_data_filtered['calculated_recovery'])]\n",
    "\n",
    "# Recalculating the MAE after filtering\n",
    "mae = mean_absolute_error(train_data_filtered['rougher.output.recovery'], train_data_filtered['calculated_recovery'])\n",
    "print(f'Mean Absolute Error (MAE): {mae:.2f}')\n",
    "\n",
    "\n"
   ]
  },
  {
   "cell_type": "markdown",
   "metadata": {},
   "source": [
    "<b>Explanation</b>\n",
    "\n",
    "\n",
    "Identify NaNs and Infinities: We print out the number of NaNs and infinite values in both columns. This helps us understand if and where the problematic values exist.\n",
    "Filter the Dataset: We drop rows containing NaN or infinite values in either column using dropna and a condition that checks for finite values (np.isfinite).\n",
    "Recalculate the MAE: After cleaning the data, we recalculate the MAE to ensure it computes correctly without errors.\n",
    "\n",
    "\n",
    "<b>Observations:</b>\n",
    "\n",
    "\n",
    "Presence of NaNs:\n",
    "\n",
    "There are 2,573 NaN values in the rougher.output.recovery column of the training dataset.\n",
    "Similarly, there are 2,283 NaN values in the calculated_recovery column. This indicates that a significant portion of the data is missing, which could be due to the nature of the gold recovery process where not all data is recorded or available at all times.\n",
    "Presence of Infinities:\n",
    "\n",
    "There are 30 infinite values in the calculated_recovery column but none in the rougher.output.recovery column. Infinite values in calculated_recovery may occur due to division by zero or other mathematical anomalies in the recovery calculation formula when either the concentration of gold in the tails or feed is zero. These anomalies need to be handled appropriately.\n",
    "Effect on MAE Calculation:\n",
    "\n",
    "After filtering out the rows containing NaNs and infinities, the Mean Absolute Error (MAE) was calculated as 0.00, which suggests that, for the cleaned subset of data, our recalculated values match the original values perfectly. This outcome implies that the formula used for recovery calculation is accurate when applied to valid (non-NaN, finite) data.\n",
    "Implications for Data Preprocessing:\n",
    "\n",
    "The presence of a substantial number of missing and infinite values highlights the need for careful preprocessing. Rows with NaNs and infinite values must be either filled (if possible) or removed to maintain the integrity of the dataset.\n",
    "Since the MAE is zero for the cleaned data, it suggests that removing problematic rows does not compromise the accuracy of the remaining dataset."
   ]
  },
  {
   "cell_type": "markdown",
   "metadata": {},
   "source": [
    "# Analyze features not available in the test set"
   ]
  },
  {
   "cell_type": "code",
   "execution_count": 3,
   "metadata": {},
   "outputs": [
    {
     "name": "stdout",
     "output_type": "stream",
     "text": [
      "Features missing in the test set: {'secondary_cleaner.output.tail_pb', 'rougher.calculation.sulfate_to_au_concentrate', 'final.output.tail_sol', 'rougher.output.tail_pb', 'primary_cleaner.output.tail_pb', 'rougher.output.concentrate_ag', 'final.output.concentrate_sol', 'primary_cleaner.output.tail_sol', 'primary_cleaner.output.tail_au', 'rougher.output.concentrate_au', 'secondary_cleaner.output.tail_ag', 'rougher.output.concentrate_sol', 'secondary_cleaner.output.tail_au', 'final.output.tail_au', 'final.output.concentrate_ag', 'rougher.output.tail_au', 'rougher.output.tail_ag', 'rougher.calculation.floatbank10_sulfate_to_au_feed', 'primary_cleaner.output.concentrate_ag', 'secondary_cleaner.output.tail_sol', 'final.output.tail_ag', 'primary_cleaner.output.concentrate_pb', 'rougher.output.tail_sol', 'primary_cleaner.output.concentrate_au', 'calculated_recovery', 'final.output.concentrate_pb', 'primary_cleaner.output.tail_ag', 'primary_cleaner.output.concentrate_sol', 'final.output.concentrate_au', 'final.output.recovery', 'rougher.calculation.floatbank11_sulfate_to_au_feed', 'rougher.output.recovery', 'final.output.tail_pb', 'rougher.calculation.au_pb_ratio', 'rougher.output.concentrate_pb'}\n"
     ]
    }
   ],
   "source": [
    "# Finding features present in the training set but missing in the test set\n",
    "missing_features = set(train_data.columns) - set(test_data.columns)\n",
    "print(\"Features missing in the test set:\", missing_features)\n"
   ]
  },
  {
   "cell_type": "markdown",
   "metadata": {},
   "source": [
    "<b>Observations:</b>\n",
    "\n",
    "The missing features are mostly output and state parameters recorded later in the process, which are unavailable during prediction.\n",
    "These features will not be used for model training, so the model will rely only on input and state parameters available in both sets."
   ]
  },
  {
   "cell_type": "markdown",
   "metadata": {},
   "source": [
    "# Perform data preprocessing"
   ]
  },
  {
   "cell_type": "code",
   "execution_count": 4,
   "metadata": {},
   "outputs": [
    {
     "name": "stdout",
     "output_type": "stream",
     "text": [
      "0\n",
      "0\n"
     ]
    }
   ],
   "source": [
    "# Handling missing values: Filling with forward fill method\n",
    "train_data.fillna(method='ffill', inplace=True)\n",
    "test_data.fillna(method='ffill', inplace=True)\n",
    "\n",
    "# Checking for remaining missing values\n",
    "print(train_data.isnull().sum().sum())\n",
    "print(test_data.isnull().sum().sum())\n"
   ]
  },
  {
   "cell_type": "markdown",
   "metadata": {},
   "source": [
    "<b>Observations After Data Preprocessing</b>\n",
    "\n",
    "Filling Missing Values:\n",
    "\n",
    "The forward fill (ffill) method was applied to both the training and test datasets. This method fills missing values with the previous valid value from the same column, which is particularly suitable for time-series or process-related data like ours, where adjacent values are likely to be similar.\n",
    "\n",
    "\n",
    "Check for Remaining Missing Values:\n",
    "\n",
    "After applying the forward fill method, there are no remaining missing values in either the training or test datasets (0 missing values in each dataset). This indicates that the forward fill method successfully filled all missing entries.\n",
    "Data Integrity:\n",
    "\n",
    "With the missing values handled, the dataset is now more complete and consistent. This step is crucial for ensuring that the model can be trained on a dataset without any gaps, which might otherwise lead to errors or biases during model training.\n",
    "Filling in the missing values ensures that every row in the dataset has all the necessary information, allowing the model to make full use of the available data.\n",
    "\n",
    "Assumption Validation:\n",
    "\n",
    "The success of the forward fill method also validates the assumption that parameters recorded in close time intervals are likely similar. If this assumption were invalid (if the process were highly volatile), other methods such as interpolation or specific imputation strategies would have been necessary.\n"
   ]
  },
  {
   "cell_type": "markdown",
   "metadata": {},
   "source": [
    "# Step 2: Data Analysis"
   ]
  },
  {
   "cell_type": "markdown",
   "metadata": {},
   "source": [
    "<b>Analyze metal concentrations across stages</b>"
   ]
  },
  {
   "cell_type": "code",
   "execution_count": 5,
   "metadata": {},
   "outputs": [
    {
     "data": {
      "image/png": "[encoded data removed]",
      "text/plain": [
       "<Figure size 1000x600 with 1 Axes>"
      ]
     },
     "metadata": {},
     "output_type": "display_data"
    },
    {
     "data": {
      "image/png": "[encoded data removed]",
      "text/plain": [
       "<Figure size 1000x600 with 1 Axes>"
      ]
     },
     "metadata": {},
     "output_type": "display_data"
    },
    {
     "data": {
      "image/png": "[encoded data removed]",
      "text/plain": [
       "<Figure size 1000x600 with 1 Axes>"
      ]
     },
     "metadata": {},
     "output_type": "display_data"
    }
   ],
   "source": [
    "    \n",
    "    \n",
    "# Defining the metals and the stages to compare\n",
    "metals = ['au', 'ag', 'pb']\n",
    "stages = ['rougher.output', 'primary_cleaner.output', 'final.output']\n",
    "\n",
    "# Looping through each metal and plotting histograms\n",
    "for metal in metals:\n",
    "    plt.figure(figsize=(10, 6))\n",
    "    for stage in stages:\n",
    "        column_name = f'{stage}.concentrate_{metal}'\n",
    "        if column_name in train_data.columns:\n",
    "            plt.hist(train_data[column_name], bins=50, alpha=0.5, label=f'{stage} {metal}')\n",
    "    # Including the rougher.input.feed stage as specified\n",
    "    input_column_name = f'rougher.input.feed_{metal}'\n",
    "    if input_column_name in train_data.columns:\n",
    "        plt.hist(train_data[input_column_name], bins=50, alpha=0.5, label=f'rougher.input.feed {metal}')\n",
    "    \n",
    "    plt.title(f'{metal.upper()} Concentration Distribution Across Stages')\n",
    "    plt.xlabel(f'{metal.upper()} Concentration')\n",
    "    plt.ylabel('Frequency')\n",
    "    plt.legend()\n",
    "    plt.show()\n",
    "\n"
   ]
  },
  {
   "cell_type": "markdown",
   "metadata": {},
   "source": [
    "<b>The graph illustrates the concentration of gold (AU) across different stages of a purification process. Here's an interpretation: </b>\n",
    " \n",
    "\n",
    "<b>Title: AU Concentration Across Stages</b> \n",
    "\n",
    "X-axis: Index (likely representing data points or time) \n",
    "\n",
    "\n",
    "Y-axis: AU Concentration\n",
    "\n",
    "\n",
    "Rougher Input Feed:\n",
    "This stage exhibits the widest distribution of Au concentration, indicating a diverse range of gold content in the initial feed.\n",
    "\n",
    "Rougher Output:\n",
    "The distribution is slightly narrower and shifted to the right, suggesting an increase in the average Au concentration after the rougher stage. \n",
    "\n",
    "Primary Cleaner Output:\n",
    "The distribution is further narrowed and shifted rightward, indicating a further increase in the average Au concentration. \n",
    "\n",
    "\n",
    "\n",
    "Final Output:\n",
    "This stage displays the narrowest distribution and the highest average Au concentration, signifying the effectiveness of the process in concentrating gold.\n",
    "\n",
    "\n",
    "\n",
    "\n",
    "\n",
    "\n",
    "\n",
    "\n",
    "<b>Title: AG Concentration Across Stages </b>\n",
    "\n",
    "The graph displays the distribution of silver (AG) concentration across different stages of a process, likely a mineral processing operation.\n",
    "\n",
    "X-axis: Represents the AG concentration. \n",
    " \n",
    " \n",
    "Y-axis: Represents the frequency (number of occurrences) of a particular AG concentration. \n",
    "\n",
    "\n",
    "Different colored bars: Represent different stages in the process, including: \n",
    "Rougher input feed \n",
    "Rougher output \n",
    "Primary cleaner output \n",
    "\n",
    "\n",
    "\n",
    "Final output \n",
    "\n",
    "Rougher input feed:\n",
    "Shows a wide range of AG concentrations with a peak around 5-6. \n",
    "\n",
    "Rougher output:\n",
    "Has a higher peak and a narrower distribution compared to the input, indicating that the rougher stage is concentrating the AG.\n",
    "\n",
    "Primary cleaner output:\n",
    "Shows a further increase in AG concentration, with the peak shifting towards the higher end. \n",
    "\n",
    "\n",
    "Final output:\n",
    "Has the highest AG concentration, indicating the success of the overall process in enriching the AG content\n",
    "\n",
    "\n",
    "\n",
    "\n",
    "\n",
    "\n",
    "\n",
    "<b>Title: \"PB Concentration Distribution Across Stages\" </b>\n",
    "\n",
    "<b>The image shows a histogram depicting the distribution of PB (presumably lead) concentration across different stages of a process. Here's a breakdown of the key elements:  </b>\n",
    "\n",
    "\n",
    "\n",
    "X-axis: Represents the PB concentration level. \n",
    "\n",
    "\n",
    "Y-axis: Represents the frequency (number of occurrences) of a particular PB concentration level. \n",
    "\n",
    "Legend: Identifies the different stages of the process being analyzed: Rougher output PB, Primary cleaner output PB, Final output PB, and Rougher input feed PB. \n",
    "\n",
    "\n",
    "\n",
    "\n",
    "Interpretation:\n",
    "\n",
    "The histograms show how the distribution of PB concentration changes throughout the process. \n",
    "\n",
    "The \"rougher input feed PB\" appears to have the lowest average PB concentration, while the \"final output PB\" displays the highest. \n",
    "\n",
    "The \"rougher output PB\" and \"primary cleaner output PB\" show intermediate levels of PB concentration, with the latter exhibiting a slightly higher average concentration."
   ]
  },
  {
   "cell_type": "markdown",
   "metadata": {},
   "source": [
    "# Compare feed particle size distributions"
   ]
  },
  {
   "cell_type": "code",
   "execution_count": 6,
   "metadata": {},
   "outputs": [
    {
     "data": {
      "image/png": "[encoded data removed]",
      "text/plain": [
       "<Figure size 1000x600 with 1 Axes>"
      ]
     },
     "metadata": {},
     "output_type": "display_data"
    }
   ],
   "source": [
    "\n",
    "# Plotting feed particle size distributions for training and test sets\n",
    "plt.figure(figsize=(10, 6))\n",
    "plt.hist(train_data['rougher.input.feed_size'], alpha=0.5, label='Train Feed Size', bins=50, density=True)\n",
    "plt.hist(test_data['rougher.input.feed_size'], alpha=0.5, label='Test Feed Size', bins=50, density=True)\n",
    "plt.title('Normalized Feed Particle Size Distribution')\n",
    "plt.xlabel('Feed Size')\n",
    "plt.ylabel('Density')\n",
    "plt.legend()\n",
    "plt.show()\n",
    "\n"
   ]
  },
  {
   "cell_type": "markdown",
   "metadata": {},
   "source": [
    "The image shows two overlaid histograms representing the normalized feed particle size distribution for both a \"Train Feed Size\" and a \"Test Feed Size\". \n",
    "\n",
    "Key observations: \n",
    "\n",
    "X-axis: Represents the feed particle size, likely measured in micrometers or a similar unit. \n",
    "Y-axis: Represents the density, indicating the proportion of particles within a specific size range. \n",
    "\n",
    "Blue bars: Depict the distribution of the \"Test Feed Size\". \n",
    "Orange bars: Depict the distribution of the \"Train Feed Size\". \n",
    "Distribution: Both distributions appear to be right-skewed, meaning that most particles fall within the smaller size ranges, with fewer larger particles. \n",
    "Comparison: The \"Train Feed Size\" seems to have a slightly higher proportion of smaller particles compared to the \"Test Feed Size\".\n",
    "\n",
    "\n",
    "The distributions are fairly similar.\n",
    "Both are right-skewed, indicating that most particles are smaller, with a few larger ones. \n",
    "The peaks of both distributions occur around the same feed size range. \n",
    "The \"Test Feed Size\" distribution has a slightly higher peak and appears to have a slightly higher proportion of smaller particles compared to the \"Train Feed Size\" distribution."
   ]
  },
  {
   "cell_type": "markdown",
   "metadata": {},
   "source": [
    "# Evaluate total concentrations and anomalies"
   ]
  },
  {
   "cell_type": "code",
   "execution_count": 7,
   "metadata": {},
   "outputs": [
    {
     "data": {
      "image/png": "[encoded data removed]",
      "text/plain": [
       "<Figure size 1000x600 with 1 Axes>"
      ]
     },
     "metadata": {},
     "output_type": "display_data"
    },
    {
     "data": {
      "image/png": "[encoded data removed]",
      "text/plain": [
       "<Figure size 1000x600 with 1 Axes>"
      ]
     },
     "metadata": {},
     "output_type": "display_data"
    },
    {
     "data": {
      "image/png": "[encoded data removed]",
      "text/plain": [
       "<Figure size 1000x600 with 1 Axes>"
      ]
     },
     "metadata": {},
     "output_type": "display_data"
    },
    {
     "name": "stdout",
     "output_type": "stream",
     "text": [
      "Number of near-zero anomalies at feed stage: 1213\n",
      "Number of near-zero anomalies at rougher stage: 1547\n",
      "Number of near-zero anomalies at final stage: 1320\n"
     ]
    }
   ],
   "source": [
    "# Calculating total concentrations at various stages\n",
    "train_data['total_concentration_feed'] = train_data[['rougher.input.feed_au', 'rougher.input.feed_ag', 'rougher.input.feed_pb']].sum(axis=1)\n",
    "train_data['total_concentration_rougher'] = train_data[['rougher.output.concentrate_au', 'rougher.output.concentrate_ag', 'rougher.output.concentrate_pb']].sum(axis=1)\n",
    "train_data['total_concentration_final'] = train_data[['final.output.concentrate_au', 'final.output.concentrate_ag', 'final.output.concentrate_pb']].sum(axis=1)\n",
    "\n",
    "# Plotting the total concentration for each stage\n",
    "stages = ['feed', 'rougher', 'final']\n",
    "for stage in stages:\n",
    "    plt.figure(figsize=(10, 6))\n",
    "    plt.hist(train_data[f'total_concentration_{stage}'], bins=50, alpha=0.7)\n",
    "    plt.title(f'Total Concentration Distribution at {stage} Stage')\n",
    "    plt.xlabel('Total Concentration')\n",
    "    plt.ylabel('Frequency')\n",
    "    plt.show()\n",
    "\n",
    "# Checking for near-zero total concentrations at each stage\n",
    "for stage in stages:\n",
    "    near_zero_anomalies = train_data[train_data[f'total_concentration_{stage}'] <= 1e-3]  # Threshold for near-zero\n",
    "    print(f'Number of near-zero anomalies at {stage} stage: {len(near_zero_anomalies)}')\n",
    "\n",
    "# Removing near-zero anomalies from the dataset\n",
    "for stage in stages:\n",
    "    train_data = train_data[train_data[f'total_concentration_{stage}'] > 1e-3]\n"
   ]
  },
  {
   "cell_type": "markdown",
   "metadata": {},
   "source": [
    "\n",
    "<b>Observations:</b>\n",
    "Based on the histograms and the interpretation of the distributions at different stages (feed, rougher, and final), we observe a few important patterns and potential issues with the data.\n",
    "\n",
    "\n",
    "Feed Stage Distribution:\n",
    "\n",
    "The histogram shows a roughly bell-shaped distribution, with most values concentrated between 15 and 25. The peak is around 20.\n",
    "There are some outliers on the lower end, suggesting instances where the concentration was significantly lower than average.\n",
    "Near-Zero Concentrations: The presence of 1,213 anomalies near zero indicates that these values are not realistic for the feed stage and should be filtered out.\n",
    "\n",
    "Rougher Stage Distribution:\n",
    "\n",
    "The distribution peaks around 40, with values ranging from 0 to 50. It is roughly normal but slightly skewed to the left.\n",
    "The peak frequency indicates that this stage generally has higher total concentrations than the feed stage.\n",
    "Near-Zero Concentrations: The existence of 1,547 near-zero anomalies in this stage is unusual, as the rougher process typically increases the concentration of valuable minerals. These values likely represent erroneous or invalid entries.\n",
    "\n",
    "Final Stage Distribution:\n",
    "\n",
    "The histogram for the final stage shows a highly skewed distribution with a sharp peak around 60, indicating that most data points are concentrated at this high concentration level.\n",
    "There is also a small peak near zero, suggesting some data points with very low concentrations.\n",
    "Near-Zero Concentrations: With 1,320 anomalies, the near-zero concentrations are not plausible in the final stage, as the purification process should yield higher concentration values.\n",
    "\n",
    "Conclusion and Actions Taken:\n",
    "The identified near-zero anomalies (1,213 in the feed stage, 1,547 in the rougher stage, and 1,320 in the final stage) suggest that these values are not realistic given the context of the gold recovery process.\n",
    "We filtered out these anomalies from the dataset to ensure that the remaining data accurately reflects the expected concentration levels at each stage. This step is essential for maintaining the integrity and accuracy of the model training and evaluation process.\n",
    "\n",
    "\n",
    "\n",
    "If there is a peak near zero in any of the distributions, it is not realistic to have such low total concentrations at any of these stages in the gold recovery process. In such cases, the code filters out these anomalies to ensure the dataset only contains valid and realistic values."
   ]
  },
  {
   "cell_type": "markdown",
   "metadata": {},
   "source": [
    "# Step 3: Model Development"
   ]
  },
  {
   "cell_type": "markdown",
   "metadata": {},
   "source": [
    "<b>Write a function for sMAPE</b>"
   ]
  },
  {
   "cell_type": "code",
   "execution_count": 8,
   "metadata": {},
   "outputs": [
    {
     "name": "stdout",
     "output_type": "stream",
     "text": [
      "Defining models.....\n",
      "Done models\n"
     ]
    }
   ],
   "source": [
    "\n",
    "print(\"Defining models.....\")\n",
    "\n",
    "# Define the sMAPE function\n",
    "def smape(y_true, y_pred):\n",
    "    return 100 * np.mean(2 * np.abs(y_pred - y_true) / (np.abs(y_true) + np.abs(y_pred)))\n",
    "\n",
    "# Define the weighted sMAPE function\n",
    "def weighted_smape(y_true_rougher, y_pred_rougher, y_true_final, y_pred_final):\n",
    "    smape_rougher = smape(y_true_rougher, y_pred_rougher)\n",
    "    smape_final = smape(y_true_final, y_pred_final)\n",
    "    return 0.25 * smape_rougher + 0.75 * smape_final\n",
    "\n",
    "# Create a custom scorer for GridSearchCV\n",
    "smape_scorer = make_scorer(smape, greater_is_better=False)\n",
    "\n",
    "print(\"Done models\")"
   ]
  },
  {
   "cell_type": "markdown",
   "metadata": {},
   "source": [
    "# Train models and evaluate them"
   ]
  },
  {
   "cell_type": "markdown",
   "metadata": {},
   "source": [
    "<b>1. Selecting Features Available in the Test Data</b>\n",
    "\n",
    "First, we identify the features common between the training and test datasets."
   ]
  },
  {
   "cell_type": "code",
   "execution_count": 9,
   "metadata": {},
   "outputs": [
    {
     "name": "stdout",
     "output_type": "stream",
     "text": [
      "done\n"
     ]
    }
   ],
   "source": [
    "\n",
    "\n",
    "# Load the data (assuming train_data, test_data, and full_data are already loaded correctly)\n",
    "# Ensure 'date' column is correctly formatted or excluded where necessary\n",
    "\n",
    "# Getting the common columns between training and test data (excluding 'date')\n",
    "common_columns = [col for col in train_data.columns if col in test_data.columns and col != 'date']\n",
    "\n",
    "# Adding the target columns for `rougher` and `final` recovery in the training set\n",
    "features_train = train_data[common_columns]\n",
    "target_rougher = train_data['rougher.output.recovery']\n",
    "target_final = train_data['final.output.recovery']\n",
    "\n",
    "print(\"done\")"
   ]
  },
  {
   "cell_type": "markdown",
   "metadata": {},
   "source": [
    "<b>2. Training Separate Models for rougher and final Recovery</b>\n",
    "\n",
    "\n",
    "We'll train separate models for rougher.output.recovery and final.output.recovery."
   ]
  },
  {
   "cell_type": "code",
   "execution_count": 10,
   "metadata": {},
   "outputs": [
    {
     "name": "stdout",
     "output_type": "stream",
     "text": [
      "Rougher model training complete.\n"
     ]
    }
   ],
   "source": [
    "\n",
    "\n",
    "# Model for rougher recovery\n",
    "model_rougher = GradientBoostingRegressor(random_state=42)\n",
    "param_grid = {'n_estimators': [50, 100], 'max_depth': [3, 5], 'learning_rate': [0.1, 0.05]}\n",
    "grid_search_rougher = GridSearchCV(model_rougher, param_grid, cv=5, scoring=smape_scorer, n_jobs=-1)\n",
    "grid_search_rougher.fit(features_train, target_rougher)\n",
    "\n",
    "print(\"Rougher model training complete.\")\n"
   ]
  },
  {
   "cell_type": "markdown",
   "metadata": {},
   "source": [
    "<b>3. Hyperparameter Tuning for the Rougher Model</b>\n",
    "\n",
    "We'll tune the hyperparameters using Grid Search to optimize the RandomForestRegressor for the rougher model."
   ]
  },
  {
   "cell_type": "code",
   "execution_count": 11,
   "metadata": {},
   "outputs": [
    {
     "name": "stdout",
     "output_type": "stream",
     "text": [
      "Starting hyperparameter tuning for rougher recovery...\n",
      "Best parameters for rougher model: {'learning_rate': 0.05, 'max_depth': 3, 'n_estimators': 50}\n",
      "Best Model Cross-Validation sMAPE for Rougher: 8.02\n",
      "Final model training complete.\n",
      "Starting hyperparameter tuning for final recovery...\n",
      "Best parameters for final model: {'learning_rate': 0.05, 'max_depth': 3, 'n_estimators': 50}\n",
      "Best Model Cross-Validation sMAPE for Final: 10.68\n"
     ]
    }
   ],
   "source": [
    "\n",
    "\n",
    "# # Hyperparameter tuning using Grid Search for rougher recovery\n",
    "\n",
    "# Adding progress print\n",
    "print(\"Starting hyperparameter tuning for rougher recovery...\")\n",
    "\n",
    "\n",
    "# Best model after tuning for rougher recovery\n",
    "best_model_rougher = grid_search_rougher.best_estimator_\n",
    "print(f\"Best parameters for rougher model: {grid_search_rougher.best_params_}\")\n",
    "\n",
    "# Cross-validation score for the best model\n",
    "best_scores_rougher = cross_val_score(best_model_rougher, features_train, target_rougher, cv=5, scoring=smape_scorer)\n",
    "print(f'Best Model Cross-Validation sMAPE for Rougher: {-np.mean(best_scores_rougher):.2f}')\n",
    "\n",
    "\n",
    "\n",
    "# Model for final recovery\n",
    "model_final = GradientBoostingRegressor(random_state=42)\n",
    "grid_search_final = GridSearchCV(model_final, param_grid, cv=5, scoring=smape_scorer, n_jobs=-1)\n",
    "grid_search_final.fit(features_train, target_final)\n",
    "\n",
    "print(\"Final model training complete.\")\n",
    "\n",
    "\n",
    "# Hyperparameter tuning using Grid Search for final recovery\n",
    "print(\"Starting hyperparameter tuning for final recovery...\")\n",
    "\n",
    "\n",
    "# Best model after tuning for final recovery\n",
    "best_model_final = grid_search_final.best_estimator_\n",
    "print(f\"Best parameters for final model: {grid_search_final.best_params_}\")\n",
    "\n",
    "# Cross-validation score for the best model\n",
    "best_scores_final = cross_val_score(best_model_final, features_train, target_final, cv=5, scoring=smape_scorer)\n",
    "print(f'Best Model Cross-Validation sMAPE for Final: {-np.mean(best_scores_final):.2f}')\n"
   ]
  },
  {
   "cell_type": "markdown",
   "metadata": {},
   "source": [
    "<b>4. Merging Test Data with Targets from Full Data</b>\n",
    "\n",
    "\n",
    "We'll merge the test dataset with the full dataset to get the actual target values for the test set."
   ]
  },
  {
   "cell_type": "code",
   "execution_count": 12,
   "metadata": {},
   "outputs": [
    {
     "name": "stdout",
     "output_type": "stream",
     "text": [
      "Merging test data...\n",
      "Merging test data done...\n"
     ]
    }
   ],
   "source": [
    "print(\"Merging test data...\")\n",
    "\n",
    "# Merging the test data with the full dataset to get target values\n",
    "test_data_merged = test_data.merge(full_data[['date', 'rougher.output.recovery', 'final.output.recovery']], on='date', how='left')\n",
    "\n",
    "# Extracting the features and targets (excluding the 'date' column)\n",
    "X_test = test_data_merged[common_columns]\n",
    "y_test_rougher = test_data_merged['rougher.output.recovery']\n",
    "y_test_final = test_data_merged['final.output.recovery']\n",
    "\n",
    "# Dropping any rows with missing values\n",
    "X_test = X_test.dropna()\n",
    "y_test_rougher = y_test_rougher.loc[X_test.index]\n",
    "y_test_final = y_test_final.loc[X_test.index]\n",
    "\n",
    "\n",
    "print(\"Merging test data done...\")"
   ]
  },
  {
   "cell_type": "markdown",
   "metadata": {},
   "source": [
    "<b>5. Evaluating the Model on the Test Data</b>\n",
    "\n",
    "\n",
    "We'll evaluate the best model for rougher and final recovery using the sMAPE metric."
   ]
  },
  {
   "cell_type": "code",
   "execution_count": 13,
   "metadata": {},
   "outputs": [
    {
     "name": "stdout",
     "output_type": "stream",
     "text": [
      "Predicting on test set for rougher recovery...\n",
      "sMAPE for Rougher Recovery on Test Set: 9.13\n",
      "Predicting on test set for final recovery...\n",
      "sMAPE for Final Recovery on Test Set: 9.79\n",
      "Weighted sMAPE for the Best Model starting...\n",
      "Weighted sMAPE for the Best Model: 9.62\n"
     ]
    }
   ],
   "source": [
    "# Predicting using the best model for rougher recovery\n",
    "print(\"Predicting on test set for rougher recovery...\")\n",
    "y_pred_rougher = best_model_rougher.predict(X_test)\n",
    "\n",
    "# Calculating sMAPE for the rougher model on test data\n",
    "smape_rougher_test = smape(y_test_rougher, y_pred_rougher)\n",
    "print(f'sMAPE for Rougher Recovery on Test Set: {smape_rougher_test:.2f}')\n",
    "\n",
    "# Predicting using the best model for final recovery\n",
    "print(\"Predicting on test set for final recovery...\")\n",
    "y_pred_final = best_model_final.predict(X_test)\n",
    "\n",
    "# Calculating sMAPE for the final model on test data\n",
    "smape_final_test = smape(y_test_final, y_pred_final)\n",
    "print(f'sMAPE for Final Recovery on Test Set: {smape_final_test:.2f}')\n",
    "\n",
    "\n",
    "print(\"Weighted sMAPE for the Best Model starting...\")\n",
    "\n",
    "# Calculating weighted sMAPE for the best model\n",
    "weighted_smape_model = weighted_smape(y_test_rougher, y_pred_rougher, y_test_final, y_pred_final)\n",
    "print(f'Weighted sMAPE for the Best Model: {weighted_smape_model:.2f}')\n"
   ]
  },
  {
   "cell_type": "markdown",
   "metadata": {},
   "source": [
    "<b>6. Sanity Check with a Constant Model</b>\n",
    "\n",
    "\n",
    "To perform a sanity check, we’ll compare the best model with a constant model, which predicts the mean of the training data."
   ]
  },
  {
   "cell_type": "code",
   "execution_count": 14,
   "metadata": {},
   "outputs": [
    {
     "name": "stdout",
     "output_type": "stream",
     "text": [
      "sMAPE for Constant Model (Rougher) on Test Set: 9.55\n",
      "sMAPE for Constant Model (Final) on Test Set: 10.61\n",
      "Weighted sMAPE for the Constant Model starting...\n",
      "Weighted sMAPE for the Constant Model: 10.35\n"
     ]
    }
   ],
   "source": [
    "# # Constant models for rougher and final recovery (predicting the mean of the training targets)\n",
    "\n",
    "\n",
    "# Constant model for rougher recovery (predicting the mean of the training target)\n",
    "constant_pred_rougher = np.full_like(y_test_rougher, target_rougher.mean())\n",
    "constant_smape_rougher = smape(y_test_rougher, constant_pred_rougher)\n",
    "print(f'sMAPE for Constant Model (Rougher) on Test Set: {constant_smape_rougher:.2f}')\n",
    "\n",
    "# Constant model for final recovery (predicting the mean of the training target)\n",
    "constant_pred_final = np.full_like(y_test_final, target_final.mean())\n",
    "constant_smape_final = smape(y_test_final, constant_pred_final)\n",
    "print(f'sMAPE for Constant Model (Final) on Test Set: {constant_smape_final:.2f}')\n",
    "\n",
    "\n",
    "print(\"Weighted sMAPE for the Constant Model starting...\")\n",
    "\n",
    "# Calculating weighted sMAPE for the constant model\n",
    "weighted_smape_constant = weighted_smape(y_test_rougher, constant_pred_rougher, y_test_final, constant_pred_final)\n",
    "print(f'Weighted sMAPE for the Constant Model: {weighted_smape_constant:.2f}')\n"
   ]
  },
  {
   "cell_type": "markdown",
   "metadata": {},
   "source": [
    "<b>Observations After Data Cleaning and Model Training</b>\n",
    "\n",
    "\n",
    "Interpretation\n",
    "Hyperparameter Tuning and Cross-Validation Scores:\n",
    "\n",
    "The hyperparameter tuning for both models (rougher and final recovery) yielded the same optimal parameters: {'learning_rate': 0.1, 'max_depth': 5, 'n_estimators': 100}. This indicates that these configurations were the most effective in reducing the sMAPE (symmetric Mean Absolute Percentage Error) during cross-validation.\n",
    "\n",
    "The Best Cross-Validation sMAPE for the rougher model is 4.36, and for the final recovery model, it is 7.06. These relatively low values suggest that the models perform reasonably well on the training data, indicating that they capture the underlying patterns effectively.\n",
    "\n",
    "Test Set Performance:\n",
    "\n",
    "When applied to the test set, the sMAPE for the Rougher Recovery model is 10.15, and for the Final Recovery model, it is 10.27. These scores are higher than the cross-validation scores, indicating a slight drop in performance when applied to unseen data. This suggests that while the models are effective, there might be some degree of overfitting or differences between the training and test sets.\n",
    "\n",
    "Comparison with the Constant Model:\n",
    "\n",
    "The sMAPE for the Constant Model (predicting the mean of the training target) for rougher recovery is 9.53, and for final recovery, it is 10.58. These scores serve as a baseline to evaluate the performance of the trained models.\n",
    "The rougher recovery model’s sMAPE (10.15) is slightly higher than that of the constant model (9.53), indicating that the trained model did not significantly outperform the baseline on the test set.\n",
    "For the final recovery model, the sMAPE (10.27) is slightly better than the constant model’s (10.58), suggesting that the trained model performs marginally better than predicting the mean.\n",
    "\n",
    "\n",
    "Observations\n",
    "\n",
    "The best trained models achieved a weighted sMAPE of 9.62, outperforming the constant model’s weighted sMAPE of 10.35. For the rougher recovery specifically, the model’s sMAPE was 9.13 compared to the constant model’s 9.55, while for final recovery, the model’s sMAPE was 9.79 versus the constant model’s 10.61.\n",
    "\n",
    "Interpretation: The trained models perform slightly better than the constant baseline, indicating they capture more complexity in the data. However, the relatively small margin suggests that while the models are able to predict with some accuracy, there is room for improvement. This performance gap could potentially be closed by refining the models through additional feature engineering or further hyperparameter tuning, especially if the constant model’s proximity is due to underlying noise or unaccounted-for variables in the data.\n",
    "\n",
    "\n",
    "The sMAPE for final recovery (9.79) is consistently higher than that for rougher recovery (9.13), indicating that predictions are less accurate for the final recovery stage.\n",
    "\n",
    "Interpretation: This suggests that the final recovery process may involve additional complexities or uncertainties that are not fully captured by the model. Possible reasons could include the cumulative effect of multiple process stages, unmodeled factors affecting final recovery, or potential data quality issues in the final stage. Addressing this might involve examining data relationships unique to the final stage or considering process-specific features that could improve model sensitivity and accuracy for final recovery predictions."
   ]
  },
  {
   "cell_type": "markdown",
   "metadata": {},
   "source": [
    "# Conclusion"
   ]
  },
  {
   "cell_type": "markdown",
   "metadata": {},
   "source": [
    "Final Conclusion for the Gold Recovery Project\n",
    "The project aimed to build predictive models for the gold recovery process, focusing on the rougher and final recovery stages. The dataset contained various features related to gold concentration and processing parameters, collected from multiple stages in the gold extraction process. The goal was to develop models capable of accurately predicting recovery rates using this data. Here are the key outcomes and insights:\n",
    "\n",
    "\n",
    "1. Data Preparation and Cleaning:\n",
    "The datasets (train, test, and full) contained missing values (NaNs) and infinite values, which were handled using forward fill and filtering techniques. These methods ensured that the dataset was consistent, reliable, and ready for modeling.\n",
    "The rougher recovery calculation was validated using a provided formula, with the Mean Absolute Error (MAE) calculated as 0.00 after filtering, confirming the accuracy of the formula for valid data points.\n",
    "\n",
    "\n",
    "2. Exploratory Data Analysis (EDA):\n",
    "The analysis of metal concentrations (Au, Ag, Pb) across various stages revealed that the gold extraction process effectively increased the concentration of valuable metals from the feed stage through the rougher and cleaner stages to the final output.\n",
    "Feed particle size distributions in the training and test datasets were similar, confirming consistency across the datasets, although slight differences were noted.\n",
    "Total concentration distributions at different stages were evaluated, and near-zero anomalies were identified and filtered out to maintain data integrity and ensure realistic modeling.\n",
    "\n",
    "\n",
    "3. Model Development:\n",
    "Two models were developed using Gradient Boosting Regressor for the rougher and final recovery stages, optimized through hyperparameter tuning. The best hyperparameters for both models were: {'learning_rate': 0.1, 'max_depth': 5, 'n_estimators': 100}.\n",
    "The models showed promising performance during cross-validation, with sMAPE values of 4.36 for the rougher stage and 7.06 for the final stage, indicating that they captured the patterns well in the training data.\n",
    "\n",
    "\n",
    "4. Model Evaluation on Test Set:\n",
    "When applied to the test set, the rougher recovery model achieved an sMAPE of 10.15, while the final recovery model scored 10.27. These values were higher than the cross-validation scores, suggesting a performance drop when applied to unseen data.\n",
    "Comparison with a constant model (predicting the mean recovery rate) showed that the rougher recovery model’s performance was not significantly better, while the final recovery model slightly outperformed the baseline.\n",
    "\n",
    "\n",
    "5. Key Insights:\n",
    "The models demonstrated moderate predictive power, but the increase in sMAPE on the test set indicates potential overfitting or differences between training and test distributions.\n",
    "The models' performance relative to the constant baseline suggests that further feature engineering and optimization are necessary to achieve a more substantial improvement over simple predictions.\n",
    "\n",
    "\n",
    "6. Recommendations for Further Improvement:\n",
    "Feature Engineering: Further development of features based on domain knowledge (e.g., ratios, transformations, or interaction terms) could enhance model performance by capturing more complex patterns.\n",
    "\n",
    "Model Exploration: Exploring other advanced models such as XGBoost, LightGBM, or even deep learning approaches could yield better performance, especially in handling complex, non-linear relationships in the data.\n",
    "Regularization and Cross-Validation: Incorporating regularization techniques (L2 regularization) and using robust validation strategies (such as K-fold cross-validation with different splits) will help improve generalization and model robustness.\n",
    "\n",
    "\n",
    "Final Verdict:\n",
    "The project successfully developed models for predicting gold recovery rates, demonstrating a solid approach to data preparation, validation, and modeling. While the models achieved reasonable accuracy, further improvements through feature engineering, model exploration, and regularization are recommended to enhance performance. The project provides a strong foundation for developing more accurate and reliable predictive models in the gold recovery domain."
   ]
  },
  {
   "cell_type": "code",
   "execution_count": null,
   "metadata": {},
   "outputs": [],
   "source": []
  }
 ],
 "metadata": {
  "ExecuteTimeLog": [
   {
    "duration": 893,
    "start_time": "2024-10-17T14:52:10.747Z"
   },
   {
    "duration": 936,
    "start_time": "2024-10-17T21:40:24.482Z"
   },
   {
    "duration": 185,
    "start_time": "2024-10-17T21:49:27.753Z"
   },
   {
    "duration": 1024,
    "start_time": "2024-10-17T21:49:42.909Z"
   },
   {
    "duration": 155,
    "start_time": "2024-10-17T21:49:49.422Z"
   },
   {
    "duration": 551,
    "start_time": "2024-10-17T21:52:02.403Z"
   },
   {
    "duration": 73,
    "start_time": "2024-10-17T21:52:17.904Z"
   },
   {
    "duration": 13,
    "start_time": "2024-10-17T21:52:40.834Z"
   },
   {
    "duration": 3,
    "start_time": "2024-10-17T21:57:06.157Z"
   },
   {
    "duration": 10,
    "start_time": "2024-10-17T21:58:33.331Z"
   },
   {
    "duration": 5,
    "start_time": "2024-10-17T22:04:43.499Z"
   },
   {
    "duration": 2380,
    "start_time": "2024-10-17T22:05:07.299Z"
   },
   {
    "duration": 951,
    "start_time": "2024-10-17T22:05:13.248Z"
   },
   {
    "duration": 1341,
    "start_time": "2024-10-17T22:06:24.872Z"
   },
   {
    "duration": 21,
    "start_time": "2024-10-17T22:06:26.215Z"
   },
   {
    "duration": 3,
    "start_time": "2024-10-17T22:06:26.238Z"
   },
   {
    "duration": 10,
    "start_time": "2024-10-17T22:06:26.243Z"
   },
   {
    "duration": 1081,
    "start_time": "2024-10-17T22:06:26.255Z"
   },
   {
    "duration": 240,
    "start_time": "2024-10-17T22:07:11.634Z"
   },
   {
    "duration": 184,
    "start_time": "2024-10-17T22:07:42.542Z"
   },
   {
    "duration": 3,
    "start_time": "2024-10-17T22:08:40.364Z"
   },
   {
    "duration": 319,
    "start_time": "2024-10-17T22:09:06.968Z"
   },
   {
    "duration": 1348,
    "start_time": "2024-10-17T22:09:16.693Z"
   },
   {
    "duration": 20,
    "start_time": "2024-10-17T22:09:18.044Z"
   },
   {
    "duration": 3,
    "start_time": "2024-10-17T22:09:18.066Z"
   },
   {
    "duration": 33,
    "start_time": "2024-10-17T22:09:18.072Z"
   },
   {
    "duration": 1046,
    "start_time": "2024-10-17T22:09:18.107Z"
   },
   {
    "duration": 245,
    "start_time": "2024-10-17T22:09:19.154Z"
   },
   {
    "duration": 187,
    "start_time": "2024-10-17T22:09:19.401Z"
   },
   {
    "duration": 3,
    "start_time": "2024-10-17T22:09:19.591Z"
   },
   {
    "duration": 332,
    "start_time": "2024-10-17T22:09:19.595Z"
   },
   {
    "duration": 1509,
    "start_time": "2024-10-17T22:10:38.236Z"
   },
   {
    "duration": 23,
    "start_time": "2024-10-17T22:10:39.746Z"
   },
   {
    "duration": 3,
    "start_time": "2024-10-17T22:10:39.771Z"
   },
   {
    "duration": 28,
    "start_time": "2024-10-17T22:10:39.777Z"
   },
   {
    "duration": 984,
    "start_time": "2024-10-17T22:10:39.807Z"
   },
   {
    "duration": 245,
    "start_time": "2024-10-17T22:10:40.792Z"
   },
   {
    "duration": 180,
    "start_time": "2024-10-17T22:10:41.039Z"
   },
   {
    "duration": 3,
    "start_time": "2024-10-17T22:10:41.221Z"
   },
   {
    "duration": 484,
    "start_time": "2024-10-17T22:10:41.225Z"
   },
   {
    "duration": 182,
    "start_time": "2024-10-17T22:13:38.624Z"
   },
   {
    "duration": 1449,
    "start_time": "2024-10-17T22:14:02.880Z"
   },
   {
    "duration": 20,
    "start_time": "2024-10-17T22:14:04.331Z"
   },
   {
    "duration": 3,
    "start_time": "2024-10-17T22:14:04.353Z"
   },
   {
    "duration": 10,
    "start_time": "2024-10-17T22:14:04.359Z"
   },
   {
    "duration": 1006,
    "start_time": "2024-10-17T22:14:04.371Z"
   },
   {
    "duration": 235,
    "start_time": "2024-10-17T22:14:05.379Z"
   },
   {
    "duration": 189,
    "start_time": "2024-10-17T22:14:05.616Z"
   },
   {
    "duration": 3,
    "start_time": "2024-10-17T22:14:05.807Z"
   },
   {
    "duration": 238,
    "start_time": "2024-10-17T22:14:05.811Z"
   },
   {
    "duration": 19,
    "start_time": "2024-10-17T22:15:28.218Z"
   },
   {
    "duration": 245,
    "start_time": "2024-10-17T22:15:48.701Z"
   },
   {
    "duration": 1477,
    "start_time": "2024-10-17T22:19:08.071Z"
   },
   {
    "duration": 21,
    "start_time": "2024-10-17T22:19:09.552Z"
   },
   {
    "duration": 3,
    "start_time": "2024-10-17T22:19:09.575Z"
   },
   {
    "duration": 31,
    "start_time": "2024-10-17T22:19:09.580Z"
   },
   {
    "duration": 996,
    "start_time": "2024-10-17T22:19:09.613Z"
   },
   {
    "duration": 241,
    "start_time": "2024-10-17T22:19:10.612Z"
   },
   {
    "duration": 187,
    "start_time": "2024-10-17T22:19:10.855Z"
   },
   {
    "duration": 3,
    "start_time": "2024-10-17T22:19:11.044Z"
   },
   {
    "duration": 282394,
    "start_time": "2024-10-17T22:19:11.048Z"
   },
   {
    "duration": 962,
    "start_time": "2024-10-17T22:31:24.234Z"
   },
   {
    "duration": 3,
    "start_time": "2024-10-17T22:42:48.678Z"
   },
   {
    "duration": 1464,
    "start_time": "2024-10-17T22:44:30.773Z"
   },
   {
    "duration": 20,
    "start_time": "2024-10-17T22:44:32.239Z"
   },
   {
    "duration": 3,
    "start_time": "2024-10-17T22:44:32.261Z"
   },
   {
    "duration": 11,
    "start_time": "2024-10-17T22:44:32.267Z"
   },
   {
    "duration": 1038,
    "start_time": "2024-10-17T22:44:32.279Z"
   },
   {
    "duration": 236,
    "start_time": "2024-10-17T22:44:33.319Z"
   },
   {
    "duration": 183,
    "start_time": "2024-10-17T22:44:33.556Z"
   },
   {
    "duration": 3,
    "start_time": "2024-10-17T22:44:33.741Z"
   },
   {
    "duration": 282998,
    "start_time": "2024-10-17T22:44:33.746Z"
   },
   {
    "duration": 3424,
    "start_time": "2024-10-18T03:12:12.031Z"
   },
   {
    "duration": 21,
    "start_time": "2024-10-18T03:12:15.457Z"
   },
   {
    "duration": 3,
    "start_time": "2024-10-18T03:12:15.480Z"
   },
   {
    "duration": 29,
    "start_time": "2024-10-18T03:12:15.486Z"
   },
   {
    "duration": 1062,
    "start_time": "2024-10-18T03:12:15.517Z"
   },
   {
    "duration": 240,
    "start_time": "2024-10-18T03:12:16.580Z"
   },
   {
    "duration": 190,
    "start_time": "2024-10-18T03:12:16.822Z"
   },
   {
    "duration": 4,
    "start_time": "2024-10-18T03:12:17.014Z"
   },
   {
    "duration": 286020,
    "start_time": "2024-10-18T03:12:17.020Z"
   },
   {
    "duration": 1589,
    "start_time": "2024-10-18T03:25:37.510Z"
   },
   {
    "duration": 24,
    "start_time": "2024-10-18T03:25:39.102Z"
   },
   {
    "duration": 3,
    "start_time": "2024-10-18T03:25:39.128Z"
   },
   {
    "duration": 10,
    "start_time": "2024-10-18T03:25:39.134Z"
   },
   {
    "duration": 1019,
    "start_time": "2024-10-18T03:25:39.146Z"
   },
   {
    "duration": 243,
    "start_time": "2024-10-18T03:25:40.167Z"
   },
   {
    "duration": 192,
    "start_time": "2024-10-18T03:25:40.413Z"
   },
   {
    "duration": 3,
    "start_time": "2024-10-18T03:25:40.609Z"
   },
   {
    "duration": 1494,
    "start_time": "2024-10-18T03:27:13.078Z"
   },
   {
    "duration": 21,
    "start_time": "2024-10-18T03:27:14.575Z"
   },
   {
    "duration": 13,
    "start_time": "2024-10-18T03:27:14.597Z"
   },
   {
    "duration": 11,
    "start_time": "2024-10-18T03:27:14.612Z"
   },
   {
    "duration": 1048,
    "start_time": "2024-10-18T03:27:14.625Z"
   },
   {
    "duration": 340,
    "start_time": "2024-10-18T03:27:15.675Z"
   },
   {
    "duration": 258,
    "start_time": "2024-10-18T03:27:16.017Z"
   },
   {
    "duration": 3,
    "start_time": "2024-10-18T03:27:16.276Z"
   },
   {
    "duration": 1530,
    "start_time": "2024-10-18T03:28:15.338Z"
   },
   {
    "duration": 19,
    "start_time": "2024-10-18T03:28:16.871Z"
   },
   {
    "duration": 3,
    "start_time": "2024-10-18T03:28:16.892Z"
   },
   {
    "duration": 11,
    "start_time": "2024-10-18T03:28:16.908Z"
   },
   {
    "duration": 1064,
    "start_time": "2024-10-18T03:28:16.921Z"
   },
   {
    "duration": 247,
    "start_time": "2024-10-18T03:28:17.987Z"
   },
   {
    "duration": 186,
    "start_time": "2024-10-18T03:28:18.236Z"
   },
   {
    "duration": 3,
    "start_time": "2024-10-18T03:28:18.425Z"
   },
   {
    "duration": 1562,
    "start_time": "2024-10-18T03:29:19.212Z"
   },
   {
    "duration": 20,
    "start_time": "2024-10-18T03:29:20.777Z"
   },
   {
    "duration": 3,
    "start_time": "2024-10-18T03:29:20.809Z"
   },
   {
    "duration": 10,
    "start_time": "2024-10-18T03:29:20.815Z"
   },
   {
    "duration": 1012,
    "start_time": "2024-10-18T03:29:20.827Z"
   },
   {
    "duration": 248,
    "start_time": "2024-10-18T03:29:21.841Z"
   },
   {
    "duration": 189,
    "start_time": "2024-10-18T03:29:22.091Z"
   },
   {
    "duration": 4,
    "start_time": "2024-10-18T03:29:22.282Z"
   },
   {
    "duration": 1527,
    "start_time": "2024-10-18T03:33:15.785Z"
   },
   {
    "duration": 22,
    "start_time": "2024-10-18T03:33:17.314Z"
   },
   {
    "duration": 3,
    "start_time": "2024-10-18T03:33:17.338Z"
   },
   {
    "duration": 10,
    "start_time": "2024-10-18T03:33:17.344Z"
   },
   {
    "duration": 1045,
    "start_time": "2024-10-18T03:33:17.356Z"
   },
   {
    "duration": 242,
    "start_time": "2024-10-18T03:33:18.402Z"
   },
   {
    "duration": 195,
    "start_time": "2024-10-18T03:33:18.646Z"
   },
   {
    "duration": 3,
    "start_time": "2024-10-18T03:33:18.843Z"
   },
   {
    "duration": 3591,
    "start_time": "2024-10-21T20:35:51.483Z"
   },
   {
    "duration": 20,
    "start_time": "2024-10-21T20:35:55.077Z"
   },
   {
    "duration": 20,
    "start_time": "2024-10-21T20:35:55.099Z"
   },
   {
    "duration": 19,
    "start_time": "2024-10-21T20:35:55.132Z"
   },
   {
    "duration": 1286,
    "start_time": "2024-10-21T20:35:55.153Z"
   },
   {
    "duration": 241,
    "start_time": "2024-10-21T20:35:56.441Z"
   },
   {
    "duration": 201,
    "start_time": "2024-10-21T20:35:56.684Z"
   },
   {
    "duration": 3,
    "start_time": "2024-10-21T20:35:56.887Z"
   },
   {
    "duration": 533951,
    "start_time": "2024-10-21T20:35:56.892Z"
   },
   {
    "duration": 3363,
    "start_time": "2024-10-24T02:57:15.589Z"
   },
   {
    "duration": 24,
    "start_time": "2024-10-24T02:57:18.954Z"
   },
   {
    "duration": 3,
    "start_time": "2024-10-24T02:57:18.980Z"
   },
   {
    "duration": 11,
    "start_time": "2024-10-24T02:57:18.986Z"
   },
   {
    "duration": 1159,
    "start_time": "2024-10-24T02:57:18.999Z"
   },
   {
    "duration": 238,
    "start_time": "2024-10-24T02:57:20.159Z"
   },
   {
    "duration": 257,
    "start_time": "2024-10-24T02:57:20.399Z"
   },
   {
    "duration": 12,
    "start_time": "2024-10-24T02:57:20.658Z"
   },
   {
    "duration": 1458,
    "start_time": "2024-10-24T02:58:32.443Z"
   },
   {
    "duration": 20,
    "start_time": "2024-10-24T02:58:33.904Z"
   },
   {
    "duration": 4,
    "start_time": "2024-10-24T02:58:33.926Z"
   },
   {
    "duration": 11,
    "start_time": "2024-10-24T02:58:33.933Z"
   },
   {
    "duration": 1118,
    "start_time": "2024-10-24T02:58:33.946Z"
   },
   {
    "duration": 317,
    "start_time": "2024-10-24T02:58:35.070Z"
   },
   {
    "duration": 6,
    "start_time": "2024-10-24T02:58:35.389Z"
   },
   {
    "duration": 0,
    "start_time": "2024-10-24T02:58:35.396Z"
   },
   {
    "duration": 0,
    "start_time": "2024-10-24T02:58:35.398Z"
   },
   {
    "duration": 5,
    "start_time": "2024-10-24T02:58:45.799Z"
   },
   {
    "duration": 235,
    "start_time": "2024-10-24T02:58:53.995Z"
   },
   {
    "duration": 564,
    "start_time": "2024-10-24T02:59:27.750Z"
   },
   {
    "duration": 240,
    "start_time": "2024-10-24T02:59:49.485Z"
   },
   {
    "duration": 1487,
    "start_time": "2024-10-24T03:04:43.416Z"
   },
   {
    "duration": 20,
    "start_time": "2024-10-24T03:04:44.905Z"
   },
   {
    "duration": 3,
    "start_time": "2024-10-24T03:04:44.927Z"
   },
   {
    "duration": 12,
    "start_time": "2024-10-24T03:04:44.932Z"
   },
   {
    "duration": 1134,
    "start_time": "2024-10-24T03:04:44.945Z"
   },
   {
    "duration": 349,
    "start_time": "2024-10-24T03:04:46.082Z"
   },
   {
    "duration": 203,
    "start_time": "2024-10-24T03:04:46.433Z"
   },
   {
    "duration": 4,
    "start_time": "2024-10-24T03:04:46.638Z"
   },
   {
    "duration": 1460,
    "start_time": "2024-10-24T03:05:43.339Z"
   },
   {
    "duration": 19,
    "start_time": "2024-10-24T03:05:44.802Z"
   },
   {
    "duration": 3,
    "start_time": "2024-10-24T03:05:44.824Z"
   },
   {
    "duration": 10,
    "start_time": "2024-10-24T03:05:44.829Z"
   },
   {
    "duration": 1121,
    "start_time": "2024-10-24T03:05:44.841Z"
   },
   {
    "duration": 321,
    "start_time": "2024-10-24T03:05:45.964Z"
   },
   {
    "duration": 539,
    "start_time": "2024-10-24T03:05:46.287Z"
   },
   {
    "duration": 3,
    "start_time": "2024-10-24T03:05:46.827Z"
   },
   {
    "duration": 461045,
    "start_time": "2024-10-24T03:05:46.832Z"
   },
   {
    "duration": 5,
    "start_time": "2024-10-24T03:25:19.100Z"
   },
   {
    "duration": 9,
    "start_time": "2024-10-24T03:26:08.394Z"
   },
   {
    "duration": 173,
    "start_time": "2024-10-24T03:27:16.104Z"
   },
   {
    "duration": 1527,
    "start_time": "2024-10-24T03:28:14.697Z"
   },
   {
    "duration": 21,
    "start_time": "2024-10-24T03:28:16.226Z"
   },
   {
    "duration": 3,
    "start_time": "2024-10-24T03:28:16.249Z"
   },
   {
    "duration": 11,
    "start_time": "2024-10-24T03:28:16.270Z"
   },
   {
    "duration": 1169,
    "start_time": "2024-10-24T03:28:16.282Z"
   },
   {
    "duration": 336,
    "start_time": "2024-10-24T03:28:17.453Z"
   },
   {
    "duration": 522,
    "start_time": "2024-10-24T03:28:17.791Z"
   },
   {
    "duration": 3,
    "start_time": "2024-10-24T03:28:18.315Z"
   },
   {
    "duration": 10,
    "start_time": "2024-10-24T03:28:18.320Z"
   },
   {
    "duration": 191,
    "start_time": "2024-10-24T03:28:18.333Z"
   },
   {
    "duration": 0,
    "start_time": "2024-10-24T03:28:18.526Z"
   },
   {
    "duration": 99842,
    "start_time": "2024-10-24T03:31:34.637Z"
   },
   {
    "duration": 1514,
    "start_time": "2024-10-24T03:36:01.787Z"
   },
   {
    "duration": 20,
    "start_time": "2024-10-24T03:36:03.303Z"
   },
   {
    "duration": 3,
    "start_time": "2024-10-24T03:36:03.329Z"
   },
   {
    "duration": 12,
    "start_time": "2024-10-24T03:36:03.333Z"
   },
   {
    "duration": 1116,
    "start_time": "2024-10-24T03:36:03.370Z"
   },
   {
    "duration": 322,
    "start_time": "2024-10-24T03:36:04.488Z"
   },
   {
    "duration": 510,
    "start_time": "2024-10-24T03:36:04.812Z"
   },
   {
    "duration": 5,
    "start_time": "2024-10-24T03:36:05.324Z"
   },
   {
    "duration": 9,
    "start_time": "2024-10-24T03:36:05.332Z"
   },
   {
    "duration": 99824,
    "start_time": "2024-10-24T03:36:05.343Z"
   },
   {
    "duration": 1557,
    "start_time": "2024-10-24T03:41:36.294Z"
   },
   {
    "duration": 37,
    "start_time": "2024-10-24T03:41:37.853Z"
   },
   {
    "duration": 4,
    "start_time": "2024-10-24T03:41:37.897Z"
   },
   {
    "duration": 11,
    "start_time": "2024-10-24T03:41:37.904Z"
   },
   {
    "duration": 1179,
    "start_time": "2024-10-24T03:41:37.916Z"
   },
   {
    "duration": 399,
    "start_time": "2024-10-24T03:41:39.098Z"
   },
   {
    "duration": 625,
    "start_time": "2024-10-24T03:41:39.499Z"
   },
   {
    "duration": 3,
    "start_time": "2024-10-24T03:41:40.127Z"
   },
   {
    "duration": 11,
    "start_time": "2024-10-24T03:41:40.132Z"
   },
   {
    "duration": 101474,
    "start_time": "2024-10-24T03:41:40.145Z"
   },
   {
    "duration": 1525,
    "start_time": "2024-10-24T04:01:19.108Z"
   },
   {
    "duration": 21,
    "start_time": "2024-10-24T04:01:20.636Z"
   },
   {
    "duration": 3,
    "start_time": "2024-10-24T04:01:20.670Z"
   },
   {
    "duration": 11,
    "start_time": "2024-10-24T04:01:20.675Z"
   },
   {
    "duration": 1140,
    "start_time": "2024-10-24T04:01:20.689Z"
   },
   {
    "duration": 334,
    "start_time": "2024-10-24T04:01:21.832Z"
   },
   {
    "duration": 502,
    "start_time": "2024-10-24T04:01:22.170Z"
   },
   {
    "duration": 3,
    "start_time": "2024-10-24T04:01:22.674Z"
   },
   {
    "duration": 10,
    "start_time": "2024-10-24T04:01:22.680Z"
   },
   {
    "duration": 100261,
    "start_time": "2024-10-24T04:01:22.692Z"
   },
   {
    "duration": 1454,
    "start_time": "2024-10-24T04:04:31.048Z"
   },
   {
    "duration": 20,
    "start_time": "2024-10-24T04:04:32.504Z"
   },
   {
    "duration": 4,
    "start_time": "2024-10-24T04:04:32.525Z"
   },
   {
    "duration": 11,
    "start_time": "2024-10-24T04:04:32.531Z"
   },
   {
    "duration": 1137,
    "start_time": "2024-10-24T04:04:32.544Z"
   },
   {
    "duration": 330,
    "start_time": "2024-10-24T04:04:33.682Z"
   },
   {
    "duration": 498,
    "start_time": "2024-10-24T04:04:34.014Z"
   },
   {
    "duration": 2,
    "start_time": "2024-10-24T04:04:34.516Z"
   },
   {
    "duration": 9,
    "start_time": "2024-10-24T04:04:34.520Z"
   },
   {
    "duration": 100230,
    "start_time": "2024-10-24T04:04:34.531Z"
   },
   {
    "duration": 1555,
    "start_time": "2024-10-24T04:10:46.987Z"
   },
   {
    "duration": 29,
    "start_time": "2024-10-24T04:10:48.544Z"
   },
   {
    "duration": 3,
    "start_time": "2024-10-24T04:10:48.575Z"
   },
   {
    "duration": 11,
    "start_time": "2024-10-24T04:10:48.579Z"
   },
   {
    "duration": 1122,
    "start_time": "2024-10-24T04:10:48.593Z"
   },
   {
    "duration": 353,
    "start_time": "2024-10-24T04:10:49.717Z"
   },
   {
    "duration": 502,
    "start_time": "2024-10-24T04:10:50.072Z"
   },
   {
    "duration": 3,
    "start_time": "2024-10-24T04:10:50.576Z"
   },
   {
    "duration": 9,
    "start_time": "2024-10-24T04:10:50.581Z"
   },
   {
    "duration": 100021,
    "start_time": "2024-10-24T04:10:50.591Z"
   },
   {
    "duration": 636,
    "start_time": "2024-10-24T04:19:55.963Z"
   },
   {
    "duration": 854,
    "start_time": "2024-10-24T04:19:56.602Z"
   },
   {
    "duration": 25,
    "start_time": "2024-10-24T04:19:57.458Z"
   },
   {
    "duration": 3,
    "start_time": "2024-10-24T04:19:57.485Z"
   },
   {
    "duration": 10,
    "start_time": "2024-10-24T04:19:57.491Z"
   },
   {
    "duration": 1175,
    "start_time": "2024-10-24T04:19:57.503Z"
   },
   {
    "duration": 247,
    "start_time": "2024-10-24T04:19:58.680Z"
   },
   {
    "duration": 605,
    "start_time": "2024-10-24T04:19:58.929Z"
   },
   {
    "duration": 6,
    "start_time": "2024-10-24T04:19:59.535Z"
   },
   {
    "duration": 9,
    "start_time": "2024-10-24T04:19:59.542Z"
   },
   {
    "duration": 46243,
    "start_time": "2024-10-24T04:19:59.553Z"
   },
   {
    "duration": 788,
    "start_time": "2024-10-24T11:21:52.554Z"
   },
   {
    "duration": 2809,
    "start_time": "2024-10-24T11:21:53.345Z"
   },
   {
    "duration": 21,
    "start_time": "2024-10-24T11:21:56.156Z"
   },
   {
    "duration": 3,
    "start_time": "2024-10-24T11:21:56.179Z"
   },
   {
    "duration": 31,
    "start_time": "2024-10-24T11:21:56.184Z"
   },
   {
    "duration": 1218,
    "start_time": "2024-10-24T11:21:56.217Z"
   },
   {
    "duration": 303,
    "start_time": "2024-10-24T11:21:57.437Z"
   },
   {
    "duration": 557,
    "start_time": "2024-10-24T11:21:57.742Z"
   },
   {
    "duration": 3,
    "start_time": "2024-10-24T11:21:58.309Z"
   },
   {
    "duration": 10,
    "start_time": "2024-10-24T11:21:58.315Z"
   },
   {
    "duration": 99967,
    "start_time": "2024-10-24T11:21:58.328Z"
   },
   {
    "duration": 623,
    "start_time": "2024-10-24T11:27:01.769Z"
   },
   {
    "duration": 824,
    "start_time": "2024-10-24T11:27:02.394Z"
   },
   {
    "duration": 20,
    "start_time": "2024-10-24T11:27:03.220Z"
   },
   {
    "duration": 3,
    "start_time": "2024-10-24T11:27:03.242Z"
   },
   {
    "duration": 12,
    "start_time": "2024-10-24T11:27:03.247Z"
   },
   {
    "duration": 1185,
    "start_time": "2024-10-24T11:27:03.260Z"
   },
   {
    "duration": 250,
    "start_time": "2024-10-24T11:27:04.447Z"
   },
   {
    "duration": 615,
    "start_time": "2024-10-24T11:27:04.699Z"
   },
   {
    "duration": 2,
    "start_time": "2024-10-24T11:27:05.317Z"
   },
   {
    "duration": 10,
    "start_time": "2024-10-24T11:27:05.323Z"
   },
   {
    "duration": 264,
    "start_time": "2024-10-24T11:27:05.334Z"
   },
   {
    "duration": 0,
    "start_time": "2024-10-24T11:27:05.600Z"
   },
   {
    "duration": 0,
    "start_time": "2024-10-24T11:27:05.609Z"
   },
   {
    "duration": 0,
    "start_time": "2024-10-24T11:27:05.611Z"
   },
   {
    "duration": 0,
    "start_time": "2024-10-24T11:27:05.612Z"
   },
   {
    "duration": 0,
    "start_time": "2024-10-24T11:27:05.614Z"
   },
   {
    "duration": 640,
    "start_time": "2024-10-24T11:27:46.593Z"
   },
   {
    "duration": 848,
    "start_time": "2024-10-24T11:27:47.237Z"
   },
   {
    "duration": 25,
    "start_time": "2024-10-24T11:27:48.087Z"
   },
   {
    "duration": 3,
    "start_time": "2024-10-24T11:27:48.114Z"
   },
   {
    "duration": 10,
    "start_time": "2024-10-24T11:27:48.119Z"
   },
   {
    "duration": 1166,
    "start_time": "2024-10-24T11:27:48.132Z"
   },
   {
    "duration": 253,
    "start_time": "2024-10-24T11:27:49.300Z"
   },
   {
    "duration": 593,
    "start_time": "2024-10-24T11:27:49.555Z"
   },
   {
    "duration": 3,
    "start_time": "2024-10-24T11:27:50.150Z"
   },
   {
    "duration": 10,
    "start_time": "2024-10-24T11:27:50.156Z"
   },
   {
    "duration": 304,
    "start_time": "2024-10-24T11:27:50.168Z"
   },
   {
    "duration": 0,
    "start_time": "2024-10-24T11:27:50.474Z"
   },
   {
    "duration": 0,
    "start_time": "2024-10-24T11:27:50.475Z"
   },
   {
    "duration": 0,
    "start_time": "2024-10-24T11:27:50.476Z"
   },
   {
    "duration": 0,
    "start_time": "2024-10-24T11:27:50.477Z"
   },
   {
    "duration": 0,
    "start_time": "2024-10-24T11:27:50.478Z"
   },
   {
    "duration": 623,
    "start_time": "2024-10-24T11:28:35.158Z"
   },
   {
    "duration": 826,
    "start_time": "2024-10-24T11:28:35.784Z"
   },
   {
    "duration": 20,
    "start_time": "2024-10-24T11:28:36.612Z"
   },
   {
    "duration": 3,
    "start_time": "2024-10-24T11:28:36.634Z"
   },
   {
    "duration": 11,
    "start_time": "2024-10-24T11:28:36.639Z"
   },
   {
    "duration": 1208,
    "start_time": "2024-10-24T11:28:36.651Z"
   },
   {
    "duration": 248,
    "start_time": "2024-10-24T11:28:37.861Z"
   },
   {
    "duration": 604,
    "start_time": "2024-10-24T11:28:38.111Z"
   },
   {
    "duration": 3,
    "start_time": "2024-10-24T11:28:38.717Z"
   },
   {
    "duration": 9,
    "start_time": "2024-10-24T11:28:38.723Z"
   },
   {
    "duration": 99,
    "start_time": "2024-10-24T11:28:38.734Z"
   },
   {
    "duration": 649,
    "start_time": "2024-10-24T11:28:38.910Z"
   },
   {
    "duration": 0,
    "start_time": "2024-10-24T11:28:39.561Z"
   },
   {
    "duration": 0,
    "start_time": "2024-10-24T11:28:39.562Z"
   },
   {
    "duration": 0,
    "start_time": "2024-10-24T11:28:39.563Z"
   },
   {
    "duration": 0,
    "start_time": "2024-10-24T11:28:39.564Z"
   },
   {
    "duration": 659,
    "start_time": "2024-10-24T11:32:13.958Z"
   },
   {
    "duration": 842,
    "start_time": "2024-10-24T11:32:14.620Z"
   },
   {
    "duration": 20,
    "start_time": "2024-10-24T11:32:15.468Z"
   },
   {
    "duration": 3,
    "start_time": "2024-10-24T11:32:15.490Z"
   },
   {
    "duration": 10,
    "start_time": "2024-10-24T11:32:15.509Z"
   },
   {
    "duration": 1171,
    "start_time": "2024-10-24T11:32:15.520Z"
   },
   {
    "duration": 250,
    "start_time": "2024-10-24T11:32:16.693Z"
   },
   {
    "duration": 628,
    "start_time": "2024-10-24T11:32:16.945Z"
   },
   {
    "duration": 4,
    "start_time": "2024-10-24T11:32:17.576Z"
   },
   {
    "duration": 10,
    "start_time": "2024-10-24T11:32:17.581Z"
   },
   {
    "duration": 632,
    "start_time": "2024-10-24T11:37:04.407Z"
   },
   {
    "duration": 852,
    "start_time": "2024-10-24T11:37:05.042Z"
   },
   {
    "duration": 26,
    "start_time": "2024-10-24T11:37:05.896Z"
   },
   {
    "duration": 4,
    "start_time": "2024-10-24T11:37:05.925Z"
   },
   {
    "duration": 12,
    "start_time": "2024-10-24T11:37:05.931Z"
   },
   {
    "duration": 1166,
    "start_time": "2024-10-24T11:37:05.946Z"
   },
   {
    "duration": 271,
    "start_time": "2024-10-24T11:37:07.114Z"
   },
   {
    "duration": 601,
    "start_time": "2024-10-24T11:37:07.387Z"
   },
   {
    "duration": 197,
    "start_time": "2024-10-24T11:37:07.990Z"
   },
   {
    "duration": 0,
    "start_time": "2024-10-24T11:37:08.190Z"
   },
   {
    "duration": 0,
    "start_time": "2024-10-24T11:37:08.191Z"
   },
   {
    "duration": 0,
    "start_time": "2024-10-24T11:37:08.192Z"
   },
   {
    "duration": 0,
    "start_time": "2024-10-24T11:37:08.193Z"
   },
   {
    "duration": 0,
    "start_time": "2024-10-24T11:37:08.195Z"
   },
   {
    "duration": 0,
    "start_time": "2024-10-24T11:37:08.210Z"
   },
   {
    "duration": 0,
    "start_time": "2024-10-24T11:37:08.211Z"
   },
   {
    "duration": 0,
    "start_time": "2024-10-24T11:37:08.212Z"
   },
   {
    "duration": 662,
    "start_time": "2024-10-24T11:39:37.164Z"
   },
   {
    "duration": 851,
    "start_time": "2024-10-24T11:39:37.828Z"
   },
   {
    "duration": 28,
    "start_time": "2024-10-24T11:39:38.681Z"
   },
   {
    "duration": 3,
    "start_time": "2024-10-24T11:39:38.712Z"
   },
   {
    "duration": 11,
    "start_time": "2024-10-24T11:39:38.717Z"
   },
   {
    "duration": 1175,
    "start_time": "2024-10-24T11:39:38.730Z"
   },
   {
    "duration": 252,
    "start_time": "2024-10-24T11:39:39.909Z"
   },
   {
    "duration": 591,
    "start_time": "2024-10-24T11:39:40.163Z"
   },
   {
    "duration": 17792,
    "start_time": "2024-10-24T11:39:40.755Z"
   },
   {
    "duration": 0,
    "start_time": "2024-10-24T11:39:58.549Z"
   },
   {
    "duration": 0,
    "start_time": "2024-10-24T11:39:58.551Z"
   },
   {
    "duration": 0,
    "start_time": "2024-10-24T11:39:58.552Z"
   },
   {
    "duration": 0,
    "start_time": "2024-10-24T11:39:58.554Z"
   },
   {
    "duration": 0,
    "start_time": "2024-10-24T11:39:58.555Z"
   },
   {
    "duration": 0,
    "start_time": "2024-10-24T11:39:58.557Z"
   },
   {
    "duration": 0,
    "start_time": "2024-10-24T11:39:58.558Z"
   },
   {
    "duration": 0,
    "start_time": "2024-10-24T11:39:58.560Z"
   },
   {
    "duration": 622,
    "start_time": "2024-10-24T11:41:32.276Z"
   },
   {
    "duration": 822,
    "start_time": "2024-10-24T11:41:32.900Z"
   },
   {
    "duration": 19,
    "start_time": "2024-10-24T11:41:33.724Z"
   },
   {
    "duration": 3,
    "start_time": "2024-10-24T11:41:33.745Z"
   },
   {
    "duration": 11,
    "start_time": "2024-10-24T11:41:33.750Z"
   },
   {
    "duration": 1205,
    "start_time": "2024-10-24T11:41:33.762Z"
   },
   {
    "duration": 250,
    "start_time": "2024-10-24T11:41:34.970Z"
   },
   {
    "duration": 604,
    "start_time": "2024-10-24T11:41:35.222Z"
   },
   {
    "duration": 639,
    "start_time": "2024-10-24T11:47:57.967Z"
   },
   {
    "duration": 847,
    "start_time": "2024-10-24T11:47:58.608Z"
   },
   {
    "duration": 20,
    "start_time": "2024-10-24T11:47:59.457Z"
   },
   {
    "duration": 3,
    "start_time": "2024-10-24T11:47:59.479Z"
   },
   {
    "duration": 27,
    "start_time": "2024-10-24T11:47:59.484Z"
   },
   {
    "duration": 1191,
    "start_time": "2024-10-24T11:47:59.513Z"
   },
   {
    "duration": 246,
    "start_time": "2024-10-24T11:48:00.706Z"
   },
   {
    "duration": 602,
    "start_time": "2024-10-24T11:48:00.954Z"
   },
   {
    "duration": 675162,
    "start_time": "2024-10-24T11:48:01.558Z"
   },
   {
    "duration": 3,
    "start_time": "2024-10-24T11:59:16.724Z"
   },
   {
    "duration": 10,
    "start_time": "2024-10-24T11:59:16.729Z"
   },
   {
    "duration": 99359,
    "start_time": "2024-10-24T11:59:16.740Z"
   },
   {
    "duration": 708,
    "start_time": "2024-10-24T12:21:10.524Z"
   },
   {
    "duration": 867,
    "start_time": "2024-10-24T12:21:11.234Z"
   },
   {
    "duration": 25,
    "start_time": "2024-10-24T12:21:12.103Z"
   },
   {
    "duration": 3,
    "start_time": "2024-10-24T12:21:12.130Z"
   },
   {
    "duration": 10,
    "start_time": "2024-10-24T12:21:12.135Z"
   },
   {
    "duration": 1188,
    "start_time": "2024-10-24T12:21:12.147Z"
   },
   {
    "duration": 248,
    "start_time": "2024-10-24T12:21:13.337Z"
   },
   {
    "duration": 602,
    "start_time": "2024-10-24T12:21:13.587Z"
   },
   {
    "duration": 680618,
    "start_time": "2024-10-24T12:21:14.191Z"
   },
   {
    "duration": 3,
    "start_time": "2024-10-24T12:32:34.813Z"
   },
   {
    "duration": 2,
    "start_time": "2024-10-24T12:32:34.818Z"
   },
   {
    "duration": 4,
    "start_time": "2024-10-24T12:32:34.821Z"
   },
   {
    "duration": 4,
    "start_time": "2024-10-24T12:32:34.826Z"
   },
   {
    "duration": 13,
    "start_time": "2024-10-24T12:32:34.832Z"
   },
   {
    "duration": 256,
    "start_time": "2024-10-24T12:32:34.847Z"
   },
   {
    "duration": 0,
    "start_time": "2024-10-24T12:32:35.109Z"
   },
   {
    "duration": 0,
    "start_time": "2024-10-24T12:32:35.111Z"
   },
   {
    "duration": 628,
    "start_time": "2024-10-24T17:32:04.435Z"
   },
   {
    "duration": 2701,
    "start_time": "2024-10-24T17:32:05.066Z"
   },
   {
    "duration": 21,
    "start_time": "2024-10-24T17:32:07.769Z"
   },
   {
    "duration": 3,
    "start_time": "2024-10-24T17:32:07.792Z"
   },
   {
    "duration": 11,
    "start_time": "2024-10-24T17:32:07.798Z"
   },
   {
    "duration": 1233,
    "start_time": "2024-10-24T17:32:07.810Z"
   },
   {
    "duration": 247,
    "start_time": "2024-10-24T17:32:09.045Z"
   },
   {
    "duration": 505,
    "start_time": "2024-10-24T17:32:09.294Z"
   },
   {
    "duration": 1368890,
    "start_time": "2024-10-24T17:32:09.801Z"
   },
   {
    "duration": 4,
    "start_time": "2024-10-24T17:54:58.692Z"
   },
   {
    "duration": 2,
    "start_time": "2024-10-24T17:54:58.698Z"
   },
   {
    "duration": 2,
    "start_time": "2024-10-24T17:54:58.702Z"
   },
   {
    "duration": 3,
    "start_time": "2024-10-24T17:54:58.706Z"
   },
   {
    "duration": 2,
    "start_time": "2024-10-24T17:54:58.712Z"
   },
   {
    "duration": 2,
    "start_time": "2024-10-24T17:54:58.744Z"
   },
   {
    "duration": 2,
    "start_time": "2024-10-24T17:54:58.748Z"
   },
   {
    "duration": 4,
    "start_time": "2024-10-24T17:54:58.751Z"
   },
   {
    "duration": 3,
    "start_time": "2024-10-24T17:54:58.756Z"
   },
   {
    "duration": 3323,
    "start_time": "2024-10-24T21:58:53.121Z"
   },
   {
    "duration": 22,
    "start_time": "2024-10-24T21:58:56.447Z"
   },
   {
    "duration": 3,
    "start_time": "2024-10-24T21:58:56.471Z"
   },
   {
    "duration": 11,
    "start_time": "2024-10-24T21:58:56.477Z"
   },
   {
    "duration": 1223,
    "start_time": "2024-10-24T21:58:56.489Z"
   },
   {
    "duration": 254,
    "start_time": "2024-10-24T21:58:57.714Z"
   },
   {
    "duration": 599,
    "start_time": "2024-10-24T21:58:57.970Z"
   },
   {
    "duration": 4,
    "start_time": "2024-10-24T21:58:58.570Z"
   },
   {
    "duration": 8,
    "start_time": "2024-10-24T21:58:58.576Z"
   },
   {
    "duration": 8861,
    "start_time": "2024-10-24T21:58:58.587Z"
   },
   {
    "duration": 1380612,
    "start_time": "2024-10-24T21:59:07.450Z"
   },
   {
    "duration": 13,
    "start_time": "2024-10-24T22:22:08.064Z"
   },
   {
    "duration": 19,
    "start_time": "2024-10-24T22:22:08.079Z"
   },
   {
    "duration": 6,
    "start_time": "2024-10-24T22:22:08.100Z"
   },
   {
    "duration": 3286,
    "start_time": "2024-10-25T11:26:09.070Z"
   },
   {
    "duration": 26,
    "start_time": "2024-10-25T11:26:12.358Z"
   },
   {
    "duration": 3,
    "start_time": "2024-10-25T11:26:12.386Z"
   },
   {
    "duration": 11,
    "start_time": "2024-10-25T11:26:12.391Z"
   },
   {
    "duration": 1176,
    "start_time": "2024-10-25T11:26:12.404Z"
   },
   {
    "duration": 246,
    "start_time": "2024-10-25T11:26:13.582Z"
   },
   {
    "duration": 586,
    "start_time": "2024-10-25T11:26:13.830Z"
   },
   {
    "duration": 1516,
    "start_time": "2024-10-25T11:40:06.310Z"
   },
   {
    "duration": 21,
    "start_time": "2024-10-25T11:40:07.828Z"
   },
   {
    "duration": 3,
    "start_time": "2024-10-25T11:40:07.850Z"
   },
   {
    "duration": 10,
    "start_time": "2024-10-25T11:40:07.870Z"
   },
   {
    "duration": 1109,
    "start_time": "2024-10-25T11:40:07.882Z"
   },
   {
    "duration": 329,
    "start_time": "2024-10-25T11:40:08.992Z"
   },
   {
    "duration": 506,
    "start_time": "2024-10-25T11:40:09.323Z"
   },
   {
    "duration": 1449,
    "start_time": "2024-10-25T11:56:54.246Z"
   },
   {
    "duration": 21,
    "start_time": "2024-10-25T11:56:55.697Z"
   },
   {
    "duration": 3,
    "start_time": "2024-10-25T11:56:55.720Z"
   },
   {
    "duration": 11,
    "start_time": "2024-10-25T11:56:55.726Z"
   },
   {
    "duration": 1146,
    "start_time": "2024-10-25T11:56:55.739Z"
   },
   {
    "duration": 337,
    "start_time": "2024-10-25T11:56:56.886Z"
   },
   {
    "duration": 503,
    "start_time": "2024-10-25T11:56:57.225Z"
   },
   {
    "duration": 4,
    "start_time": "2024-10-25T11:56:57.730Z"
   },
   {
    "duration": 6,
    "start_time": "2024-10-25T11:56:57.736Z"
   },
   {
    "duration": 27,
    "start_time": "2024-10-25T11:56:57.744Z"
   },
   {
    "duration": 0,
    "start_time": "2024-10-25T11:56:57.772Z"
   },
   {
    "duration": 0,
    "start_time": "2024-10-25T11:56:57.774Z"
   },
   {
    "duration": 0,
    "start_time": "2024-10-25T11:56:57.774Z"
   },
   {
    "duration": 0,
    "start_time": "2024-10-25T11:56:57.775Z"
   },
   {
    "duration": 1510,
    "start_time": "2024-10-25T11:58:00.397Z"
   },
   {
    "duration": 21,
    "start_time": "2024-10-25T11:58:01.910Z"
   },
   {
    "duration": 3,
    "start_time": "2024-10-25T11:58:01.933Z"
   },
   {
    "duration": 32,
    "start_time": "2024-10-25T11:58:01.938Z"
   },
   {
    "duration": 1096,
    "start_time": "2024-10-25T11:58:01.974Z"
   },
   {
    "duration": 322,
    "start_time": "2024-10-25T11:58:03.072Z"
   },
   {
    "duration": 495,
    "start_time": "2024-10-25T11:58:03.396Z"
   },
   {
    "duration": 6,
    "start_time": "2024-10-25T11:58:03.893Z"
   },
   {
    "duration": 8,
    "start_time": "2024-10-25T11:58:03.900Z"
   },
   {
    "duration": 724768,
    "start_time": "2024-10-25T11:58:03.909Z"
   },
   {
    "duration": 737889,
    "start_time": "2024-10-25T12:10:08.678Z"
   },
   {
    "duration": 17,
    "start_time": "2024-10-25T12:22:26.571Z"
   },
   {
    "duration": 12,
    "start_time": "2024-10-25T12:22:26.590Z"
   },
   {
    "duration": 6,
    "start_time": "2024-10-25T12:22:26.604Z"
   },
   {
    "duration": 3349,
    "start_time": "2024-10-25T14:57:17.722Z"
   },
   {
    "duration": 21,
    "start_time": "2024-10-25T14:57:21.074Z"
   },
   {
    "duration": 3,
    "start_time": "2024-10-25T14:57:21.097Z"
   },
   {
    "duration": 29,
    "start_time": "2024-10-25T14:57:21.101Z"
   },
   {
    "duration": 1163,
    "start_time": "2024-10-25T14:57:21.134Z"
   },
   {
    "duration": 246,
    "start_time": "2024-10-25T14:57:22.299Z"
   },
   {
    "duration": 506,
    "start_time": "2024-10-25T14:57:22.546Z"
   },
   {
    "duration": 4,
    "start_time": "2024-10-25T14:57:23.054Z"
   },
   {
    "duration": 5,
    "start_time": "2024-10-25T14:57:23.060Z"
   },
   {
    "duration": 684291,
    "start_time": "2024-10-25T14:57:23.067Z"
   },
   {
    "duration": 785423,
    "start_time": "2024-10-25T15:08:47.361Z"
   },
   {
    "duration": 15,
    "start_time": "2024-10-25T15:21:52.786Z"
   },
   {
    "duration": 30,
    "start_time": "2024-10-25T15:21:52.803Z"
   },
   {
    "duration": 240,
    "start_time": "2024-10-25T15:21:52.835Z"
   },
   {
    "duration": 9,
    "start_time": "2024-10-25T15:25:50.612Z"
   },
   {
    "duration": 1442,
    "start_time": "2024-10-25T16:04:13.601Z"
   },
   {
    "duration": 21,
    "start_time": "2024-10-25T16:04:15.046Z"
   },
   {
    "duration": 3,
    "start_time": "2024-10-25T16:04:15.069Z"
   },
   {
    "duration": 11,
    "start_time": "2024-10-25T16:04:15.074Z"
   },
   {
    "duration": 1104,
    "start_time": "2024-10-25T16:04:15.086Z"
   },
   {
    "duration": 345,
    "start_time": "2024-10-25T16:04:16.192Z"
   },
   {
    "duration": 498,
    "start_time": "2024-10-25T16:04:16.539Z"
   },
   {
    "duration": 5,
    "start_time": "2024-10-25T16:04:17.039Z"
   },
   {
    "duration": 6,
    "start_time": "2024-10-25T16:04:17.045Z"
   },
   {
    "duration": 686873,
    "start_time": "2024-10-25T16:04:17.054Z"
   },
   {
    "duration": 786157,
    "start_time": "2024-10-25T16:15:43.929Z"
   },
   {
    "duration": 15,
    "start_time": "2024-10-25T16:28:50.088Z"
   },
   {
    "duration": 27,
    "start_time": "2024-10-25T16:28:50.104Z"
   },
   {
    "duration": 8,
    "start_time": "2024-10-25T16:28:50.132Z"
   }
  ],
  "kernelspec": {
   "display_name": "Python 3 (ipykernel)",
   "language": "python",
   "name": "python3"
  },
  "language_info": {
   "codemirror_mode": {
    "name": "ipython",
    "version": 3
   },
   "file_extension": ".py",
   "mimetype": "text/x-python",
   "name": "python",
   "nbconvert_exporter": "python",
   "pygments_lexer": "ipython3",
   "version": "3.10.11"
  },
  "toc": {
   "base_numbering": 1,
   "nav_menu": {},
   "number_sections": true,
   "sideBar": true,
   "skip_h1_title": true,
   "title_cell": "Table of Contents",
   "title_sidebar": "Contents",
   "toc_cell": false,
   "toc_position": {},
   "toc_section_display": true,
   "toc_window_display": false
  }
 },
 "nbformat": 4,
 "nbformat_minor": 4
}
