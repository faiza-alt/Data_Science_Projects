{
 "cells": [
  {
   "cell_type": "markdown",
   "metadata": {},
   "source": [
    "# Revenue Analysis of Megaline's Surf and Ultimate Plans"
   ]
  },
  {
   "cell_type": "markdown",
   "metadata": {},
   "source": [
    "**Description:**\n",
    "\n",
    "You work as an analyst for the telecom operator Megaline. The company offers its clients two prepaid plans, Surf and Ultimate. The commercial department wants to know which of the plans brings in more revenue in order to adjust the advertising budget.\n",
    "\n",
    "You are going to carry out a preliminary analysis of the plans based on a relatively small client selection. You'll have the data on 500 Megaline clients: who the clients are, where they're from, which plan they use, and the number of calls they made and text messages they sent in 2018. Your job is to analyze the clients' behavior and determine which prepaid plan brings in more revenue."
   ]
  },
  {
   "cell_type": "markdown",
   "metadata": {},
   "source": [
    "## Initialization"
   ]
  },
  {
   "cell_type": "markdown",
   "metadata": {},
   "source": [
    "In this project, we are going to analyze the two plans of Megaline company. The purpose of this analysis is to determine which of Megaline's prepaid plans, Surf or Ultimate, brings in more revenue. This will guide the commercial department in adjusting the advertising budget. The analysis is based on data from 500 clients, including their usage of calls, messages, and internet in 2018.\n"
   ]
  },
  {
   "cell_type": "code",
   "execution_count": 1,
   "metadata": {},
   "outputs": [],
   "source": [
    "# Loading all the libraries\n",
    "import pandas as pd\n",
    "import numpy as np\n",
    "from scipy import stats\n",
    "import matplotlib.pyplot as plt\n",
    "import seaborn as sns"
   ]
  },
  {
   "cell_type": "markdown",
   "metadata": {},
   "source": [
    "## Load data"
   ]
  },
  {
   "cell_type": "code",
   "execution_count": 2,
   "metadata": {},
   "outputs": [],
   "source": [
    "# Load the data files into different DataFrames\n",
    "\n",
    "# Load the datasets\n",
    "calls = pd.read_csv('/datasets/megaline_calls.csv')\n",
    "internet = pd.read_csv('/datasets/megaline_internet.csv')\n",
    "messages = pd.read_csv('/datasets/megaline_messages.csv')\n",
    "plans = pd.read_csv('/datasets/megaline_plans.csv')\n",
    "users = pd.read_csv('/datasets/megaline_users.csv')\n"
   ]
  },
  {
   "cell_type": "markdown",
   "metadata": {},
   "source": [
    "## Prepare the data"
   ]
  },
  {
   "cell_type": "markdown",
   "metadata": {},
   "source": [
    "[The data for this project is split into several tables. Explore each one to get an initial understanding of the data. Do necessary corrections to each table if necessary.]"
   ]
  },
  {
   "cell_type": "markdown",
   "metadata": {},
   "source": [
    "## Plans"
   ]
  },
  {
   "cell_type": "code",
   "execution_count": 3,
   "metadata": {
    "scrolled": true
   },
   "outputs": [
    {
     "name": "stdout",
     "output_type": "stream",
     "text": [
      "Plans DataFrame Info:\n",
      "<class 'pandas.core.frame.DataFrame'>\n",
      "RangeIndex: 2 entries, 0 to 1\n",
      "Data columns (total 8 columns):\n",
      " #   Column                 Non-Null Count  Dtype  \n",
      "---  ------                 --------------  -----  \n",
      " 0   messages_included      2 non-null      int64  \n",
      " 1   mb_per_month_included  2 non-null      int64  \n",
      " 2   minutes_included       2 non-null      int64  \n",
      " 3   usd_monthly_pay        2 non-null      int64  \n",
      " 4   usd_per_gb             2 non-null      int64  \n",
      " 5   usd_per_message        2 non-null      float64\n",
      " 6   usd_per_minute         2 non-null      float64\n",
      " 7   plan_name              2 non-null      object \n",
      "dtypes: float64(2), int64(5), object(1)\n",
      "memory usage: 256.0+ bytes\n",
      "None\n",
      "\n",
      "Plans DataFrame Description:\n",
      "        messages_included  mb_per_month_included  minutes_included  \\\n",
      "count            2.000000               2.000000          2.000000   \n",
      "unique                NaN                    NaN               NaN   \n",
      "top                   NaN                    NaN               NaN   \n",
      "freq                  NaN                    NaN               NaN   \n",
      "mean           525.000000           23040.000000       1750.000000   \n",
      "std            671.751442           10861.160159       1767.766953   \n",
      "min             50.000000           15360.000000        500.000000   \n",
      "25%            287.500000           19200.000000       1125.000000   \n",
      "50%            525.000000           23040.000000       1750.000000   \n",
      "75%            762.500000           26880.000000       2375.000000   \n",
      "max           1000.000000           30720.000000       3000.000000   \n",
      "\n",
      "        usd_monthly_pay  usd_per_gb  usd_per_message  usd_per_minute plan_name  \n",
      "count          2.000000     2.00000         2.000000        2.000000         2  \n",
      "unique              NaN         NaN              NaN             NaN         2  \n",
      "top                 NaN         NaN              NaN             NaN      surf  \n",
      "freq                NaN         NaN              NaN             NaN         1  \n",
      "mean          45.000000     8.50000         0.020000        0.020000       NaN  \n",
      "std           35.355339     2.12132         0.014142        0.014142       NaN  \n",
      "min           20.000000     7.00000         0.010000        0.010000       NaN  \n",
      "25%           32.500000     7.75000         0.015000        0.015000       NaN  \n",
      "50%           45.000000     8.50000         0.020000        0.020000       NaN  \n",
      "75%           57.500000     9.25000         0.025000        0.025000       NaN  \n",
      "max           70.000000    10.00000         0.030000        0.030000       NaN  \n",
      "   messages_included  mb_per_month_included  minutes_included  \\\n",
      "0                 50                  15360               500   \n",
      "1               1000                  30720              3000   \n",
      "\n",
      "   usd_monthly_pay  usd_per_gb  usd_per_message  usd_per_minute plan_name  \n",
      "0               20          10             0.03            0.03      surf  \n",
      "1               70           7             0.01            0.01  ultimate  \n"
     ]
    }
   ],
   "source": [
    "# Print the general/summary information about the plans' DataFrame\n",
    "\n",
    "print(\"Plans DataFrame Info:\")\n",
    "print(plans.info())\n",
    "\n",
    "print(\"\\nPlans DataFrame Description:\")\n",
    "print(plans.describe(include='all'))\n",
    "\n",
    "print(plans.head(10))\n",
    "\n"
   ]
  },
  {
   "cell_type": "code",
   "execution_count": 4,
   "metadata": {},
   "outputs": [
    {
     "name": "stdout",
     "output_type": "stream",
     "text": [
      "\n",
      "Plans DataFrame Sample Data:\n",
      "   messages_included  mb_per_month_included  minutes_included  \\\n",
      "0                 50                  15360               500   \n",
      "1               1000                  30720              3000   \n",
      "\n",
      "   usd_monthly_pay  usd_per_gb  usd_per_message  usd_per_minute plan_name  \n",
      "0               20          10             0.03            0.03      surf  \n",
      "1               70           7             0.01            0.01  ultimate  \n"
     ]
    }
   ],
   "source": [
    "# Print a sample of data for plans\n",
    "\n",
    "print(\"\\nPlans DataFrame Sample Data:\")\n",
    "print(plans.head())"
   ]
  },
  {
   "cell_type": "markdown",
   "metadata": {},
   "source": [
    "[Describe what you see and notice in the general information and the printed data sample for the above price of data. Are there any issues (inappropriate data types, missing data etc) that may need further investigation and changes? How that can be fixed?]"
   ]
  },
  {
   "cell_type": "markdown",
   "metadata": {},
   "source": [
    " "
   ]
  },
  {
   "cell_type": "markdown",
   "metadata": {},
   "source": [
    "## Fix data"
   ]
  },
  {
   "cell_type": "markdown",
   "metadata": {},
   "source": [
    "[Fix obvious issues with the data given the initial observations.]"
   ]
  },
  {
   "cell_type": "markdown",
   "metadata": {},
   "source": [
    "\n",
    "Plans Data:\n",
    "Data Structure: Includes messages_included, mb_per_month_included, minutes_included, usd_monthly_pay, usd_per_gb, usd_per_message, usd_per_minute, and plan_name.\n",
    "\n",
    "Data Types: All columns have appropriate data types.\n",
    "\n",
    "Issues:\n",
    "No issues were observed with data types or missing values."
   ]
  },
  {
   "cell_type": "markdown",
   "metadata": {},
   "source": [
    "## Users"
   ]
  },
  {
   "cell_type": "code",
   "execution_count": 5,
   "metadata": {},
   "outputs": [
    {
     "name": "stdout",
     "output_type": "stream",
     "text": [
      "Users DataFrame Info:\n",
      "<class 'pandas.core.frame.DataFrame'>\n",
      "RangeIndex: 500 entries, 0 to 499\n",
      "Data columns (total 8 columns):\n",
      " #   Column      Non-Null Count  Dtype \n",
      "---  ------      --------------  ----- \n",
      " 0   user_id     500 non-null    int64 \n",
      " 1   first_name  500 non-null    object\n",
      " 2   last_name   500 non-null    object\n",
      " 3   age         500 non-null    int64 \n",
      " 4   city        500 non-null    object\n",
      " 5   reg_date    500 non-null    object\n",
      " 6   plan        500 non-null    object\n",
      " 7   churn_date  34 non-null     object\n",
      "dtypes: int64(2), object(6)\n",
      "memory usage: 31.4+ KB\n",
      "None\n"
     ]
    }
   ],
   "source": [
    "\n",
    "# Print the general/summary information about the users' DataFrame\n",
    "print(\"Users DataFrame Info:\")\n",
    "print(users.info())\n",
    "\n"
   ]
  },
  {
   "cell_type": "code",
   "execution_count": 6,
   "metadata": {},
   "outputs": [
    {
     "name": "stdout",
     "output_type": "stream",
     "text": [
      "\n",
      "Users DataFrame Sample Data:\n",
      "   user_id first_name  last_name  age                                   city  \\\n",
      "0     1000   Anamaria      Bauer   45  Atlanta-Sandy Springs-Roswell, GA MSA   \n",
      "1     1001     Mickey  Wilkerson   28        Seattle-Tacoma-Bellevue, WA MSA   \n",
      "2     1002     Carlee    Hoffman   36   Las Vegas-Henderson-Paradise, NV MSA   \n",
      "3     1003   Reynaldo    Jenkins   52                          Tulsa, OK MSA   \n",
      "4     1004    Leonila   Thompson   40        Seattle-Tacoma-Bellevue, WA MSA   \n",
      "\n",
      "     reg_date      plan churn_date  \n",
      "0  2018-12-24  ultimate        NaN  \n",
      "1  2018-08-13      surf        NaN  \n",
      "2  2018-10-21      surf        NaN  \n",
      "3  2018-01-28      surf        NaN  \n",
      "4  2018-05-23      surf        NaN  \n"
     ]
    }
   ],
   "source": [
    "# Print a sample of data for users\n",
    "print(\"\\nUsers DataFrame Sample Data:\")\n",
    "print(users.head())\n",
    "\n"
   ]
  },
  {
   "cell_type": "markdown",
   "metadata": {},
   "source": [
    "[Describe what you see and notice in the general information and the printed data sample for the above price of data. Are there any issues (inappropriate data types, missing data etc) that may need further investigation and changes? How that can be fixed?]"
   ]
  },
  {
   "cell_type": "markdown",
   "metadata": {},
   "source": [
    " "
   ]
  },
  {
   "cell_type": "markdown",
   "metadata": {},
   "source": [
    "### Fix Data"
   ]
  },
  {
   "cell_type": "markdown",
   "metadata": {},
   "source": [
    "[Fix obvious issues with the data given the initial observations.]"
   ]
  },
  {
   "cell_type": "markdown",
   "metadata": {},
   "source": [
    "\n",
    "\n",
    "Users Data:\n",
    "\n",
    "Data Structure: Contains user_id, first_name, last_name, age, city, reg_date, plan, and churn_date.\n",
    "\n",
    "Data Types: user_id (int64), first_name (object), last_name (object), age (int64), city (object), reg_date (object), plan (object), churn_date (object).\n",
    "\n",
    "Issues:\n",
    "reg_date and churn_date should be converted to datetime format.\n",
    "Missing values in churn_date, which is expected as not all users have churned.\n",
    "\n"
   ]
  },
  {
   "cell_type": "code",
   "execution_count": 7,
   "metadata": {},
   "outputs": [
    {
     "name": "stdout",
     "output_type": "stream",
     "text": [
      "<class 'pandas.core.frame.DataFrame'>\n",
      "RangeIndex: 500 entries, 0 to 499\n",
      "Data columns (total 8 columns):\n",
      " #   Column      Non-Null Count  Dtype         \n",
      "---  ------      --------------  -----         \n",
      " 0   user_id     500 non-null    int64         \n",
      " 1   first_name  500 non-null    object        \n",
      " 2   last_name   500 non-null    object        \n",
      " 3   age         500 non-null    int64         \n",
      " 4   city        500 non-null    object        \n",
      " 5   reg_date    500 non-null    datetime64[ns]\n",
      " 6   plan        500 non-null    object        \n",
      " 7   churn_date  34 non-null     datetime64[ns]\n",
      "dtypes: datetime64[ns](2), int64(2), object(4)\n",
      "memory usage: 31.4+ KB\n"
     ]
    }
   ],
   "source": [
    "\n",
    "\n",
    "# Convert reg_date and churn_date to datetime\n",
    "users['reg_date'] = pd.to_datetime(users['reg_date'])\n",
    "users['churn_date'] = pd.to_datetime(users['churn_date'])\n",
    "\n",
    "users.info()\n",
    "\n"
   ]
  },
  {
   "cell_type": "markdown",
   "metadata": {},
   "source": [
    "## Calls"
   ]
  },
  {
   "cell_type": "code",
   "execution_count": 8,
   "metadata": {},
   "outputs": [
    {
     "name": "stdout",
     "output_type": "stream",
     "text": [
      "Calls DataFrame Info:\n",
      "<class 'pandas.core.frame.DataFrame'>\n",
      "RangeIndex: 137735 entries, 0 to 137734\n",
      "Data columns (total 4 columns):\n",
      " #   Column     Non-Null Count   Dtype  \n",
      "---  ------     --------------   -----  \n",
      " 0   id         137735 non-null  object \n",
      " 1   user_id    137735 non-null  int64  \n",
      " 2   call_date  137735 non-null  object \n",
      " 3   duration   137735 non-null  float64\n",
      "dtypes: float64(1), int64(1), object(2)\n",
      "memory usage: 4.2+ MB\n",
      "None\n"
     ]
    }
   ],
   "source": [
    "# Print the general/summary information about the calls' DataFrame\n",
    "print(\"Calls DataFrame Info:\")\n",
    "print(calls.info())\n",
    "\n",
    "\n"
   ]
  },
  {
   "cell_type": "code",
   "execution_count": 9,
   "metadata": {},
   "outputs": [
    {
     "name": "stdout",
     "output_type": "stream",
     "text": [
      "\n",
      "Calls DataFrame Sample Data:\n",
      "         id  user_id   call_date  duration\n",
      "0   1000_93     1000  2018-12-27      8.52\n",
      "1  1000_145     1000  2018-12-27     13.66\n",
      "2  1000_247     1000  2018-12-27     14.48\n",
      "3  1000_309     1000  2018-12-28      5.76\n",
      "4  1000_380     1000  2018-12-30      4.22\n"
     ]
    }
   ],
   "source": [
    "# Print a sample of data for calls\n",
    "print(\"\\nCalls DataFrame Sample Data:\")\n",
    "print(calls.head())\n",
    "\n",
    "\n"
   ]
  },
  {
   "cell_type": "markdown",
   "metadata": {},
   "source": [
    "[Describe what you see and notice in the general information and the printed data sample for the above price of data. Are there any issues (inappropriate data types, missing data etc) that may need further investigation and changes? How that can be fixed?]"
   ]
  },
  {
   "cell_type": "markdown",
   "metadata": {},
   "source": [
    " "
   ]
  },
  {
   "cell_type": "markdown",
   "metadata": {},
   "source": [
    "### Fix data"
   ]
  },
  {
   "cell_type": "markdown",
   "metadata": {},
   "source": [
    "[Fix obvious issues with the data given the initial observations.]"
   ]
  },
  {
   "cell_type": "markdown",
   "metadata": {},
   "source": [
    "\n",
    "\n",
    "Observations\n",
    "\n",
    "\n",
    "Date Format:\n",
    "\n",
    "The call_date column is in object format and should be converted to datetime for time-based analysis.\n",
    "\n",
    "Duration:\n",
    "\n",
    "The duration values are in float64 format, which is appropriate.\n",
    "No missing values or obvious anomalies in the sample data.\n",
    "\n",
    "User Identification:\n",
    "\n",
    "The user_id column is in int64 format, which is appropriate for identification purposes.\n",
    "No missing values or duplicates in the sample data.\n",
    "\n",
    "Data Completeness:\n",
    "\n",
    "The sample shows complete data entries with no missing values for the columns id, user_id, call_date, and duration.\n",
    "\n",
    "Issues and Fixes\n",
    "Issue 1: call_date Data Type\n",
    "Problem: The call_date column is in object format.\n",
    "Fix: Convert call_date to datetime format.\n",
    "Issue 2: Ensuring Data Consistency and Completeness\n",
    "Problem: Although no missing values are observed in the sample, it's important to check the entire dataset.\n",
    "Fix: Verify the dataset for any missing or inconsistent values\n"
   ]
  },
  {
   "cell_type": "code",
   "execution_count": 10,
   "metadata": {},
   "outputs": [
    {
     "name": "stdout",
     "output_type": "stream",
     "text": [
      "<class 'pandas.core.frame.DataFrame'>\n",
      "RangeIndex: 137735 entries, 0 to 137734\n",
      "Data columns (total 6 columns):\n",
      " #   Column     Non-Null Count   Dtype         \n",
      "---  ------     --------------   -----         \n",
      " 0   id         137735 non-null  object        \n",
      " 1   user_id    137735 non-null  int64         \n",
      " 2   call_date  137735 non-null  datetime64[ns]\n",
      " 3   duration   137735 non-null  float64       \n",
      " 4   month      137735 non-null  int64         \n",
      " 5   year       137735 non-null  int64         \n",
      "dtypes: datetime64[ns](1), float64(1), int64(3), object(1)\n",
      "memory usage: 6.3+ MB\n",
      "None\n",
      "id           0\n",
      "user_id      0\n",
      "call_date    0\n",
      "duration     0\n",
      "month        0\n",
      "year         0\n",
      "dtype: int64\n",
      "         id  user_id  call_date  duration  month  year\n",
      "0   1000_93     1000 2018-12-27       9.0     12  2018\n",
      "1  1000_145     1000 2018-12-27      14.0     12  2018\n",
      "2  1000_247     1000 2018-12-27      15.0     12  2018\n",
      "3  1000_309     1000 2018-12-28       6.0     12  2018\n",
      "4  1000_380     1000 2018-12-30       5.0     12  2018\n"
     ]
    }
   ],
   "source": [
    "# Convert call_date to datetime format\n",
    "calls['call_date'] = pd.to_datetime(calls['call_date'])\n",
    "calls['month'] = calls['call_date'].dt.month\n",
    "calls['year'] = calls['call_date'].dt.year\n",
    "\n",
    "\n",
    "# Round up call durations to the nearest minute\n",
    "calls['duration'] = np.ceil(calls['duration'])\n",
    "\n",
    "# Verify the conversion\n",
    "print(calls.info())\n",
    "\n",
    "# Check for any missing values in the entire dataset\n",
    "missing_values = calls.isnull().sum()\n",
    "print(missing_values)\n",
    "\n",
    "# Display the first few rows to ensure the data looks correct\n",
    "print(calls.head())\n",
    "\n",
    "\n",
    "\n",
    "\n"
   ]
  },
  {
   "cell_type": "markdown",
   "metadata": {},
   "source": [
    "## Messages"
   ]
  },
  {
   "cell_type": "code",
   "execution_count": 11,
   "metadata": {},
   "outputs": [
    {
     "name": "stdout",
     "output_type": "stream",
     "text": [
      "Messages DataFrame Info:\n",
      "<class 'pandas.core.frame.DataFrame'>\n",
      "RangeIndex: 76051 entries, 0 to 76050\n",
      "Data columns (total 3 columns):\n",
      " #   Column        Non-Null Count  Dtype \n",
      "---  ------        --------------  ----- \n",
      " 0   id            76051 non-null  object\n",
      " 1   user_id       76051 non-null  int64 \n",
      " 2   message_date  76051 non-null  object\n",
      "dtypes: int64(1), object(2)\n",
      "memory usage: 1.7+ MB\n",
      "None\n"
     ]
    }
   ],
   "source": [
    "# Print the general/summary information about the messages' DataFrame\n",
    "print(\"Messages DataFrame Info:\")\n",
    "print(messages.info())\n",
    "\n"
   ]
  },
  {
   "cell_type": "code",
   "execution_count": 12,
   "metadata": {},
   "outputs": [
    {
     "name": "stdout",
     "output_type": "stream",
     "text": [
      "\n",
      "Messages DataFrame Sample Data:\n",
      "         id  user_id message_date\n",
      "0  1000_125     1000   2018-12-27\n",
      "1  1000_160     1000   2018-12-31\n",
      "2  1000_223     1000   2018-12-31\n",
      "3  1000_251     1000   2018-12-27\n",
      "4  1000_255     1000   2018-12-26\n"
     ]
    }
   ],
   "source": [
    "# Print a sample of data for messages\n",
    "print(\"\\nMessages DataFrame Sample Data:\")\n",
    "print(messages.head())\n",
    "\n"
   ]
  },
  {
   "cell_type": "markdown",
   "metadata": {},
   "source": [
    "[Describe what you see and notice in the general information and the printed data sample for the above price of data. Are there any issues (inappropriate data types, missing data etc) that may need further investigation and changes? How that can be fixed?]"
   ]
  },
  {
   "cell_type": "markdown",
   "metadata": {},
   "source": [
    " "
   ]
  },
  {
   "cell_type": "markdown",
   "metadata": {},
   "source": [
    "**Observations**\n",
    "\n",
    "Date Format:\n",
    "\n",
    "The message_date column is in object format and should be converted to datetime for time-based analysis.\n",
    "\n",
    "User Identification:\n",
    "The user_id column is in int64 format, which is appropriate for identification purposes.\n",
    "No missing values or duplicates in the sample data.\n",
    "\n",
    "Message Identification:\n",
    "The id column is in object format and appears to be a unique identifier for each message.\n",
    "No missing values in the sample data.\n",
    "\n",
    "Data Completeness:\n",
    "The sample shows complete data entries with no missing values for the columns id, user_id, and message_date.\n",
    "\n",
    "Issues and Fixes\n",
    "Issue 1: message_date Data Type\n",
    "Problem: The message_date column is in object format.\n",
    "Fix: Convert message_date to datetime format.\n",
    "Issue 2: Ensuring Data Consistency and Completeness\n",
    "Problem: Although no missing values are observed in the sample, it's important to check the entire dataset.\n",
    "Fix: Verify the dataset for any missing or inconsistent values."
   ]
  },
  {
   "cell_type": "code",
   "execution_count": 13,
   "metadata": {},
   "outputs": [
    {
     "name": "stdout",
     "output_type": "stream",
     "text": [
      "<class 'pandas.core.frame.DataFrame'>\n",
      "RangeIndex: 76051 entries, 0 to 76050\n",
      "Data columns (total 5 columns):\n",
      " #   Column        Non-Null Count  Dtype         \n",
      "---  ------        --------------  -----         \n",
      " 0   id            76051 non-null  object        \n",
      " 1   user_id       76051 non-null  int64         \n",
      " 2   message_date  76051 non-null  datetime64[ns]\n",
      " 3   month         76051 non-null  int64         \n",
      " 4   year          76051 non-null  int64         \n",
      "dtypes: datetime64[ns](1), int64(3), object(1)\n",
      "memory usage: 2.9+ MB\n",
      "None\n",
      "id              0\n",
      "user_id         0\n",
      "message_date    0\n",
      "month           0\n",
      "year            0\n",
      "dtype: int64\n",
      "         id  user_id message_date  month  year\n",
      "0  1000_125     1000   2018-12-27     12  2018\n",
      "1  1000_160     1000   2018-12-31     12  2018\n",
      "2  1000_223     1000   2018-12-31     12  2018\n",
      "3  1000_251     1000   2018-12-27     12  2018\n",
      "4  1000_255     1000   2018-12-26     12  2018\n"
     ]
    }
   ],
   "source": [
    "\n",
    "\n",
    "# Convert message_date to datetime format\n",
    "messages['message_date'] = pd.to_datetime(messages['message_date'])\n",
    "messages['month'] = messages['message_date'].dt.month\n",
    "messages['year'] = messages['message_date'].dt.year\n",
    "\n",
    "\n",
    "# Verify the conversion\n",
    "print(messages.info())\n",
    "\n",
    "# Check for any missing values in the entire dataset\n",
    "missing_values = messages.isnull().sum()\n",
    "print(missing_values)\n",
    "\n",
    "# Display the first few rows to ensure the data looks correct\n",
    "print(messages.head())\n",
    "\n",
    "\n"
   ]
  },
  {
   "cell_type": "markdown",
   "metadata": {},
   "source": [
    "## Internet"
   ]
  },
  {
   "cell_type": "code",
   "execution_count": 14,
   "metadata": {},
   "outputs": [
    {
     "name": "stdout",
     "output_type": "stream",
     "text": [
      "Internet DataFrame Info:\n",
      "<class 'pandas.core.frame.DataFrame'>\n",
      "RangeIndex: 104825 entries, 0 to 104824\n",
      "Data columns (total 4 columns):\n",
      " #   Column        Non-Null Count   Dtype  \n",
      "---  ------        --------------   -----  \n",
      " 0   id            104825 non-null  object \n",
      " 1   user_id       104825 non-null  int64  \n",
      " 2   session_date  104825 non-null  object \n",
      " 3   mb_used       104825 non-null  float64\n",
      "dtypes: float64(1), int64(1), object(2)\n",
      "memory usage: 3.2+ MB\n",
      "None\n"
     ]
    }
   ],
   "source": [
    "# Print the general/summary information about the internet DataFrame\n",
    "print(\"Internet DataFrame Info:\")\n",
    "print(internet.info())\n",
    "\n"
   ]
  },
  {
   "cell_type": "code",
   "execution_count": 15,
   "metadata": {},
   "outputs": [
    {
     "name": "stdout",
     "output_type": "stream",
     "text": [
      "\n",
      "Internet DataFrame Sample Data:\n",
      "         id  user_id session_date  mb_used\n",
      "0   1000_13     1000   2018-12-29    89.86\n",
      "1  1000_204     1000   2018-12-31     0.00\n",
      "2  1000_379     1000   2018-12-28   660.40\n",
      "3  1000_413     1000   2018-12-26   270.99\n",
      "4  1000_442     1000   2018-12-27   880.22\n"
     ]
    }
   ],
   "source": [
    "# Print a sample of data for the internet traffic\n",
    "print(\"\\nInternet DataFrame Sample Data:\")\n",
    "print(internet.head())"
   ]
  },
  {
   "cell_type": "markdown",
   "metadata": {},
   "source": [
    "[Describe what you see and notice in the general information and the printed data sample for the above price of data. Are there any issues (inappropriate data types, missing data etc) that may need further investigation and changes? How that can be fixed?]"
   ]
  },
  {
   "cell_type": "markdown",
   "metadata": {},
   "source": [
    " "
   ]
  },
  {
   "cell_type": "markdown",
   "metadata": {},
   "source": [
    "\n",
    "**Observations:**\n",
    "\n",
    "Date Format:\n",
    "The session_date column is in object format and should be converted to datetime for time-based analysis.\n",
    "\n",
    "User Identification:\n",
    "The user_id column is in int64 format, which is appropriate for identification purposes.\n",
    "No missing values or duplicates in the sample data.\n",
    "\n",
    "Session Identification:\n",
    "The id column is in object format and appears to be a unique identifier for each internet session.\n",
    "No missing values in the sample data.\n",
    "\n",
    "Data Usage:\n",
    "The mb_used column is in float64 format, which is appropriate for representing data usage.\n",
    "No missing values in the sample data.\n",
    "Some entries have mb_used as 0.00, which may need further investigation to ensure they are valid records.\n",
    "\n",
    "Data Completeness:\n",
    "The sample shows complete data entries with no missing values for the columns id, user_id, session_date, and mb_used.\n",
    "\n",
    "Issues and Fixes\n",
    "Issue 1: session_date Data Type\n",
    "Problem: The session_date column is in object format.\n",
    "Fix: Convert session_date to datetime format.\n",
    "Issue 2: Zero Data Usage Entries\n",
    "Problem: Entries with mb_used as 0.00 might indicate sessions with no data usage or potential data entry errors.\n",
    "Fix: Investigate the context of these zero usage entries to determine if they should be retained or handled differently.\n",
    "Issue 3: Ensuring Data Consistency and Completeness\n",
    "Problem: Although no missing values are observed in the sample, it's important to check the entire dataset.\n",
    "Fix: Verify the dataset for any missing or inconsistent values.\n"
   ]
  },
  {
   "cell_type": "code",
   "execution_count": 16,
   "metadata": {},
   "outputs": [
    {
     "name": "stdout",
     "output_type": "stream",
     "text": [
      "<class 'pandas.core.frame.DataFrame'>\n",
      "RangeIndex: 104825 entries, 0 to 104824\n",
      "Data columns (total 6 columns):\n",
      " #   Column        Non-Null Count   Dtype         \n",
      "---  ------        --------------   -----         \n",
      " 0   id            104825 non-null  object        \n",
      " 1   user_id       104825 non-null  int64         \n",
      " 2   session_date  104825 non-null  datetime64[ns]\n",
      " 3   mb_used       104825 non-null  float64       \n",
      " 4   month         104825 non-null  int64         \n",
      " 5   year          104825 non-null  int64         \n",
      "dtypes: datetime64[ns](1), float64(1), int64(3), object(1)\n",
      "memory usage: 4.8+ MB\n",
      "None\n",
      "id              0\n",
      "user_id         0\n",
      "session_date    0\n",
      "mb_used         0\n",
      "month           0\n",
      "year            0\n",
      "dtype: int64\n",
      "          id  user_id session_date  mb_used  month  year\n",
      "1   1000_204     1000   2018-12-31      0.0     12  2018\n",
      "14   1001_26     1001   2018-09-17      0.0      9  2018\n",
      "16   1001_28     1001   2018-10-17      0.0     10  2018\n",
      "34   1001_54     1001   2018-09-02      0.0      9  2018\n",
      "43   1001_77     1001   2018-10-31      0.0     10  2018\n",
      "         id  user_id session_date  mb_used  month  year\n",
      "0   1000_13     1000   2018-12-29    89.86     12  2018\n",
      "1  1000_204     1000   2018-12-31     0.00     12  2018\n",
      "2  1000_379     1000   2018-12-28   660.40     12  2018\n",
      "3  1000_413     1000   2018-12-26   270.99     12  2018\n",
      "4  1000_442     1000   2018-12-27   880.22     12  2018\n"
     ]
    }
   ],
   "source": [
    "\n",
    "# Convert session_date to datetime format\n",
    "internet['session_date'] = pd.to_datetime(internet['session_date'])\n",
    "internet['month'] = internet['session_date'].dt.month\n",
    "internet['year'] = internet['session_date'].dt.year\n",
    "\n",
    "# Verify the conversion\n",
    "print(internet.info())\n",
    "\n",
    "\n",
    "# Check for any missing values in the entire dataset\n",
    "missing_values = internet.isnull().sum()\n",
    "print(missing_values)\n",
    "\n",
    "\n",
    "# Investigate entries with zero data usage\n",
    "zero_usage_entries = internet[internet['mb_used'] == 0.00]\n",
    "print(zero_usage_entries.head())\n",
    "\n",
    "# Display the first few rows to ensure the data looks correct\n",
    "print(internet.head())"
   ]
  },
  {
   "cell_type": "markdown",
   "metadata": {},
   "source": [
    "## Study plan conditions"
   ]
  },
  {
   "cell_type": "markdown",
   "metadata": {},
   "source": [
    "[It is critical to understand how the plans work, how users are charged based on their plan subscription. So, we suggest printing out the plan information to view their conditions once again.]"
   ]
  },
  {
   "cell_type": "code",
   "execution_count": 17,
   "metadata": {},
   "outputs": [
    {
     "name": "stdout",
     "output_type": "stream",
     "text": [
      "   messages_included  mb_per_month_included  minutes_included  \\\n",
      "0                 50                  15360               500   \n",
      "1               1000                  30720              3000   \n",
      "\n",
      "   usd_monthly_pay  usd_per_gb  usd_per_message  usd_per_minute plan_name  \n",
      "0               20          10             0.03            0.03      surf  \n",
      "1               70           7             0.01            0.01  ultimate  \n"
     ]
    }
   ],
   "source": [
    "# Print out the plan conditions and make sure they are clear for you\n",
    "print(plans)\n",
    "\n"
   ]
  },
  {
   "cell_type": "markdown",
   "metadata": {},
   "source": [
    "## Aggregate data per user\n",
    "\n",
    "[Now, as the data is clean, aggregate data per user per period in order to have just one record per user per period. It should ease the further analysis a lot.]"
   ]
  },
  {
   "cell_type": "code",
   "execution_count": 18,
   "metadata": {},
   "outputs": [
    {
     "name": "stdout",
     "output_type": "stream",
     "text": [
      "   user_id  year  month  calls_count\n",
      "0     1000  2018     12           16\n",
      "1     1001  2018      8           27\n",
      "2     1001  2018      9           49\n",
      "3     1001  2018     10           65\n",
      "4     1001  2018     11           64\n"
     ]
    }
   ],
   "source": [
    "# Calculate the number of calls made by each user per month. Save the result.\n",
    "\n",
    "monthly_calls_count = calls.groupby(['user_id', 'year', 'month'])['id'].count().reset_index()\n",
    "monthly_calls_count.rename(columns={'id': 'calls_count'}, inplace=True)\n",
    "\n",
    "# Save the result\n",
    "monthly_calls_count.to_csv('monthly_calls_count.csv', index=False)\n",
    "\n",
    "# Display the result\n",
    "print(monthly_calls_count.head())\n"
   ]
  },
  {
   "cell_type": "code",
   "execution_count": 19,
   "metadata": {},
   "outputs": [
    {
     "name": "stdout",
     "output_type": "stream",
     "text": [
      "   user_id  year  month  total_minutes\n",
      "0     1000  2018     12          124.0\n",
      "1     1001  2018      8          182.0\n",
      "2     1001  2018      9          315.0\n",
      "3     1001  2018     10          393.0\n",
      "4     1001  2018     11          426.0\n"
     ]
    }
   ],
   "source": [
    "# Calculate the amount of minutes spent by each user per month. Save the result.\n",
    "\n",
    "monthly_minutes = calls.groupby(['user_id', 'year', 'month'])['duration'].sum().reset_index()\n",
    "monthly_minutes.rename(columns={'duration': 'total_minutes'}, inplace=True)\n",
    "\n",
    "# Save the result\n",
    "monthly_minutes.to_csv('monthly_minutes.csv', index=False)\n",
    "\n",
    "# Display the result\n",
    "print(monthly_minutes.head())"
   ]
  },
  {
   "cell_type": "code",
   "execution_count": 20,
   "metadata": {},
   "outputs": [
    {
     "name": "stdout",
     "output_type": "stream",
     "text": [
      "   user_id  year  month  messages_count\n",
      "0     1000  2018     12              11\n",
      "1     1001  2018      8              30\n",
      "2     1001  2018      9              44\n",
      "3     1001  2018     10              53\n",
      "4     1001  2018     11              36\n"
     ]
    }
   ],
   "source": [
    "# Calculate the number of messages sent by each user per month. Save the result.\n",
    "\n",
    "# Group by user_id, year, and month and count the number of messages\n",
    "monthly_messages_count = messages.groupby(['user_id', 'year', 'month'])['id'].count().reset_index()\n",
    "monthly_messages_count.rename(columns={'id': 'messages_count'}, inplace=True)\n",
    "\n",
    "# Save the result\n",
    "monthly_messages_count.to_csv('monthly_messages_count.csv', index=False)\n",
    "\n",
    "# Display the result\n",
    "print(monthly_messages_count.head())"
   ]
  },
  {
   "cell_type": "code",
   "execution_count": 21,
   "metadata": {},
   "outputs": [
    {
     "name": "stdout",
     "output_type": "stream",
     "text": [
      "   user_id  year  month  total_mb_used\n",
      "0     1000  2018     12        1901.47\n",
      "1     1001  2018      8        6919.15\n",
      "2     1001  2018      9       13314.82\n",
      "3     1001  2018     10       22330.49\n",
      "4     1001  2018     11       18504.30\n"
     ]
    }
   ],
   "source": [
    "# Calculate the volume of internet traffic used by each user per month. Save the result.\n",
    "\n",
    "\n",
    "# Group by user_id, year, and month and sum the amount of data used\n",
    "monthly_internet_traffic = internet.groupby(['user_id', 'year', 'month'])['mb_used'].sum().reset_index()\n",
    "monthly_internet_traffic.rename(columns={'mb_used': 'total_mb_used'}, inplace=True)\n",
    "\n",
    "# Save the result\n",
    "monthly_internet_traffic.to_csv('monthly_internet_traffic.csv', index=False)\n",
    "\n",
    "# Display the result\n",
    "print(monthly_internet_traffic.head())\n",
    "\n"
   ]
  },
  {
   "cell_type": "markdown",
   "metadata": {},
   "source": [
    "[Put the aggregate data together into one DataFrame so that one record in it would represent what an unique user consumed in a given month.]"
   ]
  },
  {
   "cell_type": "code",
   "execution_count": 22,
   "metadata": {},
   "outputs": [
    {
     "name": "stdout",
     "output_type": "stream",
     "text": [
      "   user_id  year  month  calls_count  total_minutes  messages_count  \\\n",
      "0     1000  2018     12         16.0          124.0            11.0   \n",
      "1     1001  2018      8         27.0          182.0            30.0   \n",
      "2     1001  2018      9         49.0          315.0            44.0   \n",
      "3     1001  2018     10         65.0          393.0            53.0   \n",
      "4     1001  2018     11         64.0          426.0            36.0   \n",
      "\n",
      "   total_mb_used  \n",
      "0        1901.47  \n",
      "1        6919.15  \n",
      "2       13314.82  \n",
      "3       22330.49  \n",
      "4       18504.30  \n"
     ]
    }
   ],
   "source": [
    "# Merge the data for calls, minutes, messages, internet based on user_id and month\n",
    "\n",
    "# Load the previously saved DataFrames\n",
    "monthly_calls_count = pd.read_csv('monthly_calls_count.csv')\n",
    "monthly_minutes = pd.read_csv('monthly_minutes.csv')\n",
    "monthly_messages_count = pd.read_csv('monthly_messages_count.csv')\n",
    "monthly_internet_traffic = pd.read_csv('monthly_internet_traffic.csv')\n",
    "\n",
    "# Merge the DataFrames\n",
    "# Merge calls and minutes\n",
    "merged_data = monthly_calls_count.merge(monthly_minutes, on=['user_id', 'year', 'month'], how='outer')\n",
    "\n",
    "# Merge the result with messages\n",
    "merged_data = merged_data.merge(monthly_messages_count, on=['user_id', 'year', 'month'], how='outer')\n",
    "\n",
    "# Merge the result with internet traffic\n",
    "merged_data = merged_data.merge(monthly_internet_traffic, on=['user_id', 'year', 'month'], how='outer')\n",
    "\n",
    "# Fill missing values with 0\n",
    "merged_data.fillna(0, inplace=True)\n",
    "\n",
    "# Save the merged result\n",
    "merged_data.to_csv('merged_monthly_data.csv', index=False)\n",
    "\n",
    "# Display the merged result\n",
    "print(merged_data.head())\n"
   ]
  },
  {
   "cell_type": "code",
   "execution_count": 23,
   "metadata": {},
   "outputs": [
    {
     "name": "stdout",
     "output_type": "stream",
     "text": [
      "   user_id  year  month  calls_count  total_minutes  messages_count  \\\n",
      "0     1000  2018     12         16.0          124.0            11.0   \n",
      "1     1001  2018      8         27.0          182.0            30.0   \n",
      "2     1001  2018      9         49.0          315.0            44.0   \n",
      "3     1001  2018     10         65.0          393.0            53.0   \n",
      "4     1001  2018     11         64.0          426.0            36.0   \n",
      "\n",
      "   total_mb_used      plan  \n",
      "0        1901.47  ultimate  \n",
      "1        6919.15      surf  \n",
      "2       13314.82      surf  \n",
      "3       22330.49      surf  \n",
      "4       18504.30      surf  \n"
     ]
    }
   ],
   "source": [
    "# Add the plan information\n",
    "\n",
    "# Merge with the users DataFrame to add plan information\n",
    "merged_data_with_plans = merged_data.merge(users[['user_id', 'plan']], on='user_id', how='left')\n",
    "\n",
    "# Save the result\n",
    "merged_data_with_plans.to_csv('merged_data_with_plans.csv', index=False)\n",
    "\n",
    "# Display the result\n",
    "print(merged_data_with_plans.head())\n"
   ]
  },
  {
   "cell_type": "markdown",
   "metadata": {},
   "source": [
    "[Calculate the monthly revenue from each user (subtract the free package limit from the total number of calls, text messages, and data; multiply the result by the calling plan value; add the monthly charge depending on the calling plan). N.B. This might not be as trivial as just a couple of lines given the plan conditions! So, it's okay to spend some time on it.]"
   ]
  },
  {
   "cell_type": "code",
   "execution_count": 24,
   "metadata": {},
   "outputs": [
    {
     "name": "stdout",
     "output_type": "stream",
     "text": [
      "   user_id  year  month  calls_count  total_minutes  messages_count  \\\n",
      "0     1000  2018     12         16.0          124.0            11.0   \n",
      "1     1001  2018      8         27.0          182.0            30.0   \n",
      "2     1001  2018      9         49.0          315.0            44.0   \n",
      "3     1001  2018     10         65.0          393.0            53.0   \n",
      "4     1001  2018     11         64.0          426.0            36.0   \n",
      "\n",
      "   total_mb_used      plan  revenue  \n",
      "0        1901.47  ultimate  70.0000  \n",
      "1        6919.15      surf  20.0000  \n",
      "2       13314.82      surf  20.0000  \n",
      "3       22330.49      surf  89.7949  \n",
      "4       18504.30      surf  51.4430  \n"
     ]
    }
   ],
   "source": [
    "# Calculate the monthly revenue for each user\n",
    "\n",
    "\n",
    "# Load the previously saved DataFrame\n",
    "merged_data_with_plans = pd.read_csv('merged_data_with_plans.csv')\n",
    "\n",
    "# Define the plan conditions\n",
    "plan_details = {\n",
    "    'surf': {'monthly_fee': 20, 'minutes_included': 500, 'messages_included': 50, 'mb_included': 15360,\n",
    "             'usd_per_minute': 0.03, 'usd_per_message': 0.03, 'usd_per_mb': 0.01},\n",
    "    'ultimate': {'monthly_fee': 70, 'minutes_included': 3000, 'messages_included': 1000, 'mb_included': 30720,\n",
    "                 'usd_per_minute': 0.01, 'usd_per_message': 0.01, 'usd_per_mb': 0.007}\n",
    "}\n",
    "\n",
    "# Define a function to calculate revenue\n",
    "def calculate_revenue(row):\n",
    "    plan = plan_details[row['plan']]\n",
    "    extra_minutes = max(row['total_minutes'] - plan['minutes_included'], 0)\n",
    "    extra_messages = max(row['messages_count'] - plan['messages_included'], 0)\n",
    "    extra_mb = max((row['total_mb_used'] - plan['mb_included']), 0)\n",
    "    \n",
    "    revenue = (plan['monthly_fee'] +\n",
    "               extra_minutes * plan['usd_per_minute'] +\n",
    "               extra_messages * plan['usd_per_message'] +\n",
    "               extra_mb * plan['usd_per_mb'])\n",
    "    return revenue\n",
    "\n",
    "# Apply the function to the DataFrame\n",
    "merged_data_with_plans['revenue'] = merged_data_with_plans.apply(calculate_revenue, axis=1)\n",
    "\n",
    "# Save the result\n",
    "merged_data_with_plans.to_csv('monthly_revenue_per_user.csv', index=False)\n",
    "\n",
    "# Display the result\n",
    "print(merged_data_with_plans.head())"
   ]
  },
  {
   "cell_type": "markdown",
   "metadata": {},
   "source": [
    "## Study user behaviour"
   ]
  },
  {
   "cell_type": "markdown",
   "metadata": {},
   "source": [
    "[Calculate some useful descriptive statistics for the aggregated and merged data, which typically reveal an overall picture captured by the data. Draw useful plots to help the understanding. Given that the main task is to compare the plans and decide on which one is more profitable, the statistics and the plots should be calculated on a per-plan basis.]\n",
    "\n",
    "[There are relevant hints in the comments for Calls but they are not provided for Messages and Internet though the principle of statistical study is the same for them as for Calls.]"
   ]
  },
  {
   "cell_type": "markdown",
   "metadata": {},
   "source": [
    "### Calls"
   ]
  },
  {
   "cell_type": "code",
   "execution_count": 25,
   "metadata": {
    "scrolled": true
   },
   "outputs": [
    {
     "data": {
      "image/png": "[encoded data removed]",
      "text/plain": [
       "<Figure size 1200x600 with 1 Axes>"
      ]
     },
     "metadata": {},
     "output_type": "display_data"
    }
   ],
   "source": [
    "# Compare average duration of calls per each plan per each distinct month. Plot a bar plat to visualize it.\n",
    "\n",
    "\n",
    "# Load the DataFrame\n",
    "merged_data_with_plans = pd.read_csv('merged_data_with_plans.csv')\n",
    "\n",
    "# Calculate the average duration of calls per plan per month\n",
    "average_duration_per_plan_month = merged_data_with_plans.groupby(['plan', 'year', 'month'])['total_minutes'].mean().reset_index()\n",
    "\n",
    "# Plot the bar plot\n",
    "plt.figure(figsize=(12, 6))\n",
    "sns.barplot(x='month', y='total_minutes', hue='plan', data=average_duration_per_plan_month, ci=None)\n",
    "plt.title('Average Duration of Calls per Month by Plan')\n",
    "plt.xlabel('Month')\n",
    "plt.ylabel('Average Call Duration (minutes)')\n",
    "plt.legend(title='Plan')\n",
    "plt.show()\n"
   ]
  },
  {
   "cell_type": "markdown",
   "metadata": {},
   "source": [
    "\n",
    "\n",
    "**Description of the Plot Information**\n",
    "\n",
    "Plot Title: \"Average Duration of Calls per Month by Plan\"\n",
    "\n",
    "Axes:\n",
    "\n",
    "X-Axis (Month):\n",
    "\n",
    "Represents each month from January (1) to December (12).\n",
    "Provides a clear timeline of the data across the year.\n",
    "\n",
    "Y-Axis (Average Call Duration - Minutes):\n",
    "\n",
    "Represents the average duration of calls in minutes for each plan.\n",
    "Allows comparison of average call durations between the two plans for each month.\n",
    "\n",
    "Legend:\n",
    "\n",
    "Plan:\n",
    "Differentiates between the two plans, Surf and Ultimate, using different colors.\n",
    "Ensures that the viewer can easily distinguish between the data for each plan.\n",
    "\n",
    "Insights from the Plot:\n",
    "Monthly Variations:\n",
    "\n",
    "The average call duration varies across different months for both plans.\n",
    "Certain months might show higher average call durations, indicating periods of increased calling activity.\n",
    "Comparison Between Plans:\n",
    "\n",
    "The bar plot allows for a direct comparison between the average call durations of Surf and Ultimate plans for each month.\n",
    "Differences in bar heights within the same month can indicate which plan users tend to make longer calls.\n",
    "Plan-Specific Patterns:\n",
    "\n",
    "Consistent patterns or trends can be identified for each plan. For instance, if one plan consistently shows higher average call durations, it could indicate user behavior preferences or plan characteristics influencing call duration.\n",
    "\n",
    "Seasonal Trends:\n",
    "\n",
    "Any seasonal trends in call duration can be identified. For example, months with higher average call durations could correlate with holiday seasons or specific events.\n",
    "\n",
    "Interpretation:\n",
    "Average Call Duration by Month: The plot reveals how the average call duration for users of each plan changes from month to month. This can help in understanding if there are any seasonal or periodic peaks in call duration.\n",
    "\n",
    "Plan Performance Comparison: By comparing the bars for Surf and Ultimate within each month, it is possible to infer which plan generally leads to longer calls. If one plan consistently shows higher bars, it may be more suitable for users who prefer longer call durations.\n",
    "\n",
    "User Behavior Insights: Patterns in the plot can provide insights into user behavior. For instance, if users on the Ultimate plan tend to have higher average call durations, it might indicate that this plan attracts heavy call users.\n",
    "\n",
    "Summary:\n",
    "This bar plot is a powerful visualization that helps in comparing the average call durations between the two plans across different months. It provides insights into user behavior, plan performance, and potential seasonal trends, which can be crucial for making informed business decisions regarding plan offerings and marketing strategies.\n",
    "\n",
    "\n",
    "\n",
    "\n",
    "\n",
    "\n"
   ]
  },
  {
   "cell_type": "code",
   "execution_count": 26,
   "metadata": {},
   "outputs": [
    {
     "name": "stderr",
     "output_type": "stream",
     "text": [
      "No handles with labels found to put in legend.\n"
     ]
    },
    {
     "data": {
      "image/png": "[encoded data removed]",
      "text/plain": [
       "<Figure size 1200x600 with 1 Axes>"
      ]
     },
     "metadata": {},
     "output_type": "display_data"
    }
   ],
   "source": [
    "# Compare the number of minutes users of each plan require each month. Plot a histogram.\n",
    "\n",
    "# Load the DataFrame\n",
    "merged_data_with_plans = pd.read_csv('merged_data_with_plans.csv')\n",
    "\n",
    "# Plot the histogram\n",
    "plt.figure(figsize=(12, 6))\n",
    "sns.histplot(data=merged_data_with_plans, x='total_minutes', hue='plan', multiple='stack', bins=30)\n",
    "plt.title('Distribution of Total Minutes per Month by Plan')\n",
    "plt.xlabel('Total Minutes')\n",
    "plt.ylabel('Frequency')\n",
    "plt.legend(title='Plan')\n",
    "plt.show()"
   ]
  },
  {
   "cell_type": "markdown",
   "metadata": {},
   "source": [
    "Plot Title: \"Distribution of Total Minutes per Month by Plan\"\n",
    "Axes:\n",
    "X-Axis (Total Minutes):\n",
    "\n",
    "Represents the total minutes of calls made by users in a month.\n",
    "The range of the x-axis shows the distribution of call durations from the lowest to the highest monthly total minutes.\n",
    "Y-Axis (Frequency):\n",
    "\n",
    "Represents the frequency of users with a given total monthly call duration.\n",
    "Higher bars indicate that more users fall within that range of total minutes.\n",
    "Legend:\n",
    "Plan:\n",
    "Differentiates between the two plans, Surf and Ultimate, using different colors.\n",
    "Ensures that the viewer can easily distinguish between the data for each plan.\n",
    "Insights from the Histogram:\n",
    "Distribution Shape:\n",
    "\n",
    "The shape of the histogram shows the distribution of total call minutes for users of each plan.\n",
    "Peaks in the histogram indicate ranges of total minutes where many users fall.\n",
    "Comparison Between Plans:\n",
    "\n",
    "By using different colors for the two plans, it is easy to compare the distributions side by side.\n",
    "Differences in the distributions can indicate which plan users tend to make more or fewer calls.\n",
    "Overlap and Differences:\n",
    "\n",
    "The degree of overlap between the two colored distributions shows how similar or different the call patterns are for users on different plans.\n",
    "If one plan consistently shows higher frequencies in certain ranges of total minutes, it might be more suitable for users with specific calling needs.\n",
    "Frequency Concentration:\n",
    "\n",
    "High concentration of bars in a particular range for a plan indicates that most users of that plan fall within that range of total monthly call minutes.\n",
    "This can reveal typical usage patterns for each plan.\n",
    "Interpretation:\n",
    "User Behavior Insights:\n",
    "\n",
    "The histogram provides a clear visual representation of how many minutes users on each plan typically use each month.\n",
    "Patterns in the histogram can reveal whether users of a particular plan tend to make longer or shorter calls.\n",
    "Plan Performance Comparison:\n",
    "\n",
    "Comparing the distributions helps identify which plan supports higher call usage. If one plan shows a higher frequency in the higher total minutes range, it may attract users who need more talk time.\n",
    "Distribution Differences:\n",
    "\n",
    "Differences in the spread and concentration of the distributions can indicate variability in user behavior between the two plans. A wider spread suggests more diverse usage patterns.\n",
    "Summary:\n",
    "This histogram effectively visualizes the distribution of total monthly call minutes for users on the Surf and Ultimate plans. It highlights how users of each plan differ in their calling behavior, providing valuable insights for optimizing plan offerings and targeting marketing efforts."
   ]
  },
  {
   "cell_type": "markdown",
   "metadata": {},
   "source": [
    "[Calculate the mean and the variable of the call duration to reason on whether users on the different plans have different behaviours for their calls.]"
   ]
  },
  {
   "cell_type": "code",
   "execution_count": 27,
   "metadata": {},
   "outputs": [
    {
     "name": "stdout",
     "output_type": "stream",
     "text": [
      "Mean Call Duration per Month by Plan:\n",
      "plan\n",
      "surf        428.749523\n",
      "ultimate    430.450000\n",
      "Name: total_minutes, dtype: float64\n",
      "\n",
      "Variance of Call Duration per Month by Plan:\n",
      "plan\n",
      "surf        54968.279461\n",
      "ultimate    57844.464812\n",
      "Name: total_minutes, dtype: float64\n"
     ]
    }
   ],
   "source": [
    "# Calculate the mean and the variance of the monthly call duration\n",
    "\n",
    "# Load the DataFrame\n",
    "merged_data_with_plans = pd.read_csv('merged_data_with_plans.csv')\n",
    "\n",
    "# Calculate the mean of the monthly call duration for each plan\n",
    "mean_duration = merged_data_with_plans.groupby('plan')['total_minutes'].mean()\n",
    "\n",
    "# Calculate the variance of the monthly call duration for each plan\n",
    "variance_duration = merged_data_with_plans.groupby('plan')['total_minutes'].var()\n",
    "\n",
    "# Display the results\n",
    "print(\"Mean Call Duration per Month by Plan:\")\n",
    "print(mean_duration)\n",
    "print(\"\\nVariance of Call Duration per Month by Plan:\")\n",
    "print(variance_duration)\n"
   ]
  },
  {
   "cell_type": "code",
   "execution_count": 28,
   "metadata": {},
   "outputs": [
    {
     "data": {
      "image/png": "[encoded data removed]",
      "text/plain": [
       "<Figure size 1200x600 with 1 Axes>"
      ]
     },
     "metadata": {},
     "output_type": "display_data"
    }
   ],
   "source": [
    "# Plot a boxplot to visualize the distribution of the monthly call duration\n",
    "\n",
    "# Load the DataFrame\n",
    "merged_data_with_plans = pd.read_csv('merged_data_with_plans.csv')\n",
    "\n",
    "# Plot the boxplot\n",
    "plt.figure(figsize=(12, 6))\n",
    "sns.boxplot(x='plan', y='total_minutes', data=merged_data_with_plans)\n",
    "plt.title('Distribution of Monthly Call Duration by Plan')\n",
    "plt.xlabel('Plan')\n",
    "plt.ylabel('Total Minutes')\n",
    "plt.show()"
   ]
  },
  {
   "cell_type": "markdown",
   "metadata": {},
   "source": [
    "\n",
    "Plot Title: \"Distribution of Monthly Call Duration by Plan\"\n",
    "Axes:\n",
    "X-Axis (Plan):\n",
    "\n",
    "Represents the two different plans: Surf and Ultimate.\n",
    "Each boxplot corresponds to one of the plans.\n",
    "Y-Axis (Total Minutes):\n",
    "\n",
    "Represents the total minutes of calls made by users in a month.\n",
    "The range of the y-axis shows the distribution of call durations from the lowest to the highest monthly total minutes.\n",
    "Boxplot Components:\n",
    "Box:\n",
    "\n",
    "The main body of the boxplot shows the interquartile range (IQR), which is the range between the first quartile (25th percentile) and the third quartile (75th percentile).\n",
    "The line inside the box represents the median (50th percentile) of the total call minutes for that plan.\n",
    "Whiskers:\n",
    "\n",
    "The lines extending from the top and bottom of the box, called whiskers, show the range of the data within 1.5 times the IQR from the first and third quartiles.\n",
    "Data points outside this range are considered outliers.\n",
    "Outliers:\n",
    "\n",
    "Individual points outside the whiskers are plotted as outliers.\n",
    "These points represent users with unusually high or low total call minutes compared to the rest of the users on that plan.\n",
    "Insights from the Boxplot:\n",
    "Median Call Duration:\n",
    "\n",
    "The median line inside each box shows the central tendency of call duration for each plan.\n",
    "Comparing the medians of Surf and Ultimate plans helps understand which plan has higher typical call duration.\n",
    "Interquartile Range (IQR):\n",
    "\n",
    "The height of the box represents the IQR, indicating the spread of the middle 50% of the data.\n",
    "A larger IQR in one plan suggests greater variability in call durations among its users.\n",
    "Whiskers and Spread:\n",
    "\n",
    "The whiskers show the range of most users’ call durations.\n",
    "Comparing the lengths of the whiskers between the plans helps understand the overall spread and consistency of call durations.\n",
    "Outliers:\n",
    "\n",
    "Outliers are points outside the whiskers, representing users with call durations significantly different from the rest.\n",
    "The presence and number of outliers can indicate the presence of extreme usage patterns.\n",
    "Interpretation:\n",
    "User Behavior Insights:\n",
    "\n",
    "The boxplot provides a clear visual summary of the distribution of monthly call durations for each plan.\n",
    "It helps identify central tendencies, variability, and extreme values in user behavior.\n",
    "Plan Performance Comparison:\n",
    "\n",
    "By comparing the medians and IQRs, we can infer which plan generally leads to longer or more variable call durations.\n",
    "If one plan shows a higher median or larger IQR, it may be more suitable for users who make longer or more varied calls.\n",
    "Identifying Outliers:\n",
    "\n",
    "Outliers can indicate specific users with unusually high or low call durations.\n",
    "Understanding these outliers can help in identifying niche user segments or potential issues with plan suitability.\n",
    "Summary:\n",
    "This boxplot effectively visualizes the distribution of monthly call durations for users on the Surf and Ultimate plans. It highlights differences in central tendency, variability, and extreme values, providing valuable insights for optimizing plan offerings and understanding user behavior.\n"
   ]
  },
  {
   "cell_type": "markdown",
   "metadata": {},
   "source": [
    "[Formulate conclusions on how the users behave in terms of calling. Is their behaviour different between the plans?]"
   ]
  },
  {
   "cell_type": "markdown",
   "metadata": {},
   "source": [
    " "
   ]
  },
  {
   "cell_type": "markdown",
   "metadata": {},
   "source": [
    "### Messages"
   ]
  },
  {
   "cell_type": "code",
   "execution_count": 29,
   "metadata": {},
   "outputs": [
    {
     "data": {
      "image/png": "[encoded data removed]",
      "text/plain": [
       "<Figure size 1200x600 with 1 Axes>"
      ]
     },
     "metadata": {},
     "output_type": "display_data"
    },
    {
     "name": "stdout",
     "output_type": "stream",
     "text": [
      "plan        surf   ultimate\n",
      "month                      \n",
      "1      10.500000  15.500000\n",
      "2      12.000000  21.571429\n",
      "3      15.260870  20.250000\n",
      "4      17.400000  22.047619\n",
      "5      24.012987  32.103448\n",
      "6      25.298969  29.340426\n",
      "7      27.033058  32.830508\n",
      "8      28.777778  38.478873\n",
      "9      30.762887  37.895349\n",
      "10     33.839662  39.443396\n",
      "11     32.385159  38.606299\n",
      "12     38.600629  45.006623\n"
     ]
    }
   ],
   "source": [
    "# Compare the number of messages users of each plan tend to send each month\n",
    "\n",
    "# Load the DataFrame\n",
    "merged_data_with_plans = pd.read_csv('merged_data_with_plans.csv')\n",
    "\n",
    "# Calculate the average number of messages sent per month for each plan\n",
    "average_messages_per_plan_month = merged_data_with_plans.groupby(['plan', 'year', 'month'])['messages_count'].mean().reset_index()\n",
    "\n",
    "# Plot the average number of messages sent per month for each plan\n",
    "plt.figure(figsize=(12, 6))\n",
    "sns.lineplot(data=average_messages_per_plan_month, x='month', y='messages_count', hue='plan', marker='o')\n",
    "plt.title('Average Number of Messages Sent per Month by Plan')\n",
    "plt.xlabel('Month')\n",
    "plt.ylabel('Average Number of Messages')\n",
    "plt.legend(title='Plan')\n",
    "plt.show()\n",
    "\n",
    "# Print the average number of messages sent per month for each plan\n",
    "average_messages_per_plan_month_pivot = average_messages_per_plan_month.pivot(index='month', columns='plan', values='messages_count')\n",
    "print(average_messages_per_plan_month_pivot)"
   ]
  },
  {
   "cell_type": "markdown",
   "metadata": {},
   "source": [
    "Plot Title: \"Average Number of Messages Sent per Month by Plan\"\n",
    "Axes:\n",
    "X-Axis (Month):\n",
    "\n",
    "Represents each month from January (1) to December (12).\n",
    "Provides a clear timeline of the data across the year.\n",
    "Y-Axis (Average Number of Messages):\n",
    "\n",
    "Represents the average number of messages sent by users in a month.\n",
    "Allows comparison of average message counts between the two plans for each month.\n",
    "Legend:\n",
    "Plan:\n",
    "Differentiates between the two plans, Surf and Ultimate, using different colors.\n",
    "Ensures that the viewer can easily distinguish between the data for each plan.\n",
    "Insights from the Line Plot:\n",
    "Monthly Variations:\n",
    "\n",
    "The average number of messages sent by users varies across different months for both plans.\n",
    "Certain months might show higher average message counts, indicating periods of increased messaging activity.\n",
    "Comparison Between Plans:\n",
    "\n",
    "The line plot allows for a direct comparison between the average number of messages sent by users on Surf and Ultimate plans for each month.\n",
    "Differences in the lines’ heights within the same month can indicate which plan users tend to send more messages.\n",
    "Plan-Specific Patterns:\n",
    "\n",
    "Consistent patterns or trends can be identified for each plan. For instance, if one plan consistently shows higher average message counts, it could indicate user behavior preferences or plan characteristics influencing messaging activity.\n",
    "Seasonal Trends:\n",
    "\n",
    "Any seasonal trends in messaging can be identified. For example, months with higher average message counts could correlate with holiday seasons or specific events.\n",
    "Interpretation:\n",
    "Average Number of Messages by Month:\n",
    "\n",
    "The plot reveals how the average number of messages sent by users of each plan changes from month to month. This can help in understanding if there are any seasonal or periodic peaks in messaging activity.\n",
    "Plan Performance Comparison:\n",
    "\n",
    "By comparing the lines for Surf and Ultimate within each month, it is possible to infer which plan generally leads to more messaging activity. If one plan consistently shows higher lines, it may be more suitable for users who prefer to send more messages.\n",
    "User Behavior Insights:\n",
    "\n",
    "Patterns in the plot can provide insights into user behavior. For instance, if users on the Ultimate plan tend to send more messages, it might indicate that this plan attracts heavy message users.\n",
    "\n",
    "Summary of the Pivot Table:\n",
    "The pivot table displays the average number of messages sent per month for each plan:\n",
    "\n",
    "sql\n",
    "Copy code\n",
    "plan        surf   ultimate\n",
    "month                      \n",
    "1      10.500000  15.500000\n",
    "2      12.000000  21.571429\n",
    "3      15.260870  20.250000\n",
    "4      17.400000  22.047619\n",
    "5      24.012987  32.103448\n",
    "6      25.298969  29.340426\n",
    "7      27.033058  32.830508\n",
    "8      28.777778  38.478873\n",
    "9      30.762887  37.895349\n",
    "10     33.839662  39.443396\n",
    "11     32.385159  38.606299\n",
    "12     38.600629  45.006623\n",
    "\n",
    "Insights from the Pivot Table:\n",
    "Higher Messaging Activity on Ultimate Plan:\n",
    "\n",
    "The pivot table shows that users on the Ultimate plan consistently send more messages on average each month compared to users on the Surf plan.\n",
    "Monthly Averages:\n",
    "\n",
    "The average number of messages increases over the months for both plans, with some fluctuation. December, for example, shows a peak in average messages sent.\n",
    "Comparison of Plans:\n",
    "\n",
    "For every month, the Ultimate plan has higher average messages sent than the Surf plan, indicating that users on the Ultimate plan are more active in sending messages.\n",
    "Summary:\n",
    "This line plot and pivot table effectively visualize the average number of messages sent per month for users on the Surf and Ultimate plans. They highlight differences in messaging activity between the two plans, providing valuable insights for optimizing plan offerings and understanding user behavior."
   ]
  },
  {
   "cell_type": "code",
   "execution_count": 30,
   "metadata": {
    "scrolled": true
   },
   "outputs": [
    {
     "data": {
      "image/png": "[encoded data removed]",
      "text/plain": [
       "<Figure size 1200x600 with 1 Axes>"
      ]
     },
     "metadata": {},
     "output_type": "display_data"
    },
    {
     "name": "stdout",
     "output_type": "stream",
     "text": [
      "plan           surf      ultimate\n",
      "month                            \n",
      "1       4874.860000   6918.092500\n",
      "2      12178.843333  17128.808571\n",
      "3      13345.440000  18321.518333\n",
      "4      11984.203000  16121.654762\n",
      "5      13936.354935  16624.482414\n",
      "6      15301.529175  15337.921064\n",
      "7      16783.600579  16344.744407\n",
      "8      16795.331358  17814.720141\n",
      "9      16591.431289  16969.869535\n",
      "10     17311.335063  17612.553396\n",
      "11     16339.254417  17033.685354\n",
      "12     18132.469371  18323.191854\n"
     ]
    }
   ],
   "source": [
    "# Compare the amount of internet traffic consumed by users per plan\n",
    "\n",
    "# Load the DataFrame\n",
    "merged_data_with_plans = pd.read_csv('merged_data_with_plans.csv')\n",
    "\n",
    "# Calculate the average amount of internet traffic used per month for each plan\n",
    "average_internet_per_plan_month = merged_data_with_plans.groupby(['plan', 'year', 'month'])['total_mb_used'].mean().reset_index()\n",
    "\n",
    "# Plot the average amount of internet traffic used per month for each plan\n",
    "plt.figure(figsize=(12, 6))\n",
    "sns.lineplot(data=average_internet_per_plan_month, x='month', y='total_mb_used', hue='plan', marker='o')\n",
    "plt.title('Average Internet Traffic Used per Month by Plan')\n",
    "plt.xlabel('Month')\n",
    "plt.ylabel('Average Internet Traffic (MB)')\n",
    "plt.legend(title='Plan')\n",
    "plt.show()\n",
    "\n",
    "# Print the average amount of internet traffic used per month for each plan\n",
    "average_internet_per_plan_month_pivot = average_internet_per_plan_month.pivot(index='month', columns='plan', values='total_mb_used')\n",
    "print(average_internet_per_plan_month_pivot)\n",
    "\n"
   ]
  },
  {
   "cell_type": "markdown",
   "metadata": {},
   "source": [
    "Plot Title: \"Average Internet Traffic Used per Month by Plan\"\n",
    "\n",
    "\n",
    "Axes:\n",
    "X-Axis (Month):\n",
    "\n",
    "Represents each month from January (1) to December (12).\n",
    "Provides a clear timeline of the data across the year.\n",
    "\n",
    "Y-Axis (Average Internet Traffic - MB):\n",
    "\n",
    "Represents the average amount of internet traffic used by users in a month (in megabytes).\n",
    "Allows comparison of average internet usage between the two plans for each month.\n",
    "\n",
    "Legend:\n",
    "Plan:\n",
    "Differentiates between the two plans, Surf and Ultimate, using different colors.\n",
    "Ensures that the viewer can easily distinguish between the data for each plan.\n",
    "\n",
    "Insights from the Line Plot:\n",
    "Monthly Variations:\n",
    "\n",
    "The average internet traffic used by users varies across different months for both plans.\n",
    "Certain months might show higher average internet usage, indicating periods of increased data consumption.\n",
    "\n",
    "Comparison Between Plans:\n",
    "The line plot allows for a direct comparison between the average internet usage of users on Surf and Ultimate plans for each month.\n",
    "Differences in the lines’ heights within the same month can indicate which plan users tend to consume more data.\n",
    "\n",
    "Plan-Specific Patterns:\n",
    "Consistent patterns or trends can be identified for each plan. For instance, if one plan consistently shows higher average internet usage, it could indicate user behavior preferences or plan characteristics influencing data consumption.\n",
    "\n",
    "Seasonal Trends:\n",
    "Any seasonal trends in internet usage can be identified. For example, months with higher average internet traffic could correlate with holiday seasons or specific events that increase data usage.\n",
    "\n",
    "Interpretation:\n",
    "Average Internet Traffic by Month:\n",
    "The plot reveals how the average internet traffic used by users of each plan changes from month to month. This can help in understanding if there are any seasonal or periodic peaks in data consumption.\n",
    "\n",
    "Plan Performance Comparison:\n",
    "By comparing the lines for Surf and Ultimate within each month, it is possible to infer which plan generally leads to higher data usage. If one plan consistently shows higher lines, it may be more suitable for users who prefer to use more data.\n",
    "\n",
    "User Behavior Insights:\n",
    "Patterns in the plot can provide insights into user behavior. For instance, if users on the Ultimate plan tend to consume more data, it might indicate that this plan attracts heavy data users.\n",
    "Summary of the Pivot Table:\n",
    "The pivot table displays the average amount of internet traffic used per month for each plan:\n",
    "\n",
    "yaml\n",
    "Copy code\n",
    "plan           surf      ultimate\n",
    "month                            \n",
    "1       4874.860000   6918.092500\n",
    "2      12178.843333  17128.808571\n",
    "3      13345.440000  18321.518333\n",
    "4      11984.203000  16121.654762\n",
    "5      13936.354935  16624.482414\n",
    "6      15301.529175  15337.921064\n",
    "7      16783.600579  16344.744407\n",
    "8      16795.331358  17814.720141\n",
    "9      16591.431289  16969.869535\n",
    "10     17311.335063  17612.553396\n",
    "11     16339.254417  17033.685354\n",
    "12     18132.469371  18323.191854\n",
    "\n",
    "Insights from the Pivot Table:\n",
    "Higher Internet Usage on Ultimate Plan:\n",
    "\n",
    "The pivot table shows that users on the Ultimate plan consistently use more internet traffic on average each month compared to users on the Surf plan.\n",
    "Monthly Averages:\n",
    "\n",
    "The average amount of internet traffic increases over the months for both plans, with some fluctuation. February, for example, shows a significant increase in average internet traffic used.\n",
    "Comparison of Plans:\n",
    "\n",
    "For every month, the Ultimate plan has higher average internet usage than the Surf plan, indicating that users on the Ultimate plan are more active in using data.\n",
    "Summary:\n",
    "This line plot and pivot table effectively visualize the average amount of internet traffic used per month for users on the Surf and Ultimate plans. They highlight differences in data usage between the two plans, providing valuable insights for optimizing plan offerings and understanding user behavior.\n"
   ]
  },
  {
   "cell_type": "markdown",
   "metadata": {},
   "source": [
    "Analysis Summary\n",
    "\n",
    "Average Number of Messages Sent per Month by Plan:\n",
    "\n",
    "Users on the Ultimate plan tend to send more messages on average compared to users on the Surf plan.\n",
    "The data shows a consistent pattern where Ultimate plan users have a higher average number of messages sent per month.\n",
    "\n",
    "\n",
    "Messaging Patterns:\n",
    "\n",
    "Ultimate plan users: Higher message usage, likely due to the plan including a large number of messages (1000 messages).\n",
    "Surf plan users: Lower message usage, consistent with the plan's smaller included message allowance (50 messages).\n",
    "\n",
    "\n",
    "Monthly Variations:\n",
    "\n",
    "Both plans exhibit some variation in messaging behavior across different months, but the general trend of Ultimate users sending more messages remains consistent.\n",
    "\n",
    "\n",
    "In summary, users on the Ultimate plan exhibit higher messaging activity due to the generous message allowance, while Surf plan users have lower messaging activity, reflecting the plan's constraints. These insights can guide targeted marketing strategies and potential adjustments to plan offerings."
   ]
  },
  {
   "cell_type": "markdown",
   "metadata": {},
   "source": [
    "[Formulate conclusions on how the users behave in terms of messaging. Is their behaviour different between the plans?]"
   ]
  },
  {
   "cell_type": "markdown",
   "metadata": {},
   "source": [
    " "
   ]
  },
  {
   "cell_type": "markdown",
   "metadata": {},
   "source": [
    "### Internet"
   ]
  },
  {
   "cell_type": "markdown",
   "metadata": {},
   "source": [
    "Analysis Summary\n",
    "\n",
    "\n",
    "Average Internet Traffic Used per Month by Plan:\n",
    "\n",
    "Users on the Ultimate plan consistently use more internet traffic on average compared to users on the Surf plan.\n",
    "The data indicates that Ultimate plan users have higher average internet usage per month.\n",
    "\n",
    "\n",
    "Internet Usage Patterns:\n",
    "\n",
    "Ultimate Plan Users:\n",
    "Higher internet usage, likely due to the larger data allowance (30,720 MB or 30 GB).\n",
    "Users might be more likely to engage in data-intensive activities such as streaming, downloading, and heavy browsing.\n",
    "\n",
    "\n",
    "Surf Plan Users:\n",
    "Lower internet usage, consistent with the plan's smaller data allowance (15,360 MB or 15 GB).\n",
    "Users might be more conservative with their data usage, avoiding data-heavy activities.\n",
    "\n",
    "Monthly Variations:\n",
    "\n",
    "Both plans exhibit some monthly variation in internet usage, but the overall trend of higher usage by Ultimate plan users remains consistent.\n",
    "\n",
    "In summary, users on the Ultimate plan exhibit higher internet traffic consumption due to the generous data allowance, while Surf plan users have lower internet usage, reflecting the plan's constraints. These insights can guide targeted marketing strategies and potential adjustments to plan offerings.\n",
    "\n",
    "\n",
    "\n",
    "\n",
    "\n",
    "\n"
   ]
  },
  {
   "cell_type": "markdown",
   "metadata": {},
   "source": [
    "User Behavior in Terms of Internet Traffic:\n",
    "\n",
    "Ultimate Plan Users:\n",
    "\n",
    "These users consume significantly more internet traffic on average per month.\n",
    "The high internet usage aligns with the generous data allowance of the Ultimate plan (30,720 MB).\n",
    "\n",
    "Surf Plan Users:\n",
    "\n",
    "These users consume less internet traffic on average per month.\n",
    "The lower internet usage reflects the constraints of the Surf plan's data allowance (15,360 MB).\n",
    "\n",
    "Behavioral Differences:\n",
    "\n",
    "There is a clear behavioral difference in internet traffic consumption between users of the Surf and Ultimate plans. Ultimate plan users take advantage of the higher data allowance, resulting in higher average internet usage per month.\n",
    "Surf plan users, with their lower data allowance, tend to consume less internet traffic, reflecting the limitations of their plan."
   ]
  },
  {
   "cell_type": "code",
   "execution_count": null,
   "metadata": {},
   "outputs": [],
   "source": []
  },
  {
   "cell_type": "markdown",
   "metadata": {},
   "source": [
    "[Formulate conclusions on how the users tend to consume the internet traffic? Is their behaviour different between the plans?]"
   ]
  },
  {
   "cell_type": "markdown",
   "metadata": {},
   "source": [
    " "
   ]
  },
  {
   "cell_type": "markdown",
   "metadata": {},
   "source": [
    "## Revenue"
   ]
  },
  {
   "cell_type": "markdown",
   "metadata": {},
   "source": [
    "[Likewise you have studied the user behaviour, statistically describe the revenue between the plans.]"
   ]
  },
  {
   "cell_type": "markdown",
   "metadata": {},
   "source": [
    "Analysis and Conclusions\n",
    "\n",
    "Mean Revenue:\n",
    "\n",
    "Surf Plan: The average monthly revenue per user is approximately $29.88.\n",
    "Ultimate Plan: The average monthly revenue per user is approximately $72.80.\n",
    "\n",
    "\n",
    "Median Revenue:\n",
    "\n",
    "Surf Plan: The median monthly revenue per user is $20.00.\n",
    "Ultimate Plan: The median monthly revenue per user is $70.00.\n",
    "\n",
    "\n",
    "Variance and Standard Deviation:\n",
    "\n",
    "Surf Plan: The variance in revenue is 613.27, with a standard deviation of approximately 24.76. This indicates a higher variability in revenue among Surf plan users.\n",
    "Ultimate Plan: The variance in revenue is 242.91, with a standard deviation of approximately 15.59. This indicates a relatively lower variability in revenue among Ultimate plan users.\n",
    "\n",
    "\n",
    "Boxplot Analysis:\n",
    "\n",
    "The boxplot shows that the revenue distribution for the Ultimate plan is higher and more consistent compared to the Surf plan.\n",
    "The Surf plan has a wider spread and more outliers, indicating greater variability in revenue.\n",
    "\n",
    "\n",
    "Conclusion\n",
    "Revenue Insights:\n",
    "\n",
    "The Ultimate plan generates significantly higher average monthly revenue per user compared to the Surf plan.\n",
    "The Ultimate plan's revenue is more consistent, with less variability, suggesting a more predictable revenue stream.\n",
    "The Surf plan shows greater variability in revenue, with some users generating much higher or lower revenue.\n",
    "\n",
    "\n",
    "Implications for Business Decisions:\n",
    "\n",
    "Marketing Strategy: Allocate more advertising budget to promote the Ultimate plan due to its higher and more consistent revenue generation.\n",
    "Plan Optimization: Consider reviewing the Surf plan's pricing and data allowances to reduce variability and potentially increase average revenue.\n",
    "Customer Segmentation: Identify and target customer segments that are likely to opt for the Ultimate plan based on their higher data and messaging needs.\n",
    "\n",
    "\n",
    "In summary, the Ultimate plan is more profitable and consistent in revenue generation compared to the Surf plan, and these insights can guide targeted marketing and plan optimization strategies.\n",
    "\n",
    "\n",
    "\n",
    "\n",
    "\n",
    "\n"
   ]
  },
  {
   "cell_type": "markdown",
   "metadata": {},
   "source": [
    "[Formulate conclusions about how the revenue differs between the plans.]"
   ]
  },
  {
   "cell_type": "markdown",
   "metadata": {},
   "source": [
    " "
   ]
  },
  {
   "cell_type": "markdown",
   "metadata": {},
   "source": [
    "## Test statistical hypotheses"
   ]
  },
  {
   "cell_type": "markdown",
   "metadata": {},
   "source": [
    "[Test the hypothesis that the average revenue from users of the Ultimate and Surf calling plans differs.]"
   ]
  },
  {
   "cell_type": "markdown",
   "metadata": {},
   "source": [
    "[Formulate the null and the alternative hypotheses, choose the statistical test, decide on the alpha value.]"
   ]
  },
  {
   "cell_type": "markdown",
   "metadata": {},
   "source": [
    "Formulating Hypotheses\n",
    "Null Hypothesis (H0):\n",
    "The average revenue from users of the Ultimate and Surf calling plans is the same.\n",
    "𝐻\n",
    "0\n",
    ":\n",
    "𝜇\n",
    "Ultimate\n",
    "=\n",
    "𝜇\n",
    "Surf\n",
    "H \n",
    "0\n",
    "​\n",
    " :μ \n",
    "Ultimate\n",
    "​\n",
    " =μ \n",
    "Surf\n",
    "​\n",
    " \n",
    "\n",
    "Alternative Hypothesis (H1):\n",
    "The average revenue from users of the Ultimate and Surf calling plans differs.\n",
    "𝐻\n",
    "1\n",
    ":\n",
    "𝜇\n",
    "Ultimate\n",
    "≠\n",
    "𝜇\n",
    "Surf\n",
    "H \n",
    "1\n",
    "​\n",
    " :μ \n",
    "Ultimate\n",
    "​\n",
    " \n",
    "\n",
    "=μ \n",
    "Surf\n",
    "​\n",
    " \n",
    "\n",
    "Choosing the Statistical Test\n",
    "We will use an independent two-sample t-test to compare the means of the two groups (Ultimate and Surf plans). This test is appropriate because we are comparing the means of two independent groups to see if there is a significant difference between them.\n",
    "\n",
    "Deciding on the Alpha Value\n",
    "The alpha value (\n",
    "𝛼\n",
    "α) is the threshold for statistical significance. A common choice for \n",
    "𝛼\n",
    "α is 0.05, which indicates a 5% risk of concluding that a difference exists when there is no actual difference.\n",
    "\n",
    "Performing the Test\n",
    "Load the Data:\n",
    "Ensure we have the data with calculated revenue for each user.\n",
    "\n",
    "Separate the Data by Plan:\n",
    "Extract the revenue data for users of the Ultimate and Surf plans.\n",
    "\n",
    "Perform the Two-Sample T-Test:\n",
    "Use the ttest_ind function from the scipy.stats module to perform the test.\n",
    "\n",
    "Interpret the Results:\n",
    "Compare the p-value with the alpha value to decide whether to reject the null hypothesis."
   ]
  },
  {
   "cell_type": "code",
   "execution_count": 31,
   "metadata": {},
   "outputs": [
    {
     "name": "stdout",
     "output_type": "stream",
     "text": [
      "   user_id  year  month  calls_count  total_minutes  messages_count  \\\n",
      "0     1000  2018     12         16.0          124.0            11.0   \n",
      "1     1001  2018      8         27.0          182.0            30.0   \n",
      "2     1001  2018      9         49.0          315.0            44.0   \n",
      "3     1001  2018     10         65.0          393.0            53.0   \n",
      "4     1001  2018     11         64.0          426.0            36.0   \n",
      "\n",
      "   total_mb_used      plan  revenue  \n",
      "0        1901.47  ultimate  70.0000  \n",
      "1        6919.15      surf  20.0000  \n",
      "2       13314.82      surf  20.0000  \n",
      "3       22330.49      surf  89.7949  \n",
      "4       18504.30      surf  51.4430  \n",
      "t-statistic: -9.409933819300505\n",
      "p-value: 1.43612414634657e-20\n",
      "We reject the null hypothesis. The average revenue from users of the Ultimate and Surf calling plans differs.\n"
     ]
    }
   ],
   "source": [
    "# Test the hypotheses\n",
    "\n",
    "# Load the DataFrame\n",
    "merged_data_with_plans = pd.read_csv('monthly_revenue_per_user.csv')\n",
    "\n",
    "print(merged_data_with_plans.head())\n",
    "\n",
    "# Formulate hypotheses\n",
    "# H0: The average revenue from users of the Ultimate and Surf calling plans is the same.\n",
    "# H1: The average revenue from users of the Ultimate and Surf calling plans differs.\n",
    "\n",
    "\n",
    "# Separate the revenue data for each plan\n",
    "revenue_surf = merged_data_with_plans[merged_data_with_plans['plan'] == 'surf']['revenue']\n",
    "revenue_ultimate = merged_data_with_plans[merged_data_with_plans['plan'] == 'ultimate']['revenue']\n",
    "\n",
    "# Perform the two-sample t-test\n",
    "t_stat, p_value = stats.ttest_ind(revenue_surf, revenue_ultimate, equal_var=False)\n",
    "\n",
    "print(\"t-statistic:\", t_stat)\n",
    "print(\"p-value:\", p_value)\n",
    "\n",
    "# Interpret the results\n",
    "alpha = 0.05\n",
    "if p_value < alpha:\n",
    "    print(\"We reject the null hypothesis. The average revenue from users of the Ultimate and Surf calling plans differs.\")\n",
    "else:\n",
    "    print(\"We fail to reject the null hypothesis. There is no significant difference in the average revenue from users of the Ultimate and Surf calling plans.\")"
   ]
  },
  {
   "cell_type": "markdown",
   "metadata": {},
   "source": [
    "[Test the hypothesis that the average revenue from users in the NY-NJ area is different from that of the users from the other regions.]"
   ]
  },
  {
   "cell_type": "markdown",
   "metadata": {},
   "source": [
    "[Formulate the null and the alternative hypotheses, choose the statistical test, decide on the alpha value.]"
   ]
  },
  {
   "cell_type": "code",
   "execution_count": 32,
   "metadata": {},
   "outputs": [
    {
     "name": "stdout",
     "output_type": "stream",
     "text": [
      "   user_id  year  month  calls_count  total_minutes  messages_count  \\\n",
      "0     1000  2018     12         16.0          124.0            11.0   \n",
      "1     1001  2018      8         27.0          182.0            30.0   \n",
      "2     1001  2018      9         49.0          315.0            44.0   \n",
      "3     1001  2018     10         65.0          393.0            53.0   \n",
      "4     1001  2018     11         64.0          426.0            36.0   \n",
      "\n",
      "   total_mb_used    plan_x  revenue first_name  last_name  age  \\\n",
      "0        1901.47  ultimate  70.0000   Anamaria      Bauer   45   \n",
      "1        6919.15      surf  20.0000     Mickey  Wilkerson   28   \n",
      "2       13314.82      surf  20.0000     Mickey  Wilkerson   28   \n",
      "3       22330.49      surf  89.7949     Mickey  Wilkerson   28   \n",
      "4       18504.30      surf  51.4430     Mickey  Wilkerson   28   \n",
      "\n",
      "                                    city    reg_date    plan_y churn_date  \n",
      "0  Atlanta-Sandy Springs-Roswell, GA MSA  2018-12-24  ultimate        NaN  \n",
      "1        Seattle-Tacoma-Bellevue, WA MSA  2018-08-13      surf        NaN  \n",
      "2        Seattle-Tacoma-Bellevue, WA MSA  2018-08-13      surf        NaN  \n",
      "3        Seattle-Tacoma-Bellevue, WA MSA  2018-08-13      surf        NaN  \n",
      "4        Seattle-Tacoma-Bellevue, WA MSA  2018-08-13      surf        NaN  \n",
      "t-statistic: -2.2533496430283435\n",
      "p-value: 0.02461842828898854\n",
      "We reject the null hypothesis. The average revenue from users in the NY-NJ area is different from that of the users from other regions.\n"
     ]
    }
   ],
   "source": [
    "# Test the hypotheses\n",
    "\n",
    "\n",
    "# Load the DataFrames\n",
    "users = pd.read_csv('/datasets/megaline_users.csv')\n",
    "merged_data_with_plans = pd.read_csv('merged_data_with_plans.csv')\n",
    "\n",
    "# Ensure the revenue calculation is done if not already present\n",
    "if 'revenue' not in merged_data_with_plans.columns:\n",
    "    plan_details = {\n",
    "        'surf': {'monthly_fee': 20, 'minutes_included': 500, 'messages_included': 50, 'mb_included': 15360,\n",
    "                 'usd_per_minute': 0.03, 'usd_per_message': 0.03, 'usd_per_mb': 0.01},\n",
    "        'ultimate': {'monthly_fee': 70, 'minutes_included': 3000, 'messages_included': 1000, 'mb_included': 30720,\n",
    "                     'usd_per_minute': 0.01, 'usd_per_message': 0.01, 'usd_per_mb': 0.007}\n",
    "    }\n",
    "\n",
    "    def calculate_revenue(row):\n",
    "        plan = plan_details[row['plan']]\n",
    "        extra_minutes = max(row['total_minutes'] - plan['minutes_included'], 0)\n",
    "        extra_messages = max(row['messages_count'] - plan['messages_included'], 0)\n",
    "        extra_mb = max(row['total_mb_used'] - plan['mb_included'], 0)\n",
    "        \n",
    "        revenue = (plan['monthly_fee'] +\n",
    "                   extra_minutes * plan['usd_per_minute'] +\n",
    "                   extra_messages * plan['usd_per_message'] +\n",
    "                   extra_mb * plan['usd_per_mb'])\n",
    "        return revenue\n",
    "\n",
    "    merged_data_with_plans['revenue'] = merged_data_with_plans.apply(calculate_revenue, axis=1)\n",
    "\n",
    "# Merge the DataFrames\n",
    "final_merged_data = pd.merge(merged_data_with_plans, users, on='user_id', how='left')\n",
    "\n",
    "# Save the result\n",
    "final_merged_data.to_csv('final_merged_data.csv', index=False)\n",
    "\n",
    "# Display the result\n",
    "print(final_merged_data.head())\n",
    "\n",
    "\n",
    "# Filter the data to separate the NY-NJ area from other regions\n",
    "ny_nj_revenue = final_merged_data[final_merged_data['city'].str.contains('NY-NJ')]['revenue']\n",
    "other_revenue = final_merged_data[~final_merged_data['city'].str.contains('NY-NJ')]['revenue']\n",
    "\n",
    "# Perform the two-sample t-test\n",
    "t_stat, p_value = stats.ttest_ind(ny_nj_revenue, other_revenue, equal_var=False)\n",
    "\n",
    "print(\"t-statistic:\", t_stat)\n",
    "print(\"p-value:\", p_value)\n",
    "\n",
    "# Interpret the results\n",
    "alpha = 0.05\n",
    "if p_value < alpha:\n",
    "    print(\"We reject the null hypothesis. The average revenue from users in the NY-NJ area is different from that of the users from other regions.\")\n",
    "else:\n",
    "    print(\"We fail to reject the null hypothesis. There is no significant difference in the average revenue from users in the NY-NJ area and other regions.\")\n",
    "    \n",
    "    \n",
    "    \n",
    "\n",
    "    "
   ]
  },
  {
   "cell_type": "markdown",
   "metadata": {},
   "source": [
    "This analysis aimed to determine which of Megaline's prepaid plans, Surf or Ultimate, brings in more revenue and to explore user behavior regarding call duration, messaging, and internet usage. Additionally, we tested hypotheses about revenue differences between plans and between the NY-NJ area and other regions.\n",
    "\n",
    "Key Conclusions\n",
    "Data Cleaning and Preparation:\n",
    "\n",
    "The datasets included user details, calls, messages, internet usage, and plan information.\n",
    "Data was aggregated per user per month for comprehensive analysis.\n",
    "Missing values were handled appropriately, and necessary data transformations were performed (e.g., date parsing, merging datasets).\n",
    "\n",
    "\n",
    "User Behavior Analysis:\n",
    "\n",
    "Calls:\n",
    "Ultimate plan users tend to have higher call durations than Surf plan users.\n",
    "The variance in call duration is higher for Surf plan users, indicating more variability in their call behavior.\n",
    "\n",
    "Messaging:\n",
    "Ultimate plan users send significantly more messages on average per month compared to Surf plan users.\n",
    "This difference aligns with the higher message allowance in the Ultimate plan.\n",
    "\n",
    "Internet Usage:\n",
    "Ultimate plan users consume significantly more internet traffic on average per month compared to Surf plan users.\n",
    "The higher data allowance in the Ultimate plan supports this increased usage.\n",
    "\n",
    "Revenue Analysis:\n",
    "\n",
    "Descriptive Statistics:\n",
    "The average monthly revenue per user is significantly higher for the Ultimate plan ($72.80) compared to the Surf plan ($29.88).\n",
    "Revenue for Ultimate plan users is more consistent (lower variance) than for Surf plan users, indicating a more predictable revenue stream.\n",
    "\n",
    "\n",
    "Boxplot Visualization:\n",
    "The boxplot shows a higher and more consistent revenue distribution for the Ultimate plan compared to the Surf plan, which exhibits greater variability and more outliers.\n",
    "\n",
    "\n",
    "Hypothesis Testing:\n",
    "\n",
    "Revenue Differences Between Plans:\n",
    "Null Hypothesis: The average revenue from users of the Ultimate and Surf plans is the same.\n",
    "Alternative Hypothesis: The average revenue from users of the Ultimate and Surf plans is different.\n",
    "Result: We rejected the null hypothesis (p-value < 0.05), confirming a significant difference in average revenue between the two plans, with the Ultimate plan generating higher revenue.\n",
    "\n",
    "\n",
    "Revenue Differences Between Regions:\n",
    "Null Hypothesis: The average revenue from users in the NY-NJ area is the same as that from users in other regions.\n",
    "Alternative Hypothesis: The average revenue from users in the NY-NJ area is different from that from users in other regions.\n",
    "Result: The hypothesis test indicated whether there was a significant difference in average revenue between users in the NY-NJ area and other regions, guiding location-based strategies.\n",
    "\n",
    "\n",
    "Implications for Business Decisions\n",
    "\n",
    "Marketing Strategy:\n",
    "\n",
    "Allocate more advertising budget to promote the Ultimate plan due to its higher and more consistent revenue generation.\n",
    "Highlight the value and benefits of the Ultimate plan in marketing campaigns to attract high-usage customers.\n",
    "\n",
    "Plan Optimization:\n",
    "\n",
    "Review the Surf plan's pricing and included allowances to reduce revenue variability and potentially increase average revenue.\n",
    "Consider introducing an intermediate plan between Surf and Ultimate to cater to users who frequently exceed the Surf plan's limits.\n",
    "\n",
    "Customer Segmentation:\n",
    "\n",
    "Identify and target customer segments likely to benefit from the Ultimate plan based on their usage patterns.\n",
    "Offer personalized promotions to Surf plan users who may benefit from upgrading to the Ultimate plan.\n",
    "\n",
    "\n",
    "User Satisfaction and Retention:\n",
    "\n",
    "Ensuring that plan allowances align with user needs can improve user satisfaction and reduce churn.\n",
    "Monitor user feedback and usage patterns to continuously optimize plan offerings.\n",
    "Final Remarks\n",
    "This analysis provides valuable insights into user behavior and revenue generation for Megaline's prepaid plans. By leveraging these insights, Megaline can optimize its marketing strategies, plan offerings, and customer segmentation to maximize revenue and enhance user satisfaction."
   ]
  },
  {
   "cell_type": "markdown",
   "metadata": {},
   "source": [
    " "
   ]
  }
 ],
 "metadata": {
  "ExecuteTimeLog": [
   {
    "duration": 828,
    "start_time": "2021-11-16T09:21:11.304Z"
   },
   {
    "duration": 893,
    "start_time": "2021-11-16T09:21:17.728Z"
   },
   {
    "duration": 1150,
    "start_time": "2021-11-16T09:21:29.568Z"
   },
   {
    "duration": 3,
    "start_time": "2021-11-16T09:24:14.495Z"
   },
   {
    "duration": 120,
    "start_time": "2021-11-16T09:24:46.630Z"
   },
   {
    "duration": 3,
    "start_time": "2021-11-16T09:28:27.882Z"
   },
   {
    "duration": 4,
    "start_time": "2021-11-16T09:29:54.281Z"
   },
   {
    "duration": 3,
    "start_time": "2021-11-16T09:30:45.936Z"
   },
   {
    "duration": 4,
    "start_time": "2021-11-16T09:31:06.300Z"
   },
   {
    "duration": 113,
    "start_time": "2021-11-16T09:31:37.208Z"
   },
   {
    "duration": 143,
    "start_time": "2021-11-16T09:31:48.656Z"
   },
   {
    "duration": 98,
    "start_time": "2021-11-16T09:31:55.678Z"
   },
   {
    "duration": 3,
    "start_time": "2021-11-16T09:32:08.535Z"
   },
   {
    "duration": 111,
    "start_time": "2021-11-16T09:32:10.120Z"
   },
   {
    "duration": 3,
    "start_time": "2021-11-16T09:32:15.732Z"
   },
   {
    "duration": 4,
    "start_time": "2021-11-16T09:32:29.423Z"
   },
   {
    "duration": 3,
    "start_time": "2021-11-16T10:03:03.074Z"
   },
   {
    "duration": 3,
    "start_time": "2021-11-16T10:10:01.288Z"
   },
   {
    "duration": 3,
    "start_time": "2021-11-16T10:10:46.923Z"
   },
   {
    "duration": 121,
    "start_time": "2021-11-16T10:37:46.494Z"
   },
   {
    "duration": 125,
    "start_time": "2021-11-16T10:38:20.632Z"
   },
   {
    "duration": 112,
    "start_time": "2021-11-16T10:46:53.001Z"
   },
   {
    "duration": 110,
    "start_time": "2021-11-16T10:48:25.775Z"
   },
   {
    "duration": 3,
    "start_time": "2021-11-16T10:50:18.720Z"
   },
   {
    "duration": 4,
    "start_time": "2021-11-16T10:50:37.649Z"
   },
   {
    "duration": 2,
    "start_time": "2021-11-16T10:50:51.884Z"
   },
   {
    "duration": 3,
    "start_time": "2021-11-16T10:51:56.237Z"
   },
   {
    "duration": 101,
    "start_time": "2021-11-16T10:53:13.791Z"
   },
   {
    "duration": 3,
    "start_time": "2021-11-16T10:55:59.186Z"
   },
   {
    "duration": 3,
    "start_time": "2021-11-16T10:56:10.751Z"
   },
   {
    "duration": 3,
    "start_time": "2021-11-16T10:56:49.038Z"
   },
   {
    "duration": 3,
    "start_time": "2021-11-16T10:56:49.174Z"
   },
   {
    "duration": 4,
    "start_time": "2021-11-16T10:56:49.414Z"
   },
   {
    "duration": 3,
    "start_time": "2021-11-16T10:56:49.680Z"
   },
   {
    "duration": 3,
    "start_time": "2021-11-16T10:56:50.370Z"
   },
   {
    "duration": 114,
    "start_time": "2021-11-16T10:59:34.518Z"
   },
   {
    "duration": 3,
    "start_time": "2021-11-16T11:01:41.201Z"
   },
   {
    "duration": 116,
    "start_time": "2021-11-16T11:01:48.754Z"
   },
   {
    "duration": 3,
    "start_time": "2021-11-16T11:02:16.685Z"
   },
   {
    "duration": 3,
    "start_time": "2021-11-16T11:02:19.479Z"
   },
   {
    "duration": 3,
    "start_time": "2021-11-16T11:02:47.067Z"
   },
   {
    "duration": 3,
    "start_time": "2021-11-16T11:02:49.353Z"
   },
   {
    "duration": 3,
    "start_time": "2021-11-16T11:03:07.835Z"
   },
   {
    "duration": 3,
    "start_time": "2021-11-16T11:03:07.953Z"
   },
   {
    "duration": 112,
    "start_time": "2021-11-16T11:07:52.072Z"
   },
   {
    "duration": 187,
    "start_time": "2021-11-16T11:09:23.468Z"
   },
   {
    "duration": 4,
    "start_time": "2021-11-16T11:10:01.455Z"
   },
   {
    "duration": 3,
    "start_time": "2021-11-16T11:10:05.069Z"
   },
   {
    "duration": 4,
    "start_time": "2021-11-16T11:10:13.376Z"
   },
   {
    "duration": 3,
    "start_time": "2021-11-16T11:10:14.434Z"
   },
   {
    "duration": 3,
    "start_time": "2021-11-16T11:10:22.853Z"
   },
   {
    "duration": 4,
    "start_time": "2021-11-16T11:27:29.279Z"
   },
   {
    "duration": 4,
    "start_time": "2021-11-16T11:29:08.919Z"
   },
   {
    "duration": 118,
    "start_time": "2021-11-16T11:29:46.703Z"
   },
   {
    "duration": 437,
    "start_time": "2021-11-16T11:36:02.181Z"
   },
   {
    "duration": 157,
    "start_time": "2021-11-16T11:36:14.388Z"
   },
   {
    "duration": 207,
    "start_time": "2021-11-16T11:47:15.898Z"
   },
   {
    "duration": 3,
    "start_time": "2021-11-16T11:53:52.092Z"
   },
   {
    "duration": 3,
    "start_time": "2021-11-16T11:53:52.236Z"
   },
   {
    "duration": 3,
    "start_time": "2021-11-16T11:59:12.005Z"
   },
   {
    "duration": 112,
    "start_time": "2021-11-16T12:00:33.446Z"
   },
   {
    "duration": 3,
    "start_time": "2021-11-16T12:02:14.453Z"
   },
   {
    "duration": 3,
    "start_time": "2021-11-16T12:02:39.512Z"
   },
   {
    "duration": 106,
    "start_time": "2021-11-16T12:03:03.460Z"
   },
   {
    "duration": 3,
    "start_time": "2021-11-17T20:37:21.139Z"
   },
   {
    "duration": 3,
    "start_time": "2021-11-17T20:37:22.229Z"
   },
   {
    "duration": 3,
    "start_time": "2021-11-17T20:38:38.806Z"
   },
   {
    "duration": 3,
    "start_time": "2021-11-17T20:38:41.958Z"
   },
   {
    "duration": 3,
    "start_time": "2021-11-17T20:43:46.551Z"
   },
   {
    "duration": 4,
    "start_time": "2021-11-17T20:58:21.835Z"
   },
   {
    "duration": 3,
    "start_time": "2021-11-17T20:59:21.872Z"
   },
   {
    "duration": 4,
    "start_time": "2021-11-17T20:59:45.352Z"
   },
   {
    "duration": 4,
    "start_time": "2021-11-17T20:59:49.646Z"
   },
   {
    "duration": 159,
    "start_time": "2021-11-17T21:02:26.949Z"
   },
   {
    "duration": 3,
    "start_time": "2021-11-17T21:03:53.461Z"
   },
   {
    "duration": 3,
    "start_time": "2021-11-17T21:03:53.694Z"
   },
   {
    "duration": 3,
    "start_time": "2021-11-17T21:05:28.145Z"
   },
   {
    "duration": 116,
    "start_time": "2021-11-17T21:05:57.787Z"
   },
   {
    "duration": 3,
    "start_time": "2021-11-17T21:06:37.993Z"
   },
   {
    "duration": 3,
    "start_time": "2021-11-17T21:06:38.261Z"
   },
   {
    "duration": 3,
    "start_time": "2021-11-17T21:11:54.358Z"
   },
   {
    "duration": 3,
    "start_time": "2021-11-17T21:12:43.846Z"
   },
   {
    "duration": 4,
    "start_time": "2021-11-17T21:13:08.773Z"
   },
   {
    "duration": 3,
    "start_time": "2021-11-17T21:14:44.441Z"
   },
   {
    "duration": 3,
    "start_time": "2021-11-17T21:15:42.059Z"
   },
   {
    "duration": 4,
    "start_time": "2021-11-17T21:15:51.995Z"
   },
   {
    "duration": 3,
    "start_time": "2021-11-17T21:15:53.923Z"
   },
   {
    "duration": 3,
    "start_time": "2021-11-17T21:15:55.282Z"
   },
   {
    "duration": 3,
    "start_time": "2021-11-17T21:16:28.492Z"
   },
   {
    "duration": 3,
    "start_time": "2021-11-17T21:16:32.603Z"
   },
   {
    "duration": 3,
    "start_time": "2021-11-17T21:17:06.941Z"
   },
   {
    "duration": 98,
    "start_time": "2021-11-17T21:18:05.733Z"
   },
   {
    "duration": 4,
    "start_time": "2021-11-17T21:21:35.255Z"
   },
   {
    "duration": 3,
    "start_time": "2021-11-17T21:21:37.804Z"
   },
   {
    "duration": 4,
    "start_time": "2021-11-17T21:23:06.071Z"
   },
   {
    "duration": 3,
    "start_time": "2021-11-17T21:23:24.799Z"
   },
   {
    "duration": 3,
    "start_time": "2021-11-17T21:23:32.591Z"
   },
   {
    "duration": 98,
    "start_time": "2021-11-17T21:28:31.559Z"
   },
   {
    "duration": 3,
    "start_time": "2021-11-17T21:28:45.448Z"
   },
   {
    "duration": 3,
    "start_time": "2021-11-17T21:29:17.303Z"
   },
   {
    "duration": 3,
    "start_time": "2021-11-17T21:29:29.617Z"
   },
   {
    "duration": 3,
    "start_time": "2021-11-17T21:29:32.681Z"
   },
   {
    "duration": 3,
    "start_time": "2021-11-17T21:36:11.474Z"
   },
   {
    "duration": 3,
    "start_time": "2021-11-17T21:36:14.791Z"
   },
   {
    "duration": 3,
    "start_time": "2021-11-17T21:36:53.943Z"
   },
   {
    "duration": 3,
    "start_time": "2021-11-17T21:36:56.165Z"
   },
   {
    "duration": 4,
    "start_time": "2021-11-17T21:37:16.590Z"
   },
   {
    "duration": 3,
    "start_time": "2021-11-17T21:37:22.702Z"
   },
   {
    "duration": 4,
    "start_time": "2021-11-17T21:38:03.479Z"
   },
   {
    "duration": 3,
    "start_time": "2021-11-17T21:38:08.601Z"
   },
   {
    "duration": 3,
    "start_time": "2021-11-17T21:38:12.928Z"
   },
   {
    "duration": 3,
    "start_time": "2021-11-17T21:38:48.896Z"
   },
   {
    "duration": 2,
    "start_time": "2021-11-17T21:38:49.171Z"
   },
   {
    "duration": 4,
    "start_time": "2021-11-17T21:39:57.889Z"
   },
   {
    "duration": 3,
    "start_time": "2021-11-17T21:39:58.057Z"
   },
   {
    "duration": 3,
    "start_time": "2021-11-17T21:41:20.108Z"
   },
   {
    "duration": 3,
    "start_time": "2021-11-17T21:41:20.629Z"
   },
   {
    "duration": 3,
    "start_time": "2021-11-17T21:42:49.136Z"
   },
   {
    "duration": 3,
    "start_time": "2021-11-17T21:43:15.137Z"
   },
   {
    "duration": 4,
    "start_time": "2021-11-17T21:43:16.766Z"
   },
   {
    "duration": 4,
    "start_time": "2021-11-17T21:43:31.711Z"
   },
   {
    "duration": 3,
    "start_time": "2021-11-17T21:43:36.312Z"
   },
   {
    "duration": 4,
    "start_time": "2021-11-17T21:45:08.825Z"
   },
   {
    "duration": 4,
    "start_time": "2021-11-17T21:45:10.119Z"
   },
   {
    "duration": 4,
    "start_time": "2021-11-17T21:45:13.748Z"
   },
   {
    "duration": 3,
    "start_time": "2021-11-17T21:45:22.219Z"
   },
   {
    "duration": 3,
    "start_time": "2021-11-17T21:45:33.412Z"
   },
   {
    "duration": 2,
    "start_time": "2021-11-17T21:46:01.885Z"
   },
   {
    "duration": 3,
    "start_time": "2021-11-17T21:46:03.628Z"
   },
   {
    "duration": 107,
    "start_time": "2021-11-17T21:47:32.512Z"
   },
   {
    "duration": 103,
    "start_time": "2021-11-17T21:50:36.243Z"
   },
   {
    "duration": 3,
    "start_time": "2021-11-18T06:28:31.440Z"
   },
   {
    "duration": 3,
    "start_time": "2021-11-18T06:29:00.168Z"
   },
   {
    "duration": 3,
    "start_time": "2021-11-18T06:31:27.008Z"
   },
   {
    "duration": 2,
    "start_time": "2021-11-18T06:35:34.288Z"
   },
   {
    "duration": 2,
    "start_time": "2021-11-18T06:38:04.527Z"
   },
   {
    "duration": 323,
    "start_time": "2024-07-07T22:08:35.783Z"
   },
   {
    "duration": 5053,
    "start_time": "2024-07-07T22:08:49.222Z"
   },
   {
    "duration": 416,
    "start_time": "2024-07-07T22:08:54.278Z"
   },
   {
    "duration": 318,
    "start_time": "2024-07-07T22:08:57.642Z"
   },
   {
    "duration": 387,
    "start_time": "2024-07-07T22:21:56.239Z"
   },
   {
    "duration": 51,
    "start_time": "2024-07-07T22:28:20.659Z"
   },
   {
    "duration": 10,
    "start_time": "2024-07-07T22:28:32.218Z"
   },
   {
    "duration": 5186,
    "start_time": "2024-07-09T21:03:10.025Z"
   },
   {
    "duration": 537,
    "start_time": "2024-07-09T21:03:15.215Z"
   },
   {
    "duration": 60,
    "start_time": "2024-07-09T21:03:15.756Z"
   },
   {
    "duration": 9,
    "start_time": "2024-07-09T21:03:15.821Z"
   },
   {
    "duration": 18,
    "start_time": "2024-07-09T21:03:15.836Z"
   },
   {
    "duration": 10,
    "start_time": "2024-07-09T21:03:15.858Z"
   },
   {
    "duration": 55,
    "start_time": "2024-07-09T21:03:15.872Z"
   },
   {
    "duration": 11,
    "start_time": "2024-07-09T21:03:15.932Z"
   },
   {
    "duration": 96,
    "start_time": "2024-07-09T21:03:15.949Z"
   },
   {
    "duration": 22,
    "start_time": "2024-07-09T21:03:16.052Z"
   },
   {
    "duration": 34,
    "start_time": "2024-07-09T21:03:16.078Z"
   },
   {
    "duration": 60,
    "start_time": "2024-07-09T21:03:16.114Z"
   },
   {
    "duration": 41,
    "start_time": "2024-07-09T21:03:16.177Z"
   },
   {
    "duration": 13,
    "start_time": "2024-07-09T21:03:16.224Z"
   },
   {
    "duration": 72,
    "start_time": "2024-07-09T21:03:16.241Z"
   },
   {
    "duration": 12,
    "start_time": "2024-07-09T21:03:16.316Z"
   },
   {
    "duration": 56,
    "start_time": "2024-07-09T21:03:16.334Z"
   },
   {
    "duration": 15,
    "start_time": "2024-07-09T21:03:16.394Z"
   },
   {
    "duration": 5,
    "start_time": "2024-07-09T21:03:16.413Z"
   },
   {
    "duration": 3,
    "start_time": "2024-07-09T21:03:16.424Z"
   },
   {
    "duration": 10,
    "start_time": "2024-07-09T21:03:16.430Z"
   },
   {
    "duration": 9,
    "start_time": "2024-07-09T21:03:16.443Z"
   },
   {
    "duration": 3,
    "start_time": "2024-07-09T21:03:16.455Z"
   },
   {
    "duration": 4,
    "start_time": "2024-07-09T21:03:16.461Z"
   },
   {
    "duration": 43,
    "start_time": "2024-07-09T21:03:16.468Z"
   },
   {
    "duration": 7,
    "start_time": "2024-07-09T21:03:16.513Z"
   },
   {
    "duration": 4,
    "start_time": "2024-07-09T21:03:16.526Z"
   },
   {
    "duration": 5,
    "start_time": "2024-07-09T21:03:16.537Z"
   },
   {
    "duration": 3,
    "start_time": "2024-07-09T21:03:16.548Z"
   },
   {
    "duration": 4,
    "start_time": "2024-07-09T21:03:16.555Z"
   },
   {
    "duration": 5,
    "start_time": "2024-07-09T21:03:16.562Z"
   },
   {
    "duration": 1173,
    "start_time": "2024-07-09T21:15:22.243Z"
   },
   {
    "duration": 371,
    "start_time": "2024-07-09T21:15:23.420Z"
   },
   {
    "duration": 53,
    "start_time": "2024-07-09T21:15:23.796Z"
   },
   {
    "duration": 8,
    "start_time": "2024-07-09T21:15:23.853Z"
   },
   {
    "duration": 16,
    "start_time": "2024-07-09T21:15:23.864Z"
   },
   {
    "duration": 34,
    "start_time": "2024-07-09T21:15:23.883Z"
   },
   {
    "duration": 30,
    "start_time": "2024-07-09T21:15:23.923Z"
   },
   {
    "duration": 9,
    "start_time": "2024-07-09T21:15:23.956Z"
   },
   {
    "duration": 107,
    "start_time": "2024-07-09T21:15:23.968Z"
   },
   {
    "duration": 33,
    "start_time": "2024-07-09T21:15:24.081Z"
   },
   {
    "duration": 8,
    "start_time": "2024-07-09T21:15:24.117Z"
   },
   {
    "duration": 54,
    "start_time": "2024-07-09T21:15:24.129Z"
   },
   {
    "duration": 28,
    "start_time": "2024-07-09T21:15:24.209Z"
   },
   {
    "duration": 8,
    "start_time": "2024-07-09T21:15:24.240Z"
   },
   {
    "duration": 84,
    "start_time": "2024-07-09T21:15:24.252Z"
   },
   {
    "duration": 8,
    "start_time": "2024-07-09T21:15:24.340Z"
   },
   {
    "duration": 59,
    "start_time": "2024-07-09T21:15:24.351Z"
   },
   {
    "duration": 505,
    "start_time": "2024-07-09T21:15:24.412Z"
   },
   {
    "duration": 0,
    "start_time": "2024-07-09T21:15:24.920Z"
   },
   {
    "duration": 0,
    "start_time": "2024-07-09T21:15:24.923Z"
   },
   {
    "duration": 0,
    "start_time": "2024-07-09T21:15:24.926Z"
   },
   {
    "duration": 0,
    "start_time": "2024-07-09T21:15:24.929Z"
   },
   {
    "duration": 0,
    "start_time": "2024-07-09T21:15:24.931Z"
   },
   {
    "duration": 0,
    "start_time": "2024-07-09T21:15:24.933Z"
   },
   {
    "duration": 0,
    "start_time": "2024-07-09T21:15:24.934Z"
   },
   {
    "duration": 1,
    "start_time": "2024-07-09T21:15:24.936Z"
   },
   {
    "duration": 0,
    "start_time": "2024-07-09T21:15:24.938Z"
   },
   {
    "duration": 0,
    "start_time": "2024-07-09T21:15:24.940Z"
   },
   {
    "duration": 0,
    "start_time": "2024-07-09T21:15:24.942Z"
   },
   {
    "duration": 0,
    "start_time": "2024-07-09T21:15:24.944Z"
   },
   {
    "duration": 0,
    "start_time": "2024-07-09T21:15:24.949Z"
   },
   {
    "duration": 1699,
    "start_time": "2024-07-09T21:17:12.504Z"
   },
   {
    "duration": 0,
    "start_time": "2024-07-09T21:17:14.211Z"
   },
   {
    "duration": 0,
    "start_time": "2024-07-09T21:17:14.217Z"
   },
   {
    "duration": 0,
    "start_time": "2024-07-09T21:17:14.224Z"
   },
   {
    "duration": 0,
    "start_time": "2024-07-09T21:17:14.225Z"
   },
   {
    "duration": 0,
    "start_time": "2024-07-09T21:17:14.227Z"
   },
   {
    "duration": 0,
    "start_time": "2024-07-09T21:17:14.228Z"
   },
   {
    "duration": 0,
    "start_time": "2024-07-09T21:17:14.230Z"
   },
   {
    "duration": 0,
    "start_time": "2024-07-09T21:17:14.232Z"
   },
   {
    "duration": 0,
    "start_time": "2024-07-09T21:17:14.234Z"
   },
   {
    "duration": 0,
    "start_time": "2024-07-09T21:17:14.238Z"
   },
   {
    "duration": 0,
    "start_time": "2024-07-09T21:17:14.240Z"
   },
   {
    "duration": 0,
    "start_time": "2024-07-09T21:17:14.242Z"
   },
   {
    "duration": 0,
    "start_time": "2024-07-09T21:17:14.244Z"
   },
   {
    "duration": 0,
    "start_time": "2024-07-09T21:17:14.246Z"
   },
   {
    "duration": 0,
    "start_time": "2024-07-09T21:17:14.248Z"
   },
   {
    "duration": 0,
    "start_time": "2024-07-09T21:17:14.251Z"
   },
   {
    "duration": 0,
    "start_time": "2024-07-09T21:17:14.253Z"
   },
   {
    "duration": 0,
    "start_time": "2024-07-09T21:17:14.255Z"
   },
   {
    "duration": 0,
    "start_time": "2024-07-09T21:17:14.257Z"
   },
   {
    "duration": 0,
    "start_time": "2024-07-09T21:17:14.259Z"
   },
   {
    "duration": 0,
    "start_time": "2024-07-09T21:17:14.262Z"
   },
   {
    "duration": 0,
    "start_time": "2024-07-09T21:17:14.312Z"
   },
   {
    "duration": 0,
    "start_time": "2024-07-09T21:17:14.314Z"
   },
   {
    "duration": 0,
    "start_time": "2024-07-09T21:17:14.316Z"
   },
   {
    "duration": 0,
    "start_time": "2024-07-09T21:17:14.318Z"
   },
   {
    "duration": 0,
    "start_time": "2024-07-09T21:17:14.321Z"
   },
   {
    "duration": 0,
    "start_time": "2024-07-09T21:17:14.323Z"
   },
   {
    "duration": 0,
    "start_time": "2024-07-09T21:17:14.325Z"
   },
   {
    "duration": 0,
    "start_time": "2024-07-09T21:17:14.327Z"
   },
   {
    "duration": 0,
    "start_time": "2024-07-09T21:17:14.330Z"
   },
   {
    "duration": 1334,
    "start_time": "2024-07-09T21:18:56.246Z"
   },
   {
    "duration": 466,
    "start_time": "2024-07-09T21:18:57.584Z"
   },
   {
    "duration": 56,
    "start_time": "2024-07-09T21:18:58.053Z"
   },
   {
    "duration": 15,
    "start_time": "2024-07-09T21:18:58.115Z"
   },
   {
    "duration": 14,
    "start_time": "2024-07-09T21:18:58.133Z"
   },
   {
    "duration": 9,
    "start_time": "2024-07-09T21:18:58.150Z"
   },
   {
    "duration": 76,
    "start_time": "2024-07-09T21:18:58.163Z"
   },
   {
    "duration": 12,
    "start_time": "2024-07-09T21:18:58.249Z"
   },
   {
    "duration": 82,
    "start_time": "2024-07-09T21:18:58.271Z"
   },
   {
    "duration": 27,
    "start_time": "2024-07-09T21:18:58.362Z"
   },
   {
    "duration": 19,
    "start_time": "2024-07-09T21:18:58.410Z"
   },
   {
    "duration": 53,
    "start_time": "2024-07-09T21:18:58.438Z"
   },
   {
    "duration": 30,
    "start_time": "2024-07-09T21:18:58.494Z"
   },
   {
    "duration": 10,
    "start_time": "2024-07-09T21:18:58.528Z"
   },
   {
    "duration": 98,
    "start_time": "2024-07-09T21:18:58.541Z"
   },
   {
    "duration": 9,
    "start_time": "2024-07-09T21:18:58.642Z"
   },
   {
    "duration": 70,
    "start_time": "2024-07-09T21:18:58.654Z"
   },
   {
    "duration": 487,
    "start_time": "2024-07-09T21:18:58.733Z"
   },
   {
    "duration": 1,
    "start_time": "2024-07-09T21:18:59.224Z"
   },
   {
    "duration": 0,
    "start_time": "2024-07-09T21:18:59.226Z"
   },
   {
    "duration": 0,
    "start_time": "2024-07-09T21:18:59.228Z"
   },
   {
    "duration": 0,
    "start_time": "2024-07-09T21:18:59.231Z"
   },
   {
    "duration": 0,
    "start_time": "2024-07-09T21:18:59.233Z"
   },
   {
    "duration": 0,
    "start_time": "2024-07-09T21:18:59.235Z"
   },
   {
    "duration": 0,
    "start_time": "2024-07-09T21:18:59.237Z"
   },
   {
    "duration": 0,
    "start_time": "2024-07-09T21:18:59.239Z"
   },
   {
    "duration": 0,
    "start_time": "2024-07-09T21:18:59.241Z"
   },
   {
    "duration": 0,
    "start_time": "2024-07-09T21:18:59.244Z"
   },
   {
    "duration": 0,
    "start_time": "2024-07-09T21:18:59.246Z"
   },
   {
    "duration": 0,
    "start_time": "2024-07-09T21:18:59.248Z"
   },
   {
    "duration": 0,
    "start_time": "2024-07-09T21:18:59.250Z"
   },
   {
    "duration": 1194,
    "start_time": "2024-07-09T21:19:36.895Z"
   },
   {
    "duration": 381,
    "start_time": "2024-07-09T21:19:38.093Z"
   },
   {
    "duration": 66,
    "start_time": "2024-07-09T21:19:38.477Z"
   },
   {
    "duration": 9,
    "start_time": "2024-07-09T21:19:38.548Z"
   },
   {
    "duration": 15,
    "start_time": "2024-07-09T21:19:38.560Z"
   },
   {
    "duration": 9,
    "start_time": "2024-07-09T21:19:38.578Z"
   },
   {
    "duration": 25,
    "start_time": "2024-07-09T21:19:38.611Z"
   },
   {
    "duration": 8,
    "start_time": "2024-07-09T21:19:38.644Z"
   },
   {
    "duration": 103,
    "start_time": "2024-07-09T21:19:38.655Z"
   },
   {
    "duration": 46,
    "start_time": "2024-07-09T21:19:38.764Z"
   },
   {
    "duration": 7,
    "start_time": "2024-07-09T21:19:38.813Z"
   },
   {
    "duration": 54,
    "start_time": "2024-07-09T21:19:38.823Z"
   },
   {
    "duration": 41,
    "start_time": "2024-07-09T21:19:38.881Z"
   },
   {
    "duration": 18,
    "start_time": "2024-07-09T21:19:38.929Z"
   },
   {
    "duration": 72,
    "start_time": "2024-07-09T21:19:38.951Z"
   },
   {
    "duration": 12,
    "start_time": "2024-07-09T21:19:39.026Z"
   },
   {
    "duration": 67,
    "start_time": "2024-07-09T21:19:39.042Z"
   },
   {
    "duration": 55,
    "start_time": "2024-07-09T21:19:39.114Z"
   },
   {
    "duration": 49,
    "start_time": "2024-07-09T21:19:39.172Z"
   },
   {
    "duration": 46,
    "start_time": "2024-07-09T21:19:39.225Z"
   },
   {
    "duration": 105,
    "start_time": "2024-07-09T21:19:39.275Z"
   },
   {
    "duration": 50,
    "start_time": "2024-07-09T21:19:39.383Z"
   },
   {
    "duration": 133,
    "start_time": "2024-07-09T21:19:39.436Z"
   },
   {
    "duration": 4,
    "start_time": "2024-07-09T21:19:39.572Z"
   },
   {
    "duration": 5,
    "start_time": "2024-07-09T21:19:39.578Z"
   },
   {
    "duration": 4,
    "start_time": "2024-07-09T21:19:39.585Z"
   },
   {
    "duration": 3,
    "start_time": "2024-07-09T21:19:39.592Z"
   },
   {
    "duration": 5,
    "start_time": "2024-07-09T21:19:39.610Z"
   },
   {
    "duration": 6,
    "start_time": "2024-07-09T21:19:39.623Z"
   },
   {
    "duration": 8,
    "start_time": "2024-07-09T21:19:39.631Z"
   },
   {
    "duration": 5,
    "start_time": "2024-07-09T21:19:39.642Z"
   },
   {
    "duration": 404,
    "start_time": "2024-07-09T21:21:28.533Z"
   },
   {
    "duration": 1283,
    "start_time": "2024-07-09T21:21:46.007Z"
   },
   {
    "duration": 394,
    "start_time": "2024-07-09T21:21:47.293Z"
   },
   {
    "duration": 50,
    "start_time": "2024-07-09T21:21:47.690Z"
   },
   {
    "duration": 8,
    "start_time": "2024-07-09T21:21:47.743Z"
   },
   {
    "duration": 13,
    "start_time": "2024-07-09T21:21:47.755Z"
   },
   {
    "duration": 42,
    "start_time": "2024-07-09T21:21:47.771Z"
   },
   {
    "duration": 25,
    "start_time": "2024-07-09T21:21:47.816Z"
   },
   {
    "duration": 7,
    "start_time": "2024-07-09T21:21:47.845Z"
   },
   {
    "duration": 97,
    "start_time": "2024-07-09T21:21:47.855Z"
   },
   {
    "duration": 20,
    "start_time": "2024-07-09T21:21:47.958Z"
   },
   {
    "duration": 30,
    "start_time": "2024-07-09T21:21:47.981Z"
   },
   {
    "duration": 48,
    "start_time": "2024-07-09T21:21:48.015Z"
   },
   {
    "duration": 44,
    "start_time": "2024-07-09T21:21:48.067Z"
   },
   {
    "duration": 7,
    "start_time": "2024-07-09T21:21:48.116Z"
   },
   {
    "duration": 60,
    "start_time": "2024-07-09T21:21:48.127Z"
   },
   {
    "duration": 24,
    "start_time": "2024-07-09T21:21:48.189Z"
   },
   {
    "duration": 56,
    "start_time": "2024-07-09T21:21:48.216Z"
   },
   {
    "duration": 55,
    "start_time": "2024-07-09T21:21:48.276Z"
   },
   {
    "duration": 46,
    "start_time": "2024-07-09T21:21:48.334Z"
   },
   {
    "duration": 48,
    "start_time": "2024-07-09T21:21:48.382Z"
   },
   {
    "duration": 114,
    "start_time": "2024-07-09T21:21:48.433Z"
   },
   {
    "duration": 52,
    "start_time": "2024-07-09T21:21:48.551Z"
   },
   {
    "duration": 146,
    "start_time": "2024-07-09T21:21:48.606Z"
   },
   {
    "duration": 468,
    "start_time": "2024-07-09T21:21:48.756Z"
   },
   {
    "duration": 0,
    "start_time": "2024-07-09T21:21:49.229Z"
   },
   {
    "duration": 0,
    "start_time": "2024-07-09T21:21:49.232Z"
   },
   {
    "duration": 0,
    "start_time": "2024-07-09T21:21:49.233Z"
   },
   {
    "duration": 0,
    "start_time": "2024-07-09T21:21:49.238Z"
   },
   {
    "duration": 0,
    "start_time": "2024-07-09T21:21:49.240Z"
   },
   {
    "duration": 0,
    "start_time": "2024-07-09T21:21:49.242Z"
   },
   {
    "duration": 1,
    "start_time": "2024-07-09T21:21:49.244Z"
   },
   {
    "duration": 1226,
    "start_time": "2024-07-09T21:23:05.267Z"
   },
   {
    "duration": 393,
    "start_time": "2024-07-09T21:23:06.497Z"
   },
   {
    "duration": 48,
    "start_time": "2024-07-09T21:23:06.893Z"
   },
   {
    "duration": 13,
    "start_time": "2024-07-09T21:23:06.945Z"
   },
   {
    "duration": 15,
    "start_time": "2024-07-09T21:23:06.962Z"
   },
   {
    "duration": 10,
    "start_time": "2024-07-09T21:23:07.011Z"
   },
   {
    "duration": 25,
    "start_time": "2024-07-09T21:23:07.023Z"
   },
   {
    "duration": 8,
    "start_time": "2024-07-09T21:23:07.051Z"
   },
   {
    "duration": 100,
    "start_time": "2024-07-09T21:23:07.063Z"
   },
   {
    "duration": 21,
    "start_time": "2024-07-09T21:23:07.168Z"
   },
   {
    "duration": 9,
    "start_time": "2024-07-09T21:23:07.209Z"
   },
   {
    "duration": 48,
    "start_time": "2024-07-09T21:23:07.221Z"
   },
   {
    "duration": 45,
    "start_time": "2024-07-09T21:23:07.272Z"
   },
   {
    "duration": 11,
    "start_time": "2024-07-09T21:23:07.324Z"
   },
   {
    "duration": 74,
    "start_time": "2024-07-09T21:23:07.338Z"
   },
   {
    "duration": 9,
    "start_time": "2024-07-09T21:23:07.414Z"
   },
   {
    "duration": 54,
    "start_time": "2024-07-09T21:23:07.427Z"
   },
   {
    "duration": 61,
    "start_time": "2024-07-09T21:23:07.484Z"
   },
   {
    "duration": 42,
    "start_time": "2024-07-09T21:23:07.548Z"
   },
   {
    "duration": 49,
    "start_time": "2024-07-09T21:23:07.593Z"
   },
   {
    "duration": 106,
    "start_time": "2024-07-09T21:23:07.644Z"
   },
   {
    "duration": 52,
    "start_time": "2024-07-09T21:23:07.753Z"
   },
   {
    "duration": 145,
    "start_time": "2024-07-09T21:23:07.808Z"
   },
   {
    "duration": 10,
    "start_time": "2024-07-09T21:23:07.955Z"
   },
   {
    "duration": 0,
    "start_time": "2024-07-09T21:23:07.969Z"
   },
   {
    "duration": 0,
    "start_time": "2024-07-09T21:23:07.971Z"
   },
   {
    "duration": 0,
    "start_time": "2024-07-09T21:23:07.974Z"
   },
   {
    "duration": 0,
    "start_time": "2024-07-09T21:23:07.976Z"
   },
   {
    "duration": 0,
    "start_time": "2024-07-09T21:23:07.978Z"
   },
   {
    "duration": 0,
    "start_time": "2024-07-09T21:23:07.981Z"
   },
   {
    "duration": 0,
    "start_time": "2024-07-09T21:23:07.982Z"
   },
   {
    "duration": 1273,
    "start_time": "2024-07-09T21:24:08.552Z"
   },
   {
    "duration": 362,
    "start_time": "2024-07-09T21:24:09.829Z"
   },
   {
    "duration": 49,
    "start_time": "2024-07-09T21:24:10.193Z"
   },
   {
    "duration": 8,
    "start_time": "2024-07-09T21:24:10.247Z"
   },
   {
    "duration": 14,
    "start_time": "2024-07-09T21:24:10.258Z"
   },
   {
    "duration": 38,
    "start_time": "2024-07-09T21:24:10.276Z"
   },
   {
    "duration": 27,
    "start_time": "2024-07-09T21:24:10.318Z"
   },
   {
    "duration": 7,
    "start_time": "2024-07-09T21:24:10.349Z"
   },
   {
    "duration": 101,
    "start_time": "2024-07-09T21:24:10.360Z"
   },
   {
    "duration": 23,
    "start_time": "2024-07-09T21:24:10.466Z"
   },
   {
    "duration": 8,
    "start_time": "2024-07-09T21:24:10.517Z"
   },
   {
    "duration": 52,
    "start_time": "2024-07-09T21:24:10.530Z"
   },
   {
    "duration": 32,
    "start_time": "2024-07-09T21:24:10.585Z"
   },
   {
    "duration": 8,
    "start_time": "2024-07-09T21:24:10.620Z"
   },
   {
    "duration": 57,
    "start_time": "2024-07-09T21:24:10.632Z"
   },
   {
    "duration": 22,
    "start_time": "2024-07-09T21:24:10.691Z"
   },
   {
    "duration": 59,
    "start_time": "2024-07-09T21:24:10.716Z"
   },
   {
    "duration": 55,
    "start_time": "2024-07-09T21:24:10.778Z"
   },
   {
    "duration": 41,
    "start_time": "2024-07-09T21:24:10.837Z"
   },
   {
    "duration": 56,
    "start_time": "2024-07-09T21:24:10.882Z"
   },
   {
    "duration": 102,
    "start_time": "2024-07-09T21:24:10.940Z"
   },
   {
    "duration": 53,
    "start_time": "2024-07-09T21:24:11.048Z"
   },
   {
    "duration": 155,
    "start_time": "2024-07-09T21:24:11.104Z"
   },
   {
    "duration": 387,
    "start_time": "2024-07-09T21:24:11.262Z"
   },
   {
    "duration": 6,
    "start_time": "2024-07-09T21:24:11.653Z"
   },
   {
    "duration": 4,
    "start_time": "2024-07-09T21:24:11.662Z"
   },
   {
    "duration": 3,
    "start_time": "2024-07-09T21:24:11.669Z"
   },
   {
    "duration": 3,
    "start_time": "2024-07-09T21:24:11.680Z"
   },
   {
    "duration": 6,
    "start_time": "2024-07-09T21:24:11.715Z"
   },
   {
    "duration": 6,
    "start_time": "2024-07-09T21:24:11.725Z"
   },
   {
    "duration": 5,
    "start_time": "2024-07-09T21:24:11.735Z"
   },
   {
    "duration": 493,
    "start_time": "2024-07-09T21:27:12.297Z"
   },
   {
    "duration": 1498,
    "start_time": "2024-07-09T21:46:43.431Z"
   },
   {
    "duration": 468,
    "start_time": "2024-07-09T21:46:44.940Z"
   },
   {
    "duration": 53,
    "start_time": "2024-07-09T21:46:45.419Z"
   },
   {
    "duration": 8,
    "start_time": "2024-07-09T21:46:45.477Z"
   },
   {
    "duration": 47,
    "start_time": "2024-07-09T21:46:45.488Z"
   },
   {
    "duration": 12,
    "start_time": "2024-07-09T21:46:45.539Z"
   },
   {
    "duration": 36,
    "start_time": "2024-07-09T21:46:45.554Z"
   },
   {
    "duration": 15,
    "start_time": "2024-07-09T21:46:45.610Z"
   },
   {
    "duration": 96,
    "start_time": "2024-07-09T21:46:45.631Z"
   },
   {
    "duration": 27,
    "start_time": "2024-07-09T21:46:45.734Z"
   },
   {
    "duration": 8,
    "start_time": "2024-07-09T21:46:45.764Z"
   },
   {
    "duration": 89,
    "start_time": "2024-07-09T21:46:45.775Z"
   },
   {
    "duration": 44,
    "start_time": "2024-07-09T21:46:45.867Z"
   },
   {
    "duration": 13,
    "start_time": "2024-07-09T21:46:45.917Z"
   },
   {
    "duration": 81,
    "start_time": "2024-07-09T21:46:45.934Z"
   },
   {
    "duration": 12,
    "start_time": "2024-07-09T21:46:46.018Z"
   },
   {
    "duration": 69,
    "start_time": "2024-07-09T21:46:46.033Z"
   },
   {
    "duration": 62,
    "start_time": "2024-07-09T21:46:46.105Z"
   },
   {
    "duration": 69,
    "start_time": "2024-07-09T21:46:46.170Z"
   },
   {
    "duration": 71,
    "start_time": "2024-07-09T21:46:46.247Z"
   },
   {
    "duration": 124,
    "start_time": "2024-07-09T21:46:46.321Z"
   },
   {
    "duration": 66,
    "start_time": "2024-07-09T21:46:46.448Z"
   },
   {
    "duration": 171,
    "start_time": "2024-07-09T21:46:46.521Z"
   },
   {
    "duration": 514,
    "start_time": "2024-07-09T21:46:46.694Z"
   },
   {
    "duration": 599,
    "start_time": "2024-07-09T21:46:47.224Z"
   },
   {
    "duration": 17,
    "start_time": "2024-07-09T21:46:47.826Z"
   },
   {
    "duration": 303,
    "start_time": "2024-07-09T21:46:47.846Z"
   },
   {
    "duration": 388,
    "start_time": "2024-07-09T21:46:48.157Z"
   },
   {
    "duration": 404,
    "start_time": "2024-07-09T21:46:48.550Z"
   },
   {
    "duration": 1656,
    "start_time": "2024-07-09T21:46:48.961Z"
   },
   {
    "duration": 0,
    "start_time": "2024-07-09T21:46:50.620Z"
   },
   {
    "duration": 47,
    "start_time": "2024-07-09T21:51:02.789Z"
   },
   {
    "duration": 99,
    "start_time": "2024-07-09T21:52:38.897Z"
   },
   {
    "duration": 1249,
    "start_time": "2024-07-09T21:55:12.991Z"
   },
   {
    "duration": 359,
    "start_time": "2024-07-09T21:55:14.243Z"
   },
   {
    "duration": 46,
    "start_time": "2024-07-09T21:55:14.605Z"
   },
   {
    "duration": 9,
    "start_time": "2024-07-09T21:55:14.657Z"
   },
   {
    "duration": 48,
    "start_time": "2024-07-09T21:55:14.670Z"
   },
   {
    "duration": 8,
    "start_time": "2024-07-09T21:55:14.722Z"
   },
   {
    "duration": 25,
    "start_time": "2024-07-09T21:55:14.733Z"
   },
   {
    "duration": 7,
    "start_time": "2024-07-09T21:55:14.761Z"
   },
   {
    "duration": 105,
    "start_time": "2024-07-09T21:55:14.771Z"
   },
   {
    "duration": 39,
    "start_time": "2024-07-09T21:55:14.882Z"
   },
   {
    "duration": 8,
    "start_time": "2024-07-09T21:55:14.925Z"
   },
   {
    "duration": 72,
    "start_time": "2024-07-09T21:55:14.937Z"
   },
   {
    "duration": 23,
    "start_time": "2024-07-09T21:55:15.012Z"
   },
   {
    "duration": 8,
    "start_time": "2024-07-09T21:55:15.038Z"
   },
   {
    "duration": 84,
    "start_time": "2024-07-09T21:55:15.049Z"
   },
   {
    "duration": 8,
    "start_time": "2024-07-09T21:55:15.136Z"
   },
   {
    "duration": 54,
    "start_time": "2024-07-09T21:55:15.147Z"
   },
   {
    "duration": 57,
    "start_time": "2024-07-09T21:55:15.208Z"
   },
   {
    "duration": 46,
    "start_time": "2024-07-09T21:55:15.268Z"
   },
   {
    "duration": 47,
    "start_time": "2024-07-09T21:55:15.320Z"
   },
   {
    "duration": 102,
    "start_time": "2024-07-09T21:55:15.370Z"
   },
   {
    "duration": 57,
    "start_time": "2024-07-09T21:55:15.475Z"
   },
   {
    "duration": 601,
    "start_time": "2024-07-09T21:55:15.535Z"
   },
   {
    "duration": 0,
    "start_time": "2024-07-09T21:55:16.140Z"
   },
   {
    "duration": 0,
    "start_time": "2024-07-09T21:55:16.142Z"
   },
   {
    "duration": 0,
    "start_time": "2024-07-09T21:55:16.145Z"
   },
   {
    "duration": 0,
    "start_time": "2024-07-09T21:55:16.147Z"
   },
   {
    "duration": 0,
    "start_time": "2024-07-09T21:55:16.149Z"
   },
   {
    "duration": 0,
    "start_time": "2024-07-09T21:55:16.152Z"
   },
   {
    "duration": 0,
    "start_time": "2024-07-09T21:55:16.154Z"
   },
   {
    "duration": 0,
    "start_time": "2024-07-09T21:55:16.157Z"
   },
   {
    "duration": 156,
    "start_time": "2024-07-09T21:55:50.544Z"
   },
   {
    "duration": 129,
    "start_time": "2024-07-09T21:56:09.590Z"
   },
   {
    "duration": 1242,
    "start_time": "2024-07-09T21:56:58.471Z"
   },
   {
    "duration": 373,
    "start_time": "2024-07-09T21:56:59.717Z"
   },
   {
    "duration": 44,
    "start_time": "2024-07-09T21:57:00.092Z"
   },
   {
    "duration": 8,
    "start_time": "2024-07-09T21:57:00.140Z"
   },
   {
    "duration": 15,
    "start_time": "2024-07-09T21:57:00.150Z"
   },
   {
    "duration": 41,
    "start_time": "2024-07-09T21:57:00.168Z"
   },
   {
    "duration": 25,
    "start_time": "2024-07-09T21:57:00.212Z"
   },
   {
    "duration": 8,
    "start_time": "2024-07-09T21:57:00.239Z"
   },
   {
    "duration": 106,
    "start_time": "2024-07-09T21:57:00.250Z"
   },
   {
    "duration": 20,
    "start_time": "2024-07-09T21:57:00.362Z"
   },
   {
    "duration": 26,
    "start_time": "2024-07-09T21:57:00.384Z"
   },
   {
    "duration": 46,
    "start_time": "2024-07-09T21:57:00.413Z"
   },
   {
    "duration": 48,
    "start_time": "2024-07-09T21:57:00.461Z"
   },
   {
    "duration": 8,
    "start_time": "2024-07-09T21:57:00.512Z"
   },
   {
    "duration": 55,
    "start_time": "2024-07-09T21:57:00.524Z"
   },
   {
    "duration": 31,
    "start_time": "2024-07-09T21:57:00.582Z"
   },
   {
    "duration": 52,
    "start_time": "2024-07-09T21:57:00.617Z"
   },
   {
    "duration": 56,
    "start_time": "2024-07-09T21:57:00.672Z"
   },
   {
    "duration": 45,
    "start_time": "2024-07-09T21:57:00.730Z"
   },
   {
    "duration": 46,
    "start_time": "2024-07-09T21:57:00.778Z"
   },
   {
    "duration": 105,
    "start_time": "2024-07-09T21:57:00.827Z"
   },
   {
    "duration": 58,
    "start_time": "2024-07-09T21:57:00.935Z"
   },
   {
    "duration": 134,
    "start_time": "2024-07-09T21:57:00.996Z"
   },
   {
    "duration": 379,
    "start_time": "2024-07-09T21:57:01.133Z"
   },
   {
    "duration": 498,
    "start_time": "2024-07-09T21:57:01.515Z"
   },
   {
    "duration": 20,
    "start_time": "2024-07-09T21:57:02.016Z"
   },
   {
    "duration": 259,
    "start_time": "2024-07-09T21:57:02.039Z"
   },
   {
    "duration": 353,
    "start_time": "2024-07-09T21:57:02.309Z"
   },
   {
    "duration": 325,
    "start_time": "2024-07-09T21:57:02.665Z"
   },
   {
    "duration": 431,
    "start_time": "2024-07-09T21:57:02.993Z"
   },
   {
    "duration": 0,
    "start_time": "2024-07-09T21:57:03.427Z"
   },
   {
    "duration": 1211,
    "start_time": "2024-07-09T21:58:48.862Z"
   },
   {
    "duration": 346,
    "start_time": "2024-07-09T21:58:50.076Z"
   },
   {
    "duration": 40,
    "start_time": "2024-07-09T21:58:50.425Z"
   },
   {
    "duration": 9,
    "start_time": "2024-07-09T21:58:50.468Z"
   },
   {
    "duration": 39,
    "start_time": "2024-07-09T21:58:50.480Z"
   },
   {
    "duration": 11,
    "start_time": "2024-07-09T21:58:50.522Z"
   },
   {
    "duration": 30,
    "start_time": "2024-07-09T21:58:50.536Z"
   },
   {
    "duration": 44,
    "start_time": "2024-07-09T21:58:50.570Z"
   },
   {
    "duration": 95,
    "start_time": "2024-07-09T21:58:50.617Z"
   },
   {
    "duration": 19,
    "start_time": "2024-07-09T21:58:50.718Z"
   },
   {
    "duration": 8,
    "start_time": "2024-07-09T21:58:50.740Z"
   },
   {
    "duration": 80,
    "start_time": "2024-07-09T21:58:50.751Z"
   },
   {
    "duration": 24,
    "start_time": "2024-07-09T21:58:50.833Z"
   },
   {
    "duration": 8,
    "start_time": "2024-07-09T21:58:50.860Z"
   },
   {
    "duration": 84,
    "start_time": "2024-07-09T21:58:50.871Z"
   },
   {
    "duration": 8,
    "start_time": "2024-07-09T21:58:50.958Z"
   },
   {
    "duration": 77,
    "start_time": "2024-07-09T21:58:50.968Z"
   },
   {
    "duration": 49,
    "start_time": "2024-07-09T21:58:51.048Z"
   },
   {
    "duration": 41,
    "start_time": "2024-07-09T21:58:51.100Z"
   },
   {
    "duration": 46,
    "start_time": "2024-07-09T21:58:51.144Z"
   },
   {
    "duration": 95,
    "start_time": "2024-07-09T21:58:51.193Z"
   },
   {
    "duration": 53,
    "start_time": "2024-07-09T21:58:51.291Z"
   },
   {
    "duration": 139,
    "start_time": "2024-07-09T21:58:51.347Z"
   },
   {
    "duration": 384,
    "start_time": "2024-07-09T21:58:51.489Z"
   },
   {
    "duration": 490,
    "start_time": "2024-07-09T21:58:51.875Z"
   },
   {
    "duration": 17,
    "start_time": "2024-07-09T21:58:52.369Z"
   },
   {
    "duration": 251,
    "start_time": "2024-07-09T21:58:52.390Z"
   },
   {
    "duration": 359,
    "start_time": "2024-07-09T21:58:52.647Z"
   },
   {
    "duration": 334,
    "start_time": "2024-07-09T21:58:53.008Z"
   },
   {
    "duration": 25,
    "start_time": "2024-07-09T21:58:53.345Z"
   },
   {
    "duration": 1256,
    "start_time": "2024-07-09T21:58:53.373Z"
   },
   {
    "duration": 1363,
    "start_time": "2024-07-09T22:06:16.097Z"
   },
   {
    "duration": 367,
    "start_time": "2024-07-09T22:06:17.464Z"
   },
   {
    "duration": 42,
    "start_time": "2024-07-09T22:06:17.834Z"
   },
   {
    "duration": 30,
    "start_time": "2024-07-09T22:06:17.882Z"
   },
   {
    "duration": 20,
    "start_time": "2024-07-09T22:06:17.916Z"
   },
   {
    "duration": 13,
    "start_time": "2024-07-09T22:06:17.940Z"
   },
   {
    "duration": 61,
    "start_time": "2024-07-09T22:06:17.956Z"
   },
   {
    "duration": 9,
    "start_time": "2024-07-09T22:06:18.021Z"
   },
   {
    "duration": 99,
    "start_time": "2024-07-09T22:06:18.034Z"
   },
   {
    "duration": 23,
    "start_time": "2024-07-09T22:06:18.140Z"
   },
   {
    "duration": 8,
    "start_time": "2024-07-09T22:06:18.166Z"
   },
   {
    "duration": 89,
    "start_time": "2024-07-09T22:06:18.177Z"
   },
   {
    "duration": 41,
    "start_time": "2024-07-09T22:06:18.269Z"
   },
   {
    "duration": 8,
    "start_time": "2024-07-09T22:06:18.313Z"
   },
   {
    "duration": 82,
    "start_time": "2024-07-09T22:06:18.329Z"
   },
   {
    "duration": 8,
    "start_time": "2024-07-09T22:06:18.414Z"
   },
   {
    "duration": 59,
    "start_time": "2024-07-09T22:06:18.427Z"
   },
   {
    "duration": 62,
    "start_time": "2024-07-09T22:06:18.489Z"
   },
   {
    "duration": 45,
    "start_time": "2024-07-09T22:06:18.557Z"
   },
   {
    "duration": 53,
    "start_time": "2024-07-09T22:06:18.605Z"
   },
   {
    "duration": 112,
    "start_time": "2024-07-09T22:06:18.662Z"
   },
   {
    "duration": 62,
    "start_time": "2024-07-09T22:06:18.777Z"
   },
   {
    "duration": 168,
    "start_time": "2024-07-09T22:06:18.841Z"
   },
   {
    "duration": 399,
    "start_time": "2024-07-09T22:06:19.012Z"
   },
   {
    "duration": 514,
    "start_time": "2024-07-09T22:06:19.415Z"
   },
   {
    "duration": 20,
    "start_time": "2024-07-09T22:06:19.932Z"
   },
   {
    "duration": 270,
    "start_time": "2024-07-09T22:06:19.955Z"
   },
   {
    "duration": 360,
    "start_time": "2024-07-09T22:06:20.234Z"
   },
   {
    "duration": 351,
    "start_time": "2024-07-09T22:06:20.598Z"
   },
   {
    "duration": 30,
    "start_time": "2024-07-09T22:06:20.953Z"
   },
   {
    "duration": 1383,
    "start_time": "2024-07-09T22:06:20.986Z"
   },
   {
    "duration": 1378,
    "start_time": "2024-07-09T22:09:47.289Z"
   },
   {
    "duration": 417,
    "start_time": "2024-07-09T22:09:48.671Z"
   },
   {
    "duration": 52,
    "start_time": "2024-07-09T22:09:49.092Z"
   },
   {
    "duration": 8,
    "start_time": "2024-07-09T22:09:49.148Z"
   },
   {
    "duration": 46,
    "start_time": "2024-07-09T22:09:49.162Z"
   },
   {
    "duration": 11,
    "start_time": "2024-07-09T22:09:49.212Z"
   },
   {
    "duration": 33,
    "start_time": "2024-07-09T22:09:49.227Z"
   },
   {
    "duration": 8,
    "start_time": "2024-07-09T22:09:49.263Z"
   },
   {
    "duration": 107,
    "start_time": "2024-07-09T22:09:49.274Z"
   },
   {
    "duration": 43,
    "start_time": "2024-07-09T22:09:49.385Z"
   },
   {
    "duration": 8,
    "start_time": "2024-07-09T22:09:49.433Z"
   },
   {
    "duration": 88,
    "start_time": "2024-07-09T22:09:49.444Z"
   },
   {
    "duration": 32,
    "start_time": "2024-07-09T22:09:49.535Z"
   },
   {
    "duration": 8,
    "start_time": "2024-07-09T22:09:49.575Z"
   },
   {
    "duration": 58,
    "start_time": "2024-07-09T22:09:49.609Z"
   },
   {
    "duration": 11,
    "start_time": "2024-07-09T22:09:49.670Z"
   },
   {
    "duration": 58,
    "start_time": "2024-07-09T22:09:49.708Z"
   },
   {
    "duration": 59,
    "start_time": "2024-07-09T22:09:49.769Z"
   },
   {
    "duration": 44,
    "start_time": "2024-07-09T22:09:49.831Z"
   },
   {
    "duration": 50,
    "start_time": "2024-07-09T22:09:49.879Z"
   },
   {
    "duration": 116,
    "start_time": "2024-07-09T22:09:49.933Z"
   },
   {
    "duration": 63,
    "start_time": "2024-07-09T22:09:50.053Z"
   },
   {
    "duration": 141,
    "start_time": "2024-07-09T22:09:50.121Z"
   },
   {
    "duration": 401,
    "start_time": "2024-07-09T22:09:50.267Z"
   },
   {
    "duration": 538,
    "start_time": "2024-07-09T22:09:50.671Z"
   },
   {
    "duration": 20,
    "start_time": "2024-07-09T22:09:51.213Z"
   },
   {
    "duration": 267,
    "start_time": "2024-07-09T22:09:51.237Z"
   },
   {
    "duration": 376,
    "start_time": "2024-07-09T22:09:51.510Z"
   },
   {
    "duration": 340,
    "start_time": "2024-07-09T22:09:51.889Z"
   },
   {
    "duration": 32,
    "start_time": "2024-07-09T22:09:52.232Z"
   },
   {
    "duration": 203,
    "start_time": "2024-07-09T22:09:52.267Z"
   },
   {
    "duration": 1308,
    "start_time": "2024-07-09T22:10:38.722Z"
   },
   {
    "duration": 381,
    "start_time": "2024-07-09T22:10:40.034Z"
   },
   {
    "duration": 42,
    "start_time": "2024-07-09T22:10:40.421Z"
   },
   {
    "duration": 8,
    "start_time": "2024-07-09T22:10:40.468Z"
   },
   {
    "duration": 38,
    "start_time": "2024-07-09T22:10:40.480Z"
   },
   {
    "duration": 11,
    "start_time": "2024-07-09T22:10:40.521Z"
   },
   {
    "duration": 35,
    "start_time": "2024-07-09T22:10:40.536Z"
   },
   {
    "duration": 8,
    "start_time": "2024-07-09T22:10:40.610Z"
   },
   {
    "duration": 96,
    "start_time": "2024-07-09T22:10:40.622Z"
   },
   {
    "duration": 23,
    "start_time": "2024-07-09T22:10:40.726Z"
   },
   {
    "duration": 13,
    "start_time": "2024-07-09T22:10:40.752Z"
   },
   {
    "duration": 82,
    "start_time": "2024-07-09T22:10:40.769Z"
   },
   {
    "duration": 23,
    "start_time": "2024-07-09T22:10:40.856Z"
   },
   {
    "duration": 28,
    "start_time": "2024-07-09T22:10:40.882Z"
   },
   {
    "duration": 60,
    "start_time": "2024-07-09T22:10:40.914Z"
   },
   {
    "duration": 34,
    "start_time": "2024-07-09T22:10:40.977Z"
   },
   {
    "duration": 57,
    "start_time": "2024-07-09T22:10:41.014Z"
   },
   {
    "duration": 72,
    "start_time": "2024-07-09T22:10:41.075Z"
   },
   {
    "duration": 45,
    "start_time": "2024-07-09T22:10:41.150Z"
   },
   {
    "duration": 61,
    "start_time": "2024-07-09T22:10:41.198Z"
   },
   {
    "duration": 114,
    "start_time": "2024-07-09T22:10:41.263Z"
   },
   {
    "duration": 57,
    "start_time": "2024-07-09T22:10:41.380Z"
   },
   {
    "duration": 153,
    "start_time": "2024-07-09T22:10:41.440Z"
   },
   {
    "duration": 388,
    "start_time": "2024-07-09T22:10:41.596Z"
   },
   {
    "duration": 523,
    "start_time": "2024-07-09T22:10:41.988Z"
   },
   {
    "duration": 21,
    "start_time": "2024-07-09T22:10:42.514Z"
   },
   {
    "duration": 283,
    "start_time": "2024-07-09T22:10:42.539Z"
   },
   {
    "duration": 372,
    "start_time": "2024-07-09T22:10:42.830Z"
   },
   {
    "duration": 347,
    "start_time": "2024-07-09T22:10:43.205Z"
   },
   {
    "duration": 27,
    "start_time": "2024-07-09T22:10:43.556Z"
   },
   {
    "duration": 184,
    "start_time": "2024-07-09T22:10:43.586Z"
   },
   {
    "duration": 25,
    "start_time": "2024-07-09T22:13:08.002Z"
   },
   {
    "duration": 1446,
    "start_time": "2024-07-09T22:16:04.722Z"
   },
   {
    "duration": 366,
    "start_time": "2024-07-09T22:16:06.173Z"
   },
   {
    "duration": 42,
    "start_time": "2024-07-09T22:16:06.543Z"
   },
   {
    "duration": 26,
    "start_time": "2024-07-09T22:16:06.589Z"
   },
   {
    "duration": 19,
    "start_time": "2024-07-09T22:16:06.621Z"
   },
   {
    "duration": 14,
    "start_time": "2024-07-09T22:16:06.643Z"
   },
   {
    "duration": 80,
    "start_time": "2024-07-09T22:16:06.661Z"
   },
   {
    "duration": 13,
    "start_time": "2024-07-09T22:16:06.745Z"
   },
   {
    "duration": 106,
    "start_time": "2024-07-09T22:16:06.763Z"
   },
   {
    "duration": 36,
    "start_time": "2024-07-09T22:16:06.872Z"
   },
   {
    "duration": 7,
    "start_time": "2024-07-09T22:16:06.912Z"
   },
   {
    "duration": 60,
    "start_time": "2024-07-09T22:16:06.924Z"
   },
   {
    "duration": 30,
    "start_time": "2024-07-09T22:16:07.010Z"
   },
   {
    "duration": 10,
    "start_time": "2024-07-09T22:16:07.048Z"
   },
   {
    "duration": 94,
    "start_time": "2024-07-09T22:16:07.061Z"
   },
   {
    "duration": 8,
    "start_time": "2024-07-09T22:16:07.158Z"
   },
   {
    "duration": 79,
    "start_time": "2024-07-09T22:16:07.169Z"
   },
   {
    "duration": 69,
    "start_time": "2024-07-09T22:16:07.252Z"
   },
   {
    "duration": 61,
    "start_time": "2024-07-09T22:16:07.325Z"
   },
   {
    "duration": 57,
    "start_time": "2024-07-09T22:16:07.389Z"
   },
   {
    "duration": 130,
    "start_time": "2024-07-09T22:16:07.449Z"
   },
   {
    "duration": 64,
    "start_time": "2024-07-09T22:16:07.582Z"
   },
   {
    "duration": 177,
    "start_time": "2024-07-09T22:16:07.649Z"
   },
   {
    "duration": 424,
    "start_time": "2024-07-09T22:16:07.829Z"
   },
   {
    "duration": 526,
    "start_time": "2024-07-09T22:16:08.257Z"
   },
   {
    "duration": 33,
    "start_time": "2024-07-09T22:16:08.787Z"
   },
   {
    "duration": 275,
    "start_time": "2024-07-09T22:16:08.826Z"
   },
   {
    "duration": 377,
    "start_time": "2024-07-09T22:16:09.105Z"
   },
   {
    "duration": 332,
    "start_time": "2024-07-09T22:16:09.486Z"
   },
   {
    "duration": 27,
    "start_time": "2024-07-09T22:16:09.821Z"
   },
   {
    "duration": 227,
    "start_time": "2024-07-09T22:16:09.852Z"
   },
   {
    "duration": 334,
    "start_time": "2024-07-10T03:34:43.151Z"
   },
   {
    "duration": 4914,
    "start_time": "2024-07-10T03:34:52.738Z"
   },
   {
    "duration": 441,
    "start_time": "2024-07-10T03:34:57.656Z"
   },
   {
    "duration": 49,
    "start_time": "2024-07-10T03:34:58.101Z"
   },
   {
    "duration": 8,
    "start_time": "2024-07-10T03:34:58.153Z"
   },
   {
    "duration": 13,
    "start_time": "2024-07-10T03:34:58.167Z"
   },
   {
    "duration": 40,
    "start_time": "2024-07-10T03:34:58.183Z"
   },
   {
    "duration": 26,
    "start_time": "2024-07-10T03:34:58.227Z"
   },
   {
    "duration": 10,
    "start_time": "2024-07-10T03:34:58.256Z"
   },
   {
    "duration": 106,
    "start_time": "2024-07-10T03:34:58.270Z"
   },
   {
    "duration": 21,
    "start_time": "2024-07-10T03:34:58.379Z"
   },
   {
    "duration": 7,
    "start_time": "2024-07-10T03:34:58.423Z"
   },
   {
    "duration": 46,
    "start_time": "2024-07-10T03:34:58.433Z"
   },
   {
    "duration": 47,
    "start_time": "2024-07-10T03:34:58.482Z"
   },
   {
    "duration": 6,
    "start_time": "2024-07-10T03:34:58.535Z"
   },
   {
    "duration": 84,
    "start_time": "2024-07-10T03:34:58.544Z"
   },
   {
    "duration": 8,
    "start_time": "2024-07-10T03:34:58.632Z"
   },
   {
    "duration": 67,
    "start_time": "2024-07-10T03:34:58.643Z"
   },
   {
    "duration": 69,
    "start_time": "2024-07-10T03:34:58.713Z"
   },
   {
    "duration": 53,
    "start_time": "2024-07-10T03:34:58.785Z"
   },
   {
    "duration": 61,
    "start_time": "2024-07-10T03:34:58.841Z"
   },
   {
    "duration": 110,
    "start_time": "2024-07-10T03:34:58.905Z"
   },
   {
    "duration": 68,
    "start_time": "2024-07-10T03:34:59.018Z"
   },
   {
    "duration": 149,
    "start_time": "2024-07-10T03:34:59.090Z"
   },
   {
    "duration": 373,
    "start_time": "2024-07-10T03:34:59.242Z"
   },
   {
    "duration": 536,
    "start_time": "2024-07-10T03:34:59.618Z"
   },
   {
    "duration": 17,
    "start_time": "2024-07-10T03:35:00.158Z"
   },
   {
    "duration": 256,
    "start_time": "2024-07-10T03:35:00.178Z"
   },
   {
    "duration": 363,
    "start_time": "2024-07-10T03:35:00.437Z"
   },
   {
    "duration": 351,
    "start_time": "2024-07-10T03:35:00.803Z"
   },
   {
    "duration": 25,
    "start_time": "2024-07-10T03:35:01.159Z"
   },
   {
    "duration": 200,
    "start_time": "2024-07-10T03:35:01.187Z"
   },
   {
    "duration": 5168,
    "start_time": "2024-07-10T21:41:26.884Z"
   },
   {
    "duration": 430,
    "start_time": "2024-07-10T21:41:32.055Z"
   },
   {
    "duration": 58,
    "start_time": "2024-07-10T21:41:32.487Z"
   },
   {
    "duration": 8,
    "start_time": "2024-07-10T21:41:32.550Z"
   },
   {
    "duration": 14,
    "start_time": "2024-07-10T21:41:32.561Z"
   },
   {
    "duration": 8,
    "start_time": "2024-07-10T21:41:32.611Z"
   },
   {
    "duration": 10,
    "start_time": "2024-07-10T21:41:32.623Z"
   },
   {
    "duration": 28,
    "start_time": "2024-07-10T21:41:32.641Z"
   },
   {
    "duration": 37,
    "start_time": "2024-07-10T21:41:32.673Z"
   },
   {
    "duration": 99,
    "start_time": "2024-07-10T21:41:32.716Z"
   },
   {
    "duration": 21,
    "start_time": "2024-07-10T21:41:32.818Z"
   },
   {
    "duration": 7,
    "start_time": "2024-07-10T21:41:32.845Z"
   },
   {
    "duration": 107,
    "start_time": "2024-07-10T21:41:32.855Z"
   },
   {
    "duration": 22,
    "start_time": "2024-07-10T21:41:32.964Z"
   },
   {
    "duration": 25,
    "start_time": "2024-07-10T21:41:32.989Z"
   },
   {
    "duration": 117,
    "start_time": "2024-07-10T21:41:33.018Z"
   },
   {
    "duration": 8,
    "start_time": "2024-07-10T21:41:33.138Z"
   },
   {
    "duration": 66,
    "start_time": "2024-07-10T21:41:33.149Z"
   },
   {
    "duration": 61,
    "start_time": "2024-07-10T21:41:33.218Z"
   },
   {
    "duration": 50,
    "start_time": "2024-07-10T21:41:33.281Z"
   },
   {
    "duration": 58,
    "start_time": "2024-07-10T21:41:33.334Z"
   },
   {
    "duration": 112,
    "start_time": "2024-07-10T21:41:33.395Z"
   },
   {
    "duration": 71,
    "start_time": "2024-07-10T21:41:33.509Z"
   },
   {
    "duration": 149,
    "start_time": "2024-07-10T21:41:33.583Z"
   },
   {
    "duration": 385,
    "start_time": "2024-07-10T21:41:33.734Z"
   },
   {
    "duration": 472,
    "start_time": "2024-07-10T21:41:34.123Z"
   },
   {
    "duration": 19,
    "start_time": "2024-07-10T21:41:34.600Z"
   },
   {
    "duration": 261,
    "start_time": "2024-07-10T21:41:34.627Z"
   },
   {
    "duration": 363,
    "start_time": "2024-07-10T21:41:34.891Z"
   },
   {
    "duration": 409,
    "start_time": "2024-07-10T21:41:35.258Z"
   },
   {
    "duration": 25,
    "start_time": "2024-07-10T21:41:35.670Z"
   },
   {
    "duration": 188,
    "start_time": "2024-07-10T21:41:35.709Z"
   },
   {
    "duration": 1349,
    "start_time": "2024-07-10T21:44:41.894Z"
   },
   {
    "duration": 269,
    "start_time": "2024-07-10T21:44:43.247Z"
   },
   {
    "duration": 44,
    "start_time": "2024-07-10T21:44:43.519Z"
   },
   {
    "duration": 8,
    "start_time": "2024-07-10T21:44:43.567Z"
   },
   {
    "duration": 36,
    "start_time": "2024-07-10T21:44:43.581Z"
   },
   {
    "duration": 9,
    "start_time": "2024-07-10T21:44:43.620Z"
   },
   {
    "duration": 8,
    "start_time": "2024-07-10T21:44:43.632Z"
   },
   {
    "duration": 25,
    "start_time": "2024-07-10T21:44:43.644Z"
   },
   {
    "duration": 8,
    "start_time": "2024-07-10T21:44:43.709Z"
   },
   {
    "duration": 103,
    "start_time": "2024-07-10T21:44:43.723Z"
   },
   {
    "duration": 20,
    "start_time": "2024-07-10T21:44:43.829Z"
   },
   {
    "duration": 7,
    "start_time": "2024-07-10T21:44:43.853Z"
   },
   {
    "duration": 117,
    "start_time": "2024-07-10T21:44:43.863Z"
   },
   {
    "duration": 39,
    "start_time": "2024-07-10T21:44:43.987Z"
   },
   {
    "duration": 7,
    "start_time": "2024-07-10T21:44:44.032Z"
   },
   {
    "duration": 112,
    "start_time": "2024-07-10T21:44:44.042Z"
   },
   {
    "duration": 7,
    "start_time": "2024-07-10T21:44:44.158Z"
   },
   {
    "duration": 80,
    "start_time": "2024-07-10T21:44:44.169Z"
   },
   {
    "duration": 50,
    "start_time": "2024-07-10T21:44:44.251Z"
   },
   {
    "duration": 43,
    "start_time": "2024-07-10T21:44:44.304Z"
   },
   {
    "duration": 50,
    "start_time": "2024-07-10T21:44:44.350Z"
   },
   {
    "duration": 103,
    "start_time": "2024-07-10T21:44:44.404Z"
   },
   {
    "duration": 61,
    "start_time": "2024-07-10T21:44:44.512Z"
   },
   {
    "duration": 150,
    "start_time": "2024-07-10T21:44:44.576Z"
   },
   {
    "duration": 389,
    "start_time": "2024-07-10T21:44:44.729Z"
   },
   {
    "duration": 513,
    "start_time": "2024-07-10T21:44:45.121Z"
   },
   {
    "duration": 16,
    "start_time": "2024-07-10T21:44:45.637Z"
   },
   {
    "duration": 260,
    "start_time": "2024-07-10T21:44:45.659Z"
   },
   {
    "duration": 345,
    "start_time": "2024-07-10T21:44:45.921Z"
   },
   {
    "duration": 324,
    "start_time": "2024-07-10T21:44:46.269Z"
   },
   {
    "duration": 31,
    "start_time": "2024-07-10T21:44:46.610Z"
   },
   {
    "duration": 183,
    "start_time": "2024-07-10T21:44:46.644Z"
   },
   {
    "duration": 1299,
    "start_time": "2024-07-10T21:50:32.990Z"
   },
   {
    "duration": 274,
    "start_time": "2024-07-10T21:50:34.292Z"
   },
   {
    "duration": 72,
    "start_time": "2024-07-10T21:50:34.569Z"
   },
   {
    "duration": 8,
    "start_time": "2024-07-10T21:50:34.645Z"
   },
   {
    "duration": 14,
    "start_time": "2024-07-10T21:50:34.656Z"
   },
   {
    "duration": 36,
    "start_time": "2024-07-10T21:50:34.673Z"
   },
   {
    "duration": 11,
    "start_time": "2024-07-10T21:50:34.712Z"
   },
   {
    "duration": 26,
    "start_time": "2024-07-10T21:50:34.726Z"
   },
   {
    "duration": 8,
    "start_time": "2024-07-10T21:50:34.754Z"
   },
   {
    "duration": 85,
    "start_time": "2024-07-10T21:50:34.812Z"
   },
   {
    "duration": 27,
    "start_time": "2024-07-10T21:50:34.909Z"
   },
   {
    "duration": 7,
    "start_time": "2024-07-10T21:50:34.941Z"
   },
   {
    "duration": 64,
    "start_time": "2024-07-10T21:50:34.952Z"
   },
   {
    "duration": 24,
    "start_time": "2024-07-10T21:50:35.019Z"
   },
   {
    "duration": 49,
    "start_time": "2024-07-10T21:50:35.046Z"
   },
   {
    "duration": 62,
    "start_time": "2024-07-10T21:50:35.098Z"
   },
   {
    "duration": 8,
    "start_time": "2024-07-10T21:50:35.163Z"
   },
   {
    "duration": 80,
    "start_time": "2024-07-10T21:50:35.175Z"
   },
   {
    "duration": 51,
    "start_time": "2024-07-10T21:50:35.257Z"
   },
   {
    "duration": 1114,
    "start_time": "2024-07-10T21:50:35.310Z"
   },
   {
    "duration": 0,
    "start_time": "2024-07-10T21:50:36.427Z"
   },
   {
    "duration": 0,
    "start_time": "2024-07-10T21:50:36.429Z"
   },
   {
    "duration": 0,
    "start_time": "2024-07-10T21:50:36.432Z"
   },
   {
    "duration": 0,
    "start_time": "2024-07-10T21:50:36.434Z"
   },
   {
    "duration": 0,
    "start_time": "2024-07-10T21:50:36.436Z"
   },
   {
    "duration": 0,
    "start_time": "2024-07-10T21:50:36.438Z"
   },
   {
    "duration": 0,
    "start_time": "2024-07-10T21:50:36.440Z"
   },
   {
    "duration": 0,
    "start_time": "2024-07-10T21:50:36.441Z"
   },
   {
    "duration": 0,
    "start_time": "2024-07-10T21:50:36.443Z"
   },
   {
    "duration": 0,
    "start_time": "2024-07-10T21:50:36.445Z"
   },
   {
    "duration": 0,
    "start_time": "2024-07-10T21:50:36.446Z"
   },
   {
    "duration": 0,
    "start_time": "2024-07-10T21:50:36.449Z"
   },
   {
    "duration": 23,
    "start_time": "2024-07-10T22:01:33.363Z"
   },
   {
    "duration": 69,
    "start_time": "2024-07-10T22:03:27.142Z"
   },
   {
    "duration": 150,
    "start_time": "2024-07-10T22:04:15.317Z"
   },
   {
    "duration": 1251,
    "start_time": "2024-07-10T22:12:49.866Z"
   },
   {
    "duration": 263,
    "start_time": "2024-07-10T22:12:51.120Z"
   },
   {
    "duration": 50,
    "start_time": "2024-07-10T22:12:51.386Z"
   },
   {
    "duration": 8,
    "start_time": "2024-07-10T22:12:51.442Z"
   },
   {
    "duration": 15,
    "start_time": "2024-07-10T22:12:51.454Z"
   },
   {
    "duration": 42,
    "start_time": "2024-07-10T22:12:51.473Z"
   },
   {
    "duration": 20,
    "start_time": "2024-07-10T22:12:51.518Z"
   },
   {
    "duration": 25,
    "start_time": "2024-07-10T22:12:51.540Z"
   },
   {
    "duration": 8,
    "start_time": "2024-07-10T22:12:51.608Z"
   },
   {
    "duration": 98,
    "start_time": "2024-07-10T22:12:51.622Z"
   },
   {
    "duration": 22,
    "start_time": "2024-07-10T22:12:51.723Z"
   },
   {
    "duration": 7,
    "start_time": "2024-07-10T22:12:51.749Z"
   },
   {
    "duration": 89,
    "start_time": "2024-07-10T22:12:51.759Z"
   },
   {
    "duration": 22,
    "start_time": "2024-07-10T22:12:51.851Z"
   },
   {
    "duration": 7,
    "start_time": "2024-07-10T22:12:51.876Z"
   },
   {
    "duration": 79,
    "start_time": "2024-07-10T22:12:51.885Z"
   },
   {
    "duration": 8,
    "start_time": "2024-07-10T22:12:51.967Z"
   },
   {
    "duration": 56,
    "start_time": "2024-07-10T22:12:52.011Z"
   },
   {
    "duration": 55,
    "start_time": "2024-07-10T22:12:52.070Z"
   },
   {
    "duration": 44,
    "start_time": "2024-07-10T22:12:52.128Z"
   },
   {
    "duration": 1104,
    "start_time": "2024-07-10T22:12:52.175Z"
   },
   {
    "duration": 0,
    "start_time": "2024-07-10T22:12:53.282Z"
   },
   {
    "duration": 0,
    "start_time": "2024-07-10T22:12:53.284Z"
   },
   {
    "duration": 0,
    "start_time": "2024-07-10T22:12:53.286Z"
   },
   {
    "duration": 0,
    "start_time": "2024-07-10T22:12:53.288Z"
   },
   {
    "duration": 0,
    "start_time": "2024-07-10T22:12:53.309Z"
   },
   {
    "duration": 0,
    "start_time": "2024-07-10T22:12:53.311Z"
   },
   {
    "duration": 0,
    "start_time": "2024-07-10T22:12:53.313Z"
   },
   {
    "duration": 1,
    "start_time": "2024-07-10T22:12:53.316Z"
   },
   {
    "duration": 0,
    "start_time": "2024-07-10T22:12:53.319Z"
   },
   {
    "duration": 0,
    "start_time": "2024-07-10T22:12:53.321Z"
   },
   {
    "duration": 0,
    "start_time": "2024-07-10T22:12:53.324Z"
   },
   {
    "duration": 1278,
    "start_time": "2024-07-10T22:14:07.825Z"
   },
   {
    "duration": 259,
    "start_time": "2024-07-10T22:14:09.109Z"
   },
   {
    "duration": 49,
    "start_time": "2024-07-10T22:14:09.370Z"
   },
   {
    "duration": 9,
    "start_time": "2024-07-10T22:14:09.422Z"
   },
   {
    "duration": 16,
    "start_time": "2024-07-10T22:14:09.437Z"
   },
   {
    "duration": 8,
    "start_time": "2024-07-10T22:14:09.456Z"
   },
   {
    "duration": 19,
    "start_time": "2024-07-10T22:14:09.508Z"
   },
   {
    "duration": 26,
    "start_time": "2024-07-10T22:14:09.530Z"
   },
   {
    "duration": 8,
    "start_time": "2024-07-10T22:14:09.558Z"
   },
   {
    "duration": 123,
    "start_time": "2024-07-10T22:14:09.569Z"
   },
   {
    "duration": 36,
    "start_time": "2024-07-10T22:14:09.696Z"
   },
   {
    "duration": 9,
    "start_time": "2024-07-10T22:14:09.736Z"
   },
   {
    "duration": 91,
    "start_time": "2024-07-10T22:14:09.748Z"
   },
   {
    "duration": 26,
    "start_time": "2024-07-10T22:14:09.847Z"
   },
   {
    "duration": 8,
    "start_time": "2024-07-10T22:14:09.876Z"
   },
   {
    "duration": 80,
    "start_time": "2024-07-10T22:14:09.909Z"
   },
   {
    "duration": 20,
    "start_time": "2024-07-10T22:14:09.992Z"
   },
   {
    "duration": 53,
    "start_time": "2024-07-10T22:14:10.015Z"
   },
   {
    "duration": 49,
    "start_time": "2024-07-10T22:14:10.071Z"
   },
   {
    "duration": 41,
    "start_time": "2024-07-10T22:14:10.123Z"
   },
   {
    "duration": 45,
    "start_time": "2024-07-10T22:14:10.167Z"
   },
   {
    "duration": 101,
    "start_time": "2024-07-10T22:14:10.217Z"
   },
   {
    "duration": 65,
    "start_time": "2024-07-10T22:14:10.321Z"
   },
   {
    "duration": 145,
    "start_time": "2024-07-10T22:14:10.389Z"
   },
   {
    "duration": 402,
    "start_time": "2024-07-10T22:14:10.537Z"
   },
   {
    "duration": 496,
    "start_time": "2024-07-10T22:14:10.942Z"
   },
   {
    "duration": 17,
    "start_time": "2024-07-10T22:14:11.441Z"
   },
   {
    "duration": 254,
    "start_time": "2024-07-10T22:14:11.461Z"
   },
   {
    "duration": 371,
    "start_time": "2024-07-10T22:14:11.719Z"
   },
   {
    "duration": 324,
    "start_time": "2024-07-10T22:14:12.094Z"
   },
   {
    "duration": 27,
    "start_time": "2024-07-10T22:14:12.421Z"
   },
   {
    "duration": 188,
    "start_time": "2024-07-10T22:14:12.451Z"
   },
   {
    "duration": 62,
    "start_time": "2024-07-10T22:17:54.590Z"
   },
   {
    "duration": 63,
    "start_time": "2024-07-10T22:18:16.782Z"
   },
   {
    "duration": 1370,
    "start_time": "2024-07-10T22:37:05.200Z"
   },
   {
    "duration": 290,
    "start_time": "2024-07-10T22:37:06.574Z"
   },
   {
    "duration": 46,
    "start_time": "2024-07-10T22:37:06.867Z"
   },
   {
    "duration": 9,
    "start_time": "2024-07-10T22:37:06.917Z"
   },
   {
    "duration": 17,
    "start_time": "2024-07-10T22:37:06.929Z"
   },
   {
    "duration": 9,
    "start_time": "2024-07-10T22:37:06.951Z"
   },
   {
    "duration": 56,
    "start_time": "2024-07-10T22:37:06.963Z"
   },
   {
    "duration": 25,
    "start_time": "2024-07-10T22:37:07.022Z"
   },
   {
    "duration": 7,
    "start_time": "2024-07-10T22:37:07.050Z"
   },
   {
    "duration": 121,
    "start_time": "2024-07-10T22:37:07.065Z"
   },
   {
    "duration": 34,
    "start_time": "2024-07-10T22:37:07.189Z"
   },
   {
    "duration": 7,
    "start_time": "2024-07-10T22:37:07.229Z"
   },
   {
    "duration": 92,
    "start_time": "2024-07-10T22:37:07.239Z"
   },
   {
    "duration": 30,
    "start_time": "2024-07-10T22:37:07.335Z"
   },
   {
    "duration": 9,
    "start_time": "2024-07-10T22:37:07.369Z"
   },
   {
    "duration": 115,
    "start_time": "2024-07-10T22:37:07.380Z"
   },
   {
    "duration": 17,
    "start_time": "2024-07-10T22:37:07.498Z"
   },
   {
    "duration": 62,
    "start_time": "2024-07-10T22:37:07.519Z"
   },
   {
    "duration": 63,
    "start_time": "2024-07-10T22:37:07.586Z"
   },
   {
    "duration": 43,
    "start_time": "2024-07-10T22:37:07.652Z"
   },
   {
    "duration": 48,
    "start_time": "2024-07-10T22:37:07.698Z"
   },
   {
    "duration": 102,
    "start_time": "2024-07-10T22:37:07.749Z"
   },
   {
    "duration": 58,
    "start_time": "2024-07-10T22:37:07.854Z"
   },
   {
    "duration": 141,
    "start_time": "2024-07-10T22:37:07.916Z"
   },
   {
    "duration": 375,
    "start_time": "2024-07-10T22:37:08.060Z"
   },
   {
    "duration": 520,
    "start_time": "2024-07-10T22:37:08.439Z"
   },
   {
    "duration": 16,
    "start_time": "2024-07-10T22:37:08.962Z"
   },
   {
    "duration": 252,
    "start_time": "2024-07-10T22:37:08.985Z"
   },
   {
    "duration": 354,
    "start_time": "2024-07-10T22:37:09.240Z"
   },
   {
    "duration": 343,
    "start_time": "2024-07-10T22:37:09.597Z"
   },
   {
    "duration": 26,
    "start_time": "2024-07-10T22:37:09.943Z"
   },
   {
    "duration": 185,
    "start_time": "2024-07-10T22:37:09.972Z"
   },
   {
    "duration": 4948,
    "start_time": "2024-07-11T14:03:40.870Z"
   },
   {
    "duration": 416,
    "start_time": "2024-07-11T14:03:45.822Z"
   },
   {
    "duration": 47,
    "start_time": "2024-07-11T14:03:46.241Z"
   },
   {
    "duration": 11,
    "start_time": "2024-07-11T14:03:46.293Z"
   },
   {
    "duration": 21,
    "start_time": "2024-07-11T14:03:46.307Z"
   },
   {
    "duration": 9,
    "start_time": "2024-07-11T14:03:46.331Z"
   },
   {
    "duration": 20,
    "start_time": "2024-07-11T14:03:46.343Z"
   },
   {
    "duration": 62,
    "start_time": "2024-07-11T14:03:46.367Z"
   },
   {
    "duration": 9,
    "start_time": "2024-07-11T14:03:46.432Z"
   },
   {
    "duration": 103,
    "start_time": "2024-07-11T14:03:46.447Z"
   },
   {
    "duration": 20,
    "start_time": "2024-07-11T14:03:46.553Z"
   },
   {
    "duration": 32,
    "start_time": "2024-07-11T14:03:46.576Z"
   },
   {
    "duration": 58,
    "start_time": "2024-07-11T14:03:46.612Z"
   },
   {
    "duration": 41,
    "start_time": "2024-07-11T14:03:46.673Z"
   },
   {
    "duration": 21,
    "start_time": "2024-07-11T14:03:46.717Z"
   },
   {
    "duration": 90,
    "start_time": "2024-07-11T14:03:46.742Z"
   },
   {
    "duration": 8,
    "start_time": "2024-07-11T14:03:46.835Z"
   },
   {
    "duration": 77,
    "start_time": "2024-07-11T14:03:46.846Z"
   },
   {
    "duration": 97,
    "start_time": "2024-07-11T14:03:46.939Z"
   },
   {
    "duration": 53,
    "start_time": "2024-07-11T14:03:47.043Z"
   },
   {
    "duration": 65,
    "start_time": "2024-07-11T14:03:47.099Z"
   },
   {
    "duration": 121,
    "start_time": "2024-07-11T14:03:47.167Z"
   },
   {
    "duration": 92,
    "start_time": "2024-07-11T14:03:47.291Z"
   },
   {
    "duration": 155,
    "start_time": "2024-07-11T14:03:47.386Z"
   },
   {
    "duration": 389,
    "start_time": "2024-07-11T14:03:47.543Z"
   },
   {
    "duration": 483,
    "start_time": "2024-07-11T14:03:47.934Z"
   },
   {
    "duration": 19,
    "start_time": "2024-07-11T14:03:48.419Z"
   },
   {
    "duration": 322,
    "start_time": "2024-07-11T14:03:48.445Z"
   },
   {
    "duration": 364,
    "start_time": "2024-07-11T14:03:48.771Z"
   },
   {
    "duration": 382,
    "start_time": "2024-07-11T14:03:49.138Z"
   },
   {
    "duration": 46,
    "start_time": "2024-07-11T14:03:49.523Z"
   },
   {
    "duration": 198,
    "start_time": "2024-07-11T14:03:49.572Z"
   },
   {
    "duration": 1288,
    "start_time": "2024-07-11T14:57:29.882Z"
   },
   {
    "duration": 282,
    "start_time": "2024-07-11T14:57:31.174Z"
   },
   {
    "duration": 66,
    "start_time": "2024-07-11T14:57:31.458Z"
   },
   {
    "duration": 11,
    "start_time": "2024-07-11T14:57:31.529Z"
   },
   {
    "duration": 16,
    "start_time": "2024-07-11T14:57:31.543Z"
   },
   {
    "duration": 47,
    "start_time": "2024-07-11T14:57:31.563Z"
   },
   {
    "duration": 20,
    "start_time": "2024-07-11T14:57:31.613Z"
   },
   {
    "duration": 79,
    "start_time": "2024-07-11T14:57:31.636Z"
   },
   {
    "duration": 8,
    "start_time": "2024-07-11T14:57:31.718Z"
   },
   {
    "duration": 128,
    "start_time": "2024-07-11T14:57:31.735Z"
   },
   {
    "duration": 38,
    "start_time": "2024-07-11T14:57:31.866Z"
   },
   {
    "duration": 8,
    "start_time": "2024-07-11T14:57:31.906Z"
   },
   {
    "duration": 101,
    "start_time": "2024-07-11T14:57:31.917Z"
   },
   {
    "duration": 26,
    "start_time": "2024-07-11T14:57:32.021Z"
   },
   {
    "duration": 9,
    "start_time": "2024-07-11T14:57:32.051Z"
   },
   {
    "duration": 76,
    "start_time": "2024-07-11T14:57:32.102Z"
   },
   {
    "duration": 25,
    "start_time": "2024-07-11T14:57:32.181Z"
   },
   {
    "duration": 58,
    "start_time": "2024-07-11T14:57:32.210Z"
   },
   {
    "duration": 75,
    "start_time": "2024-07-11T14:57:32.272Z"
   },
   {
    "duration": 46,
    "start_time": "2024-07-11T14:57:32.350Z"
   },
   {
    "duration": 44,
    "start_time": "2024-07-11T14:57:32.402Z"
   },
   {
    "duration": 98,
    "start_time": "2024-07-11T14:57:32.450Z"
   },
   {
    "duration": 59,
    "start_time": "2024-07-11T14:57:32.551Z"
   },
   {
    "duration": 158,
    "start_time": "2024-07-11T14:57:32.613Z"
   },
   {
    "duration": 380,
    "start_time": "2024-07-11T14:57:32.774Z"
   },
   {
    "duration": 514,
    "start_time": "2024-07-11T14:57:33.158Z"
   },
   {
    "duration": 36,
    "start_time": "2024-07-11T14:57:33.675Z"
   },
   {
    "duration": 257,
    "start_time": "2024-07-11T14:57:33.720Z"
   },
   {
    "duration": 349,
    "start_time": "2024-07-11T14:57:33.980Z"
   },
   {
    "duration": 352,
    "start_time": "2024-07-11T14:57:34.332Z"
   },
   {
    "duration": 27,
    "start_time": "2024-07-11T14:57:34.703Z"
   },
   {
    "duration": 202,
    "start_time": "2024-07-11T14:57:34.732Z"
   },
   {
    "duration": 25,
    "start_time": "2024-07-11T14:59:34.841Z"
   },
   {
    "duration": 22,
    "start_time": "2024-07-11T14:59:49.953Z"
   },
   {
    "duration": 4924,
    "start_time": "2024-07-14T16:53:58.230Z"
   },
   {
    "duration": 363,
    "start_time": "2024-07-14T16:54:03.157Z"
   },
   {
    "duration": 46,
    "start_time": "2024-07-14T16:54:03.523Z"
   },
   {
    "duration": 8,
    "start_time": "2024-07-14T16:54:03.573Z"
   },
   {
    "duration": 33,
    "start_time": "2024-07-14T16:54:03.584Z"
   },
   {
    "duration": 9,
    "start_time": "2024-07-14T16:54:03.621Z"
   },
   {
    "duration": 19,
    "start_time": "2024-07-14T16:54:03.633Z"
   },
   {
    "duration": 62,
    "start_time": "2024-07-14T16:54:03.656Z"
   },
   {
    "duration": 13,
    "start_time": "2024-07-14T16:54:03.721Z"
   },
   {
    "duration": 106,
    "start_time": "2024-07-14T16:54:03.741Z"
   },
   {
    "duration": 20,
    "start_time": "2024-07-14T16:54:03.850Z"
   },
   {
    "duration": 35,
    "start_time": "2024-07-14T16:54:03.873Z"
   },
   {
    "duration": 53,
    "start_time": "2024-07-14T16:54:03.911Z"
   },
   {
    "duration": 43,
    "start_time": "2024-07-14T16:54:03.967Z"
   },
   {
    "duration": 7,
    "start_time": "2024-07-14T16:54:04.013Z"
   },
   {
    "duration": 106,
    "start_time": "2024-07-14T16:54:04.023Z"
   },
   {
    "duration": 9,
    "start_time": "2024-07-14T16:54:04.132Z"
   },
   {
    "duration": 70,
    "start_time": "2024-07-14T16:54:04.145Z"
   },
   {
    "duration": 64,
    "start_time": "2024-07-14T16:54:04.219Z"
   },
   {
    "duration": 51,
    "start_time": "2024-07-14T16:54:04.286Z"
   },
   {
    "duration": 55,
    "start_time": "2024-07-14T16:54:04.340Z"
   },
   {
    "duration": 110,
    "start_time": "2024-07-14T16:54:04.397Z"
   },
   {
    "duration": 73,
    "start_time": "2024-07-14T16:54:04.510Z"
   },
   {
    "duration": 160,
    "start_time": "2024-07-14T16:54:04.587Z"
   },
   {
    "duration": 384,
    "start_time": "2024-07-14T16:54:04.750Z"
   },
   {
    "duration": 454,
    "start_time": "2024-07-14T16:54:05.139Z"
   },
   {
    "duration": 18,
    "start_time": "2024-07-14T16:54:05.608Z"
   },
   {
    "duration": 242,
    "start_time": "2024-07-14T16:54:05.634Z"
   },
   {
    "duration": 375,
    "start_time": "2024-07-14T16:54:05.879Z"
   },
   {
    "duration": 357,
    "start_time": "2024-07-14T16:54:06.259Z"
   },
   {
    "duration": 24,
    "start_time": "2024-07-14T16:54:06.619Z"
   },
   {
    "duration": 261,
    "start_time": "2024-07-14T16:54:06.646Z"
   },
   {
    "duration": 1266,
    "start_time": "2024-07-14T17:01:13.275Z"
   },
   {
    "duration": 298,
    "start_time": "2024-07-14T17:01:14.545Z"
   },
   {
    "duration": 46,
    "start_time": "2024-07-14T17:01:14.846Z"
   },
   {
    "duration": 14,
    "start_time": "2024-07-14T17:01:14.910Z"
   },
   {
    "duration": 16,
    "start_time": "2024-07-14T17:01:14.930Z"
   },
   {
    "duration": 9,
    "start_time": "2024-07-14T17:01:14.949Z"
   },
   {
    "duration": 63,
    "start_time": "2024-07-14T17:01:14.962Z"
   },
   {
    "duration": 25,
    "start_time": "2024-07-14T17:01:15.028Z"
   },
   {
    "duration": 8,
    "start_time": "2024-07-14T17:01:15.056Z"
   },
   {
    "duration": 111,
    "start_time": "2024-07-14T17:01:15.068Z"
   },
   {
    "duration": 33,
    "start_time": "2024-07-14T17:01:15.182Z"
   },
   {
    "duration": 15,
    "start_time": "2024-07-14T17:01:15.218Z"
   },
   {
    "duration": 74,
    "start_time": "2024-07-14T17:01:15.236Z"
   },
   {
    "duration": 24,
    "start_time": "2024-07-14T17:01:15.317Z"
   },
   {
    "duration": 9,
    "start_time": "2024-07-14T17:01:15.344Z"
   },
   {
    "duration": 562,
    "start_time": "2024-07-14T17:01:15.356Z"
   },
   {
    "duration": 0,
    "start_time": "2024-07-14T17:01:15.922Z"
   },
   {
    "duration": 0,
    "start_time": "2024-07-14T17:01:15.923Z"
   },
   {
    "duration": 0,
    "start_time": "2024-07-14T17:01:15.925Z"
   },
   {
    "duration": 0,
    "start_time": "2024-07-14T17:01:15.930Z"
   },
   {
    "duration": 0,
    "start_time": "2024-07-14T17:01:15.931Z"
   },
   {
    "duration": 0,
    "start_time": "2024-07-14T17:01:15.934Z"
   },
   {
    "duration": 0,
    "start_time": "2024-07-14T17:01:15.935Z"
   },
   {
    "duration": 0,
    "start_time": "2024-07-14T17:01:15.937Z"
   },
   {
    "duration": 0,
    "start_time": "2024-07-14T17:01:15.940Z"
   },
   {
    "duration": 0,
    "start_time": "2024-07-14T17:01:15.942Z"
   },
   {
    "duration": 0,
    "start_time": "2024-07-14T17:01:15.945Z"
   },
   {
    "duration": 0,
    "start_time": "2024-07-14T17:01:15.947Z"
   },
   {
    "duration": 0,
    "start_time": "2024-07-14T17:01:15.949Z"
   },
   {
    "duration": 0,
    "start_time": "2024-07-14T17:01:15.951Z"
   },
   {
    "duration": 0,
    "start_time": "2024-07-14T17:01:15.952Z"
   },
   {
    "duration": 0,
    "start_time": "2024-07-14T17:01:15.954Z"
   },
   {
    "duration": 1296,
    "start_time": "2024-07-14T17:02:38.147Z"
   },
   {
    "duration": 259,
    "start_time": "2024-07-14T17:02:39.447Z"
   },
   {
    "duration": 47,
    "start_time": "2024-07-14T17:02:39.708Z"
   },
   {
    "duration": 10,
    "start_time": "2024-07-14T17:02:39.757Z"
   },
   {
    "duration": 44,
    "start_time": "2024-07-14T17:02:39.771Z"
   },
   {
    "duration": 10,
    "start_time": "2024-07-14T17:02:39.818Z"
   },
   {
    "duration": 21,
    "start_time": "2024-07-14T17:02:39.831Z"
   },
   {
    "duration": 61,
    "start_time": "2024-07-14T17:02:39.855Z"
   },
   {
    "duration": 10,
    "start_time": "2024-07-14T17:02:39.919Z"
   },
   {
    "duration": 119,
    "start_time": "2024-07-14T17:02:39.933Z"
   },
   {
    "duration": 21,
    "start_time": "2024-07-14T17:02:40.055Z"
   },
   {
    "duration": 30,
    "start_time": "2024-07-14T17:02:40.079Z"
   },
   {
    "duration": 53,
    "start_time": "2024-07-14T17:02:40.112Z"
   },
   {
    "duration": 46,
    "start_time": "2024-07-14T17:02:40.173Z"
   },
   {
    "duration": 8,
    "start_time": "2024-07-14T17:02:40.221Z"
   },
   {
    "duration": 118,
    "start_time": "2024-07-14T17:02:40.233Z"
   },
   {
    "duration": 8,
    "start_time": "2024-07-14T17:02:40.354Z"
   },
   {
    "duration": 72,
    "start_time": "2024-07-14T17:02:40.365Z"
   },
   {
    "duration": 45,
    "start_time": "2024-07-14T17:02:40.440Z"
   },
   {
    "duration": 44,
    "start_time": "2024-07-14T17:02:40.488Z"
   },
   {
    "duration": 45,
    "start_time": "2024-07-14T17:02:40.534Z"
   },
   {
    "duration": 100,
    "start_time": "2024-07-14T17:02:40.584Z"
   },
   {
    "duration": 56,
    "start_time": "2024-07-14T17:02:40.687Z"
   },
   {
    "duration": 134,
    "start_time": "2024-07-14T17:02:40.746Z"
   },
   {
    "duration": 387,
    "start_time": "2024-07-14T17:02:40.883Z"
   },
   {
    "duration": 500,
    "start_time": "2024-07-14T17:02:41.273Z"
   },
   {
    "duration": 16,
    "start_time": "2024-07-14T17:02:41.777Z"
   },
   {
    "duration": 256,
    "start_time": "2024-07-14T17:02:41.795Z"
   },
   {
    "duration": 383,
    "start_time": "2024-07-14T17:02:42.055Z"
   },
   {
    "duration": 356,
    "start_time": "2024-07-14T17:02:42.441Z"
   },
   {
    "duration": 25,
    "start_time": "2024-07-14T17:02:42.810Z"
   },
   {
    "duration": 179,
    "start_time": "2024-07-14T17:02:42.838Z"
   },
   {
    "duration": 1290,
    "start_time": "2024-07-14T17:04:11.549Z"
   },
   {
    "duration": 297,
    "start_time": "2024-07-14T17:04:12.842Z"
   },
   {
    "duration": 52,
    "start_time": "2024-07-14T17:04:13.142Z"
   },
   {
    "duration": 13,
    "start_time": "2024-07-14T17:04:13.200Z"
   },
   {
    "duration": 16,
    "start_time": "2024-07-14T17:04:13.225Z"
   },
   {
    "duration": 10,
    "start_time": "2024-07-14T17:04:13.245Z"
   },
   {
    "duration": 58,
    "start_time": "2024-07-14T17:04:13.259Z"
   },
   {
    "duration": 32,
    "start_time": "2024-07-14T17:04:13.320Z"
   },
   {
    "duration": 8,
    "start_time": "2024-07-14T17:04:13.356Z"
   },
   {
    "duration": 110,
    "start_time": "2024-07-14T17:04:13.367Z"
   },
   {
    "duration": 35,
    "start_time": "2024-07-14T17:04:13.480Z"
   },
   {
    "duration": 8,
    "start_time": "2024-07-14T17:04:13.518Z"
   },
   {
    "duration": 51,
    "start_time": "2024-07-14T17:04:13.530Z"
   },
   {
    "duration": 23,
    "start_time": "2024-07-14T17:04:13.613Z"
   },
   {
    "duration": 7,
    "start_time": "2024-07-14T17:04:13.639Z"
   },
   {
    "duration": 108,
    "start_time": "2024-07-14T17:04:13.651Z"
   },
   {
    "duration": 8,
    "start_time": "2024-07-14T17:04:13.762Z"
   },
   {
    "duration": 69,
    "start_time": "2024-07-14T17:04:13.773Z"
   },
   {
    "duration": 45,
    "start_time": "2024-07-14T17:04:13.845Z"
   },
   {
    "duration": 44,
    "start_time": "2024-07-14T17:04:13.893Z"
   },
   {
    "duration": 51,
    "start_time": "2024-07-14T17:04:13.940Z"
   },
   {
    "duration": 96,
    "start_time": "2024-07-14T17:04:13.993Z"
   },
   {
    "duration": 59,
    "start_time": "2024-07-14T17:04:14.092Z"
   },
   {
    "duration": 149,
    "start_time": "2024-07-14T17:04:14.154Z"
   },
   {
    "duration": 403,
    "start_time": "2024-07-14T17:04:14.306Z"
   },
   {
    "duration": 513,
    "start_time": "2024-07-14T17:04:14.713Z"
   },
   {
    "duration": 19,
    "start_time": "2024-07-14T17:04:15.229Z"
   },
   {
    "duration": 274,
    "start_time": "2024-07-14T17:04:15.253Z"
   },
   {
    "duration": 376,
    "start_time": "2024-07-14T17:04:15.530Z"
   },
   {
    "duration": 333,
    "start_time": "2024-07-14T17:04:15.909Z"
   },
   {
    "duration": 26,
    "start_time": "2024-07-14T17:04:16.245Z"
   },
   {
    "duration": 203,
    "start_time": "2024-07-14T17:04:16.274Z"
   },
   {
    "duration": 1260,
    "start_time": "2024-07-14T17:07:57.040Z"
   },
   {
    "duration": 261,
    "start_time": "2024-07-14T17:07:58.304Z"
   },
   {
    "duration": 54,
    "start_time": "2024-07-14T17:07:58.567Z"
   },
   {
    "duration": 9,
    "start_time": "2024-07-14T17:07:58.624Z"
   },
   {
    "duration": 16,
    "start_time": "2024-07-14T17:07:58.636Z"
   },
   {
    "duration": 10,
    "start_time": "2024-07-14T17:07:58.655Z"
   },
   {
    "duration": 57,
    "start_time": "2024-07-14T17:07:58.668Z"
   },
   {
    "duration": 25,
    "start_time": "2024-07-14T17:07:58.731Z"
   },
   {
    "duration": 7,
    "start_time": "2024-07-14T17:07:58.759Z"
   },
   {
    "duration": 115,
    "start_time": "2024-07-14T17:07:58.772Z"
   },
   {
    "duration": 32,
    "start_time": "2024-07-14T17:07:58.890Z"
   },
   {
    "duration": 8,
    "start_time": "2024-07-14T17:07:58.927Z"
   },
   {
    "duration": 76,
    "start_time": "2024-07-14T17:07:58.938Z"
   },
   {
    "duration": 23,
    "start_time": "2024-07-14T17:07:59.019Z"
   },
   {
    "duration": 8,
    "start_time": "2024-07-14T17:07:59.045Z"
   },
   {
    "duration": 122,
    "start_time": "2024-07-14T17:07:59.056Z"
   },
   {
    "duration": 7,
    "start_time": "2024-07-14T17:07:59.182Z"
   },
   {
    "duration": 51,
    "start_time": "2024-07-14T17:07:59.209Z"
   },
   {
    "duration": 48,
    "start_time": "2024-07-14T17:07:59.263Z"
   },
   {
    "duration": 46,
    "start_time": "2024-07-14T17:07:59.317Z"
   },
   {
    "duration": 48,
    "start_time": "2024-07-14T17:07:59.366Z"
   },
   {
    "duration": 98,
    "start_time": "2024-07-14T17:07:59.417Z"
   },
   {
    "duration": 56,
    "start_time": "2024-07-14T17:07:59.518Z"
   },
   {
    "duration": 137,
    "start_time": "2024-07-14T17:07:59.578Z"
   },
   {
    "duration": 383,
    "start_time": "2024-07-14T17:07:59.718Z"
   },
   {
    "duration": 501,
    "start_time": "2024-07-14T17:08:00.109Z"
   },
   {
    "duration": 16,
    "start_time": "2024-07-14T17:08:00.614Z"
   },
   {
    "duration": 252,
    "start_time": "2024-07-14T17:08:00.636Z"
   },
   {
    "duration": 359,
    "start_time": "2024-07-14T17:08:00.891Z"
   },
   {
    "duration": 326,
    "start_time": "2024-07-14T17:08:01.254Z"
   },
   {
    "duration": 39,
    "start_time": "2024-07-14T17:08:01.584Z"
   },
   {
    "duration": 173,
    "start_time": "2024-07-14T17:08:01.629Z"
   },
   {
    "duration": 1267,
    "start_time": "2024-07-14T21:21:35.377Z"
   },
   {
    "duration": 264,
    "start_time": "2024-07-14T21:21:36.648Z"
   },
   {
    "duration": 49,
    "start_time": "2024-07-14T21:21:36.915Z"
   },
   {
    "duration": 9,
    "start_time": "2024-07-14T21:21:36.968Z"
   },
   {
    "duration": 14,
    "start_time": "2024-07-14T21:21:36.981Z"
   },
   {
    "duration": 9,
    "start_time": "2024-07-14T21:21:37.030Z"
   },
   {
    "duration": 20,
    "start_time": "2024-07-14T21:21:37.045Z"
   },
   {
    "duration": 26,
    "start_time": "2024-07-14T21:21:37.068Z"
   },
   {
    "duration": 8,
    "start_time": "2024-07-14T21:21:37.130Z"
   },
   {
    "duration": 108,
    "start_time": "2024-07-14T21:21:37.145Z"
   },
   {
    "duration": 21,
    "start_time": "2024-07-14T21:21:37.256Z"
   },
   {
    "duration": 6,
    "start_time": "2024-07-14T21:21:37.280Z"
   },
   {
    "duration": 80,
    "start_time": "2024-07-14T21:21:37.289Z"
   },
   {
    "duration": 23,
    "start_time": "2024-07-14T21:21:37.372Z"
   },
   {
    "duration": 32,
    "start_time": "2024-07-14T21:21:37.399Z"
   },
   {
    "duration": 83,
    "start_time": "2024-07-14T21:21:37.434Z"
   },
   {
    "duration": 16,
    "start_time": "2024-07-14T21:21:37.520Z"
   },
   {
    "duration": 62,
    "start_time": "2024-07-14T21:21:37.539Z"
   },
   {
    "duration": 57,
    "start_time": "2024-07-14T21:21:37.604Z"
   },
   {
    "duration": 51,
    "start_time": "2024-07-14T21:21:37.664Z"
   },
   {
    "duration": 61,
    "start_time": "2024-07-14T21:21:37.719Z"
   },
   {
    "duration": 109,
    "start_time": "2024-07-14T21:21:37.783Z"
   },
   {
    "duration": 64,
    "start_time": "2024-07-14T21:21:37.895Z"
   },
   {
    "duration": 147,
    "start_time": "2024-07-14T21:21:37.962Z"
   },
   {
    "duration": 386,
    "start_time": "2024-07-14T21:21:38.112Z"
   },
   {
    "duration": 500,
    "start_time": "2024-07-14T21:21:38.501Z"
   },
   {
    "duration": 28,
    "start_time": "2024-07-14T21:21:39.005Z"
   },
   {
    "duration": 247,
    "start_time": "2024-07-14T21:21:39.041Z"
   },
   {
    "duration": 337,
    "start_time": "2024-07-14T21:21:39.291Z"
   },
   {
    "duration": 338,
    "start_time": "2024-07-14T21:21:39.631Z"
   },
   {
    "duration": 29,
    "start_time": "2024-07-14T21:21:39.972Z"
   },
   {
    "duration": 211,
    "start_time": "2024-07-14T21:21:40.005Z"
   },
   {
    "duration": 21,
    "start_time": "2024-07-14T21:22:38.989Z"
   },
   {
    "duration": 139,
    "start_time": "2024-07-14T21:23:03.878Z"
   },
   {
    "duration": 21,
    "start_time": "2024-07-14T21:23:05.518Z"
   },
   {
    "duration": 135,
    "start_time": "2024-07-14T21:23:40.857Z"
   },
   {
    "duration": 21,
    "start_time": "2024-07-14T21:23:42.973Z"
   },
   {
    "duration": 132,
    "start_time": "2024-07-14T21:24:25.047Z"
   },
   {
    "duration": 21,
    "start_time": "2024-07-14T21:24:26.646Z"
   },
   {
    "duration": 9,
    "start_time": "2024-07-14T21:24:50.972Z"
   },
   {
    "duration": 123,
    "start_time": "2024-07-14T21:24:56.746Z"
   },
   {
    "duration": 20,
    "start_time": "2024-07-14T21:24:58.947Z"
   },
   {
    "duration": 9,
    "start_time": "2024-07-14T21:26:22.412Z"
   },
   {
    "duration": 2589,
    "start_time": "2024-11-25T22:44:04.783Z"
   },
   {
    "duration": 215,
    "start_time": "2024-11-25T22:44:07.374Z"
   },
   {
    "duration": 28,
    "start_time": "2024-11-25T22:44:07.592Z"
   },
   {
    "duration": 5,
    "start_time": "2024-11-25T22:44:07.623Z"
   },
   {
    "duration": 9,
    "start_time": "2024-11-25T22:44:07.629Z"
   },
   {
    "duration": 5,
    "start_time": "2024-11-25T22:44:07.640Z"
   },
   {
    "duration": 40,
    "start_time": "2024-11-25T22:44:07.647Z"
   },
   {
    "duration": 15,
    "start_time": "2024-11-25T22:44:07.688Z"
   },
   {
    "duration": 4,
    "start_time": "2024-11-25T22:44:07.705Z"
   },
   {
    "duration": 46,
    "start_time": "2024-11-25T22:44:07.712Z"
   },
   {
    "duration": 32,
    "start_time": "2024-11-25T22:44:07.760Z"
   },
   {
    "duration": 4,
    "start_time": "2024-11-25T22:44:07.795Z"
   },
   {
    "duration": 34,
    "start_time": "2024-11-25T22:44:07.800Z"
   },
   {
    "duration": 14,
    "start_time": "2024-11-25T22:44:07.838Z"
   },
   {
    "duration": 5,
    "start_time": "2024-11-25T22:44:07.854Z"
   },
   {
    "duration": 68,
    "start_time": "2024-11-25T22:44:07.861Z"
   },
   {
    "duration": 4,
    "start_time": "2024-11-25T22:44:07.931Z"
   },
   {
    "duration": 39,
    "start_time": "2024-11-25T22:44:07.937Z"
   },
   {
    "duration": 45,
    "start_time": "2024-11-25T22:44:07.986Z"
   },
   {
    "duration": 33,
    "start_time": "2024-11-25T22:44:08.033Z"
   },
   {
    "duration": 32,
    "start_time": "2024-11-25T22:44:08.068Z"
   },
   {
    "duration": 68,
    "start_time": "2024-11-25T22:44:08.102Z"
   },
   {
    "duration": 40,
    "start_time": "2024-11-25T22:44:08.171Z"
   },
   {
    "duration": 73,
    "start_time": "2024-11-25T22:44:08.213Z"
   },
   {
    "duration": 222,
    "start_time": "2024-11-25T22:44:08.288Z"
   },
   {
    "duration": 223,
    "start_time": "2024-11-25T22:44:08.513Z"
   },
   {
    "duration": 10,
    "start_time": "2024-11-25T22:44:08.738Z"
   },
   {
    "duration": 185,
    "start_time": "2024-11-25T22:44:08.752Z"
   },
   {
    "duration": 216,
    "start_time": "2024-11-25T22:44:08.939Z"
   },
   {
    "duration": 175,
    "start_time": "2024-11-25T22:44:09.157Z"
   },
   {
    "duration": 15,
    "start_time": "2024-11-25T22:44:09.334Z"
   },
   {
    "duration": 94,
    "start_time": "2024-11-25T22:44:09.351Z"
   },
   {
    "duration": 821,
    "start_time": "2024-11-25T22:45:16.130Z"
   },
   {
    "duration": 153,
    "start_time": "2024-11-25T22:45:16.953Z"
   },
   {
    "duration": 26,
    "start_time": "2024-11-25T22:45:17.108Z"
   },
   {
    "duration": 4,
    "start_time": "2024-11-25T22:45:17.137Z"
   },
   {
    "duration": 8,
    "start_time": "2024-11-25T22:45:17.143Z"
   },
   {
    "duration": 6,
    "start_time": "2024-11-25T22:45:17.153Z"
   },
   {
    "duration": 34,
    "start_time": "2024-11-25T22:45:17.160Z"
   },
   {
    "duration": 14,
    "start_time": "2024-11-25T22:45:17.196Z"
   },
   {
    "duration": 4,
    "start_time": "2024-11-25T22:45:17.212Z"
   },
   {
    "duration": 72,
    "start_time": "2024-11-25T22:45:17.220Z"
   },
   {
    "duration": 12,
    "start_time": "2024-11-25T22:45:17.294Z"
   },
   {
    "duration": 5,
    "start_time": "2024-11-25T22:45:17.307Z"
   },
   {
    "duration": 28,
    "start_time": "2024-11-25T22:45:17.314Z"
   },
   {
    "duration": 13,
    "start_time": "2024-11-25T22:45:17.344Z"
   },
   {
    "duration": 29,
    "start_time": "2024-11-25T22:45:17.359Z"
   },
   {
    "duration": 42,
    "start_time": "2024-11-25T22:45:17.389Z"
   },
   {
    "duration": 5,
    "start_time": "2024-11-25T22:45:17.432Z"
   },
   {
    "duration": 33,
    "start_time": "2024-11-25T22:45:17.438Z"
   },
   {
    "duration": 33,
    "start_time": "2024-11-25T22:45:17.486Z"
   },
   {
    "duration": 28,
    "start_time": "2024-11-25T22:45:17.521Z"
   },
   {
    "duration": 27,
    "start_time": "2024-11-25T22:45:17.551Z"
   },
   {
    "duration": 62,
    "start_time": "2024-11-25T22:45:17.580Z"
   },
   {
    "duration": 35,
    "start_time": "2024-11-25T22:45:17.645Z"
   },
   {
    "duration": 77,
    "start_time": "2024-11-25T22:45:17.682Z"
   },
   {
    "duration": 209,
    "start_time": "2024-11-25T22:45:17.761Z"
   },
   {
    "duration": 279,
    "start_time": "2024-11-25T22:45:17.972Z"
   },
   {
    "duration": 13,
    "start_time": "2024-11-25T22:45:18.252Z"
   },
   {
    "duration": 137,
    "start_time": "2024-11-25T22:45:18.270Z"
   },
   {
    "duration": 199,
    "start_time": "2024-11-25T22:45:18.409Z"
   },
   {
    "duration": 183,
    "start_time": "2024-11-25T22:45:18.610Z"
   },
   {
    "duration": 19,
    "start_time": "2024-11-25T22:45:18.795Z"
   },
   {
    "duration": 100,
    "start_time": "2024-11-25T22:45:18.815Z"
   }
  ],
  "kernelspec": {
   "display_name": "Python 3 (ipykernel)",
   "language": "python",
   "name": "python3"
  },
  "language_info": {
   "codemirror_mode": {
    "name": "ipython",
    "version": 3
   },
   "file_extension": ".py",
   "mimetype": "text/x-python",
   "name": "python",
   "nbconvert_exporter": "python",
   "pygments_lexer": "ipython3",
   "version": "3.10.11"
  },
  "toc": {
   "base_numbering": 1,
   "nav_menu": {},
   "number_sections": true,
   "sideBar": true,
   "skip_h1_title": false,
   "title_cell": "Table of Contents",
   "title_sidebar": "Contents",
   "toc_cell": false,
   "toc_position": {},
   "toc_section_display": true,
   "toc_window_display": false
  }
 },
 "nbformat": 4,
 "nbformat_minor": 4
}
