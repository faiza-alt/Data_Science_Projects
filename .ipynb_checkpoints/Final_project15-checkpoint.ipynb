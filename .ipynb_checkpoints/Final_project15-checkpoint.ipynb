{
 "cells": [
  {
   "cell_type": "markdown",
   "metadata": {},
   "source": [
    "# Telecom Churn Analysis"
   ]
  },
  {
   "cell_type": "markdown",
   "metadata": {},
   "source": [
    "\n",
    "**Introduction:**\n",
    "\n",
    "\n",
    "Customer churn prediction is a critical task for businesses, particularly in the competitive telecom industry, where retaining customers is often more cost-effective than acquiring new ones. Interconnect Telecom, a service provider offering landline and internet services, seeks to forecast customer churn to proactively engage with at-risk customers through targeted promotions and customized offers.\n",
    "\n",
    "This project aims to develop a predictive model for churn analysis using customer data, including personal demographics, service usage, contract details, and payment history. By identifying patterns and trends in customer behavior, the model will enable Interconnect to reduce churn rates and enhance customer retention strategies.\n",
    "\n",
    "The primary focus of this analysis is on:\n",
    "\n",
    "Understanding the features influencing customer churn.\n",
    "Developing a robust machine learning model to predict churn.\n",
    "Evaluating the model's performance using key metrics, primarily AUC-ROC and accuracy.\n",
    "The insights gained from this project will empower Interconnect Telecom to make data-driven decisions and improve their customer experience."
   ]
  },
  {
   "cell_type": "code",
   "execution_count": 1,
   "metadata": {},
   "outputs": [],
   "source": [
    "import pandas as pd\n",
    "import numpy as np\n",
    "from sklearn.model_selection import train_test_split, GridSearchCV\n",
    "from sklearn.preprocessing import StandardScaler, OneHotEncoder\n",
    "from sklearn.compose import ColumnTransformer\n",
    "from sklearn.pipeline import Pipeline\n",
    "from sklearn.ensemble import RandomForestClassifier\n",
    "from sklearn.metrics import roc_auc_score, accuracy_score\n",
    "from sklearn.utils import resample\n",
    "import matplotlib.pyplot as plt\n",
    "import seaborn as sns\n",
    "from datetime import datetime\n",
    "from sklearn.linear_model import LogisticRegression\n",
    "from sklearn.tree import DecisionTreeClassifier\n",
    "from sklearn.ensemble import RandomForestClassifier\n",
    "from xgboost import XGBClassifier"
   ]
  },
  {
   "cell_type": "markdown",
   "metadata": {},
   "source": [
    "## Data Exploration and Cleaning"
   ]
  },
  {
   "cell_type": "markdown",
   "metadata": {},
   "source": [
    "**Objective:** \n",
    "\n",
    "Gain a comprehensive understanding of the data and prepare it for modeling.\n",
    "\n",
    "**Steps:**\n",
    "\n",
    "* Load all datasets (contract.csv, personal.csv, internet.csv, and phone.csv) and inspect their structure using .head(), .info(), and .describe().\n",
    "* Identify and handle missing values, ensuring consistency across all datasets.\n",
    "* Standardize data types (e.g., converting TotalCharges from object to float).\n",
    "* Explore categorical columns and encode them if necessary."
   ]
  },
  {
   "cell_type": "code",
   "execution_count": 2,
   "metadata": {},
   "outputs": [],
   "source": [
    "# Load datasets\n",
    "df_contract = pd.read_csv(\"/datasets/final_provider/contract.csv\")\n",
    "df_personal = pd.read_csv(\"/datasets/final_provider/personal.csv\")\n",
    "df_internet = pd.read_csv(\"/datasets/final_provider/internet.csv\")\n",
    "df_phone = pd.read_csv(\"/datasets/final_provider/phone.csv\")"
   ]
  },
  {
   "cell_type": "markdown",
   "metadata": {},
   "source": [
    "###  Contract Data"
   ]
  },
  {
   "cell_type": "code",
   "execution_count": 3,
   "metadata": {},
   "outputs": [
    {
     "data": {
      "text/html": [
       "<div>\n",
       "<style scoped>\n",
       "    .dataframe tbody tr th:only-of-type {\n",
       "        vertical-align: middle;\n",
       "    }\n",
       "\n",
       "    .dataframe tbody tr th {\n",
       "        vertical-align: top;\n",
       "    }\n",
       "\n",
       "    .dataframe thead th {\n",
       "        text-align: right;\n",
       "    }\n",
       "</style>\n",
       "<table border=\"1\" class=\"dataframe\">\n",
       "  <thead>\n",
       "    <tr style=\"text-align: right;\">\n",
       "      <th></th>\n",
       "      <th>customerID</th>\n",
       "      <th>BeginDate</th>\n",
       "      <th>EndDate</th>\n",
       "      <th>Type</th>\n",
       "      <th>PaperlessBilling</th>\n",
       "      <th>PaymentMethod</th>\n",
       "      <th>MonthlyCharges</th>\n",
       "      <th>TotalCharges</th>\n",
       "    </tr>\n",
       "  </thead>\n",
       "  <tbody>\n",
       "    <tr>\n",
       "      <th>0</th>\n",
       "      <td>7590-VHVEG</td>\n",
       "      <td>2020-01-01</td>\n",
       "      <td>No</td>\n",
       "      <td>Month-to-month</td>\n",
       "      <td>Yes</td>\n",
       "      <td>Electronic check</td>\n",
       "      <td>29.85</td>\n",
       "      <td>29.85</td>\n",
       "    </tr>\n",
       "    <tr>\n",
       "      <th>1</th>\n",
       "      <td>5575-GNVDE</td>\n",
       "      <td>2017-04-01</td>\n",
       "      <td>No</td>\n",
       "      <td>One year</td>\n",
       "      <td>No</td>\n",
       "      <td>Mailed check</td>\n",
       "      <td>56.95</td>\n",
       "      <td>1889.5</td>\n",
       "    </tr>\n",
       "    <tr>\n",
       "      <th>2</th>\n",
       "      <td>3668-QPYBK</td>\n",
       "      <td>2019-10-01</td>\n",
       "      <td>2019-12-01 00:00:00</td>\n",
       "      <td>Month-to-month</td>\n",
       "      <td>Yes</td>\n",
       "      <td>Mailed check</td>\n",
       "      <td>53.85</td>\n",
       "      <td>108.15</td>\n",
       "    </tr>\n",
       "  </tbody>\n",
       "</table>\n",
       "</div>"
      ],
      "text/plain": [
       "   customerID   BeginDate              EndDate            Type  \\\n",
       "0  7590-VHVEG  2020-01-01                   No  Month-to-month   \n",
       "1  5575-GNVDE  2017-04-01                   No        One year   \n",
       "2  3668-QPYBK  2019-10-01  2019-12-01 00:00:00  Month-to-month   \n",
       "\n",
       "  PaperlessBilling     PaymentMethod  MonthlyCharges TotalCharges  \n",
       "0              Yes  Electronic check           29.85        29.85  \n",
       "1               No      Mailed check           56.95       1889.5  \n",
       "2              Yes      Mailed check           53.85       108.15  "
      ]
     },
     "execution_count": 3,
     "metadata": {},
     "output_type": "execute_result"
    }
   ],
   "source": [
    "df_contract.head(3)"
   ]
  },
  {
   "cell_type": "code",
   "execution_count": 4,
   "metadata": {},
   "outputs": [
    {
     "data": {
      "text/html": [
       "<div>\n",
       "<style scoped>\n",
       "    .dataframe tbody tr th:only-of-type {\n",
       "        vertical-align: middle;\n",
       "    }\n",
       "\n",
       "    .dataframe tbody tr th {\n",
       "        vertical-align: top;\n",
       "    }\n",
       "\n",
       "    .dataframe thead th {\n",
       "        text-align: right;\n",
       "    }\n",
       "</style>\n",
       "<table border=\"1\" class=\"dataframe\">\n",
       "  <thead>\n",
       "    <tr style=\"text-align: right;\">\n",
       "      <th></th>\n",
       "      <th>MonthlyCharges</th>\n",
       "    </tr>\n",
       "  </thead>\n",
       "  <tbody>\n",
       "    <tr>\n",
       "      <th>count</th>\n",
       "      <td>7043.000000</td>\n",
       "    </tr>\n",
       "    <tr>\n",
       "      <th>mean</th>\n",
       "      <td>64.761692</td>\n",
       "    </tr>\n",
       "    <tr>\n",
       "      <th>std</th>\n",
       "      <td>30.090047</td>\n",
       "    </tr>\n",
       "    <tr>\n",
       "      <th>min</th>\n",
       "      <td>18.250000</td>\n",
       "    </tr>\n",
       "    <tr>\n",
       "      <th>25%</th>\n",
       "      <td>35.500000</td>\n",
       "    </tr>\n",
       "    <tr>\n",
       "      <th>50%</th>\n",
       "      <td>70.350000</td>\n",
       "    </tr>\n",
       "    <tr>\n",
       "      <th>75%</th>\n",
       "      <td>89.850000</td>\n",
       "    </tr>\n",
       "    <tr>\n",
       "      <th>max</th>\n",
       "      <td>118.750000</td>\n",
       "    </tr>\n",
       "  </tbody>\n",
       "</table>\n",
       "</div>"
      ],
      "text/plain": [
       "       MonthlyCharges\n",
       "count     7043.000000\n",
       "mean        64.761692\n",
       "std         30.090047\n",
       "min         18.250000\n",
       "25%         35.500000\n",
       "50%         70.350000\n",
       "75%         89.850000\n",
       "max        118.750000"
      ]
     },
     "execution_count": 4,
     "metadata": {},
     "output_type": "execute_result"
    }
   ],
   "source": [
    "df_contract.describe()"
   ]
  },
  {
   "cell_type": "code",
   "execution_count": 5,
   "metadata": {},
   "outputs": [
    {
     "name": "stdout",
     "output_type": "stream",
     "text": [
      "<class 'pandas.core.frame.DataFrame'>\n",
      "RangeIndex: 7043 entries, 0 to 7042\n",
      "Data columns (total 8 columns):\n",
      " #   Column            Non-Null Count  Dtype  \n",
      "---  ------            --------------  -----  \n",
      " 0   customerID        7043 non-null   object \n",
      " 1   BeginDate         7043 non-null   object \n",
      " 2   EndDate           7043 non-null   object \n",
      " 3   Type              7043 non-null   object \n",
      " 4   PaperlessBilling  7043 non-null   object \n",
      " 5   PaymentMethod     7043 non-null   object \n",
      " 6   MonthlyCharges    7043 non-null   float64\n",
      " 7   TotalCharges      7043 non-null   object \n",
      "dtypes: float64(1), object(7)\n",
      "memory usage: 440.3+ KB\n"
     ]
    }
   ],
   "source": [
    "df_contract.info()"
   ]
  },
  {
   "cell_type": "markdown",
   "metadata": {},
   "source": [
    "**Interpretation**\n",
    "\n",
    "- BeginDate and EndDate are stored as strings but should be converted to datetime for proper analysis.\n",
    "- TotalCharges is stored as an object, which is incorrect. It should be converted to float after handling any anomalies or missing values."
   ]
  },
  {
   "cell_type": "markdown",
   "metadata": {},
   "source": [
    "#### Convert Data Types"
   ]
  },
  {
   "cell_type": "code",
   "execution_count": 6,
   "metadata": {},
   "outputs": [],
   "source": [
    "# converting the BeginDate and EndDate to datetime type and TotalCharges to float type\n",
    "\n",
    "df_contract['BeginDate'] = pd.to_datetime(df_contract['BeginDate'])\n",
    "df_contract['EndDate'] = pd.to_datetime(df_contract['EndDate'], errors='coerce')\n",
    "df_contract['TotalCharges'] = pd.to_numeric(df_contract['TotalCharges'], errors='coerce')\n"
   ]
  },
  {
   "cell_type": "code",
   "execution_count": 7,
   "metadata": {},
   "outputs": [
    {
     "name": "stdout",
     "output_type": "stream",
     "text": [
      "<class 'pandas.core.frame.DataFrame'>\n",
      "RangeIndex: 7043 entries, 0 to 7042\n",
      "Data columns (total 8 columns):\n",
      " #   Column            Non-Null Count  Dtype         \n",
      "---  ------            --------------  -----         \n",
      " 0   customerID        7043 non-null   object        \n",
      " 1   BeginDate         7043 non-null   datetime64[ns]\n",
      " 2   EndDate           1869 non-null   datetime64[ns]\n",
      " 3   Type              7043 non-null   object        \n",
      " 4   PaperlessBilling  7043 non-null   object        \n",
      " 5   PaymentMethod     7043 non-null   object        \n",
      " 6   MonthlyCharges    7043 non-null   float64       \n",
      " 7   TotalCharges      7032 non-null   float64       \n",
      "dtypes: datetime64[ns](2), float64(2), object(4)\n",
      "memory usage: 440.3+ KB\n"
     ]
    }
   ],
   "source": [
    "df_contract.info()"
   ]
  },
  {
   "cell_type": "markdown",
   "metadata": {},
   "source": [
    "#### Handling missing values"
   ]
  },
  {
   "cell_type": "code",
   "execution_count": 8,
   "metadata": {},
   "outputs": [
    {
     "data": {
      "text/plain": [
       "customerID             0\n",
       "BeginDate              0\n",
       "EndDate             5174\n",
       "Type                   0\n",
       "PaperlessBilling       0\n",
       "PaymentMethod          0\n",
       "MonthlyCharges         0\n",
       "TotalCharges          11\n",
       "dtype: int64"
      ]
     },
     "execution_count": 8,
     "metadata": {},
     "output_type": "execute_result"
    }
   ],
   "source": [
    "df_contract.isna().sum()"
   ]
  },
  {
   "cell_type": "markdown",
   "metadata": {},
   "source": [
    "**TotalCharges:**\n",
    "\n",
    "Contains 11 missing values. This feature is numeric, representing the total charges paid by customers.\n",
    "\n",
    "\n",
    "**EndDate:**\n",
    "\n",
    "Contains 5174 missing values, accounting for 73% of the dataset.\n",
    "These missing values correspond to active customers who have not churned yet.\n"
   ]
  },
  {
   "cell_type": "markdown",
   "metadata": {},
   "source": [
    "1. TotalCharges:\n",
    "\n",
    "Since TotalCharges is derived from the total payments a customer has made, the missing values could occur due to data entry errors or new customers with no charges yet.\n",
    "\n",
    "Steps:\n",
    "- Check if the missing rows in TotalCharges have valid MonthlyCharges and BeginDate.\n",
    "- For customers with valid MonthlyCharges and BeginDate, approximate TotalCharges as:\n",
    "\n",
    "TotalCharges = monthlyCharges * EstimatedDuration\n",
    "\n",
    "- Use the difference between today’s date and BeginDate to estimate duration for active customers.\n",
    "- Fill any remaining missing values with the median or mean of TotalCharges."
   ]
  },
  {
   "cell_type": "code",
   "execution_count": 9,
   "metadata": {},
   "outputs": [
    {
     "data": {
      "text/html": [
       "<div>\n",
       "<style scoped>\n",
       "    .dataframe tbody tr th:only-of-type {\n",
       "        vertical-align: middle;\n",
       "    }\n",
       "\n",
       "    .dataframe tbody tr th {\n",
       "        vertical-align: top;\n",
       "    }\n",
       "\n",
       "    .dataframe thead th {\n",
       "        text-align: right;\n",
       "    }\n",
       "</style>\n",
       "<table border=\"1\" class=\"dataframe\">\n",
       "  <thead>\n",
       "    <tr style=\"text-align: right;\">\n",
       "      <th></th>\n",
       "      <th>customerID</th>\n",
       "      <th>BeginDate</th>\n",
       "      <th>EndDate</th>\n",
       "      <th>Type</th>\n",
       "      <th>PaperlessBilling</th>\n",
       "      <th>PaymentMethod</th>\n",
       "      <th>MonthlyCharges</th>\n",
       "      <th>TotalCharges</th>\n",
       "    </tr>\n",
       "  </thead>\n",
       "  <tbody>\n",
       "    <tr>\n",
       "      <th>488</th>\n",
       "      <td>4472-LVYGI</td>\n",
       "      <td>2020-02-01</td>\n",
       "      <td>NaT</td>\n",
       "      <td>Two year</td>\n",
       "      <td>Yes</td>\n",
       "      <td>Bank transfer (automatic)</td>\n",
       "      <td>52.55</td>\n",
       "      <td>NaN</td>\n",
       "    </tr>\n",
       "    <tr>\n",
       "      <th>753</th>\n",
       "      <td>3115-CZMZD</td>\n",
       "      <td>2020-02-01</td>\n",
       "      <td>NaT</td>\n",
       "      <td>Two year</td>\n",
       "      <td>No</td>\n",
       "      <td>Mailed check</td>\n",
       "      <td>20.25</td>\n",
       "      <td>NaN</td>\n",
       "    </tr>\n",
       "    <tr>\n",
       "      <th>936</th>\n",
       "      <td>5709-LVOEQ</td>\n",
       "      <td>2020-02-01</td>\n",
       "      <td>NaT</td>\n",
       "      <td>Two year</td>\n",
       "      <td>No</td>\n",
       "      <td>Mailed check</td>\n",
       "      <td>80.85</td>\n",
       "      <td>NaN</td>\n",
       "    </tr>\n",
       "    <tr>\n",
       "      <th>1082</th>\n",
       "      <td>4367-NUYAO</td>\n",
       "      <td>2020-02-01</td>\n",
       "      <td>NaT</td>\n",
       "      <td>Two year</td>\n",
       "      <td>No</td>\n",
       "      <td>Mailed check</td>\n",
       "      <td>25.75</td>\n",
       "      <td>NaN</td>\n",
       "    </tr>\n",
       "    <tr>\n",
       "      <th>1340</th>\n",
       "      <td>1371-DWPAZ</td>\n",
       "      <td>2020-02-01</td>\n",
       "      <td>NaT</td>\n",
       "      <td>Two year</td>\n",
       "      <td>No</td>\n",
       "      <td>Credit card (automatic)</td>\n",
       "      <td>56.05</td>\n",
       "      <td>NaN</td>\n",
       "    </tr>\n",
       "    <tr>\n",
       "      <th>3331</th>\n",
       "      <td>7644-OMVMY</td>\n",
       "      <td>2020-02-01</td>\n",
       "      <td>NaT</td>\n",
       "      <td>Two year</td>\n",
       "      <td>No</td>\n",
       "      <td>Mailed check</td>\n",
       "      <td>19.85</td>\n",
       "      <td>NaN</td>\n",
       "    </tr>\n",
       "    <tr>\n",
       "      <th>3826</th>\n",
       "      <td>3213-VVOLG</td>\n",
       "      <td>2020-02-01</td>\n",
       "      <td>NaT</td>\n",
       "      <td>Two year</td>\n",
       "      <td>No</td>\n",
       "      <td>Mailed check</td>\n",
       "      <td>25.35</td>\n",
       "      <td>NaN</td>\n",
       "    </tr>\n",
       "    <tr>\n",
       "      <th>4380</th>\n",
       "      <td>2520-SGTTA</td>\n",
       "      <td>2020-02-01</td>\n",
       "      <td>NaT</td>\n",
       "      <td>Two year</td>\n",
       "      <td>No</td>\n",
       "      <td>Mailed check</td>\n",
       "      <td>20.00</td>\n",
       "      <td>NaN</td>\n",
       "    </tr>\n",
       "    <tr>\n",
       "      <th>5218</th>\n",
       "      <td>2923-ARZLG</td>\n",
       "      <td>2020-02-01</td>\n",
       "      <td>NaT</td>\n",
       "      <td>One year</td>\n",
       "      <td>Yes</td>\n",
       "      <td>Mailed check</td>\n",
       "      <td>19.70</td>\n",
       "      <td>NaN</td>\n",
       "    </tr>\n",
       "    <tr>\n",
       "      <th>6670</th>\n",
       "      <td>4075-WKNIU</td>\n",
       "      <td>2020-02-01</td>\n",
       "      <td>NaT</td>\n",
       "      <td>Two year</td>\n",
       "      <td>No</td>\n",
       "      <td>Mailed check</td>\n",
       "      <td>73.35</td>\n",
       "      <td>NaN</td>\n",
       "    </tr>\n",
       "    <tr>\n",
       "      <th>6754</th>\n",
       "      <td>2775-SEFEE</td>\n",
       "      <td>2020-02-01</td>\n",
       "      <td>NaT</td>\n",
       "      <td>Two year</td>\n",
       "      <td>Yes</td>\n",
       "      <td>Bank transfer (automatic)</td>\n",
       "      <td>61.90</td>\n",
       "      <td>NaN</td>\n",
       "    </tr>\n",
       "  </tbody>\n",
       "</table>\n",
       "</div>"
      ],
      "text/plain": [
       "      customerID  BeginDate EndDate      Type PaperlessBilling  \\\n",
       "488   4472-LVYGI 2020-02-01     NaT  Two year              Yes   \n",
       "753   3115-CZMZD 2020-02-01     NaT  Two year               No   \n",
       "936   5709-LVOEQ 2020-02-01     NaT  Two year               No   \n",
       "1082  4367-NUYAO 2020-02-01     NaT  Two year               No   \n",
       "1340  1371-DWPAZ 2020-02-01     NaT  Two year               No   \n",
       "3331  7644-OMVMY 2020-02-01     NaT  Two year               No   \n",
       "3826  3213-VVOLG 2020-02-01     NaT  Two year               No   \n",
       "4380  2520-SGTTA 2020-02-01     NaT  Two year               No   \n",
       "5218  2923-ARZLG 2020-02-01     NaT  One year              Yes   \n",
       "6670  4075-WKNIU 2020-02-01     NaT  Two year               No   \n",
       "6754  2775-SEFEE 2020-02-01     NaT  Two year              Yes   \n",
       "\n",
       "                  PaymentMethod  MonthlyCharges  TotalCharges  \n",
       "488   Bank transfer (automatic)           52.55           NaN  \n",
       "753                Mailed check           20.25           NaN  \n",
       "936                Mailed check           80.85           NaN  \n",
       "1082               Mailed check           25.75           NaN  \n",
       "1340    Credit card (automatic)           56.05           NaN  \n",
       "3331               Mailed check           19.85           NaN  \n",
       "3826               Mailed check           25.35           NaN  \n",
       "4380               Mailed check           20.00           NaN  \n",
       "5218               Mailed check           19.70           NaN  \n",
       "6670               Mailed check           73.35           NaN  \n",
       "6754  Bank transfer (automatic)           61.90           NaN  "
      ]
     },
     "execution_count": 9,
     "metadata": {},
     "output_type": "execute_result"
    }
   ],
   "source": [
    "df_contract[df_contract[\"TotalCharges\"].isna()]"
   ]
  },
  {
   "cell_type": "code",
   "execution_count": 10,
   "metadata": {},
   "outputs": [],
   "source": [
    "# Convert BeginDate to datetime\n",
    "df_contract['BeginDate'] = pd.to_datetime(df_contract['BeginDate'], errors='coerce')\n",
    "\n",
    "# Define today's date\n",
    "today = datetime.today()\n",
    "\n",
    "# Calculate estimated duration (in months) for rows with missing TotalCharges\n",
    "def calculate_duration(begin_date):\n",
    "    return (today.year - begin_date.year) * 12 + (today.month - begin_date.month)\n",
    "\n",
    "# Fill missing TotalCharges for active customers\n",
    "missing_totalcharges = df_contract['TotalCharges'].isna()\n",
    "df_contract.loc[missing_totalcharges, 'TotalCharges'] = (\n",
    "    df_contract.loc[missing_totalcharges].apply(\n",
    "        lambda row: row['MonthlyCharges'] * calculate_duration(row['BeginDate']), axis=1\n",
    "    )\n",
    ")\n",
    "\n",
    "\n",
    "# Fill any remaining missing values with the median of TotalCharges\n",
    "df_contract['TotalCharges'].fillna(df_contract['TotalCharges'].median(), inplace=True)"
   ]
  },
  {
   "cell_type": "markdown",
   "metadata": {},
   "source": [
    "**Duration Calculation:**\n",
    "\n",
    "For each row, we calculate the months since the BeginDate until today.\n",
    "This method ensures we accurately estimate the duration for active customers.\n",
    "\n",
    "Multiplication:\n",
    "\n",
    "Multiply the MonthlyCharges by the estimated duration to approximate TotalCharges.\n",
    "Handle Remaining Missing Values:\n",
    "\n",
    "If any missing values remain (e.g., invalid BeginDate), we replace them with the median of the TotalCharges column."
   ]
  },
  {
   "cell_type": "code",
   "execution_count": 11,
   "metadata": {},
   "outputs": [
    {
     "data": {
      "text/plain": [
       "0"
      ]
     },
     "execution_count": 11,
     "metadata": {},
     "output_type": "execute_result"
    }
   ],
   "source": [
    "df_contract[\"TotalCharges\"].isna().sum()"
   ]
  },
  {
   "cell_type": "markdown",
   "metadata": {},
   "source": [
    "NO missing values."
   ]
  },
  {
   "cell_type": "markdown",
   "metadata": {},
   "source": [
    " EndDate:\n",
    " \n",
    "- The missing values in EndDate indicate customers who are still active and have not churned.\n",
    "\n",
    "Steps:\n",
    "\n",
    "- Replace missing EndDate values with a placeholder date (e.g., today’s date) for analysis.\n",
    "\n",
    "Create a binary target column (Churn) where:\n",
    "- 1 for customers with a valid EndDate (churned).\n",
    "- 0 for customers with a missing EndDate (active).\n",
    "- Retain EndDate for potential feature engineering (e.g., contract duration)."
   ]
  },
  {
   "cell_type": "code",
   "execution_count": 12,
   "metadata": {},
   "outputs": [],
   "source": [
    "df_contract['EndDate'] = pd.to_datetime(df_contract['EndDate'], errors='coerce')\n",
    "df_contract['EndDate'].fillna(today, inplace=True)\n",
    "df_contract['Churn'] = (df_contract['EndDate'] != today).astype(int)"
   ]
  },
  {
   "cell_type": "code",
   "execution_count": 13,
   "metadata": {},
   "outputs": [
    {
     "data": {
      "text/html": [
       "<div>\n",
       "<style scoped>\n",
       "    .dataframe tbody tr th:only-of-type {\n",
       "        vertical-align: middle;\n",
       "    }\n",
       "\n",
       "    .dataframe tbody tr th {\n",
       "        vertical-align: top;\n",
       "    }\n",
       "\n",
       "    .dataframe thead th {\n",
       "        text-align: right;\n",
       "    }\n",
       "</style>\n",
       "<table border=\"1\" class=\"dataframe\">\n",
       "  <thead>\n",
       "    <tr style=\"text-align: right;\">\n",
       "      <th></th>\n",
       "      <th>customerID</th>\n",
       "      <th>BeginDate</th>\n",
       "      <th>EndDate</th>\n",
       "      <th>Type</th>\n",
       "      <th>PaperlessBilling</th>\n",
       "      <th>PaymentMethod</th>\n",
       "      <th>MonthlyCharges</th>\n",
       "      <th>TotalCharges</th>\n",
       "      <th>Churn</th>\n",
       "    </tr>\n",
       "  </thead>\n",
       "  <tbody>\n",
       "    <tr>\n",
       "      <th>0</th>\n",
       "      <td>7590-VHVEG</td>\n",
       "      <td>2020-01-01</td>\n",
       "      <td>2025-01-04 18:34:41.891827</td>\n",
       "      <td>Month-to-month</td>\n",
       "      <td>Yes</td>\n",
       "      <td>Electronic check</td>\n",
       "      <td>29.85</td>\n",
       "      <td>29.85</td>\n",
       "      <td>0</td>\n",
       "    </tr>\n",
       "    <tr>\n",
       "      <th>1</th>\n",
       "      <td>5575-GNVDE</td>\n",
       "      <td>2017-04-01</td>\n",
       "      <td>2025-01-04 18:34:41.891827</td>\n",
       "      <td>One year</td>\n",
       "      <td>No</td>\n",
       "      <td>Mailed check</td>\n",
       "      <td>56.95</td>\n",
       "      <td>1889.50</td>\n",
       "      <td>0</td>\n",
       "    </tr>\n",
       "    <tr>\n",
       "      <th>2</th>\n",
       "      <td>3668-QPYBK</td>\n",
       "      <td>2019-10-01</td>\n",
       "      <td>2019-12-01 00:00:00.000000</td>\n",
       "      <td>Month-to-month</td>\n",
       "      <td>Yes</td>\n",
       "      <td>Mailed check</td>\n",
       "      <td>53.85</td>\n",
       "      <td>108.15</td>\n",
       "      <td>1</td>\n",
       "    </tr>\n",
       "  </tbody>\n",
       "</table>\n",
       "</div>"
      ],
      "text/plain": [
       "   customerID  BeginDate                    EndDate            Type  \\\n",
       "0  7590-VHVEG 2020-01-01 2025-01-04 18:34:41.891827  Month-to-month   \n",
       "1  5575-GNVDE 2017-04-01 2025-01-04 18:34:41.891827        One year   \n",
       "2  3668-QPYBK 2019-10-01 2019-12-01 00:00:00.000000  Month-to-month   \n",
       "\n",
       "  PaperlessBilling     PaymentMethod  MonthlyCharges  TotalCharges  Churn  \n",
       "0              Yes  Electronic check           29.85         29.85      0  \n",
       "1               No      Mailed check           56.95       1889.50      0  \n",
       "2              Yes      Mailed check           53.85        108.15      1  "
      ]
     },
     "execution_count": 13,
     "metadata": {},
     "output_type": "execute_result"
    }
   ],
   "source": [
    "df_contract.head(3)"
   ]
  },
  {
   "cell_type": "markdown",
   "metadata": {},
   "source": [
    "#### Duplicates handling"
   ]
  },
  {
   "cell_type": "code",
   "execution_count": 14,
   "metadata": {},
   "outputs": [
    {
     "data": {
      "text/plain": [
       "0"
      ]
     },
     "execution_count": 14,
     "metadata": {},
     "output_type": "execute_result"
    }
   ],
   "source": [
    "df_contract.duplicated().sum()"
   ]
  },
  {
   "cell_type": "markdown",
   "metadata": {},
   "source": [
    "No duplicates found ."
   ]
  },
  {
   "cell_type": "markdown",
   "metadata": {},
   "source": [
    "### Personal Data"
   ]
  },
  {
   "cell_type": "code",
   "execution_count": 15,
   "metadata": {},
   "outputs": [
    {
     "data": {
      "text/html": [
       "<div>\n",
       "<style scoped>\n",
       "    .dataframe tbody tr th:only-of-type {\n",
       "        vertical-align: middle;\n",
       "    }\n",
       "\n",
       "    .dataframe tbody tr th {\n",
       "        vertical-align: top;\n",
       "    }\n",
       "\n",
       "    .dataframe thead th {\n",
       "        text-align: right;\n",
       "    }\n",
       "</style>\n",
       "<table border=\"1\" class=\"dataframe\">\n",
       "  <thead>\n",
       "    <tr style=\"text-align: right;\">\n",
       "      <th></th>\n",
       "      <th>customerID</th>\n",
       "      <th>gender</th>\n",
       "      <th>SeniorCitizen</th>\n",
       "      <th>Partner</th>\n",
       "      <th>Dependents</th>\n",
       "    </tr>\n",
       "  </thead>\n",
       "  <tbody>\n",
       "    <tr>\n",
       "      <th>0</th>\n",
       "      <td>7590-VHVEG</td>\n",
       "      <td>Female</td>\n",
       "      <td>0</td>\n",
       "      <td>Yes</td>\n",
       "      <td>No</td>\n",
       "    </tr>\n",
       "    <tr>\n",
       "      <th>1</th>\n",
       "      <td>5575-GNVDE</td>\n",
       "      <td>Male</td>\n",
       "      <td>0</td>\n",
       "      <td>No</td>\n",
       "      <td>No</td>\n",
       "    </tr>\n",
       "    <tr>\n",
       "      <th>2</th>\n",
       "      <td>3668-QPYBK</td>\n",
       "      <td>Male</td>\n",
       "      <td>0</td>\n",
       "      <td>No</td>\n",
       "      <td>No</td>\n",
       "    </tr>\n",
       "  </tbody>\n",
       "</table>\n",
       "</div>"
      ],
      "text/plain": [
       "   customerID  gender  SeniorCitizen Partner Dependents\n",
       "0  7590-VHVEG  Female              0     Yes         No\n",
       "1  5575-GNVDE    Male              0      No         No\n",
       "2  3668-QPYBK    Male              0      No         No"
      ]
     },
     "execution_count": 15,
     "metadata": {},
     "output_type": "execute_result"
    }
   ],
   "source": [
    "df_personal.head(3)"
   ]
  },
  {
   "cell_type": "markdown",
   "metadata": {},
   "source": [
    "Columns like Partner and Dependents should ideally be represented as binary values (0 or 1) instead of strings (Yes/No)."
   ]
  },
  {
   "cell_type": "code",
   "execution_count": 16,
   "metadata": {},
   "outputs": [],
   "source": [
    "df_personal['Partner'] = (df_personal['Partner'] == 'Yes').astype(int)\n",
    "df_personal['Dependents'] = (df_personal['Dependents'] == 'Yes').astype(int)\n"
   ]
  },
  {
   "cell_type": "markdown",
   "metadata": {},
   "source": [
    "gender Column:\n",
    "\n",
    "- gender is categorical and might need encoding for machine learning models.\n",
    "\n",
    "Solution: Use one-hot encoding or binary encoding depending on the model requirements."
   ]
  },
  {
   "cell_type": "code",
   "execution_count": 17,
   "metadata": {},
   "outputs": [],
   "source": [
    "df_personal['gender'] = (df_personal['gender'] == 'Female').astype(int)  # Female=1, Male=0\n"
   ]
  },
  {
   "cell_type": "code",
   "execution_count": 18,
   "metadata": {},
   "outputs": [
    {
     "data": {
      "text/html": [
       "<div>\n",
       "<style scoped>\n",
       "    .dataframe tbody tr th:only-of-type {\n",
       "        vertical-align: middle;\n",
       "    }\n",
       "\n",
       "    .dataframe tbody tr th {\n",
       "        vertical-align: top;\n",
       "    }\n",
       "\n",
       "    .dataframe thead th {\n",
       "        text-align: right;\n",
       "    }\n",
       "</style>\n",
       "<table border=\"1\" class=\"dataframe\">\n",
       "  <thead>\n",
       "    <tr style=\"text-align: right;\">\n",
       "      <th></th>\n",
       "      <th>customerID</th>\n",
       "      <th>gender</th>\n",
       "      <th>SeniorCitizen</th>\n",
       "      <th>Partner</th>\n",
       "      <th>Dependents</th>\n",
       "    </tr>\n",
       "  </thead>\n",
       "  <tbody>\n",
       "    <tr>\n",
       "      <th>0</th>\n",
       "      <td>7590-VHVEG</td>\n",
       "      <td>1</td>\n",
       "      <td>0</td>\n",
       "      <td>1</td>\n",
       "      <td>0</td>\n",
       "    </tr>\n",
       "    <tr>\n",
       "      <th>1</th>\n",
       "      <td>5575-GNVDE</td>\n",
       "      <td>0</td>\n",
       "      <td>0</td>\n",
       "      <td>0</td>\n",
       "      <td>0</td>\n",
       "    </tr>\n",
       "    <tr>\n",
       "      <th>2</th>\n",
       "      <td>3668-QPYBK</td>\n",
       "      <td>0</td>\n",
       "      <td>0</td>\n",
       "      <td>0</td>\n",
       "      <td>0</td>\n",
       "    </tr>\n",
       "  </tbody>\n",
       "</table>\n",
       "</div>"
      ],
      "text/plain": [
       "   customerID  gender  SeniorCitizen  Partner  Dependents\n",
       "0  7590-VHVEG       1              0        1           0\n",
       "1  5575-GNVDE       0              0        0           0\n",
       "2  3668-QPYBK       0              0        0           0"
      ]
     },
     "execution_count": 18,
     "metadata": {},
     "output_type": "execute_result"
    }
   ],
   "source": [
    "df_personal.head(3)"
   ]
  },
  {
   "cell_type": "code",
   "execution_count": 19,
   "metadata": {},
   "outputs": [
    {
     "data": {
      "text/html": [
       "<div>\n",
       "<style scoped>\n",
       "    .dataframe tbody tr th:only-of-type {\n",
       "        vertical-align: middle;\n",
       "    }\n",
       "\n",
       "    .dataframe tbody tr th {\n",
       "        vertical-align: top;\n",
       "    }\n",
       "\n",
       "    .dataframe thead th {\n",
       "        text-align: right;\n",
       "    }\n",
       "</style>\n",
       "<table border=\"1\" class=\"dataframe\">\n",
       "  <thead>\n",
       "    <tr style=\"text-align: right;\">\n",
       "      <th></th>\n",
       "      <th>gender</th>\n",
       "      <th>SeniorCitizen</th>\n",
       "      <th>Partner</th>\n",
       "      <th>Dependents</th>\n",
       "    </tr>\n",
       "  </thead>\n",
       "  <tbody>\n",
       "    <tr>\n",
       "      <th>count</th>\n",
       "      <td>7043.000000</td>\n",
       "      <td>7043.000000</td>\n",
       "      <td>7043.000000</td>\n",
       "      <td>7043.000000</td>\n",
       "    </tr>\n",
       "    <tr>\n",
       "      <th>mean</th>\n",
       "      <td>0.495244</td>\n",
       "      <td>0.162147</td>\n",
       "      <td>0.483033</td>\n",
       "      <td>0.299588</td>\n",
       "    </tr>\n",
       "    <tr>\n",
       "      <th>std</th>\n",
       "      <td>0.500013</td>\n",
       "      <td>0.368612</td>\n",
       "      <td>0.499748</td>\n",
       "      <td>0.458110</td>\n",
       "    </tr>\n",
       "    <tr>\n",
       "      <th>min</th>\n",
       "      <td>0.000000</td>\n",
       "      <td>0.000000</td>\n",
       "      <td>0.000000</td>\n",
       "      <td>0.000000</td>\n",
       "    </tr>\n",
       "    <tr>\n",
       "      <th>25%</th>\n",
       "      <td>0.000000</td>\n",
       "      <td>0.000000</td>\n",
       "      <td>0.000000</td>\n",
       "      <td>0.000000</td>\n",
       "    </tr>\n",
       "    <tr>\n",
       "      <th>50%</th>\n",
       "      <td>0.000000</td>\n",
       "      <td>0.000000</td>\n",
       "      <td>0.000000</td>\n",
       "      <td>0.000000</td>\n",
       "    </tr>\n",
       "    <tr>\n",
       "      <th>75%</th>\n",
       "      <td>1.000000</td>\n",
       "      <td>0.000000</td>\n",
       "      <td>1.000000</td>\n",
       "      <td>1.000000</td>\n",
       "    </tr>\n",
       "    <tr>\n",
       "      <th>max</th>\n",
       "      <td>1.000000</td>\n",
       "      <td>1.000000</td>\n",
       "      <td>1.000000</td>\n",
       "      <td>1.000000</td>\n",
       "    </tr>\n",
       "  </tbody>\n",
       "</table>\n",
       "</div>"
      ],
      "text/plain": [
       "            gender  SeniorCitizen      Partner   Dependents\n",
       "count  7043.000000    7043.000000  7043.000000  7043.000000\n",
       "mean      0.495244       0.162147     0.483033     0.299588\n",
       "std       0.500013       0.368612     0.499748     0.458110\n",
       "min       0.000000       0.000000     0.000000     0.000000\n",
       "25%       0.000000       0.000000     0.000000     0.000000\n",
       "50%       0.000000       0.000000     0.000000     0.000000\n",
       "75%       1.000000       0.000000     1.000000     1.000000\n",
       "max       1.000000       1.000000     1.000000     1.000000"
      ]
     },
     "execution_count": 19,
     "metadata": {},
     "output_type": "execute_result"
    }
   ],
   "source": [
    "df_personal.describe()"
   ]
  },
  {
   "cell_type": "markdown",
   "metadata": {},
   "source": [
    "\n",
    "SeniorCitizen:\n",
    "\n",
    "- Mean: ~16% of the customers are senior citizens.\n",
    "\n",
    "- Standard deviation suggests the data is heavily skewed towards non-senior citizens.\n"
   ]
  },
  {
   "cell_type": "code",
   "execution_count": 20,
   "metadata": {},
   "outputs": [
    {
     "name": "stdout",
     "output_type": "stream",
     "text": [
      "<class 'pandas.core.frame.DataFrame'>\n",
      "RangeIndex: 7043 entries, 0 to 7042\n",
      "Data columns (total 5 columns):\n",
      " #   Column         Non-Null Count  Dtype \n",
      "---  ------         --------------  ----- \n",
      " 0   customerID     7043 non-null   object\n",
      " 1   gender         7043 non-null   int64 \n",
      " 2   SeniorCitizen  7043 non-null   int64 \n",
      " 3   Partner        7043 non-null   int64 \n",
      " 4   Dependents     7043 non-null   int64 \n",
      "dtypes: int64(4), object(1)\n",
      "memory usage: 275.2+ KB\n"
     ]
    }
   ],
   "source": [
    "df_personal.info()"
   ]
  },
  {
   "cell_type": "markdown",
   "metadata": {},
   "source": [
    "No missing values across all columns."
   ]
  },
  {
   "cell_type": "markdown",
   "metadata": {},
   "source": [
    "**Key Insights**\n",
    "\n",
    "\n",
    "Senior Citizens:\n",
    "\n",
    "- Only ~16% of the customers are senior citizens, indicating a majority younger customer base.\n",
    "\n",
    "Partner and Dependents:\n",
    "\n",
    " These features can help identify whether family-related factors influence churn. For instance:\n",
    "- Customers with partners might have longer retention.\n",
    "- Customers with dependents might prioritize stable services.\n",
    "\n",
    "\n",
    "Gender:\n",
    "\n",
    "- The gender column might reveal insights when combined with churn or other contract-related features."
   ]
  },
  {
   "cell_type": "markdown",
   "metadata": {},
   "source": [
    "### internet Data "
   ]
  },
  {
   "cell_type": "code",
   "execution_count": 21,
   "metadata": {},
   "outputs": [
    {
     "data": {
      "text/html": [
       "<div>\n",
       "<style scoped>\n",
       "    .dataframe tbody tr th:only-of-type {\n",
       "        vertical-align: middle;\n",
       "    }\n",
       "\n",
       "    .dataframe tbody tr th {\n",
       "        vertical-align: top;\n",
       "    }\n",
       "\n",
       "    .dataframe thead th {\n",
       "        text-align: right;\n",
       "    }\n",
       "</style>\n",
       "<table border=\"1\" class=\"dataframe\">\n",
       "  <thead>\n",
       "    <tr style=\"text-align: right;\">\n",
       "      <th></th>\n",
       "      <th>customerID</th>\n",
       "      <th>InternetService</th>\n",
       "      <th>OnlineSecurity</th>\n",
       "      <th>OnlineBackup</th>\n",
       "      <th>DeviceProtection</th>\n",
       "      <th>TechSupport</th>\n",
       "      <th>StreamingTV</th>\n",
       "      <th>StreamingMovies</th>\n",
       "    </tr>\n",
       "  </thead>\n",
       "  <tbody>\n",
       "    <tr>\n",
       "      <th>0</th>\n",
       "      <td>7590-VHVEG</td>\n",
       "      <td>DSL</td>\n",
       "      <td>No</td>\n",
       "      <td>Yes</td>\n",
       "      <td>No</td>\n",
       "      <td>No</td>\n",
       "      <td>No</td>\n",
       "      <td>No</td>\n",
       "    </tr>\n",
       "    <tr>\n",
       "      <th>1</th>\n",
       "      <td>5575-GNVDE</td>\n",
       "      <td>DSL</td>\n",
       "      <td>Yes</td>\n",
       "      <td>No</td>\n",
       "      <td>Yes</td>\n",
       "      <td>No</td>\n",
       "      <td>No</td>\n",
       "      <td>No</td>\n",
       "    </tr>\n",
       "    <tr>\n",
       "      <th>2</th>\n",
       "      <td>3668-QPYBK</td>\n",
       "      <td>DSL</td>\n",
       "      <td>Yes</td>\n",
       "      <td>Yes</td>\n",
       "      <td>No</td>\n",
       "      <td>No</td>\n",
       "      <td>No</td>\n",
       "      <td>No</td>\n",
       "    </tr>\n",
       "    <tr>\n",
       "      <th>3</th>\n",
       "      <td>7795-CFOCW</td>\n",
       "      <td>DSL</td>\n",
       "      <td>Yes</td>\n",
       "      <td>No</td>\n",
       "      <td>Yes</td>\n",
       "      <td>Yes</td>\n",
       "      <td>No</td>\n",
       "      <td>No</td>\n",
       "    </tr>\n",
       "    <tr>\n",
       "      <th>4</th>\n",
       "      <td>9237-HQITU</td>\n",
       "      <td>Fiber optic</td>\n",
       "      <td>No</td>\n",
       "      <td>No</td>\n",
       "      <td>No</td>\n",
       "      <td>No</td>\n",
       "      <td>No</td>\n",
       "      <td>No</td>\n",
       "    </tr>\n",
       "  </tbody>\n",
       "</table>\n",
       "</div>"
      ],
      "text/plain": [
       "   customerID InternetService OnlineSecurity OnlineBackup DeviceProtection  \\\n",
       "0  7590-VHVEG             DSL             No          Yes               No   \n",
       "1  5575-GNVDE             DSL            Yes           No              Yes   \n",
       "2  3668-QPYBK             DSL            Yes          Yes               No   \n",
       "3  7795-CFOCW             DSL            Yes           No              Yes   \n",
       "4  9237-HQITU     Fiber optic             No           No               No   \n",
       "\n",
       "  TechSupport StreamingTV StreamingMovies  \n",
       "0          No          No              No  \n",
       "1          No          No              No  \n",
       "2          No          No              No  \n",
       "3         Yes          No              No  \n",
       "4          No          No              No  "
      ]
     },
     "execution_count": 21,
     "metadata": {},
     "output_type": "execute_result"
    }
   ],
   "source": [
    "df_internet.head()"
   ]
  },
  {
   "cell_type": "code",
   "execution_count": 22,
   "metadata": {},
   "outputs": [
    {
     "data": {
      "text/plain": [
       "array(['DSL', 'Fiber optic'], dtype=object)"
      ]
     },
     "execution_count": 22,
     "metadata": {},
     "output_type": "execute_result"
    }
   ],
   "source": [
    "df_internet[\"InternetService\"].unique()"
   ]
  },
  {
   "cell_type": "code",
   "execution_count": 23,
   "metadata": {},
   "outputs": [
    {
     "data": {
      "text/html": [
       "<div>\n",
       "<style scoped>\n",
       "    .dataframe tbody tr th:only-of-type {\n",
       "        vertical-align: middle;\n",
       "    }\n",
       "\n",
       "    .dataframe tbody tr th {\n",
       "        vertical-align: top;\n",
       "    }\n",
       "\n",
       "    .dataframe thead th {\n",
       "        text-align: right;\n",
       "    }\n",
       "</style>\n",
       "<table border=\"1\" class=\"dataframe\">\n",
       "  <thead>\n",
       "    <tr style=\"text-align: right;\">\n",
       "      <th></th>\n",
       "      <th>customerID</th>\n",
       "      <th>InternetService</th>\n",
       "      <th>OnlineSecurity</th>\n",
       "      <th>OnlineBackup</th>\n",
       "      <th>DeviceProtection</th>\n",
       "      <th>TechSupport</th>\n",
       "      <th>StreamingTV</th>\n",
       "      <th>StreamingMovies</th>\n",
       "    </tr>\n",
       "  </thead>\n",
       "  <tbody>\n",
       "    <tr>\n",
       "      <th>count</th>\n",
       "      <td>5517</td>\n",
       "      <td>5517</td>\n",
       "      <td>5517</td>\n",
       "      <td>5517</td>\n",
       "      <td>5517</td>\n",
       "      <td>5517</td>\n",
       "      <td>5517</td>\n",
       "      <td>5517</td>\n",
       "    </tr>\n",
       "    <tr>\n",
       "      <th>unique</th>\n",
       "      <td>5517</td>\n",
       "      <td>2</td>\n",
       "      <td>2</td>\n",
       "      <td>2</td>\n",
       "      <td>2</td>\n",
       "      <td>2</td>\n",
       "      <td>2</td>\n",
       "      <td>2</td>\n",
       "    </tr>\n",
       "    <tr>\n",
       "      <th>top</th>\n",
       "      <td>8496-DMZUK</td>\n",
       "      <td>Fiber optic</td>\n",
       "      <td>No</td>\n",
       "      <td>No</td>\n",
       "      <td>No</td>\n",
       "      <td>No</td>\n",
       "      <td>No</td>\n",
       "      <td>No</td>\n",
       "    </tr>\n",
       "    <tr>\n",
       "      <th>freq</th>\n",
       "      <td>1</td>\n",
       "      <td>3096</td>\n",
       "      <td>3498</td>\n",
       "      <td>3088</td>\n",
       "      <td>3095</td>\n",
       "      <td>3473</td>\n",
       "      <td>2810</td>\n",
       "      <td>2785</td>\n",
       "    </tr>\n",
       "  </tbody>\n",
       "</table>\n",
       "</div>"
      ],
      "text/plain": [
       "        customerID InternetService OnlineSecurity OnlineBackup  \\\n",
       "count         5517            5517           5517         5517   \n",
       "unique        5517               2              2            2   \n",
       "top     8496-DMZUK     Fiber optic             No           No   \n",
       "freq             1            3096           3498         3088   \n",
       "\n",
       "       DeviceProtection TechSupport StreamingTV StreamingMovies  \n",
       "count              5517        5517        5517            5517  \n",
       "unique                2           2           2               2  \n",
       "top                  No          No          No              No  \n",
       "freq               3095        3473        2810            2785  "
      ]
     },
     "execution_count": 23,
     "metadata": {},
     "output_type": "execute_result"
    }
   ],
   "source": [
    "df_internet.describe()"
   ]
  },
  {
   "cell_type": "code",
   "execution_count": 24,
   "metadata": {},
   "outputs": [
    {
     "name": "stdout",
     "output_type": "stream",
     "text": [
      "<class 'pandas.core.frame.DataFrame'>\n",
      "RangeIndex: 5517 entries, 0 to 5516\n",
      "Data columns (total 8 columns):\n",
      " #   Column            Non-Null Count  Dtype \n",
      "---  ------            --------------  ----- \n",
      " 0   customerID        5517 non-null   object\n",
      " 1   InternetService   5517 non-null   object\n",
      " 2   OnlineSecurity    5517 non-null   object\n",
      " 3   OnlineBackup      5517 non-null   object\n",
      " 4   DeviceProtection  5517 non-null   object\n",
      " 5   TechSupport       5517 non-null   object\n",
      " 6   StreamingTV       5517 non-null   object\n",
      " 7   StreamingMovies   5517 non-null   object\n",
      "dtypes: object(8)\n",
      "memory usage: 344.9+ KB\n"
     ]
    }
   ],
   "source": [
    "df_internet.info()"
   ]
  },
  {
   "cell_type": "markdown",
   "metadata": {},
   "source": [
    "**Encode Binary Columns:**\n",
    "\n",
    "- Convert Yes/No columns to binary values (1 for Yes, 0 for No) for easier analysis."
   ]
  },
  {
   "cell_type": "code",
   "execution_count": 25,
   "metadata": {},
   "outputs": [],
   "source": [
    "binary_cols = ['OnlineSecurity', 'OnlineBackup', 'DeviceProtection', \n",
    "               'TechSupport', 'StreamingTV', 'StreamingMovies']\n",
    "df_internet[binary_cols] = df_internet[binary_cols].apply(lambda x: (x == 'Yes').astype(int))\n"
   ]
  },
  {
   "cell_type": "markdown",
   "metadata": {},
   "source": [
    "Convert InternetService to Categorical:\n",
    "\n",
    "- Use one-hot encoding or label encoding for the InternetService column."
   ]
  },
  {
   "cell_type": "code",
   "execution_count": 26,
   "metadata": {},
   "outputs": [
    {
     "data": {
      "text/html": [
       "<div>\n",
       "<style scoped>\n",
       "    .dataframe tbody tr th:only-of-type {\n",
       "        vertical-align: middle;\n",
       "    }\n",
       "\n",
       "    .dataframe tbody tr th {\n",
       "        vertical-align: top;\n",
       "    }\n",
       "\n",
       "    .dataframe thead th {\n",
       "        text-align: right;\n",
       "    }\n",
       "</style>\n",
       "<table border=\"1\" class=\"dataframe\">\n",
       "  <thead>\n",
       "    <tr style=\"text-align: right;\">\n",
       "      <th></th>\n",
       "      <th>customerID</th>\n",
       "      <th>OnlineSecurity</th>\n",
       "      <th>OnlineBackup</th>\n",
       "      <th>DeviceProtection</th>\n",
       "      <th>TechSupport</th>\n",
       "      <th>StreamingTV</th>\n",
       "      <th>StreamingMovies</th>\n",
       "      <th>InternetService_Fiber optic</th>\n",
       "    </tr>\n",
       "  </thead>\n",
       "  <tbody>\n",
       "    <tr>\n",
       "      <th>0</th>\n",
       "      <td>7590-VHVEG</td>\n",
       "      <td>0</td>\n",
       "      <td>1</td>\n",
       "      <td>0</td>\n",
       "      <td>0</td>\n",
       "      <td>0</td>\n",
       "      <td>0</td>\n",
       "      <td>0</td>\n",
       "    </tr>\n",
       "    <tr>\n",
       "      <th>1</th>\n",
       "      <td>5575-GNVDE</td>\n",
       "      <td>1</td>\n",
       "      <td>0</td>\n",
       "      <td>1</td>\n",
       "      <td>0</td>\n",
       "      <td>0</td>\n",
       "      <td>0</td>\n",
       "      <td>0</td>\n",
       "    </tr>\n",
       "    <tr>\n",
       "      <th>2</th>\n",
       "      <td>3668-QPYBK</td>\n",
       "      <td>1</td>\n",
       "      <td>1</td>\n",
       "      <td>0</td>\n",
       "      <td>0</td>\n",
       "      <td>0</td>\n",
       "      <td>0</td>\n",
       "      <td>0</td>\n",
       "    </tr>\n",
       "    <tr>\n",
       "      <th>3</th>\n",
       "      <td>7795-CFOCW</td>\n",
       "      <td>1</td>\n",
       "      <td>0</td>\n",
       "      <td>1</td>\n",
       "      <td>1</td>\n",
       "      <td>0</td>\n",
       "      <td>0</td>\n",
       "      <td>0</td>\n",
       "    </tr>\n",
       "    <tr>\n",
       "      <th>4</th>\n",
       "      <td>9237-HQITU</td>\n",
       "      <td>0</td>\n",
       "      <td>0</td>\n",
       "      <td>0</td>\n",
       "      <td>0</td>\n",
       "      <td>0</td>\n",
       "      <td>0</td>\n",
       "      <td>1</td>\n",
       "    </tr>\n",
       "  </tbody>\n",
       "</table>\n",
       "</div>"
      ],
      "text/plain": [
       "   customerID  OnlineSecurity  OnlineBackup  DeviceProtection  TechSupport  \\\n",
       "0  7590-VHVEG               0             1                 0            0   \n",
       "1  5575-GNVDE               1             0                 1            0   \n",
       "2  3668-QPYBK               1             1                 0            0   \n",
       "3  7795-CFOCW               1             0                 1            1   \n",
       "4  9237-HQITU               0             0                 0            0   \n",
       "\n",
       "   StreamingTV  StreamingMovies  InternetService_Fiber optic  \n",
       "0            0                0                            0  \n",
       "1            0                0                            0  \n",
       "2            0                0                            0  \n",
       "3            0                0                            0  \n",
       "4            0                0                            1  "
      ]
     },
     "execution_count": 26,
     "metadata": {},
     "output_type": "execute_result"
    }
   ],
   "source": [
    "df_internet = pd.get_dummies(df_internet, columns=[\"InternetService\"], drop_first=True)\n",
    "\n",
    "# Check the resulting columns\n",
    "df_internet.head()"
   ]
  },
  {
   "cell_type": "code",
   "execution_count": 27,
   "metadata": {},
   "outputs": [
    {
     "name": "stdout",
     "output_type": "stream",
     "text": [
      "<class 'pandas.core.frame.DataFrame'>\n",
      "RangeIndex: 5517 entries, 0 to 5516\n",
      "Data columns (total 8 columns):\n",
      " #   Column                       Non-Null Count  Dtype \n",
      "---  ------                       --------------  ----- \n",
      " 0   customerID                   5517 non-null   object\n",
      " 1   OnlineSecurity               5517 non-null   int64 \n",
      " 2   OnlineBackup                 5517 non-null   int64 \n",
      " 3   DeviceProtection             5517 non-null   int64 \n",
      " 4   TechSupport                  5517 non-null   int64 \n",
      " 5   StreamingTV                  5517 non-null   int64 \n",
      " 6   StreamingMovies              5517 non-null   int64 \n",
      " 7   InternetService_Fiber optic  5517 non-null   uint8 \n",
      "dtypes: int64(6), object(1), uint8(1)\n",
      "memory usage: 307.2+ KB\n"
     ]
    }
   ],
   "source": [
    "df_internet.info()"
   ]
  },
  {
   "cell_type": "code",
   "execution_count": 28,
   "metadata": {},
   "outputs": [
    {
     "data": {
      "text/plain": [
       "OnlineSecurity      36.595976\n",
       "OnlineBackup        44.027551\n",
       "DeviceProtection    43.900671\n",
       "TechSupport         37.049121\n",
       "StreamingTV         49.066522\n",
       "StreamingMovies     49.519666\n",
       "dtype: float64"
      ]
     },
     "execution_count": 28,
     "metadata": {},
     "output_type": "execute_result"
    }
   ],
   "source": [
    "#Checking the percentage of customers using each type of service.\n",
    "\n",
    "df_internet[binary_cols].mean() * 100\n"
   ]
  },
  {
   "cell_type": "markdown",
   "metadata": {},
   "source": [
    "**Most Popular Services:**\n",
    "\n",
    "- StreamingTV and StreamingMovies are the most used services, with nearly half of the customers opting for them (49.07% and 49.52%, respectively). This indicates that entertainment services are a key offering for the internet provider.\n",
    "\n",
    "\n",
    "**Moderately Used Services:**\n",
    "\n",
    "- OnlineBackup and DeviceProtection have similar usage rates, with approximately 44% of customers using these services. This suggests a moderate interest in data security and device protection services.\n",
    "\n",
    "\n",
    "**Least Popular Services:**\n",
    "\n",
    "- TechSupport and OnlineSecurity are the least used services, with adoption rates of 37.05% and 36.60%, respectively. This could indicate a lack of perceived value in these services or a gap in customer awareness about their benefits.\n",
    "\n",
    "\n",
    "**General Trends:**\n",
    "\n",
    "- A significant proportion of customers (over 50%) do not use any additional services beyond basic internet. This suggests potential upselling opportunities for the internet provider."
   ]
  },
  {
   "cell_type": "markdown",
   "metadata": {},
   "source": [
    "### phone Data"
   ]
  },
  {
   "cell_type": "code",
   "execution_count": 29,
   "metadata": {},
   "outputs": [
    {
     "data": {
      "text/html": [
       "<div>\n",
       "<style scoped>\n",
       "    .dataframe tbody tr th:only-of-type {\n",
       "        vertical-align: middle;\n",
       "    }\n",
       "\n",
       "    .dataframe tbody tr th {\n",
       "        vertical-align: top;\n",
       "    }\n",
       "\n",
       "    .dataframe thead th {\n",
       "        text-align: right;\n",
       "    }\n",
       "</style>\n",
       "<table border=\"1\" class=\"dataframe\">\n",
       "  <thead>\n",
       "    <tr style=\"text-align: right;\">\n",
       "      <th></th>\n",
       "      <th>customerID</th>\n",
       "      <th>MultipleLines</th>\n",
       "    </tr>\n",
       "  </thead>\n",
       "  <tbody>\n",
       "    <tr>\n",
       "      <th>0</th>\n",
       "      <td>5575-GNVDE</td>\n",
       "      <td>No</td>\n",
       "    </tr>\n",
       "    <tr>\n",
       "      <th>1</th>\n",
       "      <td>3668-QPYBK</td>\n",
       "      <td>No</td>\n",
       "    </tr>\n",
       "    <tr>\n",
       "      <th>2</th>\n",
       "      <td>9237-HQITU</td>\n",
       "      <td>No</td>\n",
       "    </tr>\n",
       "    <tr>\n",
       "      <th>3</th>\n",
       "      <td>9305-CDSKC</td>\n",
       "      <td>Yes</td>\n",
       "    </tr>\n",
       "    <tr>\n",
       "      <th>4</th>\n",
       "      <td>1452-KIOVK</td>\n",
       "      <td>Yes</td>\n",
       "    </tr>\n",
       "  </tbody>\n",
       "</table>\n",
       "</div>"
      ],
      "text/plain": [
       "   customerID MultipleLines\n",
       "0  5575-GNVDE            No\n",
       "1  3668-QPYBK            No\n",
       "2  9237-HQITU            No\n",
       "3  9305-CDSKC           Yes\n",
       "4  1452-KIOVK           Yes"
      ]
     },
     "execution_count": 29,
     "metadata": {},
     "output_type": "execute_result"
    }
   ],
   "source": [
    "df_phone.head()"
   ]
  },
  {
   "cell_type": "code",
   "execution_count": 30,
   "metadata": {},
   "outputs": [
    {
     "name": "stdout",
     "output_type": "stream",
     "text": [
      "<class 'pandas.core.frame.DataFrame'>\n",
      "RangeIndex: 6361 entries, 0 to 6360\n",
      "Data columns (total 2 columns):\n",
      " #   Column         Non-Null Count  Dtype \n",
      "---  ------         --------------  ----- \n",
      " 0   customerID     6361 non-null   object\n",
      " 1   MultipleLines  6361 non-null   object\n",
      "dtypes: object(2)\n",
      "memory usage: 99.5+ KB\n"
     ]
    }
   ],
   "source": [
    "df_phone.info()"
   ]
  },
  {
   "cell_type": "code",
   "execution_count": 31,
   "metadata": {},
   "outputs": [
    {
     "data": {
      "text/html": [
       "<div>\n",
       "<style scoped>\n",
       "    .dataframe tbody tr th:only-of-type {\n",
       "        vertical-align: middle;\n",
       "    }\n",
       "\n",
       "    .dataframe tbody tr th {\n",
       "        vertical-align: top;\n",
       "    }\n",
       "\n",
       "    .dataframe thead th {\n",
       "        text-align: right;\n",
       "    }\n",
       "</style>\n",
       "<table border=\"1\" class=\"dataframe\">\n",
       "  <thead>\n",
       "    <tr style=\"text-align: right;\">\n",
       "      <th></th>\n",
       "      <th>customerID</th>\n",
       "      <th>MultipleLines</th>\n",
       "    </tr>\n",
       "  </thead>\n",
       "  <tbody>\n",
       "    <tr>\n",
       "      <th>count</th>\n",
       "      <td>6361</td>\n",
       "      <td>6361</td>\n",
       "    </tr>\n",
       "    <tr>\n",
       "      <th>unique</th>\n",
       "      <td>6361</td>\n",
       "      <td>2</td>\n",
       "    </tr>\n",
       "    <tr>\n",
       "      <th>top</th>\n",
       "      <td>5301-GAUUY</td>\n",
       "      <td>No</td>\n",
       "    </tr>\n",
       "    <tr>\n",
       "      <th>freq</th>\n",
       "      <td>1</td>\n",
       "      <td>3390</td>\n",
       "    </tr>\n",
       "  </tbody>\n",
       "</table>\n",
       "</div>"
      ],
      "text/plain": [
       "        customerID MultipleLines\n",
       "count         6361          6361\n",
       "unique        6361             2\n",
       "top     5301-GAUUY            No\n",
       "freq             1          3390"
      ]
     },
     "execution_count": 31,
     "metadata": {},
     "output_type": "execute_result"
    }
   ],
   "source": [
    "df_phone.describe()"
   ]
  },
  {
   "cell_type": "markdown",
   "metadata": {},
   "source": [
    "The dataset df_phone contains two columns: customerID and MultipleLines. Here's an analysis of the data:\n",
    "\n",
    "Data Structure:\n",
    "\n",
    "- The customerID column contains 6361 unique entries, with no missing values. It appears to be an identifier.\n",
    "- The MultipleLines column has only two unique values: \"Yes\" and \"No.\" This column indicates whether the customer has multiple lines, with \"No\" being the most frequent (3390 occurrences) and \"Yes\" less frequent (2971 occurrences).\n",
    "\n",
    "Potential Issues:\n",
    "\n",
    "- Categorical Encoding: The MultipleLines column is a categorical variable stored as a string (object dtype). If you intend to use this data for modeling, it needs to be converted into a numerical format (e.g., using one-hot encoding or label encoding).\n",
    "- CustomerID Usage: The customerID column is a unique identifier, which may not be relevant for analysis or prediction models directly, as it's likely non-informative for the model's performance."
   ]
  },
  {
   "cell_type": "markdown",
   "metadata": {},
   "source": [
    "**Handle the MultipleLines column:**\n",
    "\n",
    "\n",
    "- Label Encoding: Convert \"Yes\" and \"No\" to numerical values (e.g., 1 for \"Yes\" and 0 for \"No\").\n",
    "- One-Hot Encoding: Create binary columns indicating whether a customer has multiple lines."
   ]
  },
  {
   "cell_type": "code",
   "execution_count": 32,
   "metadata": {},
   "outputs": [],
   "source": [
    "# Convert 'MultipleLines' to numeric using Label Encoding\n",
    "df_phone['MultipleLines'] = df_phone['MultipleLines'].map({'No': 0, 'Yes': 1})\n"
   ]
  },
  {
   "cell_type": "code",
   "execution_count": 33,
   "metadata": {},
   "outputs": [
    {
     "data": {
      "text/html": [
       "<div>\n",
       "<style scoped>\n",
       "    .dataframe tbody tr th:only-of-type {\n",
       "        vertical-align: middle;\n",
       "    }\n",
       "\n",
       "    .dataframe tbody tr th {\n",
       "        vertical-align: top;\n",
       "    }\n",
       "\n",
       "    .dataframe thead th {\n",
       "        text-align: right;\n",
       "    }\n",
       "</style>\n",
       "<table border=\"1\" class=\"dataframe\">\n",
       "  <thead>\n",
       "    <tr style=\"text-align: right;\">\n",
       "      <th></th>\n",
       "      <th>customerID</th>\n",
       "      <th>MultipleLines</th>\n",
       "    </tr>\n",
       "  </thead>\n",
       "  <tbody>\n",
       "    <tr>\n",
       "      <th>0</th>\n",
       "      <td>5575-GNVDE</td>\n",
       "      <td>0</td>\n",
       "    </tr>\n",
       "    <tr>\n",
       "      <th>1</th>\n",
       "      <td>3668-QPYBK</td>\n",
       "      <td>0</td>\n",
       "    </tr>\n",
       "    <tr>\n",
       "      <th>2</th>\n",
       "      <td>9237-HQITU</td>\n",
       "      <td>0</td>\n",
       "    </tr>\n",
       "  </tbody>\n",
       "</table>\n",
       "</div>"
      ],
      "text/plain": [
       "   customerID  MultipleLines\n",
       "0  5575-GNVDE              0\n",
       "1  3668-QPYBK              0\n",
       "2  9237-HQITU              0"
      ]
     },
     "execution_count": 33,
     "metadata": {},
     "output_type": "execute_result"
    }
   ],
   "source": [
    "df_phone.head(3)"
   ]
  },
  {
   "cell_type": "markdown",
   "metadata": {},
   "source": [
    "####  Merge datasets"
   ]
  },
  {
   "cell_type": "code",
   "execution_count": 34,
   "metadata": {},
   "outputs": [],
   "source": [
    "# Merge datasets\n",
    "merged_df = df_contract.merge(df_personal, on=\"customerID\", how=\"left\")\n",
    "merged_df = merged_df.merge(df_internet, on=\"customerID\", how=\"left\")\n",
    "merged_df = merged_df.merge(df_phone, on=\"customerID\", how=\"left\")"
   ]
  },
  {
   "cell_type": "markdown",
   "metadata": {},
   "source": [
    "#### Drop unnecessary features"
   ]
  },
  {
   "cell_type": "code",
   "execution_count": 35,
   "metadata": {},
   "outputs": [],
   "source": [
    "# Drop columns not needed for modeling\n",
    "merged_df.drop(columns=['customerID', 'BeginDate', 'EndDate'], inplace=True)"
   ]
  },
  {
   "cell_type": "markdown",
   "metadata": {},
   "source": [
    "#### Find missing values"
   ]
  },
  {
   "cell_type": "code",
   "execution_count": 36,
   "metadata": {},
   "outputs": [
    {
     "data": {
      "text/plain": [
       "Type                              0\n",
       "PaperlessBilling                  0\n",
       "PaymentMethod                     0\n",
       "MonthlyCharges                    0\n",
       "TotalCharges                      0\n",
       "Churn                             0\n",
       "gender                            0\n",
       "SeniorCitizen                     0\n",
       "Partner                           0\n",
       "Dependents                        0\n",
       "OnlineSecurity                 1526\n",
       "OnlineBackup                   1526\n",
       "DeviceProtection               1526\n",
       "TechSupport                    1526\n",
       "StreamingTV                    1526\n",
       "StreamingMovies                1526\n",
       "InternetService_Fiber optic    1526\n",
       "MultipleLines                   682\n",
       "dtype: int64"
      ]
     },
     "execution_count": 36,
     "metadata": {},
     "output_type": "execute_result"
    }
   ],
   "source": [
    "# Check for missing values\n",
    "missing_values = merged_df.isnull().sum()\n",
    "missing_values\n"
   ]
  },
  {
   "cell_type": "markdown",
   "metadata": {},
   "source": [
    "**Handling Categorical Features:**\n",
    "\n",
    "- Impute Missing Values with a New Category (\"Unknown\")\n",
    "- Since these are categorical features, you can create a new category to represent missing values (e.g., Unknown or Not Applicable). This approach is suitable if the missingness is systematic (e.g., customers not using a certain service)."
   ]
  },
  {
   "cell_type": "code",
   "execution_count": 37,
   "metadata": {},
   "outputs": [],
   "source": [
    "# Replace missing values with 'Unknown'\n",
    "cols_to_impute = ['OnlineSecurity', 'OnlineBackup', 'DeviceProtection', 'TechSupport', \n",
    "                  'StreamingTV', 'StreamingMovies', 'InternetService_Fiber optic', 'MultipleLines']\n",
    "#merged_df[cols_to_impute] = merged_df[cols_to_impute].fillna('Unknown')\n",
    "\n",
    "\n",
    "for col in cols_to_impute:\n",
    "    merged_df[col] = merged_df[col].fillna(merged_df[col].mode()[0])"
   ]
  },
  {
   "cell_type": "code",
   "execution_count": 38,
   "metadata": {},
   "outputs": [
    {
     "data": {
      "text/plain": [
       "Type                           0\n",
       "PaperlessBilling               0\n",
       "PaymentMethod                  0\n",
       "MonthlyCharges                 0\n",
       "TotalCharges                   0\n",
       "Churn                          0\n",
       "gender                         0\n",
       "SeniorCitizen                  0\n",
       "Partner                        0\n",
       "Dependents                     0\n",
       "OnlineSecurity                 0\n",
       "OnlineBackup                   0\n",
       "DeviceProtection               0\n",
       "TechSupport                    0\n",
       "StreamingTV                    0\n",
       "StreamingMovies                0\n",
       "InternetService_Fiber optic    0\n",
       "MultipleLines                  0\n",
       "dtype: int64"
      ]
     },
     "execution_count": 38,
     "metadata": {},
     "output_type": "execute_result"
    }
   ],
   "source": [
    "# Check for missing values\n",
    "missing_values = merged_df.isnull().sum()\n",
    "missing_values\n"
   ]
  },
  {
   "cell_type": "markdown",
   "metadata": {},
   "source": [
    "#### Distribution of Numerical Features:"
   ]
  },
  {
   "cell_type": "markdown",
   "metadata": {},
   "source": [
    "MonthlyCharges:\n",
    "\n",
    "- Check how the charges vary and if they have any relationship with churn.\n",
    "\n",
    "- Create a histogram or box plot to see the distribution and any potential differences between customers who churn vs those who don't.\n",
    "\n",
    "\n",
    "TotalCharges: \n",
    "\n",
    "- This can be similarly analyzed, as it represents the cumulative charges. It may have skewness or outliers that could affect churn."
   ]
  },
  {
   "cell_type": "code",
   "execution_count": 39,
   "metadata": {},
   "outputs": [
    {
     "data": {
      "image/png": "[encoded data removed]",
      "text/plain": [
       "<Figure size 700x400 with 1 Axes>"
      ]
     },
     "metadata": {},
     "output_type": "display_data"
    }
   ],
   "source": [
    "\n",
    "# Plot histograms for numerical features\n",
    "plt.figure(figsize=(7, 4))\n",
    "sns.histplot(data=merged_df, x='MonthlyCharges', hue='Churn', kde=True, bins=30)\n",
    "plt.title('Monthly Charges Distribution by Churn')\n",
    "plt.show()\n",
    "\n"
   ]
  },
  {
   "cell_type": "markdown",
   "metadata": {},
   "source": [
    "**Observations:**\n",
    "\n",
    "\n",
    "The image presents two histograms, both exploring the relationship between customer churn and different billing aspects. \n",
    "\n",
    "Monthly Charges Distribution by Churn: \n",
    "\n",
    "This histogram shows how monthly charges are distributed among customers who churned (orange) and those who didn't (blue). \n",
    "The majority of customers who didn't churn fall within the lower monthly charge range, while churned customers are more evenly distributed across the different charge levels. \n",
    "\n",
    "This suggests that higher monthly charges could be a contributing factor to customer churn. \n",
    "\n",
    "Total Charges Distribution by Churn: \n",
    "\n",
    "\n",
    "This histogram illustrates the distribution of total charges for churned and non-churned customers. \n",
    "Non-churned customers tend to have lower total charges, indicating that they might be newer customers or have shorter subscription periods. \n",
    "Churned customers, on the other hand, have a wider range of total charges, implying that they might have been long-term customers who eventually decided to leave. \n",
    "\n",
    "\n",
    "Overall Interpretation: \n",
    "\n",
    "\n",
    "Both graphs suggest a correlation between higher charges and customer churn. \n",
    "This information can be valuable for businesses as it highlights the importance of competitive pricing strategies and customer retention efforts, especially for customers with higher monthly bills or longer tenure."
   ]
  },
  {
   "cell_type": "code",
   "execution_count": 40,
   "metadata": {},
   "outputs": [
    {
     "data": {
      "image/png": "[encoded data removed]",
      "text/plain": [
       "<Figure size 700x400 with 1 Axes>"
      ]
     },
     "metadata": {},
     "output_type": "display_data"
    }
   ],
   "source": [
    "plt.figure(figsize=(7, 4))\n",
    "sns.histplot(data=merged_df, x='TotalCharges', hue='Churn', kde=True, bins=30)\n",
    "plt.title('Total Charges Distribution by Churn')\n",
    "plt.show()"
   ]
  },
  {
   "cell_type": "markdown",
   "metadata": {},
   "source": [
    "**Observations:**\n",
    "\n",
    "The graph illustrates the distribution of total charges for customers, categorized by whether they churned (left the service) or not. \n",
    "\n",
    "\n",
    "Key Points: \n",
    "\n",
    "- X-axis: Represents the total charges incurred by customers. \n",
    "- Y-axis: Shows the count of customers falling into each total charge range. \n",
    "\n",
    "Blue Bars: Depict customers who did not churn. \n",
    "Orange Bars: Represent customers who churned. \n",
    "\n",
    "Curves: The lines superimposed on the bars represent the kernel density estimate (KDE), which helps to visualize the overall shape of the distribution. \n",
    "\n",
    "\n",
    "Interpretation: \n",
    "\n",
    "\n",
    "Churn and Total Charges:\n",
    "\n",
    "\n",
    "The graph suggests a relationship between the total charges and customer churn. Customers with lower total charges are more likely to churn. This could indicate that newer customers are more likely to leave the service, or that customers who spend less are less invested in the service and therefore more likely to switch. \n",
    "\n",
    "\n",
    "Higher Charges, Lower Churn:\n",
    "Conversely, customers with higher total charges are less likely to churn, indicating that customers who have spent more with the company are more likely to stay loyal. \n",
    "\n",
    "\n",
    "Peak Churn:\n",
    "The peak churn rate occurs around the lower total charges, suggesting that there may be an issue with customer retention early in the customer lifecycle.\n"
   ]
  },
  {
   "cell_type": "markdown",
   "metadata": {},
   "source": [
    "#### Examine Categorical Variables:"
   ]
  },
  {
   "cell_type": "markdown",
   "metadata": {},
   "source": [
    "\n",
    "- PaymentMethod, InternetService, Type: Create bar charts for these features against churn to see if there are significant differences in the proportions of customers who churn for each category."
   ]
  },
  {
   "cell_type": "code",
   "execution_count": 41,
   "metadata": {},
   "outputs": [
    {
     "data": {
      "image/png": "[encoded data removed]",
      "text/plain": [
       "<Figure size 700x400 with 1 Axes>"
      ]
     },
     "metadata": {},
     "output_type": "display_data"
    },
    {
     "data": {
      "image/png": "[encoded data removed]",
      "text/plain": [
       "<Figure size 700x400 with 1 Axes>"
      ]
     },
     "metadata": {},
     "output_type": "display_data"
    }
   ],
   "source": [
    "# Bar plots for categorical features\n",
    "plt.figure(figsize=(7, 4))\n",
    "sns.countplot(data=merged_df, x='PaymentMethod', hue='Churn')\n",
    "plt.title('Churn by Payment Method')\n",
    "plt.show()\n",
    "\n",
    "plt.figure(figsize=(7, 4))\n",
    "sns.countplot(data=merged_df, x='Type', hue='Churn')\n",
    "plt.title('Churn by Type')\n",
    "plt.show()\n"
   ]
  },
  {
   "cell_type": "markdown",
   "metadata": {},
   "source": [
    "**Observations:**"
   ]
  },
  {
   "cell_type": "markdown",
   "metadata": {},
   "source": [
    "**Churn by Payment Method:** \n",
    "\n",
    "This graph shows the count of customers who churned (Churn = 1) and those who didn't (Churn = 0) for different payment methods.\n",
    "\n",
    "\n",
    "Key Observations:\n",
    "\n",
    "- Electronic check and mailed check have the highest churn rates. \n",
    "- Bank transfer (automatic) and credit card (automatic) have lower churn rates. \n",
    "- This suggests that automatic payment methods might be associated with lower churn.\n",
    "\n",
    "\n",
    "**Churn by Type:** \n",
    "\n",
    "- This graph shows the churn count for different customer types. \n",
    "\n",
    "Key Observations:\n",
    "\n",
    "\n",
    "- The customer type labeled \"0\" has a higher churn count compared to the type labeled \"1.\" \n",
    "- This suggests that the customer type \"0\" might require more attention to reduce churn.\n",
    "\n",
    "\n",
    "Overall Interpretation: \n",
    "\n",
    "\n",
    "- The graphs indicate a relationship between payment method and churn, as well as customer type and churn. \n",
    "- Businesses can use this information to identify areas for improvement and focus on customer retention strategies. \n",
    "- For example, they might offer incentives for using automatic payment methods or tailor retention strategies for the customer type with higher churn rates.\n"
   ]
  },
  {
   "cell_type": "markdown",
   "metadata": {},
   "source": [
    "#### Multicollinearity Check:\n"
   ]
  },
  {
   "cell_type": "markdown",
   "metadata": {},
   "source": [
    "- Use a correlation matrix and heatmap to assess the relationships between numerical features.\n",
    "- You can also run a Variance Inflation Factor (VIF) test to measure multicollinearity and remove highly correlated features if necessary."
   ]
  },
  {
   "cell_type": "code",
   "execution_count": 42,
   "metadata": {},
   "outputs": [
    {
     "data": {
      "image/png": "[encoded data removed]",
      "text/plain": [
       "<Figure size 700x400 with 2 Axes>"
      ]
     },
     "metadata": {},
     "output_type": "display_data"
    },
    {
     "name": "stdout",
     "output_type": "stream",
     "text": [
      "         Variable       VIF\n",
      "0           const  5.900915\n",
      "1  MonthlyCharges  1.735119\n",
      "2    TotalCharges  1.735119\n"
     ]
    }
   ],
   "source": [
    "\n",
    "\n",
    "# Correlation heatmap\n",
    "corr_matrix = merged_df.corr()\n",
    "plt.figure(figsize=(7, 4))\n",
    "sns.heatmap(corr_matrix, annot=True, cmap='coolwarm', fmt='.2f', linewidths=0.5)\n",
    "plt.title('Correlation Heatmap')\n",
    "plt.show()\n",
    "\n",
    "# Check VIF (Variance Inflation Factor) for multicollinearity\n",
    "from statsmodels.stats.outliers_influence import variance_inflation_factor\n",
    "from statsmodels.tools.tools import add_constant\n",
    "\n",
    "# VIF Calculation\n",
    "X = merged_df[['MonthlyCharges', 'TotalCharges']]  # Example features\n",
    "X = add_constant(X)  # Add constant for intercept\n",
    "vif_data = pd.DataFrame()\n",
    "vif_data[\"Variable\"] = X.columns\n",
    "vif_data[\"VIF\"] = [variance_inflation_factor(X.values, i) for i in range(X.shape[1])]\n",
    "print(vif_data)\n"
   ]
  },
  {
   "cell_type": "markdown",
   "metadata": {},
   "source": [
    "**Observations:**\n",
    "\n",
    "This is a correlation heatmap, which visualizes the relationships between different variables in a dataset. Here's how to interpret it.\n",
    "\n",
    "Colors: The colors represent the strength and direction of the correlation between two variables.\n",
    "- Dark red: Strong positive correlation (variables move in the same direction) \n",
    "- Dark blue: Strong negative correlation (variables move in opposite directions) \n",
    "- White: No correlation \n",
    "- Values: The numbers in each cell represent the correlation coefficient, which ranges from -1 to 1. \n",
    "\n",
    "- 1: Perfect positive correlation, -1: Perfect negative correlation, and 0: No correlation. \n",
    "\n",
    "Key observations from this heatmap: \n",
    "\n",
    "\n",
    "Strong positive correlation:\n",
    "\n",
    "- MonthlyCharges and TotalCharges have a strong positive correlation (0.65), indicating that higher monthly charges lead to higher total charges. \n",
    "\n",
    "Moderate negative correlation:\n",
    "\n",
    "- Churn and TotalCharges have a moderate negative correlation (-0.20), suggesting that customers with higher total charges are less likely to churn. \n",
    "\n",
    "Weak correlations:\n",
    "\n",
    "- Most other variables show weak correlations, implying that they don't have a strong influence on each other. \n",
    "\n",
    "No correlation:\n",
    "- gender and SeniorCitizen have almost no correlation (0.01)\n"
   ]
  },
  {
   "cell_type": "markdown",
   "metadata": {},
   "source": [
    "### Data Preprocessing for Modeling"
   ]
  },
  {
   "cell_type": "markdown",
   "metadata": {},
   "source": [
    "**Split the Data**\n",
    "\n",
    "Splitting your dataset into training, validation, and test sets ensures that the model is trained and evaluated effectively."
   ]
  },
  {
   "cell_type": "code",
   "execution_count": 43,
   "metadata": {},
   "outputs": [
    {
     "name": "stdout",
     "output_type": "stream",
     "text": [
      "Training set: (4930, 17)\n",
      "Validation set: (1056, 17)\n",
      "Test set: (1057, 17)\n"
     ]
    }
   ],
   "source": [
    "# Define features (X) and target variable (y)\n",
    "X = merged_df.drop('Churn', axis=1)  # Drop the target column\n",
    "y = merged_df['Churn']  # Target column\n",
    "\n",
    "# Split into train (70%), validation (15%), and test (15%)\n",
    "X_train, X_temp, y_train, y_temp = train_test_split(X, y, test_size=0.3, stratify=y, random_state=42)\n",
    "X_val, X_test, y_val, y_test = train_test_split(X_temp, y_temp, test_size=0.5, stratify=y_temp, random_state=42)\n",
    "\n",
    "# Check the distribution\n",
    "print(f\"Training set: {X_train.shape}\")\n",
    "print(f\"Validation set: {X_val.shape}\")\n",
    "print(f\"Test set: {X_test.shape}\")"
   ]
  },
  {
   "cell_type": "markdown",
   "metadata": {},
   "source": [
    "**Scale Numerical Features**\n",
    "\n",
    "Standardizing numerical features helps models converge faster and improves performance."
   ]
  },
  {
   "cell_type": "code",
   "execution_count": 44,
   "metadata": {},
   "outputs": [],
   "source": [
    "# Select numerical features\n",
    "numerical_features = ['MonthlyCharges', 'TotalCharges'] \n",
    "\n",
    "# Initialize the scaler\n",
    "scaler = StandardScaler()\n",
    "\n",
    "X_train_scaled = X_train.copy()\n",
    "X_val_scaled = X_val.copy()\n",
    "X_test_scaled = X_test.copy()\n",
    "\n",
    "X_train_scaled[numerical_features] = scaler.fit_transform(X_train[numerical_features])\n",
    "X_val_scaled[numerical_features] = scaler.transform(X_val[numerical_features])\n",
    "X_test_scaled[numerical_features] = scaler.transform(X_test[numerical_features])\n"
   ]
  },
  {
   "cell_type": "markdown",
   "metadata": {},
   "source": [
    " **Encoding Categorical Features with One-Hot Encoding**"
   ]
  },
  {
   "cell_type": "markdown",
   "metadata": {},
   "source": [
    "Select Categorical Features\n",
    "\n",
    "\n",
    "Purpose: Identify which columns in the dataset are categorical and need encoding. In this case, we are dealing with customer data for a telecom company, so features related to customer plans and services are selected."
   ]
  },
  {
   "cell_type": "code",
   "execution_count": 45,
   "metadata": {},
   "outputs": [
    {
     "name": "stderr",
     "output_type": "stream",
     "text": [
      "/opt/conda/envs/python3/lib/python3.9/site-packages/pandas/core/frame.py:3191: SettingWithCopyWarning: \n",
      "A value is trying to be set on a copy of a slice from a DataFrame.\n",
      "Try using .loc[row_indexer,col_indexer] = value instead\n",
      "\n",
      "See the caveats in the documentation: https://pandas.pydata.org/pandas-docs/stable/user_guide/indexing.html#returning-a-view-versus-a-copy\n",
      "  self[k1] = value[k2]\n"
     ]
    }
   ],
   "source": [
    "\n",
    "\n",
    "# Select categorical features\n",
    "categorical_features = ['PaperlessBilling','PaymentMethod', 'Type', 'OnlineSecurity', 'OnlineBackup', \n",
    "                        'DeviceProtection', 'TechSupport', 'StreamingTV', 'StreamingMovies', 'MultipleLines']\n",
    "\n",
    "\n",
    "# Convert categorical columns to string\n",
    "X_train[categorical_features] = X_train[categorical_features].astype(str)\n",
    "X_val[categorical_features] = X_val[categorical_features].astype(str)\n",
    "X_test[categorical_features] = X_test[categorical_features].astype(str)\n",
    "\n",
    "\n",
    "# Initialize the encoder\n",
    "encoder = OneHotEncoder(drop='first', sparse=False)\n",
    "\n",
    "# Fit and transform on training data\n",
    "X_train_encoded = encoder.fit_transform(X_train[categorical_features])\n",
    "X_val_encoded = encoder.transform(X_val[categorical_features])\n",
    "X_test_encoded = encoder.transform(X_test[categorical_features])\n",
    "\n",
    "# Convert encoded arrays to DataFrame\n",
    "encoded_cols = encoder.get_feature_names(categorical_features)\n",
    "X_train_encoded_df = pd.DataFrame(X_train_encoded, columns=encoded_cols, index=X_train.index)\n",
    "X_val_encoded_df = pd.DataFrame(X_val_encoded, columns=encoded_cols, index=X_val.index)\n",
    "X_test_encoded_df = pd.DataFrame(X_test_encoded, columns=encoded_cols, index=X_test.index)\n",
    "\n",
    "# Drop original categorical columns and concatenate encoded columns\n",
    "X_train = pd.concat([X_train.drop(categorical_features, axis=1), X_train_encoded_df], axis=1)\n",
    "X_val = pd.concat([X_val.drop(categorical_features, axis=1), X_val_encoded_df], axis=1)\n",
    "X_test = pd.concat([X_test.drop(categorical_features, axis=1), X_test_encoded_df], axis=1)\n"
   ]
  },
  {
   "cell_type": "markdown",
   "metadata": {},
   "source": [
    "### Training Model"
   ]
  },
  {
   "cell_type": "code",
   "execution_count": 46,
   "metadata": {},
   "outputs": [
    {
     "name": "stderr",
     "output_type": "stream",
     "text": [
      "/opt/conda/envs/python3/lib/python3.9/site-packages/sklearn/linear_model/_logistic.py:763: ConvergenceWarning: lbfgs failed to converge (status=1):\n",
      "STOP: TOTAL NO. of ITERATIONS REACHED LIMIT.\n",
      "\n",
      "Increase the number of iterations (max_iter) or scale the data as shown in:\n",
      "    https://scikit-learn.org/stable/modules/preprocessing.html\n",
      "Please also refer to the documentation for alternative solver options:\n",
      "    https://scikit-learn.org/stable/modules/linear_model.html#logistic-regression\n",
      "  n_iter_i = _check_optimize_result(\n"
     ]
    },
    {
     "name": "stdout",
     "output_type": "stream",
     "text": [
      "Logistic Regression - AUC-ROC: 0.827, Accuracy: 0.726\n",
      "Decision Tree - AUC-ROC: 0.772, Accuracy: 0.706\n"
     ]
    }
   ],
   "source": [
    "\n",
    "# Initialize models\n",
    "log_reg = LogisticRegression(  penalty='l2',\n",
    "    C=0.5,  # Default is 1.0; try smaller values for stronger regularization\n",
    "    class_weight='balanced',\n",
    "    random_state=42)\n",
    "\n",
    "dec_tree = DecisionTreeClassifier(   max_depth=10,\n",
    "    min_samples_split=5,\n",
    "    min_samples_leaf=2,\n",
    "    criterion='entropy',\n",
    "    random_state=42,\n",
    "    class_weight='balanced')\n",
    "\n",
    "# Train models\n",
    "log_reg.fit(X_train, y_train)\n",
    "dec_tree.fit(X_train, y_train)\n",
    "\n",
    "# Make predictions\n",
    "log_reg_preds = log_reg.predict_proba(X_val)[:, 1]\n",
    "dec_tree_preds = dec_tree.predict_proba(X_val)[:, 1]\n",
    "\n",
    "# Evaluate\n",
    "log_reg_auc = roc_auc_score(y_val, log_reg_preds)\n",
    "dec_tree_auc = roc_auc_score(y_val, dec_tree_preds)\n",
    "\n",
    "log_reg_acc = accuracy_score(y_val, log_reg.predict(X_val))\n",
    "dec_tree_acc = accuracy_score(y_val, dec_tree.predict(X_val))\n",
    "\n",
    "print(f\"Logistic Regression - AUC-ROC: {log_reg_auc:.3f}, Accuracy: {log_reg_acc:.3f}\")\n",
    "print(f\"Decision Tree - AUC-ROC: {dec_tree_auc:.3f}, Accuracy: {dec_tree_acc:.3f}\")\n"
   ]
  },
  {
   "cell_type": "markdown",
   "metadata": {},
   "source": [
    "**Observations:**\n",
    "\n",
    "Baseline Results:\n",
    "\n",
    "Logistic Regression:\n",
    "\n",
    "AUC-ROC: 0.827\n",
    "Accuracy: 0.726\n",
    "\n",
    "\n",
    "Decision Tree:\n",
    "\n",
    "AUC-ROC: 0.772\n",
    "Accuracy: 0.706\n",
    "\n",
    "The Logistic Regression model performed better with a higher AUC-ROC and accuracy compared to the Decision Tree model, but both still leave room for improvement."
   ]
  },
  {
   "cell_type": "markdown",
   "metadata": {},
   "source": [
    "## Advanced Models (Random Forest & XGBoost)"
   ]
  },
  {
   "cell_type": "code",
   "execution_count": 47,
   "metadata": {},
   "outputs": [
    {
     "name": "stdout",
     "output_type": "stream",
     "text": [
      "Random Forest - AUC-ROC: 0.814, Accuracy: 0.784\n",
      "XGBoost - AUC-ROC: 0.819, Accuracy: 0.774\n"
     ]
    }
   ],
   "source": [
    "\n",
    "\n",
    "# Initialize models\n",
    "rf = RandomForestClassifier(n_estimators=100, random_state=42, class_weight='balanced')\n",
    "xgb = XGBClassifier(use_label_encoder=False, eval_metric='logloss', random_state=42)\n",
    "\n",
    "# Train models\n",
    "rf.fit(X_train, y_train)\n",
    "xgb.fit(X_train, y_train)\n",
    "\n",
    "# Make predictions\n",
    "rf_preds = rf.predict_proba(X_val)[:, 1]\n",
    "xgb_preds = xgb.predict_proba(X_val)[:, 1]\n",
    "\n",
    "# Evaluate\n",
    "rf_auc = roc_auc_score(y_val, rf_preds)\n",
    "xgb_auc = roc_auc_score(y_val, xgb_preds)\n",
    "\n",
    "rf_acc = accuracy_score(y_val, rf.predict(X_val))\n",
    "xgb_acc = accuracy_score(y_val, xgb.predict(X_val))\n",
    "\n",
    "print(f\"Random Forest - AUC-ROC: {rf_auc:.3f}, Accuracy: {rf_acc:.3f}\")\n",
    "print(f\"XGBoost - AUC-ROC: {xgb_auc:.3f}, Accuracy: {xgb_acc:.3f}\")\n"
   ]
  },
  {
   "cell_type": "markdown",
   "metadata": {},
   "source": [
    "**Observations:**\n",
    "    \n",
    "Advanced Model Results:\n",
    "\n",
    "Random Forest:\n",
    "\n",
    "AUC-ROC: 0.814\n",
    "Accuracy: 0.784\n",
    "\n",
    "\n",
    "XGBoost:\n",
    "\n",
    "AUC-ROC: 0.819\n",
    "Accuracy: 0.774\n",
    "\n",
    "Here, XGBoost performed slightly better than Random Forest, with both models showing substantial improvements over the baseline models."
   ]
  },
  {
   "cell_type": "markdown",
   "metadata": {},
   "source": [
    "### Hyperparameter Tuning for Random Forest"
   ]
  },
  {
   "cell_type": "markdown",
   "metadata": {},
   "source": [
    "To further improve the performance of Random Forest, we perform hyperparameter tuning using GridSearchCV.\n",
    "\n",
    "Parameters Tuning:\n",
    "\n",
    "n_estimators: [100, 200, 250]\n",
    "\n",
    "max_depth: [10, 20, None]\n",
    "\n",
    "min_samples_split: [2, 5, 10]\n",
    "\n",
    "min_samples_leaf: [1, 2, 4]"
   ]
  },
  {
   "cell_type": "code",
   "execution_count": 48,
   "metadata": {},
   "outputs": [
    {
     "data": {
      "text/plain": [
       "GridSearchCV(cv=5, estimator=RandomForestClassifier(random_state=43),\n",
       "             param_grid={'max_depth': [10, 20, None],\n",
       "                         'min_samples_leaf': [1, 2, 4],\n",
       "                         'min_samples_split': [2, 5, 10],\n",
       "                         'n_estimators': [100, 200, 250]},\n",
       "             scoring='roc_auc')"
      ]
     },
     "execution_count": 48,
     "metadata": {},
     "output_type": "execute_result"
    }
   ],
   "source": [
    "from sklearn.model_selection import GridSearchCV\n",
    "param_grid = {\n",
    "    'n_estimators': [100, 200, 250],\n",
    "    'max_depth': [10, 20, None],\n",
    "    'min_samples_split': [2, 5, 10],\n",
    "    'min_samples_leaf': [1, 2, 4]\n",
    "}\n",
    "grid_rf = GridSearchCV(RandomForestClassifier(random_state=43), param_grid, cv=5, scoring='roc_auc')\n",
    "grid_rf.fit(X_train, y_train)\n"
   ]
  },
  {
   "cell_type": "code",
   "execution_count": 49,
   "metadata": {},
   "outputs": [
    {
     "name": "stdout",
     "output_type": "stream",
     "text": [
      "Random Forest - AUC-ROC: 0.841, Accuracy: 0.803\n"
     ]
    }
   ],
   "source": [
    "# Make predictions\n",
    "rf_preds = grid_rf.predict_proba(X_val)[:, 1]\n",
    "\n",
    "# Evaluate\n",
    "rf_auc = roc_auc_score(y_val, rf_preds)\n",
    "rf_acc = accuracy_score(y_val, grid_rf.predict(X_val))\n",
    "\n",
    "print(f\"Random Forest - AUC-ROC: {rf_auc:.3f}, Accuracy: {rf_acc:.3f}\")\n",
    "\n"
   ]
  },
  {
   "cell_type": "markdown",
   "metadata": {},
   "source": [
    "**Observations:**\n",
    "\n",
    "\n",
    "GridSearchCV Random Forest Results:\n",
    "\n",
    "AUC-ROC: 0.841\n",
    "Accuracy: 0.803\n",
    "\n",
    "The tuned Random Forest model achieved the best AUC-ROC score of all the models, as well as the highest accuracy."
   ]
  },
  {
   "cell_type": "markdown",
   "metadata": {},
   "source": [
    "## Final Test Model"
   ]
  },
  {
   "cell_type": "code",
   "execution_count": 50,
   "metadata": {},
   "outputs": [
    {
     "name": "stdout",
     "output_type": "stream",
     "text": [
      "Tuned Random Forest - Test AUC-ROC: 0.842, Test Accuracy: 0.798\n"
     ]
    }
   ],
   "source": [
    "# Make predictions on the test set using the tuned Random Forest model (best model)\n",
    "rf_test_preds = grid_rf.predict_proba(X_test)[:, 1]  # Get probabilities for AUC-ROC calculation\n",
    "\n",
    "# Evaluate the model on the test set\n",
    "rf_test_auc = roc_auc_score(y_test, rf_test_preds)\n",
    "rf_test_acc = accuracy_score(y_test, grid_rf.predict(X_test))\n",
    "\n",
    "# Print the results\n",
    "print(f\"Tuned Random Forest - Test AUC-ROC: {rf_test_auc:.3f}, Test Accuracy: {rf_test_acc:.3f}\")\n"
   ]
  },
  {
   "cell_type": "markdown",
   "metadata": {},
   "source": [
    "**Observations:**\n",
    "    \n",
    "    \n",
    "Test AUC-ROC: 0.842:\n",
    "\n",
    "This indicates that the tuned Random Forest model performs very well in distinguishing between the churn and non-churn classes. An AUC-ROC value of 0.842 suggests that the model has a strong ability to rank churn probabilities correctly, with a high true positive rate and low false positive rate.\n",
    "\n",
    "\n",
    "Test Accuracy: 0.798:\n",
    "\n",
    "The accuracy of 79.8% on the test set indicates that the model correctly predicted the churn status for nearly 80% of the instances. While accuracy is a useful metric, it may not fully reflect model performance on imbalanced data, so the AUC-ROC is a better evaluation of model discrimination.\n",
    "\n",
    "\n"
   ]
  },
  {
   "cell_type": "markdown",
   "metadata": {},
   "source": [
    "###  Final Conclusion"
   ]
  },
  {
   "cell_type": "markdown",
   "metadata": {},
   "source": [
    "The tuned Random Forest model has delivered strong results on both the AUC-ROC and accuracy metrics. It shows good generalization to the test set and successfully differentiates between churn and non-churn instances.\n",
    "\n",
    "Since the AUC-ROC is above 0.80, it suggests that the model is highly capable, making it an ideal choice for your final model."
   ]
  }
 ],
 "metadata": {
  "ExecuteTimeLog": [
   {
    "duration": 2,
    "start_time": "2025-01-03T15:53:27.757Z"
   },
   {
    "duration": 2683,
    "start_time": "2025-01-03T15:55:29.719Z"
   },
   {
    "duration": 47,
    "start_time": "2025-01-03T15:56:48.787Z"
   },
   {
    "duration": 180,
    "start_time": "2025-01-03T17:10:45.548Z"
   },
   {
    "duration": 13,
    "start_time": "2025-01-03T17:10:50.313Z"
   },
   {
    "duration": 86,
    "start_time": "2025-01-03T17:11:03.799Z"
   },
   {
    "duration": 0,
    "start_time": "2025-01-03T17:11:03.886Z"
   },
   {
    "duration": 0,
    "start_time": "2025-01-03T17:11:03.887Z"
   },
   {
    "duration": 76,
    "start_time": "2025-01-03T17:11:35.975Z"
   },
   {
    "duration": 11,
    "start_time": "2025-01-03T17:11:39.235Z"
   },
   {
    "duration": 9,
    "start_time": "2025-01-03T17:11:40.365Z"
   },
   {
    "duration": 13,
    "start_time": "2025-01-03T17:11:41.042Z"
   },
   {
    "duration": 12,
    "start_time": "2025-01-03T17:19:39.504Z"
   },
   {
    "duration": 11,
    "start_time": "2025-01-03T17:19:50.770Z"
   },
   {
    "duration": 10,
    "start_time": "2025-01-03T17:20:46.762Z"
   },
   {
    "duration": 6,
    "start_time": "2025-01-03T17:22:38.860Z"
   },
   {
    "duration": 24,
    "start_time": "2025-01-03T17:25:08.494Z"
   },
   {
    "duration": 13,
    "start_time": "2025-01-03T17:25:39.959Z"
   },
   {
    "duration": 2668,
    "start_time": "2025-01-03T17:59:24.225Z"
   },
   {
    "duration": 68,
    "start_time": "2025-01-03T17:59:26.895Z"
   },
   {
    "duration": 11,
    "start_time": "2025-01-03T17:59:26.964Z"
   },
   {
    "duration": 9,
    "start_time": "2025-01-03T17:59:26.977Z"
   },
   {
    "duration": 10,
    "start_time": "2025-01-03T17:59:26.988Z"
   },
   {
    "duration": 9,
    "start_time": "2025-01-03T17:59:27.000Z"
   },
   {
    "duration": 9,
    "start_time": "2025-01-03T17:59:27.011Z"
   },
   {
    "duration": 26,
    "start_time": "2025-01-03T17:59:27.021Z"
   },
   {
    "duration": 19,
    "start_time": "2025-01-03T17:59:27.048Z"
   },
   {
    "duration": 304,
    "start_time": "2025-01-03T18:04:30.853Z"
   },
   {
    "duration": 13,
    "start_time": "2025-01-03T18:04:40.029Z"
   },
   {
    "duration": 4,
    "start_time": "2025-01-03T18:09:17.273Z"
   },
   {
    "duration": 11,
    "start_time": "2025-01-03T18:09:22.208Z"
   },
   {
    "duration": 6,
    "start_time": "2025-01-03T18:09:32.157Z"
   },
   {
    "duration": 7,
    "start_time": "2025-01-03T18:12:43.371Z"
   },
   {
    "duration": 9,
    "start_time": "2025-01-03T18:13:19.844Z"
   },
   {
    "duration": 8,
    "start_time": "2025-01-03T18:13:27.489Z"
   },
   {
    "duration": 7,
    "start_time": "2025-01-03T18:15:56.959Z"
   },
   {
    "duration": 9,
    "start_time": "2025-01-03T18:16:07.856Z"
   },
   {
    "duration": 9,
    "start_time": "2025-01-03T18:16:08.483Z"
   },
   {
    "duration": 10,
    "start_time": "2025-01-03T18:16:52.693Z"
   },
   {
    "duration": 8,
    "start_time": "2025-01-03T18:16:53.238Z"
   },
   {
    "duration": 5,
    "start_time": "2025-01-03T18:20:54.040Z"
   },
   {
    "duration": 9,
    "start_time": "2025-01-03T18:23:02.131Z"
   },
   {
    "duration": 9,
    "start_time": "2025-01-03T18:24:14.553Z"
   },
   {
    "duration": 7,
    "start_time": "2025-01-03T18:24:35.984Z"
   },
   {
    "duration": 4,
    "start_time": "2025-01-03T18:24:53.587Z"
   },
   {
    "duration": 1036,
    "start_time": "2025-01-03T18:25:02.388Z"
   },
   {
    "duration": 38,
    "start_time": "2025-01-03T18:25:03.426Z"
   },
   {
    "duration": 11,
    "start_time": "2025-01-03T18:25:03.466Z"
   },
   {
    "duration": 10,
    "start_time": "2025-01-03T18:25:03.479Z"
   },
   {
    "duration": 10,
    "start_time": "2025-01-03T18:25:03.491Z"
   },
   {
    "duration": 9,
    "start_time": "2025-01-03T18:25:03.502Z"
   },
   {
    "duration": 30,
    "start_time": "2025-01-03T18:25:03.513Z"
   },
   {
    "duration": 6,
    "start_time": "2025-01-03T18:25:03.545Z"
   },
   {
    "duration": 4,
    "start_time": "2025-01-03T18:25:03.552Z"
   },
   {
    "duration": 11,
    "start_time": "2025-01-03T18:25:03.558Z"
   },
   {
    "duration": 11,
    "start_time": "2025-01-03T18:25:03.571Z"
   },
   {
    "duration": 4,
    "start_time": "2025-01-03T18:25:03.583Z"
   },
   {
    "duration": 6,
    "start_time": "2025-01-03T18:25:03.588Z"
   },
   {
    "duration": 8,
    "start_time": "2025-01-03T18:25:03.597Z"
   },
   {
    "duration": 8,
    "start_time": "2025-01-03T18:25:03.644Z"
   },
   {
    "duration": 10,
    "start_time": "2025-01-03T18:26:57.796Z"
   },
   {
    "duration": 5,
    "start_time": "2025-01-03T18:27:00.686Z"
   },
   {
    "duration": 6,
    "start_time": "2025-01-03T18:27:54.775Z"
   },
   {
    "duration": 8,
    "start_time": "2025-01-03T18:28:24.491Z"
   },
   {
    "duration": 8,
    "start_time": "2025-01-03T18:28:25.740Z"
   },
   {
    "duration": 5,
    "start_time": "2025-01-03T18:32:05.116Z"
   },
   {
    "duration": 241,
    "start_time": "2025-01-03T18:32:21.145Z"
   },
   {
    "duration": 8,
    "start_time": "2025-01-03T18:32:28.390Z"
   },
   {
    "duration": 4,
    "start_time": "2025-01-03T18:33:30.113Z"
   },
   {
    "duration": 6,
    "start_time": "2025-01-03T18:33:47.782Z"
   },
   {
    "duration": 8,
    "start_time": "2025-01-03T18:36:02.440Z"
   },
   {
    "duration": 29,
    "start_time": "2025-01-03T18:38:55.861Z"
   },
   {
    "duration": 9,
    "start_time": "2025-01-03T18:39:17.310Z"
   },
   {
    "duration": 14,
    "start_time": "2025-01-03T18:41:48.626Z"
   },
   {
    "duration": 4,
    "start_time": "2025-01-03T18:42:02.431Z"
   },
   {
    "duration": 9,
    "start_time": "2025-01-03T18:45:27.513Z"
   },
   {
    "duration": 7,
    "start_time": "2025-01-03T18:45:36.094Z"
   },
   {
    "duration": 5,
    "start_time": "2025-01-03T18:46:21.964Z"
   },
   {
    "duration": 7,
    "start_time": "2025-01-03T18:46:36.155Z"
   },
   {
    "duration": 6,
    "start_time": "2025-01-03T18:48:28.923Z"
   },
   {
    "duration": 3,
    "start_time": "2025-01-03T18:48:55.389Z"
   },
   {
    "duration": 412,
    "start_time": "2025-01-03T18:49:16.767Z"
   },
   {
    "duration": 2,
    "start_time": "2025-01-03T18:53:01.279Z"
   },
   {
    "duration": 6,
    "start_time": "2025-01-03T18:53:18.936Z"
   },
   {
    "duration": 11,
    "start_time": "2025-01-03T18:53:51.311Z"
   },
   {
    "duration": 14,
    "start_time": "2025-01-03T18:53:51.979Z"
   },
   {
    "duration": 4,
    "start_time": "2025-01-03T19:00:10.960Z"
   },
   {
    "duration": 6,
    "start_time": "2025-01-03T19:00:20.724Z"
   },
   {
    "duration": 1036,
    "start_time": "2025-01-03T19:00:37.688Z"
   },
   {
    "duration": 40,
    "start_time": "2025-01-03T19:00:38.727Z"
   },
   {
    "duration": 13,
    "start_time": "2025-01-03T19:00:38.769Z"
   },
   {
    "duration": 10,
    "start_time": "2025-01-03T19:00:38.785Z"
   },
   {
    "duration": 10,
    "start_time": "2025-01-03T19:00:38.796Z"
   },
   {
    "duration": 10,
    "start_time": "2025-01-03T19:00:38.808Z"
   },
   {
    "duration": 36,
    "start_time": "2025-01-03T19:00:38.820Z"
   },
   {
    "duration": 10,
    "start_time": "2025-01-03T19:00:38.861Z"
   },
   {
    "duration": 17,
    "start_time": "2025-01-03T19:00:38.872Z"
   },
   {
    "duration": 16,
    "start_time": "2025-01-03T19:00:38.893Z"
   },
   {
    "duration": 6,
    "start_time": "2025-01-03T19:00:38.914Z"
   },
   {
    "duration": 6,
    "start_time": "2025-01-03T19:00:38.922Z"
   },
   {
    "duration": 21,
    "start_time": "2025-01-03T19:00:38.930Z"
   },
   {
    "duration": 10,
    "start_time": "2025-01-03T19:00:38.953Z"
   },
   {
    "duration": 8,
    "start_time": "2025-01-03T19:00:38.964Z"
   },
   {
    "duration": 5,
    "start_time": "2025-01-03T19:00:38.974Z"
   },
   {
    "duration": 3,
    "start_time": "2025-01-03T19:00:38.982Z"
   },
   {
    "duration": 6,
    "start_time": "2025-01-03T19:00:38.987Z"
   },
   {
    "duration": 13,
    "start_time": "2025-01-03T19:00:38.995Z"
   },
   {
    "duration": 43,
    "start_time": "2025-01-03T19:00:39.009Z"
   },
   {
    "duration": 9,
    "start_time": "2025-01-03T19:00:39.053Z"
   },
   {
    "duration": 4,
    "start_time": "2025-01-03T19:00:39.064Z"
   },
   {
    "duration": 21,
    "start_time": "2025-01-03T19:00:39.069Z"
   },
   {
    "duration": 8,
    "start_time": "2025-01-03T19:00:39.091Z"
   },
   {
    "duration": 45,
    "start_time": "2025-01-03T19:00:39.101Z"
   },
   {
    "duration": 5,
    "start_time": "2025-01-03T19:00:39.147Z"
   },
   {
    "duration": 8,
    "start_time": "2025-01-03T19:00:39.154Z"
   },
   {
    "duration": 5,
    "start_time": "2025-01-03T19:00:39.165Z"
   },
   {
    "duration": 6,
    "start_time": "2025-01-03T19:00:39.172Z"
   },
   {
    "duration": 8,
    "start_time": "2025-01-03T19:00:39.180Z"
   },
   {
    "duration": 52,
    "start_time": "2025-01-03T19:00:39.191Z"
   },
   {
    "duration": 6,
    "start_time": "2025-01-03T19:00:39.246Z"
   },
   {
    "duration": 8,
    "start_time": "2025-01-03T19:00:39.255Z"
   },
   {
    "duration": 157,
    "start_time": "2025-01-03T20:16:02.116Z"
   },
   {
    "duration": 2743,
    "start_time": "2025-01-03T20:16:12.835Z"
   },
   {
    "duration": 64,
    "start_time": "2025-01-03T20:16:15.581Z"
   },
   {
    "duration": 11,
    "start_time": "2025-01-03T20:16:15.647Z"
   },
   {
    "duration": 10,
    "start_time": "2025-01-03T20:16:15.659Z"
   },
   {
    "duration": 10,
    "start_time": "2025-01-03T20:16:15.671Z"
   },
   {
    "duration": 10,
    "start_time": "2025-01-03T20:16:15.683Z"
   },
   {
    "duration": 16,
    "start_time": "2025-01-03T20:16:15.695Z"
   },
   {
    "duration": 8,
    "start_time": "2025-01-03T20:16:15.713Z"
   },
   {
    "duration": 12,
    "start_time": "2025-01-03T20:16:15.722Z"
   },
   {
    "duration": 13,
    "start_time": "2025-01-03T20:16:15.736Z"
   },
   {
    "duration": 4,
    "start_time": "2025-01-03T20:16:15.751Z"
   },
   {
    "duration": 6,
    "start_time": "2025-01-03T20:16:15.757Z"
   },
   {
    "duration": 9,
    "start_time": "2025-01-03T20:16:15.766Z"
   },
   {
    "duration": 8,
    "start_time": "2025-01-03T20:16:15.812Z"
   },
   {
    "duration": 6,
    "start_time": "2025-01-03T20:16:15.821Z"
   },
   {
    "duration": 5,
    "start_time": "2025-01-03T20:16:15.829Z"
   },
   {
    "duration": 4,
    "start_time": "2025-01-03T20:16:15.835Z"
   },
   {
    "duration": 6,
    "start_time": "2025-01-03T20:16:15.841Z"
   },
   {
    "duration": 15,
    "start_time": "2025-01-03T20:16:15.849Z"
   },
   {
    "duration": 48,
    "start_time": "2025-01-03T20:16:15.865Z"
   },
   {
    "duration": 8,
    "start_time": "2025-01-03T20:16:15.915Z"
   },
   {
    "duration": 5,
    "start_time": "2025-01-03T20:16:15.924Z"
   },
   {
    "duration": 21,
    "start_time": "2025-01-03T20:16:15.931Z"
   },
   {
    "duration": 8,
    "start_time": "2025-01-03T20:16:15.953Z"
   },
   {
    "duration": 10,
    "start_time": "2025-01-03T20:16:15.963Z"
   },
   {
    "duration": 36,
    "start_time": "2025-01-03T20:16:15.974Z"
   },
   {
    "duration": 6,
    "start_time": "2025-01-03T20:16:16.012Z"
   },
   {
    "duration": 6,
    "start_time": "2025-01-03T20:16:16.020Z"
   },
   {
    "duration": 5,
    "start_time": "2025-01-03T20:16:16.028Z"
   },
   {
    "duration": 7,
    "start_time": "2025-01-03T20:16:16.035Z"
   },
   {
    "duration": 12,
    "start_time": "2025-01-03T20:16:16.043Z"
   },
   {
    "duration": 3,
    "start_time": "2025-01-03T20:16:16.056Z"
   },
   {
    "duration": 6,
    "start_time": "2025-01-03T20:16:16.061Z"
   },
   {
    "duration": 18,
    "start_time": "2025-01-03T20:16:16.109Z"
   },
   {
    "duration": 4,
    "start_time": "2025-01-03T20:16:45.074Z"
   },
   {
    "duration": 3,
    "start_time": "2025-01-03T20:18:51.744Z"
   },
   {
    "duration": 2,
    "start_time": "2025-01-03T20:19:04.093Z"
   },
   {
    "duration": 6,
    "start_time": "2025-01-03T20:19:04.382Z"
   },
   {
    "duration": 1024,
    "start_time": "2025-01-03T20:19:26.688Z"
   },
   {
    "duration": 36,
    "start_time": "2025-01-03T20:19:27.715Z"
   },
   {
    "duration": 11,
    "start_time": "2025-01-03T20:19:27.752Z"
   },
   {
    "duration": 11,
    "start_time": "2025-01-03T20:19:27.764Z"
   },
   {
    "duration": 31,
    "start_time": "2025-01-03T20:19:27.778Z"
   },
   {
    "duration": 12,
    "start_time": "2025-01-03T20:19:27.812Z"
   },
   {
    "duration": 10,
    "start_time": "2025-01-03T20:19:27.825Z"
   },
   {
    "duration": 6,
    "start_time": "2025-01-03T20:19:27.836Z"
   },
   {
    "duration": 10,
    "start_time": "2025-01-03T20:19:27.844Z"
   },
   {
    "duration": 13,
    "start_time": "2025-01-03T20:19:27.856Z"
   },
   {
    "duration": 4,
    "start_time": "2025-01-03T20:19:27.870Z"
   },
   {
    "duration": 40,
    "start_time": "2025-01-03T20:19:27.875Z"
   },
   {
    "duration": 9,
    "start_time": "2025-01-03T20:19:27.916Z"
   },
   {
    "duration": 8,
    "start_time": "2025-01-03T20:19:27.929Z"
   },
   {
    "duration": 7,
    "start_time": "2025-01-03T20:19:27.939Z"
   },
   {
    "duration": 5,
    "start_time": "2025-01-03T20:19:27.947Z"
   },
   {
    "duration": 4,
    "start_time": "2025-01-03T20:19:27.953Z"
   },
   {
    "duration": 7,
    "start_time": "2025-01-03T20:19:27.959Z"
   },
   {
    "duration": 46,
    "start_time": "2025-01-03T20:19:27.969Z"
   },
   {
    "duration": 8,
    "start_time": "2025-01-03T20:19:28.016Z"
   },
   {
    "duration": 8,
    "start_time": "2025-01-03T20:19:28.025Z"
   },
   {
    "duration": 4,
    "start_time": "2025-01-03T20:19:28.035Z"
   },
   {
    "duration": 21,
    "start_time": "2025-01-03T20:19:28.041Z"
   },
   {
    "duration": 45,
    "start_time": "2025-01-03T20:19:28.064Z"
   },
   {
    "duration": 9,
    "start_time": "2025-01-03T20:19:28.111Z"
   },
   {
    "duration": 6,
    "start_time": "2025-01-03T20:19:28.122Z"
   },
   {
    "duration": 7,
    "start_time": "2025-01-03T20:19:28.130Z"
   },
   {
    "duration": 7,
    "start_time": "2025-01-03T20:19:28.139Z"
   },
   {
    "duration": 5,
    "start_time": "2025-01-03T20:19:28.148Z"
   },
   {
    "duration": 10,
    "start_time": "2025-01-03T20:19:28.155Z"
   },
   {
    "duration": 49,
    "start_time": "2025-01-03T20:19:28.166Z"
   },
   {
    "duration": 4,
    "start_time": "2025-01-03T20:19:28.216Z"
   },
   {
    "duration": 6,
    "start_time": "2025-01-03T20:19:28.221Z"
   },
   {
    "duration": 17,
    "start_time": "2025-01-03T20:19:28.228Z"
   },
   {
    "duration": 5,
    "start_time": "2025-01-03T20:19:28.246Z"
   },
   {
    "duration": 3,
    "start_time": "2025-01-03T20:19:28.252Z"
   },
   {
    "duration": 6,
    "start_time": "2025-01-03T20:19:28.256Z"
   },
   {
    "duration": 5,
    "start_time": "2025-01-03T20:19:54.519Z"
   },
   {
    "duration": 5,
    "start_time": "2025-01-03T20:19:57.702Z"
   },
   {
    "duration": 6,
    "start_time": "2025-01-03T20:20:06.966Z"
   },
   {
    "duration": 6,
    "start_time": "2025-01-03T20:20:25.369Z"
   },
   {
    "duration": 20,
    "start_time": "2025-01-03T20:23:56.323Z"
   },
   {
    "duration": 9,
    "start_time": "2025-01-03T20:24:28.743Z"
   },
   {
    "duration": 240,
    "start_time": "2025-01-03T20:26:59.600Z"
   },
   {
    "duration": 19,
    "start_time": "2025-01-03T20:27:32.406Z"
   },
   {
    "duration": 986,
    "start_time": "2025-01-03T20:27:40.781Z"
   },
   {
    "duration": 32,
    "start_time": "2025-01-03T20:27:41.770Z"
   },
   {
    "duration": 12,
    "start_time": "2025-01-03T20:27:41.804Z"
   },
   {
    "duration": 10,
    "start_time": "2025-01-03T20:27:41.818Z"
   },
   {
    "duration": 9,
    "start_time": "2025-01-03T20:27:41.831Z"
   },
   {
    "duration": 9,
    "start_time": "2025-01-03T20:27:41.842Z"
   },
   {
    "duration": 9,
    "start_time": "2025-01-03T20:27:41.852Z"
   },
   {
    "duration": 6,
    "start_time": "2025-01-03T20:27:41.863Z"
   },
   {
    "duration": 46,
    "start_time": "2025-01-03T20:27:41.870Z"
   },
   {
    "duration": 13,
    "start_time": "2025-01-03T20:27:41.917Z"
   },
   {
    "duration": 4,
    "start_time": "2025-01-03T20:27:41.931Z"
   },
   {
    "duration": 6,
    "start_time": "2025-01-03T20:27:41.936Z"
   },
   {
    "duration": 9,
    "start_time": "2025-01-03T20:27:41.943Z"
   },
   {
    "duration": 7,
    "start_time": "2025-01-03T20:27:41.956Z"
   },
   {
    "duration": 6,
    "start_time": "2025-01-03T20:27:41.965Z"
   },
   {
    "duration": 39,
    "start_time": "2025-01-03T20:27:41.973Z"
   },
   {
    "duration": 4,
    "start_time": "2025-01-03T20:27:42.013Z"
   },
   {
    "duration": 6,
    "start_time": "2025-01-03T20:27:42.018Z"
   },
   {
    "duration": 14,
    "start_time": "2025-01-03T20:27:42.026Z"
   },
   {
    "duration": 8,
    "start_time": "2025-01-03T20:27:42.041Z"
   },
   {
    "duration": 7,
    "start_time": "2025-01-03T20:27:42.051Z"
   },
   {
    "duration": 4,
    "start_time": "2025-01-03T20:27:42.060Z"
   },
   {
    "duration": 62,
    "start_time": "2025-01-03T20:27:42.066Z"
   },
   {
    "duration": 8,
    "start_time": "2025-01-03T20:27:42.130Z"
   },
   {
    "duration": 10,
    "start_time": "2025-01-03T20:27:42.140Z"
   },
   {
    "duration": 6,
    "start_time": "2025-01-03T20:27:42.151Z"
   },
   {
    "duration": 8,
    "start_time": "2025-01-03T20:27:42.158Z"
   },
   {
    "duration": 5,
    "start_time": "2025-01-03T20:27:42.168Z"
   },
   {
    "duration": 6,
    "start_time": "2025-01-03T20:27:42.209Z"
   },
   {
    "duration": 8,
    "start_time": "2025-01-03T20:27:42.217Z"
   },
   {
    "duration": 12,
    "start_time": "2025-01-03T20:27:42.226Z"
   },
   {
    "duration": 4,
    "start_time": "2025-01-03T20:27:42.239Z"
   },
   {
    "duration": 6,
    "start_time": "2025-01-03T20:27:42.245Z"
   },
   {
    "duration": 16,
    "start_time": "2025-01-03T20:27:42.253Z"
   },
   {
    "duration": 40,
    "start_time": "2025-01-03T20:27:42.271Z"
   },
   {
    "duration": 6,
    "start_time": "2025-01-03T20:27:42.313Z"
   },
   {
    "duration": 18,
    "start_time": "2025-01-03T20:27:42.321Z"
   },
   {
    "duration": 8,
    "start_time": "2025-01-03T20:27:42.340Z"
   },
   {
    "duration": 263,
    "start_time": "2025-01-03T20:27:42.349Z"
   },
   {
    "duration": 778,
    "start_time": "2025-01-03T20:28:10.014Z"
   },
   {
    "duration": 729,
    "start_time": "2025-01-03T20:28:27.370Z"
   },
   {
    "duration": 314,
    "start_time": "2025-01-03T20:31:33.156Z"
   },
   {
    "duration": 314,
    "start_time": "2025-01-03T20:31:45.354Z"
   },
   {
    "duration": 323,
    "start_time": "2025-01-03T20:33:00.244Z"
   },
   {
    "duration": 21,
    "start_time": "2025-01-03T20:36:45.364Z"
   },
   {
    "duration": 391,
    "start_time": "2025-01-03T20:37:03.630Z"
   },
   {
    "duration": 171,
    "start_time": "2025-01-03T20:37:29.376Z"
   },
   {
    "duration": 235,
    "start_time": "2025-01-03T20:38:52.636Z"
   },
   {
    "duration": 219,
    "start_time": "2025-01-03T20:43:46.241Z"
   },
   {
    "duration": 622,
    "start_time": "2025-01-03T20:45:33.927Z"
   },
   {
    "duration": 464,
    "start_time": "2025-01-03T20:45:50.180Z"
   },
   {
    "duration": 12,
    "start_time": "2025-01-03T20:52:10.582Z"
   },
   {
    "duration": 14,
    "start_time": "2025-01-03T20:53:16.220Z"
   },
   {
    "duration": 14,
    "start_time": "2025-01-03T20:54:29.502Z"
   },
   {
    "duration": 14,
    "start_time": "2025-01-03T20:55:06.321Z"
   },
   {
    "duration": 14,
    "start_time": "2025-01-03T20:56:02.224Z"
   },
   {
    "duration": 15,
    "start_time": "2025-01-03T20:56:21.355Z"
   },
   {
    "duration": 986,
    "start_time": "2025-01-03T20:57:19.774Z"
   },
   {
    "duration": 36,
    "start_time": "2025-01-03T20:57:20.762Z"
   },
   {
    "duration": 10,
    "start_time": "2025-01-03T20:57:20.800Z"
   },
   {
    "duration": 10,
    "start_time": "2025-01-03T20:57:20.812Z"
   },
   {
    "duration": 9,
    "start_time": "2025-01-03T20:57:20.823Z"
   },
   {
    "duration": 10,
    "start_time": "2025-01-03T20:57:20.834Z"
   },
   {
    "duration": 9,
    "start_time": "2025-01-03T20:57:20.845Z"
   },
   {
    "duration": 7,
    "start_time": "2025-01-03T20:57:20.856Z"
   },
   {
    "duration": 46,
    "start_time": "2025-01-03T20:57:20.864Z"
   },
   {
    "duration": 13,
    "start_time": "2025-01-03T20:57:20.913Z"
   },
   {
    "duration": 4,
    "start_time": "2025-01-03T20:57:20.927Z"
   },
   {
    "duration": 6,
    "start_time": "2025-01-03T20:57:20.933Z"
   },
   {
    "duration": 9,
    "start_time": "2025-01-03T20:57:20.940Z"
   },
   {
    "duration": 8,
    "start_time": "2025-01-03T20:57:20.950Z"
   },
   {
    "duration": 7,
    "start_time": "2025-01-03T20:57:20.959Z"
   },
   {
    "duration": 41,
    "start_time": "2025-01-03T20:57:20.968Z"
   },
   {
    "duration": 3,
    "start_time": "2025-01-03T20:57:21.011Z"
   },
   {
    "duration": 7,
    "start_time": "2025-01-03T20:57:21.015Z"
   },
   {
    "duration": 13,
    "start_time": "2025-01-03T20:57:21.025Z"
   },
   {
    "duration": 8,
    "start_time": "2025-01-03T20:57:21.040Z"
   },
   {
    "duration": 8,
    "start_time": "2025-01-03T20:57:21.049Z"
   },
   {
    "duration": 3,
    "start_time": "2025-01-03T20:57:21.060Z"
   },
   {
    "duration": 54,
    "start_time": "2025-01-03T20:57:21.065Z"
   },
   {
    "duration": 7,
    "start_time": "2025-01-03T20:57:21.121Z"
   },
   {
    "duration": 8,
    "start_time": "2025-01-03T20:57:21.130Z"
   },
   {
    "duration": 5,
    "start_time": "2025-01-03T20:57:21.140Z"
   },
   {
    "duration": 6,
    "start_time": "2025-01-03T20:57:21.147Z"
   },
   {
    "duration": 5,
    "start_time": "2025-01-03T20:57:21.157Z"
   },
   {
    "duration": 7,
    "start_time": "2025-01-03T20:57:21.164Z"
   },
   {
    "duration": 43,
    "start_time": "2025-01-03T20:57:21.173Z"
   },
   {
    "duration": 11,
    "start_time": "2025-01-03T20:57:21.217Z"
   },
   {
    "duration": 5,
    "start_time": "2025-01-03T20:57:21.230Z"
   },
   {
    "duration": 8,
    "start_time": "2025-01-03T20:57:21.237Z"
   },
   {
    "duration": 19,
    "start_time": "2025-01-03T20:57:21.247Z"
   },
   {
    "duration": 4,
    "start_time": "2025-01-03T20:57:21.267Z"
   },
   {
    "duration": 39,
    "start_time": "2025-01-03T20:57:21.273Z"
   },
   {
    "duration": 18,
    "start_time": "2025-01-03T20:57:21.314Z"
   },
   {
    "duration": 8,
    "start_time": "2025-01-03T20:57:21.334Z"
   },
   {
    "duration": 396,
    "start_time": "2025-01-03T20:57:21.344Z"
   },
   {
    "duration": 343,
    "start_time": "2025-01-03T20:57:21.742Z"
   },
   {
    "duration": 241,
    "start_time": "2025-01-03T20:57:22.087Z"
   },
   {
    "duration": 599,
    "start_time": "2025-01-03T20:57:22.330Z"
   },
   {
    "duration": 76,
    "start_time": "2025-01-03T20:57:22.934Z"
   },
   {
    "duration": 16,
    "start_time": "2025-01-03T20:57:23.012Z"
   },
   {
    "duration": 573,
    "start_time": "2025-01-03T21:00:17.506Z"
   },
   {
    "duration": 127,
    "start_time": "2025-01-03T21:00:36.350Z"
   },
   {
    "duration": 18,
    "start_time": "2025-01-03T21:02:54.814Z"
   },
   {
    "duration": 3,
    "start_time": "2025-01-03T21:03:20.753Z"
   },
   {
    "duration": 17,
    "start_time": "2025-01-03T21:03:28.530Z"
   },
   {
    "duration": 4,
    "start_time": "2025-01-03T21:03:55.243Z"
   },
   {
    "duration": 41,
    "start_time": "2025-01-03T21:03:59.755Z"
   },
   {
    "duration": 23,
    "start_time": "2025-01-03T21:05:48.025Z"
   },
   {
    "duration": 9126,
    "start_time": "2025-01-03T21:07:09.955Z"
   },
   {
    "duration": 25,
    "start_time": "2025-01-03T21:07:32.030Z"
   },
   {
    "duration": 23,
    "start_time": "2025-01-03T21:08:19.627Z"
   },
   {
    "duration": 2,
    "start_time": "2025-01-03T21:09:11.382Z"
   },
   {
    "duration": 3,
    "start_time": "2025-01-03T21:09:15.135Z"
   },
   {
    "duration": 32,
    "start_time": "2025-01-03T21:09:18.648Z"
   },
   {
    "duration": 2,
    "start_time": "2025-01-03T21:10:12.666Z"
   },
   {
    "duration": 37,
    "start_time": "2025-01-03T21:11:02.177Z"
   },
   {
    "duration": 56,
    "start_time": "2025-01-03T21:11:18.950Z"
   },
   {
    "duration": 15,
    "start_time": "2025-01-03T21:12:03.651Z"
   },
   {
    "duration": 17,
    "start_time": "2025-01-03T21:12:25.599Z"
   },
   {
    "duration": 3,
    "start_time": "2025-01-03T21:12:42.180Z"
   },
   {
    "duration": 13,
    "start_time": "2025-01-03T21:12:54.050Z"
   },
   {
    "duration": 55,
    "start_time": "2025-01-03T21:15:35.064Z"
   },
   {
    "duration": 35,
    "start_time": "2025-01-03T21:17:14.421Z"
   },
   {
    "duration": 16,
    "start_time": "2025-01-03T21:17:36.654Z"
   },
   {
    "duration": 2,
    "start_time": "2025-01-03T21:18:04.335Z"
   },
   {
    "duration": 3,
    "start_time": "2025-01-03T21:18:04.689Z"
   },
   {
    "duration": 2,
    "start_time": "2025-01-03T21:18:04.962Z"
   },
   {
    "duration": 2,
    "start_time": "2025-01-03T21:18:05.259Z"
   },
   {
    "duration": 32,
    "start_time": "2025-01-03T21:18:06.878Z"
   },
   {
    "duration": 4,
    "start_time": "2025-01-03T21:27:26.393Z"
   },
   {
    "duration": 4,
    "start_time": "2025-01-03T21:28:19.488Z"
   },
   {
    "duration": 4,
    "start_time": "2025-01-03T21:28:26.525Z"
   },
   {
    "duration": 4,
    "start_time": "2025-01-03T21:28:38.630Z"
   },
   {
    "duration": 5,
    "start_time": "2025-01-03T21:28:43.365Z"
   },
   {
    "duration": 34,
    "start_time": "2025-01-03T21:29:19.629Z"
   },
   {
    "duration": 1365,
    "start_time": "2025-01-03T21:34:00.403Z"
   },
   {
    "duration": 3,
    "start_time": "2025-01-03T21:34:17.462Z"
   },
   {
    "duration": 1390,
    "start_time": "2025-01-03T21:34:19.367Z"
   },
   {
    "duration": 25,
    "start_time": "2025-01-03T21:34:38.569Z"
   },
   {
    "duration": 18,
    "start_time": "2025-01-03T21:34:46.103Z"
   },
   {
    "duration": 16,
    "start_time": "2025-01-03T21:35:48.306Z"
   },
   {
    "duration": 20,
    "start_time": "2025-01-03T21:36:05.934Z"
   },
   {
    "duration": 1350,
    "start_time": "2025-01-03T21:36:14.056Z"
   },
   {
    "duration": 17,
    "start_time": "2025-01-03T21:36:16.603Z"
   },
   {
    "duration": 16,
    "start_time": "2025-01-03T21:36:17.961Z"
   },
   {
    "duration": 3,
    "start_time": "2025-01-03T21:38:56.570Z"
   },
   {
    "duration": 30,
    "start_time": "2025-01-03T21:39:14.930Z"
   },
   {
    "duration": 17,
    "start_time": "2025-01-03T21:40:22.106Z"
   },
   {
    "duration": 73,
    "start_time": "2025-01-03T21:40:40.584Z"
   },
   {
    "duration": 212,
    "start_time": "2025-01-03T21:41:12.922Z"
   },
   {
    "duration": 48,
    "start_time": "2025-01-03T21:41:27.882Z"
   },
   {
    "duration": 31,
    "start_time": "2025-01-03T21:42:10.474Z"
   },
   {
    "duration": 832,
    "start_time": "2025-01-04T14:44:20.330Z"
   },
   {
    "duration": 2735,
    "start_time": "2025-01-04T14:44:31.873Z"
   },
   {
    "duration": 48,
    "start_time": "2025-01-04T14:44:34.610Z"
   },
   {
    "duration": 10,
    "start_time": "2025-01-04T14:44:34.660Z"
   },
   {
    "duration": 11,
    "start_time": "2025-01-04T14:44:34.672Z"
   },
   {
    "duration": 9,
    "start_time": "2025-01-04T14:44:34.685Z"
   },
   {
    "duration": 15,
    "start_time": "2025-01-04T14:44:34.695Z"
   },
   {
    "duration": 11,
    "start_time": "2025-01-04T14:44:34.712Z"
   },
   {
    "duration": 6,
    "start_time": "2025-01-04T14:44:34.725Z"
   },
   {
    "duration": 11,
    "start_time": "2025-01-04T14:44:34.733Z"
   },
   {
    "duration": 11,
    "start_time": "2025-01-04T14:44:34.747Z"
   },
   {
    "duration": 3,
    "start_time": "2025-01-04T14:44:34.760Z"
   },
   {
    "duration": 42,
    "start_time": "2025-01-04T14:44:34.765Z"
   },
   {
    "duration": 9,
    "start_time": "2025-01-04T14:44:34.809Z"
   },
   {
    "duration": 10,
    "start_time": "2025-01-04T14:44:34.820Z"
   },
   {
    "duration": 7,
    "start_time": "2025-01-04T14:44:34.832Z"
   },
   {
    "duration": 5,
    "start_time": "2025-01-04T14:44:34.841Z"
   },
   {
    "duration": 3,
    "start_time": "2025-01-04T14:44:34.848Z"
   },
   {
    "duration": 6,
    "start_time": "2025-01-04T14:44:34.853Z"
   },
   {
    "duration": 46,
    "start_time": "2025-01-04T14:44:34.860Z"
   },
   {
    "duration": 8,
    "start_time": "2025-01-04T14:44:34.907Z"
   },
   {
    "duration": 9,
    "start_time": "2025-01-04T14:44:34.917Z"
   },
   {
    "duration": 4,
    "start_time": "2025-01-04T14:44:34.928Z"
   },
   {
    "duration": 21,
    "start_time": "2025-01-04T14:44:34.934Z"
   },
   {
    "duration": 8,
    "start_time": "2025-01-04T14:44:34.957Z"
   },
   {
    "duration": 45,
    "start_time": "2025-01-04T14:44:34.967Z"
   },
   {
    "duration": 5,
    "start_time": "2025-01-04T14:44:35.014Z"
   },
   {
    "duration": 6,
    "start_time": "2025-01-04T14:44:35.021Z"
   },
   {
    "duration": 5,
    "start_time": "2025-01-04T14:44:35.032Z"
   },
   {
    "duration": 7,
    "start_time": "2025-01-04T14:44:35.038Z"
   },
   {
    "duration": 8,
    "start_time": "2025-01-04T14:44:35.046Z"
   },
   {
    "duration": 50,
    "start_time": "2025-01-04T14:44:35.055Z"
   },
   {
    "duration": 5,
    "start_time": "2025-01-04T14:44:35.107Z"
   },
   {
    "duration": 7,
    "start_time": "2025-01-04T14:44:35.114Z"
   },
   {
    "duration": 18,
    "start_time": "2025-01-04T14:44:35.122Z"
   },
   {
    "duration": 3,
    "start_time": "2025-01-04T14:44:35.142Z"
   },
   {
    "duration": 6,
    "start_time": "2025-01-04T14:44:35.147Z"
   },
   {
    "duration": 19,
    "start_time": "2025-01-04T14:44:35.154Z"
   },
   {
    "duration": 8,
    "start_time": "2025-01-04T14:44:35.205Z"
   },
   {
    "duration": 425,
    "start_time": "2025-01-04T14:44:35.214Z"
   },
   {
    "duration": 374,
    "start_time": "2025-01-04T14:44:35.641Z"
   },
   {
    "duration": 239,
    "start_time": "2025-01-04T14:44:36.017Z"
   },
   {
    "duration": 508,
    "start_time": "2025-01-04T14:44:36.258Z"
   },
   {
    "duration": 39,
    "start_time": "2025-01-04T14:44:36.767Z"
   },
   {
    "duration": 19,
    "start_time": "2025-01-04T14:44:36.808Z"
   },
   {
    "duration": 79,
    "start_time": "2025-01-04T14:44:36.829Z"
   },
   {
    "duration": 42,
    "start_time": "2025-01-04T14:44:36.910Z"
   },
   {
    "duration": 4,
    "start_time": "2025-01-04T14:44:36.954Z"
   },
   {
    "duration": 3,
    "start_time": "2025-01-04T14:44:36.960Z"
   },
   {
    "duration": 184,
    "start_time": "2025-01-04T14:44:36.964Z"
   },
   {
    "duration": 4,
    "start_time": "2025-01-04T14:44:48.415Z"
   },
   {
    "duration": 3,
    "start_time": "2025-01-04T14:44:49.030Z"
   },
   {
    "duration": 30,
    "start_time": "2025-01-04T14:44:49.932Z"
   },
   {
    "duration": 30,
    "start_time": "2025-01-04T14:44:54.952Z"
   },
   {
    "duration": 32,
    "start_time": "2025-01-04T14:45:28.821Z"
   },
   {
    "duration": 4,
    "start_time": "2025-01-04T14:45:44.390Z"
   },
   {
    "duration": 3,
    "start_time": "2025-01-04T14:45:45.012Z"
   },
   {
    "duration": 3,
    "start_time": "2025-01-04T14:55:28.265Z"
   },
   {
    "duration": 5,
    "start_time": "2025-01-04T14:57:19.302Z"
   },
   {
    "duration": 24,
    "start_time": "2025-01-04T14:58:22.463Z"
   },
   {
    "duration": 23,
    "start_time": "2025-01-04T14:59:16.314Z"
   },
   {
    "duration": 21,
    "start_time": "2025-01-04T14:59:39.351Z"
   },
   {
    "duration": 1039,
    "start_time": "2025-01-04T15:01:51.725Z"
   },
   {
    "duration": 35,
    "start_time": "2025-01-04T15:01:52.766Z"
   },
   {
    "duration": 12,
    "start_time": "2025-01-04T15:01:52.802Z"
   },
   {
    "duration": 9,
    "start_time": "2025-01-04T15:01:52.817Z"
   },
   {
    "duration": 9,
    "start_time": "2025-01-04T15:01:52.829Z"
   },
   {
    "duration": 9,
    "start_time": "2025-01-04T15:01:52.840Z"
   },
   {
    "duration": 10,
    "start_time": "2025-01-04T15:01:52.851Z"
   },
   {
    "duration": 7,
    "start_time": "2025-01-04T15:01:52.862Z"
   },
   {
    "duration": 45,
    "start_time": "2025-01-04T15:01:52.870Z"
   },
   {
    "duration": 12,
    "start_time": "2025-01-04T15:01:52.918Z"
   },
   {
    "duration": 4,
    "start_time": "2025-01-04T15:01:52.931Z"
   },
   {
    "duration": 6,
    "start_time": "2025-01-04T15:01:52.936Z"
   },
   {
    "duration": 9,
    "start_time": "2025-01-04T15:01:52.943Z"
   },
   {
    "duration": 8,
    "start_time": "2025-01-04T15:01:52.954Z"
   },
   {
    "duration": 6,
    "start_time": "2025-01-04T15:01:52.964Z"
   },
   {
    "duration": 8,
    "start_time": "2025-01-04T15:01:53.004Z"
   },
   {
    "duration": 5,
    "start_time": "2025-01-04T15:01:53.014Z"
   },
   {
    "duration": 6,
    "start_time": "2025-01-04T15:01:53.021Z"
   },
   {
    "duration": 14,
    "start_time": "2025-01-04T15:01:53.028Z"
   },
   {
    "duration": 9,
    "start_time": "2025-01-04T15:01:53.043Z"
   },
   {
    "duration": 8,
    "start_time": "2025-01-04T15:01:53.053Z"
   },
   {
    "duration": 4,
    "start_time": "2025-01-04T15:01:53.063Z"
   },
   {
    "duration": 26,
    "start_time": "2025-01-04T15:01:53.109Z"
   },
   {
    "duration": 10,
    "start_time": "2025-01-04T15:01:53.137Z"
   },
   {
    "duration": 9,
    "start_time": "2025-01-04T15:01:53.148Z"
   },
   {
    "duration": 5,
    "start_time": "2025-01-04T15:01:53.159Z"
   },
   {
    "duration": 6,
    "start_time": "2025-01-04T15:01:53.165Z"
   },
   {
    "duration": 5,
    "start_time": "2025-01-04T15:01:53.205Z"
   },
   {
    "duration": 5,
    "start_time": "2025-01-04T15:01:53.211Z"
   },
   {
    "duration": 8,
    "start_time": "2025-01-04T15:01:53.218Z"
   },
   {
    "duration": 11,
    "start_time": "2025-01-04T15:01:53.228Z"
   },
   {
    "duration": 3,
    "start_time": "2025-01-04T15:01:53.240Z"
   },
   {
    "duration": 5,
    "start_time": "2025-01-04T15:01:53.245Z"
   },
   {
    "duration": 15,
    "start_time": "2025-01-04T15:01:53.251Z"
   },
   {
    "duration": 39,
    "start_time": "2025-01-04T15:01:53.268Z"
   },
   {
    "duration": 5,
    "start_time": "2025-01-04T15:01:53.309Z"
   },
   {
    "duration": 19,
    "start_time": "2025-01-04T15:01:53.316Z"
   },
   {
    "duration": 10,
    "start_time": "2025-01-04T15:01:53.336Z"
   },
   {
    "duration": 350,
    "start_time": "2025-01-04T15:01:53.348Z"
   },
   {
    "duration": 363,
    "start_time": "2025-01-04T15:01:53.701Z"
   },
   {
    "duration": 247,
    "start_time": "2025-01-04T15:01:54.066Z"
   },
   {
    "duration": 593,
    "start_time": "2025-01-04T15:01:54.314Z"
   },
   {
    "duration": 11,
    "start_time": "2025-01-04T15:01:54.909Z"
   },
   {
    "duration": 85,
    "start_time": "2025-01-04T15:01:54.922Z"
   },
   {
    "duration": 13,
    "start_time": "2025-01-04T15:01:55.009Z"
   },
   {
    "duration": 42,
    "start_time": "2025-01-04T15:01:55.024Z"
   },
   {
    "duration": 3,
    "start_time": "2025-01-04T15:01:55.067Z"
   },
   {
    "duration": 192,
    "start_time": "2025-01-04T15:01:55.072Z"
   },
   {
    "duration": 7,
    "start_time": "2025-01-04T15:03:07.750Z"
   },
   {
    "duration": 1016,
    "start_time": "2025-01-04T15:03:19.742Z"
   },
   {
    "duration": 34,
    "start_time": "2025-01-04T15:03:20.760Z"
   },
   {
    "duration": 11,
    "start_time": "2025-01-04T15:03:20.795Z"
   },
   {
    "duration": 8,
    "start_time": "2025-01-04T15:03:20.808Z"
   },
   {
    "duration": 9,
    "start_time": "2025-01-04T15:03:20.818Z"
   },
   {
    "duration": 10,
    "start_time": "2025-01-04T15:03:20.828Z"
   },
   {
    "duration": 9,
    "start_time": "2025-01-04T15:03:20.839Z"
   },
   {
    "duration": 5,
    "start_time": "2025-01-04T15:03:20.850Z"
   },
   {
    "duration": 10,
    "start_time": "2025-01-04T15:03:20.857Z"
   },
   {
    "duration": 13,
    "start_time": "2025-01-04T15:03:20.907Z"
   },
   {
    "duration": 4,
    "start_time": "2025-01-04T15:03:20.921Z"
   },
   {
    "duration": 6,
    "start_time": "2025-01-04T15:03:20.927Z"
   },
   {
    "duration": 8,
    "start_time": "2025-01-04T15:03:20.935Z"
   },
   {
    "duration": 8,
    "start_time": "2025-01-04T15:03:20.944Z"
   },
   {
    "duration": 6,
    "start_time": "2025-01-04T15:03:20.954Z"
   },
   {
    "duration": 4,
    "start_time": "2025-01-04T15:03:20.962Z"
   },
   {
    "duration": 37,
    "start_time": "2025-01-04T15:03:20.968Z"
   },
   {
    "duration": 6,
    "start_time": "2025-01-04T15:03:21.007Z"
   },
   {
    "duration": 14,
    "start_time": "2025-01-04T15:03:21.016Z"
   },
   {
    "duration": 9,
    "start_time": "2025-01-04T15:03:21.031Z"
   },
   {
    "duration": 8,
    "start_time": "2025-01-04T15:03:21.041Z"
   },
   {
    "duration": 4,
    "start_time": "2025-01-04T15:03:21.051Z"
   },
   {
    "duration": 63,
    "start_time": "2025-01-04T15:03:21.057Z"
   },
   {
    "duration": 8,
    "start_time": "2025-01-04T15:03:21.121Z"
   },
   {
    "duration": 9,
    "start_time": "2025-01-04T15:03:21.130Z"
   },
   {
    "duration": 5,
    "start_time": "2025-01-04T15:03:21.140Z"
   },
   {
    "duration": 7,
    "start_time": "2025-01-04T15:03:21.146Z"
   },
   {
    "duration": 5,
    "start_time": "2025-01-04T15:03:21.157Z"
   },
   {
    "duration": 5,
    "start_time": "2025-01-04T15:03:21.164Z"
   },
   {
    "duration": 41,
    "start_time": "2025-01-04T15:03:21.171Z"
   },
   {
    "duration": 16,
    "start_time": "2025-01-04T15:03:21.213Z"
   },
   {
    "duration": 4,
    "start_time": "2025-01-04T15:03:21.230Z"
   },
   {
    "duration": 6,
    "start_time": "2025-01-04T15:03:21.235Z"
   },
   {
    "duration": 16,
    "start_time": "2025-01-04T15:03:21.242Z"
   },
   {
    "duration": 3,
    "start_time": "2025-01-04T15:03:21.260Z"
   },
   {
    "duration": 5,
    "start_time": "2025-01-04T15:03:21.265Z"
   },
   {
    "duration": 18,
    "start_time": "2025-01-04T15:03:21.305Z"
   },
   {
    "duration": 9,
    "start_time": "2025-01-04T15:03:21.324Z"
   },
   {
    "duration": 371,
    "start_time": "2025-01-04T15:03:21.334Z"
   },
   {
    "duration": 357,
    "start_time": "2025-01-04T15:03:21.708Z"
   },
   {
    "duration": 245,
    "start_time": "2025-01-04T15:03:22.067Z"
   },
   {
    "duration": 616,
    "start_time": "2025-01-04T15:03:22.315Z"
   },
   {
    "duration": 71,
    "start_time": "2025-01-04T15:03:22.934Z"
   },
   {
    "duration": 16,
    "start_time": "2025-01-04T15:03:23.007Z"
   },
   {
    "duration": 80,
    "start_time": "2025-01-04T15:03:23.025Z"
   },
   {
    "duration": 46,
    "start_time": "2025-01-04T15:03:23.107Z"
   },
   {
    "duration": 2,
    "start_time": "2025-01-04T15:03:23.155Z"
   },
   {
    "duration": 194,
    "start_time": "2025-01-04T15:03:23.159Z"
   },
   {
    "duration": 3,
    "start_time": "2025-01-04T15:04:53.752Z"
   },
   {
    "duration": 4,
    "start_time": "2025-01-04T15:04:58.371Z"
   },
   {
    "duration": 4,
    "start_time": "2025-01-04T15:05:35.246Z"
   },
   {
    "duration": 3,
    "start_time": "2025-01-04T15:05:43.015Z"
   },
   {
    "duration": 4,
    "start_time": "2025-01-04T15:06:55.021Z"
   },
   {
    "duration": 30,
    "start_time": "2025-01-04T15:07:31.173Z"
   },
   {
    "duration": 2,
    "start_time": "2025-01-04T15:07:47.321Z"
   },
   {
    "duration": 4,
    "start_time": "2025-01-04T15:08:48.339Z"
   },
   {
    "duration": 11,
    "start_time": "2025-01-04T15:08:48.885Z"
   },
   {
    "duration": 5,
    "start_time": "2025-01-04T15:08:49.518Z"
   },
   {
    "duration": 4,
    "start_time": "2025-01-04T15:09:06.334Z"
   },
   {
    "duration": 249,
    "start_time": "2025-01-04T15:09:15.525Z"
   },
   {
    "duration": 4,
    "start_time": "2025-01-04T15:09:34.157Z"
   },
   {
    "duration": 49,
    "start_time": "2025-01-04T15:09:35.038Z"
   },
   {
    "duration": 6,
    "start_time": "2025-01-04T15:10:29.034Z"
   },
   {
    "duration": 4,
    "start_time": "2025-01-04T15:10:50.251Z"
   },
   {
    "duration": 986,
    "start_time": "2025-01-04T15:12:24.966Z"
   },
   {
    "duration": 34,
    "start_time": "2025-01-04T15:12:25.954Z"
   },
   {
    "duration": 10,
    "start_time": "2025-01-04T15:12:25.990Z"
   },
   {
    "duration": 9,
    "start_time": "2025-01-04T15:12:26.006Z"
   },
   {
    "duration": 10,
    "start_time": "2025-01-04T15:12:26.017Z"
   },
   {
    "duration": 9,
    "start_time": "2025-01-04T15:12:26.028Z"
   },
   {
    "duration": 8,
    "start_time": "2025-01-04T15:12:26.039Z"
   },
   {
    "duration": 6,
    "start_time": "2025-01-04T15:12:26.049Z"
   },
   {
    "duration": 9,
    "start_time": "2025-01-04T15:12:26.057Z"
   },
   {
    "duration": 13,
    "start_time": "2025-01-04T15:12:26.104Z"
   },
   {
    "duration": 4,
    "start_time": "2025-01-04T15:12:26.118Z"
   },
   {
    "duration": 6,
    "start_time": "2025-01-04T15:12:26.123Z"
   },
   {
    "duration": 9,
    "start_time": "2025-01-04T15:12:26.130Z"
   },
   {
    "duration": 7,
    "start_time": "2025-01-04T15:12:26.141Z"
   },
   {
    "duration": 6,
    "start_time": "2025-01-04T15:12:26.149Z"
   },
   {
    "duration": 4,
    "start_time": "2025-01-04T15:12:26.157Z"
   },
   {
    "duration": 42,
    "start_time": "2025-01-04T15:12:26.163Z"
   },
   {
    "duration": 7,
    "start_time": "2025-01-04T15:12:26.206Z"
   },
   {
    "duration": 15,
    "start_time": "2025-01-04T15:12:26.214Z"
   },
   {
    "duration": 7,
    "start_time": "2025-01-04T15:12:26.231Z"
   },
   {
    "duration": 8,
    "start_time": "2025-01-04T15:12:26.240Z"
   },
   {
    "duration": 4,
    "start_time": "2025-01-04T15:12:26.250Z"
   },
   {
    "duration": 59,
    "start_time": "2025-01-04T15:12:26.256Z"
   },
   {
    "duration": 9,
    "start_time": "2025-01-04T15:12:26.316Z"
   },
   {
    "duration": 9,
    "start_time": "2025-01-04T15:12:26.326Z"
   },
   {
    "duration": 5,
    "start_time": "2025-01-04T15:12:26.337Z"
   },
   {
    "duration": 6,
    "start_time": "2025-01-04T15:12:26.343Z"
   },
   {
    "duration": 4,
    "start_time": "2025-01-04T15:12:26.354Z"
   },
   {
    "duration": 6,
    "start_time": "2025-01-04T15:12:26.360Z"
   },
   {
    "duration": 43,
    "start_time": "2025-01-04T15:12:26.367Z"
   },
   {
    "duration": 11,
    "start_time": "2025-01-04T15:12:26.412Z"
   },
   {
    "duration": 4,
    "start_time": "2025-01-04T15:12:26.424Z"
   },
   {
    "duration": 5,
    "start_time": "2025-01-04T15:12:26.430Z"
   },
   {
    "duration": 16,
    "start_time": "2025-01-04T15:12:26.437Z"
   },
   {
    "duration": 4,
    "start_time": "2025-01-04T15:12:26.454Z"
   },
   {
    "duration": 6,
    "start_time": "2025-01-04T15:12:26.461Z"
   },
   {
    "duration": 53,
    "start_time": "2025-01-04T15:12:26.468Z"
   },
   {
    "duration": 8,
    "start_time": "2025-01-04T15:12:26.523Z"
   },
   {
    "duration": 376,
    "start_time": "2025-01-04T15:12:26.532Z"
   },
   {
    "duration": 369,
    "start_time": "2025-01-04T15:12:26.910Z"
   },
   {
    "duration": 236,
    "start_time": "2025-01-04T15:12:27.281Z"
   },
   {
    "duration": 596,
    "start_time": "2025-01-04T15:12:27.519Z"
   },
   {
    "duration": 12,
    "start_time": "2025-01-04T15:12:28.118Z"
   },
   {
    "duration": 82,
    "start_time": "2025-01-04T15:12:28.134Z"
   },
   {
    "duration": 12,
    "start_time": "2025-01-04T15:12:28.218Z"
   },
   {
    "duration": 2,
    "start_time": "2025-01-04T15:12:28.232Z"
   },
   {
    "duration": 2,
    "start_time": "2025-01-04T15:12:28.236Z"
   },
   {
    "duration": 2,
    "start_time": "2025-01-04T15:12:28.240Z"
   },
   {
    "duration": 3,
    "start_time": "2025-01-04T15:12:28.244Z"
   },
   {
    "duration": 16,
    "start_time": "2025-01-04T15:12:55.023Z"
   },
   {
    "duration": 162,
    "start_time": "2025-01-04T15:13:20.206Z"
   },
   {
    "duration": 8,
    "start_time": "2025-01-04T15:20:47.045Z"
   },
   {
    "duration": 523,
    "start_time": "2025-01-04T15:24:04.952Z"
   },
   {
    "duration": 44,
    "start_time": "2025-01-04T15:26:10.802Z"
   },
   {
    "duration": 43,
    "start_time": "2025-01-04T15:27:03.737Z"
   },
   {
    "duration": 8,
    "start_time": "2025-01-04T15:27:26.924Z"
   },
   {
    "duration": 976,
    "start_time": "2025-01-04T15:27:58.475Z"
   },
   {
    "duration": 36,
    "start_time": "2025-01-04T15:27:59.453Z"
   },
   {
    "duration": 15,
    "start_time": "2025-01-04T15:27:59.490Z"
   },
   {
    "duration": 10,
    "start_time": "2025-01-04T15:27:59.507Z"
   },
   {
    "duration": 9,
    "start_time": "2025-01-04T15:27:59.518Z"
   },
   {
    "duration": 9,
    "start_time": "2025-01-04T15:27:59.529Z"
   },
   {
    "duration": 9,
    "start_time": "2025-01-04T15:27:59.539Z"
   },
   {
    "duration": 6,
    "start_time": "2025-01-04T15:27:59.550Z"
   },
   {
    "duration": 11,
    "start_time": "2025-01-04T15:27:59.557Z"
   },
   {
    "duration": 14,
    "start_time": "2025-01-04T15:27:59.606Z"
   },
   {
    "duration": 5,
    "start_time": "2025-01-04T15:27:59.622Z"
   },
   {
    "duration": 6,
    "start_time": "2025-01-04T15:27:59.629Z"
   },
   {
    "duration": 8,
    "start_time": "2025-01-04T15:27:59.637Z"
   },
   {
    "duration": 8,
    "start_time": "2025-01-04T15:27:59.647Z"
   },
   {
    "duration": 6,
    "start_time": "2025-01-04T15:27:59.657Z"
   },
   {
    "duration": 44,
    "start_time": "2025-01-04T15:27:59.665Z"
   },
   {
    "duration": 5,
    "start_time": "2025-01-04T15:27:59.711Z"
   },
   {
    "duration": 7,
    "start_time": "2025-01-04T15:27:59.717Z"
   },
   {
    "duration": 14,
    "start_time": "2025-01-04T15:27:59.726Z"
   },
   {
    "duration": 7,
    "start_time": "2025-01-04T15:27:59.741Z"
   },
   {
    "duration": 7,
    "start_time": "2025-01-04T15:27:59.750Z"
   },
   {
    "duration": 4,
    "start_time": "2025-01-04T15:27:59.759Z"
   },
   {
    "duration": 23,
    "start_time": "2025-01-04T15:27:59.805Z"
   },
   {
    "duration": 8,
    "start_time": "2025-01-04T15:27:59.829Z"
   },
   {
    "duration": 9,
    "start_time": "2025-01-04T15:27:59.839Z"
   },
   {
    "duration": 7,
    "start_time": "2025-01-04T15:27:59.849Z"
   },
   {
    "duration": 3,
    "start_time": "2025-01-04T15:27:59.858Z"
   },
   {
    "duration": 7,
    "start_time": "2025-01-04T15:27:59.865Z"
   },
   {
    "duration": 10,
    "start_time": "2025-01-04T15:27:59.906Z"
   },
   {
    "duration": 6,
    "start_time": "2025-01-04T15:27:59.918Z"
   },
   {
    "duration": 7,
    "start_time": "2025-01-04T15:27:59.926Z"
   },
   {
    "duration": 7,
    "start_time": "2025-01-04T15:27:59.934Z"
   },
   {
    "duration": 11,
    "start_time": "2025-01-04T15:27:59.943Z"
   },
   {
    "duration": 4,
    "start_time": "2025-01-04T15:27:59.956Z"
   },
   {
    "duration": 45,
    "start_time": "2025-01-04T15:27:59.961Z"
   },
   {
    "duration": 18,
    "start_time": "2025-01-04T15:28:00.008Z"
   },
   {
    "duration": 4,
    "start_time": "2025-01-04T15:28:00.027Z"
   },
   {
    "duration": 6,
    "start_time": "2025-01-04T15:28:00.032Z"
   },
   {
    "duration": 570,
    "start_time": "2025-01-04T15:28:00.039Z"
   },
   {
    "duration": 0,
    "start_time": "2025-01-04T15:28:00.611Z"
   },
   {
    "duration": 0,
    "start_time": "2025-01-04T15:28:00.613Z"
   },
   {
    "duration": 0,
    "start_time": "2025-01-04T15:28:00.614Z"
   },
   {
    "duration": 0,
    "start_time": "2025-01-04T15:28:00.615Z"
   },
   {
    "duration": 0,
    "start_time": "2025-01-04T15:28:00.616Z"
   },
   {
    "duration": 0,
    "start_time": "2025-01-04T15:28:00.617Z"
   },
   {
    "duration": 0,
    "start_time": "2025-01-04T15:28:00.618Z"
   },
   {
    "duration": 0,
    "start_time": "2025-01-04T15:28:00.619Z"
   },
   {
    "duration": 0,
    "start_time": "2025-01-04T15:28:00.621Z"
   },
   {
    "duration": 0,
    "start_time": "2025-01-04T15:28:00.622Z"
   },
   {
    "duration": 0,
    "start_time": "2025-01-04T15:28:00.624Z"
   },
   {
    "duration": 0,
    "start_time": "2025-01-04T15:28:00.625Z"
   },
   {
    "duration": 7,
    "start_time": "2025-01-04T15:31:10.225Z"
   },
   {
    "duration": 79,
    "start_time": "2025-01-04T15:31:30.282Z"
   },
   {
    "duration": 1025,
    "start_time": "2025-01-04T15:31:55.152Z"
   },
   {
    "duration": 32,
    "start_time": "2025-01-04T15:31:56.179Z"
   },
   {
    "duration": 11,
    "start_time": "2025-01-04T15:31:56.213Z"
   },
   {
    "duration": 9,
    "start_time": "2025-01-04T15:31:56.227Z"
   },
   {
    "duration": 10,
    "start_time": "2025-01-04T15:31:56.237Z"
   },
   {
    "duration": 10,
    "start_time": "2025-01-04T15:31:56.248Z"
   },
   {
    "duration": 9,
    "start_time": "2025-01-04T15:31:56.259Z"
   },
   {
    "duration": 38,
    "start_time": "2025-01-04T15:31:56.270Z"
   },
   {
    "duration": 10,
    "start_time": "2025-01-04T15:31:56.310Z"
   },
   {
    "duration": 11,
    "start_time": "2025-01-04T15:31:56.323Z"
   },
   {
    "duration": 4,
    "start_time": "2025-01-04T15:31:56.335Z"
   },
   {
    "duration": 6,
    "start_time": "2025-01-04T15:31:56.341Z"
   },
   {
    "duration": 8,
    "start_time": "2025-01-04T15:31:56.349Z"
   },
   {
    "duration": 8,
    "start_time": "2025-01-04T15:31:56.359Z"
   },
   {
    "duration": 7,
    "start_time": "2025-01-04T15:31:56.404Z"
   },
   {
    "duration": 5,
    "start_time": "2025-01-04T15:31:56.412Z"
   },
   {
    "duration": 3,
    "start_time": "2025-01-04T15:31:56.419Z"
   },
   {
    "duration": 6,
    "start_time": "2025-01-04T15:31:56.424Z"
   },
   {
    "duration": 16,
    "start_time": "2025-01-04T15:31:56.431Z"
   },
   {
    "duration": 9,
    "start_time": "2025-01-04T15:31:56.449Z"
   },
   {
    "duration": 47,
    "start_time": "2025-01-04T15:31:56.459Z"
   },
   {
    "duration": 5,
    "start_time": "2025-01-04T15:31:56.507Z"
   },
   {
    "duration": 22,
    "start_time": "2025-01-04T15:31:56.513Z"
   },
   {
    "duration": 8,
    "start_time": "2025-01-04T15:31:56.537Z"
   },
   {
    "duration": 8,
    "start_time": "2025-01-04T15:31:56.547Z"
   },
   {
    "duration": 9,
    "start_time": "2025-01-04T15:31:56.556Z"
   },
   {
    "duration": 38,
    "start_time": "2025-01-04T15:31:56.567Z"
   },
   {
    "duration": 6,
    "start_time": "2025-01-04T15:31:56.609Z"
   },
   {
    "duration": 8,
    "start_time": "2025-01-04T15:31:56.617Z"
   },
   {
    "duration": 6,
    "start_time": "2025-01-04T15:31:56.627Z"
   },
   {
    "duration": 5,
    "start_time": "2025-01-04T15:31:56.634Z"
   },
   {
    "duration": 7,
    "start_time": "2025-01-04T15:31:56.641Z"
   },
   {
    "duration": 11,
    "start_time": "2025-01-04T15:31:56.650Z"
   },
   {
    "duration": 44,
    "start_time": "2025-01-04T15:31:56.662Z"
   },
   {
    "duration": 6,
    "start_time": "2025-01-04T15:31:56.708Z"
   },
   {
    "duration": 17,
    "start_time": "2025-01-04T15:31:56.715Z"
   },
   {
    "duration": 3,
    "start_time": "2025-01-04T15:31:56.734Z"
   },
   {
    "duration": 5,
    "start_time": "2025-01-04T15:31:56.739Z"
   },
   {
    "duration": 19,
    "start_time": "2025-01-04T15:31:56.746Z"
   },
   {
    "duration": 41,
    "start_time": "2025-01-04T15:31:56.766Z"
   },
   {
    "duration": 364,
    "start_time": "2025-01-04T15:31:56.810Z"
   },
   {
    "duration": 376,
    "start_time": "2025-01-04T15:31:57.176Z"
   },
   {
    "duration": 235,
    "start_time": "2025-01-04T15:31:57.554Z"
   },
   {
    "duration": 619,
    "start_time": "2025-01-04T15:31:57.791Z"
   },
   {
    "duration": 15,
    "start_time": "2025-01-04T15:31:58.413Z"
   },
   {
    "duration": 88,
    "start_time": "2025-01-04T15:31:58.429Z"
   },
   {
    "duration": 15,
    "start_time": "2025-01-04T15:31:58.520Z"
   },
   {
    "duration": 2,
    "start_time": "2025-01-04T15:31:58.537Z"
   },
   {
    "duration": 3,
    "start_time": "2025-01-04T15:31:58.541Z"
   },
   {
    "duration": 193,
    "start_time": "2025-01-04T15:31:58.546Z"
   },
   {
    "duration": 0,
    "start_time": "2025-01-04T15:31:58.741Z"
   },
   {
    "duration": 43,
    "start_time": "2025-01-04T15:34:04.882Z"
   },
   {
    "duration": 3,
    "start_time": "2025-01-04T15:34:09.038Z"
   },
   {
    "duration": 33,
    "start_time": "2025-01-04T15:34:10.393Z"
   },
   {
    "duration": 25,
    "start_time": "2025-01-04T15:34:24.227Z"
   },
   {
    "duration": 485,
    "start_time": "2025-01-04T15:35:55.776Z"
   },
   {
    "duration": 3,
    "start_time": "2025-01-04T15:35:58.678Z"
   },
   {
    "duration": 29,
    "start_time": "2025-01-04T15:35:59.360Z"
   },
   {
    "duration": 24,
    "start_time": "2025-01-04T15:36:04.528Z"
   },
   {
    "duration": 1068,
    "start_time": "2025-01-04T15:38:01.921Z"
   },
   {
    "duration": 39,
    "start_time": "2025-01-04T15:38:02.991Z"
   },
   {
    "duration": 11,
    "start_time": "2025-01-04T15:38:03.031Z"
   },
   {
    "duration": 10,
    "start_time": "2025-01-04T15:38:03.045Z"
   },
   {
    "duration": 9,
    "start_time": "2025-01-04T15:38:03.056Z"
   },
   {
    "duration": 9,
    "start_time": "2025-01-04T15:38:03.067Z"
   },
   {
    "duration": 30,
    "start_time": "2025-01-04T15:38:03.078Z"
   },
   {
    "duration": 7,
    "start_time": "2025-01-04T15:38:03.109Z"
   },
   {
    "duration": 10,
    "start_time": "2025-01-04T15:38:03.118Z"
   },
   {
    "duration": 12,
    "start_time": "2025-01-04T15:38:03.132Z"
   },
   {
    "duration": 4,
    "start_time": "2025-01-04T15:38:03.145Z"
   },
   {
    "duration": 7,
    "start_time": "2025-01-04T15:38:03.151Z"
   },
   {
    "duration": 8,
    "start_time": "2025-01-04T15:38:03.160Z"
   },
   {
    "duration": 8,
    "start_time": "2025-01-04T15:38:03.207Z"
   },
   {
    "duration": 7,
    "start_time": "2025-01-04T15:38:03.217Z"
   },
   {
    "duration": 5,
    "start_time": "2025-01-04T15:38:03.226Z"
   },
   {
    "duration": 4,
    "start_time": "2025-01-04T15:38:03.234Z"
   },
   {
    "duration": 6,
    "start_time": "2025-01-04T15:38:03.239Z"
   },
   {
    "duration": 13,
    "start_time": "2025-01-04T15:38:03.247Z"
   },
   {
    "duration": 7,
    "start_time": "2025-01-04T15:38:03.262Z"
   },
   {
    "duration": 39,
    "start_time": "2025-01-04T15:38:03.271Z"
   },
   {
    "duration": 4,
    "start_time": "2025-01-04T15:38:03.312Z"
   },
   {
    "duration": 22,
    "start_time": "2025-01-04T15:38:03.318Z"
   },
   {
    "duration": 8,
    "start_time": "2025-01-04T15:38:03.342Z"
   },
   {
    "duration": 9,
    "start_time": "2025-01-04T15:38:03.351Z"
   },
   {
    "duration": 9,
    "start_time": "2025-01-04T15:38:03.361Z"
   },
   {
    "duration": 42,
    "start_time": "2025-01-04T15:38:03.371Z"
   },
   {
    "duration": 6,
    "start_time": "2025-01-04T15:38:03.417Z"
   },
   {
    "duration": 6,
    "start_time": "2025-01-04T15:38:03.425Z"
   },
   {
    "duration": 9,
    "start_time": "2025-01-04T15:38:03.432Z"
   },
   {
    "duration": 12,
    "start_time": "2025-01-04T15:38:03.442Z"
   },
   {
    "duration": 4,
    "start_time": "2025-01-04T15:38:03.455Z"
   },
   {
    "duration": 46,
    "start_time": "2025-01-04T15:38:03.461Z"
   },
   {
    "duration": 18,
    "start_time": "2025-01-04T15:38:03.509Z"
   },
   {
    "duration": 6,
    "start_time": "2025-01-04T15:38:03.530Z"
   },
   {
    "duration": 11,
    "start_time": "2025-01-04T15:38:03.538Z"
   },
   {
    "duration": 19,
    "start_time": "2025-01-04T15:38:03.551Z"
   },
   {
    "duration": 9,
    "start_time": "2025-01-04T15:38:03.571Z"
   },
   {
    "duration": 367,
    "start_time": "2025-01-04T15:38:03.605Z"
   },
   {
    "duration": 380,
    "start_time": "2025-01-04T15:38:03.974Z"
   },
   {
    "duration": 245,
    "start_time": "2025-01-04T15:38:04.355Z"
   },
   {
    "duration": 628,
    "start_time": "2025-01-04T15:38:04.602Z"
   },
   {
    "duration": 76,
    "start_time": "2025-01-04T15:38:05.233Z"
   },
   {
    "duration": 16,
    "start_time": "2025-01-04T15:38:05.312Z"
   },
   {
    "duration": 86,
    "start_time": "2025-01-04T15:38:05.330Z"
   },
   {
    "duration": 43,
    "start_time": "2025-01-04T15:38:05.418Z"
   },
   {
    "duration": 3,
    "start_time": "2025-01-04T15:38:05.463Z"
   },
   {
    "duration": 184,
    "start_time": "2025-01-04T15:38:05.467Z"
   },
   {
    "duration": 0,
    "start_time": "2025-01-04T15:38:05.653Z"
   },
   {
    "duration": 10,
    "start_time": "2025-01-04T15:40:27.639Z"
   },
   {
    "duration": 1188,
    "start_time": "2025-01-04T15:40:33.933Z"
   },
   {
    "duration": 34,
    "start_time": "2025-01-04T15:40:35.124Z"
   },
   {
    "duration": 10,
    "start_time": "2025-01-04T15:40:35.160Z"
   },
   {
    "duration": 9,
    "start_time": "2025-01-04T15:40:35.173Z"
   },
   {
    "duration": 24,
    "start_time": "2025-01-04T15:40:35.183Z"
   },
   {
    "duration": 9,
    "start_time": "2025-01-04T15:40:35.210Z"
   },
   {
    "duration": 9,
    "start_time": "2025-01-04T15:40:35.221Z"
   },
   {
    "duration": 5,
    "start_time": "2025-01-04T15:40:35.232Z"
   },
   {
    "duration": 10,
    "start_time": "2025-01-04T15:40:35.239Z"
   },
   {
    "duration": 11,
    "start_time": "2025-01-04T15:40:35.253Z"
   },
   {
    "duration": 3,
    "start_time": "2025-01-04T15:40:35.266Z"
   },
   {
    "duration": 7,
    "start_time": "2025-01-04T15:40:35.306Z"
   },
   {
    "duration": 9,
    "start_time": "2025-01-04T15:40:35.315Z"
   },
   {
    "duration": 8,
    "start_time": "2025-01-04T15:40:35.326Z"
   },
   {
    "duration": 7,
    "start_time": "2025-01-04T15:40:35.336Z"
   },
   {
    "duration": 5,
    "start_time": "2025-01-04T15:40:35.345Z"
   },
   {
    "duration": 4,
    "start_time": "2025-01-04T15:40:35.351Z"
   },
   {
    "duration": 6,
    "start_time": "2025-01-04T15:40:35.357Z"
   },
   {
    "duration": 15,
    "start_time": "2025-01-04T15:40:35.404Z"
   },
   {
    "duration": 7,
    "start_time": "2025-01-04T15:40:35.421Z"
   },
   {
    "duration": 9,
    "start_time": "2025-01-04T15:40:35.430Z"
   },
   {
    "duration": 4,
    "start_time": "2025-01-04T15:40:35.440Z"
   },
   {
    "duration": 21,
    "start_time": "2025-01-04T15:40:35.446Z"
   },
   {
    "duration": 42,
    "start_time": "2025-01-04T15:40:35.468Z"
   },
   {
    "duration": 11,
    "start_time": "2025-01-04T15:40:35.511Z"
   },
   {
    "duration": 9,
    "start_time": "2025-01-04T15:40:35.523Z"
   },
   {
    "duration": 8,
    "start_time": "2025-01-04T15:40:35.534Z"
   },
   {
    "duration": 5,
    "start_time": "2025-01-04T15:40:35.545Z"
   },
   {
    "duration": 6,
    "start_time": "2025-01-04T15:40:35.551Z"
   },
   {
    "duration": 8,
    "start_time": "2025-01-04T15:40:35.559Z"
   },
   {
    "duration": 46,
    "start_time": "2025-01-04T15:40:35.568Z"
   },
   {
    "duration": 5,
    "start_time": "2025-01-04T15:40:35.616Z"
   },
   {
    "duration": 5,
    "start_time": "2025-01-04T15:40:35.622Z"
   },
   {
    "duration": 15,
    "start_time": "2025-01-04T15:40:35.629Z"
   },
   {
    "duration": 4,
    "start_time": "2025-01-04T15:40:35.646Z"
   },
   {
    "duration": 6,
    "start_time": "2025-01-04T15:40:35.652Z"
   },
   {
    "duration": 6,
    "start_time": "2025-01-04T15:40:35.659Z"
   },
   {
    "duration": 42,
    "start_time": "2025-01-04T15:40:35.667Z"
   },
   {
    "duration": 396,
    "start_time": "2025-01-04T15:40:35.711Z"
   },
   {
    "duration": 427,
    "start_time": "2025-01-04T15:40:36.108Z"
   },
   {
    "duration": 239,
    "start_time": "2025-01-04T15:40:36.540Z"
   },
   {
    "duration": 1308,
    "start_time": "2025-01-04T15:40:36.781Z"
   },
   {
    "duration": 23,
    "start_time": "2025-01-04T15:40:38.091Z"
   },
   {
    "duration": 92,
    "start_time": "2025-01-04T15:40:38.116Z"
   },
   {
    "duration": 13,
    "start_time": "2025-01-04T15:40:38.211Z"
   },
   {
    "duration": 50,
    "start_time": "2025-01-04T15:40:38.225Z"
   },
   {
    "duration": 3,
    "start_time": "2025-01-04T15:40:38.277Z"
   },
   {
    "duration": 205,
    "start_time": "2025-01-04T15:40:38.305Z"
   },
   {
    "duration": 21,
    "start_time": "2025-01-04T15:40:38.512Z"
   },
   {
    "duration": 192,
    "start_time": "2025-01-04T15:43:50.235Z"
   },
   {
    "duration": 1867,
    "start_time": "2025-01-04T15:44:11.270Z"
   },
   {
    "duration": 1028,
    "start_time": "2025-01-04T15:45:51.171Z"
   },
   {
    "duration": 34,
    "start_time": "2025-01-04T15:45:52.201Z"
   },
   {
    "duration": 10,
    "start_time": "2025-01-04T15:45:52.237Z"
   },
   {
    "duration": 10,
    "start_time": "2025-01-04T15:45:52.249Z"
   },
   {
    "duration": 9,
    "start_time": "2025-01-04T15:45:52.261Z"
   },
   {
    "duration": 34,
    "start_time": "2025-01-04T15:45:52.272Z"
   },
   {
    "duration": 10,
    "start_time": "2025-01-04T15:45:52.309Z"
   },
   {
    "duration": 7,
    "start_time": "2025-01-04T15:45:52.321Z"
   },
   {
    "duration": 11,
    "start_time": "2025-01-04T15:45:52.329Z"
   },
   {
    "duration": 12,
    "start_time": "2025-01-04T15:45:52.344Z"
   },
   {
    "duration": 4,
    "start_time": "2025-01-04T15:45:52.357Z"
   },
   {
    "duration": 6,
    "start_time": "2025-01-04T15:45:52.363Z"
   },
   {
    "duration": 42,
    "start_time": "2025-01-04T15:45:52.371Z"
   },
   {
    "duration": 9,
    "start_time": "2025-01-04T15:45:52.416Z"
   },
   {
    "duration": 14,
    "start_time": "2025-01-04T15:45:52.427Z"
   },
   {
    "duration": 6,
    "start_time": "2025-01-04T15:45:52.443Z"
   },
   {
    "duration": 5,
    "start_time": "2025-01-04T15:45:52.451Z"
   },
   {
    "duration": 7,
    "start_time": "2025-01-04T15:45:52.457Z"
   },
   {
    "duration": 48,
    "start_time": "2025-01-04T15:45:52.466Z"
   },
   {
    "duration": 8,
    "start_time": "2025-01-04T15:45:52.517Z"
   },
   {
    "duration": 9,
    "start_time": "2025-01-04T15:45:52.526Z"
   },
   {
    "duration": 4,
    "start_time": "2025-01-04T15:45:52.537Z"
   },
   {
    "duration": 22,
    "start_time": "2025-01-04T15:45:52.542Z"
   },
   {
    "duration": 41,
    "start_time": "2025-01-04T15:45:52.566Z"
   },
   {
    "duration": 9,
    "start_time": "2025-01-04T15:45:52.608Z"
   },
   {
    "duration": 10,
    "start_time": "2025-01-04T15:45:52.619Z"
   },
   {
    "duration": 10,
    "start_time": "2025-01-04T15:45:52.632Z"
   },
   {
    "duration": 5,
    "start_time": "2025-01-04T15:45:52.646Z"
   },
   {
    "duration": 6,
    "start_time": "2025-01-04T15:45:52.652Z"
   },
   {
    "duration": 8,
    "start_time": "2025-01-04T15:45:52.660Z"
   },
   {
    "duration": 14,
    "start_time": "2025-01-04T15:45:52.704Z"
   },
   {
    "duration": 6,
    "start_time": "2025-01-04T15:45:52.720Z"
   },
   {
    "duration": 6,
    "start_time": "2025-01-04T15:45:52.727Z"
   },
   {
    "duration": 16,
    "start_time": "2025-01-04T15:45:52.734Z"
   },
   {
    "duration": 4,
    "start_time": "2025-01-04T15:45:52.752Z"
   },
   {
    "duration": 5,
    "start_time": "2025-01-04T15:45:52.758Z"
   },
   {
    "duration": 5,
    "start_time": "2025-01-04T15:45:52.765Z"
   },
   {
    "duration": 7,
    "start_time": "2025-01-04T15:45:52.805Z"
   },
   {
    "duration": 368,
    "start_time": "2025-01-04T15:45:52.814Z"
   },
   {
    "duration": 388,
    "start_time": "2025-01-04T15:45:53.184Z"
   },
   {
    "duration": 235,
    "start_time": "2025-01-04T15:45:53.574Z"
   },
   {
    "duration": 1311,
    "start_time": "2025-01-04T15:45:53.811Z"
   },
   {
    "duration": 12,
    "start_time": "2025-01-04T15:45:55.124Z"
   },
   {
    "duration": 20,
    "start_time": "2025-01-04T15:45:55.205Z"
   },
   {
    "duration": 13,
    "start_time": "2025-01-04T15:45:55.227Z"
   },
   {
    "duration": 101,
    "start_time": "2025-01-04T15:45:55.241Z"
   },
   {
    "duration": 260,
    "start_time": "2025-01-04T15:45:55.344Z"
   },
   {
    "duration": 1998,
    "start_time": "2025-01-04T15:45:55.606Z"
   },
   {
    "duration": 0,
    "start_time": "2025-01-04T15:53:09.609Z"
   },
   {
    "duration": 0,
    "start_time": "2025-01-04T15:53:09.610Z"
   },
   {
    "duration": 0,
    "start_time": "2025-01-04T15:53:09.611Z"
   },
   {
    "duration": 1769,
    "start_time": "2025-01-04T15:53:12.865Z"
   },
   {
    "duration": 195064,
    "start_time": "2025-01-04T15:53:17.482Z"
   },
   {
    "duration": 1841,
    "start_time": "2025-01-04T15:58:44.099Z"
   },
   {
    "duration": 4,
    "start_time": "2025-01-04T15:58:45.942Z"
   },
   {
    "duration": 6,
    "start_time": "2025-01-04T15:59:07.323Z"
   },
   {
    "duration": 62,
    "start_time": "2025-01-04T16:01:10.757Z"
   },
   {
    "duration": 220,
    "start_time": "2025-01-04T16:04:40.807Z"
   },
   {
    "duration": 229296,
    "start_time": "2025-01-04T16:22:36.518Z"
   },
   {
    "duration": 76,
    "start_time": "2025-01-04T16:26:25.817Z"
   },
   {
    "duration": 102,
    "start_time": "2025-01-04T16:26:37.874Z"
   },
   {
    "duration": 286,
    "start_time": "2025-01-04T16:28:19.923Z"
   },
   {
    "duration": 1871,
    "start_time": "2025-01-04T16:28:40.464Z"
   },
   {
    "duration": 239,
    "start_time": "2025-01-04T16:28:48.679Z"
   },
   {
    "duration": 6,
    "start_time": "2025-01-04T16:28:54.768Z"
   },
   {
    "duration": 310,
    "start_time": "2025-01-04T16:29:37.313Z"
   },
   {
    "duration": 330,
    "start_time": "2025-01-04T16:30:55.679Z"
   },
   {
    "duration": 1081,
    "start_time": "2025-01-04T16:38:09.019Z"
   },
   {
    "duration": 34,
    "start_time": "2025-01-04T16:38:10.104Z"
   },
   {
    "duration": 10,
    "start_time": "2025-01-04T16:38:10.140Z"
   },
   {
    "duration": 9,
    "start_time": "2025-01-04T16:38:10.153Z"
   },
   {
    "duration": 9,
    "start_time": "2025-01-04T16:38:10.163Z"
   },
   {
    "duration": 10,
    "start_time": "2025-01-04T16:38:10.174Z"
   },
   {
    "duration": 8,
    "start_time": "2025-01-04T16:38:10.205Z"
   },
   {
    "duration": 6,
    "start_time": "2025-01-04T16:38:10.215Z"
   },
   {
    "duration": 11,
    "start_time": "2025-01-04T16:38:10.223Z"
   },
   {
    "duration": 13,
    "start_time": "2025-01-04T16:38:10.238Z"
   },
   {
    "duration": 3,
    "start_time": "2025-01-04T16:38:10.253Z"
   },
   {
    "duration": 6,
    "start_time": "2025-01-04T16:38:10.258Z"
   },
   {
    "duration": 46,
    "start_time": "2025-01-04T16:38:10.265Z"
   },
   {
    "duration": 9,
    "start_time": "2025-01-04T16:38:10.312Z"
   },
   {
    "duration": 7,
    "start_time": "2025-01-04T16:38:10.324Z"
   },
   {
    "duration": 5,
    "start_time": "2025-01-04T16:38:10.333Z"
   },
   {
    "duration": 4,
    "start_time": "2025-01-04T16:38:10.339Z"
   },
   {
    "duration": 6,
    "start_time": "2025-01-04T16:38:10.345Z"
   },
   {
    "duration": 14,
    "start_time": "2025-01-04T16:38:10.352Z"
   },
   {
    "duration": 43,
    "start_time": "2025-01-04T16:38:10.368Z"
   },
   {
    "duration": 9,
    "start_time": "2025-01-04T16:38:10.413Z"
   },
   {
    "duration": 4,
    "start_time": "2025-01-04T16:38:10.424Z"
   },
   {
    "duration": 20,
    "start_time": "2025-01-04T16:38:10.431Z"
   },
   {
    "duration": 8,
    "start_time": "2025-01-04T16:38:10.453Z"
   },
   {
    "duration": 42,
    "start_time": "2025-01-04T16:38:10.463Z"
   },
   {
    "duration": 11,
    "start_time": "2025-01-04T16:38:10.507Z"
   },
   {
    "duration": 8,
    "start_time": "2025-01-04T16:38:10.520Z"
   },
   {
    "duration": 6,
    "start_time": "2025-01-04T16:38:10.532Z"
   },
   {
    "duration": 7,
    "start_time": "2025-01-04T16:38:10.539Z"
   },
   {
    "duration": 8,
    "start_time": "2025-01-04T16:38:10.547Z"
   },
   {
    "duration": 49,
    "start_time": "2025-01-04T16:38:10.557Z"
   },
   {
    "duration": 4,
    "start_time": "2025-01-04T16:38:10.609Z"
   },
   {
    "duration": 7,
    "start_time": "2025-01-04T16:38:10.615Z"
   },
   {
    "duration": 19,
    "start_time": "2025-01-04T16:38:10.624Z"
   },
   {
    "duration": 4,
    "start_time": "2025-01-04T16:38:10.646Z"
   },
   {
    "duration": 6,
    "start_time": "2025-01-04T16:38:10.651Z"
   },
   {
    "duration": 7,
    "start_time": "2025-01-04T16:38:10.659Z"
   },
   {
    "duration": 38,
    "start_time": "2025-01-04T16:38:10.667Z"
   },
   {
    "duration": 381,
    "start_time": "2025-01-04T16:38:10.708Z"
   },
   {
    "duration": 372,
    "start_time": "2025-01-04T16:38:11.091Z"
   },
   {
    "duration": 259,
    "start_time": "2025-01-04T16:38:11.465Z"
   },
   {
    "duration": 1308,
    "start_time": "2025-01-04T16:38:11.726Z"
   },
   {
    "duration": 11,
    "start_time": "2025-01-04T16:38:13.036Z"
   },
   {
    "duration": 27,
    "start_time": "2025-01-04T16:38:13.105Z"
   },
   {
    "duration": 77,
    "start_time": "2025-01-04T16:38:13.134Z"
   },
   {
    "duration": 49,
    "start_time": "2025-01-04T16:38:13.213Z"
   },
   {
    "duration": 345,
    "start_time": "2025-01-04T16:38:13.264Z"
   },
   {
    "duration": 1816,
    "start_time": "2025-01-04T16:38:13.611Z"
   },
   {
    "duration": 228531,
    "start_time": "2025-01-04T16:38:15.429Z"
   },
   {
    "duration": 113,
    "start_time": "2025-01-04T16:42:03.961Z"
   },
   {
    "duration": 283602,
    "start_time": "2025-01-04T16:44:43.082Z"
   },
   {
    "duration": 152,
    "start_time": "2025-01-04T16:49:26.686Z"
   },
   {
    "duration": 196623,
    "start_time": "2025-01-04T16:50:06.988Z"
   },
   {
    "duration": 92,
    "start_time": "2025-01-04T16:53:23.613Z"
   },
   {
    "duration": 7,
    "start_time": "2025-01-04T16:55:00.134Z"
   },
   {
    "duration": 8,
    "start_time": "2025-01-04T18:08:23.331Z"
   },
   {
    "duration": 8,
    "start_time": "2025-01-04T18:31:18.893Z"
   },
   {
    "duration": 155,
    "start_time": "2025-01-04T18:32:03.983Z"
   },
   {
    "duration": 13,
    "start_time": "2025-01-04T18:34:11.421Z"
   },
   {
    "duration": 2740,
    "start_time": "2025-01-04T18:34:38.993Z"
   },
   {
    "duration": 68,
    "start_time": "2025-01-04T18:34:41.736Z"
   },
   {
    "duration": 11,
    "start_time": "2025-01-04T18:34:41.805Z"
   },
   {
    "duration": 10,
    "start_time": "2025-01-04T18:34:41.818Z"
   },
   {
    "duration": 9,
    "start_time": "2025-01-04T18:34:41.830Z"
   },
   {
    "duration": 8,
    "start_time": "2025-01-04T18:34:41.841Z"
   },
   {
    "duration": 11,
    "start_time": "2025-01-04T18:34:41.850Z"
   },
   {
    "duration": 7,
    "start_time": "2025-01-04T18:34:41.862Z"
   },
   {
    "duration": 11,
    "start_time": "2025-01-04T18:34:41.870Z"
   },
   {
    "duration": 12,
    "start_time": "2025-01-04T18:34:41.884Z"
   },
   {
    "duration": 4,
    "start_time": "2025-01-04T18:34:41.897Z"
   },
   {
    "duration": 41,
    "start_time": "2025-01-04T18:34:41.902Z"
   },
   {
    "duration": 8,
    "start_time": "2025-01-04T18:34:41.945Z"
   },
   {
    "duration": 8,
    "start_time": "2025-01-04T18:34:41.955Z"
   },
   {
    "duration": 6,
    "start_time": "2025-01-04T18:34:41.964Z"
   },
   {
    "duration": 4,
    "start_time": "2025-01-04T18:34:41.972Z"
   },
   {
    "duration": 4,
    "start_time": "2025-01-04T18:34:41.978Z"
   },
   {
    "duration": 6,
    "start_time": "2025-01-04T18:34:41.983Z"
   },
   {
    "duration": 13,
    "start_time": "2025-01-04T18:34:41.990Z"
   },
   {
    "duration": 8,
    "start_time": "2025-01-04T18:34:42.043Z"
   },
   {
    "duration": 8,
    "start_time": "2025-01-04T18:34:42.053Z"
   },
   {
    "duration": 4,
    "start_time": "2025-01-04T18:34:42.062Z"
   },
   {
    "duration": 21,
    "start_time": "2025-01-04T18:34:42.069Z"
   },
   {
    "duration": 8,
    "start_time": "2025-01-04T18:34:42.091Z"
   },
   {
    "duration": 44,
    "start_time": "2025-01-04T18:34:42.101Z"
   },
   {
    "duration": 10,
    "start_time": "2025-01-04T18:34:42.147Z"
   },
   {
    "duration": 9,
    "start_time": "2025-01-04T18:34:42.158Z"
   },
   {
    "duration": 5,
    "start_time": "2025-01-04T18:34:42.171Z"
   },
   {
    "duration": 6,
    "start_time": "2025-01-04T18:34:42.178Z"
   },
   {
    "duration": 7,
    "start_time": "2025-01-04T18:34:42.185Z"
   },
   {
    "duration": 51,
    "start_time": "2025-01-04T18:34:42.193Z"
   },
   {
    "duration": 3,
    "start_time": "2025-01-04T18:34:42.246Z"
   },
   {
    "duration": 5,
    "start_time": "2025-01-04T18:34:42.251Z"
   },
   {
    "duration": 17,
    "start_time": "2025-01-04T18:34:42.257Z"
   },
   {
    "duration": 4,
    "start_time": "2025-01-04T18:34:42.276Z"
   },
   {
    "duration": 6,
    "start_time": "2025-01-04T18:34:42.282Z"
   },
   {
    "duration": 6,
    "start_time": "2025-01-04T18:34:42.289Z"
   },
   {
    "duration": 6,
    "start_time": "2025-01-04T18:34:42.297Z"
   },
   {
    "duration": 461,
    "start_time": "2025-01-04T18:34:42.305Z"
   },
   {
    "duration": 359,
    "start_time": "2025-01-04T18:34:42.769Z"
   },
   {
    "duration": 232,
    "start_time": "2025-01-04T18:34:43.130Z"
   },
   {
    "duration": 1231,
    "start_time": "2025-01-04T18:34:43.364Z"
   },
   {
    "duration": 50,
    "start_time": "2025-01-04T18:34:44.599Z"
   },
   {
    "duration": 15,
    "start_time": "2025-01-04T18:34:44.652Z"
   },
   {
    "duration": 60,
    "start_time": "2025-01-04T18:34:44.744Z"
   },
   {
    "duration": 259,
    "start_time": "2025-01-04T18:34:44.806Z"
   },
   {
    "duration": 1738,
    "start_time": "2025-01-04T18:34:45.142Z"
   },
   {
    "duration": 195887,
    "start_time": "2025-01-04T18:34:46.882Z"
   },
   {
    "duration": 85,
    "start_time": "2025-01-04T18:38:02.771Z"
   },
   {
    "duration": 85,
    "start_time": "2025-01-04T18:38:02.858Z"
   }
  ],
  "kernelspec": {
   "display_name": "Python 3 (ipykernel)",
   "language": "python",
   "name": "python3"
  },
  "language_info": {
   "codemirror_mode": {
    "name": "ipython",
    "version": 3
   },
   "file_extension": ".py",
   "mimetype": "text/x-python",
   "name": "python",
   "nbconvert_exporter": "python",
   "pygments_lexer": "ipython3",
   "version": "3.10.11"
  },
  "toc": {
   "base_numbering": 1,
   "nav_menu": {},
   "number_sections": true,
   "sideBar": true,
   "skip_h1_title": true,
   "title_cell": "Table of Contents",
   "title_sidebar": "Contents",
   "toc_cell": false,
   "toc_position": {},
   "toc_section_display": true,
   "toc_window_display": false
  }
 },
 "nbformat": 4,
 "nbformat_minor": 4
}
