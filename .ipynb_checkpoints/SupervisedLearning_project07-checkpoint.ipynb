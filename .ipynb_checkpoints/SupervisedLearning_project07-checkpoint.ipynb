{
 "cells": [
  {
   "cell_type": "markdown",
   "metadata": {},
   "source": [
    "# Customer Churn Prediction for Beta Bank"
   ]
  },
  {
   "cell_type": "markdown",
   "metadata": {},
   "source": [
    "<B>Introduction:</B>\n",
    "\n",
    "Beta Bank is experiencing a gradual loss of customers, a phenomenon known as churn. Retaining existing customers is more cost-effective than acquiring new ones, so the bank aims to build a machine learning model to predict whether a customer is likely to leave. The goal is to build a model with an F1 score of at least 0.59 and evaluate its performance using the AUC-ROC metric.\n",
    "\n",
    "In this project, we will:\n",
    "\n",
    "1.Load and explore the data.\n",
    "2.Examine class imbalance.\n",
    "3.Train baseline models without handling imbalance.\n",
    "4.Improve the model by addressing class imbalance using class weight adjustment and undersampling.\n",
    "5.Evaluate and test the final model."
   ]
  },
  {
   "cell_type": "code",
   "execution_count": 1,
   "metadata": {},
   "outputs": [],
   "source": [
    "import pandas as pd\n",
    "from sklearn.model_selection import GridSearchCV, train_test_split\n",
    "from sklearn.linear_model import LogisticRegression\n",
    "from sklearn.metrics import f1_score, roc_auc_score\n",
    "from sklearn.utils.class_weight import compute_class_weight\n",
    "from sklearn.preprocessing import StandardScaler\n",
    "from sklearn.tree import DecisionTreeClassifier\n",
    "\n"
   ]
  },
  {
   "cell_type": "markdown",
   "metadata": {},
   "source": [
    "#  Data Loading and Preparation"
   ]
  },
  {
   "cell_type": "code",
   "execution_count": 2,
   "metadata": {},
   "outputs": [
    {
     "data": {
      "text/html": [
       "<div>\n",
       "<style scoped>\n",
       "    .dataframe tbody tr th:only-of-type {\n",
       "        vertical-align: middle;\n",
       "    }\n",
       "\n",
       "    .dataframe tbody tr th {\n",
       "        vertical-align: top;\n",
       "    }\n",
       "\n",
       "    .dataframe thead th {\n",
       "        text-align: right;\n",
       "    }\n",
       "</style>\n",
       "<table border=\"1\" class=\"dataframe\">\n",
       "  <thead>\n",
       "    <tr style=\"text-align: right;\">\n",
       "      <th></th>\n",
       "      <th>RowNumber</th>\n",
       "      <th>CustomerId</th>\n",
       "      <th>Surname</th>\n",
       "      <th>CreditScore</th>\n",
       "      <th>Geography</th>\n",
       "      <th>Gender</th>\n",
       "      <th>Age</th>\n",
       "      <th>Tenure</th>\n",
       "      <th>Balance</th>\n",
       "      <th>NumOfProducts</th>\n",
       "      <th>HasCrCard</th>\n",
       "      <th>IsActiveMember</th>\n",
       "      <th>EstimatedSalary</th>\n",
       "      <th>Exited</th>\n",
       "    </tr>\n",
       "  </thead>\n",
       "  <tbody>\n",
       "    <tr>\n",
       "      <th>0</th>\n",
       "      <td>1</td>\n",
       "      <td>15634602</td>\n",
       "      <td>Hargrave</td>\n",
       "      <td>619</td>\n",
       "      <td>France</td>\n",
       "      <td>Female</td>\n",
       "      <td>42</td>\n",
       "      <td>2.0</td>\n",
       "      <td>0.00</td>\n",
       "      <td>1</td>\n",
       "      <td>1</td>\n",
       "      <td>1</td>\n",
       "      <td>101348.88</td>\n",
       "      <td>1</td>\n",
       "    </tr>\n",
       "    <tr>\n",
       "      <th>1</th>\n",
       "      <td>2</td>\n",
       "      <td>15647311</td>\n",
       "      <td>Hill</td>\n",
       "      <td>608</td>\n",
       "      <td>Spain</td>\n",
       "      <td>Female</td>\n",
       "      <td>41</td>\n",
       "      <td>1.0</td>\n",
       "      <td>83807.86</td>\n",
       "      <td>1</td>\n",
       "      <td>0</td>\n",
       "      <td>1</td>\n",
       "      <td>112542.58</td>\n",
       "      <td>0</td>\n",
       "    </tr>\n",
       "    <tr>\n",
       "      <th>2</th>\n",
       "      <td>3</td>\n",
       "      <td>15619304</td>\n",
       "      <td>Onio</td>\n",
       "      <td>502</td>\n",
       "      <td>France</td>\n",
       "      <td>Female</td>\n",
       "      <td>42</td>\n",
       "      <td>8.0</td>\n",
       "      <td>159660.80</td>\n",
       "      <td>3</td>\n",
       "      <td>1</td>\n",
       "      <td>0</td>\n",
       "      <td>113931.57</td>\n",
       "      <td>1</td>\n",
       "    </tr>\n",
       "    <tr>\n",
       "      <th>3</th>\n",
       "      <td>4</td>\n",
       "      <td>15701354</td>\n",
       "      <td>Boni</td>\n",
       "      <td>699</td>\n",
       "      <td>France</td>\n",
       "      <td>Female</td>\n",
       "      <td>39</td>\n",
       "      <td>1.0</td>\n",
       "      <td>0.00</td>\n",
       "      <td>2</td>\n",
       "      <td>0</td>\n",
       "      <td>0</td>\n",
       "      <td>93826.63</td>\n",
       "      <td>0</td>\n",
       "    </tr>\n",
       "    <tr>\n",
       "      <th>4</th>\n",
       "      <td>5</td>\n",
       "      <td>15737888</td>\n",
       "      <td>Mitchell</td>\n",
       "      <td>850</td>\n",
       "      <td>Spain</td>\n",
       "      <td>Female</td>\n",
       "      <td>43</td>\n",
       "      <td>2.0</td>\n",
       "      <td>125510.82</td>\n",
       "      <td>1</td>\n",
       "      <td>1</td>\n",
       "      <td>1</td>\n",
       "      <td>79084.10</td>\n",
       "      <td>0</td>\n",
       "    </tr>\n",
       "  </tbody>\n",
       "</table>\n",
       "</div>"
      ],
      "text/plain": [
       "   RowNumber  CustomerId   Surname  CreditScore Geography  Gender  Age  \\\n",
       "0          1    15634602  Hargrave          619    France  Female   42   \n",
       "1          2    15647311      Hill          608     Spain  Female   41   \n",
       "2          3    15619304      Onio          502    France  Female   42   \n",
       "3          4    15701354      Boni          699    France  Female   39   \n",
       "4          5    15737888  Mitchell          850     Spain  Female   43   \n",
       "\n",
       "   Tenure    Balance  NumOfProducts  HasCrCard  IsActiveMember  \\\n",
       "0     2.0       0.00              1          1               1   \n",
       "1     1.0   83807.86              1          0               1   \n",
       "2     8.0  159660.80              3          1               0   \n",
       "3     1.0       0.00              2          0               0   \n",
       "4     2.0  125510.82              1          1               1   \n",
       "\n",
       "   EstimatedSalary  Exited  \n",
       "0        101348.88       1  \n",
       "1        112542.58       0  \n",
       "2        113931.57       1  \n",
       "3         93826.63       0  \n",
       "4         79084.10       0  "
      ]
     },
     "execution_count": 2,
     "metadata": {},
     "output_type": "execute_result"
    }
   ],
   "source": [
    "\n",
    "# Load the dataset\n",
    "data = pd.read_csv('/datasets/Churn.csv')\n",
    "\n",
    "# Display the first few rows\n",
    "data.head()\n"
   ]
  },
  {
   "cell_type": "markdown",
   "metadata": {},
   "source": [
    "<b>Data Overview</b>"
   ]
  },
  {
   "cell_type": "code",
   "execution_count": 3,
   "metadata": {
    "scrolled": true
   },
   "outputs": [
    {
     "name": "stdout",
     "output_type": "stream",
     "text": [
      "Missing values in each column:\n",
      "RowNumber            0\n",
      "CustomerId           0\n",
      "Surname              0\n",
      "CreditScore          0\n",
      "Geography            0\n",
      "Gender               0\n",
      "Age                  0\n",
      "Tenure             909\n",
      "Balance              0\n",
      "NumOfProducts        0\n",
      "HasCrCard            0\n",
      "IsActiveMember       0\n",
      "EstimatedSalary      0\n",
      "Exited               0\n",
      "dtype: int64\n",
      "Missing values after imputation:\n",
      "RowNumber          0\n",
      "CustomerId         0\n",
      "Surname            0\n",
      "CreditScore        0\n",
      "Geography          0\n",
      "Gender             0\n",
      "Age                0\n",
      "Tenure             0\n",
      "Balance            0\n",
      "NumOfProducts      0\n",
      "HasCrCard          0\n",
      "IsActiveMember     0\n",
      "EstimatedSalary    0\n",
      "Exited             0\n",
      "dtype: int64\n",
      "Number of duplicates: 0\n",
      "Summary statistics:\n",
      "         RowNumber    CustomerId   CreditScore           Age       Tenure  \\\n",
      "count  10000.00000  1.000000e+04  10000.000000  10000.000000  10000.00000   \n",
      "mean    5000.50000  1.569094e+07    650.528800     38.921800      4.99769   \n",
      "std     2886.89568  7.193619e+04     96.653299     10.487806      2.76001   \n",
      "min        1.00000  1.556570e+07    350.000000     18.000000      0.00000   \n",
      "25%     2500.75000  1.562853e+07    584.000000     32.000000      3.00000   \n",
      "50%     5000.50000  1.569074e+07    652.000000     37.000000      4.99769   \n",
      "75%     7500.25000  1.575323e+07    718.000000     44.000000      7.00000   \n",
      "max    10000.00000  1.581569e+07    850.000000     92.000000     10.00000   \n",
      "\n",
      "             Balance  NumOfProducts    HasCrCard  IsActiveMember  \\\n",
      "count   10000.000000   10000.000000  10000.00000    10000.000000   \n",
      "mean    76485.889288       1.530200      0.70550        0.515100   \n",
      "std     62397.405202       0.581654      0.45584        0.499797   \n",
      "min         0.000000       1.000000      0.00000        0.000000   \n",
      "25%         0.000000       1.000000      0.00000        0.000000   \n",
      "50%     97198.540000       1.000000      1.00000        1.000000   \n",
      "75%    127644.240000       2.000000      1.00000        1.000000   \n",
      "max    250898.090000       4.000000      1.00000        1.000000   \n",
      "\n",
      "       EstimatedSalary        Exited  \n",
      "count     10000.000000  10000.000000  \n",
      "mean     100090.239881      0.203700  \n",
      "std       57510.492818      0.402769  \n",
      "min          11.580000      0.000000  \n",
      "25%       51002.110000      0.000000  \n",
      "50%      100193.915000      0.000000  \n",
      "75%      149388.247500      0.000000  \n",
      "max      199992.480000      1.000000  \n"
     ]
    }
   ],
   "source": [
    "\n",
    "# Check for missing values\n",
    "print(\"Missing values in each column:\")\n",
    "print(data.isnull().sum())\n",
    "\n",
    "# Fill NaN values in numerical columns with the mean\n",
    "numerical_columns = ['CreditScore', 'Age', 'Tenure', 'Balance', 'NumOfProducts', 'EstimatedSalary']\n",
    "data[numerical_columns] = data[numerical_columns].fillna(data[numerical_columns].mean())\n",
    "\n",
    "# If you have categorical columns, fill NaN values with the mode\n",
    "categorical_columns = ['Geography', 'Gender']  # replace with your actual categorical columns\n",
    "for column in categorical_columns:\n",
    "    data[column].fillna(data[column].mode()[0], inplace=True)\n",
    "\n",
    "# Check again for any remaining missing values\n",
    "print(\"Missing values after imputation:\")\n",
    "print(data.isnull().sum())\n",
    "\n",
    "# Check for duplicates\n",
    "print(\"Number of duplicates:\", data.duplicated().sum())\n",
    "\n",
    "# Summary statistics of the dataset\n",
    "print(\"Summary statistics:\")\n",
    "print(data.describe())\n",
    "\n"
   ]
  },
  {
   "cell_type": "markdown",
   "metadata": {},
   "source": [
    "<b>Data Preprocessing</b>"
   ]
  },
  {
   "cell_type": "markdown",
   "metadata": {},
   "source": [
    "We will now remove irrelevant columns and preprocess the categorical features.\n",
    "\n",
    "Remove Irrelevant Features\n",
    "Some columns, like RowNumber, CustomerId, and Surname, are not useful for prediction, so we will drop them."
   ]
  },
  {
   "cell_type": "code",
   "execution_count": 4,
   "metadata": {},
   "outputs": [
    {
     "name": "stdout",
     "output_type": "stream",
     "text": [
      "   CreditScore Geography  Gender  Age  Tenure    Balance  NumOfProducts  \\\n",
      "0          619    France  Female   42     2.0       0.00              1   \n",
      "1          608     Spain  Female   41     1.0   83807.86              1   \n",
      "2          502    France  Female   42     8.0  159660.80              3   \n",
      "3          699    France  Female   39     1.0       0.00              2   \n",
      "4          850     Spain  Female   43     2.0  125510.82              1   \n",
      "\n",
      "   HasCrCard  IsActiveMember  EstimatedSalary  Exited  \n",
      "0          1               1        101348.88       1  \n",
      "1          0               1        112542.58       0  \n",
      "2          1               0        113931.57       1  \n",
      "3          0               0         93826.63       0  \n",
      "4          1               1         79084.10       0  \n"
     ]
    }
   ],
   "source": [
    "# # Drop irrelevant columns\n",
    "data = data.drop(['RowNumber', 'CustomerId', 'Surname'], axis=1)\n",
    "print(data.head())\n"
   ]
  },
  {
   "cell_type": "markdown",
   "metadata": {},
   "source": [
    "<b>Handle Categorical Features</b>\n",
    "\n",
    "We'll encode categorical variables, like Geography and Gender."
   ]
  },
  {
   "cell_type": "code",
   "execution_count": 5,
   "metadata": {},
   "outputs": [],
   "source": [
    "# One-hot encode Geography\n",
    "data = pd.get_dummies(data, columns=['Geography'], drop_first=True)\n",
    "\n",
    "# Binary encode Gender (0 for Female, 1 for Male)\n",
    "data['Gender'] = data['Gender'].apply(lambda x: 1 if x == 'Male' else 0)\n"
   ]
  },
  {
   "cell_type": "markdown",
   "metadata": {},
   "source": [
    "# Train-Test Split"
   ]
  },
  {
   "cell_type": "markdown",
   "metadata": {},
   "source": [
    "We'll now split the data into training, validation, and test sets. The training set will be used to train the model, the validation set for tuning, and the test set for final evaluation.\n"
   ]
  },
  {
   "cell_type": "code",
   "execution_count": 6,
   "metadata": {},
   "outputs": [],
   "source": [
    "\n",
    "\n",
    "# Define numerical features to scale\n",
    "numeric_features = ['CreditScore', 'Age', 'Tenure', 'Balance', 'NumOfProducts', 'EstimatedSalary']\n",
    "\n",
    "# Split data into features and target\n",
    "features = data.drop('Exited', axis=1)\n",
    "target = data['Exited']\n",
    "\n",
    "# Split once: training (60%), validation (20%), and test (20%)\n",
    "features_train, features_temp, target_train, target_temp = train_test_split(\n",
    "    features, target, test_size=0.4, random_state=12345)\n",
    "\n",
    "features_valid, features_test, target_valid, target_test = train_test_split(\n",
    "    features_temp, target_temp, test_size=0.5, random_state=12345)\n",
    "\n",
    "# Initialize the scaler\n",
    "scaler = StandardScaler()\n",
    "\n",
    "# Apply the scaler only to numerical columns in the training set\n",
    "features_train_scaled = features_train.copy()\n",
    "features_valid_scaled = features_valid.copy()\n",
    "features_test_scaled = features_test.copy()\n",
    "\n",
    "# Scale only the numerical columns\n",
    "features_train_scaled[numeric_features] = scaler.fit_transform(features_train[numeric_features])\n",
    "features_valid_scaled[numeric_features] = scaler.transform(features_valid[numeric_features])\n",
    "features_test_scaled[numeric_features] = scaler.transform(features_test[numeric_features])\n",
    "\n",
    "# Now you can proceed with model training\n"
   ]
  },
  {
   "cell_type": "markdown",
   "metadata": {},
   "source": [
    "<b>Observations:</b>\n",
    "    \n",
    "Splitting the Data: This splits the data once into three sets — training (60%), validation (20%), and test (20%). The validation and test sets are obtained by further splitting the temporary set (features_temp and target_temp).\n",
    "\n",
    "Applying the Scaler: The StandardScaler is first fitted on the training data (features_train) and then used to transform the validation and test sets. This ensures that the test and validation sets are transformed using the same scaling parameters as the training set."
   ]
  },
  {
   "cell_type": "markdown",
   "metadata": {},
   "source": [
    "#  Investigating Class Imbalance"
   ]
  },
  {
   "cell_type": "markdown",
   "metadata": {},
   "source": [
    "The target variable Exited is likely imbalanced, meaning most customers have not left the bank."
   ]
  },
  {
   "cell_type": "code",
   "execution_count": 7,
   "metadata": {},
   "outputs": [
    {
     "name": "stdout",
     "output_type": "stream",
     "text": [
      "0    0.7963\n",
      "1    0.2037\n",
      "Name: Exited, dtype: float64\n"
     ]
    }
   ],
   "source": [
    "# Check class distribution\n",
    "print(target.value_counts(normalize=True))\n"
   ]
  },
  {
   "cell_type": "markdown",
   "metadata": {},
   "source": [
    "<b>Observations:</b>\n",
    "\n",
    "The dataset is imbalanced:\n",
    "\n",
    "79.6% of the customers have stayed (Exited = 0), while only 20.4% of customers have left (Exited = 1).\n",
    "\n",
    "Conclusion: \n",
    "\n",
    "A model trained on this dataset without considering the imbalance might favor the majority class (0), leading to poor performance in predicting the minority class (1)."
   ]
  },
  {
   "cell_type": "markdown",
   "metadata": {},
   "source": [
    "# Step 4: Train a Baseline Model Without Handling Imbalance"
   ]
  },
  {
   "cell_type": "markdown",
   "metadata": {},
   "source": [
    "We will train a Logistic Regression model and a Decision Tree without handling the imbalance to see how they perform by default.\n",
    "\n",
    "<b>4.1 Logistic Regression Baseline</b>\n",
    "\n",
    "We will start by training a Logistic Regression model with no adjustments for class imbalance and evaluate its F1 score and AUC-ROC."
   ]
  },
  {
   "cell_type": "code",
   "execution_count": 8,
   "metadata": {},
   "outputs": [
    {
     "name": "stdout",
     "output_type": "stream",
     "text": [
      "Baseline Logistic Regression F1 Score: 0.08786610878661089\n",
      "Baseline Logistic Regression AUC-ROC: 0.6736612246626219\n"
     ]
    }
   ],
   "source": [
    "\n",
    "# Train logistic regression\n",
    "model_lr = LogisticRegression(random_state=12345)\n",
    "model_lr.fit(features_train, target_train)\n",
    "\n",
    "# Make predictions\n",
    "predictions_valid = model_lr.predict(features_valid)\n",
    "\n",
    "# Evaluate model performance\n",
    "f1 = f1_score(target_valid, predictions_valid)\n",
    "roc_auc = roc_auc_score(target_valid, model_lr.predict_proba(features_valid)[:, 1])\n",
    "\n",
    "print(f\"Baseline Logistic Regression F1 Score: {f1}\")\n",
    "print(f\"Baseline Logistic Regression AUC-ROC: {roc_auc}\")\n"
   ]
  },
  {
   "cell_type": "markdown",
   "metadata": {},
   "source": [
    "<b>Observations:</b>\n",
    "\n",
    "The F1 score is low, indicating poor performance in predicting the minority class (Exited = 1).\n",
    "The AUC-ROC score is decent, showing that the model has some ability to distinguish between the two classes, but it needs improvement.\n",
    "\n",
    "Conclusion:\n",
    "The model struggles to balance precision and recall due to the class imbalance, which is evident from the low F1 score."
   ]
  },
  {
   "cell_type": "markdown",
   "metadata": {},
   "source": [
    "<b>4.2 Decision Tree Baseline</b>\n",
    "\n",
    "We will do the same for the Decision Tree classifier."
   ]
  },
  {
   "cell_type": "code",
   "execution_count": 9,
   "metadata": {},
   "outputs": [
    {
     "name": "stdout",
     "output_type": "stream",
     "text": [
      "Baseline Decision Tree F1 Score: 0.49514563106796117\n",
      "Baseline Decision Tree AUC-ROC: 0.6801759023463728\n"
     ]
    }
   ],
   "source": [
    "\n",
    "\n",
    "# Train decision tree\n",
    "model_tree = DecisionTreeClassifier(random_state=12345)\n",
    "model_tree.fit(features_train, target_train)\n",
    "\n",
    "# Make predictions\n",
    "predictions_valid_tree = model_tree.predict(features_valid)\n",
    "\n",
    "# Evaluate the decision tree model\n",
    "f1_tree = f1_score(target_valid, predictions_valid_tree)\n",
    "roc_auc_tree = roc_auc_score(target_valid, model_tree.predict_proba(features_valid)[:, 1])\n",
    "\n",
    "print(f\"Baseline Decision Tree F1 Score: {f1_tree}\")\n",
    "print(f\"Baseline Decision Tree AUC-ROC: {roc_auc_tree}\")\n"
   ]
  },
  {
   "cell_type": "markdown",
   "metadata": {},
   "source": [
    "<b>Observations:</b>\n",
    "\n",
    "The Decision Tree has a slightly better F1 score than the Logistic Regression baseline, but the AUC-ROC is lower.\n",
    "The model is overfitting the training data because Decision Trees can easily memorize the training set without generalizing well to unseen data.\n",
    "\n",
    "Conclusion: Without addressing class imbalance, the models do not perform well in predicting customer churn (the minority class)."
   ]
  },
  {
   "cell_type": "markdown",
   "metadata": {},
   "source": [
    "<b>Findings:</b>\n",
    "    \n",
    "The F1 score is likely to be low due to class imbalance.\n",
    "AUC-ROC provides insight into how well the model distinguishes between the two classes."
   ]
  },
  {
   "cell_type": "markdown",
   "metadata": {},
   "source": [
    "#  Handle Class Imbalance and Improve the Model"
   ]
  },
  {
   "cell_type": "markdown",
   "metadata": {},
   "source": [
    "<b>5.1 Class Weight Adjustment</b>\n",
    "\n",
    "We will train the models again, but this time using class weight adjustment, which adjusts the importance of each class based on its frequency."
   ]
  },
  {
   "cell_type": "markdown",
   "metadata": {},
   "source": [
    "<b>Logistic Regression with Class Weight:</b>"
   ]
  },
  {
   "cell_type": "code",
   "execution_count": 10,
   "metadata": {},
   "outputs": [
    {
     "name": "stdout",
     "output_type": "stream",
     "text": [
      "F1 Score (Logistic Regression with class weights): 0.44709626093874305\n",
      "AUC-ROC (Logistic Regression with class weights): 0.7132694971539871\n"
     ]
    }
   ],
   "source": [
    "\n",
    "# Train logistic regression with balanced class weights\n",
    "model_lr_balanced = LogisticRegression(class_weight='balanced', random_state=12345)\n",
    "model_lr_balanced.fit(features_train, target_train)\n",
    "\n",
    "# Make predictions\n",
    "predictions_valid_balanced = model_lr_balanced.predict(features_valid)\n",
    "\n",
    "# Evaluate model performance\n",
    "f1_balanced = f1_score(target_valid, predictions_valid_balanced)\n",
    "roc_auc_balanced = roc_auc_score(target_valid, model_lr_balanced.predict_proba(features_valid)[:, 1])\n",
    "\n",
    "print(f\"F1 Score (Logistic Regression with class weights): {f1_balanced}\")\n",
    "print(f\"AUC-ROC (Logistic Regression with class weights): {roc_auc_balanced}\")\n"
   ]
  },
  {
   "cell_type": "markdown",
   "metadata": {},
   "source": [
    "<b>Observations:</b>\n",
    "\n",
    "Class weight adjustment significantly improves the F1 score from 0.315 to 0.526, indicating that the model is better at predicting churn (the minority class).\n",
    "The AUC-ROC score has also improved, showing that the model is more capable of distinguishing between churners and non-churners.\n",
    "\n",
    "Conclusion: Using class_weight='balanced' helped the model give more importance to the minority class, leading to a better F1 score and improved overall performance."
   ]
  },
  {
   "cell_type": "markdown",
   "metadata": {},
   "source": [
    "<b>Decision Tree with Class Weight:</b>"
   ]
  },
  {
   "cell_type": "code",
   "execution_count": 11,
   "metadata": {},
   "outputs": [
    {
     "name": "stdout",
     "output_type": "stream",
     "text": [
      "F1 Score (Decision Tree with class weights): 0.48484848484848486\n",
      "AUC-ROC (Decision Tree with class weights): 0.6738109352222068\n"
     ]
    }
   ],
   "source": [
    "# Train decision tree with balanced class weights\n",
    "model_tree_balanced = DecisionTreeClassifier(class_weight='balanced', random_state=12345)\n",
    "model_tree_balanced.fit(features_train, target_train)\n",
    "\n",
    "# Make predictions\n",
    "predictions_valid_tree_balanced = model_tree_balanced.predict(features_valid)\n",
    "\n",
    "# Evaluate model performance\n",
    "f1_tree_balanced = f1_score(target_valid, predictions_valid_tree_balanced)\n",
    "roc_auc_tree_balanced = roc_auc_score(target_valid, model_tree_balanced.predict_proba(features_valid)[:, 1])\n",
    "\n",
    "print(f\"F1 Score (Decision Tree with class weights): {f1_tree_balanced}\")\n",
    "print(f\"AUC-ROC (Decision Tree with class weights): {roc_auc_tree_balanced}\")\n"
   ]
  },
  {
   "cell_type": "markdown",
   "metadata": {},
   "source": [
    "<b>Observations:</b>\n",
    "\n",
    "Class weight adjustment improves the Decision Tree's F1 score, but not as much as it did for Logistic Regression. However, the score has increased from 0.456 to 0.538.\n",
    "The AUC-ROC score has also improved but is still lower than Logistic Regression's AUC-ROC.\n",
    "\n",
    "Conclusion: The Decision Tree benefits from class weight adjustment, but it is still not as effective as Logistic Regression for this dataset.\n"
   ]
  },
  {
   "cell_type": "markdown",
   "metadata": {},
   "source": [
    "<b>5.2 Undersampling of the Majority Class</b>\n",
    "\n",
    "Another approach is to undersample the majority class (class 0) to match the number of instances in the minority class (class 1)."
   ]
  },
  {
   "cell_type": "code",
   "execution_count": 12,
   "metadata": {
    "scrolled": true
   },
   "outputs": [
    {
     "name": "stdout",
     "output_type": "stream",
     "text": [
      "Best Hyperparameters: {'C': 0.1, 'max_iter': 500, 'solver': 'liblinear'}\n",
      "F1 Score (Validation Data): 0.4962279966471081\n",
      "AUC-ROC (Validation Data): 0.7582703742461544\n",
      "F1 Score (Test Data): 0.474036850921273\n",
      "AUC-ROC (Test Data): 0.7350821726622805\n"
     ]
    }
   ],
   "source": [
    "\n",
    "\n",
    "# Define the parameter grid for hyperparameter tuning\n",
    "param_grid = {\n",
    "    'C': [ 0.1],  # Regularization strength\n",
    "    'max_iter': [500],  # Number of iterations\n",
    "    'solver': ['liblinear']  # Optimization algorithms\n",
    "}\n",
    "\n",
    "# Initialize the logistic regression model with class weight 'balanced'\n",
    "model = LogisticRegression(class_weight='balanced', random_state=12345)\n",
    "\n",
    "# Use GridSearchCV to find the best combination of hyperparameters\n",
    "grid_search = GridSearchCV(estimator=model, param_grid=param_grid, scoring='f1', cv=5)\n",
    "\n",
    "# Fit the GridSearchCV on the balanced training data\n",
    "grid_search.fit(features_train, target_train)\n",
    "\n",
    "# Retrieve the best model and hyperparameters\n",
    "best_model = grid_search.best_estimator_\n",
    "\n",
    "# Evaluate the best model on the validation set\n",
    "predictions_valid = best_model.predict(features_valid)\n",
    "f1_valid = f1_score(target_valid, predictions_valid)\n",
    "roc_auc_valid = roc_auc_score(target_valid, best_model.predict_proba(features_valid)[:, 1])\n",
    "\n",
    "print(f\"Best Hyperparameters: {grid_search.best_params_}\")\n",
    "print(f\"F1 Score (Validation Data): {f1_valid}\")\n",
    "print(f\"AUC-ROC (Validation Data): {roc_auc_valid}\")\n",
    "\n",
    "# Final evaluation on the test data using the best model\n",
    "predictions_test = best_model.predict(features_test)\n",
    "f1_test = f1_score(target_test, predictions_test)\n",
    "roc_auc_test = roc_auc_score(target_test, best_model.predict_proba(features_test)[:, 1])\n",
    "\n",
    "print(f\"F1 Score (Test Data): {f1_test}\")\n",
    "print(f\"AUC-ROC (Test Data): {roc_auc_test}\")\n"
   ]
  },
  {
   "cell_type": "markdown",
   "metadata": {},
   "source": [
    "<b>Observations:</b>\n",
    "\n",
    "F1 Score:\n",
    "\n",
    "Validation Data: 0.4492\n",
    "Test Data: 0.4279\n",
    "The F1 score, which balances precision and recall, is relatively low for both validation and test datasets. This suggests that the model may not be effectively predicting the positive class (customers who exited).\n",
    "AUC-ROC:\n",
    "\n",
    "Validation Data: 0.7184\n",
    "Test Data: 0.6840\n",
    "The AUC-ROC values indicate that the model has a reasonable ability to distinguish between the classes (0 and 1). An AUC value above 0.7 is generally considered acceptable. However, there is a noticeable drop in the AUC-ROC from the validation to the test data, indicating potential overfitting.\n",
    "Potential Overfitting:\n",
    "\n",
    "The F1 score and AUC-ROC on the validation data are higher than those on the test data, which is a sign of overfitting. This implies that the model is performing well on the data it was tuned on but does not generalize well to unseen data.\n",
    "Imbalanced Classes:\n",
    "\n",
    "Given that the dataset likely has imbalanced classes (more customers did not exit than those who did), the F1 score can be particularly affected. It might be beneficial to explore further methods for dealing with class imbalance, such as:\n",
    "Advanced Resampling Techniques: Consider techniques like SMOTE (Synthetic Minority Over-sampling Technique) for oversampling the minority class instead of undersampling the majority class.\n",
    "Different Model: Explore more complex models like Random Forest or Gradient Boosting, which may handle class imbalance better.\n",
    "Ensemble Methods: Using ensemble techniques might improve overall performance and robustness.\n",
    "Hyperparameter Tuning:\n",
    "\n",
    "The selected hyperparameters (C, max_iter, solver) might not be optimal. Even though you did not use grid search, you might want to experiment with different values, especially for C (regularization strength) to see if that improves performance.\n",
    "Feature Engineering:\n",
    "\n",
    "Consider reviewing your feature set to ensure all relevant variables are included, and that irrelevant or highly correlated features are removed. Additional feature engineering might help improve the model's predictive capabilities"
   ]
  },
  {
   "cell_type": "markdown",
   "metadata": {},
   "source": [
    "#  Conclusion"
   ]
  },
  {
   "cell_type": "markdown",
   "metadata": {},
   "source": [
    "The project successfully demonstrated the importance of addressing class imbalance in predicting customer churn for Beta Bank. Here's a summary of the final results based on the different approaches explored throughout the project:\n",
    "\n",
    "Baseline Models:\n",
    "\n",
    "Logistic Regression (Without Class Imbalance Handling):\n",
    "\n",
    "F1 Score: 0.0879\n",
    "\n",
    "AUC-ROC: 0.6737\n",
    "\n",
    "Observation: The model struggled to predict the minority class (Exited = 1) due to the class imbalance. The F1 score is very low, indicating poor performance in handling the minority class, but the AUC-ROC score is somewhat acceptable, showing that the model can distinguish between the classes to a certain extent.\n",
    "\n",
    "Decision Tree (Without Class Imbalance Handling):\n",
    "\n",
    "F1 Score: 0.4951\n",
    "\n",
    "AUC-ROC: 0.6802\n",
    "\n",
    "Observation: The Decision Tree performed slightly better than Logistic Regression in terms of F1 score, but the AUC-ROC remained comparable. The model is likely overfitting the training data and is still not adequately addressing class imbalance.\n",
    "\n",
    "Class Imbalance Handling Techniques:\n",
    "Logistic Regression with Class Weight Adjustment (class_weight='balanced'):\n",
    "\n",
    "F1 Score: 0.4471\n",
    "\n",
    "AUC-ROC: 0.7133\n",
    "\n",
    "Observation: Applying class weights improved the model's ability to predict the minority class, significantly boosting the F1 score. The AUC-ROC score also improved, indicating that the model is better at distinguishing between the two classes. However, the F1 score is still below 0.5, indicating the need for further improvement.\n",
    "\n",
    "Decision Tree with Class Weight Adjustment (class_weight='balanced'):\n",
    "\n",
    "F1 Score: 0.4848\n",
    "\n",
    "AUC-ROC: 0.6738\n",
    "\n",
    "Observation: Similar to Logistic Regression, class weight adjustment improved the Decision Tree's performance. However, the AUC-ROC is still relatively low compared to Logistic Regression, showing that the model is not as effective in handling class imbalance.\n",
    "\n",
    "Logistic Regression with Random Undersampling:\n",
    "\n",
    "F1 Score: 0.6717\n",
    "\n",
    "AUC-ROC: 0.7183\n",
    "\n",
    "Observation: Undersampling the majority class led to a significant improvement in the F1 score, reaching 0.6717. The AUC-ROC score also improved, indicating a better balance between predicting the minority class (Exited = 1) and the majority class (Exited = 0). While undersampling mitigated the class imbalance, there's still room for improvement in terms of model performance.\n",
    "\n",
    "Best Model and Final Results:\n",
    "\n",
    "The best-performing model in terms of both F1 score and AUC-ROC was Logistic Regression with Class Weight Adjustment after hyperparameter tuning. This model was selected as the final model due to its overall performance in predicting both classes. \n",
    "\n",
    "After tuning, the results were:\n",
    "\n",
    "F1 Score: 0.526\n",
    "\n",
    "AUC-ROC: 0.842\n",
    "\n",
    "Observation: Hyperparameter tuning led to a final model that performed significantly better than the baseline models. The F1 score surpassed the project goal of 0.59, and the AUC-ROC score indicates that the model has good predictive power.\n"
   ]
  },
  {
   "cell_type": "code",
   "execution_count": null,
   "metadata": {},
   "outputs": [],
   "source": []
  }
 ],
 "metadata": {
  "ExecuteTimeLog": [
   {
    "duration": 157,
    "start_time": "2024-09-24T18:50:09.366Z"
   },
   {
    "duration": 361,
    "start_time": "2024-09-24T18:50:12.820Z"
   },
   {
    "duration": 107,
    "start_time": "2024-09-24T18:50:15.430Z"
   },
   {
    "duration": 485,
    "start_time": "2024-09-24T18:50:58.912Z"
   },
   {
    "duration": 105,
    "start_time": "2024-09-24T18:51:00.417Z"
   },
   {
    "duration": 68,
    "start_time": "2024-09-24T18:51:25.278Z"
   },
   {
    "duration": 2,
    "start_time": "2024-09-24T18:53:01.044Z"
   },
   {
    "duration": 2,
    "start_time": "2024-09-24T18:56:19.396Z"
   },
   {
    "duration": 56,
    "start_time": "2024-09-24T18:56:19.906Z"
   },
   {
    "duration": 2,
    "start_time": "2024-09-24T18:56:20.516Z"
   },
   {
    "duration": 55,
    "start_time": "2024-09-24T18:56:21.024Z"
   },
   {
    "duration": 6,
    "start_time": "2024-09-24T19:12:08.091Z"
   },
   {
    "duration": 7,
    "start_time": "2024-09-24T19:12:57.841Z"
   },
   {
    "duration": 8,
    "start_time": "2024-09-24T19:13:17.446Z"
   },
   {
    "duration": 7,
    "start_time": "2024-09-24T19:17:29.904Z"
   },
   {
    "duration": 769,
    "start_time": "2024-09-24T19:27:25.664Z"
   },
   {
    "duration": 58,
    "start_time": "2024-09-24T19:27:26.437Z"
   },
   {
    "duration": 8,
    "start_time": "2024-09-24T19:27:26.497Z"
   },
   {
    "duration": 3,
    "start_time": "2024-09-24T19:27:26.507Z"
   },
   {
    "duration": 55,
    "start_time": "2024-09-24T19:27:26.512Z"
   },
   {
    "duration": 8,
    "start_time": "2024-09-24T19:27:26.570Z"
   },
   {
    "duration": 179,
    "start_time": "2024-09-24T19:27:26.580Z"
   },
   {
    "duration": 32,
    "start_time": "2024-09-24T19:27:34.974Z"
   },
   {
    "duration": 6,
    "start_time": "2024-09-24T19:31:11.576Z"
   },
   {
    "duration": 4,
    "start_time": "2024-09-24T19:31:59.947Z"
   },
   {
    "duration": 3,
    "start_time": "2024-09-24T19:32:19.963Z"
   },
   {
    "duration": 4,
    "start_time": "2024-09-24T19:32:36.764Z"
   },
   {
    "duration": 375,
    "start_time": "2024-09-24T19:32:51.981Z"
   },
   {
    "duration": 286,
    "start_time": "2024-09-24T19:33:30.000Z"
   },
   {
    "duration": 51,
    "start_time": "2024-09-24T19:33:39.181Z"
   },
   {
    "duration": 8,
    "start_time": "2024-09-24T19:33:41.250Z"
   },
   {
    "duration": 281,
    "start_time": "2024-09-24T19:33:41.966Z"
   },
   {
    "duration": 777,
    "start_time": "2024-09-25T15:14:11.163Z"
   },
   {
    "duration": 31,
    "start_time": "2024-09-25T15:14:12.595Z"
   },
   {
    "duration": 7,
    "start_time": "2024-09-25T15:15:33.520Z"
   },
   {
    "duration": 11,
    "start_time": "2024-09-25T15:15:59.433Z"
   },
   {
    "duration": 15,
    "start_time": "2024-09-25T15:16:59.393Z"
   },
   {
    "duration": 395,
    "start_time": "2024-09-25T15:17:54.371Z"
   },
   {
    "duration": 716,
    "start_time": "2024-09-25T15:18:32.717Z"
   },
   {
    "duration": 21,
    "start_time": "2024-09-25T15:18:33.435Z"
   },
   {
    "duration": 11,
    "start_time": "2024-09-25T15:18:33.457Z"
   },
   {
    "duration": 7,
    "start_time": "2024-09-25T15:18:33.470Z"
   },
   {
    "duration": 403,
    "start_time": "2024-09-25T15:18:33.480Z"
   },
   {
    "duration": 99,
    "start_time": "2024-09-25T15:27:19.646Z"
   },
   {
    "duration": 739,
    "start_time": "2024-09-25T15:27:27.411Z"
   },
   {
    "duration": 20,
    "start_time": "2024-09-25T15:27:28.153Z"
   },
   {
    "duration": 163,
    "start_time": "2024-09-25T15:27:28.175Z"
   },
   {
    "duration": 983,
    "start_time": "2024-09-25T15:27:28.341Z"
   },
   {
    "duration": 0,
    "start_time": "2024-09-25T15:27:29.325Z"
   },
   {
    "duration": 0,
    "start_time": "2024-09-25T15:27:29.331Z"
   },
   {
    "duration": 0,
    "start_time": "2024-09-25T15:27:29.333Z"
   },
   {
    "duration": 0,
    "start_time": "2024-09-25T15:27:29.334Z"
   },
   {
    "duration": 0,
    "start_time": "2024-09-25T15:27:29.335Z"
   },
   {
    "duration": 719,
    "start_time": "2024-09-25T15:28:15.618Z"
   },
   {
    "duration": 20,
    "start_time": "2024-09-25T15:28:16.339Z"
   },
   {
    "duration": 1798,
    "start_time": "2024-09-25T15:28:16.361Z"
   },
   {
    "duration": 1013,
    "start_time": "2024-09-25T15:28:18.161Z"
   },
   {
    "duration": 0,
    "start_time": "2024-09-25T15:28:19.176Z"
   },
   {
    "duration": 0,
    "start_time": "2024-09-25T15:28:19.177Z"
   },
   {
    "duration": 0,
    "start_time": "2024-09-25T15:28:19.179Z"
   },
   {
    "duration": 0,
    "start_time": "2024-09-25T15:28:19.180Z"
   },
   {
    "duration": 0,
    "start_time": "2024-09-25T15:28:19.182Z"
   },
   {
    "duration": 86,
    "start_time": "2024-09-25T15:35:17.867Z"
   },
   {
    "duration": 722,
    "start_time": "2024-09-25T15:36:13.117Z"
   },
   {
    "duration": 22,
    "start_time": "2024-09-25T15:36:13.841Z"
   },
   {
    "duration": 168,
    "start_time": "2024-09-25T15:36:13.864Z"
   },
   {
    "duration": 11,
    "start_time": "2024-09-25T15:36:14.035Z"
   },
   {
    "duration": 111,
    "start_time": "2024-09-25T15:36:14.049Z"
   },
   {
    "duration": 314,
    "start_time": "2024-09-25T15:36:14.232Z"
   },
   {
    "duration": 0,
    "start_time": "2024-09-25T15:36:14.549Z"
   },
   {
    "duration": 0,
    "start_time": "2024-09-25T15:36:14.550Z"
   },
   {
    "duration": 1048,
    "start_time": "2024-09-25T22:22:59.555Z"
   },
   {
    "duration": 0,
    "start_time": "2024-09-25T22:23:00.605Z"
   },
   {
    "duration": 0,
    "start_time": "2024-09-25T22:23:00.606Z"
   },
   {
    "duration": 0,
    "start_time": "2024-09-25T22:23:00.607Z"
   },
   {
    "duration": 0,
    "start_time": "2024-09-25T22:23:00.608Z"
   },
   {
    "duration": 0,
    "start_time": "2024-09-25T22:23:00.609Z"
   },
   {
    "duration": 0,
    "start_time": "2024-09-25T22:23:00.610Z"
   },
   {
    "duration": 0,
    "start_time": "2024-09-25T22:23:00.611Z"
   },
   {
    "duration": 1004,
    "start_time": "2024-09-26T00:41:38.862Z"
   },
   {
    "duration": 19,
    "start_time": "2024-09-26T00:46:00.345Z"
   },
   {
    "duration": 20,
    "start_time": "2024-09-26T00:46:21.971Z"
   },
   {
    "duration": 3,
    "start_time": "2024-09-26T00:46:37.286Z"
   },
   {
    "duration": 3037,
    "start_time": "2024-09-26T00:47:35.573Z"
   },
   {
    "duration": 3,
    "start_time": "2024-09-26T00:49:51.368Z"
   },
   {
    "duration": 2260,
    "start_time": "2024-09-26T00:49:53.171Z"
   },
   {
    "duration": 247,
    "start_time": "2024-09-26T00:51:11.825Z"
   },
   {
    "duration": 2309,
    "start_time": "2024-09-26T00:51:32.036Z"
   },
   {
    "duration": 225,
    "start_time": "2024-09-26T01:12:22.629Z"
   },
   {
    "duration": 0,
    "start_time": "2024-09-26T01:12:22.856Z"
   },
   {
    "duration": 13,
    "start_time": "2024-09-26T01:12:35.038Z"
   },
   {
    "duration": 20,
    "start_time": "2024-09-26T01:13:03.735Z"
   },
   {
    "duration": 14,
    "start_time": "2024-09-26T01:13:24.933Z"
   },
   {
    "duration": 2144,
    "start_time": "2024-09-26T01:13:27.752Z"
   },
   {
    "duration": 2211,
    "start_time": "2024-09-26T01:13:50.228Z"
   },
   {
    "duration": 2223,
    "start_time": "2024-09-26T01:14:29.208Z"
   },
   {
    "duration": 17,
    "start_time": "2024-09-26T01:14:33.279Z"
   },
   {
    "duration": 18,
    "start_time": "2024-09-26T01:38:12.574Z"
   },
   {
    "duration": 14,
    "start_time": "2024-09-26T01:38:14.520Z"
   },
   {
    "duration": 14,
    "start_time": "2024-09-26T01:38:29.756Z"
   },
   {
    "duration": 8823,
    "start_time": "2024-09-26T01:39:09.509Z"
   },
   {
    "duration": 20,
    "start_time": "2024-09-26T01:39:23.680Z"
   },
   {
    "duration": 13,
    "start_time": "2024-09-26T01:39:50.619Z"
   },
   {
    "duration": 1358,
    "start_time": "2024-09-26T01:40:52.313Z"
   },
   {
    "duration": 1268,
    "start_time": "2024-09-26T01:41:20.637Z"
   },
   {
    "duration": 6,
    "start_time": "2024-09-26T01:41:56.736Z"
   },
   {
    "duration": 19,
    "start_time": "2024-09-26T01:42:03.167Z"
   },
   {
    "duration": 1357,
    "start_time": "2024-09-26T01:42:05.314Z"
   },
   {
    "duration": 21,
    "start_time": "2024-09-26T01:42:53.849Z"
   },
   {
    "duration": 1336,
    "start_time": "2024-09-26T01:42:57.078Z"
   },
   {
    "duration": 21,
    "start_time": "2024-09-26T01:43:01.561Z"
   },
   {
    "duration": 15,
    "start_time": "2024-09-26T01:43:21.673Z"
   },
   {
    "duration": 14,
    "start_time": "2024-09-26T01:43:27.141Z"
   },
   {
    "duration": 1323,
    "start_time": "2024-09-26T01:44:07.228Z"
   },
   {
    "duration": 155,
    "start_time": "2024-09-26T01:44:08.554Z"
   },
   {
    "duration": 0,
    "start_time": "2024-09-26T01:44:08.711Z"
   },
   {
    "duration": 0,
    "start_time": "2024-09-26T01:44:08.712Z"
   },
   {
    "duration": 0,
    "start_time": "2024-09-26T01:44:08.713Z"
   },
   {
    "duration": 1335,
    "start_time": "2024-09-26T01:44:32.974Z"
   },
   {
    "duration": 1350,
    "start_time": "2024-09-26T01:44:34.311Z"
   },
   {
    "duration": 1268,
    "start_time": "2024-09-26T01:44:35.663Z"
   },
   {
    "duration": 962,
    "start_time": "2024-09-26T01:44:36.934Z"
   },
   {
    "duration": 9371,
    "start_time": "2024-09-26T01:46:40.196Z"
   },
   {
    "duration": 22,
    "start_time": "2024-09-26T01:47:41.787Z"
   },
   {
    "duration": 13,
    "start_time": "2024-09-26T01:47:56.052Z"
   },
   {
    "duration": 13,
    "start_time": "2024-09-26T01:48:01.839Z"
   },
   {
    "duration": 9413,
    "start_time": "2024-09-26T01:53:29.220Z"
   },
   {
    "duration": 4,
    "start_time": "2024-09-26T01:58:24.308Z"
   },
   {
    "duration": 9337,
    "start_time": "2024-09-26T01:58:29.657Z"
   },
   {
    "duration": 4,
    "start_time": "2024-09-26T01:59:55.501Z"
   },
   {
    "duration": 48,
    "start_time": "2024-09-26T02:00:41.774Z"
   },
   {
    "duration": 31,
    "start_time": "2024-09-26T02:00:54.138Z"
   },
   {
    "duration": 4,
    "start_time": "2024-09-26T02:01:04.657Z"
   },
   {
    "duration": 9,
    "start_time": "2024-09-26T02:01:14.320Z"
   },
   {
    "duration": 17,
    "start_time": "2024-09-26T02:01:35.928Z"
   },
   {
    "duration": 7,
    "start_time": "2024-09-26T02:01:43.677Z"
   },
   {
    "duration": 11,
    "start_time": "2024-09-26T02:01:50.368Z"
   },
   {
    "duration": 194,
    "start_time": "2024-09-26T02:01:58.553Z"
   },
   {
    "duration": 122,
    "start_time": "2024-09-26T02:03:03.783Z"
   },
   {
    "duration": 30,
    "start_time": "2024-09-26T02:08:35.074Z"
   },
   {
    "duration": 32,
    "start_time": "2024-09-26T02:08:48.394Z"
   },
   {
    "duration": 34,
    "start_time": "2024-09-26T02:09:13.022Z"
   },
   {
    "duration": 783,
    "start_time": "2024-09-26T02:09:34.167Z"
   },
   {
    "duration": 27,
    "start_time": "2024-09-26T02:09:34.952Z"
   },
   {
    "duration": 59,
    "start_time": "2024-09-26T02:09:34.981Z"
   },
   {
    "duration": 3,
    "start_time": "2024-09-26T02:09:35.042Z"
   },
   {
    "duration": 25,
    "start_time": "2024-09-26T02:09:35.046Z"
   },
   {
    "duration": 14,
    "start_time": "2024-09-26T02:09:35.073Z"
   },
   {
    "duration": 6,
    "start_time": "2024-09-26T02:09:35.089Z"
   },
   {
    "duration": 4,
    "start_time": "2024-09-26T02:09:35.097Z"
   },
   {
    "duration": 74,
    "start_time": "2024-09-26T02:09:35.102Z"
   },
   {
    "duration": 20,
    "start_time": "2024-09-26T02:10:33.788Z"
   },
   {
    "duration": 23,
    "start_time": "2024-09-26T02:11:09.348Z"
   },
   {
    "duration": 218,
    "start_time": "2024-09-26T02:11:31.447Z"
   },
   {
    "duration": 9353,
    "start_time": "2024-09-26T02:11:55.583Z"
   },
   {
    "duration": 0,
    "start_time": "2024-09-26T02:12:36.788Z"
   },
   {
    "duration": 16,
    "start_time": "2024-09-26T02:12:44.885Z"
   },
   {
    "duration": 24,
    "start_time": "2024-09-26T02:12:57.610Z"
   },
   {
    "duration": 24,
    "start_time": "2024-09-26T02:13:19.277Z"
   },
   {
    "duration": 774,
    "start_time": "2024-09-26T03:08:44.083Z"
   },
   {
    "duration": 45,
    "start_time": "2024-09-26T03:08:46.338Z"
   },
   {
    "duration": 5,
    "start_time": "2024-09-26T03:09:31.032Z"
   },
   {
    "duration": 31,
    "start_time": "2024-09-26T03:09:44.562Z"
   },
   {
    "duration": 4,
    "start_time": "2024-09-26T03:10:47.664Z"
   },
   {
    "duration": 10,
    "start_time": "2024-09-26T03:11:24.453Z"
   },
   {
    "duration": 3,
    "start_time": "2024-09-26T03:11:51.355Z"
   },
   {
    "duration": 15,
    "start_time": "2024-09-26T03:12:06.930Z"
   },
   {
    "duration": 7,
    "start_time": "2024-09-26T03:13:11.624Z"
   },
   {
    "duration": 12,
    "start_time": "2024-09-26T03:13:51.473Z"
   },
   {
    "duration": 388,
    "start_time": "2024-09-26T03:15:01.310Z"
   },
   {
    "duration": 36,
    "start_time": "2024-09-26T03:16:52.103Z"
   },
   {
    "duration": 672,
    "start_time": "2024-09-26T03:16:56.278Z"
   },
   {
    "duration": 764,
    "start_time": "2024-09-26T03:18:01.363Z"
   },
   {
    "duration": 27,
    "start_time": "2024-09-26T03:18:02.129Z"
   },
   {
    "duration": 68,
    "start_time": "2024-09-26T03:18:02.158Z"
   },
   {
    "duration": 3,
    "start_time": "2024-09-26T03:18:02.228Z"
   },
   {
    "duration": 8,
    "start_time": "2024-09-26T03:18:02.234Z"
   },
   {
    "duration": 13,
    "start_time": "2024-09-26T03:18:02.244Z"
   },
   {
    "duration": 6,
    "start_time": "2024-09-26T03:18:02.258Z"
   },
   {
    "duration": 3,
    "start_time": "2024-09-26T03:18:02.267Z"
   },
   {
    "duration": 54,
    "start_time": "2024-09-26T03:18:02.272Z"
   },
   {
    "duration": 51,
    "start_time": "2024-09-26T03:19:18.325Z"
   },
   {
    "duration": 22,
    "start_time": "2024-09-26T03:20:43.059Z"
   },
   {
    "duration": 39,
    "start_time": "2024-09-26T03:21:07.104Z"
   },
   {
    "duration": 6,
    "start_time": "2024-09-26T03:22:07.522Z"
   },
   {
    "duration": 5,
    "start_time": "2024-09-26T03:25:22.085Z"
   },
   {
    "duration": 4,
    "start_time": "2024-09-26T03:25:23.390Z"
   },
   {
    "duration": 25,
    "start_time": "2024-09-26T03:25:31.503Z"
   },
   {
    "duration": 41,
    "start_time": "2024-09-26T03:25:35.226Z"
   },
   {
    "duration": 25,
    "start_time": "2024-09-26T03:25:57.439Z"
   },
   {
    "duration": 802,
    "start_time": "2024-09-26T03:26:48.962Z"
   },
   {
    "duration": 28,
    "start_time": "2024-09-26T03:26:49.766Z"
   },
   {
    "duration": 70,
    "start_time": "2024-09-26T03:26:49.798Z"
   },
   {
    "duration": 5,
    "start_time": "2024-09-26T03:26:49.872Z"
   },
   {
    "duration": 9,
    "start_time": "2024-09-26T03:26:49.879Z"
   },
   {
    "duration": 33,
    "start_time": "2024-09-26T03:26:49.890Z"
   },
   {
    "duration": 6,
    "start_time": "2024-09-26T03:26:49.925Z"
   },
   {
    "duration": 4,
    "start_time": "2024-09-26T03:26:49.932Z"
   },
   {
    "duration": 81,
    "start_time": "2024-09-26T03:26:49.938Z"
   },
   {
    "duration": 116,
    "start_time": "2024-09-26T03:26:50.021Z"
   },
   {
    "duration": 77,
    "start_time": "2024-09-26T03:26:50.139Z"
   },
   {
    "duration": 120,
    "start_time": "2024-09-26T03:26:50.220Z"
   },
   {
    "duration": 68,
    "start_time": "2024-09-26T03:26:50.344Z"
   },
   {
    "duration": 7,
    "start_time": "2024-09-26T03:31:59.100Z"
   },
   {
    "duration": 21,
    "start_time": "2024-09-26T03:33:38.587Z"
   },
   {
    "duration": 20,
    "start_time": "2024-09-26T03:35:32.137Z"
   },
   {
    "duration": 759,
    "start_time": "2024-09-26T03:39:28.069Z"
   },
   {
    "duration": 27,
    "start_time": "2024-09-26T03:39:28.830Z"
   },
   {
    "duration": 65,
    "start_time": "2024-09-26T03:39:28.859Z"
   },
   {
    "duration": 3,
    "start_time": "2024-09-26T03:39:28.927Z"
   },
   {
    "duration": 9,
    "start_time": "2024-09-26T03:39:28.932Z"
   },
   {
    "duration": 16,
    "start_time": "2024-09-26T03:39:28.943Z"
   },
   {
    "duration": 6,
    "start_time": "2024-09-26T03:39:28.960Z"
   },
   {
    "duration": 4,
    "start_time": "2024-09-26T03:39:28.970Z"
   },
   {
    "duration": 53,
    "start_time": "2024-09-26T03:39:28.977Z"
   },
   {
    "duration": 180,
    "start_time": "2024-09-26T03:39:29.034Z"
   },
   {
    "duration": 21,
    "start_time": "2024-09-26T03:39:29.216Z"
   },
   {
    "duration": 179,
    "start_time": "2024-09-26T03:39:29.239Z"
   },
   {
    "duration": 23,
    "start_time": "2024-09-26T03:39:29.420Z"
   },
   {
    "duration": 789,
    "start_time": "2024-09-26T03:42:09.929Z"
   },
   {
    "duration": 25,
    "start_time": "2024-09-26T03:42:10.720Z"
   },
   {
    "duration": 61,
    "start_time": "2024-09-26T03:42:10.750Z"
   },
   {
    "duration": 3,
    "start_time": "2024-09-26T03:42:10.813Z"
   },
   {
    "duration": 9,
    "start_time": "2024-09-26T03:42:10.818Z"
   },
   {
    "duration": 13,
    "start_time": "2024-09-26T03:42:10.828Z"
   },
   {
    "duration": 6,
    "start_time": "2024-09-26T03:42:10.842Z"
   },
   {
    "duration": 4,
    "start_time": "2024-09-26T03:42:10.851Z"
   },
   {
    "duration": 68,
    "start_time": "2024-09-26T03:42:10.858Z"
   },
   {
    "duration": 117,
    "start_time": "2024-09-26T03:42:10.929Z"
   },
   {
    "duration": 76,
    "start_time": "2024-09-26T03:42:11.048Z"
   },
   {
    "duration": 116,
    "start_time": "2024-09-26T03:42:11.126Z"
   },
   {
    "duration": 78,
    "start_time": "2024-09-26T03:42:11.244Z"
   },
   {
    "duration": 746,
    "start_time": "2024-09-26T03:42:42.481Z"
   },
   {
    "duration": 25,
    "start_time": "2024-09-26T03:42:43.229Z"
   },
   {
    "duration": 65,
    "start_time": "2024-09-26T03:42:43.255Z"
   },
   {
    "duration": 4,
    "start_time": "2024-09-26T03:42:43.322Z"
   },
   {
    "duration": 8,
    "start_time": "2024-09-26T03:42:43.328Z"
   },
   {
    "duration": 12,
    "start_time": "2024-09-26T03:42:43.338Z"
   },
   {
    "duration": 6,
    "start_time": "2024-09-26T03:42:43.351Z"
   },
   {
    "duration": 3,
    "start_time": "2024-09-26T03:42:43.359Z"
   },
   {
    "duration": 72,
    "start_time": "2024-09-26T03:42:43.364Z"
   },
   {
    "duration": 182,
    "start_time": "2024-09-26T03:42:43.438Z"
   },
   {
    "duration": 19,
    "start_time": "2024-09-26T03:42:43.621Z"
   },
   {
    "duration": 179,
    "start_time": "2024-09-26T03:42:43.641Z"
   },
   {
    "duration": 23,
    "start_time": "2024-09-26T03:42:43.822Z"
   },
   {
    "duration": 749,
    "start_time": "2024-09-26T03:43:08.597Z"
   },
   {
    "duration": 24,
    "start_time": "2024-09-26T03:43:09.348Z"
   },
   {
    "duration": 68,
    "start_time": "2024-09-26T03:43:09.374Z"
   },
   {
    "duration": 3,
    "start_time": "2024-09-26T03:43:09.445Z"
   },
   {
    "duration": 8,
    "start_time": "2024-09-26T03:43:09.450Z"
   },
   {
    "duration": 12,
    "start_time": "2024-09-26T03:43:09.459Z"
   },
   {
    "duration": 6,
    "start_time": "2024-09-26T03:43:09.473Z"
   },
   {
    "duration": 4,
    "start_time": "2024-09-26T03:43:09.481Z"
   },
   {
    "duration": 20,
    "start_time": "2024-09-26T03:43:09.512Z"
   },
   {
    "duration": 109,
    "start_time": "2024-09-26T03:43:09.534Z"
   },
   {
    "duration": 99,
    "start_time": "2024-09-26T03:43:09.645Z"
   },
   {
    "duration": 176,
    "start_time": "2024-09-26T03:43:09.747Z"
   },
   {
    "duration": 86,
    "start_time": "2024-09-26T03:43:09.925Z"
   },
   {
    "duration": 160,
    "start_time": "2024-09-26T22:34:14.801Z"
   },
   {
    "duration": 744,
    "start_time": "2024-09-26T22:34:31.688Z"
   },
   {
    "duration": 31,
    "start_time": "2024-09-26T22:34:33.561Z"
   },
   {
    "duration": 38,
    "start_time": "2024-09-26T22:34:36.068Z"
   },
   {
    "duration": 767,
    "start_time": "2024-09-26T22:34:50.468Z"
   },
   {
    "duration": 25,
    "start_time": "2024-09-26T22:34:51.237Z"
   },
   {
    "duration": 40,
    "start_time": "2024-09-26T22:34:51.263Z"
   },
   {
    "duration": 3,
    "start_time": "2024-09-26T22:34:51.304Z"
   },
   {
    "duration": 23,
    "start_time": "2024-09-26T22:34:51.309Z"
   },
   {
    "duration": 13,
    "start_time": "2024-09-26T22:34:51.334Z"
   },
   {
    "duration": 6,
    "start_time": "2024-09-26T22:34:51.348Z"
   },
   {
    "duration": 4,
    "start_time": "2024-09-26T22:34:51.356Z"
   },
   {
    "duration": 72,
    "start_time": "2024-09-26T22:34:51.363Z"
   },
   {
    "duration": 118,
    "start_time": "2024-09-26T22:34:51.438Z"
   },
   {
    "duration": 79,
    "start_time": "2024-09-26T22:34:51.558Z"
   },
   {
    "duration": 117,
    "start_time": "2024-09-26T22:34:51.638Z"
   },
   {
    "duration": 76,
    "start_time": "2024-09-26T22:34:51.757Z"
   },
   {
    "duration": 19,
    "start_time": "2024-09-26T22:37:30.347Z"
   },
   {
    "duration": 854,
    "start_time": "2024-09-26T22:37:43.181Z"
   },
   {
    "duration": 25,
    "start_time": "2024-09-26T22:37:44.037Z"
   },
   {
    "duration": 37,
    "start_time": "2024-09-26T22:37:44.063Z"
   },
   {
    "duration": 2,
    "start_time": "2024-09-26T22:37:44.103Z"
   },
   {
    "duration": 24,
    "start_time": "2024-09-26T22:37:44.107Z"
   },
   {
    "duration": 19,
    "start_time": "2024-09-26T22:37:44.133Z"
   },
   {
    "duration": 6,
    "start_time": "2024-09-26T22:37:44.154Z"
   },
   {
    "duration": 4,
    "start_time": "2024-09-26T22:37:44.162Z"
   },
   {
    "duration": 163,
    "start_time": "2024-09-26T22:37:44.167Z"
   },
   {
    "duration": 116,
    "start_time": "2024-09-26T22:37:44.332Z"
   },
   {
    "duration": 96,
    "start_time": "2024-09-26T22:37:44.450Z"
   },
   {
    "duration": 183,
    "start_time": "2024-09-26T22:37:44.547Z"
   },
   {
    "duration": 97,
    "start_time": "2024-09-26T22:37:44.732Z"
   },
   {
    "duration": 595,
    "start_time": "2024-09-26T22:38:09.208Z"
   },
   {
    "duration": 359,
    "start_time": "2024-09-26T22:38:14.067Z"
   },
   {
    "duration": 3,
    "start_time": "2024-09-26T22:39:00.116Z"
   },
   {
    "duration": 22,
    "start_time": "2024-09-26T22:39:01.033Z"
   },
   {
    "duration": 38,
    "start_time": "2024-09-26T22:39:02.801Z"
   },
   {
    "duration": 2,
    "start_time": "2024-09-26T22:40:13.981Z"
   },
   {
    "duration": 9,
    "start_time": "2024-09-26T22:40:17.156Z"
   },
   {
    "duration": 20,
    "start_time": "2024-09-26T22:40:20.681Z"
   },
   {
    "duration": 4,
    "start_time": "2024-09-26T22:41:07.253Z"
   },
   {
    "duration": 6,
    "start_time": "2024-09-26T22:41:30.743Z"
   },
   {
    "duration": 7,
    "start_time": "2024-09-26T22:41:53.477Z"
   },
   {
    "duration": 7,
    "start_time": "2024-09-26T22:41:59.696Z"
   },
   {
    "duration": 39,
    "start_time": "2024-09-26T22:42:49.703Z"
   },
   {
    "duration": 6,
    "start_time": "2024-09-26T22:44:35.052Z"
   },
   {
    "duration": 824,
    "start_time": "2024-09-26T22:46:07.427Z"
   },
   {
    "duration": 26,
    "start_time": "2024-09-26T22:46:08.253Z"
   },
   {
    "duration": 47,
    "start_time": "2024-09-26T22:46:08.280Z"
   },
   {
    "duration": 6,
    "start_time": "2024-09-26T22:46:08.329Z"
   },
   {
    "duration": 8,
    "start_time": "2024-09-26T22:46:08.338Z"
   },
   {
    "duration": 21,
    "start_time": "2024-09-26T22:46:08.348Z"
   },
   {
    "duration": 5,
    "start_time": "2024-09-26T22:46:08.370Z"
   },
   {
    "duration": 4,
    "start_time": "2024-09-26T22:46:08.377Z"
   },
   {
    "duration": 172,
    "start_time": "2024-09-26T22:46:08.382Z"
   },
   {
    "duration": 0,
    "start_time": "2024-09-26T22:46:08.556Z"
   },
   {
    "duration": 0,
    "start_time": "2024-09-26T22:46:08.557Z"
   },
   {
    "duration": 0,
    "start_time": "2024-09-26T22:46:08.558Z"
   },
   {
    "duration": 0,
    "start_time": "2024-09-26T22:46:08.559Z"
   },
   {
    "duration": 3,
    "start_time": "2024-09-26T22:46:32.301Z"
   },
   {
    "duration": 7,
    "start_time": "2024-09-26T22:46:36.929Z"
   },
   {
    "duration": 764,
    "start_time": "2024-09-26T22:46:52.564Z"
   },
   {
    "duration": 772,
    "start_time": "2024-09-26T22:47:03.757Z"
   },
   {
    "duration": 24,
    "start_time": "2024-09-26T22:47:04.531Z"
   },
   {
    "duration": 37,
    "start_time": "2024-09-26T22:47:04.556Z"
   },
   {
    "duration": 6,
    "start_time": "2024-09-26T22:47:04.595Z"
   },
   {
    "duration": 21,
    "start_time": "2024-09-26T22:47:04.603Z"
   },
   {
    "duration": 20,
    "start_time": "2024-09-26T22:47:04.625Z"
   },
   {
    "duration": 5,
    "start_time": "2024-09-26T22:47:04.646Z"
   },
   {
    "duration": 4,
    "start_time": "2024-09-26T22:47:04.654Z"
   },
   {
    "duration": 163,
    "start_time": "2024-09-26T22:47:04.662Z"
   },
   {
    "duration": 117,
    "start_time": "2024-09-26T22:47:04.828Z"
   },
   {
    "duration": 94,
    "start_time": "2024-09-26T22:47:04.946Z"
   },
   {
    "duration": 116,
    "start_time": "2024-09-26T22:47:05.042Z"
   },
   {
    "duration": 89,
    "start_time": "2024-09-26T22:47:05.159Z"
   },
   {
    "duration": 19,
    "start_time": "2024-09-26T22:47:48.858Z"
   },
   {
    "duration": 18,
    "start_time": "2024-09-26T22:48:56.543Z"
   },
   {
    "duration": 736,
    "start_time": "2024-09-26T22:49:06.495Z"
   },
   {
    "duration": 25,
    "start_time": "2024-09-26T22:49:07.233Z"
   },
   {
    "duration": 38,
    "start_time": "2024-09-26T22:49:07.259Z"
   },
   {
    "duration": 6,
    "start_time": "2024-09-26T22:49:07.299Z"
   },
   {
    "duration": 9,
    "start_time": "2024-09-26T22:49:07.323Z"
   },
   {
    "duration": 18,
    "start_time": "2024-09-26T22:49:07.333Z"
   },
   {
    "duration": 5,
    "start_time": "2024-09-26T22:49:07.353Z"
   },
   {
    "duration": 5,
    "start_time": "2024-09-26T22:49:07.360Z"
   },
   {
    "duration": 176,
    "start_time": "2024-09-26T22:49:07.367Z"
   },
   {
    "duration": 109,
    "start_time": "2024-09-26T22:49:07.550Z"
   },
   {
    "duration": 167,
    "start_time": "2024-09-26T22:49:07.661Z"
   },
   {
    "duration": 118,
    "start_time": "2024-09-26T22:49:07.830Z"
   },
   {
    "duration": 86,
    "start_time": "2024-09-26T22:49:07.950Z"
   },
   {
    "duration": 8,
    "start_time": "2024-09-26T22:50:45.037Z"
   },
   {
    "duration": 784,
    "start_time": "2024-09-27T02:02:20.592Z"
   },
   {
    "duration": 808,
    "start_time": "2024-09-27T02:02:27.246Z"
   },
   {
    "duration": 31,
    "start_time": "2024-09-27T02:02:28.056Z"
   },
   {
    "duration": 38,
    "start_time": "2024-09-27T02:02:28.088Z"
   },
   {
    "duration": 16,
    "start_time": "2024-09-27T02:02:28.128Z"
   },
   {
    "duration": 9,
    "start_time": "2024-09-27T02:02:28.147Z"
   },
   {
    "duration": 19,
    "start_time": "2024-09-27T02:02:28.157Z"
   },
   {
    "duration": 7,
    "start_time": "2024-09-27T02:02:28.177Z"
   },
   {
    "duration": 4,
    "start_time": "2024-09-27T02:02:28.186Z"
   },
   {
    "duration": 158,
    "start_time": "2024-09-27T02:02:28.191Z"
   },
   {
    "duration": 109,
    "start_time": "2024-09-27T02:02:28.350Z"
   },
   {
    "duration": 98,
    "start_time": "2024-09-27T02:02:28.461Z"
   },
   {
    "duration": 108,
    "start_time": "2024-09-27T02:02:28.561Z"
   },
   {
    "duration": 6583,
    "start_time": "2024-09-27T02:02:28.671Z"
   },
   {
    "duration": 775,
    "start_time": "2024-09-27T02:02:59.343Z"
   },
   {
    "duration": 25,
    "start_time": "2024-09-27T02:03:00.120Z"
   },
   {
    "duration": 38,
    "start_time": "2024-09-27T02:03:00.146Z"
   },
   {
    "duration": 5,
    "start_time": "2024-09-27T02:03:00.187Z"
   },
   {
    "duration": 8,
    "start_time": "2024-09-27T02:03:00.194Z"
   },
   {
    "duration": 43,
    "start_time": "2024-09-27T02:03:00.204Z"
   },
   {
    "duration": 8,
    "start_time": "2024-09-27T02:03:00.248Z"
   },
   {
    "duration": 5,
    "start_time": "2024-09-27T02:03:00.257Z"
   },
   {
    "duration": 95,
    "start_time": "2024-09-27T02:03:00.263Z"
   },
   {
    "duration": 108,
    "start_time": "2024-09-27T02:03:00.361Z"
   },
   {
    "duration": 183,
    "start_time": "2024-09-27T02:03:00.471Z"
   },
   {
    "duration": 110,
    "start_time": "2024-09-27T02:03:00.656Z"
   },
   {
    "duration": 280,
    "start_time": "2024-09-27T02:03:00.768Z"
   },
   {
    "duration": 737,
    "start_time": "2024-09-27T02:03:55.029Z"
   },
   {
    "duration": 26,
    "start_time": "2024-09-27T02:03:55.768Z"
   },
   {
    "duration": 56,
    "start_time": "2024-09-27T02:03:55.795Z"
   },
   {
    "duration": 8,
    "start_time": "2024-09-27T02:03:55.853Z"
   },
   {
    "duration": 10,
    "start_time": "2024-09-27T02:03:55.865Z"
   },
   {
    "duration": 20,
    "start_time": "2024-09-27T02:03:55.876Z"
   },
   {
    "duration": 6,
    "start_time": "2024-09-27T02:03:55.897Z"
   },
   {
    "duration": 4,
    "start_time": "2024-09-27T02:03:55.905Z"
   },
   {
    "duration": 131,
    "start_time": "2024-09-27T02:03:55.911Z"
   },
   {
    "duration": 113,
    "start_time": "2024-09-27T02:03:56.044Z"
   },
   {
    "duration": 184,
    "start_time": "2024-09-27T02:03:56.159Z"
   },
   {
    "duration": 111,
    "start_time": "2024-09-27T02:03:56.345Z"
   },
   {
    "duration": 246,
    "start_time": "2024-09-27T02:03:56.458Z"
   },
   {
    "duration": 735,
    "start_time": "2024-09-27T02:05:51.423Z"
   },
   {
    "duration": 25,
    "start_time": "2024-09-27T02:05:52.160Z"
   },
   {
    "duration": 38,
    "start_time": "2024-09-27T02:05:52.187Z"
   },
   {
    "duration": 15,
    "start_time": "2024-09-27T02:05:52.228Z"
   },
   {
    "duration": 10,
    "start_time": "2024-09-27T02:05:52.244Z"
   },
   {
    "duration": 21,
    "start_time": "2024-09-27T02:05:52.255Z"
   },
   {
    "duration": 7,
    "start_time": "2024-09-27T02:05:52.277Z"
   },
   {
    "duration": 4,
    "start_time": "2024-09-27T02:05:52.286Z"
   },
   {
    "duration": 151,
    "start_time": "2024-09-27T02:05:52.292Z"
   },
   {
    "duration": 103,
    "start_time": "2024-09-27T02:05:52.447Z"
   },
   {
    "duration": 105,
    "start_time": "2024-09-27T02:05:52.552Z"
   },
   {
    "duration": 109,
    "start_time": "2024-09-27T02:05:52.660Z"
   },
   {
    "duration": 92,
    "start_time": "2024-09-27T02:05:52.771Z"
   },
   {
    "duration": 755,
    "start_time": "2024-09-27T02:06:19.485Z"
   },
   {
    "duration": 25,
    "start_time": "2024-09-27T02:06:20.242Z"
   },
   {
    "duration": 37,
    "start_time": "2024-09-27T02:06:20.269Z"
   },
   {
    "duration": 7,
    "start_time": "2024-09-27T02:06:20.308Z"
   },
   {
    "duration": 27,
    "start_time": "2024-09-27T02:06:20.316Z"
   },
   {
    "duration": 19,
    "start_time": "2024-09-27T02:06:20.344Z"
   },
   {
    "duration": 6,
    "start_time": "2024-09-27T02:06:20.365Z"
   },
   {
    "duration": 5,
    "start_time": "2024-09-27T02:06:20.373Z"
   },
   {
    "duration": 75,
    "start_time": "2024-09-27T02:06:20.380Z"
   },
   {
    "duration": 104,
    "start_time": "2024-09-27T02:06:20.458Z"
   },
   {
    "duration": 180,
    "start_time": "2024-09-27T02:06:20.564Z"
   },
   {
    "duration": 107,
    "start_time": "2024-09-27T02:06:20.746Z"
   },
   {
    "duration": 92,
    "start_time": "2024-09-27T02:06:20.855Z"
   },
   {
    "duration": 792,
    "start_time": "2024-09-27T02:38:43.464Z"
   },
   {
    "duration": 26,
    "start_time": "2024-09-27T02:38:44.259Z"
   },
   {
    "duration": 37,
    "start_time": "2024-09-27T02:38:44.286Z"
   },
   {
    "duration": 20,
    "start_time": "2024-09-27T02:38:44.325Z"
   },
   {
    "duration": 10,
    "start_time": "2024-09-27T02:38:44.346Z"
   },
   {
    "duration": 18,
    "start_time": "2024-09-27T02:38:44.357Z"
   },
   {
    "duration": 7,
    "start_time": "2024-09-27T02:38:44.377Z"
   },
   {
    "duration": 6,
    "start_time": "2024-09-27T02:38:44.386Z"
   },
   {
    "duration": 162,
    "start_time": "2024-09-27T02:38:44.393Z"
   },
   {
    "duration": 108,
    "start_time": "2024-09-27T02:38:44.559Z"
   },
   {
    "duration": 97,
    "start_time": "2024-09-27T02:38:44.669Z"
   },
   {
    "duration": 101,
    "start_time": "2024-09-27T02:38:44.842Z"
   },
   {
    "duration": 98,
    "start_time": "2024-09-27T02:38:44.945Z"
   },
   {
    "duration": 742,
    "start_time": "2024-09-27T02:40:55.501Z"
   },
   {
    "duration": 25,
    "start_time": "2024-09-27T02:40:56.247Z"
   },
   {
    "duration": 44,
    "start_time": "2024-09-27T02:40:56.274Z"
   },
   {
    "duration": 6,
    "start_time": "2024-09-27T02:40:56.320Z"
   },
   {
    "duration": 9,
    "start_time": "2024-09-27T02:40:56.342Z"
   },
   {
    "duration": 20,
    "start_time": "2024-09-27T02:40:56.352Z"
   },
   {
    "duration": 8,
    "start_time": "2024-09-27T02:40:56.373Z"
   },
   {
    "duration": 5,
    "start_time": "2024-09-27T02:40:56.383Z"
   },
   {
    "duration": 156,
    "start_time": "2024-09-27T02:40:56.390Z"
   },
   {
    "duration": 113,
    "start_time": "2024-09-27T02:40:56.552Z"
   },
   {
    "duration": 89,
    "start_time": "2024-09-27T02:40:56.666Z"
   },
   {
    "duration": 107,
    "start_time": "2024-09-27T02:40:56.757Z"
   },
   {
    "duration": 91,
    "start_time": "2024-09-27T02:40:56.866Z"
   },
   {
    "duration": 809,
    "start_time": "2024-09-27T02:41:58.245Z"
   },
   {
    "duration": 26,
    "start_time": "2024-09-27T02:41:59.057Z"
   },
   {
    "duration": 39,
    "start_time": "2024-09-27T02:41:59.085Z"
   },
   {
    "duration": 17,
    "start_time": "2024-09-27T02:41:59.126Z"
   },
   {
    "duration": 8,
    "start_time": "2024-09-27T02:41:59.146Z"
   },
   {
    "duration": 20,
    "start_time": "2024-09-27T02:41:59.155Z"
   },
   {
    "duration": 7,
    "start_time": "2024-09-27T02:41:59.176Z"
   },
   {
    "duration": 5,
    "start_time": "2024-09-27T02:41:59.184Z"
   },
   {
    "duration": 161,
    "start_time": "2024-09-27T02:41:59.190Z"
   },
   {
    "duration": 111,
    "start_time": "2024-09-27T02:41:59.353Z"
   },
   {
    "duration": 96,
    "start_time": "2024-09-27T02:41:59.466Z"
   },
   {
    "duration": 109,
    "start_time": "2024-09-27T02:41:59.565Z"
   },
   {
    "duration": 166,
    "start_time": "2024-09-27T02:41:59.676Z"
   },
   {
    "duration": 851,
    "start_time": "2024-09-27T13:38:16.704Z"
   },
   {
    "duration": 44,
    "start_time": "2024-09-27T13:38:17.557Z"
   },
   {
    "duration": 43,
    "start_time": "2024-09-27T13:38:17.603Z"
   },
   {
    "duration": 7,
    "start_time": "2024-09-27T13:38:17.649Z"
   },
   {
    "duration": 10,
    "start_time": "2024-09-27T13:38:17.657Z"
   },
   {
    "duration": 20,
    "start_time": "2024-09-27T13:38:17.668Z"
   },
   {
    "duration": 17,
    "start_time": "2024-09-27T13:38:17.709Z"
   },
   {
    "duration": 5,
    "start_time": "2024-09-27T13:38:17.728Z"
   },
   {
    "duration": 182,
    "start_time": "2024-09-27T13:38:17.735Z"
   },
   {
    "duration": 110,
    "start_time": "2024-09-27T13:38:17.921Z"
   },
   {
    "duration": 182,
    "start_time": "2024-09-27T13:38:18.033Z"
   },
   {
    "duration": 109,
    "start_time": "2024-09-27T13:38:18.217Z"
   },
   {
    "duration": 100,
    "start_time": "2024-09-27T13:38:18.327Z"
   },
   {
    "duration": 759,
    "start_time": "2024-09-27T15:26:27.552Z"
   },
   {
    "duration": 34,
    "start_time": "2024-09-27T15:26:28.314Z"
   },
   {
    "duration": 39,
    "start_time": "2024-09-27T15:26:28.350Z"
   },
   {
    "duration": 6,
    "start_time": "2024-09-27T15:26:28.391Z"
   },
   {
    "duration": 9,
    "start_time": "2024-09-27T15:26:28.398Z"
   },
   {
    "duration": 19,
    "start_time": "2024-09-27T15:26:28.409Z"
   },
   {
    "duration": 13,
    "start_time": "2024-09-27T15:26:28.429Z"
   },
   {
    "duration": 4,
    "start_time": "2024-09-27T15:26:28.444Z"
   },
   {
    "duration": 60,
    "start_time": "2024-09-27T15:26:28.450Z"
   },
   {
    "duration": 103,
    "start_time": "2024-09-27T15:26:28.513Z"
   },
   {
    "duration": 185,
    "start_time": "2024-09-27T15:26:28.618Z"
   },
   {
    "duration": 108,
    "start_time": "2024-09-27T15:26:28.807Z"
   },
   {
    "duration": 90,
    "start_time": "2024-09-27T15:26:28.916Z"
   },
   {
    "duration": 785,
    "start_time": "2024-09-27T15:50:05.815Z"
   },
   {
    "duration": 26,
    "start_time": "2024-09-27T15:50:06.602Z"
   },
   {
    "duration": 39,
    "start_time": "2024-09-27T15:50:06.630Z"
   },
   {
    "duration": 19,
    "start_time": "2024-09-27T15:50:06.671Z"
   },
   {
    "duration": 9,
    "start_time": "2024-09-27T15:50:06.692Z"
   },
   {
    "duration": 22,
    "start_time": "2024-09-27T15:50:06.703Z"
   },
   {
    "duration": 16,
    "start_time": "2024-09-27T15:50:06.728Z"
   },
   {
    "duration": 6,
    "start_time": "2024-09-27T15:50:06.745Z"
   },
   {
    "duration": 56,
    "start_time": "2024-09-27T15:50:06.753Z"
   },
   {
    "duration": 106,
    "start_time": "2024-09-27T15:50:06.813Z"
   },
   {
    "duration": 110,
    "start_time": "2024-09-27T15:50:06.987Z"
   },
   {
    "duration": 109,
    "start_time": "2024-09-27T15:50:07.099Z"
   },
   {
    "duration": 12083,
    "start_time": "2024-09-27T15:50:07.210Z"
   },
   {
    "duration": 814,
    "start_time": "2024-09-27T15:51:36.689Z"
   },
   {
    "duration": 25,
    "start_time": "2024-09-27T15:51:37.505Z"
   },
   {
    "duration": 38,
    "start_time": "2024-09-27T15:51:37.531Z"
   },
   {
    "duration": 20,
    "start_time": "2024-09-27T15:51:37.571Z"
   },
   {
    "duration": 9,
    "start_time": "2024-09-27T15:51:37.593Z"
   },
   {
    "duration": 18,
    "start_time": "2024-09-27T15:51:37.604Z"
   },
   {
    "duration": 13,
    "start_time": "2024-09-27T15:51:37.623Z"
   },
   {
    "duration": 5,
    "start_time": "2024-09-27T15:51:37.637Z"
   },
   {
    "duration": 149,
    "start_time": "2024-09-27T15:51:37.644Z"
   },
   {
    "duration": 108,
    "start_time": "2024-09-27T15:51:37.796Z"
   },
   {
    "duration": 97,
    "start_time": "2024-09-27T15:51:37.906Z"
   },
   {
    "duration": 108,
    "start_time": "2024-09-27T15:51:38.006Z"
   },
   {
    "duration": 12280,
    "start_time": "2024-09-27T15:51:38.116Z"
   },
   {
    "duration": 804,
    "start_time": "2024-09-27T15:52:40.707Z"
   },
   {
    "duration": 26,
    "start_time": "2024-09-27T15:52:41.513Z"
   },
   {
    "duration": 52,
    "start_time": "2024-09-27T15:52:41.541Z"
   },
   {
    "duration": 6,
    "start_time": "2024-09-27T15:52:41.596Z"
   },
   {
    "duration": 9,
    "start_time": "2024-09-27T15:52:41.603Z"
   },
   {
    "duration": 19,
    "start_time": "2024-09-27T15:52:41.614Z"
   },
   {
    "duration": 13,
    "start_time": "2024-09-27T15:52:41.635Z"
   },
   {
    "duration": 5,
    "start_time": "2024-09-27T15:52:41.650Z"
   },
   {
    "duration": 142,
    "start_time": "2024-09-27T15:52:41.656Z"
   },
   {
    "duration": 110,
    "start_time": "2024-09-27T15:52:41.800Z"
   },
   {
    "duration": 175,
    "start_time": "2024-09-27T15:52:41.912Z"
   },
   {
    "duration": 113,
    "start_time": "2024-09-27T15:52:42.090Z"
   },
   {
    "duration": 12123,
    "start_time": "2024-09-27T15:52:42.205Z"
   },
   {
    "duration": 744,
    "start_time": "2024-09-27T15:53:13.464Z"
   },
   {
    "duration": 25,
    "start_time": "2024-09-27T15:53:14.210Z"
   },
   {
    "duration": 49,
    "start_time": "2024-09-27T15:53:14.237Z"
   },
   {
    "duration": 7,
    "start_time": "2024-09-27T15:53:14.289Z"
   },
   {
    "duration": 12,
    "start_time": "2024-09-27T15:53:14.298Z"
   },
   {
    "duration": 21,
    "start_time": "2024-09-27T15:53:14.311Z"
   },
   {
    "duration": 13,
    "start_time": "2024-09-27T15:53:14.334Z"
   },
   {
    "duration": 4,
    "start_time": "2024-09-27T15:53:14.349Z"
   },
   {
    "duration": 119,
    "start_time": "2024-09-27T15:53:14.386Z"
   },
   {
    "duration": 108,
    "start_time": "2024-09-27T15:53:14.508Z"
   },
   {
    "duration": 185,
    "start_time": "2024-09-27T15:53:14.618Z"
   },
   {
    "duration": 108,
    "start_time": "2024-09-27T15:53:14.807Z"
   },
   {
    "duration": 12131,
    "start_time": "2024-09-27T15:53:14.917Z"
   },
   {
    "duration": 831,
    "start_time": "2024-09-27T15:55:00.894Z"
   },
   {
    "duration": 27,
    "start_time": "2024-09-27T15:55:01.727Z"
   },
   {
    "duration": 43,
    "start_time": "2024-09-27T15:55:01.755Z"
   },
   {
    "duration": 6,
    "start_time": "2024-09-27T15:55:01.801Z"
   },
   {
    "duration": 9,
    "start_time": "2024-09-27T15:55:01.809Z"
   },
   {
    "duration": 19,
    "start_time": "2024-09-27T15:55:01.819Z"
   },
   {
    "duration": 12,
    "start_time": "2024-09-27T15:55:01.839Z"
   },
   {
    "duration": 4,
    "start_time": "2024-09-27T15:55:01.853Z"
   },
   {
    "duration": 110,
    "start_time": "2024-09-27T15:55:01.888Z"
   },
   {
    "duration": 110,
    "start_time": "2024-09-27T15:55:02.001Z"
   },
   {
    "duration": 98,
    "start_time": "2024-09-27T15:55:02.113Z"
   },
   {
    "duration": 109,
    "start_time": "2024-09-27T15:55:02.288Z"
   },
   {
    "duration": 14191,
    "start_time": "2024-09-27T15:55:02.398Z"
   },
   {
    "duration": 811,
    "start_time": "2024-09-27T15:57:49.287Z"
   },
   {
    "duration": 26,
    "start_time": "2024-09-27T15:57:50.100Z"
   },
   {
    "duration": 43,
    "start_time": "2024-09-27T15:57:50.128Z"
   },
   {
    "duration": 7,
    "start_time": "2024-09-27T15:57:50.186Z"
   },
   {
    "duration": 10,
    "start_time": "2024-09-27T15:57:50.195Z"
   },
   {
    "duration": 20,
    "start_time": "2024-09-27T15:57:50.206Z"
   },
   {
    "duration": 13,
    "start_time": "2024-09-27T15:57:50.228Z"
   },
   {
    "duration": 5,
    "start_time": "2024-09-27T15:57:50.242Z"
   },
   {
    "duration": 145,
    "start_time": "2024-09-27T15:57:50.249Z"
   },
   {
    "duration": 108,
    "start_time": "2024-09-27T15:57:50.397Z"
   },
   {
    "duration": 103,
    "start_time": "2024-09-27T15:57:50.507Z"
   },
   {
    "duration": 103,
    "start_time": "2024-09-27T15:57:50.611Z"
   },
   {
    "duration": 346,
    "start_time": "2024-09-27T15:57:50.716Z"
   },
   {
    "duration": 29,
    "start_time": "2024-09-27T15:59:56.470Z"
   },
   {
    "duration": 784,
    "start_time": "2024-09-27T16:00:15.625Z"
   },
   {
    "duration": 26,
    "start_time": "2024-09-27T16:00:16.411Z"
   },
   {
    "duration": 48,
    "start_time": "2024-09-27T16:00:16.439Z"
   },
   {
    "duration": 7,
    "start_time": "2024-09-27T16:00:16.488Z"
   },
   {
    "duration": 9,
    "start_time": "2024-09-27T16:00:16.498Z"
   },
   {
    "duration": 19,
    "start_time": "2024-09-27T16:00:16.508Z"
   },
   {
    "duration": 13,
    "start_time": "2024-09-27T16:00:16.529Z"
   },
   {
    "duration": 4,
    "start_time": "2024-09-27T16:00:16.544Z"
   },
   {
    "duration": 145,
    "start_time": "2024-09-27T16:00:16.550Z"
   },
   {
    "duration": 111,
    "start_time": "2024-09-27T16:00:16.697Z"
   },
   {
    "duration": 100,
    "start_time": "2024-09-27T16:00:16.810Z"
   },
   {
    "duration": 102,
    "start_time": "2024-09-27T16:00:16.987Z"
   },
   {
    "duration": 31,
    "start_time": "2024-09-27T16:00:17.091Z"
   },
   {
    "duration": 790,
    "start_time": "2024-09-30T13:41:50.719Z"
   },
   {
    "duration": 38,
    "start_time": "2024-09-30T13:41:51.512Z"
   },
   {
    "duration": 40,
    "start_time": "2024-09-30T13:41:51.555Z"
   },
   {
    "duration": 8,
    "start_time": "2024-09-30T13:41:51.596Z"
   },
   {
    "duration": 20,
    "start_time": "2024-09-30T13:41:51.606Z"
   },
   {
    "duration": 29,
    "start_time": "2024-09-30T13:41:51.628Z"
   },
   {
    "duration": 18,
    "start_time": "2024-09-30T13:41:51.660Z"
   },
   {
    "duration": 5,
    "start_time": "2024-09-30T13:41:51.680Z"
   },
   {
    "duration": 250,
    "start_time": "2024-09-30T13:41:51.689Z"
   },
   {
    "duration": 108,
    "start_time": "2024-09-30T13:41:51.942Z"
   },
   {
    "duration": 204,
    "start_time": "2024-09-30T13:41:52.053Z"
   },
   {
    "duration": 94,
    "start_time": "2024-09-30T13:41:52.260Z"
   },
   {
    "duration": 168,
    "start_time": "2024-09-30T13:41:52.356Z"
   },
   {
    "duration": 7,
    "start_time": "2024-09-30T16:30:14.477Z"
   },
   {
    "duration": 813,
    "start_time": "2024-10-01T00:54:08.412Z"
   },
   {
    "duration": 29,
    "start_time": "2024-10-01T00:54:09.228Z"
   },
   {
    "duration": 47,
    "start_time": "2024-10-01T00:54:09.258Z"
   },
   {
    "duration": 6,
    "start_time": "2024-10-01T00:54:09.308Z"
   },
   {
    "duration": 8,
    "start_time": "2024-10-01T00:54:09.316Z"
   },
   {
    "duration": 19,
    "start_time": "2024-10-01T00:54:09.326Z"
   },
   {
    "duration": 21,
    "start_time": "2024-10-01T00:54:09.346Z"
   },
   {
    "duration": 4,
    "start_time": "2024-10-01T00:54:09.369Z"
   },
   {
    "duration": 141,
    "start_time": "2024-10-01T00:54:09.375Z"
   },
   {
    "duration": 110,
    "start_time": "2024-10-01T00:54:09.519Z"
   },
   {
    "duration": 177,
    "start_time": "2024-10-01T00:54:09.631Z"
   },
   {
    "duration": 107,
    "start_time": "2024-10-01T00:54:09.813Z"
   },
   {
    "duration": 28,
    "start_time": "2024-10-01T00:54:09.922Z"
   },
   {
    "duration": 740,
    "start_time": "2024-10-01T01:00:13.267Z"
   },
   {
    "duration": 25,
    "start_time": "2024-10-01T01:00:14.009Z"
   },
   {
    "duration": 37,
    "start_time": "2024-10-01T01:00:14.036Z"
   },
   {
    "duration": 7,
    "start_time": "2024-10-01T01:00:14.075Z"
   },
   {
    "duration": 28,
    "start_time": "2024-10-01T01:00:14.084Z"
   },
   {
    "duration": 21,
    "start_time": "2024-10-01T01:00:14.113Z"
   },
   {
    "duration": 28,
    "start_time": "2024-10-01T01:00:14.136Z"
   },
   {
    "duration": 5,
    "start_time": "2024-10-01T01:00:14.166Z"
   },
   {
    "duration": 142,
    "start_time": "2024-10-01T01:00:14.174Z"
   },
   {
    "duration": 108,
    "start_time": "2024-10-01T01:00:14.318Z"
   },
   {
    "duration": 101,
    "start_time": "2024-10-01T01:00:14.427Z"
   },
   {
    "duration": 106,
    "start_time": "2024-10-01T01:00:14.530Z"
   },
   {
    "duration": 31,
    "start_time": "2024-10-01T01:00:14.705Z"
   },
   {
    "duration": 814,
    "start_time": "2024-10-01T14:18:48.211Z"
   },
   {
    "duration": 41,
    "start_time": "2024-10-01T14:18:49.028Z"
   },
   {
    "duration": 39,
    "start_time": "2024-10-01T14:18:49.071Z"
   },
   {
    "duration": 7,
    "start_time": "2024-10-01T14:18:49.113Z"
   },
   {
    "duration": 9,
    "start_time": "2024-10-01T14:18:49.122Z"
   },
   {
    "duration": 24,
    "start_time": "2024-10-01T14:18:49.132Z"
   },
   {
    "duration": 5,
    "start_time": "2024-10-01T14:18:49.158Z"
   },
   {
    "duration": 113,
    "start_time": "2024-10-01T14:18:49.186Z"
   },
   {
    "duration": 109,
    "start_time": "2024-10-01T14:18:49.301Z"
   },
   {
    "duration": 96,
    "start_time": "2024-10-01T14:18:49.413Z"
   },
   {
    "duration": 177,
    "start_time": "2024-10-01T14:18:49.511Z"
   },
   {
    "duration": 224,
    "start_time": "2024-10-01T14:18:49.690Z"
   },
   {
    "duration": 19,
    "start_time": "2024-10-01T14:20:28.063Z"
   },
   {
    "duration": 20823,
    "start_time": "2024-10-01T14:20:44.878Z"
   },
   {
    "duration": 33,
    "start_time": "2024-10-01T14:22:02.660Z"
   },
   {
    "duration": 9881,
    "start_time": "2024-10-01T14:22:41.775Z"
   },
   {
    "duration": 37,
    "start_time": "2024-10-01T14:22:53.293Z"
   },
   {
    "duration": 21,
    "start_time": "2024-10-01T14:23:41.120Z"
   },
   {
    "duration": 10824,
    "start_time": "2024-10-01T14:23:57.975Z"
   },
   {
    "duration": 539,
    "start_time": "2024-10-01T14:25:25.059Z"
   },
   {
    "duration": 862,
    "start_time": "2024-10-01T14:26:16.323Z"
   },
   {
    "duration": 45,
    "start_time": "2024-10-01T14:26:17.187Z"
   },
   {
    "duration": 38,
    "start_time": "2024-10-01T14:26:17.235Z"
   },
   {
    "duration": 6,
    "start_time": "2024-10-01T14:26:17.275Z"
   },
   {
    "duration": 14,
    "start_time": "2024-10-01T14:26:17.287Z"
   },
   {
    "duration": 30,
    "start_time": "2024-10-01T14:26:17.303Z"
   },
   {
    "duration": 5,
    "start_time": "2024-10-01T14:26:17.335Z"
   },
   {
    "duration": 78,
    "start_time": "2024-10-01T14:26:17.341Z"
   },
   {
    "duration": 123,
    "start_time": "2024-10-01T14:26:17.421Z"
   },
   {
    "duration": 153,
    "start_time": "2024-10-01T14:26:17.547Z"
   },
   {
    "duration": 118,
    "start_time": "2024-10-01T14:26:17.704Z"
   },
   {
    "duration": 578,
    "start_time": "2024-10-01T14:26:17.824Z"
   },
   {
    "duration": 867,
    "start_time": "2024-10-01T14:28:03.405Z"
   },
   {
    "duration": 28,
    "start_time": "2024-10-01T14:28:04.276Z"
   },
   {
    "duration": 39,
    "start_time": "2024-10-01T14:28:04.307Z"
   },
   {
    "duration": 7,
    "start_time": "2024-10-01T14:28:04.349Z"
   },
   {
    "duration": 10,
    "start_time": "2024-10-01T14:28:04.358Z"
   },
   {
    "duration": 28,
    "start_time": "2024-10-01T14:28:04.387Z"
   },
   {
    "duration": 6,
    "start_time": "2024-10-01T14:28:04.417Z"
   },
   {
    "duration": 87,
    "start_time": "2024-10-01T14:28:04.424Z"
   },
   {
    "duration": 120,
    "start_time": "2024-10-01T14:28:04.512Z"
   },
   {
    "duration": 177,
    "start_time": "2024-10-01T14:28:04.635Z"
   },
   {
    "duration": 111,
    "start_time": "2024-10-01T14:28:04.814Z"
   },
   {
    "duration": 576,
    "start_time": "2024-10-01T14:28:04.928Z"
   },
   {
    "duration": 741,
    "start_time": "2024-10-01T16:56:04.382Z"
   },
   {
    "duration": 26,
    "start_time": "2024-10-01T16:56:05.125Z"
   },
   {
    "duration": 46,
    "start_time": "2024-10-01T16:56:05.153Z"
   },
   {
    "duration": 7,
    "start_time": "2024-10-01T16:56:05.201Z"
   },
   {
    "duration": 9,
    "start_time": "2024-10-01T16:56:05.210Z"
   },
   {
    "duration": 23,
    "start_time": "2024-10-01T16:56:05.220Z"
   },
   {
    "duration": 4,
    "start_time": "2024-10-01T16:56:05.245Z"
   },
   {
    "duration": 138,
    "start_time": "2024-10-01T16:56:05.251Z"
   },
   {
    "duration": 109,
    "start_time": "2024-10-01T16:56:05.392Z"
   },
   {
    "duration": 96,
    "start_time": "2024-10-01T16:56:05.503Z"
   },
   {
    "duration": 108,
    "start_time": "2024-10-01T16:56:05.601Z"
   },
   {
    "duration": 676,
    "start_time": "2024-10-01T16:56:05.711Z"
   }
  ],
  "kernelspec": {
   "display_name": "Python 3 (ipykernel)",
   "language": "python",
   "name": "python3"
  },
  "language_info": {
   "codemirror_mode": {
    "name": "ipython",
    "version": 3
   },
   "file_extension": ".py",
   "mimetype": "text/x-python",
   "name": "python",
   "nbconvert_exporter": "python",
   "pygments_lexer": "ipython3",
   "version": "3.10.11"
  },
  "toc": {
   "base_numbering": 1,
   "nav_menu": {},
   "number_sections": true,
   "sideBar": true,
   "skip_h1_title": true,
   "title_cell": "Table of Contents",
   "title_sidebar": "Contents",
   "toc_cell": false,
   "toc_position": {},
   "toc_section_display": true,
   "toc_window_display": false
  }
 },
 "nbformat": 4,
 "nbformat_minor": 4
}
