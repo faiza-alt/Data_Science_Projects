{
 "cells": [
  {
   "cell_type": "markdown",
   "metadata": {},
   "source": [
    "# Optimal Oil Well Placement for OilyGiant Mining Company Using Linear Regression and Bootstrapping"
   ]
  },
  {
   "cell_type": "markdown",
   "metadata": {},
   "source": [
    "<b>Introduction:</b>\n",
    "\n",
    "This project involves determining the most profitable location for drilling new oil wells for OilyGiant. Using geological exploration data from three regions, we will develop linear regression models to predict the volume of oil reserves. Based on these predictions, we will calculate the potential profit, analyze risks using bootstrapping, and choose the best region for well development. The business constraints include a budget of $100 million for 200 wells and the need for risk of losses to remain below 2.5%."
   ]
  },
  {
   "cell_type": "markdown",
   "metadata": {},
   "source": [
    "# Data Loading and Preparation"
   ]
  },
  {
   "cell_type": "code",
   "execution_count": 1,
   "metadata": {},
   "outputs": [
    {
     "name": "stdout",
     "output_type": "stream",
     "text": [
      "      id        f0        f1        f2     product\n",
      "0  txEyH  0.705745 -0.497823  1.221170  105.280062\n",
      "1  2acmU  1.334711 -0.340164  4.365080   73.037750\n",
      "2  409Wp  1.022732  0.151990  1.419926   85.265647\n",
      "3  iJLyR -0.032172  0.139033  2.978566  168.620776\n",
      "4  Xdl7t  1.988431  0.155413  4.751769  154.036647\n",
      "      id         f0         f1        f2     product\n",
      "0  kBEdx -15.001348  -8.276000 -0.005876    3.179103\n",
      "1  62mP7  14.272088  -3.475083  0.999183   26.953261\n",
      "2  vyE1P   6.263187  -5.948386  5.001160  134.766305\n",
      "3  KcrkZ -13.081196 -11.506057  4.999415  137.945408\n",
      "4  AHL4O  12.702195  -8.147433  5.004363  134.766305\n",
      "      id        f0        f1        f2     product\n",
      "0  fwXo0 -1.146987  0.963328 -0.828965   27.758673\n",
      "1  WJtFt  0.262778  0.269839 -2.530187   56.069697\n",
      "2  ovLUW  0.194587  0.289035 -5.586433   62.871910\n",
      "3  q6cA6  2.236060 -0.553760  0.930038  114.572842\n",
      "4  WPMUX -0.515993  1.716266  5.899011  149.600746\n"
     ]
    }
   ],
   "source": [
    "import pandas as pd\n",
    "from sklearn.model_selection import train_test_split\n",
    "from sklearn.linear_model import LinearRegression\n",
    "from sklearn.metrics import mean_squared_error\n",
    "import numpy as np\n",
    "\n",
    "# Load datasets for three regions\n",
    "data_0 = pd.read_csv('/datasets/geo_data_0.csv')\n",
    "data_1 = pd.read_csv('/datasets/geo_data_1.csv')\n",
    "data_2 = pd.read_csv('/datasets/geo_data_2.csv')\n",
    "\n",
    "# Inspect datasets\n",
    "print(data_0.head())\n",
    "print(data_1.head())\n",
    "print(data_2.head())\n"
   ]
  },
  {
   "cell_type": "markdown",
   "metadata": {},
   "source": [
    "<b>Explanation:</b>\n",
    "\n",
    "\n",
    "We load the data for the three regions and display the first few rows to understand the structure (columns: id, f0, f1, f2, and product).\n",
    "\n",
    "\n",
    "<b>Observations from the Data:</b>\n",
    "\n",
    "Region 0:\n",
    "\n",
    "The feature values (f0, f1, f2) seem to range around small positive and negative numbers.\n",
    "Oil reserves (product) have a wide range, from smaller volumes (~73 thousand barrels) to high volumes (168 thousand barrels).\n",
    "\n",
    "Region 1:\n",
    "\n",
    "The feature values (f0, f1, f2) are more extreme, with large negative values and large positive values, such as f0 ranging from -15 to 14.\n",
    "The product (oil reserves) shows low to moderate values, generally below 150 thousand barrels.\n",
    "\n",
    "Region 2:\n",
    "The feature values (f0, f1, f2) show moderate variations, with some extremes in f2 (up to 5.9), and f1 and f0 showing a more centered distribution.\n",
    "Oil reserves here show a broad range, from very low (27 thousand barrels) to quite high (149 thousand barrels).\n",
    "\n",
    "From the initial inspection, Region 1 has distinct extreme feature values, while Regions 0 and 2 appear to have less dramatic variations in their features. All regions demonstrate variability in their oil reserves (target), but Regions 0 and 2 seem to have more wells with higher reserve predictions based on these samples."
   ]
  },
  {
   "cell_type": "markdown",
   "metadata": {},
   "source": [
    "# Splitting Data into Training and Validation Sets"
   ]
  },
  {
   "cell_type": "code",
   "execution_count": 2,
   "metadata": {},
   "outputs": [],
   "source": [
    "# Split the data for each region into training and validation sets (75:25)\n",
    "def split_data(data):\n",
    "    features = data.drop(columns=['product', 'id'])\n",
    "    target = data['product']\n",
    "    return train_test_split(features, target, test_size=0.25, random_state=42)\n",
    "\n",
    "X_train_0, X_val_0, y_train_0, y_val_0 = split_data(data_0)\n",
    "X_train_1, X_val_1, y_train_1, y_val_1 = split_data(data_1)\n",
    "X_train_2, X_val_2, y_train_2, y_val_2 = split_data(data_2)\n"
   ]
  },
  {
   "cell_type": "markdown",
   "metadata": {},
   "source": [
    "<b>Explanation:</b>\n",
    "\n",
    "Each dataset is split into training (75%) and validation (25%) sets. Features are f0, f1, and f2, while product is the target variable (oil reserves).\n",
    "\n",
    "\n",
    "This code systematically prepares the datasets for model training and evaluation by splitting each region's data into training (75%) and validation (25%) sets. The training sets (X_train and y_train) are used to train the model, while the validation sets (X_val and y_val) are reserved for assessing the model's predictive performance."
   ]
  },
  {
   "cell_type": "markdown",
   "metadata": {},
   "source": [
    "# Model Training and Validation"
   ]
  },
  {
   "cell_type": "code",
   "execution_count": 3,
   "metadata": {},
   "outputs": [
    {
     "name": "stdout",
     "output_type": "stream",
     "text": [
      "Region 0 - RMSE: 37.756600350261685, Avg predicted reserves: 92.3987999065777\n",
      "Region 1 - RMSE: 0.890280100102884, Avg predicted reserves: 68.71287803913762\n",
      "Region 2 - RMSE: 40.14587231134218, Avg predicted reserves: 94.77102387765939\n"
     ]
    }
   ],
   "source": [
    "# Train the model using Linear Regression\n",
    "def train_and_evaluate(X_train, y_train, X_val, y_val):\n",
    "    model = LinearRegression()\n",
    "    model.fit(X_train, y_train)\n",
    "    predictions = model.predict(X_val)\n",
    "    rmse = mean_squared_error(y_val, predictions, squared=False)\n",
    "    return predictions, rmse\n",
    "\n",
    "pred_0, rmse_0 = train_and_evaluate(X_train_0, y_train_0, X_val_0, y_val_0)\n",
    "pred_1, rmse_1 = train_and_evaluate(X_train_1, y_train_1, X_val_1, y_val_1)\n",
    "pred_2, rmse_2 = train_and_evaluate(X_train_2, y_train_2, X_val_2, y_val_2)\n",
    "\n",
    "# Print RMSE and average predicted volume for each region\n",
    "print(f\"Region 0 - RMSE: {rmse_0}, Avg predicted reserves: {pred_0.mean()}\")\n",
    "print(f\"Region 1 - RMSE: {rmse_1}, Avg predicted reserves: {pred_1.mean()}\")\n",
    "print(f\"Region 2 - RMSE: {rmse_2}, Avg predicted reserves: {pred_2.mean()}\")\n",
    "\n"
   ]
  },
  {
   "cell_type": "markdown",
   "metadata": {},
   "source": [
    "\n",
    "<b>Intermediate Results:</b>\n",
    "\n",
    "Region 1 stands out with the lowest RMSE (0.89), indicating the most accurate and reliable predictions among the three regions.\n",
    "\n",
    "Regions 0 and 2 have much higher RMSE values (37.76 and 40.15, respectively), which suggest that the linear regression model struggles to make precise predictions in these regions.\n"
   ]
  },
  {
   "cell_type": "markdown",
   "metadata": {},
   "source": [
    "# Profit Calculation Preparation"
   ]
  },
  {
   "cell_type": "code",
   "execution_count": 4,
   "metadata": {},
   "outputs": [
    {
     "name": "stdout",
     "output_type": "stream",
     "text": [
      "Sufficient reserves per well: 111.11111111111111 thousand barrels\n"
     ]
    }
   ],
   "source": [
    "# Constants\n",
    "BUDGET = 100_000_000  # 100 million USD\n",
    "WELL_COST = BUDGET / 200  # Budget per well\n",
    "REVENUE_PER_BARREL = 4500  # Revenue per 1000 barrels\n",
    "\n",
    "# Sufficient reserves for profit\n",
    "sufficient_reserves = WELL_COST / REVENUE_PER_BARREL\n",
    "print(f\"Sufficient reserves per well: {sufficient_reserves} thousand barrels\")\n",
    "\n"
   ]
  },
  {
   "cell_type": "markdown",
   "metadata": {},
   "source": [
    "# Profit Calculation Function"
   ]
  },
  {
   "cell_type": "code",
   "execution_count": 5,
   "metadata": {},
   "outputs": [
    {
     "name": "stdout",
     "output_type": "stream",
     "text": [
      "Region 0 - Profit: 33591411.14462179\n",
      "Region 1 - Profit: 24150866.966815114\n",
      "Region 2 - Profit: 25985717.59374112\n"
     ]
    }
   ],
   "source": [
    "\n",
    "\n",
    "def calculate_profit(predictions, actual_reserves, n_wells=200):\n",
    "    # Ensure indices align by resetting them\n",
    "    predictions = predictions.reset_index(drop=True)\n",
    "    actual_reserves = actual_reserves.reset_index(drop=True)\n",
    "    \n",
    "    # Select the wells with the highest predicted reserves\n",
    "    top_well_indices = predictions.sort_values(ascending=False).head(n_wells).index\n",
    "    \n",
    "    # Sum the actual reserves for these wells\n",
    "    total_reserves = actual_reserves.loc[top_well_indices].sum()\n",
    "    \n",
    "    # Calculate the profit\n",
    "    profit = total_reserves * REVENUE_PER_BARREL - BUDGET\n",
    "    return profit\n",
    "\n",
    "\n",
    "# Calculate profit for each region\n",
    "profit_0 = calculate_profit(pd.Series(pred_0), y_val_0)\n",
    "profit_1 = calculate_profit(pd.Series(pred_1), y_val_1)\n",
    "profit_2 = calculate_profit(pd.Series(pred_2), y_val_2)\n",
    "\n",
    "print(f\"Region 0 - Profit: {profit_0}\")\n",
    "print(f\"Region 1 - Profit: {profit_1}\")\n",
    "print(f\"Region 2 - Profit: {profit_2}\")\n",
    "\n"
   ]
  },
  {
   "cell_type": "markdown",
   "metadata": {},
   "source": [
    "<b>Analysis and Implications\n",
    "\n",
    "Profitability vs. Prediction Accuracy:</b>\n",
    "\n",
    "Region 0 has the highest predicted profit, but it also has a higher RMSE, indicating greater prediction error. This means there is more uncertainty in the predicted reserves, which could lead to variability in actual profits.\n",
    "\n",
    "Region 1, although it has the lowest profit, has the most accurate predictions (lowest RMSE). This suggests that the predicted profit in Region 1 is more reliable, with a lower risk of significant deviations.\n",
    "\n",
    "Region 2 strikes a balance with reasonably high profit and moderate prediction error, making it a potential candidate for further exploration if balanced against the risk.\n",
    "\n",
    "<b>Risk Assessment:</b>\n",
    "\n",
    "Given the higher profitability of Regions 0 and 2, they appear attractive options. However, the greater prediction error means the risk of losses is also higher if the actual reserves fall short of predictions.\n",
    "\n",
    "Region 1, on the other hand, might be safer due to its more consistent predictions, even though the average reserves and profit are lower."
   ]
  },
  {
   "cell_type": "markdown",
   "metadata": {},
   "source": [
    "# Risk and Profit Analysis using Bootstrapping"
   ]
  },
  {
   "cell_type": "code",
   "execution_count": 6,
   "metadata": {},
   "outputs": [
    {
     "name": "stdout",
     "output_type": "stream",
     "text": [
      "Region 0 - Mean Profit: 3995754.780542297, Confidence Interval: [-1104678.95331971  8974603.27717879], Risk of Loss: 6.0%\n",
      "Region 1 - Mean Profit: 4525765.942909006, Confidence Interval: [ 523094.09802734 8301463.13264741], Risk of Loss: 0.8999999999999999%\n",
      "Region 2 - Mean Profit: 3787059.0365973767, Confidence Interval: [-1277794.34988305  9079234.83221064], Risk of Loss: 7.5%\n",
      "The best region for development is Region 1.\n"
     ]
    }
   ],
   "source": [
    "\n",
    "# Set a random seed for reproducibility\n",
    "np.random.seed(42)\n",
    "\n",
    "def bootstrap_profit(predictions, actual_reserves, n_samples=500, n_wells=200, iterations=1000):\n",
    "    # Ensure indices align by resetting them\n",
    "    predictions = predictions.reset_index(drop=True)\n",
    "    actual_reserves = actual_reserves.reset_index(drop=True)\n",
    "    \n",
    "    profits = []\n",
    "    \n",
    "    for i in range(iterations):\n",
    "        # Randomly sample with replacement\n",
    "        sample_indices = np.random.choice(predictions.index, size=n_samples, replace=True)\n",
    "        sample_predictions = predictions.loc[sample_indices]\n",
    "        sample_actual_reserves = actual_reserves.loc[sample_indices]\n",
    "        \n",
    "        # Calculate profit using the top n_wells from sampled wells\n",
    "        profit = calculate_profit(sample_predictions, sample_actual_reserves, n_wells=n_wells)\n",
    "        profits.append(profit)\n",
    "    \n",
    "    # Calculate average profit and 95% confidence interval\n",
    "    profits = pd.Series(profits)\n",
    "    avg_profit = profits.mean()\n",
    "    confidence_interval = np.percentile(profits, [2.5, 97.5])\n",
    "    \n",
    "    # Calculate risk of loss (probability of negative profit)\n",
    "    risk_of_loss = (profits < 0).mean()\n",
    "    \n",
    "    return avg_profit, confidence_interval, risk_of_loss\n",
    "\n",
    "\n",
    "# Perform bootstrapping for each region\n",
    "mean_profit_0, conf_interval_0, risk_0 = bootstrap_profit(pd.Series(pred_0), y_val_0)\n",
    "mean_profit_1, conf_interval_1, risk_1 = bootstrap_profit(pd.Series(pred_1), y_val_1)\n",
    "mean_profit_2, conf_interval_2, risk_2 = bootstrap_profit(pd.Series(pred_2), y_val_2)\n",
    "\n",
    "# Print the results\n",
    "print(f\"Region 0 - Mean Profit: {mean_profit_0}, Confidence Interval: {conf_interval_0}, Risk of Loss: {risk_0*100}%\")\n",
    "print(f\"Region 1 - Mean Profit: {mean_profit_1}, Confidence Interval: {conf_interval_1}, Risk of Loss: {risk_1*100}%\")\n",
    "print(f\"Region 2 - Mean Profit: {mean_profit_2}, Confidence Interval: {conf_interval_2}, Risk of Loss: {risk_2*100}%\")\n",
    "\n",
    "\n",
    "\n",
    "\n",
    "# Final recommendation based on profits and risks\n",
    "if risk_0 < 2.5 and mean_profit_0 > max(mean_profit_1, mean_profit_2):\n",
    "    best_region = \"Region 0\"\n",
    "elif risk_1 < 2.5 and mean_profit_1 > max(mean_profit_0, mean_profit_2):\n",
    "    best_region = \"Region 1\"\n",
    "else:\n",
    "    best_region = \"Region 2\"\n",
    "\n",
    "print(f\"The best region for development is {best_region}.\")\n"
   ]
  },
  {
   "cell_type": "markdown",
   "metadata": {},
   "source": [
    "<b>Observations and Analysis</b>\n",
    "\n",
    "Mean Profit:\n",
    "\n",
    "Region 1 has the highest mean profit ($4,525,765.94), indicating that it offers the best expected financial return compared to Regions 0 and 2. This suggests that the wells in Region 1 are predicted to yield greater reserves or higher quality oil, leading to increased profitability.\n",
    "\n",
    "Confidence Interval:\n",
    "\n",
    "The confidence intervals provide insights into the range of expected profits for each region:\n",
    "\n",
    "Region 1's interval is notably positive, suggesting a high likelihood of profitable outcomes.\n",
    "In contrast, Region 0 and Region 2 have lower bounds that are negative, indicating that while there is potential for profit, there is also a significant risk of loss.\n",
    "\n",
    "The narrow confidence interval for Region 1 suggests more certainty in the profit estimates, making it a more attractive option for investment.\n",
    "\n",
    "Risk of Loss:\n",
    "\n",
    "The risk of loss in Region 1 is the lowest (0.009%), indicating that it has a very low probability of yielding a negative profit. This reinforces the conclusion that Region 1 is the safest option among the three regions.\n",
    "Regions 0 and 2 show higher risks of loss (0.06% and 0.075% respectively), suggesting that while they might have potential, they also come with greater financial uncertainty."
   ]
  },
  {
   "cell_type": "markdown",
   "metadata": {},
   "source": [
    "# Final Conclusion:"
   ]
  },
  {
   "cell_type": "markdown",
   "metadata": {},
   "source": [
    "\n",
    "\n",
    "Based on the comprehensive analysis using linear regression, profit calculations, and bootstrapping, here are the conclusions and recommendations for OilyGiant Mining Company regarding the optimal region for drilling new oil wells:\n",
    "\n",
    "Region 0:\n",
    "Highest Average Profit: Indicates the best potential financial returns.\n",
    "Greater Prediction Error: A higher RMSE suggests significant variability, increasing risk.\n",
    "Wider Confidence Interval: Implies less stability in profit predictions.\n",
    "Recommendation: Choose Region 0 if maximizing profit is the priority and the company can handle the associated variability.\n",
    "\n",
    "Region 1:\n",
    "Most Accurate Predictions: Lowest RMSE shows reliability.\n",
    "Lowest Average Profit: While it offers the most consistent returns, the profit is less than other regions.\n",
    "Narrowest Confidence Interval: Indicates stability and predictability.\n",
    "Recommendation: Opt for Region 1 if the focus is on stability and minimizing risk, even with lower average profits.\n",
    "\n",
    "Region 2:\n",
    "Moderate Profit Potential: A balanced option with reasonable profit and prediction stability.\n",
    "Moderate Prediction Error: RMSE and confidence interval provide a mix of risk and reward.\n",
    "Recommendation: Region 2 serves as a compromise for investors seeking a balance between profit potential and stability.\n",
    "\n",
    "Overall Recommendation:\n",
    "\n",
    "For OilyGiant Mining Company, if the goal is to maximize profit with manageable risk, Region 0 is recommended.\n",
    "If the priority is consistent returns with minimal risk, then Region 1 is the safer choice.\n",
    "Choose Region 2 for a balanced approach, offering a blend of potential profit and moderate stability.\n"
   ]
  },
  {
   "cell_type": "code",
   "execution_count": null,
   "metadata": {},
   "outputs": [],
   "source": []
  }
 ],
 "metadata": {
  "ExecuteTimeLog": [
   {
    "duration": 1376,
    "start_time": "2024-10-08T15:21:15.321Z"
   },
   {
    "duration": 169,
    "start_time": "2024-10-08T15:22:17.975Z"
   },
   {
    "duration": 302,
    "start_time": "2024-10-08T15:22:32.632Z"
   },
   {
    "duration": 27,
    "start_time": "2024-10-08T15:25:21.127Z"
   },
   {
    "duration": 25,
    "start_time": "2024-10-08T15:26:13.831Z"
   },
   {
    "duration": 3,
    "start_time": "2024-10-08T15:27:38.604Z"
   },
   {
    "duration": 14,
    "start_time": "2024-10-08T15:28:26.344Z"
   },
   {
    "duration": 8070,
    "start_time": "2024-10-08T15:29:06.858Z"
   },
   {
    "duration": 999,
    "start_time": "2024-10-08T16:05:12.952Z"
   },
   {
    "duration": 27,
    "start_time": "2024-10-08T16:05:13.953Z"
   },
   {
    "duration": 37,
    "start_time": "2024-10-08T16:05:13.982Z"
   },
   {
    "duration": 4,
    "start_time": "2024-10-08T16:05:14.023Z"
   },
   {
    "duration": 91,
    "start_time": "2024-10-08T16:05:14.029Z"
   },
   {
    "duration": 8156,
    "start_time": "2024-10-08T16:05:14.122Z"
   },
   {
    "duration": 161,
    "start_time": "2024-10-09T16:18:53.517Z"
   },
   {
    "duration": 1160,
    "start_time": "2024-10-09T16:19:16.980Z"
   },
   {
    "duration": 28,
    "start_time": "2024-10-09T16:19:18.142Z"
   },
   {
    "duration": 50,
    "start_time": "2024-10-09T16:19:18.172Z"
   },
   {
    "duration": 3,
    "start_time": "2024-10-09T16:19:18.225Z"
   },
   {
    "duration": 86,
    "start_time": "2024-10-09T16:19:18.231Z"
   },
   {
    "duration": 8093,
    "start_time": "2024-10-09T16:19:18.320Z"
   },
   {
    "duration": 25,
    "start_time": "2024-10-09T16:19:26.415Z"
   },
   {
    "duration": 1079,
    "start_time": "2024-10-09T18:46:27.708Z"
   },
   {
    "duration": 25,
    "start_time": "2024-10-09T18:46:28.789Z"
   },
   {
    "duration": 28,
    "start_time": "2024-10-09T18:46:28.817Z"
   },
   {
    "duration": 4,
    "start_time": "2024-10-09T18:46:28.847Z"
   },
   {
    "duration": 13,
    "start_time": "2024-10-09T18:46:28.930Z"
   },
   {
    "duration": 8030,
    "start_time": "2024-10-09T18:46:28.944Z"
   },
   {
    "duration": 1219,
    "start_time": "2024-10-10T01:04:33.706Z"
   },
   {
    "duration": 28,
    "start_time": "2024-10-10T01:04:34.927Z"
   },
   {
    "duration": 54,
    "start_time": "2024-10-10T01:04:34.956Z"
   },
   {
    "duration": 3,
    "start_time": "2024-10-10T01:04:35.012Z"
   },
   {
    "duration": 90,
    "start_time": "2024-10-10T01:04:35.017Z"
   },
   {
    "duration": 8504,
    "start_time": "2024-10-10T01:04:35.110Z"
   },
   {
    "duration": 993,
    "start_time": "2024-10-10T01:38:11.074Z"
   },
   {
    "duration": 40,
    "start_time": "2024-10-10T01:38:12.070Z"
   },
   {
    "duration": 26,
    "start_time": "2024-10-10T01:38:12.112Z"
   },
   {
    "duration": 5,
    "start_time": "2024-10-10T01:38:12.206Z"
   },
   {
    "duration": 14,
    "start_time": "2024-10-10T01:38:12.212Z"
   },
   {
    "duration": 8156,
    "start_time": "2024-10-10T01:38:12.227Z"
   },
   {
    "duration": 9,
    "start_time": "2024-10-10T07:48:29.724Z"
   },
   {
    "duration": 1099,
    "start_time": "2024-10-10T17:01:59.499Z"
   },
   {
    "duration": 24,
    "start_time": "2024-10-10T17:02:00.601Z"
   },
   {
    "duration": 24,
    "start_time": "2024-10-10T17:02:00.627Z"
   },
   {
    "duration": 4,
    "start_time": "2024-10-10T17:02:00.652Z"
   },
   {
    "duration": 414,
    "start_time": "2024-10-10T17:02:00.725Z"
   },
   {
    "duration": 0,
    "start_time": "2024-10-10T17:02:01.141Z"
   },
   {
    "duration": 934,
    "start_time": "2024-10-10T17:10:35.822Z"
   },
   {
    "duration": 25,
    "start_time": "2024-10-10T17:10:36.758Z"
   },
   {
    "duration": 49,
    "start_time": "2024-10-10T17:10:36.784Z"
   },
   {
    "duration": 4,
    "start_time": "2024-10-10T17:10:36.834Z"
   },
   {
    "duration": 440,
    "start_time": "2024-10-10T17:10:36.841Z"
   },
   {
    "duration": 0,
    "start_time": "2024-10-10T17:10:37.283Z"
   },
   {
    "duration": 14,
    "start_time": "2024-10-10T17:29:36.686Z"
   },
   {
    "duration": 4547,
    "start_time": "2024-10-10T17:31:39.634Z"
   },
   {
    "duration": 1003,
    "start_time": "2024-10-10T17:31:53.654Z"
   },
   {
    "duration": 30,
    "start_time": "2024-10-10T17:31:54.659Z"
   },
   {
    "duration": 43,
    "start_time": "2024-10-10T17:31:54.691Z"
   },
   {
    "duration": 4,
    "start_time": "2024-10-10T17:31:54.738Z"
   },
   {
    "duration": 90,
    "start_time": "2024-10-10T17:31:54.744Z"
   },
   {
    "duration": 4595,
    "start_time": "2024-10-10T17:31:54.836Z"
   },
   {
    "duration": 992,
    "start_time": "2024-10-10T17:36:48.445Z"
   },
   {
    "duration": 25,
    "start_time": "2024-10-10T17:36:49.439Z"
   },
   {
    "duration": 60,
    "start_time": "2024-10-10T17:36:49.466Z"
   },
   {
    "duration": 3,
    "start_time": "2024-10-10T17:36:49.528Z"
   },
   {
    "duration": 3,
    "start_time": "2024-10-10T17:36:49.533Z"
   },
   {
    "duration": 6,
    "start_time": "2024-10-10T17:36:49.537Z"
   },
   {
    "duration": 3,
    "start_time": "2024-10-10T17:36:49.545Z"
   },
   {
    "duration": 964,
    "start_time": "2024-10-10T17:38:01.670Z"
   },
   {
    "duration": 24,
    "start_time": "2024-10-10T17:38:02.636Z"
   },
   {
    "duration": 65,
    "start_time": "2024-10-10T17:38:02.661Z"
   },
   {
    "duration": 3,
    "start_time": "2024-10-10T17:38:02.728Z"
   },
   {
    "duration": 3,
    "start_time": "2024-10-10T17:38:02.733Z"
   },
   {
    "duration": 88,
    "start_time": "2024-10-10T17:38:02.737Z"
   },
   {
    "duration": 0,
    "start_time": "2024-10-10T17:38:02.826Z"
   },
   {
    "duration": 6,
    "start_time": "2024-10-10T17:39:07.236Z"
   },
   {
    "duration": 5,
    "start_time": "2024-10-10T17:40:04.661Z"
   },
   {
    "duration": 335,
    "start_time": "2024-10-10T17:40:32.165Z"
   },
   {
    "duration": 415,
    "start_time": "2024-10-10T17:43:18.947Z"
   },
   {
    "duration": 76,
    "start_time": "2024-10-10T17:46:11.067Z"
   },
   {
    "duration": 960,
    "start_time": "2024-10-10T17:46:19.489Z"
   },
   {
    "duration": 26,
    "start_time": "2024-10-10T17:46:20.451Z"
   },
   {
    "duration": 60,
    "start_time": "2024-10-10T17:46:20.479Z"
   },
   {
    "duration": 5,
    "start_time": "2024-10-10T17:46:20.541Z"
   },
   {
    "duration": 4,
    "start_time": "2024-10-10T17:46:20.547Z"
   },
   {
    "duration": 435,
    "start_time": "2024-10-10T17:46:20.553Z"
   },
   {
    "duration": 0,
    "start_time": "2024-10-10T17:46:20.989Z"
   },
   {
    "duration": 2505,
    "start_time": "2024-10-10T17:50:46.343Z"
   },
   {
    "duration": 61,
    "start_time": "2024-10-10T17:53:05.285Z"
   },
   {
    "duration": 3,
    "start_time": "2024-10-10T17:53:08.564Z"
   },
   {
    "duration": 1077,
    "start_time": "2024-10-11T01:57:55.236Z"
   },
   {
    "duration": 27,
    "start_time": "2024-10-11T01:57:56.316Z"
   },
   {
    "duration": 37,
    "start_time": "2024-10-11T01:57:56.345Z"
   },
   {
    "duration": 3,
    "start_time": "2024-10-11T01:57:56.385Z"
   },
   {
    "duration": 100,
    "start_time": "2024-10-11T01:57:56.390Z"
   },
   {
    "duration": 3,
    "start_time": "2024-10-11T01:57:56.492Z"
   },
   {
    "duration": 4570,
    "start_time": "2024-10-11T01:57:56.496Z"
   },
   {
    "duration": 964,
    "start_time": "2024-10-11T02:00:16.349Z"
   },
   {
    "duration": 25,
    "start_time": "2024-10-11T02:00:17.315Z"
   },
   {
    "duration": 36,
    "start_time": "2024-10-11T02:00:17.341Z"
   },
   {
    "duration": 3,
    "start_time": "2024-10-11T02:00:17.380Z"
   },
   {
    "duration": 89,
    "start_time": "2024-10-11T02:00:17.384Z"
   },
   {
    "duration": 3,
    "start_time": "2024-10-11T02:00:17.475Z"
   },
   {
    "duration": 4544,
    "start_time": "2024-10-11T02:00:17.480Z"
   },
   {
    "duration": 5,
    "start_time": "2024-10-11T02:03:42.495Z"
   },
   {
    "duration": 4,
    "start_time": "2024-10-11T02:04:03.447Z"
   },
   {
    "duration": 348,
    "start_time": "2024-10-11T02:04:28.509Z"
   },
   {
    "duration": 57,
    "start_time": "2024-10-11T02:05:38.392Z"
   },
   {
    "duration": 986,
    "start_time": "2024-10-11T02:08:38.214Z"
   },
   {
    "duration": 28,
    "start_time": "2024-10-11T02:08:39.202Z"
   },
   {
    "duration": 46,
    "start_time": "2024-10-11T02:08:39.232Z"
   },
   {
    "duration": 3,
    "start_time": "2024-10-11T02:08:39.281Z"
   },
   {
    "duration": 4,
    "start_time": "2024-10-11T02:08:39.286Z"
   },
   {
    "duration": 78,
    "start_time": "2024-10-11T02:08:39.292Z"
   },
   {
    "duration": 246,
    "start_time": "2024-10-11T02:08:39.372Z"
   },
   {
    "duration": 153,
    "start_time": "2024-10-11T02:09:15.416Z"
   },
   {
    "duration": 66,
    "start_time": "2024-10-11T02:11:02.451Z"
   },
   {
    "duration": 63,
    "start_time": "2024-10-11T02:11:25.812Z"
   },
   {
    "duration": 5,
    "start_time": "2024-10-11T02:12:48.628Z"
   },
   {
    "duration": 3248,
    "start_time": "2024-10-11T02:13:05.029Z"
   },
   {
    "duration": 992,
    "start_time": "2024-10-11T02:14:24.611Z"
   },
   {
    "duration": 25,
    "start_time": "2024-10-11T02:14:25.605Z"
   },
   {
    "duration": 45,
    "start_time": "2024-10-11T02:14:25.632Z"
   },
   {
    "duration": 3,
    "start_time": "2024-10-11T02:14:25.680Z"
   },
   {
    "duration": 3,
    "start_time": "2024-10-11T02:14:25.685Z"
   },
   {
    "duration": 3,
    "start_time": "2024-10-11T02:14:25.690Z"
   },
   {
    "duration": 3267,
    "start_time": "2024-10-11T02:14:25.770Z"
   },
   {
    "duration": 3085,
    "start_time": "2024-10-11T02:16:37.052Z"
   },
   {
    "duration": 1134,
    "start_time": "2024-10-11T14:08:15.932Z"
   },
   {
    "duration": 25,
    "start_time": "2024-10-11T14:08:17.069Z"
   },
   {
    "duration": 26,
    "start_time": "2024-10-11T14:08:17.105Z"
   },
   {
    "duration": 72,
    "start_time": "2024-10-11T14:08:17.133Z"
   },
   {
    "duration": 4,
    "start_time": "2024-10-11T14:08:17.211Z"
   },
   {
    "duration": 3,
    "start_time": "2024-10-11T14:08:17.217Z"
   },
   {
    "duration": 420,
    "start_time": "2024-10-11T14:08:17.222Z"
   },
   {
    "duration": 999,
    "start_time": "2024-10-11T14:09:32.282Z"
   },
   {
    "duration": 33,
    "start_time": "2024-10-11T14:09:33.284Z"
   },
   {
    "duration": 26,
    "start_time": "2024-10-11T14:09:33.319Z"
   },
   {
    "duration": 4,
    "start_time": "2024-10-11T14:09:33.407Z"
   },
   {
    "duration": 6,
    "start_time": "2024-10-11T14:09:33.414Z"
   },
   {
    "duration": 5,
    "start_time": "2024-10-11T14:09:33.422Z"
   },
   {
    "duration": 814,
    "start_time": "2024-10-11T14:09:33.430Z"
   },
   {
    "duration": 973,
    "start_time": "2024-10-11T14:11:52.483Z"
   },
   {
    "duration": 28,
    "start_time": "2024-10-11T14:11:53.458Z"
   },
   {
    "duration": 35,
    "start_time": "2024-10-11T14:11:53.488Z"
   },
   {
    "duration": 79,
    "start_time": "2024-10-11T14:11:53.525Z"
   },
   {
    "duration": 3,
    "start_time": "2024-10-11T14:11:53.609Z"
   },
   {
    "duration": 4,
    "start_time": "2024-10-11T14:11:53.614Z"
   },
   {
    "duration": 830,
    "start_time": "2024-10-11T14:11:53.620Z"
   },
   {
    "duration": 1010,
    "start_time": "2024-10-11T14:14:17.010Z"
   },
   {
    "duration": 26,
    "start_time": "2024-10-11T14:14:18.022Z"
   },
   {
    "duration": 65,
    "start_time": "2024-10-11T14:14:18.049Z"
   },
   {
    "duration": 4,
    "start_time": "2024-10-11T14:14:18.116Z"
   },
   {
    "duration": 4,
    "start_time": "2024-10-11T14:14:18.121Z"
   },
   {
    "duration": 80,
    "start_time": "2024-10-11T14:14:18.127Z"
   },
   {
    "duration": 773,
    "start_time": "2024-10-11T14:14:18.208Z"
   },
   {
    "duration": 1207,
    "start_time": "2024-10-11T14:19:29.008Z"
   },
   {
    "duration": 37,
    "start_time": "2024-10-11T14:19:30.217Z"
   },
   {
    "duration": 59,
    "start_time": "2024-10-11T14:19:30.256Z"
   },
   {
    "duration": 3,
    "start_time": "2024-10-11T14:19:30.318Z"
   },
   {
    "duration": 93,
    "start_time": "2024-10-11T14:19:30.322Z"
   },
   {
    "duration": 397,
    "start_time": "2024-10-11T14:19:30.418Z"
   },
   {
    "duration": 16,
    "start_time": "2024-10-11T14:54:36.621Z"
   },
   {
    "duration": 20,
    "start_time": "2024-10-11T14:55:03.841Z"
   },
   {
    "duration": 258,
    "start_time": "2024-10-11T14:55:50.155Z"
   },
   {
    "duration": 283,
    "start_time": "2024-10-11T14:56:34.264Z"
   },
   {
    "duration": 377,
    "start_time": "2024-10-11T14:56:52.897Z"
   },
   {
    "duration": 2282,
    "start_time": "2024-10-11T14:57:20.267Z"
   },
   {
    "duration": 405,
    "start_time": "2024-10-11T14:57:48.733Z"
   },
   {
    "duration": 347,
    "start_time": "2024-10-11T14:58:45.766Z"
   },
   {
    "duration": 2679,
    "start_time": "2024-10-11T15:00:01.889Z"
   },
   {
    "duration": 1030,
    "start_time": "2024-10-11T15:01:04.422Z"
   },
   {
    "duration": 26,
    "start_time": "2024-10-11T15:01:05.454Z"
   },
   {
    "duration": 38,
    "start_time": "2024-10-11T15:01:05.482Z"
   },
   {
    "duration": 3,
    "start_time": "2024-10-11T15:01:05.524Z"
   },
   {
    "duration": 2986,
    "start_time": "2024-10-11T15:01:05.530Z"
   },
   {
    "duration": 413,
    "start_time": "2024-10-11T15:01:08.518Z"
   },
   {
    "duration": 1030,
    "start_time": "2024-10-11T15:44:02.425Z"
   },
   {
    "duration": 27,
    "start_time": "2024-10-11T15:44:03.458Z"
   },
   {
    "duration": 34,
    "start_time": "2024-10-11T15:44:03.487Z"
   },
   {
    "duration": 3,
    "start_time": "2024-10-11T15:44:03.525Z"
   },
   {
    "duration": 2846,
    "start_time": "2024-10-11T15:44:03.605Z"
   },
   {
    "duration": 3,
    "start_time": "2024-10-11T15:44:06.453Z"
   },
   {
    "duration": 1031,
    "start_time": "2024-10-11T15:53:37.415Z"
   },
   {
    "duration": 27,
    "start_time": "2024-10-11T15:53:38.448Z"
   },
   {
    "duration": 134,
    "start_time": "2024-10-11T15:53:38.476Z"
   },
   {
    "duration": 4,
    "start_time": "2024-10-11T15:53:38.613Z"
   },
   {
    "duration": 91,
    "start_time": "2024-10-11T15:53:38.618Z"
   },
   {
    "duration": 2801,
    "start_time": "2024-10-11T15:53:38.715Z"
   },
   {
    "duration": 4,
    "start_time": "2024-10-11T15:55:59.295Z"
   },
   {
    "duration": 1013,
    "start_time": "2024-10-11T15:56:05.654Z"
   },
   {
    "duration": 26,
    "start_time": "2024-10-11T15:56:06.669Z"
   },
   {
    "duration": 126,
    "start_time": "2024-10-11T15:56:06.697Z"
   },
   {
    "duration": 80,
    "start_time": "2024-10-11T15:56:06.825Z"
   },
   {
    "duration": 271,
    "start_time": "2024-10-11T15:56:06.910Z"
   },
   {
    "duration": 0,
    "start_time": "2024-10-11T15:56:07.183Z"
   },
   {
    "duration": 1010,
    "start_time": "2024-10-11T15:56:49.504Z"
   },
   {
    "duration": 27,
    "start_time": "2024-10-11T15:56:50.516Z"
   },
   {
    "duration": 83,
    "start_time": "2024-10-11T15:56:50.544Z"
   },
   {
    "duration": 4,
    "start_time": "2024-10-11T15:56:50.708Z"
   },
   {
    "duration": 19,
    "start_time": "2024-10-11T15:56:50.714Z"
   },
   {
    "duration": 284,
    "start_time": "2024-10-11T15:56:50.734Z"
   },
   {
    "duration": 983,
    "start_time": "2024-10-11T15:57:38.167Z"
   },
   {
    "duration": 26,
    "start_time": "2024-10-11T15:57:39.152Z"
   },
   {
    "duration": 129,
    "start_time": "2024-10-11T15:57:39.180Z"
   },
   {
    "duration": 4,
    "start_time": "2024-10-11T15:57:39.312Z"
   },
   {
    "duration": 92,
    "start_time": "2024-10-11T15:57:39.318Z"
   },
   {
    "duration": 2402,
    "start_time": "2024-10-11T15:57:39.412Z"
   },
   {
    "duration": 2388,
    "start_time": "2024-10-11T15:59:16.041Z"
   },
   {
    "duration": 6,
    "start_time": "2024-10-11T15:59:30.345Z"
   },
   {
    "duration": 2373,
    "start_time": "2024-10-11T15:59:44.437Z"
   },
   {
    "duration": 1005,
    "start_time": "2024-10-11T16:05:17.743Z"
   },
   {
    "duration": 28,
    "start_time": "2024-10-11T16:05:18.750Z"
   },
   {
    "duration": 247,
    "start_time": "2024-10-11T16:05:18.782Z"
   },
   {
    "duration": 76,
    "start_time": "2024-10-11T16:05:19.031Z"
   },
   {
    "duration": 19,
    "start_time": "2024-10-11T16:05:19.110Z"
   },
   {
    "duration": 2454,
    "start_time": "2024-10-11T16:05:19.130Z"
   },
   {
    "duration": 970,
    "start_time": "2024-10-11T16:06:08.964Z"
   },
   {
    "duration": 29,
    "start_time": "2024-10-11T16:06:09.936Z"
   },
   {
    "duration": 49,
    "start_time": "2024-10-11T16:06:09.967Z"
   },
   {
    "duration": 4,
    "start_time": "2024-10-11T16:06:10.019Z"
   },
   {
    "duration": 92,
    "start_time": "2024-10-11T16:06:10.025Z"
   },
   {
    "duration": 2480,
    "start_time": "2024-10-11T16:06:10.120Z"
   },
   {
    "duration": 969,
    "start_time": "2024-10-11T16:07:16.776Z"
   },
   {
    "duration": 26,
    "start_time": "2024-10-11T16:07:17.747Z"
   },
   {
    "duration": 234,
    "start_time": "2024-10-11T16:07:17.774Z"
   },
   {
    "duration": 4,
    "start_time": "2024-10-11T16:07:18.010Z"
   },
   {
    "duration": 93,
    "start_time": "2024-10-11T16:07:18.016Z"
   },
   {
    "duration": 2383,
    "start_time": "2024-10-11T16:07:18.111Z"
   },
   {
    "duration": 951,
    "start_time": "2024-10-11T16:07:38.797Z"
   },
   {
    "duration": 26,
    "start_time": "2024-10-11T16:07:39.751Z"
   },
   {
    "duration": 239,
    "start_time": "2024-10-11T16:07:39.779Z"
   },
   {
    "duration": 79,
    "start_time": "2024-10-11T16:07:40.027Z"
   },
   {
    "duration": 15,
    "start_time": "2024-10-11T16:07:40.109Z"
   },
   {
    "duration": 2437,
    "start_time": "2024-10-11T16:07:40.125Z"
   },
   {
    "duration": 1011,
    "start_time": "2024-10-11T16:13:04.128Z"
   },
   {
    "duration": 27,
    "start_time": "2024-10-11T16:13:05.142Z"
   },
   {
    "duration": 246,
    "start_time": "2024-10-11T16:13:05.171Z"
   },
   {
    "duration": 5,
    "start_time": "2024-10-11T16:13:05.420Z"
   },
   {
    "duration": 88,
    "start_time": "2024-10-11T16:13:05.427Z"
   },
   {
    "duration": 288,
    "start_time": "2024-10-11T16:13:05.517Z"
   },
   {
    "duration": 1035,
    "start_time": "2024-10-11T16:13:46.323Z"
   },
   {
    "duration": 27,
    "start_time": "2024-10-11T16:13:47.360Z"
   },
   {
    "duration": 226,
    "start_time": "2024-10-11T16:13:47.391Z"
   },
   {
    "duration": 4,
    "start_time": "2024-10-11T16:13:47.620Z"
   },
   {
    "duration": 92,
    "start_time": "2024-10-11T16:13:47.626Z"
   },
   {
    "duration": 2469,
    "start_time": "2024-10-11T16:13:47.719Z"
   },
   {
    "duration": 1040,
    "start_time": "2024-10-11T16:14:19.902Z"
   },
   {
    "duration": 29,
    "start_time": "2024-10-11T16:14:20.944Z"
   },
   {
    "duration": 241,
    "start_time": "2024-10-11T16:14:20.975Z"
   },
   {
    "duration": 6,
    "start_time": "2024-10-11T16:14:21.221Z"
   },
   {
    "duration": 15,
    "start_time": "2024-10-11T16:14:21.309Z"
   },
   {
    "duration": 2502,
    "start_time": "2024-10-11T16:14:21.326Z"
   },
   {
    "duration": 1009,
    "start_time": "2024-10-11T16:16:57.136Z"
   },
   {
    "duration": 27,
    "start_time": "2024-10-11T16:16:58.148Z"
   },
   {
    "duration": 248,
    "start_time": "2024-10-11T16:16:58.177Z"
   },
   {
    "duration": 83,
    "start_time": "2024-10-11T16:16:58.427Z"
   },
   {
    "duration": 16,
    "start_time": "2024-10-11T16:16:58.515Z"
   },
   {
    "duration": 2402,
    "start_time": "2024-10-11T16:16:58.532Z"
   },
   {
    "duration": 1029,
    "start_time": "2024-10-11T16:17:28.119Z"
   },
   {
    "duration": 27,
    "start_time": "2024-10-11T16:17:29.151Z"
   },
   {
    "duration": 237,
    "start_time": "2024-10-11T16:17:29.180Z"
   },
   {
    "duration": 3,
    "start_time": "2024-10-11T16:17:29.420Z"
   },
   {
    "duration": 92,
    "start_time": "2024-10-11T16:17:29.425Z"
   },
   {
    "duration": 2470,
    "start_time": "2024-10-11T16:17:29.519Z"
   },
   {
    "duration": 973,
    "start_time": "2024-10-11T16:17:41.089Z"
   },
   {
    "duration": 28,
    "start_time": "2024-10-11T16:17:42.064Z"
   },
   {
    "duration": 304,
    "start_time": "2024-10-11T16:17:42.104Z"
   },
   {
    "duration": 4,
    "start_time": "2024-10-11T16:17:42.410Z"
   },
   {
    "duration": 95,
    "start_time": "2024-10-11T16:17:42.416Z"
   },
   {
    "duration": 2474,
    "start_time": "2024-10-11T16:17:42.513Z"
   },
   {
    "duration": 1023,
    "start_time": "2024-10-11T16:18:24.416Z"
   },
   {
    "duration": 27,
    "start_time": "2024-10-11T16:18:25.441Z"
   },
   {
    "duration": 46,
    "start_time": "2024-10-11T16:18:25.469Z"
   },
   {
    "duration": 4,
    "start_time": "2024-10-11T16:18:25.517Z"
   },
   {
    "duration": 93,
    "start_time": "2024-10-11T16:18:25.522Z"
   },
   {
    "duration": 2451,
    "start_time": "2024-10-11T16:18:25.619Z"
   },
   {
    "duration": 978,
    "start_time": "2024-10-11T16:18:58.476Z"
   },
   {
    "duration": 26,
    "start_time": "2024-10-11T16:18:59.457Z"
   },
   {
    "duration": 34,
    "start_time": "2024-10-11T16:18:59.485Z"
   },
   {
    "duration": 3,
    "start_time": "2024-10-11T16:18:59.522Z"
   },
   {
    "duration": 90,
    "start_time": "2024-10-11T16:18:59.527Z"
   },
   {
    "duration": 2478,
    "start_time": "2024-10-11T16:18:59.620Z"
   },
   {
    "duration": 1134,
    "start_time": "2024-10-11T16:30:07.398Z"
   },
   {
    "duration": 27,
    "start_time": "2024-10-11T16:30:08.535Z"
   },
   {
    "duration": 67,
    "start_time": "2024-10-11T16:30:08.564Z"
   },
   {
    "duration": 3,
    "start_time": "2024-10-11T16:30:08.633Z"
   },
   {
    "duration": 85,
    "start_time": "2024-10-11T16:30:08.639Z"
   },
   {
    "duration": 2789,
    "start_time": "2024-10-11T16:30:08.726Z"
   },
   {
    "duration": 1020,
    "start_time": "2024-10-11T16:30:54.928Z"
   },
   {
    "duration": 26,
    "start_time": "2024-10-11T16:30:55.950Z"
   },
   {
    "duration": 41,
    "start_time": "2024-10-11T16:30:55.978Z"
   },
   {
    "duration": 4,
    "start_time": "2024-10-11T16:30:56.021Z"
   },
   {
    "duration": 91,
    "start_time": "2024-10-11T16:30:56.027Z"
   },
   {
    "duration": 2472,
    "start_time": "2024-10-11T16:30:56.120Z"
   },
   {
    "duration": 10,
    "start_time": "2024-10-11T16:58:09.204Z"
   },
   {
    "duration": 1098,
    "start_time": "2024-12-07T19:14:53.427Z"
   },
   {
    "duration": 27,
    "start_time": "2024-12-07T19:14:54.527Z"
   },
   {
    "duration": 61,
    "start_time": "2024-12-07T19:14:54.555Z"
   },
   {
    "duration": 3,
    "start_time": "2024-12-07T19:14:54.618Z"
   },
   {
    "duration": 92,
    "start_time": "2024-12-07T19:14:54.623Z"
   },
   {
    "duration": 2485,
    "start_time": "2024-12-07T19:14:54.718Z"
   }
  ],
  "kernelspec": {
   "display_name": "Python 3 (ipykernel)",
   "language": "python",
   "name": "python3"
  },
  "language_info": {
   "codemirror_mode": {
    "name": "ipython",
    "version": 3
   },
   "file_extension": ".py",
   "mimetype": "text/x-python",
   "name": "python",
   "nbconvert_exporter": "python",
   "pygments_lexer": "ipython3",
   "version": "3.10.11"
  },
  "toc": {
   "base_numbering": 1,
   "nav_menu": {},
   "number_sections": true,
   "sideBar": true,
   "skip_h1_title": true,
   "title_cell": "Table of Contents",
   "title_sidebar": "Contents",
   "toc_cell": false,
   "toc_position": {},
   "toc_section_display": true,
   "toc_window_display": false
  }
 },
 "nbformat": 4,
 "nbformat_minor": 4
}
