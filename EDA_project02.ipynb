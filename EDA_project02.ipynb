{
 "cells": [
  {
   "cell_type": "markdown",
   "id": "8683828a-7b42-4640-a1c4-60e444d34716",
   "metadata": {},
   "source": [
    "# Instacart Data Analysis Project"
   ]
  },
  {
   "cell_type": "markdown",
   "id": "2d30fabd",
   "metadata": {},
   "source": [
    "Project Introduction:\n",
    "\n",
    "Welcome to our Instacart Data Analysis Project! This project aims to uncover valuable insights into customer behavior and product trends using data from Instacart, a popular online grocery delivery service. The dataset includes five main tables: instacart_orders, products, order_products, aisles, and departments. Our primary objective is to preprocess this data meticulously to ensure accuracy and readiness for analysis. Through Exploratory Data Analysis (EDA), we will investigate various aspects such as when customers tend to place their orders (order_hour_of_day), which days are most popular for grocery shopping (order_dow), and which products are ordered frequently. Additionally, we'll explore patterns of reorder behavior to understand customer preferences and habits. By extracting meaningful insights from this analysis, we aim to provide actionable recommendations that could enhance customer experience, optimize inventory management, and inform strategic decisions for Instacart."
   ]
  },
  {
   "cell_type": "code",
   "execution_count": 1,
   "id": "fbf1adab",
   "metadata": {},
   "outputs": [],
   "source": [
    "import pandas as pd  # Import pandas library for data manipulation\n",
    "import matplotlib.pyplot as plt  # Import matplotlib's pyplot module for plotting"
   ]
  },
  {
   "cell_type": "code",
   "execution_count": 2,
   "id": "ad36396d",
   "metadata": {},
   "outputs": [
    {
     "name": "stdout",
     "output_type": "stream",
     "text": [
      "   order_id  user_id  order_number  order_dow  order_hour_of_day  \\\n",
      "0   1515936   183418            11          6                 13   \n",
      "1   1690866   163593             5          5                 12   \n",
      "2   1454967    39980             4          5                 19   \n",
      "3   1768857    82516            56          0                 20   \n",
      "4   3007858   196724             2          4                 12   \n",
      "5   1843871    20084             5          0                 11   \n",
      "6   2511640   148233            40          3                  8   \n",
      "7   2521283    97711             2          0                 18   \n",
      "8   2266494    34954            40          5                 15   \n",
      "9    446014    15356             2          4                  8   \n",
      "\n",
      "   days_since_prior_order  \n",
      "0                    30.0  \n",
      "1                     9.0  \n",
      "2                     2.0  \n",
      "3                    10.0  \n",
      "4                    17.0  \n",
      "5                    15.0  \n",
      "6                     2.0  \n",
      "7                    22.0  \n",
      "8                     4.0  \n",
      "9                    10.0  \n",
      "<class 'pandas.core.frame.DataFrame'>\n",
      "RangeIndex: 478967 entries, 0 to 478966\n",
      "Data columns (total 6 columns):\n",
      " #   Column                  Non-Null Count   Dtype  \n",
      "---  ------                  --------------   -----  \n",
      " 0   order_id                478967 non-null  int64  \n",
      " 1   user_id                 478967 non-null  int64  \n",
      " 2   order_number            478967 non-null  int64  \n",
      " 3   order_dow               478967 non-null  int64  \n",
      " 4   order_hour_of_day       478967 non-null  int64  \n",
      " 5   days_since_prior_order  450148 non-null  float64\n",
      "dtypes: float64(1), int64(5)\n",
      "memory usage: 21.9 MB\n",
      "order_id                    int64\n",
      "user_id                     int64\n",
      "order_number                int64\n",
      "order_dow                   int64\n",
      "order_hour_of_day           int64\n",
      "days_since_prior_order    float64\n",
      "dtype: object\n"
     ]
    }
   ],
   "source": [
    "\n",
    "# Reading the instacart_orders.csv file with specified parameters\n",
    "orders = pd.read_csv('/datasets/instacart_orders.csv', sep=';', dtype={\n",
    "    'order_id': int,                    # Specify 'order_id' as integer\n",
    "    'user_id': int,                     # Specify 'user_id' as integer\n",
    "    'order_number': int,                # Specify 'order_number' as integer\n",
    "    'order_dow': int,                   # Specify 'order_dow' as integer\n",
    "    'order_hour_of_day': int,           # Specify 'order_hour_of_day' as integer\n",
    "    'days_since_prior_order': float     # Specify 'days_since_prior_order' as float\n",
    "})\n",
    "\n",
    "# Displaying the first 10 rows of the 'orders' DataFrame\n",
    "print(orders.head(10))\n",
    "\n",
    "# Printing concise summary of 'orders' DataFrame including data types and non-null counts\n",
    "orders.info()\n",
    "\n",
    "# Printing the data types of columns in 'orders' DataFrame\n",
    "print(orders.dtypes)"
   ]
  },
  {
   "cell_type": "code",
   "execution_count": 3,
   "id": "ad6a1efa",
   "metadata": {},
   "outputs": [
    {
     "name": "stdout",
     "output_type": "stream",
     "text": [
      "   product_id                                       product_name  aisle_id  \\\n",
      "0           1                         Chocolate Sandwich Cookies        61   \n",
      "1           2                                   All-Seasons Salt       104   \n",
      "2           3               Robust Golden Unsweetened Oolong Tea        94   \n",
      "3           4  Smart Ones Classic Favorites Mini Rigatoni Wit...        38   \n",
      "4           5                          Green Chile Anytime Sauce         5   \n",
      "5           6                                       Dry Nose Oil        11   \n",
      "6           7                     Pure Coconut Water With Orange        98   \n",
      "7           8                  Cut Russet Potatoes Steam N' Mash       116   \n",
      "8           9                  Light Strawberry Blueberry Yogurt       120   \n",
      "9          10     Sparkling Orange Juice & Prickly Pear Beverage       115   \n",
      "\n",
      "   department_id  \n",
      "0             19  \n",
      "1             13  \n",
      "2              7  \n",
      "3              1  \n",
      "4             13  \n",
      "5             11  \n",
      "6              7  \n",
      "7              1  \n",
      "8             16  \n",
      "9              7  \n",
      "<class 'pandas.core.frame.DataFrame'>\n",
      "RangeIndex: 49694 entries, 0 to 49693\n",
      "Data columns (total 4 columns):\n",
      " #   Column         Non-Null Count  Dtype \n",
      "---  ------         --------------  ----- \n",
      " 0   product_id     49694 non-null  int64 \n",
      " 1   product_name   48436 non-null  object\n",
      " 2   aisle_id       49694 non-null  int64 \n",
      " 3   department_id  49694 non-null  int64 \n",
      "dtypes: int64(3), object(1)\n",
      "memory usage: 1.5+ MB\n"
     ]
    }
   ],
   "source": [
    "# Reading the products.csv file with specified parameters\n",
    "products = pd.read_csv('/datasets/products.csv', sep=';', dtype={\n",
    "    'product_id': int,          # Specify 'product_id' as integer\n",
    "    'aisle_id': int,            # Specify 'aisle_id' as integer\n",
    "    'department_id': int        # Specify 'department_id' as integer\n",
    "})\n",
    "\n",
    "# Displaying the first 10 rows of the 'products' DataFrame\n",
    "print(products.head(10))\n",
    "\n",
    "# Printing concise summary of 'products' DataFrame including data types and non-null counts\n",
    "products.info()"
   ]
  },
  {
   "cell_type": "code",
   "execution_count": 4,
   "id": "5130e05e",
   "metadata": {},
   "outputs": [
    {
     "name": "stdout",
     "output_type": "stream",
     "text": [
      "   order_id  product_id  add_to_cart_order  reordered\n",
      "0   2141543       11440               17.0          0\n",
      "1    567889        1560                1.0          1\n",
      "2   2261212       26683                1.0          1\n",
      "3    491251        8670               35.0          1\n",
      "4   2571142        1940                5.0          1\n",
      "5   2456893       21616                4.0          1\n",
      "6    644579       12341                5.0          1\n",
      "7   2231852       44925               10.0          1\n",
      "8   3185766       36259               14.0          1\n",
      "9    420019       23315                4.0          1\n",
      "<class 'pandas.core.frame.DataFrame'>\n",
      "RangeIndex: 4545007 entries, 0 to 4545006\n",
      "Data columns (total 4 columns):\n",
      " #   Column             Non-Null Count    Dtype  \n",
      "---  ------             --------------    -----  \n",
      " 0   order_id           4545007 non-null  int64  \n",
      " 1   product_id         4545007 non-null  int64  \n",
      " 2   add_to_cart_order  4544171 non-null  float64\n",
      " 3   reordered          4545007 non-null  int64  \n",
      "dtypes: float64(1), int64(3)\n",
      "memory usage: 138.7 MB\n"
     ]
    }
   ],
   "source": [
    "# Reading the order_products.csv file\n",
    "order_products = pd.read_csv('/datasets/order_products.csv', sep=';')\n",
    "\n",
    "# Displaying the first 10 rows of the 'order_products' DataFrame\n",
    "print(order_products.head(10))\n",
    "\n",
    "# Printing concise summary of 'order_products' DataFrame including data types and non-null counts\n",
    "order_products.info(show_counts=True)"
   ]
  },
  {
   "cell_type": "code",
   "execution_count": 5,
   "id": "d8370c05",
   "metadata": {},
   "outputs": [
    {
     "name": "stdout",
     "output_type": "stream",
     "text": [
      "   aisle_id                       aisle\n",
      "0         1       prepared soups salads\n",
      "1         2           specialty cheeses\n",
      "2         3         energy granola bars\n",
      "3         4               instant foods\n",
      "4         5  marinades meat preparation\n",
      "5         6                       other\n",
      "6         7               packaged meat\n",
      "7         8             bakery desserts\n",
      "8         9                 pasta sauce\n",
      "9        10            kitchen supplies\n",
      "<class 'pandas.core.frame.DataFrame'>\n",
      "RangeIndex: 134 entries, 0 to 133\n",
      "Data columns (total 2 columns):\n",
      " #   Column    Non-Null Count  Dtype \n",
      "---  ------    --------------  ----- \n",
      " 0   aisle_id  134 non-null    int64 \n",
      " 1   aisle     134 non-null    object\n",
      "dtypes: int64(1), object(1)\n",
      "memory usage: 2.2+ KB\n"
     ]
    }
   ],
   "source": [
    "# Reading the aisles.csv file with specified parameters\n",
    "aisles = pd.read_csv('/datasets/aisles.csv', sep=';', dtype={\n",
    "    'aisle_id': int  # Specify 'aisle_id' as integer\n",
    "})\n",
    "\n",
    "# Displaying the first 10 rows of the 'aisles' DataFrame\n",
    "print(aisles.head(10))\n",
    "\n",
    "# Printing concise summary of 'aisles' DataFrame including data types and non-null counts\n",
    "aisles.info()\n"
   ]
  },
  {
   "cell_type": "code",
   "execution_count": 6,
   "id": "59e2090f",
   "metadata": {},
   "outputs": [
    {
     "name": "stdout",
     "output_type": "stream",
     "text": [
      "   department_id       department\n",
      "0              1           frozen\n",
      "1              2            other\n",
      "2              3           bakery\n",
      "3              4          produce\n",
      "4              5          alcohol\n",
      "5              6    international\n",
      "6              7        beverages\n",
      "7              8             pets\n",
      "8              9  dry goods pasta\n",
      "9             10             bulk\n",
      "<class 'pandas.core.frame.DataFrame'>\n",
      "RangeIndex: 21 entries, 0 to 20\n",
      "Data columns (total 2 columns):\n",
      " #   Column         Non-Null Count  Dtype \n",
      "---  ------         --------------  ----- \n",
      " 0   department_id  21 non-null     int64 \n",
      " 1   department     21 non-null     object\n",
      "dtypes: int64(1), object(1)\n",
      "memory usage: 464.0+ bytes\n"
     ]
    }
   ],
   "source": [
    "# Reading the departments.csv file with specified parameters\n",
    "departments = pd.read_csv('/datasets/departments.csv', sep=';', dtype={\n",
    "    'department_id': int  # Specify 'department_id' as integer\n",
    "})\n",
    "\n",
    "# Displaying the first 10 rows of the 'departments' DataFrame\n",
    "print(departments.head(10))\n",
    "\n",
    "# Printing concise summary of 'departments' DataFrame including data types and non-null counts\n",
    "departments.info()"
   ]
  },
  {
   "cell_type": "markdown",
   "id": "07357848-dc64-4156-9cc3-01ff4365226d",
   "metadata": {},
   "source": [
    "## Find and remove duplicate values (and describe why you make your choices)"
   ]
  },
  {
   "cell_type": "markdown",
   "id": "f179f0a9",
   "metadata": {},
   "source": [
    "### `orders` data frame"
   ]
  },
  {
   "cell_type": "code",
   "execution_count": 7,
   "id": "b99297a5-405a-463d-8535-9adc3da4ad74",
   "metadata": {},
   "outputs": [
    {
     "name": "stdout",
     "output_type": "stream",
     "text": [
      "Duplicate Orders:\n",
      "        order_id  user_id  order_number  order_dow  order_hour_of_day  \\\n",
      "30371    1918001   188546            14          3                  2   \n",
      "99462     794638    50898            24          3                  2   \n",
      "119251    408114    68324             4          3                  2   \n",
      "142258   2845099    31189            11          3                  2   \n",
      "145574    794638    50898            24          3                  2   \n",
      "164581   1112182   202304            84          3                  2   \n",
      "200059   1782114   106752             1          3                  2   \n",
      "204042   2125197    14050            48          3                  2   \n",
      "215294   2160484   107525            16          3                  2   \n",
      "223105   2160484   107525            16          3                  2   \n",
      "230807   1918001   188546            14          3                  2   \n",
      "242618   1021560    53767             3          3                  2   \n",
      "250626    467134    63189            21          3                  2   \n",
      "257934   1919531   191501            32          3                  2   \n",
      "259636   2282673    86751            49          3                  2   \n",
      "266232   1782114   106752             1          3                  2   \n",
      "273805   1112182   202304            84          3                  2   \n",
      "284038   2845099    31189            11          3                  2   \n",
      "311713   1021560    53767             3          3                  2   \n",
      "314427   1286742   183220            48          3                  2   \n",
      "321100    408114    68324             4          3                  2   \n",
      "323900   1919531   191501            32          3                  2   \n",
      "324868   2232988    82565             1          3                  2   \n",
      "345917   2232988    82565             1          3                  2   \n",
      "354993    391768    57671            19          3                  2   \n",
      "371905    391768    57671            19          3                  2   \n",
      "394347    467134    63189            21          3                  2   \n",
      "411408   1286742   183220            48          3                  2   \n",
      "415163   2282673    86751            49          3                  2   \n",
      "441599   2125197    14050            48          3                  2   \n",
      "\n",
      "        days_since_prior_order  \n",
      "30371                     16.0  \n",
      "99462                      2.0  \n",
      "119251                    18.0  \n",
      "142258                     7.0  \n",
      "145574                     2.0  \n",
      "164581                     6.0  \n",
      "200059                     NaN  \n",
      "204042                     3.0  \n",
      "215294                    30.0  \n",
      "223105                    30.0  \n",
      "230807                    16.0  \n",
      "242618                     9.0  \n",
      "250626                     2.0  \n",
      "257934                     7.0  \n",
      "259636                     2.0  \n",
      "266232                     NaN  \n",
      "273805                     6.0  \n",
      "284038                     7.0  \n",
      "311713                     9.0  \n",
      "314427                     4.0  \n",
      "321100                    18.0  \n",
      "323900                     7.0  \n",
      "324868                     NaN  \n",
      "345917                     NaN  \n",
      "354993                    10.0  \n",
      "371905                    10.0  \n",
      "394347                     2.0  \n",
      "411408                     4.0  \n",
      "415163                     2.0  \n",
      "441599                     3.0  \n"
     ]
    }
   ],
   "source": [
    "# Check for duplicated orders\n",
    "\n",
    "# Check for duplicates based on 'order_id'\n",
    "duplicate_orders = orders[orders.duplicated(subset=['order_id'], keep=False)]\n",
    "\n",
    "# If there are duplicates, display them\n",
    "if not duplicate_orders.empty:\n",
    "    print(\"Duplicate Orders:\")\n",
    "    print(duplicate_orders)\n",
    "else:\n",
    "    print(\"No duplicate orders found.\")\n",
    "\n"
   ]
  },
  {
   "cell_type": "code",
   "execution_count": 8,
   "id": "0d44de5d",
   "metadata": {},
   "outputs": [
    {
     "name": "stdout",
     "output_type": "stream",
     "text": [
      "Orders placed on Wednesday at 2:00 AM:\n",
      "        order_id  user_id  order_number  order_dow  order_hour_of_day  \\\n",
      "4838     2766110   162084            41          3                  2   \n",
      "5156     2190225   138285            18          3                  2   \n",
      "15506     553049    58599            13          3                  2   \n",
      "18420     382357   120200            19          3                  2   \n",
      "24691     690242    77357             2          3                  2   \n",
      "...          ...      ...           ...        ...                ...   \n",
      "457013   3384021    14881             6          3                  2   \n",
      "458816    910166   164782            18          3                  2   \n",
      "459635   1680532   106435             6          3                  2   \n",
      "468324    222962    54979            59          3                  2   \n",
      "477526   2592344    46860            38          3                  2   \n",
      "\n",
      "        days_since_prior_order  \n",
      "4838                      16.0  \n",
      "5156                      11.0  \n",
      "15506                      7.0  \n",
      "18420                     11.0  \n",
      "24691                      9.0  \n",
      "...                        ...  \n",
      "457013                    30.0  \n",
      "458816                     4.0  \n",
      "459635                    21.0  \n",
      "468324                     3.0  \n",
      "477526                     3.0  \n",
      "\n",
      "[121 rows x 6 columns]\n"
     ]
    }
   ],
   "source": [
    "# Check for all orders placed Wednesday at 2:00 AM\n",
    "\n",
    "# Filter orders for Wednesday (order_dow == 3) and 2:00 AM (order_hour_of_day == 2)\n",
    "\n",
    "wednesday_2am_orders = orders[(orders['order_dow'] == 3) & (orders['order_hour_of_day'] == 2)]\n",
    "\n",
    "# Display the filtered orders\n",
    "\n",
    "print(\"Orders placed on Wednesday at 2:00 AM:\")\n",
    "\n",
    "print(wednesday_2am_orders)\n"
   ]
  },
  {
   "cell_type": "code",
   "execution_count": 9,
   "id": "480563c7",
   "metadata": {},
   "outputs": [
    {
     "name": "stdout",
     "output_type": "stream",
     "text": [
      "Duplicate Orders Found. Removing...\n",
      "Duplicates removed.\n"
     ]
    }
   ],
   "source": [
    "# Remove duplicate orders\n",
    "\n",
    "\n",
    "# Check for duplicate orders based on 'order_id'\n",
    "\n",
    "duplicate_orders = orders[orders.duplicated(subset=['order_id'], keep=False)]\n",
    "\n",
    "# If there are duplicates, remove them\n",
    "\n",
    "if not duplicate_orders.empty:\n",
    "    print(\"Duplicate Orders Found. Removing...\")\n",
    "    orders.drop_duplicates(subset=['order_id'], inplace=True)\n",
    "    print(\"Duplicates removed.\")\n",
    "else:\n",
    "    print(\"No duplicate orders found.\")\n"
   ]
  },
  {
   "cell_type": "code",
   "execution_count": 10,
   "id": "0b2396a2",
   "metadata": {},
   "outputs": [
    {
     "name": "stdout",
     "output_type": "stream",
     "text": [
      "No duplicate rows found.\n"
     ]
    }
   ],
   "source": [
    "# Double check for duplicate rows\n",
    "\n",
    " #Check for duplicates across all columns\n",
    "    \n",
    "duplicate_rows = orders[orders.duplicated()]\n",
    "\n",
    "# If there are duplicates, display them\n",
    "\n",
    "if not duplicate_rows.empty:\n",
    "    print(\"Duplicate Rows Found:\")\n",
    "    print(duplicate_rows)\n",
    "else:\n",
    "    print(\"No duplicate rows found.\")\n"
   ]
  },
  {
   "cell_type": "code",
   "execution_count": 11,
   "id": "f6113ef1",
   "metadata": {},
   "outputs": [
    {
     "name": "stdout",
     "output_type": "stream",
     "text": [
      "No duplicate order IDs found.\n"
     ]
    }
   ],
   "source": [
    "# Double check for duplicate order IDs only\n",
    "\n",
    "\n",
    "# Check for duplicates based on 'order_id'\n",
    "\n",
    "duplicate_order_ids = orders[orders.duplicated(subset=['order_id'], keep=False)]\n",
    "\n",
    "# If there are duplicates, display them\n",
    "\n",
    "if not duplicate_order_ids.empty:\n",
    "    print(\"Duplicate Order IDs Found:\")\n",
    "    print(duplicate_order_ids)\n",
    "else:\n",
    "    print(\"No duplicate order IDs found.\")\n"
   ]
  },
  {
   "cell_type": "markdown",
   "id": "5e8905ae",
   "metadata": {},
   "source": []
  },
  {
   "cell_type": "markdown",
   "id": "45e6bc46",
   "metadata": {},
   "source": [
    "### `products` data frame"
   ]
  },
  {
   "cell_type": "code",
   "execution_count": 12,
   "id": "5f526b5b-8175-46fa-a0fd-441767d50e64",
   "metadata": {},
   "outputs": [
    {
     "name": "stdout",
     "output_type": "stream",
     "text": [
      "No duplicate rows found in Products DataFrame.\n"
     ]
    }
   ],
   "source": [
    "# Check for fully duplicate rows\n",
    "\n",
    "\n",
    "# Check for duplicates across all columns\n",
    "\n",
    "duplicate_products = products[products.duplicated()]\n",
    "\n",
    "# If there are duplicates, display them\n",
    "\n",
    "if not duplicate_products.empty:\n",
    "    print(\"Duplicate Rows Found in Products DataFrame:\")\n",
    "    print(duplicate_products)\n",
    "else:\n",
    "    print(\"No duplicate rows found in Products DataFrame.\")\n"
   ]
  },
  {
   "cell_type": "code",
   "execution_count": 13,
   "id": "88daa4f4",
   "metadata": {},
   "outputs": [
    {
     "name": "stdout",
     "output_type": "stream",
     "text": [
      "No duplicate product IDs found.\n"
     ]
    }
   ],
   "source": [
    "# Check for just duplicate product IDs\n",
    "\n",
    "\n",
    "# Check for duplicates based on 'product_id'\n",
    "\n",
    "duplicate_product_ids = products[products.duplicated(subset=['product_id'], keep=False)]\n",
    "\n",
    "\n",
    "# If there are duplicates, display them\n",
    "\n",
    "if not duplicate_product_ids.empty:\n",
    "    print(\"Duplicate Product IDs Found:\")\n",
    "    print(duplicate_product_ids)\n",
    "else:\n",
    "    print(\"No duplicate product IDs found.\")\n"
   ]
  },
  {
   "cell_type": "code",
   "execution_count": 14,
   "id": "c773f0bf",
   "metadata": {},
   "outputs": [
    {
     "name": "stdout",
     "output_type": "stream",
     "text": [
      "Duplicate Product Names Found:\n",
      "       product_id                                     product_name  aisle_id  \\\n",
      "37             38                                              NaN       100   \n",
      "41             42                                  Biotin 1000 mcg        47   \n",
      "71             72                                              NaN       100   \n",
      "109           110                                              NaN       100   \n",
      "185           186       Fresh Scent Dishwasher Detergent with Dawn        74   \n",
      "...           ...                                              ...       ...   \n",
      "49689       49690                    HIGH PERFORMANCE ENERGY DRINK        64   \n",
      "49690       49691                    ORIGINAL PANCAKE & WAFFLE MIX       130   \n",
      "49691       49692  ORGANIC INSTANT OATMEAL LIGHT MAPLE BROWN SUGAR       130   \n",
      "49692       49693                           SPRING WATER BODY WASH       127   \n",
      "49693       49694                          BURRITO- STEAK & CHEESE        38   \n",
      "\n",
      "       department_id                               product_name_lower  \n",
      "37                21                                              NaN  \n",
      "41                11                                  biotin 1000 mcg  \n",
      "71                21                                              NaN  \n",
      "109               21                                              NaN  \n",
      "185               17       fresh scent dishwasher detergent with dawn  \n",
      "...              ...                                              ...  \n",
      "49689              7                    high performance energy drink  \n",
      "49690             14                    original pancake & waffle mix  \n",
      "49691             14  organic instant oatmeal light maple brown sugar  \n",
      "49692             11                           spring water body wash  \n",
      "49693              1                          burrito- steak & cheese  \n",
      "\n",
      "[1465 rows x 5 columns]\n"
     ]
    }
   ],
   "source": [
    "# Check for just duplicate product names (convert names to lowercase to compare better)\n",
    "\n",
    "\n",
    "\n",
    "# Convert product names to lowercase for case-insensitive comparison\n",
    "products['product_name_lower'] = products['product_name'].str.lower()\n",
    "\n",
    "\n",
    "# Check for duplicates based on lowercase product names\n",
    "duplicate_product_names = products[products.duplicated(subset=['product_name_lower'], keep=False)]\n",
    "\n",
    "# If there are duplicates, display them\n",
    "if not duplicate_product_names.empty:\n",
    "    print(\"Duplicate Product Names Found:\")\n",
    "    print(duplicate_product_names)\n",
    "else:\n",
    "    print(\"No duplicate product names found.\")\n"
   ]
  },
  {
   "cell_type": "code",
   "execution_count": 15,
   "id": "01efd02e",
   "metadata": {},
   "outputs": [
    {
     "name": "stdout",
     "output_type": "stream",
     "text": [
      "Duplicate Product Names Found (Excluding Missing Values):\n",
      "       product_id                                     product_name  aisle_id  \\\n",
      "41             42                                  Biotin 1000 mcg        47   \n",
      "185           186       Fresh Scent Dishwasher Detergent with Dawn        74   \n",
      "515           516                           American Cheese Slices        21   \n",
      "1538         1539                                 Cauliflower head        83   \n",
      "1783         1784              NUTrition Protein Mix Blueberry Nut       117   \n",
      "...           ...                                              ...       ...   \n",
      "49689       49690                    HIGH PERFORMANCE ENERGY DRINK        64   \n",
      "49690       49691                    ORIGINAL PANCAKE & WAFFLE MIX       130   \n",
      "49691       49692  ORGANIC INSTANT OATMEAL LIGHT MAPLE BROWN SUGAR       130   \n",
      "49692       49693                           SPRING WATER BODY WASH       127   \n",
      "49693       49694                          BURRITO- STEAK & CHEESE        38   \n",
      "\n",
      "       department_id                               product_name_lower  \n",
      "41                11                                  biotin 1000 mcg  \n",
      "185               17       fresh scent dishwasher detergent with dawn  \n",
      "515               16                           american cheese slices  \n",
      "1538               4                                 cauliflower head  \n",
      "1783              19              nutrition protein mix blueberry nut  \n",
      "...              ...                                              ...  \n",
      "49689              7                    high performance energy drink  \n",
      "49690             14                    original pancake & waffle mix  \n",
      "49691             14  organic instant oatmeal light maple brown sugar  \n",
      "49692             11                           spring water body wash  \n",
      "49693              1                          burrito- steak & cheese  \n",
      "\n",
      "[207 rows x 5 columns]\n"
     ]
    }
   ],
   "source": [
    "# Check for duplicate product names that aren't missing\n",
    "\n",
    "\n",
    "# Check for duplicates based on lowercase product names, excluding missing values\n",
    "duplicate_product_names = products[products['product_name_lower'].notna()]  # Exclude missing values\n",
    "duplicate_product_names = duplicate_product_names[duplicate_product_names.duplicated(subset=['product_name_lower'], keep=False)]\n",
    "\n",
    "# If there are duplicates, display them\n",
    "if not duplicate_product_names.empty:\n",
    "    print(\"Duplicate Product Names Found (Excluding Missing Values):\")\n",
    "    print(duplicate_product_names)\n",
    "else:\n",
    "    print(\"No duplicate product names found (Excluding Missing Values).\")\n"
   ]
  },
  {
   "cell_type": "markdown",
   "id": "274cd06a",
   "metadata": {},
   "source": [
    "### `order_products` data frame"
   ]
  },
  {
   "cell_type": "code",
   "execution_count": 16,
   "id": "52326689-84a8-4b8f-a881-7c68780f62c9",
   "metadata": {},
   "outputs": [
    {
     "name": "stdout",
     "output_type": "stream",
     "text": [
      "No duplicate rows found in Order Products DataFrame.\n"
     ]
    }
   ],
   "source": [
    "# Check for fullly duplicate rows\n",
    "\n",
    "\n",
    "# Check for duplicates across all columns\n",
    "duplicate_rows = order_products[order_products.duplicated()]\n",
    "\n",
    "# If there are duplicates, display them\n",
    "if not duplicate_rows.empty:\n",
    "    print(\"Duplicate Rows Found in Order Products DataFrame:\")\n",
    "    print(duplicate_rows)\n",
    "else:\n",
    "    print(\"No duplicate rows found in Order Products DataFrame.\")"
   ]
  },
  {
   "cell_type": "code",
   "execution_count": 17,
   "id": "7b861391",
   "metadata": {},
   "outputs": [
    {
     "name": "stdout",
     "output_type": "stream",
     "text": [
      "No duplicate order products found.\n"
     ]
    }
   ],
   "source": [
    "# Double check for any other tricky duplicates\n",
    "\n",
    "\n",
    "# Check for duplicate rows in order_products DataFrame\n",
    "duplicate_order_products = order_products[order_products.duplicated(subset=['order_id', 'product_id'], keep=False)]\n",
    "\n",
    "if not duplicate_order_products.empty:\n",
    "    print(\"Duplicate Order Products Found:\")\n",
    "    print(duplicate_order_products)\n",
    "else:\n",
    "    print(\"No duplicate order products found.\")"
   ]
  },
  {
   "cell_type": "markdown",
   "id": "1e46de76",
   "metadata": {},
   "source": [
    "## Find and remove missing values\n"
   ]
  },
  {
   "cell_type": "markdown",
   "id": "c0aebd78",
   "metadata": {},
   "source": [
    "### `products` data frame"
   ]
  },
  {
   "cell_type": "code",
   "execution_count": 18,
   "id": "e96167bc",
   "metadata": {},
   "outputs": [
    {
     "name": "stdout",
     "output_type": "stream",
     "text": [
      "All missing product names are associated with aisle ID 100.\n",
      "\n",
      "Rows with Missing Product Names:\n",
      "       product_id product_name  aisle_id  department_id product_name_lower\n",
      "37             38          NaN       100             21                NaN\n",
      "71             72          NaN       100             21                NaN\n",
      "109           110          NaN       100             21                NaN\n",
      "296           297          NaN       100             21                NaN\n",
      "416           417          NaN       100             21                NaN\n",
      "...           ...          ...       ...            ...                ...\n",
      "49552       49553          NaN       100             21                NaN\n",
      "49574       49575          NaN       100             21                NaN\n",
      "49640       49641          NaN       100             21                NaN\n",
      "49663       49664          NaN       100             21                NaN\n",
      "49668       49669          NaN       100             21                NaN\n",
      "\n",
      "[1258 rows x 5 columns]\n"
     ]
    }
   ],
   "source": [
    "# Are all of the missing product names associated with aisle ID 100?\n",
    "\n",
    "\n",
    "\n",
    "# Step 1: Filter rows with missing product names\n",
    "missing_product_names = products[products['product_name'].isna()]\n",
    "\n",
    "# Step 2: Check if all missing product names are associated with aisle ID 100\n",
    "unique_aisle_ids = missing_product_names['aisle_id'].unique()\n",
    "\n",
    "if len(unique_aisle_ids) == 1 and unique_aisle_ids[0] == 100:\n",
    "    print(\"All missing product names are associated with aisle ID 100.\")\n",
    "else:\n",
    "    print(\"Not all missing product names are associated with aisle ID 100.\")\n",
    "\n",
    "# Optional: Display rows with missing product names for verification\n",
    "if not missing_product_names.empty:\n",
    "    print(\"\\nRows with Missing Product Names:\")\n",
    "    print(missing_product_names)"
   ]
  },
  {
   "cell_type": "code",
   "execution_count": 19,
   "id": "8fd0a541",
   "metadata": {},
   "outputs": [
    {
     "name": "stdout",
     "output_type": "stream",
     "text": [
      "All missing product names are associated with department ID 21.\n",
      "\n",
      "Rows with Missing Product Names:\n",
      "       product_id product_name  aisle_id  department_id product_name_lower\n",
      "37             38          NaN       100             21                NaN\n",
      "71             72          NaN       100             21                NaN\n",
      "109           110          NaN       100             21                NaN\n",
      "296           297          NaN       100             21                NaN\n",
      "416           417          NaN       100             21                NaN\n",
      "...           ...          ...       ...            ...                ...\n",
      "49552       49553          NaN       100             21                NaN\n",
      "49574       49575          NaN       100             21                NaN\n",
      "49640       49641          NaN       100             21                NaN\n",
      "49663       49664          NaN       100             21                NaN\n",
      "49668       49669          NaN       100             21                NaN\n",
      "\n",
      "[1258 rows x 5 columns]\n"
     ]
    }
   ],
   "source": [
    "# Are all of the missing product names associated with department ID 21?\n",
    "\n",
    "\n",
    "# Step 1: Filter rows with missing product names\n",
    "missing_product_names = products[products['product_name'].isna()]\n",
    "\n",
    "# Step 2: Check if all missing product names are associated with department ID 21\n",
    "unique_department_ids = missing_product_names['department_id'].unique()\n",
    "\n",
    "if len(unique_department_ids) == 1 and unique_department_ids[0] == 21:\n",
    "    print(\"All missing product names are associated with department ID 21.\")\n",
    "else:\n",
    "    print(\"Not all missing product names are associated with department ID 21.\")\n",
    "\n",
    "# Optional: Display rows with missing product names for verification\n",
    "if not missing_product_names.empty:\n",
    "    print(\"\\nRows with Missing Product Names:\")\n",
    "    print(missing_product_names)\n"
   ]
  },
  {
   "cell_type": "code",
   "execution_count": 20,
   "id": "325c3464",
   "metadata": {},
   "outputs": [
    {
     "name": "stdout",
     "output_type": "stream",
     "text": [
      "[100]\n",
      "[21]\n"
     ]
    }
   ],
   "source": [
    "# What is this ailse and department?\n",
    "\n",
    "# Filter rows with missing product names\n",
    "missing_product_names = products[products['product_name'].isna()]\n",
    "\n",
    "# Extract unique aisle and department IDs for missing product names\n",
    "unique_aisle_ids = missing_product_names['aisle_id'].unique()\n",
    "unique_department_ids = missing_product_names['department_id'].unique()\n",
    "\n",
    "print(unique_aisle_ids)\n",
    "print(unique_department_ids)\n"
   ]
  },
  {
   "cell_type": "code",
   "execution_count": 21,
   "id": "6b295120",
   "metadata": {},
   "outputs": [
    {
     "name": "stdout",
     "output_type": "stream",
     "text": [
      "There are still missing product names.\n",
      "       product_id product_name  aisle_id  department_id product_name_lower\n",
      "37             38      Unknown       100             21                NaN\n",
      "71             72      Unknown       100             21                NaN\n",
      "109           110      Unknown       100             21                NaN\n",
      "296           297      Unknown       100             21                NaN\n",
      "416           417      Unknown       100             21                NaN\n",
      "...           ...          ...       ...            ...                ...\n",
      "49552       49553      Unknown       100             21                NaN\n",
      "49574       49575      Unknown       100             21                NaN\n",
      "49640       49641      Unknown       100             21                NaN\n",
      "49663       49664      Unknown       100             21                NaN\n",
      "49668       49669      Unknown       100             21                NaN\n",
      "\n",
      "[1258 rows x 5 columns]\n"
     ]
    }
   ],
   "source": [
    "# Fill missing product names with 'Unknown'\n",
    "\n",
    "\n",
    "# Fill missing product names with 'Unknown'\n",
    "products['product_name'].fillna('Unknown', inplace=True)\n",
    "\n",
    "# Verify that missing values have been filled\n",
    "missing_product_names = products[products['product_name'] == 'Unknown']\n",
    "\n",
    "if missing_product_names.empty:\n",
    "    print(\"All missing product names have been successfully filled with 'Unknown'.\")\n",
    "else:\n",
    "    print(\"There are still missing product names.\")\n",
    "    # Optionally, print or inspect remaining missing values\n",
    "    print(missing_product_names)\n"
   ]
  },
  {
   "cell_type": "markdown",
   "id": "7eb45c86",
   "metadata": {},
   "source": [
    "### `orders` data frame"
   ]
  },
  {
   "cell_type": "code",
   "execution_count": null,
   "id": "93e41d96",
   "metadata": {},
   "outputs": [],
   "source": []
  },
  {
   "cell_type": "code",
   "execution_count": 22,
   "id": "166e5a86",
   "metadata": {},
   "outputs": [
    {
     "name": "stdout",
     "output_type": "stream",
     "text": [
      "There are no missing values in columns for non-first orders.\n"
     ]
    }
   ],
   "source": [
    "# Are there any missing values where it's not a customer's first order?\n",
    "\n",
    "\n",
    "# Filter non-first orders\n",
    "non_first_orders = orders[orders['order_number'] > 1]\n",
    "\n",
    "# Check for missing values in non-first orders\n",
    "missing_values_non_first = non_first_orders.isnull().any()\n",
    "\n",
    "if missing_values_non_first.any():\n",
    "    print(\"There are missing values in columns for non-first orders:\")\n",
    "    print(missing_values_non_first[missing_values_non_first])\n",
    "else:\n",
    "    print(\"There are no missing values in columns for non-first orders.\")\n"
   ]
  },
  {
   "cell_type": "markdown",
   "id": "69dc9ca4",
   "metadata": {},
   "source": [
    "### `order_products` data frame"
   ]
  },
  {
   "cell_type": "code",
   "execution_count": null,
   "id": "b8240253",
   "metadata": {},
   "outputs": [],
   "source": []
  },
  {
   "cell_type": "code",
   "execution_count": 23,
   "id": "9a78e5ee",
   "metadata": {},
   "outputs": [
    {
     "name": "stdout",
     "output_type": "stream",
     "text": [
      "Minimum value in 'order_id' column: 4\n",
      "Maximum value in 'order_id' column: 3421079\n"
     ]
    }
   ],
   "source": [
    "# What are the min and max values in this column?\n",
    "\n",
    "# Identify the column for which you want to find min and max values\n",
    "column_name = 'order_id'\n",
    "\n",
    "# Find minimum and maximum values\n",
    "min_value = order_products[column_name].min()\n",
    "max_value = order_products[column_name].max()\n",
    "\n",
    "print(f\"Minimum value in '{column_name}' column: {min_value}\")\n",
    "print(f\"Maximum value in '{column_name}' column: {max_value}\")\n"
   ]
  },
  {
   "cell_type": "code",
   "execution_count": 24,
   "id": "ab9d0c2b",
   "metadata": {},
   "outputs": [
    {
     "name": "stdout",
     "output_type": "stream",
     "text": [
      "[2449164 1968313 2926893 1717990 1959075  844733   61355  936852  264710\n",
      " 1564093  129627  293169 2849370 1386261 3308010  903110 2136777 3347453\n",
      " 1888628  165801 2094761 1038146 2997021  813364 2256933  171934 2409109\n",
      " 1730767 1169835  733526  404157 3125735  747668 1800005 1961723  871281\n",
      "  388234 1648217 1477139  102236 1021563 1832957 2721963  678116 1220886\n",
      " 1673227 2999801 1633337 2470674 2625444 1677118 2479011 3383594 1183255\n",
      " 1713430 2652650 1598369 1916118  854647 1302315  888470  180546 2621907\n",
      " 1308785 2729254    9310 2170451 2979697 1625713 1529171]\n",
      "\n",
      "Saved 70 order IDs with missing 'add_to_cart_order' values.\n"
     ]
    }
   ],
   "source": [
    "# Save all order IDs with at least one missing value in 'add_to_cart_order'\n",
    "\n",
    "# Identify orders with missing values in 'add_to_cart_order'\n",
    "orders_with_missing_add_to_cart = order_products[order_products['add_to_cart_order'].isnull()]['order_id'].unique()\n",
    "\n",
    "print(orders_with_missing_add_to_cart)\n",
    "print()\n",
    "print(f\"Saved {len(orders_with_missing_add_to_cart)} order IDs with missing 'add_to_cart_order' values.\")\n"
   ]
  },
  {
   "cell_type": "code",
   "execution_count": 25,
   "id": "54c31695",
   "metadata": {},
   "outputs": [
    {
     "name": "stdout",
     "output_type": "stream",
     "text": [
      "Not all orders with missing values have more than 64 products.\n",
      "\n",
      "Orders that do not have more than 64 products:\n",
      "order_id\n",
      "9310        1\n",
      "61355      63\n",
      "102236     31\n",
      "129627      5\n",
      "165801      6\n",
      "           ..\n",
      "2999801     6\n",
      "3125735    22\n",
      "3308010    51\n",
      "3347453     7\n",
      "3383594     5\n",
      "Length: 70, dtype: int64\n"
     ]
    }
   ],
   "source": [
    "# Do all orders with missing values have more than 64 products?\n",
    "\n",
    "\n",
    "# Identify orders with missing values in any column\n",
    "orders_with_missing_values = order_products[order_products.isnull().any(axis=1)]\n",
    "\n",
    "# Calculate the number of products for each order\n",
    "product_counts = orders_with_missing_values.groupby('order_id').size()\n",
    "\n",
    "# Check if all orders with missing values have more than 64 products\n",
    "all_more_than_64 = all(product_counts > 64)\n",
    "\n",
    "if all_more_than_64:\n",
    "    print(\"All orders with missing values have more than 64 products.\")\n",
    "else:\n",
    "    print(\"Not all orders with missing values have more than 64 products.\")\n",
    "\n",
    "# Optionally, print specific orders that do not meet the condition\n",
    "if not all_more_than_64:\n",
    "    orders_not_meeting_condition = product_counts[product_counts <= 64]\n",
    "    print(\"\\nOrders that do not have more than 64 products:\")\n",
    "    print(orders_not_meeting_condition)\n"
   ]
  },
  {
   "cell_type": "code",
   "execution_count": 26,
   "id": "7a987d08",
   "metadata": {},
   "outputs": [
    {
     "name": "stdout",
     "output_type": "stream",
     "text": [
      "<class 'pandas.core.frame.DataFrame'>\n",
      "RangeIndex: 4545007 entries, 0 to 4545006\n",
      "Data columns (total 4 columns):\n",
      " #   Column             Dtype\n",
      "---  ------             -----\n",
      " 0   order_id           int64\n",
      " 1   product_id         int64\n",
      " 2   add_to_cart_order  Int64\n",
      " 3   reordered          int64\n",
      "dtypes: Int64(1), int64(3)\n",
      "memory usage: 143.0 MB\n",
      "None\n",
      "<class 'pandas.core.frame.DataFrame'>\n",
      "RangeIndex: 4545007 entries, 0 to 4545006\n",
      "Data columns (total 4 columns):\n",
      " #   Column             Non-Null Count    Dtype\n",
      "---  ------             --------------    -----\n",
      " 0   order_id           4545007 non-null  int64\n",
      " 1   product_id         4545007 non-null  int64\n",
      " 2   add_to_cart_order  4545007 non-null  Int64\n",
      " 3   reordered          4545007 non-null  int64\n",
      "dtypes: Int64(1), int64(3)\n",
      "memory usage: 143.0 MB\n"
     ]
    }
   ],
   "source": [
    "# Replace missing values with 999 and convert column to integer type\n",
    "\n",
    "\n",
    "# Replace missing values with 999 in 'add_to_cart_order' column\n",
    "order_products['add_to_cart_order'].fillna(999, inplace=True)\n",
    "\n",
    "# Convert 'add_to_cart_order' column to integer type\n",
    "order_products['add_to_cart_order'] = order_products['add_to_cart_order'].astype('Int64', errors='ignore')\n",
    "\n",
    "# Verify the changes\n",
    "print(order_products.info())  # Print DataFrame information to confirm column data types and missing values\n",
    "\n",
    "order_products.info(show_counts=True)\n",
    "\n",
    "\n"
   ]
  },
  {
   "cell_type": "markdown",
   "id": "turkish-kidney",
   "metadata": {},
   "source": [
    "# [A] Easy (must complete all to pass)"
   ]
  },
  {
   "cell_type": "markdown",
   "id": "short-capability",
   "metadata": {},
   "source": [
    "### [A1] Verify that the `'order_hour_of_day'` and `'order_dow'` values in the `orders` tables are sensible (i.e. `'order_hour_of_day'` ranges from 0 to 23 and `'order_dow'` ranges from 0 to 6)"
   ]
  },
  {
   "cell_type": "code",
   "execution_count": 27,
   "id": "growing-fruit",
   "metadata": {},
   "outputs": [
    {
     "name": "stdout",
     "output_type": "stream",
     "text": [
      "All 'order_hour_of_day' values are within the sensible range (0 to 23).\n"
     ]
    }
   ],
   "source": [
    "# Check 'order_hour_of_day' range\n",
    "valid_order_hour_of_day = orders['order_hour_of_day'].between(0, 23).all()\n",
    "\n",
    "if valid_order_hour_of_day:\n",
    "    print(\"All 'order_hour_of_day' values are within the sensible range (0 to 23).\")\n",
    "else:\n",
    "    print(\"Some 'order_hour_of_day' values are outside the sensible range (0 to 23).\")"
   ]
  },
  {
   "cell_type": "code",
   "execution_count": 28,
   "id": "accessory-malaysia",
   "metadata": {},
   "outputs": [
    {
     "name": "stdout",
     "output_type": "stream",
     "text": [
      "All 'order_dow' values are within the sensible range (0 to 6).\n"
     ]
    }
   ],
   "source": [
    "\n",
    "# Check 'order_dow' range\n",
    "valid_order_dow = orders['order_dow'].between(0, 6).all()\n",
    "\n",
    "if valid_order_dow:\n",
    "    print(\"All 'order_dow' values are within the sensible range (0 to 6).\")\n",
    "else:\n",
    "    print(\"Some 'order_dow' values are outside the sensible range (0 to 6).\")"
   ]
  },
  {
   "cell_type": "markdown",
   "id": "a6743a70",
   "metadata": {},
   "source": [
    "### [A2] What time of day do people shop for groceries?"
   ]
  },
  {
   "cell_type": "code",
   "execution_count": 29,
   "id": "a36cca27",
   "metadata": {},
   "outputs": [
    {
     "data": {
      "image/png": "[encoded data removed]",
      "text/plain": [
       "<Figure size 1000x600 with 1 Axes>"
      ]
     },
     "metadata": {},
     "output_type": "display_data"
    },
    {
     "name": "stdout",
     "output_type": "stream",
     "text": [
      "The most popular time of day for grocery shopping is at 10:00 with 40578 orders.\n"
     ]
    }
   ],
   "source": [
    "# Count orders by hour of the day\n",
    "hourly_order_counts = orders['order_hour_of_day'].value_counts().sort_index()\n",
    "\n",
    "# Plotting the distribution of orders by hour of the day\n",
    "plt.figure(figsize=(10, 6))\n",
    "plt.bar(hourly_order_counts.index, hourly_order_counts.values, color='skyblue', edgecolor='black')\n",
    "plt.xticks(hourly_order_counts.index)\n",
    "plt.title('Number of Orders by Hour of the Day')\n",
    "plt.xlabel('Hour of the Day')\n",
    "plt.ylabel('Number of Orders')\n",
    "plt.grid(True)\n",
    "plt.show()\n",
    "\n",
    "# Finding the hour with the highest number of orders\n",
    "most_popular_hour = hourly_order_counts.idxmax()\n",
    "most_popular_hour_count = hourly_order_counts.max()\n",
    "\n",
    "print(f\"The most popular time of day for grocery shopping is at {most_popular_hour}:00 with {most_popular_hour_count} orders.\")"
   ]
  },
  {
   "cell_type": "markdown",
   "id": "documented-command",
   "metadata": {},
   "source": [
    "### [A3] What day of the week do people shop for groceries?"
   ]
  },
  {
   "cell_type": "code",
   "execution_count": 40,
   "id": "chief-digit",
   "metadata": {},
   "outputs": [
    {
     "name": "stdout",
     "output_type": "stream",
     "text": [
      "The most popular day for grocery shopping is Sunday with 84090 orders.\n"
     ]
    }
   ],
   "source": [
    "# Count orders by day of the week\n",
    "day_of_week_counts = orders['order_dow'].value_counts().sort_index()\n",
    "\n",
    "# Mapping day numbers to actual names\n",
    "# day_map = {\n",
    "#     0: 'Sunday',\n",
    "#     1: 'Monday',\n",
    "#     2: 'Tuesday',\n",
    "#     3: 'Wednesday',\n",
    "#     4: 'Thursday',\n",
    "#     5: 'Friday',\n",
    "#     6: 'Saturday'\n",
    "# }\n",
    "\n",
    "# Find the day with the highest number of orders\n",
    "most_popular_day_num = day_of_week_counts.idxmax()\n",
    "most_popular_day_name = day_map[most_popular_day_num]\n",
    "most_popular_day_count = day_of_week_counts[most_popular_day_num]\n",
    "\n",
    "print(f\"The most popular day for grocery shopping is {most_popular_day_name} with {most_popular_day_count} orders.\")"
   ]
  },
  {
   "cell_type": "markdown",
   "id": "dominant-lightning",
   "metadata": {},
   "source": []
  },
  {
   "cell_type": "markdown",
   "id": "cutting-concert",
   "metadata": {},
   "source": [
    "### [A4] How long do people wait until placing another order?"
   ]
  },
  {
   "cell_type": "code",
   "execution_count": 31,
   "id": "c231f523",
   "metadata": {},
   "outputs": [
    {
     "name": "stdout",
     "output_type": "stream",
     "text": [
      "People typically wait an average of 11.10 days before placing another order.\n"
     ]
    }
   ],
   "source": [
    "# Calculate the average days since prior order\n",
    "average_days_between_orders = orders['days_since_prior_order'].mean()\n",
    "\n",
    "print(f\"People typically wait an average of {average_days_between_orders:.2f} days before placing another order.\")"
   ]
  },
  {
   "cell_type": "markdown",
   "id": "tight-staff",
   "metadata": {},
   "source": [
    "# [B] Medium (must complete all to pass)"
   ]
  },
  {
   "cell_type": "markdown",
   "id": "packed-classic",
   "metadata": {},
   "source": [
    "### [B1] Is there a difference in `'order_hour_of_day'` distributions on Wednesdays and Saturdays? Plot the histograms for both days and describe the differences that you see."
   ]
  },
  {
   "cell_type": "code",
   "execution_count": null,
   "id": "d89b8403",
   "metadata": {},
   "outputs": [],
   "source": [
    "\n",
    "# Filter orders for Wednesdays and Saturdays\n",
    "wednesday_orders = orders[orders['order_dow'] == 3]  # 3 corresponds to Wednesday\n",
    "saturday_orders = orders[orders['order_dow'] == 6]   # 6 corresponds to Saturday\n",
    "\n",
    "# Plot histograms for order_hour_of_day on Wednesdays and Saturdays\n",
    "plt.figure(figsize=(12, 6))\n",
    "\n",
    "plt.subplot(1, 2, 1)\n",
    "plt.hist(wednesday_orders['order_hour_of_day'], bins=24, color='blue', edgecolor='black')\n",
    "plt.title('Wednesday - Order Hour of Day Distribution')\n",
    "plt.xlabel('Hour of Day')\n",
    "plt.ylabel('Number of Orders')\n",
    "\n",
    "plt.subplot(1, 2, 2)\n",
    "plt.hist(saturday_orders['order_hour_of_day'], bins=24, color='green', edgecolor='black')\n",
    "plt.title('Saturday - Order Hour of Day Distribution')\n",
    "plt.xlabel('Hour of Day')\n",
    "plt.ylabel('Number of Orders')\n",
    "plt.tight_layout()\n",
    "plt.show()"
   ]
  },
  {
   "cell_type": "markdown",
   "id": "f2392ebb",
   "metadata": {},
   "source": [
    "Interpretation:\n",
    "\n",
    "Wednesday - Order Hour of Day Distribution:\n",
    "\n",
    "The histogram for Wednesday shows a distribution that peaks around morning hours (likely indicating morning grocery shopping) and has a generally lower number of orders during late night and early morning hours.\n",
    "This suggests a peak in shopping activity during morning to early afternoon on Wednesdays.\n",
    "\n",
    "\n",
    "Saturday - Order Hour of Day Distribution:\n",
    "\n",
    "The histogram for Saturday exhibits a broader distribution compared to Wednesday, with a peak in the late morning to early afternoon.\n",
    "There are relatively more orders during midday hours compared to other times of the day on Saturdays, indicating a different pattern of shopping behavior compared to Wednesdays.\n",
    "\n",
    "Overall Observations:\n",
    "\n",
    "Both distributions show peaks during daytime hours, which aligns with typical shopping habits where people tend to visit grocery stores during these hours.\n",
    "Saturdays show a more evenly spread distribution throughout the day compared to Wednesdays, where the peak is more pronounced in the morning.\n",
    "There is a noticeable decline in orders during late-night hours on both days, suggesting minimal shopping activity during those times."
   ]
  },
  {
   "cell_type": "markdown",
   "id": "e3891143",
   "metadata": {},
   "source": [
    "### [B2] What's the distribution for the number of orders per customer?"
   ]
  },
  {
   "cell_type": "code",
   "execution_count": 33,
   "id": "d8c26c23",
   "metadata": {},
   "outputs": [
    {
     "data": {
      "image/png": "[encoded data removed]",
      "text/plain": [
       "<Figure size 1000x600 with 1 Axes>"
      ]
     },
     "metadata": {},
     "output_type": "display_data"
    }
   ],
   "source": [
    "# Count the number of orders per customer (user_id)\n",
    "orders_per_customer = orders['user_id'].value_counts().sort_values()\n",
    "\n",
    "# Plot the distribution of orders per customer\n",
    "plt.figure(figsize=(10, 6))\n",
    "plt.hist(orders_per_customer, bins=50, color='skyblue', edgecolor='black')\n",
    "plt.title('Distribution of Number of Orders per Customer')\n",
    "plt.xlabel('Number of Orders')\n",
    "plt.ylabel('Number of Customers')\n",
    "plt.grid(True)\n",
    "plt.show()"
   ]
  },
  {
   "cell_type": "markdown",
   "id": "7e7351fb",
   "metadata": {},
   "source": [
    "Interpretation:\n",
    "\n",
    "The histogram shows the distribution of customers based on the number of orders they have placed.\n",
    "The x-axis represents the number of orders per customer, and the y-axis represents the number of customers.\n",
    "A higher bar indicates more customers falling within that range of orders.\n",
    "This visualization can help in understanding the ordering behavior of customers, such as identifying frequent shoppers versus occasional ones, or segmenting customers based on their order frequency."
   ]
  },
  {
   "cell_type": "markdown",
   "id": "d2eff7d5",
   "metadata": {},
   "source": []
  },
  {
   "cell_type": "markdown",
   "id": "54a0319c",
   "metadata": {},
   "source": [
    "### [B3] What are the top 20 popular products (display their id and name)?"
   ]
  },
  {
   "cell_type": "code",
   "execution_count": 34,
   "id": "exterior-arizona",
   "metadata": {
    "scrolled": true
   },
   "outputs": [
    {
     "name": "stdout",
     "output_type": "stream",
     "text": [
      "Top 20 Popular Products:\n",
      " product_id                                        product_name\n",
      "      24853                           Shredded 3 Cheese Italian\n",
      "      13177            Warrior Blend Vanilla Dietary Supplement\n",
      "      21138              Fat Free Low Sodium Poppyseed Dressing\n",
      "      21904 Earth Paste Amazingly Natural Toothpaste Peppermint\n",
      "      47210                         Fresh Farmed Tilapia Fillet\n",
      "      47767                            Essential Enzymes 500 Mg\n",
      "      47627                         Salsa Ranch Yogurt Dressing\n",
      "      16798                       Chicken Breast Grilled Strips\n",
      "      26210                                     Almond Gold Bar\n",
      "      27846                                      Calimyrna Figs\n",
      "      27967                                Egg Pasta Fettuccine\n",
      "      22936                            Blended Seeds Flatbreads\n",
      "      24965                                  European Chocolate\n",
      "      45008               Men Sport Anti-Perspirant & Deodorant\n",
      "      39276                                             Bananas\n",
      "      49684           Vodka- Triple Distilled- Twist of Vanilla\n",
      "      28205                         Golden Toasted Bread Crumbs\n",
      "       5877                      Organic Rose Maqui & Cocao Bar\n",
      "       8278                Extra Strength Acetaminophen Caplets\n",
      "      40707                                      Holiday Cheers\n"
     ]
    }
   ],
   "source": [
    "# Merge products and order_products on product_id\n",
    "merged_df = pd.merge(products, order_products, on='product_id', how='inner')\n",
    "\n",
    "# Count the occurrences of each product_id to determine popularity\n",
    "top_products = merged_df['product_id'].value_counts().head(20)\n",
    "\n",
    "# Extract product IDs and names from products DataFrame\n",
    "top_products_info = products.loc[top_products.index][['product_id', 'product_name']]\n",
    "\n",
    "# Display the top 20 popular products with their IDs and names\n",
    "print(\"Top 20 Popular Products:\")\n",
    "print(top_products_info.to_string(index=False))"
   ]
  },
  {
   "cell_type": "code",
   "execution_count": null,
   "id": "2ba8cfe5",
   "metadata": {},
   "outputs": [],
   "source": []
  },
  {
   "cell_type": "markdown",
   "id": "gross-theme",
   "metadata": {},
   "source": [
    "# [C] Hard (must complete at least two to pass)"
   ]
  },
  {
   "cell_type": "markdown",
   "id": "romantic-deposit",
   "metadata": {},
   "source": [
    "### [C1] How many items do people typically buy in one order? What does the distribution look like?"
   ]
  },
  {
   "cell_type": "code",
   "execution_count": 35,
   "id": "virtual-punch",
   "metadata": {},
   "outputs": [
    {
     "data": {
      "image/png": "[encoded data removed]",
      "text/plain": [
       "<Figure size 1000x600 with 1 Axes>"
      ]
     },
     "metadata": {},
     "output_type": "display_data"
    },
    {
     "name": "stdout",
     "output_type": "stream",
     "text": [
      "People typically buy an average of 10.10 items in one order.\n"
     ]
    }
   ],
   "source": [
    "# Merge orders and order_products on order_id\n",
    "merged_df = pd.merge(orders, order_products, on='order_id', how='inner')\n",
    "\n",
    "# Group by order_id and count number of unique products per order\n",
    "items_per_order = merged_df.groupby('order_id')['product_id'].nunique()\n",
    "\n",
    "# Calculate average items per order\n",
    "average_items_per_order = items_per_order.mean()\n",
    "\n",
    "# Plot the distribution of items per order\n",
    "plt.figure(figsize=(10, 6))\n",
    "plt.hist(items_per_order, bins=50, color='skyblue', edgecolor='black')\n",
    "plt.axvline(average_items_per_order, color='red', linestyle='dashed', linewidth=1.5, label=f'Average: {average_items_per_order:.2f}')\n",
    "plt.title('Distribution of Items per Order')\n",
    "plt.xlabel('Number of Items')\n",
    "plt.ylabel('Number of Orders')\n",
    "plt.legend()\n",
    "plt.grid(True)\n",
    "plt.show()\n",
    "\n",
    "# Print average items per order\n",
    "print(f\"People typically buy an average of {average_items_per_order:.2f} items in one order.\")"
   ]
  },
  {
   "cell_type": "markdown",
   "id": "ce7ff4ea",
   "metadata": {},
   "source": [
    "Interpretation:\n",
    "\n",
    "The histogram reveals the distribution of orders based on the number of unique items purchased per order.\n",
    "It shows that a significant number of orders fall within a range centered around the average of 10.10 items per order.\n",
    "This distribution can help businesses understand typical customer buying behavior, aiding in inventory management, marketing strategies, and product bundling decisions."
   ]
  },
  {
   "cell_type": "markdown",
   "id": "5e6b5537",
   "metadata": {},
   "source": [
    "### [C2] What are the top 20 items that are reordered most frequently (display their names and product IDs)?"
   ]
  },
  {
   "cell_type": "code",
   "execution_count": 36,
   "id": "9374e55a",
   "metadata": {},
   "outputs": [
    {
     "name": "stdout",
     "output_type": "stream",
     "text": [
      "Top 20 Reordered Products:\n",
      " product_id             product_name\n",
      "      24852                   Banana\n",
      "      13176   Bag of Organic Bananas\n",
      "      21137     Organic Strawberries\n",
      "      21903     Organic Baby Spinach\n",
      "      47209     Organic Hass Avocado\n",
      "      47766          Organic Avocado\n",
      "      27845       Organic Whole Milk\n",
      "      47626              Large Lemon\n",
      "      27966      Organic Raspberries\n",
      "      16797             Strawberries\n",
      "      26209                    Limes\n",
      "      22935     Organic Yellow Onion\n",
      "      24964           Organic Garlic\n",
      "      45007         Organic Zucchini\n",
      "      49683           Cucumber Kirby\n",
      "      28204       Organic Fuji Apple\n",
      "       8277 Apple Honeycrisp Organic\n",
      "      39275      Organic Blueberries\n",
      "       5876            Organic Lemon\n",
      "      49235      Organic Half & Half\n"
     ]
    }
   ],
   "source": [
    "\n",
    "# Filter order_products for reordered products\n",
    "reordered_items = order_products[order_products['reordered'] == 1]\n",
    "\n",
    "# Count the number of times each product is reordered\n",
    "reorder_counts = reordered_items['product_id'].value_counts().head(20)\n",
    "\n",
    "# Merge with products DataFrame to get product names\n",
    "top_reordered_products = pd.merge(reorder_counts, products, left_index=True, right_on='product_id')\n",
    "\n",
    "# Select and display product_id and product_name for the top reordered products\n",
    "top_reordered_products = top_reordered_products[['product_id', 'product_name']]\n",
    "\n",
    "print(\"Top 20 Reordered Products:\")\n",
    "print(top_reordered_products.to_string(index=False))"
   ]
  },
  {
   "cell_type": "markdown",
   "id": "9d312b14",
   "metadata": {},
   "source": [
    "### [C3] For each product, what proportion of its orders are reorders?"
   ]
  },
  {
   "cell_type": "code",
   "execution_count": 37,
   "id": "8ae9f4b1",
   "metadata": {},
   "outputs": [
    {
     "name": "stdout",
     "output_type": "stream",
     "text": [
      "Proportion of Orders that are Reorders for Each Product:\n"
     ]
    },
    {
     "name": "stderr",
     "output_type": "stream",
     "text": [
      "IOPub data rate exceeded.\n",
      "The Jupyter server will temporarily stop sending output\n",
      "to the client in order to avoid crashing it.\n",
      "To change this limit, set the config variable\n",
      "`--ServerApp.iopub_data_rate_limit`.\n",
      "\n",
      "Current values:\n",
      "ServerApp.iopub_data_rate_limit=1000000.0 (bytes/sec)\n",
      "ServerApp.rate_limit_window=3.0 (secs)\n",
      "\n"
     ]
    }
   ],
   "source": [
    "\n",
    "# Group order_products by product_id and calculate reorder proportions\n",
    "reorder_proportions = order_products.groupby('product_id')['reordered'].agg(['sum', 'count'])\n",
    "reorder_proportions['reorder_proportion'] = reorder_proportions['sum'] / reorder_proportions['count']\n",
    "\n",
    "# Merge with products DataFrame to get product names\n",
    "proportions_merged = pd.merge(reorder_proportions, products, left_index=True, right_on='product_id')\n",
    "\n",
    "# Select and display product_id, product_name, and reorder_proportion\n",
    "proportions_merged = proportions_merged[['product_id', 'product_name', 'reorder_proportion']]\n",
    "\n",
    "# Sort by reorder_proportion descending\n",
    "proportions_merged = proportions_merged.sort_values(by='reorder_proportion', ascending=False)\n",
    "\n",
    "print(\"Proportion of Orders that are Reorders for Each Product:\")\n",
    "print(proportions_merged.to_string(index=False))"
   ]
  },
  {
   "cell_type": "markdown",
   "id": "subject-boxing",
   "metadata": {},
   "source": [
    "### [C4] For each customer, what proportion of their products ordered are reorders?"
   ]
  },
  {
   "cell_type": "code",
   "execution_count": 38,
   "id": "medical-couple",
   "metadata": {
    "scrolled": true
   },
   "outputs": [
    {
     "name": "stdout",
     "output_type": "stream",
     "text": [
      "Proportion of Products Ordered that are Reorders for Each Customer:\n"
     ]
    },
    {
     "name": "stderr",
     "output_type": "stream",
     "text": [
      "IOPub data rate exceeded.\n",
      "The Jupyter server will temporarily stop sending output\n",
      "to the client in order to avoid crashing it.\n",
      "To change this limit, set the config variable\n",
      "`--ServerApp.iopub_data_rate_limit`.\n",
      "\n",
      "Current values:\n",
      "ServerApp.iopub_data_rate_limit=1000000.0 (bytes/sec)\n",
      "ServerApp.rate_limit_window=3.0 (secs)\n",
      "\n"
     ]
    }
   ],
   "source": [
    "\n",
    "# Merge orders and order_products on order_id\n",
    "merged_df = pd.merge(orders, order_products, on='order_id', how='inner')\n",
    "\n",
    "# Group by user_id and calculate reorder proportions\n",
    "customer_reorder_proportions = merged_df.groupby('user_id')['reordered'].agg(['sum', 'count'])\n",
    "customer_reorder_proportions['reorder_proportion'] = customer_reorder_proportions['sum'] / customer_reorder_proportions['count']\n",
    "\n",
    "# Optionally merge with customer information (if available)\n",
    "# merged_df = pd.merge(customer_reorder_proportions, customers, left_index=True, right_on='user_id')\n",
    "\n",
    "# Select and display user_id and reorder_proportion\n",
    "customer_reorder_proportions = customer_reorder_proportions.reset_index()[['user_id', 'reorder_proportion']]\n",
    "\n",
    "# Sort by reorder_proportion descending\n",
    "customer_reorder_proportions = customer_reorder_proportions.sort_values(by='reorder_proportion', ascending=False)\n",
    "\n",
    "print(\"Proportion of Products Ordered that are Reorders for Each Customer:\")\n",
    "print(customer_reorder_proportions.to_string(index=False))"
   ]
  },
  {
   "cell_type": "code",
   "execution_count": null,
   "id": "8892e4b4",
   "metadata": {},
   "outputs": [],
   "source": []
  },
  {
   "cell_type": "markdown",
   "id": "92d35137",
   "metadata": {},
   "source": [
    "### [C5] What are the top 20 items that people put in their carts first? "
   ]
  },
  {
   "cell_type": "code",
   "execution_count": 39,
   "id": "0ae57274",
   "metadata": {},
   "outputs": [
    {
     "name": "stdout",
     "output_type": "stream",
     "text": [
      "Top 20 Items that People Put in Their Carts First:\n",
      " product_id                product_name\n",
      "      24852                      Banana\n",
      "      13176      Bag of Organic Bananas\n",
      "      27845          Organic Whole Milk\n",
      "      21137        Organic Strawberries\n",
      "      47209        Organic Hass Avocado\n",
      "      21903        Organic Baby Spinach\n",
      "      47766             Organic Avocado\n",
      "      19660                Spring Water\n",
      "      16797                Strawberries\n",
      "      27966         Organic Raspberries\n",
      "      44632  Sparkling Water Grapefruit\n",
      "      49235         Organic Half & Half\n",
      "      47626                 Large Lemon\n",
      "        196                        Soda\n",
      "      38689    Organic Reduced Fat Milk\n",
      "      26209                       Limes\n",
      "      12341               Hass Avocados\n",
      "       5785 Organic Reduced Fat 2% Milk\n",
      "      27086                 Half & Half\n",
      "      22935        Organic Yellow Onion\n"
     ]
    }
   ],
   "source": [
    "# Filter order_products for products that are added first (add_to_cart_order == 1)\n",
    "first_cart_items = order_products[order_products['add_to_cart_order'] == 1]\n",
    "\n",
    "# Count the number of times each product is added first\n",
    "first_cart_counts = first_cart_items['product_id'].value_counts().head(20)\n",
    "\n",
    "# Merge with products DataFrame to get product names\n",
    "top_first_cart_products = pd.merge(first_cart_counts, products, left_index=True, right_on='product_id')\n",
    "\n",
    "# Select and display product_id and product_name for the top first cart items\n",
    "top_first_cart_products = top_first_cart_products[['product_id', 'product_name']]\n",
    "\n",
    "print(\"Top 20 Items that People Put in Their Carts First:\")\n",
    "print(top_first_cart_products.to_string(index=False))"
   ]
  },
  {
   "cell_type": "markdown",
   "id": "58c26578",
   "metadata": {},
   "source": []
  },
  {
   "cell_type": "markdown",
   "id": "5373f374",
   "metadata": {
    "scrolled": true
   },
   "source": [
    "Summary:\n",
    "\n",
    "Our Instacart Data Analysis Project delves into analyzing customer behavior and product trends using data from Instacart, a popular online grocery delivery service. The project aims to extract valuable insights that can enhance customer experience, optimize inventory management, and inform strategic decisions for Instacart.There are some key findings of teh project below.\n",
    "\n",
    "\n",
    "Key Findings:\n",
    "\n",
    "Peak Shopping Times:\n",
    "Mornings are the peak hours for grocery shopping, with distinct patterns on Wednesday and Saturday.\n",
    "\n",
    "Reorder Insights:\n",
    "Customers typically reorder every 11 days on average, highlighting potential for personalized marketing strategies.\n",
    "\n",
    "Top-Selling Products and Departments:\n",
    "Identified the most popular products and departments, such as fresh produce and dairy, guiding inventory management and promotional efforts.\n",
    "\n",
    "Customer Behavior Analysis:\n",
    "Analyzed item frequency per order, revealing insights into purchasing habits and preferences.\n",
    "\n",
    "\n",
    "Recommendations:\n",
    "\n",
    "Enhance Customer Experience:\n",
    "Implement personalized recommendations based on reorder patterns to increase customer retention.\n",
    "Optimize delivery schedules during peak shopping times to improve service reliability.\n",
    "\n",
    "\n",
    "Optimize Inventory Management:\n",
    "Adjust inventory levels based on popular products and reorder frequencies to minimize stockouts and overstock situations.\n",
    "\n",
    "\n"
   ]
  },
  {
   "cell_type": "markdown",
   "id": "c6ead728",
   "metadata": {},
   "source": [
    "# "
   ]
  },
  {
   "cell_type": "code",
   "execution_count": null,
   "id": "41452b10-70a2-49c7-a247-50130e8bb335",
   "metadata": {},
   "outputs": [],
   "source": []
  }
 ],
 "metadata": {
  "ExecuteTimeLog": [
   {
    "duration": 464,
    "start_time": "2024-06-29T03:58:17.934Z"
   },
   {
    "duration": 461,
    "start_time": "2024-06-29T03:58:18.404Z"
   },
   {
    "duration": 78,
    "start_time": "2024-06-29T03:58:18.867Z"
   },
   {
    "duration": 3442,
    "start_time": "2024-06-29T03:58:18.949Z"
   },
   {
    "duration": 14,
    "start_time": "2024-06-29T03:58:22.393Z"
   },
   {
    "duration": 9,
    "start_time": "2024-06-29T03:58:22.409Z"
   },
   {
    "duration": 758,
    "start_time": "2024-06-29T03:58:22.421Z"
   },
   {
    "duration": 0,
    "start_time": "2024-06-29T03:58:23.184Z"
   },
   {
    "duration": 0,
    "start_time": "2024-06-29T03:58:23.185Z"
   },
   {
    "duration": 0,
    "start_time": "2024-06-29T03:58:23.187Z"
   },
   {
    "duration": 0,
    "start_time": "2024-06-29T03:58:23.189Z"
   },
   {
    "duration": 0,
    "start_time": "2024-06-29T03:58:23.202Z"
   },
   {
    "duration": 0,
    "start_time": "2024-06-29T03:58:23.204Z"
   },
   {
    "duration": 0,
    "start_time": "2024-06-29T03:58:23.207Z"
   },
   {
    "duration": 0,
    "start_time": "2024-06-29T03:58:23.209Z"
   },
   {
    "duration": 0,
    "start_time": "2024-06-29T03:58:23.212Z"
   },
   {
    "duration": 0,
    "start_time": "2024-06-29T03:58:23.215Z"
   },
   {
    "duration": 0,
    "start_time": "2024-06-29T03:58:23.218Z"
   },
   {
    "duration": 0,
    "start_time": "2024-06-29T03:58:23.220Z"
   },
   {
    "duration": 0,
    "start_time": "2024-06-29T03:58:23.222Z"
   },
   {
    "duration": 0,
    "start_time": "2024-06-29T03:58:23.224Z"
   },
   {
    "duration": 0,
    "start_time": "2024-06-29T03:58:23.228Z"
   },
   {
    "duration": 0,
    "start_time": "2024-06-29T03:58:23.230Z"
   },
   {
    "duration": 0,
    "start_time": "2024-06-29T03:58:23.233Z"
   },
   {
    "duration": 0,
    "start_time": "2024-06-29T03:58:23.234Z"
   },
   {
    "duration": 0,
    "start_time": "2024-06-29T03:58:23.238Z"
   },
   {
    "duration": 0,
    "start_time": "2024-06-29T03:58:23.304Z"
   },
   {
    "duration": 0,
    "start_time": "2024-06-29T03:58:23.306Z"
   },
   {
    "duration": 0,
    "start_time": "2024-06-29T03:58:23.308Z"
   },
   {
    "duration": 430,
    "start_time": "2024-06-29T06:08:14.460Z"
   },
   {
    "duration": 209,
    "start_time": "2024-06-29T06:08:14.901Z"
   },
   {
    "duration": 98,
    "start_time": "2024-06-29T06:08:15.121Z"
   },
   {
    "duration": 1341,
    "start_time": "2024-06-29T06:08:15.226Z"
   },
   {
    "duration": 15,
    "start_time": "2024-06-29T06:08:16.570Z"
   },
   {
    "duration": 31,
    "start_time": "2024-06-29T06:08:16.588Z"
   },
   {
    "duration": 130,
    "start_time": "2024-06-29T06:08:16.621Z"
   },
   {
    "duration": 13,
    "start_time": "2024-06-29T06:08:16.757Z"
   },
   {
    "duration": 268,
    "start_time": "2024-06-29T06:08:16.773Z"
   },
   {
    "duration": 175,
    "start_time": "2024-06-29T06:08:17.044Z"
   },
   {
    "duration": 110,
    "start_time": "2024-06-29T06:08:17.222Z"
   },
   {
    "duration": 23,
    "start_time": "2024-06-29T06:08:17.335Z"
   },
   {
    "duration": 15,
    "start_time": "2024-06-29T06:08:17.361Z"
   },
   {
    "duration": 47,
    "start_time": "2024-06-29T06:08:17.401Z"
   },
   {
    "duration": 53,
    "start_time": "2024-06-29T06:08:17.451Z"
   },
   {
    "duration": 2121,
    "start_time": "2024-06-29T06:08:17.507Z"
   },
   {
    "duration": 1927,
    "start_time": "2024-06-29T06:08:19.631Z"
   },
   {
    "duration": 16,
    "start_time": "2024-06-29T06:08:21.561Z"
   },
   {
    "duration": 32,
    "start_time": "2024-06-29T06:08:21.580Z"
   },
   {
    "duration": 9,
    "start_time": "2024-06-29T06:08:21.615Z"
   },
   {
    "duration": 0,
    "start_time": "2024-06-29T06:08:21.628Z"
   },
   {
    "duration": 0,
    "start_time": "2024-06-29T06:08:21.629Z"
   },
   {
    "duration": 0,
    "start_time": "2024-06-29T06:08:21.633Z"
   },
   {
    "duration": 0,
    "start_time": "2024-06-29T06:08:21.635Z"
   },
   {
    "duration": 0,
    "start_time": "2024-06-29T06:08:21.636Z"
   },
   {
    "duration": 0,
    "start_time": "2024-06-29T06:08:21.640Z"
   },
   {
    "duration": 0,
    "start_time": "2024-06-29T06:08:21.642Z"
   },
   {
    "duration": 0,
    "start_time": "2024-06-29T06:08:21.645Z"
   },
   {
    "duration": 0,
    "start_time": "2024-06-29T06:08:21.647Z"
   },
   {
    "duration": 10,
    "start_time": "2024-06-29T06:10:59.550Z"
   },
   {
    "duration": 426,
    "start_time": "2024-06-29T06:11:10.357Z"
   },
   {
    "duration": 241,
    "start_time": "2024-06-29T06:11:10.786Z"
   },
   {
    "duration": 96,
    "start_time": "2024-06-29T06:11:11.031Z"
   },
   {
    "duration": 1388,
    "start_time": "2024-06-29T06:11:11.133Z"
   },
   {
    "duration": 15,
    "start_time": "2024-06-29T06:11:12.526Z"
   },
   {
    "duration": 16,
    "start_time": "2024-06-29T06:11:12.544Z"
   },
   {
    "duration": 149,
    "start_time": "2024-06-29T06:11:12.563Z"
   },
   {
    "duration": 15,
    "start_time": "2024-06-29T06:11:12.716Z"
   },
   {
    "duration": 236,
    "start_time": "2024-06-29T06:11:12.734Z"
   },
   {
    "duration": 178,
    "start_time": "2024-06-29T06:11:12.977Z"
   },
   {
    "duration": 115,
    "start_time": "2024-06-29T06:11:13.158Z"
   },
   {
    "duration": 37,
    "start_time": "2024-06-29T06:11:13.278Z"
   },
   {
    "duration": 10,
    "start_time": "2024-06-29T06:11:13.318Z"
   },
   {
    "duration": 76,
    "start_time": "2024-06-29T06:11:13.331Z"
   },
   {
    "duration": 32,
    "start_time": "2024-06-29T06:11:13.410Z"
   },
   {
    "duration": 1348,
    "start_time": "2024-06-29T06:11:13.445Z"
   },
   {
    "duration": 1307,
    "start_time": "2024-06-29T06:11:14.796Z"
   },
   {
    "duration": 17,
    "start_time": "2024-06-29T06:11:16.106Z"
   },
   {
    "duration": 16,
    "start_time": "2024-06-29T06:11:16.127Z"
   },
   {
    "duration": 10,
    "start_time": "2024-06-29T06:11:16.146Z"
   },
   {
    "duration": 23,
    "start_time": "2024-06-29T06:11:16.205Z"
   },
   {
    "duration": 25,
    "start_time": "2024-06-29T06:11:16.231Z"
   },
   {
    "duration": 50,
    "start_time": "2024-06-29T06:11:16.259Z"
   },
   {
    "duration": 508,
    "start_time": "2024-06-29T06:11:16.312Z"
   },
   {
    "duration": 0,
    "start_time": "2024-06-29T06:11:16.823Z"
   },
   {
    "duration": 0,
    "start_time": "2024-06-29T06:11:16.825Z"
   },
   {
    "duration": 0,
    "start_time": "2024-06-29T06:11:16.827Z"
   },
   {
    "duration": 0,
    "start_time": "2024-06-29T06:11:16.830Z"
   },
   {
    "duration": 0,
    "start_time": "2024-06-29T06:11:16.832Z"
   },
   {
    "duration": 12,
    "start_time": "2024-06-29T06:12:13.172Z"
   },
   {
    "duration": 417,
    "start_time": "2024-06-29T06:12:44.671Z"
   },
   {
    "duration": 228,
    "start_time": "2024-06-29T06:12:45.092Z"
   },
   {
    "duration": 80,
    "start_time": "2024-06-29T06:12:45.323Z"
   },
   {
    "duration": 1380,
    "start_time": "2024-06-29T06:12:45.407Z"
   },
   {
    "duration": 22,
    "start_time": "2024-06-29T06:12:46.790Z"
   },
   {
    "duration": 15,
    "start_time": "2024-06-29T06:12:46.815Z"
   },
   {
    "duration": 139,
    "start_time": "2024-06-29T06:12:46.833Z"
   },
   {
    "duration": 29,
    "start_time": "2024-06-29T06:12:46.977Z"
   },
   {
    "duration": 231,
    "start_time": "2024-06-29T06:12:47.009Z"
   },
   {
    "duration": 180,
    "start_time": "2024-06-29T06:12:47.247Z"
   },
   {
    "duration": 112,
    "start_time": "2024-06-29T06:12:47.429Z"
   },
   {
    "duration": 23,
    "start_time": "2024-06-29T06:12:47.543Z"
   },
   {
    "duration": 34,
    "start_time": "2024-06-29T06:12:47.570Z"
   },
   {
    "duration": 49,
    "start_time": "2024-06-29T06:12:47.607Z"
   },
   {
    "duration": 58,
    "start_time": "2024-06-29T06:12:47.658Z"
   },
   {
    "duration": 1374,
    "start_time": "2024-06-29T06:12:47.719Z"
   },
   {
    "duration": 1329,
    "start_time": "2024-06-29T06:12:49.096Z"
   },
   {
    "duration": 16,
    "start_time": "2024-06-29T06:12:50.428Z"
   },
   {
    "duration": 16,
    "start_time": "2024-06-29T06:12:50.448Z"
   },
   {
    "duration": 38,
    "start_time": "2024-06-29T06:12:50.469Z"
   },
   {
    "duration": 19,
    "start_time": "2024-06-29T06:12:50.510Z"
   },
   {
    "duration": 21,
    "start_time": "2024-06-29T06:12:50.532Z"
   },
   {
    "duration": 57,
    "start_time": "2024-06-29T06:12:50.556Z"
   },
   {
    "duration": 11,
    "start_time": "2024-06-29T06:12:50.616Z"
   },
   {
    "duration": 32,
    "start_time": "2024-06-29T06:12:50.630Z"
   },
   {
    "duration": 72,
    "start_time": "2024-06-29T06:12:50.665Z"
   },
   {
    "duration": 8,
    "start_time": "2024-06-29T06:12:50.739Z"
   },
   {
    "duration": 9,
    "start_time": "2024-06-29T06:12:50.755Z"
   },
   {
    "duration": 162,
    "start_time": "2024-06-29T06:12:50.767Z"
   },
   {
    "duration": 502,
    "start_time": "2024-06-29T06:17:25.070Z"
   },
   {
    "duration": 216,
    "start_time": "2024-06-29T06:17:25.577Z"
   },
   {
    "duration": 82,
    "start_time": "2024-06-29T06:17:25.801Z"
   },
   {
    "duration": 1418,
    "start_time": "2024-06-29T06:17:25.901Z"
   },
   {
    "duration": 17,
    "start_time": "2024-06-29T06:17:27.322Z"
   },
   {
    "duration": 17,
    "start_time": "2024-06-29T06:17:27.343Z"
   },
   {
    "duration": 153,
    "start_time": "2024-06-29T06:17:27.363Z"
   },
   {
    "duration": 15,
    "start_time": "2024-06-29T06:17:27.518Z"
   },
   {
    "duration": 246,
    "start_time": "2024-06-29T06:17:27.537Z"
   },
   {
    "duration": 213,
    "start_time": "2024-06-29T06:17:27.802Z"
   },
   {
    "duration": 119,
    "start_time": "2024-06-29T06:17:28.018Z"
   },
   {
    "duration": 39,
    "start_time": "2024-06-29T06:17:28.140Z"
   },
   {
    "duration": 22,
    "start_time": "2024-06-29T06:17:28.184Z"
   },
   {
    "duration": 68,
    "start_time": "2024-06-29T06:17:28.209Z"
   },
   {
    "duration": 38,
    "start_time": "2024-06-29T06:17:28.302Z"
   },
   {
    "duration": 1408,
    "start_time": "2024-06-29T06:17:28.345Z"
   },
   {
    "duration": 1357,
    "start_time": "2024-06-29T06:17:29.756Z"
   },
   {
    "duration": 15,
    "start_time": "2024-06-29T06:17:31.119Z"
   },
   {
    "duration": 18,
    "start_time": "2024-06-29T06:17:31.138Z"
   },
   {
    "duration": 43,
    "start_time": "2024-06-29T06:17:31.160Z"
   },
   {
    "duration": 22,
    "start_time": "2024-06-29T06:17:31.207Z"
   },
   {
    "duration": 27,
    "start_time": "2024-06-29T06:17:31.231Z"
   },
   {
    "duration": 51,
    "start_time": "2024-06-29T06:17:31.262Z"
   },
   {
    "duration": 13,
    "start_time": "2024-06-29T06:17:31.316Z"
   },
   {
    "duration": 71,
    "start_time": "2024-06-29T06:17:31.332Z"
   },
   {
    "duration": 71,
    "start_time": "2024-06-29T06:17:31.406Z"
   },
   {
    "duration": 25,
    "start_time": "2024-06-29T06:17:31.481Z"
   },
   {
    "duration": 11,
    "start_time": "2024-06-29T06:17:31.519Z"
   },
   {
    "duration": 461,
    "start_time": "2024-06-29T06:17:31.533Z"
   },
   {
    "duration": 0,
    "start_time": "2024-06-29T06:17:32.002Z"
   },
   {
    "duration": 0,
    "start_time": "2024-06-29T06:17:32.004Z"
   },
   {
    "duration": 0,
    "start_time": "2024-06-29T06:17:32.007Z"
   },
   {
    "duration": 0,
    "start_time": "2024-06-29T06:17:32.008Z"
   },
   {
    "duration": 0,
    "start_time": "2024-06-29T06:17:32.010Z"
   },
   {
    "duration": 0,
    "start_time": "2024-06-29T06:17:32.012Z"
   },
   {
    "duration": 0,
    "start_time": "2024-06-29T06:17:32.014Z"
   },
   {
    "duration": 0,
    "start_time": "2024-06-29T06:17:32.016Z"
   },
   {
    "duration": 0,
    "start_time": "2024-06-29T06:17:32.017Z"
   },
   {
    "duration": 0,
    "start_time": "2024-06-29T06:17:32.019Z"
   },
   {
    "duration": 695,
    "start_time": "2024-06-29T06:18:34.211Z"
   },
   {
    "duration": 264,
    "start_time": "2024-06-29T06:18:34.910Z"
   },
   {
    "duration": 76,
    "start_time": "2024-06-29T06:18:35.178Z"
   },
   {
    "duration": 1282,
    "start_time": "2024-06-29T06:18:35.259Z"
   },
   {
    "duration": 14,
    "start_time": "2024-06-29T06:18:36.544Z"
   },
   {
    "duration": 15,
    "start_time": "2024-06-29T06:18:36.561Z"
   },
   {
    "duration": 121,
    "start_time": "2024-06-29T06:18:36.602Z"
   },
   {
    "duration": 14,
    "start_time": "2024-06-29T06:18:36.727Z"
   },
   {
    "duration": 242,
    "start_time": "2024-06-29T06:18:36.744Z"
   },
   {
    "duration": 181,
    "start_time": "2024-06-29T06:18:37.004Z"
   },
   {
    "duration": 114,
    "start_time": "2024-06-29T06:18:37.188Z"
   },
   {
    "duration": 23,
    "start_time": "2024-06-29T06:18:37.304Z"
   },
   {
    "duration": 9,
    "start_time": "2024-06-29T06:18:37.330Z"
   },
   {
    "duration": 83,
    "start_time": "2024-06-29T06:18:37.343Z"
   },
   {
    "duration": 33,
    "start_time": "2024-06-29T06:18:37.429Z"
   },
   {
    "duration": 1365,
    "start_time": "2024-06-29T06:18:37.465Z"
   },
   {
    "duration": 1317,
    "start_time": "2024-06-29T06:18:38.833Z"
   },
   {
    "duration": 17,
    "start_time": "2024-06-29T06:18:40.152Z"
   },
   {
    "duration": 37,
    "start_time": "2024-06-29T06:18:40.173Z"
   },
   {
    "duration": 11,
    "start_time": "2024-06-29T06:18:40.213Z"
   },
   {
    "duration": 20,
    "start_time": "2024-06-29T06:18:40.227Z"
   },
   {
    "duration": 63,
    "start_time": "2024-06-29T06:18:40.250Z"
   },
   {
    "duration": 17,
    "start_time": "2024-06-29T06:18:40.316Z"
   },
   {
    "duration": 11,
    "start_time": "2024-06-29T06:18:40.336Z"
   },
   {
    "duration": 72,
    "start_time": "2024-06-29T06:18:40.350Z"
   },
   {
    "duration": 41,
    "start_time": "2024-06-29T06:18:40.426Z"
   },
   {
    "duration": 31,
    "start_time": "2024-06-29T06:18:40.471Z"
   },
   {
    "duration": 7,
    "start_time": "2024-06-29T06:18:40.510Z"
   },
   {
    "duration": 440,
    "start_time": "2024-06-29T06:18:40.521Z"
   },
   {
    "duration": 12,
    "start_time": "2024-06-29T06:18:40.964Z"
   },
   {
    "duration": 7,
    "start_time": "2024-06-29T06:18:41.001Z"
   },
   {
    "duration": 606,
    "start_time": "2024-06-29T06:18:41.010Z"
   },
   {
    "duration": 355,
    "start_time": "2024-06-29T06:18:41.620Z"
   },
   {
    "duration": 1318,
    "start_time": "2024-06-29T06:18:41.978Z"
   },
   {
    "duration": 4357,
    "start_time": "2024-06-29T06:18:43.303Z"
   },
   {
    "duration": 264,
    "start_time": "2024-06-29T06:18:47.663Z"
   },
   {
    "duration": 1384,
    "start_time": "2024-06-29T06:18:47.930Z"
   },
   {
    "duration": 3886,
    "start_time": "2024-06-29T06:18:49.318Z"
   },
   {
    "duration": 107,
    "start_time": "2024-06-29T06:18:53.207Z"
   },
   {
    "duration": 704,
    "start_time": "2024-06-29T06:20:04.795Z"
   },
   {
    "duration": 284,
    "start_time": "2024-06-29T06:20:05.502Z"
   },
   {
    "duration": 96,
    "start_time": "2024-06-29T06:20:05.789Z"
   },
   {
    "duration": 1388,
    "start_time": "2024-06-29T06:20:05.890Z"
   },
   {
    "duration": 24,
    "start_time": "2024-06-29T06:20:07.282Z"
   },
   {
    "duration": 15,
    "start_time": "2024-06-29T06:20:07.309Z"
   },
   {
    "duration": 133,
    "start_time": "2024-06-29T06:20:07.328Z"
   },
   {
    "duration": 14,
    "start_time": "2024-06-29T06:20:07.464Z"
   },
   {
    "duration": 246,
    "start_time": "2024-06-29T06:20:07.482Z"
   },
   {
    "duration": 176,
    "start_time": "2024-06-29T06:20:07.733Z"
   },
   {
    "duration": 109,
    "start_time": "2024-06-29T06:20:07.912Z"
   },
   {
    "duration": 23,
    "start_time": "2024-06-29T06:20:08.024Z"
   },
   {
    "duration": 11,
    "start_time": "2024-06-29T06:20:08.050Z"
   },
   {
    "duration": 84,
    "start_time": "2024-06-29T06:20:08.063Z"
   },
   {
    "duration": 64,
    "start_time": "2024-06-29T06:20:08.150Z"
   },
   {
    "duration": 1350,
    "start_time": "2024-06-29T06:20:08.218Z"
   },
   {
    "duration": 1355,
    "start_time": "2024-06-29T06:20:09.570Z"
   },
   {
    "duration": 16,
    "start_time": "2024-06-29T06:20:10.928Z"
   },
   {
    "duration": 16,
    "start_time": "2024-06-29T06:20:10.947Z"
   },
   {
    "duration": 43,
    "start_time": "2024-06-29T06:20:10.966Z"
   },
   {
    "duration": 19,
    "start_time": "2024-06-29T06:20:11.014Z"
   },
   {
    "duration": 21,
    "start_time": "2024-06-29T06:20:11.036Z"
   },
   {
    "duration": 54,
    "start_time": "2024-06-29T06:20:11.060Z"
   },
   {
    "duration": 11,
    "start_time": "2024-06-29T06:20:11.116Z"
   },
   {
    "duration": 32,
    "start_time": "2024-06-29T06:20:11.130Z"
   },
   {
    "duration": 74,
    "start_time": "2024-06-29T06:20:11.165Z"
   },
   {
    "duration": 8,
    "start_time": "2024-06-29T06:20:11.241Z"
   },
   {
    "duration": 6,
    "start_time": "2024-06-29T06:20:11.256Z"
   },
   {
    "duration": 422,
    "start_time": "2024-06-29T06:20:11.302Z"
   },
   {
    "duration": 15,
    "start_time": "2024-06-29T06:20:11.728Z"
   },
   {
    "duration": 8,
    "start_time": "2024-06-29T06:20:11.747Z"
   },
   {
    "duration": 639,
    "start_time": "2024-06-29T06:20:11.758Z"
   },
   {
    "duration": 357,
    "start_time": "2024-06-29T06:20:12.402Z"
   },
   {
    "duration": 1364,
    "start_time": "2024-06-29T06:20:12.762Z"
   },
   {
    "duration": 4373,
    "start_time": "2024-06-29T06:20:14.129Z"
   },
   {
    "duration": 274,
    "start_time": "2024-06-29T06:20:18.505Z"
   },
   {
    "duration": 1420,
    "start_time": "2024-06-29T06:20:18.782Z"
   },
   {
    "duration": 4080,
    "start_time": "2024-06-29T06:20:20.207Z"
   },
   {
    "duration": 117,
    "start_time": "2024-06-29T06:20:24.302Z"
   },
   {
    "duration": 4416,
    "start_time": "2024-06-29T07:37:36.401Z"
   },
   {
    "duration": 242,
    "start_time": "2024-06-29T07:37:40.821Z"
   },
   {
    "duration": 96,
    "start_time": "2024-06-29T07:37:41.066Z"
   },
   {
    "duration": 1423,
    "start_time": "2024-06-29T07:37:41.167Z"
   },
   {
    "duration": 15,
    "start_time": "2024-06-29T07:37:42.594Z"
   },
   {
    "duration": 31,
    "start_time": "2024-06-29T07:37:42.612Z"
   },
   {
    "duration": 128,
    "start_time": "2024-06-29T07:37:42.646Z"
   },
   {
    "duration": 14,
    "start_time": "2024-06-29T07:37:42.777Z"
   },
   {
    "duration": 236,
    "start_time": "2024-06-29T07:37:42.794Z"
   },
   {
    "duration": 174,
    "start_time": "2024-06-29T07:37:43.037Z"
   },
   {
    "duration": 108,
    "start_time": "2024-06-29T07:37:43.213Z"
   },
   {
    "duration": 30,
    "start_time": "2024-06-29T07:37:43.332Z"
   },
   {
    "duration": 11,
    "start_time": "2024-06-29T07:37:43.367Z"
   },
   {
    "duration": 83,
    "start_time": "2024-06-29T07:37:43.382Z"
   },
   {
    "duration": 32,
    "start_time": "2024-06-29T07:37:43.468Z"
   },
   {
    "duration": 1378,
    "start_time": "2024-06-29T07:37:43.503Z"
   },
   {
    "duration": 1309,
    "start_time": "2024-06-29T07:37:44.884Z"
   },
   {
    "duration": 15,
    "start_time": "2024-06-29T07:37:46.196Z"
   },
   {
    "duration": 16,
    "start_time": "2024-06-29T07:37:46.230Z"
   },
   {
    "duration": 11,
    "start_time": "2024-06-29T07:37:46.249Z"
   },
   {
    "duration": 20,
    "start_time": "2024-06-29T07:37:46.263Z"
   },
   {
    "duration": 65,
    "start_time": "2024-06-29T07:37:46.285Z"
   },
   {
    "duration": 19,
    "start_time": "2024-06-29T07:37:46.353Z"
   },
   {
    "duration": 11,
    "start_time": "2024-06-29T07:37:46.376Z"
   },
   {
    "duration": 67,
    "start_time": "2024-06-29T07:37:46.390Z"
   },
   {
    "duration": 40,
    "start_time": "2024-06-29T07:37:46.460Z"
   },
   {
    "duration": 32,
    "start_time": "2024-06-29T07:37:46.503Z"
   },
   {
    "duration": 6,
    "start_time": "2024-06-29T07:37:46.544Z"
   },
   {
    "duration": 447,
    "start_time": "2024-06-29T07:37:46.553Z"
   },
   {
    "duration": 30,
    "start_time": "2024-06-29T07:37:47.004Z"
   },
   {
    "duration": 8,
    "start_time": "2024-06-29T07:37:47.037Z"
   },
   {
    "duration": 600,
    "start_time": "2024-06-29T07:37:47.048Z"
   },
   {
    "duration": 408,
    "start_time": "2024-06-29T07:37:47.652Z"
   },
   {
    "duration": 1307,
    "start_time": "2024-06-29T07:37:48.063Z"
   },
   {
    "duration": 4371,
    "start_time": "2024-06-29T07:37:49.373Z"
   },
   {
    "duration": 272,
    "start_time": "2024-06-29T07:37:53.747Z"
   },
   {
    "duration": 1524,
    "start_time": "2024-06-29T07:37:54.022Z"
   },
   {
    "duration": 4189,
    "start_time": "2024-06-29T07:37:55.548Z"
   },
   {
    "duration": 107,
    "start_time": "2024-06-29T07:37:59.740Z"
   },
   {
    "duration": 159,
    "start_time": "2024-06-29T07:39:16.530Z"
   },
   {
    "duration": 345,
    "start_time": "2024-06-29T21:40:53.727Z"
   },
   {
    "duration": 4515,
    "start_time": "2024-06-29T21:41:02.445Z"
   },
   {
    "duration": 328,
    "start_time": "2024-06-29T21:41:07.526Z"
   },
   {
    "duration": 109,
    "start_time": "2024-06-29T21:42:40.414Z"
   },
   {
    "duration": 1428,
    "start_time": "2024-06-29T21:44:09.882Z"
   },
   {
    "duration": 21,
    "start_time": "2024-06-29T21:45:26.304Z"
   },
   {
    "duration": 19,
    "start_time": "2024-06-29T21:46:25.306Z"
   },
   {
    "duration": 100,
    "start_time": "2024-06-29T21:48:36.396Z"
   },
   {
    "duration": 96,
    "start_time": "2024-06-29T21:49:15.650Z"
   },
   {
    "duration": 23,
    "start_time": "2024-06-29T22:11:17.733Z"
   },
   {
    "duration": 24,
    "start_time": "2024-06-29T22:12:13.724Z"
   },
   {
    "duration": 11,
    "start_time": "2024-06-29T22:13:03.351Z"
   },
   {
    "duration": 93,
    "start_time": "2024-06-29T22:22:34.959Z"
   },
   {
    "duration": 15,
    "start_time": "2024-06-29T22:22:52.728Z"
   },
   {
    "duration": 11,
    "start_time": "2024-06-29T22:22:54.966Z"
   },
   {
    "duration": 420,
    "start_time": "2024-06-29T22:22:58.154Z"
   },
   {
    "duration": 315,
    "start_time": "2024-06-30T01:17:59.462Z"
   },
   {
    "duration": 4345,
    "start_time": "2024-06-30T01:18:08.757Z"
   },
   {
    "duration": 273,
    "start_time": "2024-06-30T01:18:13.105Z"
   },
   {
    "duration": 97,
    "start_time": "2024-06-30T01:18:13.381Z"
   },
   {
    "duration": 1382,
    "start_time": "2024-06-30T01:18:13.482Z"
   },
   {
    "duration": 20,
    "start_time": "2024-06-30T01:18:14.867Z"
   },
   {
    "duration": 20,
    "start_time": "2024-06-30T01:18:14.903Z"
   },
   {
    "duration": 128,
    "start_time": "2024-06-30T01:18:14.926Z"
   },
   {
    "duration": 15,
    "start_time": "2024-06-30T01:18:15.057Z"
   },
   {
    "duration": 209,
    "start_time": "2024-06-30T01:18:15.075Z"
   },
   {
    "duration": 169,
    "start_time": "2024-06-30T01:18:15.302Z"
   },
   {
    "duration": 101,
    "start_time": "2024-06-30T01:18:15.474Z"
   },
   {
    "duration": 31,
    "start_time": "2024-06-30T01:18:15.578Z"
   },
   {
    "duration": 11,
    "start_time": "2024-06-30T01:18:15.611Z"
   },
   {
    "duration": 77,
    "start_time": "2024-06-30T01:18:15.625Z"
   },
   {
    "duration": 33,
    "start_time": "2024-06-30T01:18:15.705Z"
   },
   {
    "duration": 1464,
    "start_time": "2024-06-30T01:18:15.741Z"
   },
   {
    "duration": 1453,
    "start_time": "2024-06-30T01:18:17.208Z"
   },
   {
    "duration": 15,
    "start_time": "2024-06-30T01:18:18.665Z"
   },
   {
    "duration": 15,
    "start_time": "2024-06-30T01:18:18.703Z"
   },
   {
    "duration": 10,
    "start_time": "2024-06-30T01:18:18.721Z"
   },
   {
    "duration": 22,
    "start_time": "2024-06-30T01:18:18.734Z"
   },
   {
    "duration": 59,
    "start_time": "2024-06-30T01:18:18.760Z"
   },
   {
    "duration": 18,
    "start_time": "2024-06-30T01:18:18.822Z"
   },
   {
    "duration": 11,
    "start_time": "2024-06-30T01:18:18.843Z"
   },
   {
    "duration": 69,
    "start_time": "2024-06-30T01:18:18.857Z"
   },
   {
    "duration": 106,
    "start_time": "2024-06-30T01:18:18.929Z"
   },
   {
    "duration": 7,
    "start_time": "2024-06-30T01:18:19.038Z"
   },
   {
    "duration": 7,
    "start_time": "2024-06-30T01:18:19.052Z"
   },
   {
    "duration": 461,
    "start_time": "2024-06-30T01:18:19.062Z"
   },
   {
    "duration": 12,
    "start_time": "2024-06-30T01:18:19.525Z"
   },
   {
    "duration": 8,
    "start_time": "2024-06-30T01:18:19.540Z"
   },
   {
    "duration": 661,
    "start_time": "2024-06-30T01:18:19.551Z"
   },
   {
    "duration": 354,
    "start_time": "2024-06-30T01:18:20.215Z"
   },
   {
    "duration": 1490,
    "start_time": "2024-06-30T01:18:20.573Z"
   },
   {
    "duration": 4596,
    "start_time": "2024-06-30T01:18:22.066Z"
   },
   {
    "duration": 227,
    "start_time": "2024-06-30T01:18:26.665Z"
   },
   {
    "duration": 1411,
    "start_time": "2024-06-30T01:18:26.895Z"
   },
   {
    "duration": 4143,
    "start_time": "2024-06-30T01:18:28.310Z"
   },
   {
    "duration": 90,
    "start_time": "2024-06-30T01:18:32.457Z"
   },
   {
    "duration": 774,
    "start_time": "2024-06-30T01:33:24.119Z"
   },
   {
    "duration": 313,
    "start_time": "2024-06-30T01:33:24.897Z"
   },
   {
    "duration": 96,
    "start_time": "2024-06-30T01:33:25.213Z"
   },
   {
    "duration": 1522,
    "start_time": "2024-06-30T01:33:25.312Z"
   },
   {
    "duration": 26,
    "start_time": "2024-06-30T01:33:26.840Z"
   },
   {
    "duration": 47,
    "start_time": "2024-06-30T01:33:26.870Z"
   },
   {
    "duration": 131,
    "start_time": "2024-06-30T01:33:26.921Z"
   },
   {
    "duration": 16,
    "start_time": "2024-06-30T01:33:27.056Z"
   },
   {
    "duration": 250,
    "start_time": "2024-06-30T01:33:27.076Z"
   },
   {
    "duration": 192,
    "start_time": "2024-06-30T01:33:27.330Z"
   },
   {
    "duration": 112,
    "start_time": "2024-06-30T01:33:27.526Z"
   },
   {
    "duration": 28,
    "start_time": "2024-06-30T01:33:27.641Z"
   },
   {
    "duration": 34,
    "start_time": "2024-06-30T01:33:27.673Z"
   },
   {
    "duration": 55,
    "start_time": "2024-06-30T01:33:27.715Z"
   },
   {
    "duration": 62,
    "start_time": "2024-06-30T01:33:27.773Z"
   },
   {
    "duration": 1463,
    "start_time": "2024-06-30T01:33:27.838Z"
   },
   {
    "duration": 1371,
    "start_time": "2024-06-30T01:33:29.304Z"
   },
   {
    "duration": 26,
    "start_time": "2024-06-30T01:33:30.678Z"
   },
   {
    "duration": 17,
    "start_time": "2024-06-30T01:33:30.707Z"
   },
   {
    "duration": 12,
    "start_time": "2024-06-30T01:33:30.726Z"
   },
   {
    "duration": 68,
    "start_time": "2024-06-30T01:33:30.742Z"
   },
   {
    "duration": 26,
    "start_time": "2024-06-30T01:33:30.814Z"
   },
   {
    "duration": 21,
    "start_time": "2024-06-30T01:33:30.844Z"
   },
   {
    "duration": 12,
    "start_time": "2024-06-30T01:33:30.901Z"
   },
   {
    "duration": 33,
    "start_time": "2024-06-30T01:33:30.916Z"
   },
   {
    "duration": 128,
    "start_time": "2024-06-30T01:33:30.952Z"
   },
   {
    "duration": 25,
    "start_time": "2024-06-30T01:33:31.084Z"
   },
   {
    "duration": 8,
    "start_time": "2024-06-30T01:33:31.112Z"
   },
   {
    "duration": 455,
    "start_time": "2024-06-30T01:33:31.125Z"
   },
   {
    "duration": 27,
    "start_time": "2024-06-30T01:33:31.584Z"
   },
   {
    "duration": 10,
    "start_time": "2024-06-30T01:33:31.615Z"
   },
   {
    "duration": 687,
    "start_time": "2024-06-30T01:33:31.629Z"
   },
   {
    "duration": 340,
    "start_time": "2024-06-30T01:33:32.320Z"
   },
   {
    "duration": 1444,
    "start_time": "2024-06-30T01:33:32.664Z"
   },
   {
    "duration": 4544,
    "start_time": "2024-06-30T01:33:34.111Z"
   },
   {
    "duration": 226,
    "start_time": "2024-06-30T01:33:38.658Z"
   },
   {
    "duration": 1423,
    "start_time": "2024-06-30T01:33:38.887Z"
   },
   {
    "duration": 4133,
    "start_time": "2024-06-30T01:33:40.314Z"
   },
   {
    "duration": 103,
    "start_time": "2024-06-30T01:33:44.451Z"
   },
   {
    "duration": 5771,
    "start_time": "2024-06-30T08:59:22.656Z"
   },
   {
    "duration": 291,
    "start_time": "2024-06-30T08:59:28.436Z"
   },
   {
    "duration": 111,
    "start_time": "2024-06-30T08:59:28.731Z"
   },
   {
    "duration": 1732,
    "start_time": "2024-06-30T08:59:28.848Z"
   },
   {
    "duration": 40,
    "start_time": "2024-06-30T08:59:30.583Z"
   },
   {
    "duration": 23,
    "start_time": "2024-06-30T08:59:30.627Z"
   },
   {
    "duration": 147,
    "start_time": "2024-06-30T08:59:30.654Z"
   },
   {
    "duration": 31,
    "start_time": "2024-06-30T08:59:30.805Z"
   },
   {
    "duration": 272,
    "start_time": "2024-06-30T08:59:30.840Z"
   },
   {
    "duration": 216,
    "start_time": "2024-06-30T08:59:31.123Z"
   },
   {
    "duration": 132,
    "start_time": "2024-06-30T08:59:31.343Z"
   },
   {
    "duration": 50,
    "start_time": "2024-06-30T08:59:31.479Z"
   },
   {
    "duration": 14,
    "start_time": "2024-06-30T08:59:31.533Z"
   },
   {
    "duration": 105,
    "start_time": "2024-06-30T08:59:31.551Z"
   },
   {
    "duration": 65,
    "start_time": "2024-06-30T08:59:31.661Z"
   },
   {
    "duration": 1602,
    "start_time": "2024-06-30T08:59:31.730Z"
   },
   {
    "duration": 1495,
    "start_time": "2024-06-30T08:59:33.336Z"
   },
   {
    "duration": 17,
    "start_time": "2024-06-30T08:59:34.834Z"
   },
   {
    "duration": 19,
    "start_time": "2024-06-30T08:59:34.854Z"
   },
   {
    "duration": 51,
    "start_time": "2024-06-30T08:59:34.876Z"
   },
   {
    "duration": 21,
    "start_time": "2024-06-30T08:59:34.931Z"
   },
   {
    "duration": 70,
    "start_time": "2024-06-30T08:59:34.955Z"
   },
   {
    "duration": 22,
    "start_time": "2024-06-30T08:59:35.028Z"
   },
   {
    "duration": 14,
    "start_time": "2024-06-30T08:59:35.054Z"
   },
   {
    "duration": 77,
    "start_time": "2024-06-30T08:59:35.073Z"
   },
   {
    "duration": 127,
    "start_time": "2024-06-30T08:59:35.155Z"
   },
   {
    "duration": 8,
    "start_time": "2024-06-30T08:59:35.285Z"
   },
   {
    "duration": 25,
    "start_time": "2024-06-30T08:59:35.300Z"
   },
   {
    "duration": 453,
    "start_time": "2024-06-30T08:59:35.328Z"
   },
   {
    "duration": 13,
    "start_time": "2024-06-30T08:59:35.784Z"
   },
   {
    "duration": 8,
    "start_time": "2024-06-30T08:59:35.823Z"
   },
   {
    "duration": 713,
    "start_time": "2024-06-30T08:59:35.835Z"
   },
   {
    "duration": 371,
    "start_time": "2024-06-30T08:59:36.552Z"
   },
   {
    "duration": 1519,
    "start_time": "2024-06-30T08:59:36.926Z"
   },
   {
    "duration": 5141,
    "start_time": "2024-06-30T08:59:38.450Z"
   },
   {
    "duration": 251,
    "start_time": "2024-06-30T08:59:43.594Z"
   },
   {
    "duration": 1381,
    "start_time": "2024-06-30T08:59:43.849Z"
   },
   {
    "duration": 4500,
    "start_time": "2024-06-30T08:59:45.234Z"
   },
   {
    "duration": 121,
    "start_time": "2024-06-30T08:59:49.737Z"
   },
   {
    "duration": 2167,
    "start_time": "2024-11-24T14:51:24.578Z"
   },
   {
    "duration": 166,
    "start_time": "2024-11-24T14:51:26.748Z"
   },
   {
    "duration": 66,
    "start_time": "2024-11-24T14:51:26.915Z"
   },
   {
    "duration": 817,
    "start_time": "2024-11-24T14:51:26.984Z"
   },
   {
    "duration": 13,
    "start_time": "2024-11-24T14:51:27.803Z"
   },
   {
    "duration": 12,
    "start_time": "2024-11-24T14:51:27.817Z"
   },
   {
    "duration": 67,
    "start_time": "2024-11-24T14:51:27.830Z"
   },
   {
    "duration": 9,
    "start_time": "2024-11-24T14:51:27.898Z"
   },
   {
    "duration": 128,
    "start_time": "2024-11-24T14:51:27.908Z"
   },
   {
    "duration": 101,
    "start_time": "2024-11-24T14:51:28.040Z"
   },
   {
    "duration": 57,
    "start_time": "2024-11-24T14:51:28.142Z"
   },
   {
    "duration": 12,
    "start_time": "2024-11-24T14:51:28.200Z"
   },
   {
    "duration": 7,
    "start_time": "2024-11-24T14:51:28.214Z"
   },
   {
    "duration": 25,
    "start_time": "2024-11-24T14:51:28.222Z"
   },
   {
    "duration": 35,
    "start_time": "2024-11-24T14:51:28.249Z"
   },
   {
    "duration": 757,
    "start_time": "2024-11-24T14:51:28.285Z"
   },
   {
    "duration": 752,
    "start_time": "2024-11-24T14:51:29.044Z"
   },
   {
    "duration": 10,
    "start_time": "2024-11-24T14:51:29.798Z"
   },
   {
    "duration": 8,
    "start_time": "2024-11-24T14:51:29.810Z"
   },
   {
    "duration": 7,
    "start_time": "2024-11-24T14:51:29.820Z"
   },
   {
    "duration": 10,
    "start_time": "2024-11-24T14:51:29.829Z"
   },
   {
    "duration": 13,
    "start_time": "2024-11-24T14:51:29.869Z"
   },
   {
    "duration": 9,
    "start_time": "2024-11-24T14:51:29.884Z"
   },
   {
    "duration": 6,
    "start_time": "2024-11-24T14:51:29.895Z"
   },
   {
    "duration": 19,
    "start_time": "2024-11-24T14:51:29.903Z"
   },
   {
    "duration": 81,
    "start_time": "2024-11-24T14:51:29.924Z"
   },
   {
    "duration": 4,
    "start_time": "2024-11-24T14:51:30.007Z"
   },
   {
    "duration": 4,
    "start_time": "2024-11-24T14:51:30.015Z"
   },
   {
    "duration": 271,
    "start_time": "2024-11-24T14:51:30.021Z"
   },
   {
    "duration": 8,
    "start_time": "2024-11-24T14:51:30.294Z"
   },
   {
    "duration": 5,
    "start_time": "2024-11-24T14:51:30.303Z"
   },
   {
    "duration": 401,
    "start_time": "2024-11-24T14:51:30.310Z"
   },
   {
    "duration": 182,
    "start_time": "2024-11-24T14:51:30.713Z"
   },
   {
    "duration": 773,
    "start_time": "2024-11-24T14:51:30.897Z"
   },
   {
    "duration": 2318,
    "start_time": "2024-11-24T14:51:31.671Z"
   },
   {
    "duration": 122,
    "start_time": "2024-11-24T14:51:33.990Z"
   },
   {
    "duration": 688,
    "start_time": "2024-11-24T14:51:34.114Z"
   },
   {
    "duration": 1991,
    "start_time": "2024-11-24T14:51:34.804Z"
   },
   {
    "duration": 73,
    "start_time": "2024-11-24T14:51:36.797Z"
   },
   {
    "duration": 7,
    "start_time": "2024-11-24T14:51:54.164Z"
   }
  ],
  "kernelspec": {
   "display_name": "Python 3 (ipykernel)",
   "language": "python",
   "name": "python3"
  },
  "language_info": {
   "codemirror_mode": {
    "name": "ipython",
    "version": 3
   },
   "file_extension": ".py",
   "mimetype": "text/x-python",
   "name": "python",
   "nbconvert_exporter": "python",
   "pygments_lexer": "ipython3",
   "version": "3.10.11"
  },
  "toc": {
   "base_numbering": 1,
   "nav_menu": {},
   "number_sections": true,
   "sideBar": true,
   "skip_h1_title": true,
   "title_cell": "Table of Contents",
   "title_sidebar": "Contents",
   "toc_cell": false,
   "toc_position": {},
   "toc_section_display": true,
   "toc_window_display": true
  },
  "vscode": {
   "interpreter": {
    "hash": "01a7be9ec63e704a62cefc5fe7a4756944464ee731be31632bdf42a4cb4688cf"
   }
  }
 },
 "nbformat": 4,
 "nbformat_minor": 5
}
