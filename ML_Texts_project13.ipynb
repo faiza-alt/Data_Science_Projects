{
 "cells": [
  {
   "cell_type": "markdown",
   "metadata": {},
   "source": [
    "# Sentiment Classification for Movie Reviews Using Machine Learning"
   ]
  },
  {
   "cell_type": "markdown",
   "metadata": {},
   "source": [
    "## Project Statement"
   ]
  },
  {
   "cell_type": "markdown",
   "metadata": {},
   "source": [
    "The Film Junky Union, a new edgy community for classic movie enthusiasts, is developing a system for filtering and categorizing movie reviews. The goal is to train a model to automatically detect negative reviews. You'll be using a dataset of IMBD movie reviews with polarity labelling to build a model for classifying positive and negative reviews. It will need to have an F1 score of at least 0.85."
   ]
  },
  {
   "cell_type": "markdown",
   "metadata": {},
   "source": [
    "## Initialization"
   ]
  },
  {
   "cell_type": "code",
   "execution_count": 1,
   "metadata": {},
   "outputs": [],
   "source": [
    "import math\n",
    "import numpy as np\n",
    "import pandas as pd\n",
    "import spacy\n",
    "import matplotlib\n",
    "import matplotlib.pyplot as plt\n",
    "import matplotlib.dates as mdates\n",
    "import seaborn as sns\n",
    "import torch\n",
    "import transformers\n",
    "from tqdm.auto import tqdm\n",
    "import nltk\n",
    "from sklearn.feature_extraction.text import TfidfVectorizer\n",
    "from sklearn.linear_model import LogisticRegression\n",
    "from sklearn.ensemble import GradientBoostingClassifier\n",
    "from sklearn.svm import SVC\n",
    "from sklearn.metrics import classification_report\n",
    "from nltk.corpus import stopwords\n"
   ]
  },
  {
   "cell_type": "markdown",
   "metadata": {},
   "source": [
    "## Load Data"
   ]
  },
  {
   "cell_type": "code",
   "execution_count": 2,
   "metadata": {},
   "outputs": [
    {
     "name": "stdout",
     "output_type": "stream",
     "text": [
      "<class 'pandas.core.frame.DataFrame'>\n",
      "RangeIndex: 47331 entries, 0 to 47330\n",
      "Data columns (total 17 columns):\n",
      " #   Column           Non-Null Count  Dtype  \n",
      "---  ------           --------------  -----  \n",
      " 0   tconst           47331 non-null  object \n",
      " 1   title_type       47331 non-null  object \n",
      " 2   primary_title    47331 non-null  object \n",
      " 3   original_title   47331 non-null  object \n",
      " 4   start_year       47331 non-null  int64  \n",
      " 5   end_year         47331 non-null  object \n",
      " 6   runtime_minutes  47331 non-null  object \n",
      " 7   is_adult         47331 non-null  int64  \n",
      " 8   genres           47331 non-null  object \n",
      " 9   average_rating   47329 non-null  float64\n",
      " 10  votes            47329 non-null  float64\n",
      " 11  review           47331 non-null  object \n",
      " 12  rating           47331 non-null  int64  \n",
      " 13  sp               47331 non-null  object \n",
      " 14  pos              47331 non-null  int64  \n",
      " 15  ds_part          47331 non-null  object \n",
      " 16  idx              47331 non-null  int64  \n",
      "dtypes: float64(2), int64(5), object(10)\n",
      "memory usage: 6.1+ MB\n",
      "None\n",
      "      tconst title_type primary_title original_title  start_year end_year  \\\n",
      "0  tt0068152      movie             $              $        1971       \\N   \n",
      "1  tt0068152      movie             $              $        1971       \\N   \n",
      "2  tt0313150      short          '15'           '15'        2002       \\N   \n",
      "3  tt0313150      short          '15'           '15'        2002       \\N   \n",
      "4  tt0313150      short          '15'           '15'        2002       \\N   \n",
      "\n",
      "  runtime_minutes  is_adult              genres  average_rating   votes  \\\n",
      "0             121         0  Comedy,Crime,Drama             6.3  2218.0   \n",
      "1             121         0  Comedy,Crime,Drama             6.3  2218.0   \n",
      "2              25         0  Comedy,Drama,Short             6.3   184.0   \n",
      "3              25         0  Comedy,Drama,Short             6.3   184.0   \n",
      "4              25         0  Comedy,Drama,Short             6.3   184.0   \n",
      "\n",
      "                                              review  rating   sp  pos  \\\n",
      "0  The pakage implies that Warren Beatty and Gold...       1  neg    0   \n",
      "1  How the hell did they get this made?! Presenti...       1  neg    0   \n",
      "2  There is no real story the film seems more lik...       3  neg    0   \n",
      "3  Um .... a serious film about troubled teens in...       7  pos    1   \n",
      "4  I'm totally agree with GarryJohal from Singapo...       9  pos    1   \n",
      "\n",
      "  ds_part   idx  \n",
      "0   train  8335  \n",
      "1   train  8336  \n",
      "2    test  2489  \n",
      "3    test  9280  \n",
      "4    test  9281  \n"
     ]
    }
   ],
   "source": [
    "# Load the IMDb reviews dataset\n",
    "df_reviews = pd.read_csv('/datasets/imdb_reviews.tsv', sep='\\t')\n",
    "\n",
    "# Display basic information and first few rows\n",
    "print(df_reviews.info())\n",
    "print(df_reviews.head())\n"
   ]
  },
  {
   "cell_type": "code",
   "execution_count": 3,
   "metadata": {},
   "outputs": [],
   "source": [
    "### Observations "
   ]
  },
  {
   "cell_type": "markdown",
   "metadata": {},
   "source": [
    "Dataset Overview:\n",
    "\n",
    "\n",
    "Number of rows and columns: The dataset contains 47,331 entries and 17 columns.\n",
    "Memory Usage: The dataset uses approximately 6.1 MB of memory, which is manageable for most data processing tasks.\n",
    "\n",
    "Data Types:\n",
    "Object: Text data (e.g., tconst, title_type, review, etc.).\n",
    "Integer: Numeric data without decimals (e.g., start_year, rating, pos, etc.).\n",
    "Float: Numeric data with decimals (e.g., average_rating, votes).\n",
    "\n",
    "Columns Explanation\n",
    "tconst: A unique identifier for each movie or title.\n",
    "title_type: Indicates the type of title (e.g., movie, short, TV series).\n",
    "primary_title and original_title: The main and original names of the title.\n",
    "start_year: The year the title was released.\n",
    "end_year: Likely pertains to TV series or other works with an ending year; \\N implies missing data for most entries.\n",
    "runtime_minutes: Duration of the title, but stored as an object instead of a numeric type. It might require conversion for analysis.\n",
    "is_adult: Binary indicator (0/1) for adult content.\n",
    "genres: A comma-separated list of genres for the title.\n",
    "average_rating: Average IMDb user rating; two missing values in this column need attention.\n",
    "votes: The number of user votes; same two missing values as average_rating.\n",
    "review: User-written reviews for the title.\n",
    "rating: The label or sentiment score given to the review.\n",
    "sp: Sentiment polarity (pos or neg).\n",
    "pos: Binary indicator of positive (1) or negative (0) sentiment.\n",
    "ds_part: Indicates whether the row belongs to the training or test dataset.\n",
    "idx: A unique index for each row.\n",
    "\n",
    "Sample Rows Analysis\n",
    "The first few rows represent reviews of different titles:\n",
    "\n",
    "Reviews appear to include both positive and negative sentiment (e.g., rows 0-1 are negative, while rows 3-4 are positive).\n",
    "The rating column provides a numerical score for each review, with higher values likely indicating more positive sentiment.\n",
    "The pos column is a binary version of the sentiment (1 for positive and 0 for negative).\n",
    "Examples:\n",
    "\n",
    "Row 0: A negative review with a low rating (1) and pos marked as 0.\n",
    "Row 4: A positive review with a high rating (9) and pos marked as 1.\n"
   ]
  },
  {
   "cell_type": "markdown",
   "metadata": {},
   "source": [
    "# Preprocess the Data"
   ]
  },
  {
   "cell_type": "code",
   "execution_count": 4,
   "metadata": {},
   "outputs": [
    {
     "name": "stdout",
     "output_type": "stream",
     "text": [
      "(23796, 5000) (23535, 5000)\n"
     ]
    }
   ],
   "source": [
    "\n",
    "# Handle missing data, if any\n",
    "df_reviews = df_reviews.dropna(subset=['review'])\n",
    "\n",
    "# Split data into train and test based on 'ds_part'\n",
    "train_data = df_reviews[df_reviews['ds_part'] == 'train']\n",
    "test_data = df_reviews[df_reviews['ds_part'] == 'test']\n",
    "\n",
    "# Text vectorization using TfidfVectorizer\n",
    "vectorizer = TfidfVectorizer(stop_words='english', max_features=5000)\n",
    "\n",
    "# Fit and transform the train set, transform the test set\n",
    "X_train = vectorizer.fit_transform(train_data['review'])\n",
    "X_test = vectorizer.transform(test_data['review'])\n",
    "\n",
    "# Target variable\n",
    "y_train = train_data['pos']\n",
    "y_test = test_data['pos']\n",
    "\n",
    "# Check the shapes of the data\n",
    "print(X_train.shape, X_test.shape)\n"
   ]
  },
  {
   "cell_type": "markdown",
   "metadata": {},
   "source": [
    "### Interpretation:"
   ]
  },
  {
   "cell_type": "markdown",
   "metadata": {},
   "source": [
    "Data Shapes:\n",
    "\n",
    "Training set size: 23,796 reviews, represented by a 23,796 × 5000 matrix.\n",
    "\n",
    "Test set size: 23,535 reviews, represented by a 23,535 × 5000 matrix.\n",
    "\n",
    "Each row corresponds to a review, and each column corresponds to a unique term (feature) identified by the vectorizer.\n",
    "\n",
    "\n",
    "Interpretation:\n",
    "\n",
    "The TF-IDF matrix is sparse because most reviews will not contain all 5000 terms. This is expected in text data processing.\n",
    "The train-test split ensures that the model will generalize to unseen reviews during evaluation.\n",
    "\n",
    "\n",
    "The feature dimensionality (5000 terms) strikes a balance between capturing sufficient context from reviews and avoiding excessive computational overhead."
   ]
  },
  {
   "cell_type": "markdown",
   "metadata": {},
   "source": [
    "# Exploratory Data Analysis (EDA)\n"
   ]
  },
  {
   "cell_type": "markdown",
   "metadata": {},
   "source": [
    "### Class Distribution"
   ]
  },
  {
   "cell_type": "code",
   "execution_count": 5,
   "metadata": {},
   "outputs": [
    {
     "data": {
      "image/png": "[encoded data removed]",
      "text/plain": [
       "<Figure size 600x400 with 1 Axes>"
      ]
     },
     "metadata": {},
     "output_type": "display_data"
    }
   ],
   "source": [
    "# Check class distribution\n",
    "plt.figure(figsize=(6, 4))\n",
    "train_data['pos'].value_counts().plot(kind='bar', color=['red', 'green'])\n",
    "plt.title('Class Distribution (Train Set)')\n",
    "plt.xlabel('Review Sentiment')\n",
    "plt.ylabel('Count')\n",
    "plt.xticks(ticks=[0, 1], labels=['Negative', 'Positive'], rotation=0)\n",
    "plt.show()\n"
   ]
  },
  {
   "cell_type": "markdown",
   "metadata": {},
   "source": [
    "### Observations:"
   ]
  },
  {
   "cell_type": "markdown",
   "metadata": {},
   "source": [
    "The graph depicts the class distribution within a training dataset for sentiment analysis, specifically for review sentiments.\n",
    "\n",
    "Key Points: \n",
    "\n",
    "Title: \"Class Distribution (Train Set)\" clearly indicates that the graph shows how the data is divided into different classes in the training dataset.\n",
    "\n",
    "X-axis: Represents teh two sentiment classes. \"Negative\" and \"Positive\".\n",
    "\n",
    "Y-axis: Shows teh count or frequency of reviews belong to each sentiment class.\n",
    "\n",
    "Bars: The red bar represent the count of negative reviews, while the green bar represent the count of positive reviews.\n",
    "\n",
    "\n",
    "Interpretation: \n",
    "\n",
    "The dataset is balanced, with nearly equal representation of positive and negative reviews. \n",
    "Approximately 12,000 reviews are categorized as \"Positive,\" and a similar number fall under the \"Negative\" category. \n",
    "This balance is crucial for training a machine learning model effectively, as it prevents bias towards one particular sentiment class.\n"
   ]
  },
  {
   "cell_type": "markdown",
   "metadata": {},
   "source": [
    "###  Review Length Distribution"
   ]
  },
  {
   "cell_type": "code",
   "execution_count": 6,
   "metadata": {},
   "outputs": [
    {
     "name": "stderr",
     "output_type": "stream",
     "text": [
      "/tmp/ipykernel_51/3818670468.py:2: SettingWithCopyWarning: \n",
      "A value is trying to be set on a copy of a slice from a DataFrame.\n",
      "Try using .loc[row_indexer,col_indexer] = value instead\n",
      "\n",
      "See the caveats in the documentation: https://pandas.pydata.org/pandas-docs/stable/user_guide/indexing.html#returning-a-view-versus-a-copy\n",
      "  train_data['review_length'] = train_data['review'].apply(len)\n"
     ]
    },
    {
     "data": {
      "image/png": "[encoded data removed]",
      "text/plain": [
       "<Figure size 600x400 with 1 Axes>"
      ]
     },
     "metadata": {},
     "output_type": "display_data"
    }
   ],
   "source": [
    "# Review length distribution\n",
    "train_data['review_length'] = train_data['review'].apply(len)\n",
    "plt.figure(figsize=(6, 4))\n",
    "plt.hist(train_data['review_length'], bins=50, color='skyblue', edgecolor='black')\n",
    "plt.title('Review Length Distribution (Train Set)')\n",
    "plt.xlabel('Review Length')\n",
    "plt.ylabel('Frequency')\n",
    "plt.show()\n"
   ]
  },
  {
   "cell_type": "markdown",
   "metadata": {},
   "source": [
    "### Observations:"
   ]
  },
  {
   "cell_type": "markdown",
   "metadata": {},
   "source": [
    "The graph represents the distribution of the review lengths in a training dataset.\n",
    "\n",
    "Title: \"Review Length Distribution\"\n",
    "\n",
    "X-axis:Represents the \"Review Length\" in number of characters.\n",
    "\n",
    "Y-axis:Represents the \"Frequency\" which is teh nu,ber of reviews with a particular length.\n",
    "\n",
    "Data: The barss shows thw frequency of reviews at different lengths. The highest frequency occurs around the 500-1000 character range, indicating most reviews fall within this length. There are also significant numbefr of shorter reviews and few very long ones.\n",
    "\n"
   ]
  },
  {
   "cell_type": "markdown",
   "metadata": {},
   "source": [
    "## Model Training"
   ]
  },
  {
   "cell_type": "markdown",
   "metadata": {},
   "source": [
    "### Logistic Regression"
   ]
  },
  {
   "cell_type": "code",
   "execution_count": 7,
   "metadata": {},
   "outputs": [
    {
     "name": "stdout",
     "output_type": "stream",
     "text": [
      "\n",
      "Logistic Regression Classification Report:\n",
      "              precision    recall  f1-score   support\n",
      "\n",
      "           0       0.88      0.87      0.88     11803\n",
      "           1       0.87      0.88      0.88     11732\n",
      "\n",
      "    accuracy                           0.88     23535\n",
      "   macro avg       0.88      0.88      0.88     23535\n",
      "weighted avg       0.88      0.88      0.88     23535\n",
      "\n"
     ]
    }
   ],
   "source": [
    "\n",
    "# Initialize and train Logistic Regression\n",
    "log_reg = LogisticRegression(max_iter=500)\n",
    "log_reg.fit(X_train, y_train)\n",
    "\n",
    "# Predict and evaluate Logistic Regression\n",
    "y_pred_log_reg = log_reg.predict(X_test)\n",
    "print(\"\\nLogistic Regression Classification Report:\")\n",
    "print(classification_report(y_test, y_pred_log_reg))\n"
   ]
  },
  {
   "cell_type": "markdown",
   "metadata": {},
   "source": [
    "### Observations"
   ]
  },
  {
   "cell_type": "markdown",
   "metadata": {},
   "source": [
    "Key Metrics\n",
    "\n",
    "Precision:\n",
    "\n",
    "For class 0 (negative reviews): 88%\n",
    "Of all the reviews predicted as negative, 88% were correctly classified.\n",
    "For class 1 (positive reviews): 87%\n",
    "Of all the reviews predicted as positive, 87% were correctly classified.\n",
    "\n",
    "Recall:\n",
    "\n",
    "For class 0: 87%\n",
    "The model correctly identified 87% of all actual negative reviews.\n",
    "For class 1: 88%\n",
    "The model correctly identified 88% of all actual positive reviews.\n",
    "\n",
    "\n",
    "F1-Score:\n",
    "\n",
    "For both classes (0 and 1): 88%\n",
    "This indicates a balanced trade-off between precision and recall for both classes.\n",
    "Since the F1-scores are the same for both classes, the model is equally effective for identifying both positive and negative reviews.\n",
    "\n",
    "\n",
    "Accuracy:\n",
    "\n",
    "88%\n",
    "The overall accuracy shows that 88% of the total test samples were correctly classified.\n",
    "\n",
    "Macro Average:\n",
    "\n",
    "Precision, Recall, and F1-Score: 88%\n",
    "These are the average metrics for both classes without considering class imbalance.\n",
    "\n",
    "\n",
    "Weighted Average:\n",
    "\n",
    "Precision, Recall, and F1-Score: 88%\n",
    "These averages account for the number of samples in each class and confirm the model's consistent performance across the dataset.\n",
    "\n",
    "\n",
    "Interpretation\n",
    "\n",
    "\n",
    "Performance: The Logistic Regression model performs well, achieving high precision, recall, and F1-scores for both positive and negative reviews. An overall accuracy of 88% indicates reliable sentiment classification.\n",
    "Class Balance: The metrics are consistent across both classes, suggesting that the model is not biased towards either positive or negative reviews.\n",
    "\n",
    "Usability: This level of performance is generally acceptable for real-world applications, such as sentiment analysis for movie reviews."
   ]
  },
  {
   "cell_type": "markdown",
   "metadata": {},
   "source": [
    "### Gradient Boosting"
   ]
  },
  {
   "cell_type": "code",
   "execution_count": 8,
   "metadata": {},
   "outputs": [
    {
     "name": "stdout",
     "output_type": "stream",
     "text": [
      "\n",
      "Gradient Boosting Classification Report:\n",
      "              precision    recall  f1-score   support\n",
      "\n",
      "           0       0.85      0.75      0.80     11803\n",
      "           1       0.78      0.87      0.82     11732\n",
      "\n",
      "    accuracy                           0.81     23535\n",
      "   macro avg       0.81      0.81      0.81     23535\n",
      "weighted avg       0.81      0.81      0.81     23535\n",
      "\n"
     ]
    }
   ],
   "source": [
    "\n",
    "# Initialize and train Gradient Boosting\n",
    "grad_boost = GradientBoostingClassifier()\n",
    "grad_boost.fit(X_train, y_train)\n",
    "\n",
    "# Predict and evaluate Gradient Boosting\n",
    "y_pred_grad_boost = grad_boost.predict(X_test)\n",
    "print(\"\\nGradient Boosting Classification Report:\")\n",
    "print(classification_report(y_test, y_pred_grad_boost))\n"
   ]
  },
  {
   "cell_type": "markdown",
   "metadata": {},
   "source": [
    "### Observation"
   ]
  },
  {
   "cell_type": "markdown",
   "metadata": {},
   "source": [
    "The Gradient Boosting Classification Report summarizes the performance of the Gradient Boosting model for sentiment analysis. Here's a detailed interpretation:\n",
    "\n",
    "Key Metrics\n",
    "\n",
    "Precision:\n",
    "\n",
    "Class 0 (Negative Reviews): 85%\n",
    "Of all reviews predicted as negative, 85% were actually negative.\n",
    "Class 1 (Positive Reviews): 78%\n",
    "Of all reviews predicted as positive, 78% were actually positive.\n",
    "Precision is higher for negative reviews, indicating the model is more confident in its predictions for this class.\n",
    "\n",
    "\n",
    "Recall:\n",
    "\n",
    "Class 0 (Negative Reviews): 75%\n",
    "The model identified 75% of all actual negative reviews correctly.\n",
    "Class 1 (Positive Reviews): 87%\n",
    "The model identified 87% of all actual positive reviews correctly.\n",
    "Recall is better for positive reviews, showing the model tends to prioritize identifying this class correctly.\n",
    "\n",
    "\n",
    "F1-Score:\n",
    "\n",
    "Class 0 (Negative Reviews): 80%\n",
    "Class 1 (Positive Reviews): 82%\n",
    "The F1-score balances precision and recall. The model performs slightly better for positive reviews compared to negative ones.\n",
    "\n",
    "\n",
    "Accuracy:\n",
    "\n",
    "81%\n",
    "The overall accuracy indicates that 81% of the reviews in the test set were correctly classified.\n",
    "\n",
    "Macro Average:\n",
    "\n",
    "Precision, Recall, and F1-Score: 81%\n",
    "These averages reflect performance across both classes equally, without considering class imbalance.\n",
    "Weighted Average:\n",
    "\n",
    "Precision, Recall, and F1-Score: 81%\n",
    "These averages are adjusted for the number of samples in each class, confirming consistent performance across the dataset.\n",
    "\n",
    "\n",
    "Interpretation\n",
    "\n",
    "\n",
    "Performance: The Gradient Boosting model achieves good performance, with an accuracy of 81%. However, it performs better at identifying positive reviews than negative ones, as shown by the higher recall for class 1 and higher precision for class 0.\n",
    "Class Imbalance Handling: The slightly imbalanced performance between the two classes suggests that the model could benefit from fine-tuning to balance the focus between identifying both positive and negative reviews.\n",
    "\n",
    "\n",
    "Comparison to Logistic Regression:\n",
    "\n",
    "\n",
    "Logistic Regression achieved better overall metrics (88% F1-score and accuracy) compared to Gradient Boosting's 81%.\n",
    "Gradient Boosting struggles with recall for negative reviews, which might indicate overfitting or insufficient feature representation.\n"
   ]
  },
  {
   "cell_type": "markdown",
   "metadata": {},
   "source": [
    "### Support Vector Machine (SVM)"
   ]
  },
  {
   "cell_type": "code",
   "execution_count": 9,
   "metadata": {},
   "outputs": [
    {
     "name": "stdout",
     "output_type": "stream",
     "text": [
      "\n",
      "SVM Classification Report:\n",
      "              precision    recall  f1-score   support\n",
      "\n",
      "           0       0.87      0.88      0.87     11803\n",
      "           1       0.87      0.87      0.87     11732\n",
      "\n",
      "    accuracy                           0.87     23535\n",
      "   macro avg       0.87      0.87      0.87     23535\n",
      "weighted avg       0.87      0.87      0.87     23535\n",
      "\n"
     ]
    }
   ],
   "source": [
    "\n",
    "\n",
    "# Initialize and train SVM\n",
    "svm = SVC()\n",
    "svm.fit(X_train, y_train)\n",
    "\n",
    "# Predict and evaluate SVM\n",
    "y_pred_svm = svm.predict(X_test)\n",
    "print(\"\\nSVM Classification Report:\")\n",
    "print(classification_report(y_test, y_pred_svm))\n"
   ]
  },
  {
   "cell_type": "markdown",
   "metadata": {},
   "source": [
    "### Observations:"
   ]
  },
  {
   "cell_type": "markdown",
   "metadata": {},
   "source": [
    "The Support Vector Machine (SVM) Classification Report presents the performance metrics for the SVM model on the sentiment analysis task. Here's the interpretation:\n",
    "\n",
    "Key Metrics\n",
    "\n",
    "Precision:\n",
    "\n",
    "Class 0 (Negative Reviews): 87%\n",
    "Out of all reviews predicted as negative, 87% were actually negative.\n",
    "Class 1 (Positive Reviews): 87%\n",
    "Out of all reviews predicted as positive, 87% were actually positive.\n",
    "The precision is balanced across both classes, showing that the model performs similarly for predicting both positive and negative reviews.\n",
    "\n",
    "\n",
    "Recall:\n",
    "\n",
    "Class 0 (Negative Reviews): 88%\n",
    "The model correctly identified 88% of all actual negative reviews.\n",
    "Class 1 (Positive Reviews): 87%\n",
    "The model correctly identified 87% of all actual positive reviews.\n",
    "Recall is also balanced and slightly higher for negative reviews.\n",
    "\n",
    "\n",
    "F1-Score:\n",
    "\n",
    "Class 0 (Negative Reviews): 87%\n",
    "Class 1 (Positive Reviews): 87%\n",
    "The F1-score, which balances precision and recall, is equal for both classes, indicating consistent performance.\n",
    "\n",
    "\n",
    "Accuracy:\n",
    "\n",
    "87%\n",
    "Overall, 87% of the reviews in the test set were correctly classified.\n",
    "\n",
    "\n",
    "Macro Average:\n",
    "\n",
    "Precision, Recall, and F1-Score: 87%\n",
    "Reflects balanced performance across both classes without considering class distribution.\n",
    "\n",
    "Weighted Average:\n",
    "\n",
    "Precision, Recall, and F1-Score: 87%\n",
    "Confirms that the model maintains consistent performance across the dataset when considering the class distribution.\n",
    "\n",
    "\n",
    "Interpretation\n",
    "\n",
    "\n",
    "Performance: The SVM achieves an accuracy of 87% with equal F1-scores for both classes. It performs slightly less effectively than Logistic Regression (88% accuracy) but better than Gradient Boosting (81% accuracy).\n",
    "Class Balance: The SVM shows balanced performance across positive and negative reviews, with nearly identical precision, recall, and F1-scores for both classes.\n",
    "\n",
    "\n",
    "Strengths:\n",
    "\n",
    "Strong and balanced classification for both positive and negative reviews.\n",
    "Consistent results with no significant bias toward either class.\n",
    "\n",
    "\n",
    "Weaknesses:\n",
    "\n",
    "Slightly lower overall accuracy compared to Logistic Regression.\n",
    "SVM models can be computationally expensive, which might become significant for larger datasets.\n"
   ]
  },
  {
   "cell_type": "markdown",
   "metadata": {},
   "source": [
    "## Test and Compare Models with Custom Reviews"
   ]
  },
  {
   "cell_type": "code",
   "execution_count": 11,
   "metadata": {},
   "outputs": [
    {
     "name": "stdout",
     "output_type": "stream",
     "text": [
      "Logistic Regression Predictions for Custom Reviews:\n",
      "[0 1]\n",
      "Gradient Boosting Predictions for Custom Reviews:\n",
      "[0 1]\n",
      "SVM Predictions for Custom Reviews:\n",
      "[0 1]\n"
     ]
    }
   ],
   "source": [
    "# Define the models and their names\n",
    "models = [log_reg, grad_boost, svm]\n",
    "model_names = ['Logistic Regression', 'Gradient Boosting', 'SVM']\n",
    "\n",
    "\n",
    "# Custom reviews\n",
    "custom_reviews = [\n",
    "    \"This movie was awful!\",\n",
    "    \"I loved this movie!\"\n",
    "]\n",
    "\n",
    "# Transform the custom reviews using the vectorizer\n",
    "custom_reviews_vec = vectorizer.transform(custom_reviews)\n",
    "\n",
    "# Make predictions with all models\n",
    "for model, name in zip(models, model_names):\n",
    "    preds = model.predict(custom_reviews_vec)\n",
    "    print(f\"{name} Predictions for Custom Reviews:\")\n",
    "    print(preds)  # 0 for negative, 1 for positive\n"
   ]
  },
  {
   "cell_type": "markdown",
   "metadata": {},
   "source": [
    "### Observations: "
   ]
  },
  {
   "cell_type": "markdown",
   "metadata": {},
   "source": [
    "The results of testing the models with two custom reviews indicate that all three models — Logistic Regression, Gradient Boosting, and SVM — predicted the sentiment of the reviews correctly. Here's a detailed interpretation:\n",
    "\n",
    "Custom Reviews and Predictions\n",
    "\"This movie was awful!\"\n",
    "\n",
    "True Sentiment: Negative\n",
    "\n",
    "Predicted Sentiment: 0 (Negative) by all three models.\n",
    "Interpretation: Each model accurately identified the negative sentiment in this review, likely due to the presence of strong negative words like \"awful.\"\n",
    "\"I loved this movie!\"\n",
    "\n",
    "True Sentiment: Positive\n",
    "\n",
    "Predicted Sentiment: 1 (Positive) by all three models.\n",
    "Interpretation: The models correctly classified this review as positive, likely influenced by the strong positive word \"loved.\"\n",
    "\n",
    "\n",
    "Key Observations\n",
    "\n",
    "\n",
    "Model Agreement:\n",
    "\n",
    "All three models predicted the sentiment of both reviews correctly, demonstrating their ability to generalize well to unseen data with clear sentiment polarity.\n",
    "Sentiment Clarity:\n",
    "\n",
    "The custom reviews have unambiguous language with strong sentiment indicators (e.g., awful, loved). This clarity makes it easier for models to predict accurately.\n",
    "\n",
    "\n",
    "Performance Alignment:\n",
    "\n",
    "Despite differences in evaluation metrics (e.g., accuracy, F1-score) observed during testing, all models performed equally well on these simple examples. This suggests they are well-trained on explicit sentiment cues.\n",
    "\n",
    "\n",
    "Strengths\n",
    "Accurate Classification: The models demonstrate robustness in handling clear and straightforward sentiment expressions.\n",
    "Consistency: All three models agree on the predictions, reducing uncertainty in these cases.\n",
    "\n",
    "\n",
    "Potential Limitations\n",
    "Complex Reviews:\n",
    "If the reviews were more nuanced or contained mixed sentiments (e.g., \"The movie had great visuals, but the plot was boring\"), the models might struggle to make correct predictions.\n",
    "\n",
    "\n",
    "Over-reliance on Keywords:\n",
    "\n",
    "\n",
    "The results suggest that the models may heavily rely on explicit keywords for sentiment classification, which might lead to errors with subtle or context-dependent sentiments.\n"
   ]
  },
  {
   "cell_type": "markdown",
   "metadata": {},
   "source": [
    "### Another review"
   ]
  },
  {
   "cell_type": "code",
   "execution_count": 12,
   "metadata": {},
   "outputs": [
    {
     "name": "stdout",
     "output_type": "stream",
     "text": [
      "Logistic Regression Predictions for Custom Reviews:\n",
      "[0 0 1 0 0 0 0 1]\n",
      "Gradient Boosting Predictions for Custom Reviews:\n",
      "[1 1 1 1 1 1 0 1]\n",
      "SVM Predictions for Custom Reviews:\n",
      "[0 0 1 0 0 0 0 1]\n"
     ]
    }
   ],
   "source": [
    "# Custom reviews\n",
    "custom_reviews = [\n",
    "    \"I did not simply like it, not my kind of movie.\",\n",
    "    \"Well, I was bored and fell asleep in the middle of the movie.\",\n",
    "    \"I was really fascinated with the movie.\",\n",
    "    \"Even the actors looked really old and disinterested, and they got paid to be in the movie. What a soulless cash grab.\",\n",
    "    \"I didn't expect the reboot to be so good! Writers really cared about the source material.\",\n",
    "    \"The movie had its upsides and downsides, but I feel like overall it's a decent flick. I could see myself going to see it again.\",\n",
    "    \"What a rotten attempt at a comedy. Not a single joke lands, everyone acts annoying and loud, even kids won't like this!\",\n",
    "    \"Launching on Netflix was a brave move & I really appreciate being able to binge on episode after episode, of this exciting intelligent new drama.\"\n",
    "]\n",
    "\n",
    "# Transform the custom reviews using the vectorizer\n",
    "custom_reviews_vec = vectorizer.transform(custom_reviews)\n",
    "\n",
    "# Make predictions with all models\n",
    "for model, name in zip(models, model_names):\n",
    "    preds = model.predict(custom_reviews_vec)\n",
    "    print(f\"{name} Predictions for Custom Reviews:\")\n",
    "    print(preds)  # 0 for negative, 1 for positive\n"
   ]
  },
  {
   "cell_type": "markdown",
   "metadata": {},
   "source": [
    "### Observations:"
   ]
  },
  {
   "cell_type": "markdown",
   "metadata": {},
   "source": [
    "Interpretation of Model Predictions\n",
    "The models were tested on a set of custom reviews. Here’s a breakdown of their predictions and an interpretation:\n",
    "\n",
    "Logistic Regression Predictions:\n",
    "\n",
    "[0 0 1 0 0 0 0 1]\n",
    "\n",
    "Interpretation:\n",
    "\n",
    "Negative Sentiment (0): Reviews 1, 2, 4, 5, 6, and 7.\n",
    "Positive Sentiment (1): Reviews 3 and 8.\n",
    "Logistic Regression provides a balanced approach, detecting mostly negative reviews, which aligns with the overall sentiment of many inputs. It captures positivity for a few reviews with explicitly positive language.\n",
    "\n",
    "Gradient Boosting Predictions:\n",
    "\n",
    "\n",
    "[1 1 1 1 1 1 0 1]\n",
    "\n",
    "\n",
    "Interpretation:\n",
    "\n",
    "Negative Sentiment (0): Review 7.\n",
    "Positive Sentiment (1): Reviews 1, 2, 3, 4, 5, 6, and 8.\n",
    "Gradient Boosting leans heavily toward positive predictions, identifying only one negative review. This behavior suggests it may overfit or overly favor positive signals, perhaps due to the complexity of its decision boundaries.\n",
    "\n",
    "\n",
    "SVM Predictions:\n",
    "\n",
    "\n",
    "[0 0 1 0 0 0 0 1]\n",
    "\n",
    "\n",
    "Interpretation:\n",
    "\n",
    "Negative Sentiment (0): Reviews 1, 2, 4, 5, 6, and 7.\n",
    "Positive Sentiment (1): Reviews 3 and 8.\n",
    "SVM behaves similarly to Logistic Regression, identifying the same reviews as positive and negative. It provides a robust and conservative approach to classification.\n",
    "\n",
    "\n",
    "Key Observations\n",
    "Logistic Regression and SVM Consistency:\n",
    "Both models agree on the sentiment classification of all reviews, showing similar behavior in prediction. This indicates both models may generalize better than Gradient Boosting.\n",
    "\n",
    "Gradient Boosting Positivity Bias:\n",
    "\n",
    "Gradient Boosting exhibits a bias toward predicting positive sentiment, even for reviews with negative language (e.g., Reviews 1, 2, and 4). This could result from overfitting during training or insufficient handling of negative reviews.\n",
    "\n",
    "Edge Cases:\n",
    "Review 6 (“The movie had its upsides and downsides...”) reflects mixed sentiment. All three models label it differently:\n",
    "\n",
    "Logistic Regression & SVM: Negative.\n",
    "Gradient Boosting: Positive.\n",
    "This highlights the challenge of mixed reviews where sentiment is not strongly polarized.\n",
    "\n",
    "\n",
    "Conclusion\n",
    "Best Model: Logistic Regression and SVM provide more reliable results for detecting negative sentiment while still identifying positive reviews accurately.\n",
    "\n",
    "\n",
    "Gradient Boosting: May require further tuning to reduce its positive bias and better handle negative reviews.\n",
    "\n",
    "\n",
    "\n",
    "\n",
    "\n"
   ]
  },
  {
   "cell_type": "markdown",
   "metadata": {},
   "source": [
    "## Final Conclusion"
   ]
  },
  {
   "cell_type": "markdown",
   "metadata": {},
   "source": [
    "The task of classifying positive and negative movie reviews was successfully addressed using three machine learning models: Logistic Regression, Gradient Boosting, and Support Vector Machine (SVM). Each model was trained and evaluated on a dataset of IMDb reviews, achieving varying levels of performance based on key metrics.\n",
    "\n",
    "\n",
    "Summary of Model Performance:\n",
    "\n",
    "\n",
    "Logistic Regression\n",
    "\n",
    "\n",
    "Performance:\n",
    "\n",
    "\n",
    "Achieved the best overall accuracy (88%) and balanced F1-scores (88%) across both classes.\n",
    "Demonstrates consistent and reliable predictions for both positive and negative sentiments.\n",
    "\n",
    "\n",
    "Strengths:\n",
    "\n",
    "\n",
    "Strong balance between precision and recall.\n",
    "Handles both positive and negative sentiments effectively.\n",
    "Performs well on ambiguous reviews compared to Gradient Boosting.\n",
    "\n",
    "\n",
    "Limitations:\n",
    "While excellent overall, may still misclassify highly nuanced reviews.\n",
    "Best Use Case: A robust, interpretable model for general sentiment analysis.\n",
    "\n",
    "2. Gradient Boosting\n",
    "\n",
    "\n",
    "Performance:\n",
    "\n",
    "\n",
    "Overall accuracy (81%) and F1-scores (80%-82%) are lower than Logistic Regression and SVM.\n",
    "Shows a clear bias toward predicting positive sentiment.\n",
    "\n",
    "\n",
    "Strengths:\n",
    "Captures positive signals effectively, even from reviews with slight positivity.\n",
    "\n",
    "\n",
    "Limitations:\n",
    "\n",
    "Struggles with negative sentiment detection, often misclassifying ambiguous or clearly negative reviews.\n",
    "Likely requires fine-tuning to improve generalization.\n",
    "Best Use Case: When emphasis on detecting positive reviews is preferred.\n",
    "\n",
    "\n",
    "\n",
    "3. SVM (Support Vector Machine)\n",
    "\n",
    "Performance:\n",
    "\n",
    "\n",
    "Accuracy of 87%, slightly below Logistic Regression.\n",
    "Provides balanced F1-scores (87%) and consistent performance for both classes.\n",
    "\n",
    "\n",
    "Strengths:\n",
    "\n",
    "\n",
    "Similar robustness to Logistic Regression.\n",
    "Balances precision and recall well, without strong bias.\n",
    "\n",
    "\n",
    "Limitations:\n",
    "\n",
    "\n",
    "Computationally expensive for larger datasets.\n",
    "Slightly lower accuracy compared to Logistic Regression.\n",
    "Best Use Case: A reliable alternative to Logistic Regression when interpretability is less critical.\n",
    "\n",
    "\n",
    "Model Agreement and Discrepancies\n",
    "\n",
    "\n",
    "Logistic Regression and SVM showed consistent predictions, particularly for straightforward and nuanced reviews.\n",
    "Gradient Boosting displayed a noticeable positivity bias, overpredicting positive sentiment in cases where sentiment was negative or mixed.\n",
    "\n",
    "All models correctly classified simple reviews with strong sentiment cues, like “I loved this movie!” or “This movie was awful!”\n",
    "\n",
    "\n",
    "Conclusion:\n",
    "\n",
    "\n",
    "Logistic Regression emerges as the best model for this task, meeting the project's objective of achieving an F1-score ≥ 0.85. It provides a reliable balance between precision, recall, and computational efficiency, making it well-suited for detecting negative reviews in a balanced dataset. However, further tuning and exploration of more advanced techniques, such as deep learning models, may enhance performance for more nuanced or complex sentiment expressions.\n",
    "\n"
   ]
  }
 ],
 "metadata": {
  "ExecuteTimeLog": [
   {
    "duration": 2595,
    "start_time": "2024-12-04T22:19:39.300Z"
   },
   {
    "duration": 3,
    "start_time": "2024-12-04T22:19:41.897Z"
   },
   {
    "duration": 4,
    "start_time": "2024-12-04T22:19:41.901Z"
   },
   {
    "duration": 2,
    "start_time": "2024-12-04T22:19:41.908Z"
   },
   {
    "duration": 20,
    "start_time": "2024-12-04T22:19:41.912Z"
   },
   {
    "duration": 4,
    "start_time": "2024-12-04T22:19:41.934Z"
   },
   {
    "duration": 4,
    "start_time": "2024-12-04T22:19:41.940Z"
   },
   {
    "duration": 6,
    "start_time": "2024-12-04T22:19:41.946Z"
   },
   {
    "duration": 13,
    "start_time": "2024-12-04T22:19:41.954Z"
   },
   {
    "duration": 126,
    "start_time": "2024-12-04T22:19:41.971Z"
   },
   {
    "duration": 203,
    "start_time": "2024-12-04T22:19:42.099Z"
   },
   {
    "duration": 3,
    "start_time": "2024-12-04T22:19:42.303Z"
   },
   {
    "duration": 3,
    "start_time": "2024-12-04T22:19:42.308Z"
   },
   {
    "duration": 3,
    "start_time": "2024-12-04T22:19:42.312Z"
   },
   {
    "duration": 32,
    "start_time": "2024-12-04T22:19:42.316Z"
   },
   {
    "duration": 632,
    "start_time": "2024-12-04T22:19:42.349Z"
   },
   {
    "duration": 3,
    "start_time": "2024-12-04T22:19:42.983Z"
   },
   {
    "duration": 3,
    "start_time": "2024-12-04T22:19:42.988Z"
   },
   {
    "duration": 4,
    "start_time": "2024-12-04T22:19:42.992Z"
   },
   {
    "duration": 3,
    "start_time": "2024-12-04T22:19:42.998Z"
   },
   {
    "duration": 3,
    "start_time": "2024-12-04T22:19:43.002Z"
   },
   {
    "duration": 2,
    "start_time": "2024-12-04T22:19:43.008Z"
   },
   {
    "duration": 320,
    "start_time": "2024-12-04T22:19:43.012Z"
   },
   {
    "duration": 0,
    "start_time": "2024-12-04T22:19:43.334Z"
   },
   {
    "duration": 0,
    "start_time": "2024-12-04T22:19:43.336Z"
   },
   {
    "duration": 0,
    "start_time": "2024-12-04T22:19:43.337Z"
   },
   {
    "duration": 809,
    "start_time": "2024-12-04T22:19:53.388Z"
   },
   {
    "duration": 2,
    "start_time": "2024-12-04T22:19:54.199Z"
   },
   {
    "duration": 3,
    "start_time": "2024-12-04T22:19:54.203Z"
   },
   {
    "duration": 2,
    "start_time": "2024-12-04T22:19:54.209Z"
   },
   {
    "duration": 3,
    "start_time": "2024-12-04T22:19:54.212Z"
   },
   {
    "duration": 3,
    "start_time": "2024-12-04T22:19:54.232Z"
   },
   {
    "duration": 4,
    "start_time": "2024-12-04T22:19:54.237Z"
   },
   {
    "duration": 4,
    "start_time": "2024-12-04T22:19:54.242Z"
   },
   {
    "duration": 1,
    "start_time": "2024-12-04T22:19:54.249Z"
   },
   {
    "duration": 139,
    "start_time": "2024-12-04T22:19:54.253Z"
   },
   {
    "duration": 203,
    "start_time": "2024-12-04T22:19:54.394Z"
   },
   {
    "duration": 3,
    "start_time": "2024-12-04T22:19:54.598Z"
   },
   {
    "duration": 4,
    "start_time": "2024-12-04T22:19:54.602Z"
   },
   {
    "duration": 2,
    "start_time": "2024-12-04T22:19:54.607Z"
   },
   {
    "duration": 35,
    "start_time": "2024-12-04T22:19:54.611Z"
   },
   {
    "duration": 573,
    "start_time": "2024-12-04T22:19:54.648Z"
   },
   {
    "duration": 3,
    "start_time": "2024-12-04T22:19:55.223Z"
   },
   {
    "duration": 3,
    "start_time": "2024-12-04T22:19:55.228Z"
   },
   {
    "duration": 4,
    "start_time": "2024-12-04T22:19:55.232Z"
   },
   {
    "duration": 3,
    "start_time": "2024-12-04T22:19:55.237Z"
   },
   {
    "duration": 4,
    "start_time": "2024-12-04T22:19:55.241Z"
   },
   {
    "duration": 3,
    "start_time": "2024-12-04T22:19:55.246Z"
   },
   {
    "duration": 7,
    "start_time": "2024-12-04T22:19:55.250Z"
   },
   {
    "duration": 2,
    "start_time": "2024-12-04T22:19:55.259Z"
   },
   {
    "duration": 4,
    "start_time": "2024-12-04T22:19:55.262Z"
   },
   {
    "duration": 3,
    "start_time": "2024-12-04T22:19:55.267Z"
   },
   {
    "duration": 1556,
    "start_time": "2024-12-04T22:24:36.534Z"
   },
   {
    "duration": 676,
    "start_time": "2024-12-04T22:24:38.495Z"
   },
   {
    "duration": 4369,
    "start_time": "2024-12-04T22:26:00.265Z"
   },
   {
    "duration": 100,
    "start_time": "2024-12-04T22:26:39.184Z"
   },
   {
    "duration": 156,
    "start_time": "2024-12-04T22:27:04.778Z"
   },
   {
    "duration": 675613,
    "start_time": "2024-12-04T22:28:56.147Z"
   },
   {
    "duration": 12,
    "start_time": "2024-12-04T22:40:11.763Z"
   },
   {
    "duration": 168,
    "start_time": "2024-12-04T23:04:11.056Z"
   },
   {
    "duration": 5272,
    "start_time": "2024-12-04T23:04:24.253Z"
   },
   {
    "duration": 712,
    "start_time": "2024-12-04T23:04:29.528Z"
   },
   {
    "duration": 3,
    "start_time": "2024-12-04T23:04:30.242Z"
   },
   {
    "duration": 4268,
    "start_time": "2024-12-04T23:04:30.247Z"
   },
   {
    "duration": 115,
    "start_time": "2024-12-04T23:04:34.517Z"
   },
   {
    "duration": 166,
    "start_time": "2024-12-04T23:04:34.633Z"
   },
   {
    "duration": 306,
    "start_time": "2024-12-04T23:15:53.625Z"
   },
   {
    "duration": 43806,
    "start_time": "2024-12-04T23:15:53.933Z"
   },
   {
    "duration": 637286,
    "start_time": "2024-12-04T23:16:37.741Z"
   },
   {
    "duration": 11,
    "start_time": "2024-12-04T23:27:15.029Z"
   },
   {
    "duration": 3,
    "start_time": "2024-12-04T23:27:15.042Z"
   },
   {
    "duration": 4,
    "start_time": "2024-12-04T23:27:15.046Z"
   },
   {
    "duration": 2,
    "start_time": "2024-12-04T23:27:15.054Z"
   },
   {
    "duration": 3,
    "start_time": "2024-12-04T23:27:15.057Z"
   },
   {
    "duration": 4,
    "start_time": "2024-12-04T23:27:15.062Z"
   },
   {
    "duration": 3,
    "start_time": "2024-12-04T23:27:15.068Z"
   },
   {
    "duration": 3,
    "start_time": "2024-12-04T23:27:15.073Z"
   },
   {
    "duration": 3,
    "start_time": "2024-12-04T23:27:15.077Z"
   },
   {
    "duration": 4,
    "start_time": "2024-12-04T23:27:15.081Z"
   },
   {
    "duration": 4,
    "start_time": "2024-12-04T23:27:15.086Z"
   },
   {
    "duration": 3,
    "start_time": "2024-12-04T23:27:15.091Z"
   },
   {
    "duration": 37,
    "start_time": "2024-12-04T23:27:15.095Z"
   },
   {
    "duration": 2,
    "start_time": "2024-12-04T23:27:15.134Z"
   },
   {
    "duration": 27,
    "start_time": "2024-12-04T23:27:15.138Z"
   },
   {
    "duration": 3,
    "start_time": "2024-12-04T23:27:15.166Z"
   },
   {
    "duration": 2,
    "start_time": "2024-12-04T23:27:15.171Z"
   },
   {
    "duration": 4,
    "start_time": "2024-12-04T23:27:15.174Z"
   },
   {
    "duration": 4,
    "start_time": "2024-12-04T23:27:15.180Z"
   },
   {
    "duration": 3,
    "start_time": "2024-12-04T23:27:15.185Z"
   },
   {
    "duration": 3,
    "start_time": "2024-12-04T23:27:15.190Z"
   },
   {
    "duration": 3,
    "start_time": "2024-12-04T23:27:15.195Z"
   },
   {
    "duration": 3,
    "start_time": "2024-12-04T23:27:15.200Z"
   },
   {
    "duration": 28,
    "start_time": "2024-12-04T23:27:15.204Z"
   },
   {
    "duration": 3,
    "start_time": "2024-12-04T23:27:15.234Z"
   },
   {
    "duration": 3,
    "start_time": "2024-12-04T23:27:15.239Z"
   },
   {
    "duration": 3,
    "start_time": "2024-12-04T23:27:15.244Z"
   },
   {
    "duration": 24,
    "start_time": "2024-12-04T23:44:13.131Z"
   },
   {
    "duration": 3,
    "start_time": "2024-12-05T01:17:19.915Z"
   },
   {
    "duration": 5301,
    "start_time": "2024-12-05T01:22:10.232Z"
   },
   {
    "duration": 678,
    "start_time": "2024-12-05T01:22:15.536Z"
   },
   {
    "duration": 3,
    "start_time": "2024-12-05T01:22:16.216Z"
   },
   {
    "duration": 4216,
    "start_time": "2024-12-05T01:22:16.221Z"
   },
   {
    "duration": 106,
    "start_time": "2024-12-05T01:22:20.440Z"
   },
   {
    "duration": 159,
    "start_time": "2024-12-05T01:22:20.548Z"
   },
   {
    "duration": 306,
    "start_time": "2024-12-05T01:22:20.709Z"
   },
   {
    "duration": 43753,
    "start_time": "2024-12-05T01:22:21.017Z"
   },
   {
    "duration": 642243,
    "start_time": "2024-12-05T01:23:04.772Z"
   },
   {
    "duration": 493,
    "start_time": "2024-12-05T01:33:47.016Z"
   },
   {
    "duration": 0,
    "start_time": "2024-12-05T01:33:47.511Z"
   },
   {
    "duration": 14,
    "start_time": "2024-12-05T01:36:56.144Z"
   },
   {
    "duration": 23,
    "start_time": "2024-12-05T01:37:04.572Z"
   }
  ],
  "kernelspec": {
   "display_name": "Python 3 (ipykernel)",
   "language": "python",
   "name": "python3"
  },
  "language_info": {
   "codemirror_mode": {
    "name": "ipython",
    "version": 3
   },
   "file_extension": ".py",
   "mimetype": "text/x-python",
   "name": "python",
   "nbconvert_exporter": "python",
   "pygments_lexer": "ipython3",
   "version": "3.10.11"
  },
  "toc": {
   "base_numbering": 1,
   "nav_menu": {},
   "number_sections": true,
   "sideBar": true,
   "skip_h1_title": true,
   "title_cell": "Table of Contents",
   "title_sidebar": "Contents",
   "toc_cell": false,
   "toc_position": {},
   "toc_section_display": true,
   "toc_window_display": false
  }
 },
 "nbformat": 4,
 "nbformat_minor": 4
}
