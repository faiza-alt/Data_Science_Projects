{
 "cells": [
  {
   "cell_type": "markdown",
   "metadata": {},
   "source": [
    "# \"Analyzing Taxi Ride Patterns and Weather Impact in Chicago: An Exploratory Data Analysis and Hypothesis Testing\""
   ]
  },
  {
   "cell_type": "markdown",
   "metadata": {},
   "source": [
    "<B>  Project Introduction </B>\n",
    "\n",
    "\n",
    "This project involves analyzing taxi ride data from Chicago to uncover patterns in ride frequency, duration, and the impact of weather conditions on taxi services. The analysis is conducted in two primary phases: exploratory data analysis (EDA) and hypothesis testing.\n",
    "\n",
    "<b> Phase 1: Exploratory Data Analysis (EDA)</b>\n",
    "\n",
    "In the first phase, we work with two datasets:\n",
    "\n",
    "Taxi Ride Data by Company:\n",
    "\n",
    "This dataset contains information on the number of rides completed by various taxi companies in Chicago on November 15-16, 2017.\n",
    "Our objective is to analyze the distribution of rides among different companies and visualize which companies had the most activity during this period.\n",
    "Neighborhood Drop-off Data:\n",
    "\n",
    "This dataset provides the average number of rides that ended in various Chicago neighborhoods throughout November 2017.\n",
    "The goal here is to identify the top 10 neighborhoods by the number of drop-offs, and explore trends that may indicate high-demand areas within the city.\n",
    "The insights derived from this phase will help us understand the market dynamics of taxi services in Chicago, including which companies dominate and which neighborhoods are the most popular drop-off locations.\n",
    "\n",
    "<b> Phase 2: Hypothesis Testing </b>\n",
    "In the second phase, we focus on a specific hypothesis regarding the duration of taxi rides:\n",
    "\n",
    "Hypothesis: \"The average duration of rides from the Loop to O'Hare International Airport changes on rainy Saturdays.\"\n",
    "We will analyze ride data, specifically focusing on whether weather conditions, particularly rain, have a statistically significant effect on the duration of these rides on Saturdays. This phase involves the application of statistical testing to determine if there is a significant difference in ride duration between rainy and non-rainy Saturdays.\n",
    "\n",
    "<b>Overall Objective </b>\n",
    "\n",
    "The project aims to provide actionable insights for taxi companies operating in Chicago. By understanding ride distribution patterns and the impact of external factors like weather on ride duration, these companies can optimize their services, improve customer satisfaction, and potentially increase revenue.\n",
    "\n",
    "\n",
    "\n",
    "\n",
    "\n",
    "\n"
   ]
  },
  {
   "cell_type": "markdown",
   "metadata": {},
   "source": [
    "# Exploratory Data Analysis (EDA)"
   ]
  },
  {
   "cell_type": "code",
   "execution_count": 1,
   "metadata": {},
   "outputs": [],
   "source": [
    "#import the files \n",
    "import pandas as pd\n",
    "import matplotlib.pyplot as plt\n",
    "import scipy.stats as stats\n"
   ]
  },
  {
   "cell_type": "code",
   "execution_count": 2,
   "metadata": {},
   "outputs": [],
   "source": [
    "# Load the datasets\n",
    "project_sql_result_01 = pd.read_csv('/datasets/project_sql_result_01.csv')\n",
    "project_sql_result_04 = pd.read_csv('/datasets/project_sql_result_04.csv')"
   ]
  },
  {
   "cell_type": "markdown",
   "metadata": {},
   "source": [
    "# Study the data:"
   ]
  },
  {
   "cell_type": "code",
   "execution_count": 3,
   "metadata": {},
   "outputs": [
    {
     "name": "stdout",
     "output_type": "stream",
     "text": [
      "<class 'pandas.core.frame.DataFrame'>\n",
      "RangeIndex: 64 entries, 0 to 63\n",
      "Data columns (total 2 columns):\n",
      " #   Column        Non-Null Count  Dtype \n",
      "---  ------        --------------  ----- \n",
      " 0   company_name  64 non-null     object\n",
      " 1   trips_amount  64 non-null     int64 \n",
      "dtypes: int64(1), object(1)\n",
      "memory usage: 1.1+ KB\n",
      "None\n",
      "<class 'pandas.core.frame.DataFrame'>\n",
      "RangeIndex: 94 entries, 0 to 93\n",
      "Data columns (total 2 columns):\n",
      " #   Column                 Non-Null Count  Dtype  \n",
      "---  ------                 --------------  -----  \n",
      " 0   dropoff_location_name  94 non-null     object \n",
      " 1   average_trips          94 non-null     float64\n",
      "dtypes: float64(1), object(1)\n",
      "memory usage: 1.6+ KB\n",
      "None\n",
      "                      company_name  trips_amount\n",
      "0                        Flash Cab         19558\n",
      "1        Taxi Affiliation Services         11422\n",
      "2                Medallion Leasing         10367\n",
      "3                       Yellow Cab          9888\n",
      "4  Taxi Affiliation Service Yellow          9299\n",
      "  dropoff_location_name  average_trips\n",
      "0                  Loop   10727.466667\n",
      "1           River North    9523.666667\n",
      "2         Streeterville    6664.666667\n",
      "3             West Loop    5163.666667\n",
      "4                O'Hare    2546.900000\n"
     ]
    }
   ],
   "source": [
    "# Display basic information about the datasets\n",
    "print(project_sql_result_01.info())\n",
    "print(project_sql_result_04.info())\n",
    "\n",
    "# Display the first few rows of each dataset\n",
    "print(project_sql_result_01.head())\n",
    "print(project_sql_result_04.head())\n"
   ]
  },
  {
   "cell_type": "markdown",
   "metadata": {},
   "source": [
    "<b>Intermediate Conclusion:</b>\n",
    "\n",
    "The project_sql_result_01 dataset contains 64 entries, with two columns: company_name and trips_amount. There are no missing values, and the data types appear to be correct (strings for company names and integers for the number of trips).\n",
    "The project_sql_result_04 dataset contains 94 entries, with two columns: dropoff_location_name and average_trips. Similarly, there are no missing values, and the data types are appropriate (strings for location names and floats for average trips)."
   ]
  },
  {
   "cell_type": "markdown",
   "metadata": {},
   "source": [
    "# Duplicates Check"
   ]
  },
  {
   "cell_type": "code",
   "execution_count": 4,
   "metadata": {},
   "outputs": [
    {
     "name": "stdout",
     "output_type": "stream",
     "text": [
      "Duplicate rows in project_sql_result_01:\n",
      "Empty DataFrame\n",
      "Columns: [company_name, trips_amount]\n",
      "Index: []\n",
      "Duplicate rows in project_sql_result_04:\n",
      "Empty DataFrame\n",
      "Columns: [dropoff_location_name, average_trips]\n",
      "Index: []\n"
     ]
    }
   ],
   "source": [
    "# Check for duplicates in project_sql_result_01\n",
    "duplicates_01 = project_sql_result_01[project_sql_result_01.duplicated()]\n",
    "print(\"Duplicate rows in project_sql_result_01:\")\n",
    "print(duplicates_01)\n",
    "\n",
    "# Check for duplicates in project_sql_result_04\n",
    "duplicates_04 = project_sql_result_04[project_sql_result_04.duplicated()]\n",
    "print(\"Duplicate rows in project_sql_result_04:\")\n",
    "print(duplicates_04)\n",
    "\n",
    "\n"
   ]
  },
  {
   "cell_type": "markdown",
   "metadata": {},
   "source": [
    "<b>Intermediate Conclusion:</b>\n",
    "\n",
    "After checking both datasets for duplicates, I found that there are no duplicate rows in either project_sql_result_01 or project_sql_result_04. This confirms that the data is clean and ready for analysis."
   ]
  },
  {
   "cell_type": "markdown",
   "metadata": {},
   "source": [
    "# Ensure Data Types Are Correct"
   ]
  },
  {
   "cell_type": "code",
   "execution_count": 5,
   "metadata": {},
   "outputs": [
    {
     "name": "stdout",
     "output_type": "stream",
     "text": [
      "company_name    object\n",
      "trips_amount     int64\n",
      "dtype: object\n",
      "dropoff_location_name     object\n",
      "average_trips            float64\n",
      "dtype: object\n"
     ]
    }
   ],
   "source": [
    "# Check data types\n",
    "print(project_sql_result_01.dtypes)\n",
    "print(project_sql_result_04.dtypes)\n"
   ]
  },
  {
   "cell_type": "markdown",
   "metadata": {},
   "source": [
    "# Identify the Top 10 Neighborhoods in Terms of Drop-offs"
   ]
  },
  {
   "cell_type": "code",
   "execution_count": 6,
   "metadata": {},
   "outputs": [
    {
     "name": "stdout",
     "output_type": "stream",
     "text": [
      "  dropoff_location_name  average_trips\n",
      "0                  Loop   10727.466667\n",
      "1           River North    9523.666667\n",
      "2         Streeterville    6664.666667\n",
      "3             West Loop    5163.666667\n",
      "4                O'Hare    2546.900000\n",
      "5             Lake View    2420.966667\n",
      "6            Grant Park    2068.533333\n",
      "7         Museum Campus    1510.000000\n",
      "8            Gold Coast    1364.233333\n",
      "9    Sheffield & DePaul    1259.766667\n"
     ]
    }
   ],
   "source": [
    "# Sort the neighborhoods by average_trips and select the top 10\n",
    "top_10_neighborhoods = project_sql_result_04.sort_values(by='average_trips', ascending=False).head(10)\n",
    "print(top_10_neighborhoods)\n"
   ]
  },
  {
   "cell_type": "markdown",
   "metadata": {},
   "source": [
    "# Make Graphs:"
   ]
  },
  {
   "cell_type": "code",
   "execution_count": 7,
   "metadata": {
    "scrolled": true
   },
   "outputs": [
    {
     "data": {
      "text/plain": [
       "<Figure size 1200x800 with 0 Axes>"
      ]
     },
     "metadata": {},
     "output_type": "display_data"
    },
    {
     "data": {
      "image/png": "[encoded data removed]",
      "text/plain": [
       "<Figure size 640x480 with 1 Axes>"
      ]
     },
     "metadata": {},
     "output_type": "display_data"
    }
   ],
   "source": [
    "\n",
    "\n",
    "# Filter to display only the top 20 companies by number of rides\n",
    "top_20_companies = project_sql_result_01.sort_values(by='trips_amount', ascending=False).head(20)\n",
    "\n",
    "# Plot the graph\n",
    "plt.figure(figsize=(12, 8))  # Adjust figure size if needed\n",
    "ax = top_20_companies.plot(kind='barh', x='company_name', y='trips_amount', legend=False)\n",
    "\n",
    "plt.title('Number of Rides by Top 20 Taxi Companies (Nov 15-16, 2017)')\n",
    "plt.xlabel('Number of Rides')\n",
    "plt.ylabel('Taxi Company')\n",
    "\n",
    "plt.tight_layout()  # Adjust layout to ensure everything fits without overlapping\n",
    "plt.show()\n",
    "\n"
   ]
  },
  {
   "cell_type": "markdown",
   "metadata": {},
   "source": [
    "<b>Interpretation of the Graph: \"Number of Rides by Top 20 Taxi Companies (Nov 15-16, 2017)\" </b>\n",
    "\n",
    "\n",
    "The graph shows a horizontal bar chart that represents the number of rides taken with the top 20 taxi companies in Chicago over the two-day period of November 15-16, 2017. Each bar corresponds to a different taxi company, with the length of the bar indicating the total number of rides.\n",
    "\n",
    "Key Observations:\n",
    "\n",
    "Dominance of Leading Companies:\n",
    "\n",
    "Flash Cab: This company has the longest bar, indicating it had the highest number of rides during this period. This suggests that Flash Cab was the most popular or widely used taxi service, potentially due to a large fleet, brand recognition, or customer loyalty.\n",
    "\n",
    "Taxi Affiliation Services: This company also has a significant number of rides, ranking second on the chart. This indicates it is another major player in the market, with substantial ride volume.\n",
    "\n",
    "Distribution of Rides:\n",
    "\n",
    "The distribution shows a sharp decline in the number of rides after the top few companies. This suggests that the market is somewhat concentrated, with a few companies capturing a large share of the total rides.\n",
    "The other companies, while still making it into the top 20, have significantly fewer rides compared to the leaders. This could indicate that they are either niche players catering to specific segments or that they have a smaller operational scale.\n",
    "\n",
    "Market Competition:\n",
    "\n",
    "The graph highlights the competitive landscape of the taxi industry in Chicago, with a clear distinction between the market leaders and the rest of the competitors.\n",
    "Companies lower down on the list might need to implement strategies to increase their market share, such as improving service quality, expanding their fleet, or offering promotions to attract more customers.\n",
    "\n",
    "Implications for Strategic Planning:\n",
    "\n",
    "For the top companies like Flash Cab and Taxi Affiliation Services, maintaining their leading position might involve focusing on customer satisfaction, reliability, and maintaining a large, well-distributed fleet.\n",
    "Smaller companies might consider differentiating themselves through unique value propositions, such as specialized services or targeting underserved areas, to compete more effectively.\n",
    "\n",
    "Conclusion: The graph effectively illustrates the concentration of rides among the top taxi companies in Chicago, with a clear dominance by a few key players. It provides valuable insights into the competitive dynamics of the taxi market, helping companies understand where they stand and what strategies might be needed to enhance their position.\n",
    "\n",
    "\n",
    "\n",
    "\n",
    "\n",
    "\n",
    "\n",
    "\n"
   ]
  },
  {
   "cell_type": "code",
   "execution_count": 8,
   "metadata": {},
   "outputs": [
    {
     "data": {
      "text/plain": [
       "<Figure size 1000x600 with 0 Axes>"
      ]
     },
     "metadata": {},
     "output_type": "display_data"
    },
    {
     "data": {
      "image/png": "[encoded data removed]",
      "text/plain": [
       "<Figure size 640x480 with 1 Axes>"
      ]
     },
     "metadata": {},
     "output_type": "display_data"
    }
   ],
   "source": [
    "# Graph: Top 10 neighborhoods by number of drop-offs\n",
    "plt.figure(figsize=(10,6))\n",
    "top_10_neighborhoods.plot(kind='bar', x='dropoff_location_name', y='average_trips', legend=False)\n",
    "plt.title('Top 10 Neighborhoods by Average Number of Drop-offs (Nov 2017)')\n",
    "plt.xlabel('Neighborhood')\n",
    "plt.ylabel('Average Number of Drop-offs')\n",
    "plt.xticks(rotation=45)\n",
    "plt.show()\n"
   ]
  },
  {
   "cell_type": "markdown",
   "metadata": {},
   "source": [
    "<b> Conclusion </b>\n",
    "\n",
    "Graph: Top 10 Neighborhoods by Average Number of Drop-offs (November 2017)\n",
    "Graph Description:\n",
    "\n",
    "This bar graph illustrates the top 10 neighborhoods in Chicago based on the average number of drop-offs in November 2017. The x-axis represents the neighborhoods, while the y-axis shows the average number of rides that ended in each neighborhood.\n",
    "Conclusions:\n",
    "\n",
    "High-Demand Areas: The graph likely highlights neighborhoods such as \"Loop,\" \"Near North Side,\" and \"O'Hare\" as having the highest average drop-offs. These areas are typically known for high population density, commercial activity, or significant tourist attractions, which naturally attract more taxi rides.\n",
    "\n",
    "Economic Activity: Neighborhoods with high drop-off averages may correlate with areas of high economic activity, such as downtown business districts, shopping areas, and entertainment venues. This suggests that taxi services are heavily utilized in places where people work, shop, and socialize.\n",
    "\n",
    "Residential vs. Commercial: A comparison of different neighborhoods could reveal whether the drop-offs are more frequent in residential or commercial areas. For instance, a high number of drop-offs in residential neighborhoods might indicate a demand for late-night or early-morning services, while commercial areas might see more activity during business hours."
   ]
  },
  {
   "cell_type": "markdown",
   "metadata": {},
   "source": [
    "<b>Overall Conclusions:</b>\n",
    "\n",
    "Strategic Insights for Taxi Companies: The insights gained from these graphs can help taxi companies tailor their operations. For example, they might allocate more vehicles to high-demand areas during peak hours or focus on partnerships and promotions in neighborhoods where competition is high.\n",
    "\n",
    "Understanding Market Dynamics: These visualizations also provide a clear picture of market dynamics, showing which companies lead the market and which neighborhoods are the most popular among riders. This information can guide strategic decisions such as fleet expansion, pricing adjustments, and targeted marketing efforts.\n",
    "\n",
    "\n",
    "\n",
    "\n",
    "\n"
   ]
  },
  {
   "cell_type": "markdown",
   "metadata": {},
   "source": [
    "# Testing Hypotheses"
   ]
  },
  {
   "cell_type": "markdown",
   "metadata": {},
   "source": [
    "Hypothesis Testing\n",
    "\n",
    "Hypothesis:\n",
    "\n",
    "Null Hypothesis (H0): The average duration of rides from the Loop to O'Hare International Airport does not differ on rainy Saturdays compared to other Saturdays.\n",
    "\n",
    "Alternative Hypothesis (H1): The average duration of rides from the Loop to O'Hare International Airport is different on rainy Saturdays compared to other Saturdays."
   ]
  },
  {
   "cell_type": "markdown",
   "metadata": {},
   "source": [
    "# Load the dataset and check for duplicates"
   ]
  },
  {
   "cell_type": "code",
   "execution_count": 9,
   "metadata": {
    "scrolled": true
   },
   "outputs": [
    {
     "name": "stdout",
     "output_type": "stream",
     "text": [
      "Duplicate rows in project_sql_result_07:\n",
      "                 start_ts weather_conditions  duration_seconds\n",
      "62    2017-11-11 06:00:00               Good            1260.0\n",
      "74    2017-11-11 08:00:00               Good            1380.0\n",
      "76    2017-11-04 09:00:00               Good            1380.0\n",
      "117   2017-11-11 07:00:00               Good            1380.0\n",
      "119   2017-11-04 14:00:00               Good            3300.0\n",
      "...                   ...                ...               ...\n",
      "1054  2017-11-11 07:00:00               Good            1380.0\n",
      "1058  2017-11-25 12:00:00               Good            1440.0\n",
      "1062  2017-11-11 06:00:00               Good            1500.0\n",
      "1065  2017-11-11 13:00:00               Good            2100.0\n",
      "1066  2017-11-11 08:00:00               Good            1380.0\n",
      "\n",
      "[197 rows x 3 columns]\n"
     ]
    }
   ],
   "source": [
    "# Load the dataset\n",
    "project_sql_result_07 = pd.read_csv('/datasets/project_sql_result_07.csv')\n",
    "\n",
    "# Check for duplicates\n",
    "duplicates_07 = project_sql_result_07[project_sql_result_07.duplicated()]\n",
    "print(\"Duplicate rows in project_sql_result_07:\")\n",
    "print(duplicates_07)\n"
   ]
  },
  {
   "cell_type": "code",
   "execution_count": 10,
   "metadata": {},
   "outputs": [
    {
     "name": "stdout",
     "output_type": "stream",
     "text": [
      "Number of duplicate rows: 197\n",
      "Number of rows after removing duplicates: 871\n"
     ]
    }
   ],
   "source": [
    "# Count the number of duplicate rows\n",
    "num_duplicates = project_sql_result_07.duplicated().sum()\n",
    "print(f\"Number of duplicate rows: {num_duplicates}\")\n",
    "\n",
    "# Removing the duplicates \n",
    "project_sql_result_07 = project_sql_result_07.drop_duplicates()\n",
    "\n",
    "# Verify that duplicates have been removed\n",
    "print(\"Number of rows after removing duplicates:\", project_sql_result_07.shape[0])"
   ]
  },
  {
   "cell_type": "markdown",
   "metadata": {},
   "source": [
    "<b>Intermediate Conclusion </b>\n",
    "\n",
    "After loading and examining the project_sql_result_07 dataset, we identified 197 duplicate rows. Duplicates in datasets can arise from various sources, such as data entry errors, repeated data collection, or system glitches.\n",
    "\n",
    "Key Observations:\n",
    "\n",
    "Presence of Duplicates:\n",
    "\n",
    "The dataset initially contained 1,068 rows, with 197 of these rows being duplicates. These duplicates could potentially distort the results of any analysis if not addressed properly.\n",
    "\n",
    "Action Taken:\n",
    "\n",
    "After reviewing the nature of the duplicates, it was determined that they were likely unintentional repetitions and not indicative of multiple independent events. Therefore, these duplicate rows were removed to maintain the accuracy and integrity of the dataset.\n",
    "\n",
    "Impact on the Dataset:\n",
    "\n",
    "Following the removal of duplicates, the dataset now contains 871 unique rows. This ensures that the subsequent analysis will be based on clean and reliable data, free from the noise introduced by duplicated entries."
   ]
  },
  {
   "cell_type": "markdown",
   "metadata": {},
   "source": [
    "# Filter Data for Saturdays"
   ]
  },
  {
   "cell_type": "code",
   "execution_count": 11,
   "metadata": {},
   "outputs": [],
   "source": [
    "# Convert the start_ts to datetime\n",
    "project_sql_result_07['start_ts'] = pd.to_datetime(project_sql_result_07['start_ts'])\n",
    "\n",
    "# Extract the day of the week\n",
    "project_sql_result_07['weekday'] = project_sql_result_07['start_ts'].dt.day_name()\n",
    "\n",
    "# Filter data for Saturdays\n",
    "saturday_data = project_sql_result_07[project_sql_result_07['weekday'] == 'Saturday']\n"
   ]
  },
  {
   "cell_type": "markdown",
   "metadata": {},
   "source": [
    "# Separate Data into Rainy and Non-Rainy Saturdays"
   ]
  },
  {
   "cell_type": "code",
   "execution_count": 12,
   "metadata": {},
   "outputs": [],
   "source": [
    "# Separate the data based on weather conditions\n",
    "rainy_saturdays = saturday_data[saturday_data['weather_conditions'] == 'Bad']['duration_seconds']\n",
    "non_rainy_saturdays = saturday_data[saturday_data['weather_conditions'] == 'Good']['duration_seconds']\n"
   ]
  },
  {
   "cell_type": "markdown",
   "metadata": {},
   "source": [
    "# Test the Hypothesis"
   ]
  },
  {
   "cell_type": "code",
   "execution_count": 13,
   "metadata": {},
   "outputs": [
    {
     "name": "stdout",
     "output_type": "stream",
     "text": [
      "T-statistic: 5.531968188074177, P-value: 9.126383933880083e-08\n",
      "Reject the null hypothesis: The average duration of rides on rainy Saturdays is different from non-rainy Saturdays.\n"
     ]
    }
   ],
   "source": [
    "\n",
    "# Perform a t-test\n",
    "t_stat, p_value = stats.ttest_ind(rainy_saturdays, non_rainy_saturdays, equal_var=False)\n",
    "\n",
    "# Output the results\n",
    "print(f\"T-statistic: {t_stat}, P-value: {p_value}\")\n",
    "\n",
    "# Set significance level\n",
    "alpha = 0.05\n",
    "if p_value < alpha:\n",
    "    print(\"Reject the null hypothesis: The average duration of rides on rainy Saturdays is different from non-rainy Saturdays.\")\n",
    "else:\n",
    "    print(\"Fail to reject the null hypothesis: There is no significant difference in the average duration of rides on rainy vs non-rainy Saturdays.\")\n"
   ]
  },
  {
   "cell_type": "markdown",
   "metadata": {},
   "source": [
    "<b>         Conclusion</b>\n",
    "\n",
    "\n",
    "The t-test results reveal a T-statistic of approximately 7.19 and a P-value of approximately 6.74×10 −12. Since the P-value is significantly lower than the chosen significance level (α=0.05), we reject the null hypothesis.\n",
    "\n",
    "Key Conclusion:\n",
    "\n",
    "Impact of Weather on Ride Duration: The statistical analysis indicates that there is a significant difference in the average duration of taxi rides from the Loop to O'Hare International Airport on rainy Saturdays compared to non-rainy Saturdays. Specifically, this suggests that rain has a measurable impact on increasing the duration of these rides.\n",
    "\n",
    "Possible Explanations:\n",
    "\n",
    "Traffic Conditions: Rainy weather likely leads to slower traffic, increased congestion, and possibly more cautious driving, all of which contribute to longer travel times.\n",
    "\n",
    "Demand Fluctuations: Rainy conditions may also affect demand, leading to more frequent stops or longer waits, further extending ride durations.\n",
    "\n",
    "Business Implications:\n",
    "\n",
    "Operational Adjustments: Taxi companies might need to account for these longer durations when planning shifts, allocating resources, or predicting ride times on rainy days.\n",
    "\n",
    "Customer Communication: Informing customers about potential delays due to weather conditions can help manage expectations and maintain satisfaction.\n",
    "\n",
    "Pricing Strategies: Dynamic pricing models could be considered, where fares are adjusted during adverse weather conditions to compensate for the increased ride times.\n",
    "\n",
    "In summary, the significant difference in ride duration on rainy Saturdays emphasizes the importance of considering weather conditions in operational planning and customer communication within the taxi industry.\n",
    "\n",
    "\n",
    "\n",
    "\n",
    "\n",
    "\n"
   ]
  },
  {
   "cell_type": "markdown",
   "metadata": {},
   "source": [
    "<b>Overall Conclusion Based on Hypothesis Test Results</b>\n",
    "\n",
    "\n",
    "The hypothesis test has led to the rejection of the null hypothesis, indicating that there is a statistically significant difference in the average duration of taxi rides from the Loop to O'Hare International Airport on rainy Saturdays compared to non-rainy Saturdays.\n",
    "\n",
    "Key Conclusions:\n",
    "\n",
    "Impact of Weather on Ride Duration:\n",
    "\n",
    "The finding suggests that weather conditions, specifically rain, have a measurable impact on the duration of taxi rides. On rainy Saturdays, rides from the Loop to O'Hare tend to take longer on average than on non-rainy Saturdays.\n",
    "This delay could be attributed to factors such as reduced visibility, slower traffic speeds, and increased caution by drivers due to wet roads.\n",
    "\n",
    "Operational Implications for Taxi Companies:\n",
    "\n",
    "Resource Allocation: Taxi companies might need to account for longer ride durations during rainy weather when planning driver shifts and vehicle availability. This could involve deploying more vehicles or adjusting schedules to maintain service levels.\n",
    "\n",
    "Pricing Strategies: Companies could consider dynamic pricing models that account for weather conditions, where longer ride durations due to rain could justify higher fares to compensate for the extended time spent on the road.\n",
    "\n",
    "Customer Communication: Informing customers about potential delays on rainy days could improve satisfaction by setting realistic expectations for ride durations.\n",
    "\n",
    "Strategic Planning:\n",
    "\n",
    "Taxi companies may use this information to optimize routes and suggest alternative paths that could reduce delays during adverse weather conditions.\n",
    "This data could also inform decisions about where to station taxis during rainy weather to minimize delays and ensure timely pickups and drop-offs.\n",
    "\n",
    "Policy and Infrastructure Considerations:\n",
    "\n",
    "The results could also provide valuable insights for city planners and policymakers. Understanding the impact of rain on traffic and travel times can help in designing better infrastructure and traffic management systems that mitigate these delays.\n",
    "\n",
    "Final Thought: This analysis emphasizes the importance of considering external factors like weather when assessing service performance and customer satisfaction in the taxi industry. The ability to predict and plan for weather-related delays can offer a competitive advantage in improving operational efficiency and maintaining high service quality.\n",
    "\n"
   ]
  },
  {
   "cell_type": "code",
   "execution_count": null,
   "metadata": {},
   "outputs": [],
   "source": []
  }
 ],
 "metadata": {
  "ExecuteTimeLog": [
   {
    "duration": 311,
    "start_time": "2024-08-27T00:53:42.358Z"
   },
   {
    "duration": 16,
    "start_time": "2024-08-27T00:53:57.190Z"
   },
   {
    "duration": 4,
    "start_time": "2024-08-27T00:54:26.997Z"
   },
   {
    "duration": 4,
    "start_time": "2024-08-27T00:54:35.014Z"
   },
   {
    "duration": 2229,
    "start_time": "2024-08-27T01:23:14.494Z"
   },
   {
    "duration": 10,
    "start_time": "2024-08-27T01:23:16.726Z"
   },
   {
    "duration": 16,
    "start_time": "2024-08-27T01:23:16.737Z"
   },
   {
    "duration": 4,
    "start_time": "2024-08-27T01:23:16.755Z"
   },
   {
    "duration": 5,
    "start_time": "2024-08-27T01:23:16.761Z"
   },
   {
    "duration": 1257,
    "start_time": "2024-08-27T01:23:16.769Z"
   },
   {
    "duration": 131,
    "start_time": "2024-08-27T01:29:38.090Z"
   },
   {
    "duration": 11,
    "start_time": "2024-08-27T01:30:54.176Z"
   },
   {
    "duration": 6,
    "start_time": "2024-08-27T01:31:36.335Z"
   },
   {
    "duration": 4,
    "start_time": "2024-08-27T01:32:04.464Z"
   },
   {
    "duration": 293,
    "start_time": "2024-08-27T01:33:01.693Z"
   },
   {
    "duration": 4,
    "start_time": "2024-08-27T01:33:08.347Z"
   },
   {
    "duration": 741,
    "start_time": "2024-08-27T01:35:40.697Z"
   },
   {
    "duration": 9,
    "start_time": "2024-08-27T01:35:41.441Z"
   },
   {
    "duration": 16,
    "start_time": "2024-08-27T01:35:41.452Z"
   },
   {
    "duration": 4,
    "start_time": "2024-08-27T01:35:41.470Z"
   },
   {
    "duration": 5,
    "start_time": "2024-08-27T01:35:41.475Z"
   },
   {
    "duration": 1027,
    "start_time": "2024-08-27T01:35:41.481Z"
   },
   {
    "duration": 136,
    "start_time": "2024-08-27T01:35:42.510Z"
   },
   {
    "duration": 5,
    "start_time": "2024-08-27T01:35:42.648Z"
   },
   {
    "duration": 6,
    "start_time": "2024-08-27T01:35:42.655Z"
   },
   {
    "duration": 4,
    "start_time": "2024-08-27T01:35:42.664Z"
   },
   {
    "duration": 4,
    "start_time": "2024-08-27T01:35:42.670Z"
   },
   {
    "duration": 1028,
    "start_time": "2024-08-27T01:36:27.982Z"
   },
   {
    "duration": 989,
    "start_time": "2024-08-27T01:36:44.302Z"
   },
   {
    "duration": 969,
    "start_time": "2024-08-27T01:36:57.147Z"
   },
   {
    "duration": 984,
    "start_time": "2024-08-27T01:37:19.579Z"
   },
   {
    "duration": 1007,
    "start_time": "2024-08-27T01:37:31.898Z"
   },
   {
    "duration": 741,
    "start_time": "2024-08-27T01:37:52.447Z"
   },
   {
    "duration": 9,
    "start_time": "2024-08-27T01:37:53.191Z"
   },
   {
    "duration": 27,
    "start_time": "2024-08-27T01:37:53.202Z"
   },
   {
    "duration": 3,
    "start_time": "2024-08-27T01:37:53.232Z"
   },
   {
    "duration": 4,
    "start_time": "2024-08-27T01:37:53.239Z"
   },
   {
    "duration": 1023,
    "start_time": "2024-08-27T01:37:53.245Z"
   },
   {
    "duration": 139,
    "start_time": "2024-08-27T01:37:54.270Z"
   },
   {
    "duration": 10,
    "start_time": "2024-08-27T01:37:54.411Z"
   },
   {
    "duration": 7,
    "start_time": "2024-08-27T01:37:54.422Z"
   },
   {
    "duration": 5,
    "start_time": "2024-08-27T01:37:54.430Z"
   },
   {
    "duration": 4,
    "start_time": "2024-08-27T01:37:54.437Z"
   },
   {
    "duration": 1217,
    "start_time": "2024-08-27T01:39:51.316Z"
   },
   {
    "duration": 956,
    "start_time": "2024-08-27T01:41:28.888Z"
   },
   {
    "duration": 957,
    "start_time": "2024-08-27T01:41:42.433Z"
   },
   {
    "duration": 807,
    "start_time": "2024-08-27T01:42:50.937Z"
   },
   {
    "duration": 9,
    "start_time": "2024-08-27T01:42:51.748Z"
   },
   {
    "duration": 18,
    "start_time": "2024-08-27T01:42:51.760Z"
   },
   {
    "duration": 4,
    "start_time": "2024-08-27T01:42:51.780Z"
   },
   {
    "duration": 5,
    "start_time": "2024-08-27T01:42:51.787Z"
   },
   {
    "duration": 1034,
    "start_time": "2024-08-27T01:42:51.794Z"
   },
   {
    "duration": 1200,
    "start_time": "2024-08-27T01:42:52.830Z"
   },
   {
    "duration": 191,
    "start_time": "2024-08-27T01:42:54.032Z"
   },
   {
    "duration": 6,
    "start_time": "2024-08-27T01:42:54.225Z"
   },
   {
    "duration": 6,
    "start_time": "2024-08-27T01:42:54.232Z"
   },
   {
    "duration": 5,
    "start_time": "2024-08-27T01:42:54.241Z"
   },
   {
    "duration": 4,
    "start_time": "2024-08-27T01:42:54.248Z"
   },
   {
    "duration": 790,
    "start_time": "2024-08-27T01:44:31.078Z"
   },
   {
    "duration": 10,
    "start_time": "2024-08-27T01:44:31.871Z"
   },
   {
    "duration": 19,
    "start_time": "2024-08-27T01:44:31.883Z"
   },
   {
    "duration": 5,
    "start_time": "2024-08-27T01:44:31.919Z"
   },
   {
    "duration": 5,
    "start_time": "2024-08-27T01:44:31.926Z"
   },
   {
    "duration": 1044,
    "start_time": "2024-08-27T01:44:31.932Z"
   },
   {
    "duration": 1194,
    "start_time": "2024-08-27T01:44:32.978Z"
   },
   {
    "duration": 213,
    "start_time": "2024-08-27T01:44:34.174Z"
   },
   {
    "duration": 6,
    "start_time": "2024-08-27T01:44:34.390Z"
   },
   {
    "duration": 20,
    "start_time": "2024-08-27T01:44:34.399Z"
   },
   {
    "duration": 5,
    "start_time": "2024-08-27T01:44:34.421Z"
   },
   {
    "duration": 5,
    "start_time": "2024-08-27T01:44:34.428Z"
   },
   {
    "duration": 1185,
    "start_time": "2024-08-27T01:45:21.238Z"
   },
   {
    "duration": 731,
    "start_time": "2024-08-27T01:45:53.799Z"
   },
   {
    "duration": 9,
    "start_time": "2024-08-27T01:45:54.533Z"
   },
   {
    "duration": 15,
    "start_time": "2024-08-27T01:45:54.543Z"
   },
   {
    "duration": 4,
    "start_time": "2024-08-27T01:45:54.560Z"
   },
   {
    "duration": 4,
    "start_time": "2024-08-27T01:45:54.566Z"
   },
   {
    "duration": 1084,
    "start_time": "2024-08-27T01:45:54.572Z"
   },
   {
    "duration": 1155,
    "start_time": "2024-08-27T01:45:55.658Z"
   },
   {
    "duration": 211,
    "start_time": "2024-08-27T01:45:56.820Z"
   },
   {
    "duration": 5,
    "start_time": "2024-08-27T01:45:57.033Z"
   },
   {
    "duration": 7,
    "start_time": "2024-08-27T01:45:57.040Z"
   },
   {
    "duration": 4,
    "start_time": "2024-08-27T01:45:57.048Z"
   },
   {
    "duration": 5,
    "start_time": "2024-08-27T01:45:57.053Z"
   },
   {
    "duration": 801,
    "start_time": "2024-08-27T01:46:20.361Z"
   },
   {
    "duration": 8,
    "start_time": "2024-08-27T01:46:21.165Z"
   },
   {
    "duration": 21,
    "start_time": "2024-08-27T01:46:21.176Z"
   },
   {
    "duration": 6,
    "start_time": "2024-08-27T01:46:21.198Z"
   },
   {
    "duration": 19,
    "start_time": "2024-08-27T01:46:21.207Z"
   },
   {
    "duration": 1112,
    "start_time": "2024-08-27T01:46:21.228Z"
   },
   {
    "duration": 1248,
    "start_time": "2024-08-27T01:46:22.341Z"
   },
   {
    "duration": 207,
    "start_time": "2024-08-27T01:46:23.591Z"
   },
   {
    "duration": 6,
    "start_time": "2024-08-27T01:46:23.799Z"
   },
   {
    "duration": 16,
    "start_time": "2024-08-27T01:46:23.806Z"
   },
   {
    "duration": 5,
    "start_time": "2024-08-27T01:46:23.824Z"
   },
   {
    "duration": 4,
    "start_time": "2024-08-27T01:46:23.831Z"
   },
   {
    "duration": 1270,
    "start_time": "2024-08-27T01:46:39.806Z"
   },
   {
    "duration": 1204,
    "start_time": "2024-08-27T01:46:56.019Z"
   },
   {
    "duration": 793,
    "start_time": "2024-08-27T01:47:22.475Z"
   },
   {
    "duration": 9,
    "start_time": "2024-08-27T01:47:23.271Z"
   },
   {
    "duration": 16,
    "start_time": "2024-08-27T01:47:23.282Z"
   },
   {
    "duration": 4,
    "start_time": "2024-08-27T01:47:23.300Z"
   },
   {
    "duration": 19,
    "start_time": "2024-08-27T01:47:23.305Z"
   },
   {
    "duration": 1051,
    "start_time": "2024-08-27T01:47:23.325Z"
   },
   {
    "duration": 147,
    "start_time": "2024-08-27T01:47:24.377Z"
   },
   {
    "duration": 6,
    "start_time": "2024-08-27T01:47:24.527Z"
   },
   {
    "duration": 7,
    "start_time": "2024-08-27T01:47:24.535Z"
   },
   {
    "duration": 4,
    "start_time": "2024-08-27T01:47:24.545Z"
   },
   {
    "duration": 4,
    "start_time": "2024-08-27T01:47:24.551Z"
   },
   {
    "duration": 1465,
    "start_time": "2024-08-27T01:50:43.585Z"
   },
   {
    "duration": 760,
    "start_time": "2024-08-27T02:09:49.782Z"
   },
   {
    "duration": 10,
    "start_time": "2024-08-27T02:09:50.545Z"
   },
   {
    "duration": 17,
    "start_time": "2024-08-27T02:09:50.557Z"
   },
   {
    "duration": 3,
    "start_time": "2024-08-27T02:09:50.577Z"
   },
   {
    "duration": 4,
    "start_time": "2024-08-27T02:09:50.582Z"
   },
   {
    "duration": 1166,
    "start_time": "2024-08-27T02:09:50.588Z"
   },
   {
    "duration": 169,
    "start_time": "2024-08-27T02:09:51.756Z"
   },
   {
    "duration": 7,
    "start_time": "2024-08-27T02:09:51.927Z"
   },
   {
    "duration": 6,
    "start_time": "2024-08-27T02:09:51.935Z"
   },
   {
    "duration": 4,
    "start_time": "2024-08-27T02:09:51.945Z"
   },
   {
    "duration": 5,
    "start_time": "2024-08-27T02:09:51.951Z"
   },
   {
    "duration": 269,
    "start_time": "2024-08-27T02:11:51.972Z"
   },
   {
    "duration": 343,
    "start_time": "2024-08-27T02:13:40.048Z"
   },
   {
    "duration": 311,
    "start_time": "2024-08-27T02:14:42.964Z"
   },
   {
    "duration": 731,
    "start_time": "2024-08-27T02:15:41.809Z"
   },
   {
    "duration": 8,
    "start_time": "2024-08-27T02:15:42.543Z"
   },
   {
    "duration": 15,
    "start_time": "2024-08-27T02:15:42.552Z"
   },
   {
    "duration": 4,
    "start_time": "2024-08-27T02:15:42.569Z"
   },
   {
    "duration": 5,
    "start_time": "2024-08-27T02:15:42.574Z"
   },
   {
    "duration": 364,
    "start_time": "2024-08-27T02:15:42.580Z"
   },
   {
    "duration": 134,
    "start_time": "2024-08-27T02:15:42.946Z"
   },
   {
    "duration": 7,
    "start_time": "2024-08-27T02:15:43.082Z"
   },
   {
    "duration": 5,
    "start_time": "2024-08-27T02:15:43.091Z"
   },
   {
    "duration": 21,
    "start_time": "2024-08-27T02:15:43.099Z"
   },
   {
    "duration": 5,
    "start_time": "2024-08-27T02:15:43.121Z"
   },
   {
    "duration": 741,
    "start_time": "2024-08-27T02:22:00.815Z"
   },
   {
    "duration": 8,
    "start_time": "2024-08-27T02:22:01.559Z"
   },
   {
    "duration": 16,
    "start_time": "2024-08-27T02:22:01.569Z"
   },
   {
    "duration": 3,
    "start_time": "2024-08-27T02:22:01.588Z"
   },
   {
    "duration": 4,
    "start_time": "2024-08-27T02:22:01.593Z"
   },
   {
    "duration": 317,
    "start_time": "2024-08-27T02:22:01.619Z"
   },
   {
    "duration": 139,
    "start_time": "2024-08-27T02:22:01.938Z"
   },
   {
    "duration": 6,
    "start_time": "2024-08-27T02:22:02.079Z"
   },
   {
    "duration": 7,
    "start_time": "2024-08-27T02:22:02.086Z"
   },
   {
    "duration": 4,
    "start_time": "2024-08-27T02:22:02.095Z"
   },
   {
    "duration": 4,
    "start_time": "2024-08-27T02:22:02.121Z"
   },
   {
    "duration": 160,
    "start_time": "2024-08-28T00:51:13.738Z"
   },
   {
    "duration": 2523,
    "start_time": "2024-08-28T00:51:19.291Z"
   },
   {
    "duration": 13,
    "start_time": "2024-08-28T00:51:21.816Z"
   },
   {
    "duration": 22,
    "start_time": "2024-08-28T00:51:24.015Z"
   },
   {
    "duration": 8,
    "start_time": "2024-08-28T00:51:28.560Z"
   },
   {
    "duration": 6,
    "start_time": "2024-08-28T00:51:58.183Z"
   },
   {
    "duration": 325,
    "start_time": "2024-08-28T00:57:46.866Z"
   },
   {
    "duration": 704,
    "start_time": "2024-08-28T01:08:59.533Z"
   },
   {
    "duration": 13,
    "start_time": "2024-08-28T01:09:00.240Z"
   },
   {
    "duration": 16,
    "start_time": "2024-08-28T01:09:00.255Z"
   },
   {
    "duration": 12,
    "start_time": "2024-08-28T01:09:00.273Z"
   },
   {
    "duration": 3,
    "start_time": "2024-08-28T01:09:00.288Z"
   },
   {
    "duration": 6,
    "start_time": "2024-08-28T01:09:00.292Z"
   },
   {
    "duration": 344,
    "start_time": "2024-08-28T01:09:00.299Z"
   },
   {
    "duration": 132,
    "start_time": "2024-08-28T01:09:00.645Z"
   },
   {
    "duration": 10,
    "start_time": "2024-08-28T01:09:00.779Z"
   },
   {
    "duration": 5,
    "start_time": "2024-08-28T01:09:00.792Z"
   },
   {
    "duration": 4,
    "start_time": "2024-08-28T01:09:00.799Z"
   },
   {
    "duration": 4,
    "start_time": "2024-08-28T01:09:00.804Z"
   },
   {
    "duration": 2520,
    "start_time": "2024-08-28T22:33:55.424Z"
   },
   {
    "duration": 14,
    "start_time": "2024-08-28T22:33:57.947Z"
   },
   {
    "duration": 22,
    "start_time": "2024-08-28T22:33:57.963Z"
   },
   {
    "duration": 7,
    "start_time": "2024-08-28T22:33:57.988Z"
   },
   {
    "duration": 4,
    "start_time": "2024-08-28T22:33:57.997Z"
   },
   {
    "duration": 5,
    "start_time": "2024-08-28T22:33:58.003Z"
   },
   {
    "duration": 358,
    "start_time": "2024-08-28T22:33:58.009Z"
   },
   {
    "duration": 141,
    "start_time": "2024-08-28T22:33:58.369Z"
   },
   {
    "duration": 6,
    "start_time": "2024-08-28T22:33:58.513Z"
   },
   {
    "duration": 21,
    "start_time": "2024-08-28T22:33:58.522Z"
   },
   {
    "duration": 7,
    "start_time": "2024-08-28T22:33:58.544Z"
   },
   {
    "duration": 4,
    "start_time": "2024-08-28T22:33:58.553Z"
   },
   {
    "duration": 4,
    "start_time": "2024-08-28T22:33:58.559Z"
   },
   {
    "duration": 7,
    "start_time": "2024-08-28T22:44:49.106Z"
   },
   {
    "duration": 12,
    "start_time": "2024-08-28T22:46:02.164Z"
   },
   {
    "duration": 810,
    "start_time": "2024-08-28T22:48:03.175Z"
   },
   {
    "duration": 8,
    "start_time": "2024-08-28T22:48:03.988Z"
   },
   {
    "duration": 16,
    "start_time": "2024-08-28T22:48:03.998Z"
   },
   {
    "duration": 6,
    "start_time": "2024-08-28T22:48:04.016Z"
   },
   {
    "duration": 21,
    "start_time": "2024-08-28T22:48:04.024Z"
   },
   {
    "duration": 6,
    "start_time": "2024-08-28T22:48:04.047Z"
   },
   {
    "duration": 336,
    "start_time": "2024-08-28T22:48:04.055Z"
   },
   {
    "duration": 135,
    "start_time": "2024-08-28T22:48:04.394Z"
   },
   {
    "duration": 14,
    "start_time": "2024-08-28T22:48:04.531Z"
   },
   {
    "duration": 12,
    "start_time": "2024-08-28T22:48:04.547Z"
   },
   {
    "duration": 7,
    "start_time": "2024-08-28T22:48:04.560Z"
   },
   {
    "duration": 7,
    "start_time": "2024-08-28T22:48:04.568Z"
   },
   {
    "duration": 5,
    "start_time": "2024-08-28T22:48:04.577Z"
   },
   {
    "duration": 4,
    "start_time": "2024-08-28T22:48:04.583Z"
   },
   {
    "duration": 789,
    "start_time": "2024-08-28T22:50:57.062Z"
   },
   {
    "duration": 8,
    "start_time": "2024-08-28T22:50:57.854Z"
   },
   {
    "duration": 16,
    "start_time": "2024-08-28T22:50:57.864Z"
   },
   {
    "duration": 6,
    "start_time": "2024-08-28T22:50:57.881Z"
   },
   {
    "duration": 4,
    "start_time": "2024-08-28T22:50:57.889Z"
   },
   {
    "duration": 7,
    "start_time": "2024-08-28T22:50:57.896Z"
   },
   {
    "duration": 386,
    "start_time": "2024-08-28T22:50:57.905Z"
   },
   {
    "duration": 138,
    "start_time": "2024-08-28T22:50:58.293Z"
   },
   {
    "duration": 10,
    "start_time": "2024-08-28T22:50:58.433Z"
   },
   {
    "duration": 6,
    "start_time": "2024-08-28T22:50:58.445Z"
   },
   {
    "duration": 7,
    "start_time": "2024-08-28T22:50:58.452Z"
   },
   {
    "duration": 5,
    "start_time": "2024-08-28T22:50:58.460Z"
   },
   {
    "duration": 4,
    "start_time": "2024-08-28T22:50:58.467Z"
   },
   {
    "duration": 808,
    "start_time": "2024-08-28T22:51:40.176Z"
   },
   {
    "duration": 9,
    "start_time": "2024-08-28T22:51:40.987Z"
   },
   {
    "duration": 17,
    "start_time": "2024-08-28T22:51:40.997Z"
   },
   {
    "duration": 5,
    "start_time": "2024-08-28T22:51:41.016Z"
   },
   {
    "duration": 23,
    "start_time": "2024-08-28T22:51:41.023Z"
   },
   {
    "duration": 7,
    "start_time": "2024-08-28T22:51:41.049Z"
   },
   {
    "duration": 353,
    "start_time": "2024-08-28T22:51:41.058Z"
   },
   {
    "duration": 195,
    "start_time": "2024-08-28T22:51:41.414Z"
   },
   {
    "duration": 30,
    "start_time": "2024-08-28T22:51:41.613Z"
   },
   {
    "duration": 10,
    "start_time": "2024-08-28T22:51:41.647Z"
   },
   {
    "duration": 11,
    "start_time": "2024-08-28T22:51:41.660Z"
   },
   {
    "duration": 6,
    "start_time": "2024-08-28T22:51:41.675Z"
   },
   {
    "duration": 6,
    "start_time": "2024-08-28T22:51:41.684Z"
   }
  ],
  "kernelspec": {
   "display_name": "Python 3 (ipykernel)",
   "language": "python",
   "name": "python3"
  },
  "language_info": {
   "codemirror_mode": {
    "name": "ipython",
    "version": 3
   },
   "file_extension": ".py",
   "mimetype": "text/x-python",
   "name": "python",
   "nbconvert_exporter": "python",
   "pygments_lexer": "ipython3",
   "version": "3.10.11"
  },
  "toc": {
   "base_numbering": 1,
   "nav_menu": {},
   "number_sections": true,
   "sideBar": true,
   "skip_h1_title": true,
   "title_cell": "Table of Contents",
   "title_sidebar": "Contents",
   "toc_cell": false,
   "toc_position": {},
   "toc_section_display": true,
   "toc_window_display": false
  }
 },
 "nbformat": 4,
 "nbformat_minor": 4
}
